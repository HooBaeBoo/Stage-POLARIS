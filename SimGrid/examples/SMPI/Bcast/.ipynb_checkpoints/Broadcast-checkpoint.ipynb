{
 "cells": [
  {
   "cell_type": "markdown",
   "metadata": {},
   "source": [
    "# Broadcast"
   ]
  },
  {
   "cell_type": "markdown",
   "metadata": {},
   "source": [
    "### But : Faire un broadcast, départ décalé \n"
   ]
  },
  {
   "cell_type": "markdown",
   "metadata": {},
   "source": [
    "#### Informations générales"
   ]
  },
  {
   "cell_type": "code",
   "execution_count": 38,
   "metadata": {},
   "outputs": [],
   "source": [
    "experiment_name = \"Bcast\""
   ]
  },
  {
   "cell_type": "code",
   "execution_count": 39,
   "metadata": {},
   "outputs": [
    {
     "name": "stderr",
     "output_type": "stream",
     "text": [
      "Python 2.7.13\n"
     ]
    }
   ],
   "source": [
    "%%bash -s\n",
    "python --version"
   ]
  },
  {
   "cell_type": "markdown",
   "metadata": {},
   "source": [
    "#### Préparation de l'environnement"
   ]
  },
  {
   "cell_type": "code",
   "execution_count": 40,
   "metadata": {},
   "outputs": [
    {
     "name": "stdout",
     "output_type": "stream",
     "text": [
      "Collecting execo\n",
      "Installing collected packages: execo\n",
      "Successfully installed execo-2.6.3\n"
     ]
    }
   ],
   "source": [
    "%%bash -s\n",
    "pip3 install --user execo"
   ]
  },
  {
   "cell_type": "code",
   "execution_count": 42,
   "metadata": {},
   "outputs": [],
   "source": [
    "import execo\n",
    "from execo import *\n",
    "from execo_g5k import *\n",
    "from execo_engine import *\n",
    "import os\n",
    "import sys\n",
    "import json\n",
    "import time\n",
    "import datetime\n",
    "import re\n",
    "from shutil import copy\n",
    "from subprocess import check_output"
   ]
  },
  {
   "cell_type": "markdown",
   "metadata": {},
   "source": [
    "##### Réservation noeuds"
   ]
  },
  {
   "cell_type": "code",
   "execution_count": null,
   "metadata": {},
   "outputs": [],
   "source": [
    "# Nom du job\n",
    "jobname = ' '\n",
    "# Nombre de noeuds\n",
    "nodecount = 5\n",
    "# Temps réservation\n",
    "walltime = \"6:0:0\" \n",
    "\n",
    "# filters out Nancy's graphene cluster (buggy)\n",
    "resources_selection = \"-p \\\"cluster != 'graphene'\\\"\" \n",
    "\n",
    "# Nancy\n",
    "site = \"nancy\""
   ]
  },
  {
   "cell_type": "code",
   "execution_count": null,
   "metadata": {},
   "outputs": [],
   "source": [
    "jobs = get_current_oar_jobs()\n",
    "jobid = None\n",
    "waiting_jobs = []\n",
    "while jobs:\n",
    "    j, site = jobs.pop()\n",
    "    info = get_oar_job_info(j, site)\n",
    "    if info['name'] == jobname:\n",
    "        if info['state'] == 'Running':\n",
    "            jobid = j\n",
    "            print(\"A {} job is already running, using it. jobid is {}\".format(jobname, jobid))\n",
    "            break\n",
    "        else:\n",
    "            waiting_jobs.append(j)\n",
    "if not jobid and not waiting_jobs:\n",
    "    jobspec = OarSubmission(resources=\"/cluster=1/nodes={}\".format(nodecount), walltime=walltime,\n",
    "                            additional_options=resources_selection, job_type=\"deploy\", name=jobname)\n",
    "    jobid, _ = oarsub([(jobspec, site)]).pop()\n",
    "    print(\"New job submitted, jobid is {}\".format(jobid))\n",
    "elif not jobid:\n",
    "    print(\"One or more {} jobs exist ({}) but are not running.\\n\"\n",
    "          \" Connect to the frontend to see what is happening, and/or run the cell again.\".format(\n",
    "          jobname, \", \".join([str(j) for j in waiting_jobs])))"
   ]
  },
  {
   "cell_type": "markdown",
   "metadata": {},
   "source": [
    "On les range"
   ]
  },
  {
   "cell_type": "code",
   "execution_count": null,
   "metadata": {},
   "outputs": [],
   "source": [
    "nodes = get_oar_job_nodes(jobid)\n",
    "nodes.sort(key=lambda n: n.address)\n",
    "nodes"
   ]
  },
  {
   "cell_type": "markdown",
   "metadata": {},
   "source": [
    "##### Déploiement de l'environnement"
   ]
  },
  {
   "cell_type": "code",
   "execution_count": null,
   "metadata": {},
   "outputs": [],
   "source": [
    "force_redeploy = False # set to True to force redeploying the OS on the nodes in the deployment section\n",
    "environment_dsc_file = '../../../../../EP/debian9-x64-bigdata-tutorial.yaml' # filename of the kadeploy environment file (YAML)"
   ]
  },
  {
   "cell_type": "code",
   "execution_count": null,
   "metadata": {
    "scrolled": true
   },
   "outputs": [],
   "source": [
    "deployment = Deployment(hosts=nodes, env_file = os.path.abspath(environment_dsc_file),\n",
    "                        other_options=\"-r ext4 --no-debug-mode\")\n",
    "\n",
    "deploy_ok, deploy_failed = deploy(deployment, check_deployed_command=not force_redeploy,\n",
    "                              stdout_handlers=[sys.stdout],\n",
    "                              stderr_handlers=[sys.stderr])"
   ]
  },
  {
   "cell_type": "markdown",
   "metadata": {},
   "source": [
    "#### Test : commande simple 'ls'"
   ]
  },
  {
   "cell_type": "code",
   "execution_count": null,
   "metadata": {},
   "outputs": [],
   "source": [
    "# execo.action.Remote(cmd,hosts,connection_params,process_args)\n",
    "Remote_test = execo.action.Remote(cmd='ls',hosts=nodes,connection_params=None, process_args=None)\n",
    "Remote_test.run().ok"
   ]
  },
  {
   "cell_type": "markdown",
   "metadata": {},
   "source": [
    "#### Installation environnement sur noeud"
   ]
  },
  {
   "cell_type": "code",
   "execution_count": null,
   "metadata": {},
   "outputs": [],
   "source": [
    "Remote_install = execo.action.Remote(cmd='apt-get install g++ libboost-all-dev && wget http://gforge.inria.fr/frs/download.php/latestfile/8/SimGrid-3.18.tar.gz && tar -xvf SimGrid-3.18.tar.gz && cd SimGrid-3.18 && cmake -DCMAKE_INSTALL_PREFIX=/usr/local -Denable_smpi=on -Denable_documentation=off && make -j && make check && make install -j',hosts=nodes,connection_params={'user':'root'})"
   ]
  },
  {
   "cell_type": "code",
   "execution_count": null,
   "metadata": {},
   "outputs": [],
   "source": [
    "Remote_install.run().ok"
   ]
  },
  {
   "cell_type": "code",
   "execution_count": null,
   "metadata": {},
   "outputs": [],
   "source": [
    "path = \"~/Stage-POLARIS/SimGrid/examples/SMPI/\"+experiment_name+'/src/'"
   ]
  },
  {
   "cell_type": "markdown",
   "metadata": {},
   "source": [
    "#### Récupération fichiers sources"
   ]
  },
  {
   "cell_type": "code",
   "execution_count": 45,
   "metadata": {},
   "outputs": [
    {
     "data": {
      "text/plain": [
       "True"
      ]
     },
     "execution_count": 45,
     "metadata": {},
     "output_type": "execute_result"
    }
   ],
   "source": [
    "execo.action.Remote(cmd='mkdir -p experiments_src',hosts=nodes,connection_params={'user':'root'}).run().ok"
   ]
  },
  {
   "cell_type": "code",
   "execution_count": 46,
   "metadata": {},
   "outputs": [
    {
     "name": "stdout",
     "output_type": "stream",
     "text": [
      "2018-05-24 13:58:02,588 \u001b[36mWARNING:\u001b[m terminated: <Process('scp -o BatchMode=yes -o PasswordAuthentication=no -o StrictHostKeyChecking=no -o UserKnownHostsFile=/dev/null -o ConnectTimeout=20 -rp -o User=root ~/Stage-POLARIS/SimGrid/examples/SMPI/Bcast/griffon.xml ~/Stage-POLARIS/SimGrid/examples/SMPI/Bcast/griffon_hostfile.txt ~/Stage-POLARIS/SimGrid/examples/SMPI/Bcast/broadcast.c ~/Stage-POLARIS/SimGrid/examples/SMPI/Bcast/Makefile grisou-1.nancy.grid5000.fr:~/experiments_src', shell=True, name=scp -o BatchMode=yes -o PasswordAuth..., started=True, start_date=2018-05-24 13:58:02+02:00, ended=True, end_date=2018-05-24 13:58:02+02:00, killed=False, error=False, error_reason=None, timeouted=False, expect_fail=False, write_error=False, exit_code=256, ok=False, pid=463)>\n",
      "stdout:\n",
      "\n",
      "stderr:\n",
      "Warning: Permanently added 'grisou-1.nancy.grid5000.fr,172.16.72.1' (RSA) to the list of known hosts.\n",
      "/home/nezzine/Stage-POLARIS/SimGrid/examples/SMPI/Bcast/griffon.xml: No such file or directory\n",
      "/home/nezzine/Stage-POLARIS/SimGrid/examples/SMPI/Bcast/griffon_hostfile.txt: No such file or directory\n",
      "/home/nezzine/Stage-POLARIS/SimGrid/examples/SMPI/Bcast/broadcast.c: No such file or directory\n",
      "/home/nezzine/Stage-POLARIS/SimGrid/examples/SMPI/Bcast/Makefile: No such file or directory\n",
      "\n",
      "2018-05-24 13:58:02,630 \u001b[36mWARNING:\u001b[m terminated: <Process('scp -o BatchMode=yes -o PasswordAuthentication=no -o StrictHostKeyChecking=no -o UserKnownHostsFile=/dev/null -o ConnectTimeout=20 -rp -o User=root ~/Stage-POLARIS/SimGrid/examples/SMPI/Bcast/griffon.xml ~/Stage-POLARIS/SimGrid/examples/SMPI/Bcast/griffon_hostfile.txt ~/Stage-POLARIS/SimGrid/examples/SMPI/Bcast/broadcast.c ~/Stage-POLARIS/SimGrid/examples/SMPI/Bcast/Makefile grisou-11.nancy.grid5000.fr:~/experiments_src', shell=True, name=scp -o BatchMode=yes -o PasswordAuth..., started=True, start_date=2018-05-24 13:58:02+02:00, ended=True, end_date=2018-05-24 13:58:02+02:00, killed=False, error=False, error_reason=None, timeouted=False, expect_fail=False, write_error=False, exit_code=256, ok=False, pid=465)>\n",
      "stdout:\n",
      "\n",
      "stderr:\n",
      "Warning: Permanently added 'grisou-11.nancy.grid5000.fr,172.16.72.11' (RSA) to the list of known hosts.\n",
      "/home/nezzine/Stage-POLARIS/SimGrid/examples/SMPI/Bcast/griffon.xml: No such file or directory\n",
      "/home/nezzine/Stage-POLARIS/SimGrid/examples/SMPI/Bcast/griffon_hostfile.txt: No such file or directory\n",
      "/home/nezzine/Stage-POLARIS/SimGrid/examples/SMPI/Bcast/broadcast.c: No such file or directory\n",
      "/home/nezzine/Stage-POLARIS/SimGrid/examples/SMPI/Bcast/Makefile: No such file or directory\n",
      "\n",
      "2018-05-24 13:58:02,659 \u001b[36mWARNING:\u001b[m terminated: <Process('scp -o BatchMode=yes -o PasswordAuthentication=no -o StrictHostKeyChecking=no -o UserKnownHostsFile=/dev/null -o ConnectTimeout=20 -rp -o User=root ~/Stage-POLARIS/SimGrid/examples/SMPI/Bcast/griffon.xml ~/Stage-POLARIS/SimGrid/examples/SMPI/Bcast/griffon_hostfile.txt ~/Stage-POLARIS/SimGrid/examples/SMPI/Bcast/broadcast.c ~/Stage-POLARIS/SimGrid/examples/SMPI/Bcast/Makefile grisou-12.nancy.grid5000.fr:~/experiments_src', shell=True, name=scp -o BatchMode=yes -o PasswordAuth..., started=True, start_date=2018-05-24 13:58:02+02:00, ended=True, end_date=2018-05-24 13:58:02+02:00, killed=False, error=False, error_reason=None, timeouted=False, expect_fail=False, write_error=False, exit_code=256, ok=False, pid=467)>\n",
      "stdout:\n",
      "\n",
      "stderr:\n",
      "Warning: Permanently added 'grisou-12.nancy.grid5000.fr,172.16.72.12' (RSA) to the list of known hosts.\n",
      "/home/nezzine/Stage-POLARIS/SimGrid/examples/SMPI/Bcast/griffon.xml: No such file or directory\n",
      "/home/nezzine/Stage-POLARIS/SimGrid/examples/SMPI/Bcast/griffon_hostfile.txt: No such file or directory\n",
      "/home/nezzine/Stage-POLARIS/SimGrid/examples/SMPI/Bcast/broadcast.c: No such file or directory\n",
      "/home/nezzine/Stage-POLARIS/SimGrid/examples/SMPI/Bcast/Makefile: No such file or directory\n",
      "\n",
      "2018-05-24 13:58:02,696 \u001b[36mWARNING:\u001b[m terminated: <Process('scp -o BatchMode=yes -o PasswordAuthentication=no -o StrictHostKeyChecking=no -o UserKnownHostsFile=/dev/null -o ConnectTimeout=20 -rp -o User=root ~/Stage-POLARIS/SimGrid/examples/SMPI/Bcast/griffon.xml ~/Stage-POLARIS/SimGrid/examples/SMPI/Bcast/griffon_hostfile.txt ~/Stage-POLARIS/SimGrid/examples/SMPI/Bcast/broadcast.c ~/Stage-POLARIS/SimGrid/examples/SMPI/Bcast/Makefile grisou-14.nancy.grid5000.fr:~/experiments_src', shell=True, name=scp -o BatchMode=yes -o PasswordAuth..., started=True, start_date=2018-05-24 13:58:02+02:00, ended=True, end_date=2018-05-24 13:58:02+02:00, killed=False, error=False, error_reason=None, timeouted=False, expect_fail=False, write_error=False, exit_code=256, ok=False, pid=470)>\n",
      "stdout:\n",
      "\n",
      "stderr:\n",
      "Warning: Permanently added 'grisou-14.nancy.grid5000.fr,172.16.72.14' (RSA) to the list of known hosts.\n",
      "/home/nezzine/Stage-POLARIS/SimGrid/examples/SMPI/Bcast/griffon.xml: No such file or directory\n",
      "/home/nezzine/Stage-POLARIS/SimGrid/examples/SMPI/Bcast/griffon_hostfile.txt: No such file or directory\n",
      "/home/nezzine/Stage-POLARIS/SimGrid/examples/SMPI/Bcast/broadcast.c: No such file or directory\n",
      "/home/nezzine/Stage-POLARIS/SimGrid/examples/SMPI/Bcast/Makefile: No such file or directory\n",
      "\n",
      "2018-05-24 13:58:02,743 \u001b[36mWARNING:\u001b[m terminated: <Process('scp -o BatchMode=yes -o PasswordAuthentication=no -o StrictHostKeyChecking=no -o UserKnownHostsFile=/dev/null -o ConnectTimeout=20 -rp -o User=root ~/Stage-POLARIS/SimGrid/examples/SMPI/Bcast/griffon.xml ~/Stage-POLARIS/SimGrid/examples/SMPI/Bcast/griffon_hostfile.txt ~/Stage-POLARIS/SimGrid/examples/SMPI/Bcast/broadcast.c ~/Stage-POLARIS/SimGrid/examples/SMPI/Bcast/Makefile grisou-15.nancy.grid5000.fr:~/experiments_src', shell=True, name=scp -o BatchMode=yes -o PasswordAuth..., started=True, start_date=2018-05-24 13:58:02+02:00, ended=True, end_date=2018-05-24 13:58:02+02:00, killed=False, error=False, error_reason=None, timeouted=False, expect_fail=False, write_error=False, exit_code=256, ok=False, pid=472)>\n",
      "stdout:\n",
      "\n",
      "stderr:\n",
      "Warning: Permanently added 'grisou-15.nancy.grid5000.fr,172.16.72.15' (RSA) to the list of known hosts.\n",
      "/home/nezzine/Stage-POLARIS/SimGrid/examples/SMPI/Bcast/griffon.xml: No such file or directory\n",
      "/home/nezzine/Stage-POLARIS/SimGrid/examples/SMPI/Bcast/griffon_hostfile.txt: No such file or directory\n",
      "/home/nezzine/Stage-POLARIS/SimGrid/examples/SMPI/Bcast/broadcast.c: No such file or directory\n",
      "/home/nezzine/Stage-POLARIS/SimGrid/examples/SMPI/Bcast/Makefile: No such file or directory\n",
      "\n"
     ]
    },
    {
     "data": {
      "text/plain": [
       "False"
      ]
     },
     "execution_count": 46,
     "metadata": {},
     "output_type": "execute_result"
    }
   ],
   "source": [
    "Remote_smpi_env = execo.action.Put(hosts=nodes,local_files=[path+\"griffon.xml\",path+\"griffon_hostfile.txt\",path+\"broadcast.c\",path+\"Makefile\"],remote_location='~/experiments_src',connection_params={'user':'root'})\n",
    "Remote_smpi_env.run().ok"
   ]
  },
  {
   "cell_type": "markdown",
   "metadata": {},
   "source": [
    "#### Execution de l'expérience"
   ]
  },
  {
   "cell_type": "code",
   "execution_count": null,
   "metadata": {},
   "outputs": [],
   "source": [
    "Remote_smpi = execo.action.Remote(cmd ='cd ~/experiments_src && make && make run NPROCS=2',hosts=nodes,connection_params={'user':'root'})\n",
    "Remote_smpi.run().ok"
   ]
  },
  {
   "cell_type": "markdown",
   "metadata": {},
   "source": [
    "#### Récupération des résultats"
   ]
  },
  {
   "cell_type": "code",
   "execution_count": null,
   "metadata": {},
   "outputs": [],
   "source": [
    "execo.Process(cmd='mkdir -p /home/nezzine/Stage-POLARIS/SimGrid/examples/SMPI/'+experiment_name+'/results/'+datetime.datetime.now().strftime(\"%Y-%m-%d\")).run().ok"
   ]
  },
  {
   "cell_type": "code",
   "execution_count": null,
   "metadata": {
    "scrolled": true
   },
   "outputs": [],
   "source": [
    "for i in range(0,nodecount) :\n",
    "    execo.action.Get(hosts=nodes[i],remote_files=[\"~/experiments_src/bcast_results.txt\"], local_location='~/Stage-POLARIS/results/'+datetime.datetime.now().strftime(\"%Y-%m-%d\")+'/'+get_host_shortname(nodes[i])+'_'+datetime.datetime.now().strftime(\"%Y-%m-%d_%H:%M\")+'.txt',connection_params={'user':'root'}).run().ok"
   ]
  },
  {
   "cell_type": "markdown",
   "metadata": {},
   "source": [
    "#### Fin d'expérience : suppression du job"
   ]
  },
  {
   "cell_type": "code",
   "execution_count": null,
   "metadata": {},
   "outputs": [],
   "source": [
    "oardel(jobid)"
   ]
  },
  {
   "cell_type": "markdown",
   "metadata": {},
   "source": [
    "#### Publication des résultats"
   ]
  },
  {
   "cell_type": "code",
   "execution_count": null,
   "metadata": {},
   "outputs": [],
   "source": [
    "%%bash -s\n",
    "git add Bcast/*\n",
    "git commit"
   ]
  }
 ],
 "metadata": {
  "kernelspec": {
   "display_name": "Python 3",
   "language": "python",
   "name": "python3"
  },
  "language_info": {
   "codemirror_mode": {
    "name": "ipython",
    "version": 3
   },
   "file_extension": ".py",
   "mimetype": "text/x-python",
   "name": "python",
   "nbconvert_exporter": "python",
   "pygments_lexer": "ipython3",
   "version": "3.5.3"
  }
 },
 "nbformat": 4,
 "nbformat_minor": 2
}
