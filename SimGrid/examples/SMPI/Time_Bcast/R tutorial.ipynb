{
 "cells": [
  {
   "cell_type": "markdown",
   "metadata": {},
   "source": [
    "# R tutorial : rpy2"
   ]
  },
  {
   "cell_type": "markdown",
   "metadata": {},
   "source": [
    "Sources : \n",
    "\n",
    "https://rpy2.readthedocs.io/en/version_2.8.x/introduction.html\n",
    "\n",
    "http://simgrid.gforge.inria.fr/contrib/R_visualization.php"
   ]
  },
  {
   "cell_type": "markdown",
   "metadata": {},
   "source": [
    "#### Installation"
   ]
  },
  {
   "cell_type": "code",
   "execution_count": 2,
   "metadata": {},
   "outputs": [
    {
     "name": "stdout",
     "output_type": "stream",
     "text": [
      "Collecting rpy2==2.8.6\n",
      "Collecting six (from rpy2==2.8.6)\n",
      "  Using cached https://files.pythonhosted.org/packages/67/4b/141a581104b1f6397bfa78ac9d43d8ad29a7ca43ea90a2d863fe3056e86a/six-1.11.0-py2.py3-none-any.whl\n",
      "Installing collected packages: six, rpy2\n",
      "Successfully installed rpy2-2.9.3 six-1.11.0\n",
      "R version 3.3.3 (2017-03-06) -- \"Another Canoe\"\n",
      "Copyright (C) 2017 The R Foundation for Statistical Computing\n",
      "Platform: x86_64-pc-linux-gnu (64-bit)\n",
      "\n",
      "R is free software and comes with ABSOLUTELY NO WARRANTY.\n",
      "You are welcome to redistribute it under the terms of the\n",
      "GNU General Public License versions 2 or 3.\n",
      "For more information about these matters see\n",
      "http://www.gnu.org/licenses/.\n",
      "\n"
     ]
    }
   ],
   "source": [
    "%%bash -s\n",
    "# More recent versions are not compatible with python < 3\n",
    "pip3 install --user rpy2==2.8.6\n",
    "R --version"
   ]
  },
  {
   "cell_type": "markdown",
   "metadata": {},
   "source": [
    "### The hard way"
   ]
  },
  {
   "cell_type": "code",
   "execution_count": 3,
   "metadata": {},
   "outputs": [
    {
     "name": "stdout",
     "output_type": "stream",
     "text": [
      "2.8.6\n"
     ]
    }
   ],
   "source": [
    "import rpy2\n",
    "from rpy2 import *\n",
    "print(rpy2.__version__)"
   ]
  },
  {
   "cell_type": "markdown",
   "metadata": {},
   "source": [
    "##### Installation paquets"
   ]
  },
  {
   "cell_type": "code",
   "execution_count": 5,
   "metadata": {
    "scrolled": true
   },
   "outputs": [],
   "source": [
    "# import rpy2's package module\n",
    "import rpy2.robjects.packages as rpackages\n",
    "import rpy2.robjects as robjects\n",
    "\n",
    "from rpy2.robjects.packages import importr\n",
    "from rpy2.robjects.vectors import StrVector\n",
    "\n",
    "# import R's utility package\n",
    "utils = rpackages.importr('utils')\n",
    "\n",
    "# select a mirror for R packages\n",
    "utils.chooseCRANmirror(ind=1) # select the first mirror in the list\n",
    "\n",
    "# R package names\n",
    "packnames = ('ggplot2', 'dplyr', 'tidyr','hexbin')\n",
    "\n",
    "# R vector of strings\n",
    "from rpy2.robjects.vectors import StrVector\n",
    "\n",
    "# Selectively install what needs to be install.\n",
    "# We are fancy, just because we can.\n",
    "names_to_install = [x for x in packnames if not rpackages.isinstalled(x)]\n",
    "if len(names_to_install) > 0:\n",
    "    utils.install_packages(StrVector(names_to_install))"
   ]
  },
  {
   "cell_type": "code",
   "execution_count": 6,
   "metadata": {
    "scrolled": true
   },
   "outputs": [
    {
     "name": "stdout",
     "output_type": "stream",
     "text": [
      "[1] \"a-b-c-d-e-f-g-h-i-j-k-l-m-n-o-p-q-r-s-t-u-v-w-x-y-z\"\n",
      "\n"
     ]
    },
    {
     "data": {
      "text/plain": [
       "rpy2.rinterface.NULL"
      ]
     },
     "execution_count": 6,
     "metadata": {},
     "output_type": "execute_result"
    }
   ],
   "source": [
    "# import R's \"base\" package\n",
    "base = importr('base')\n",
    "\n",
    "# import R's \"utils\" package\n",
    "utils = importr('utils')\n",
    "packnames = ('ggplot2', 'dplyr', 'tidyr','hexbin')\n",
    "\n",
    "# R vector of strings\n",
    "from rpy2.robjects.vectors import StrVector\n",
    "\n",
    "# Selectively install what needs to be install.\n",
    "# We are fancy, just because we can.\n",
    "\n",
    "pi = robjects.r['pi']\n",
    "pi[0]\n",
    "letters = robjects.r['letters']\n",
    "rcode = 'paste(%s, collapse=\"-\")' %(letters.r_repr())\n",
    "res = robjects.r(rcode)\n",
    "print(res)\n",
    "import rpy2.robjects as robjects\n",
    "\n",
    "r = robjects.r\n",
    "r('Sys.setenv(\"DISPLAY\"=\":0.0\")')[0]\n",
    "x = robjects.IntVector(range(10))\n",
    "y = r.rnorm(10)\n",
    "# Mistake : Cannot use X11()\n",
    "r('capabilities(\"X11\")')[0]\n",
    "#r.X11()\n",
    "\n",
    "r.layout(r.matrix(robjects.IntVector([1,2,3,2]), nrow=2, ncol=2))\n",
    "r.plot(r.runif(10), y, xlab=\"runif\", ylab=\"foo/bar\", col=\"red\")"
   ]
  },
  {
   "cell_type": "code",
   "execution_count": 24,
   "metadata": {},
   "outputs": [],
   "source": [
    "def rpretty(cmd, indent=0):\n",
    "    a = r(cmd)\n",
    "    # dict(zip(a.names, map(list,list(a))))\n",
    "    d = { key : a.rx2(key)[0] for key in a.names }\n",
    "    \n",
    "    for key, value in d.items():\n",
    "        print('\\t' * indent +str(key))\n",
    "        if isinstance(value, type({})):\n",
    "            pretty(value, indent+1)\n",
    "        else:\n",
    "            print('\\t' * (indent+1) + str(value))"
   ]
  },
  {
   "cell_type": "code",
   "execution_count": 23,
   "metadata": {},
   "outputs": [
    {
     "name": "stdout",
     "output_type": "stream",
     "text": [
      "platform\n",
      "\tx86_64-pc-linux-gnu (64-bit)\n",
      "running\n",
      "\tDebian GNU/Linux 9 (stretch)\n",
      "locale\n",
      "\tLC_CTYPE=en_US.UTF-8;LC_NUMERIC=C;LC_TIME=en_US.UTF-8;LC_COLLATE=en_US.UTF-8;LC_MONETARY=en_US.UTF-8;LC_MESSAGES=en_US.UTF-8;LC_PAPER=en_US.UTF-8;LC_NAME=C;LC_ADDRESS=C;LC_TELEPHONE=C;LC_MEASUREMENT=en_US.UTF-8;LC_IDENTIFICATION=C\n",
      "R.version\n",
      "\t[1] \"x86_64-pc-linux-gnu\"\n",
      "\n",
      "basePkgs\n",
      "\ttools\n"
     ]
    }
   ],
   "source": [
    "cmd = 'sessionInfo()'\n",
    "rpretty(cmd)"
   ]
  },
  {
   "cell_type": "code",
   "execution_count": 46,
   "metadata": {},
   "outputs": [
    {
     "name": "stderr",
     "output_type": "stream",
     "text": [
      "/home/nezzine/.local/lib/python3.5/site-packages/rpy2/robjects/lib/ggplot2.py:67: UserWarning: This was designed againt ggplot2 version 2.1.0 but you have 2.2.1\n",
      "  warnings.warn('This was designed againt ggplot2 version %s but you have %s' % (TARGET_VERSION, ggplot2.__version__))\n"
     ]
    }
   ],
   "source": [
    "import rpy2.robjects as robjects\n",
    "\n",
    "r = robjects.r\n",
    "\n",
    "x = robjects.IntVector(range(10))\n",
    "y = r.rnorm(10)\n",
    "r('Sys.setenv(\"DISPLAY\"=\":0.0\")')\n",
    "#r.X11(width=8, height=6, pointsize=12)\n",
    "\n",
    "r.layout(r.matrix(robjects.IntVector([1,2,3,2]), nrow=2, ncol=2))\n",
    "r.plot(r.runif(10), y, xlab=\"runif\", ylab=\"foo/bar\", col=\"red\")\n",
    "from rpy2 import robjects\n",
    "from rpy2.robjects import Formula, Environment\n",
    "from rpy2.robjects.vectors import IntVector, FloatVector\n",
    "from rpy2.robjects.lib import grid\n",
    "from rpy2.robjects.packages import importr, data\n",
    "from rpy2.rinterface import RRuntimeError\n",
    "import warnings\n",
    "\n",
    "# The R 'print' function\n",
    "rprint = robjects.globalenv.get(\"print\")\n",
    "stats = importr('stats')\n",
    "grdevices = importr('grDevices')\n",
    "base = importr('base')\n",
    "datasets = importr('datasets')\n",
    "\n",
    "grid.activate()\n",
    "import math, datetime\n",
    "import rpy2.robjects.lib.ggplot2 as ggplot2\n",
    "import rpy2.robjects as ro\n",
    "from rpy2.robjects.packages import importr\n",
    "base = importr('base')\n",
    "\n",
    "mtcars = data(datasets).fetch('mtcars')['mtcars']\n",
    "pp = ggplot2.ggplot(mtcars) + \\\n",
    "     ggplot2.aes_string(x='wt', y='mpg', col='factor(cyl)') + \\\n",
    "     ggplot2.geom_point() + \\\n",
    "     ggplot2.geom_smooth(ggplot2.aes_string(group = 'cyl'),\n",
    "                         method = 'lm')\n",
    "pp.plot()"
   ]
  },
  {
   "cell_type": "code",
   "execution_count": 44,
   "metadata": {},
   "outputs": [
    {
     "data": {
      "text/plain": [
       "array([3.14159265])"
      ]
     },
     "execution_count": 44,
     "metadata": {},
     "output_type": "execute_result"
    }
   ],
   "source": [
    "robjects.r('''\n",
    "        # create a function `f`\n",
    "        f <- function(r, verbose=FALSE) {\n",
    "            if (verbose) {\n",
    "                cat(\"I am calling f().\\n\")\n",
    "            }\n",
    "            2 * pi * r\n",
    "        }\n",
    "        # call the function `f` with argument value 3\n",
    "        f(0.5)\n",
    "        ''')"
   ]
  },
  {
   "cell_type": "markdown",
   "metadata": {},
   "source": [
    "### The easy way"
   ]
  },
  {
   "cell_type": "code",
   "execution_count": 3,
   "metadata": {},
   "outputs": [],
   "source": [
    "%load_ext rpy2.ipython"
   ]
  },
  {
   "cell_type": "code",
   "execution_count": 40,
   "metadata": {},
   "outputs": [
    {
     "data": {
      "image/png": "[encoded data removed]"
     },
     "metadata": {},
     "output_type": "display_data"
    }
   ],
   "source": [
    "%%R \n",
    "X = c(1,4,5,7)\n",
    "Y = c(2,4,3,9)\n",
    "plot(X, Y)"
   ]
  },
  {
   "cell_type": "code",
   "execution_count": 58,
   "metadata": {},
   "outputs": [],
   "source": [
    "%%R\n",
    "install.packages('ggplot2')\n",
    "install.packages('dplyr')\n",
    "install.packages('tidyr')"
   ]
  },
  {
   "cell_type": "code",
   "execution_count": 61,
   "metadata": {},
   "outputs": [
    {
     "data": {
      "text/plain": [
       "[1] ‘2.2.1’\n"
      ]
     },
     "metadata": {},
     "output_type": "display_data"
    }
   ],
   "source": [
    "%%R\n",
    "packageVersion('ggplot2')"
   ]
  },
  {
   "cell_type": "code",
   "execution_count": 62,
   "metadata": {},
   "outputs": [
    {
     "data": {
      "text/plain": [
       "[1] ‘0.7.6’\n"
      ]
     },
     "metadata": {},
     "output_type": "display_data"
    }
   ],
   "source": [
    "%%R\n",
    "packageVersion('dplyr')"
   ]
  },
  {
   "cell_type": "code",
   "execution_count": 63,
   "metadata": {},
   "outputs": [
    {
     "data": {
      "text/plain": [
       "[1] ‘0.8.1’\n"
      ]
     },
     "metadata": {},
     "output_type": "display_data"
    }
   ],
   "source": [
    "%%R\n",
    "packageVersion('tidyr')"
   ]
  },
  {
   "cell_type": "code",
   "execution_count": 64,
   "metadata": {},
   "outputs": [
    {
     "data": {
      "image/png": "[encoded data removed]"
     },
     "metadata": {},
     "output_type": "display_data"
    },
    {
     "data": {
      "image/png": "[encoded data removed]"
     },
     "metadata": {},
     "output_type": "display_data"
    }
   ],
   "source": [
    "%%R\n",
    "par(mfrow=c(2,2))\n",
    "curve(x^3-3*x, -2, 2)\n",
    "curve(x^2-2, add = TRUE, col = \"violet\")\n",
    "\n",
    "curve(sin, -pi, 3*pi)\n",
    "plot(cos)\n",
    "chippy <- function(x) sin(cos(x)*exp(-x/2))\n",
    "curve(chippy, -8, 7, n=2001)\n",
    "\n",
    "for(ll in c(\"\",\"x\",\"y\",\"xy\"))\n",
    "   curve(log(1+x), 1,100, log=ll, sub=paste(\"log=\",ll))"
   ]
  },
  {
   "cell_type": "code",
   "execution_count": 1,
   "metadata": {},
   "outputs": [],
   "source": [
    "name = 2"
   ]
  },
  {
   "cell_type": "code",
   "execution_count": 6,
   "metadata": {},
   "outputs": [
    {
     "data": {
      "text/plain": [
       "array([3.])"
      ]
     },
     "execution_count": 6,
     "metadata": {},
     "output_type": "execute_result"
    }
   ],
   "source": [
    "%R name = 3  \n",
    "%R name"
   ]
  },
  {
   "cell_type": "code",
   "execution_count": 66,
   "metadata": {},
   "outputs": [
    {
     "name": "stderr",
     "output_type": "stream",
     "text": [
      "UsageError: Line magic function `%bash` not found (But cell magic `%%bash` exists, did you mean that instead?).\n"
     ]
    }
   ],
   "source": []
  }
 ],
 "metadata": {
  "kernelspec": {
   "display_name": "Python 3",
   "language": "python",
   "name": "python3"
  },
  "language_info": {
   "codemirror_mode": {
    "name": "ipython",
    "version": 3
   },
   "file_extension": ".py",
   "mimetype": "text/x-python",
   "name": "python",
   "nbconvert_exporter": "python",
   "pygments_lexer": "ipython3",
   "version": "3.5.3"
  }
 },
 "nbformat": 4,
 "nbformat_minor": 2
}
