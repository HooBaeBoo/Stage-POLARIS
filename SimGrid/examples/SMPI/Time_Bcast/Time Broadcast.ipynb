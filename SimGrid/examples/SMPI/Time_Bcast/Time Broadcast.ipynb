{
 "cells": [
  {
   "cell_type": "markdown",
   "metadata": {},
   "source": [
    "# Broadcast"
   ]
  },
  {
   "cell_type": "markdown",
   "metadata": {},
   "source": [
    "## But : Faire un broadcast, départ décalé \n"
   ]
  },
  {
   "cell_type": "markdown",
   "metadata": {},
   "source": [
    "### Informations générales"
   ]
  },
  {
   "cell_type": "markdown",
   "metadata": {},
   "source": [
    "#### Le nom de l'expérience : Nom du folder contenant les fichiers sources et résultats"
   ]
  },
  {
   "cell_type": "code",
   "execution_count": null,
   "metadata": {},
   "outputs": [],
   "source": [
    "experiment_name = \"Time_Bcast\"\n",
    "crashed = True"
   ]
  },
  {
   "cell_type": "markdown",
   "metadata": {},
   "source": [
    "#### Versions"
   ]
  },
  {
   "cell_type": "code",
   "execution_count": null,
   "metadata": {},
   "outputs": [],
   "source": [
    "%%bash -s\n",
    "git log -n 1\n",
    "python3 --version\n",
    "R --version"
   ]
  },
  {
   "cell_type": "markdown",
   "metadata": {},
   "source": [
    "### Préparation de l'environnement (FRONTEND)"
   ]
  },
  {
   "cell_type": "markdown",
   "metadata": {},
   "source": [
    "#### Installation des modules"
   ]
  },
  {
   "cell_type": "code",
   "execution_count": null,
   "metadata": {},
   "outputs": [],
   "source": [
    "%%bash -s\n",
    "pip3 install --user execo\n",
    "pip3 install --user requests\n",
    "\n",
    "# Permet affichage pllus lisible avec couleurs\n",
    "pip3 install --user termcolor\n",
    "\n",
    "# Permettent d'utiliser R :\n",
    "pip3 install --user rpy2\n",
    "pip3 install --user tzlocal"
   ]
  },
  {
   "cell_type": "markdown",
   "metadata": {},
   "source": [
    "#### Chargement des modules dans l'environnement"
   ]
  },
  {
   "cell_type": "code",
   "execution_count": null,
   "metadata": {},
   "outputs": [],
   "source": [
    "import execo\n",
    "import math\n",
    "import collections\n",
    "import os\n",
    "import sys\n",
    "import json\n",
    "import time\n",
    "import random\n",
    "import datetime\n",
    "import re\n",
    "import tzlocal\n",
    "\n",
    "from execo import *\n",
    "from execo_g5k import *\n",
    "from execo_engine import *\n",
    "\n",
    "from shutil import copy\n",
    "from subprocess import check_output\n",
    "\n",
    "from threading import Thread\n",
    "\n",
    "from collections import deque, OrderedDict\n",
    "from termcolor import *\n",
    "from subprocess import *"
   ]
  },
  {
   "cell_type": "markdown",
   "metadata": {},
   "source": [
    "#### Chargement de l'outil permettant l'utilisation de R"
   ]
  },
  {
   "cell_type": "code",
   "execution_count": null,
   "metadata": {},
   "outputs": [],
   "source": [
    "%load_ext rpy2.ipython"
   ]
  },
  {
   "cell_type": "markdown",
   "metadata": {},
   "source": [
    "### Tools"
   ]
  },
  {
   "cell_type": "markdown",
   "metadata": {},
   "source": [
    "#### Affichage coloré"
   ]
  },
  {
   "cell_type": "code",
   "execution_count": null,
   "metadata": {},
   "outputs": [],
   "source": [
    "# Termcolor\n",
    "# OPTIONS  : bold, dark, underline, blink, reverse, concealed\n",
    "\n",
    "text = colored('Hello, World!', 'red', attrs = ['blink'])\n",
    "print(text)\n",
    "\n",
    "text = colored('Hello, World!', 'red', attrs = ['dark'])\n",
    "print(text)\n",
    "\n",
    "text = colored('Hello, World!', 'red', attrs = ['underline'])\n",
    "print(text)\n",
    "\n",
    "text = colored('Hello, World!', 'red', attrs = ['bold'])\n",
    "print(text)\n",
    "\n",
    "text = colored('Hello, World!', 'red', attrs = ['concealed'])\n",
    "print(text)\n",
    "\n",
    "cprint('Hello, World!', 'green', 'on_red',attrs = ['reverse'])"
   ]
  },
  {
   "cell_type": "markdown",
   "metadata": {},
   "source": [
    "#### Affichage lisible d'un dictionnaire complexe"
   ]
  },
  {
   "cell_type": "code",
   "execution_count": null,
   "metadata": {},
   "outputs": [],
   "source": [
    "# Display more readable dict\n",
    "# SOURCE : https://stackoverflow.com/questions/3229419/how-to-pretty-print-nested-dictionaries\n",
    "def pretty(d, indent=0):\n",
    "    for key, value in d.items():\n",
    "        print('\\t' * indent + colored (str(key), \"magenta\"))\n",
    "        if isinstance(value, type({})):\n",
    "            pretty(value, indent+1)\n",
    "        else:\n",
    "            print('\\t' * (indent+1) + str(value))"
   ]
  },
  {
   "cell_type": "markdown",
   "metadata": {},
   "source": [
    "### Préparation de l'environnement pour l'expérience"
   ]
  },
  {
   "cell_type": "markdown",
   "metadata": {},
   "source": [
    "#### Paramètres réservation"
   ]
  },
  {
   "cell_type": "code",
   "execution_count": null,
   "metadata": {},
   "outputs": [],
   "source": [
    "# Nom du job\n",
    "jobname = ' '\n",
    "# Nombre de noeuds\n",
    "nodecount = 5\n",
    "# Temps réservation\n",
    "walltime = \"3:0:0\" \n",
    "\n",
    "# filters out Nantes's econome cluster\n",
    "resources_selection = \"-p \\\"cluster in ('ecotype','parasilo','grisou','uvb','paravance','genepi')\\\"\" \n",
    "\n",
    "# Nancy\n",
    "site = \"nancy\"\n",
    "\n",
    "#Type de deploiement \n",
    "FILE_DEPLOY = True"
   ]
  },
  {
   "cell_type": "markdown",
   "metadata": {},
   "source": [
    "#### Réservation"
   ]
  },
  {
   "cell_type": "code",
   "execution_count": null,
   "metadata": {},
   "outputs": [],
   "source": [
    "jobs = get_current_oar_jobs()\n",
    "jobid = None\n",
    "waiting_jobs = []\n",
    "while jobs:\n",
    "    j, site = jobs.pop()\n",
    "    info = get_oar_job_info(j, site)\n",
    "    if info['name'] == jobname:\n",
    "        if info['state'] == 'Running':\n",
    "            jobid = j\n",
    "            print(\"A {} job is already running, using it. jobid is {}\".format(jobname, jobid))\n",
    "            break\n",
    "        else:\n",
    "            waiting_jobs.append(j)\n",
    "if not jobid and not waiting_jobs:\n",
    "    jobspec = OarSubmission(resources=\"/cluster=1/nodes={}\".format(nodecount), walltime = walltime,\n",
    "                            additional_options = resources_selection, job_type = \"deploy\", name = jobname)\n",
    "    jobid, _ = oarsub([(jobspec, site)]).pop()\n",
    "    print(\"New job submitted, jobid is {}\".format(jobid))\n",
    "elif not jobid:\n",
    "    print(\"One or more {} jobs exist ({}) but are not running.\\n\"\n",
    "          \" Connect to the frontend to see what is happening, and/or run the cell again.\".format(\n",
    "          jobname, \", \".join([str(j) for j in waiting_jobs])))"
   ]
  },
  {
   "cell_type": "markdown",
   "metadata": {},
   "source": [
    "#### Récupération des infos sur les noeuds obtenus"
   ]
  },
  {
   "cell_type": "markdown",
   "metadata": {},
   "source": [
    "###### Note : Si cette cellule met du temps à répondre, vérifier l'état de la réservation sur la frontale **oartstat -u username** ou via https://www.grid5000.fr/mediawiki/index.php/Status"
   ]
  },
  {
   "cell_type": "code",
   "execution_count": null,
   "metadata": {},
   "outputs": [],
   "source": [
    "nodes = get_oar_job_nodes(jobid)\n",
    "nodes.sort(key = lambda n: n.address)\n",
    "nodes"
   ]
  },
  {
   "cell_type": "markdown",
   "metadata": {},
   "source": [
    "##### Déploiement de l'environnement : 2 options"
   ]
  },
  {
   "cell_type": "markdown",
   "metadata": {},
   "source": [
    "###### Via fichier "
   ]
  },
  {
   "cell_type": "code",
   "execution_count": null,
   "metadata": {},
   "outputs": [],
   "source": [
    "force_redeploy = False # set to True to force redeploying the OS on the nodes in the deployment section\n",
    "environment_dsc_file = 'src/debian9-x64-bigdata-tutorial.yaml' # filename of the kadeploy environment file (YAML)"
   ]
  },
  {
   "cell_type": "code",
   "execution_count": null,
   "metadata": {
    "scrolled": true
   },
   "outputs": [],
   "source": [
    "if (FILE_DEPLOY):\n",
    "    deployment = Deployment(hosts = nodes, env_file = os.path.abspath(environment_dsc_file),\n",
    "                        other_options = \"-r ext4 --no-debug-mode\")\n",
    "\n",
    "    deploy_ok, deploy_failed = deploy(deployment, check_deployed_command = not force_redeploy,\n",
    "                              stdout_handlers = [sys.stdout],\n",
    "                              stderr_handlers = [sys.stderr])\n",
    "else :\n",
    "    deploy_ok, deploy_failed = deploy(Deployment(nodes, env_name = \"debian9-x64-base\",\n",
    "                              other_options = \"-r ext4 --no-debug-mode\"),\n",
    "                              stdout_handlers = [sys.stdout],\n",
    "                              stderr_handlers = [sys.stderr])"
   ]
  },
  {
   "cell_type": "code",
   "execution_count": null,
   "metadata": {},
   "outputs": [],
   "source": [
    "print(\"Deployement status:\\n* ok: {}\\n* failed: {}\".format(deploy_ok, deploy_failed))"
   ]
  },
  {
   "cell_type": "markdown",
   "metadata": {},
   "source": [
    "#### Test : commande simple 'ls'"
   ]
  },
  {
   "cell_type": "code",
   "execution_count": null,
   "metadata": {},
   "outputs": [],
   "source": [
    "Remote_test = execo.action.Remote(cmd = 'ls',hosts = nodes, connection_params = None, process_args = None)\n",
    "Remote_test.run().ok"
   ]
  },
  {
   "cell_type": "markdown",
   "metadata": {},
   "source": [
    "#### Installation environnement/tools sur noeuds"
   ]
  },
  {
   "cell_type": "code",
   "execution_count": null,
   "metadata": {},
   "outputs": [],
   "source": [
    "if (not crashed):\n",
    "    Remote_install = execo.action.Remote(cmd = 'apt-get install g++ libboost-all-dev && wget http://gforge.inria.fr/frs/download.php/latestfile/8/SimGrid-3.18.tar.gz && tar -xvf SimGrid-3.18.tar.gz && cd SimGrid-3.18 && cmake -DCMAKE_INSTALL_PREFIX=/usr/local -Denable_smpi=on -Denable_documentation=off && make -j && make check && make install -j',\n",
    "                                     hosts = nodes,connection_params = {'user':'root'})\n",
    "    Remote_install.run().ok"
   ]
  },
  {
   "cell_type": "code",
   "execution_count": null,
   "metadata": {},
   "outputs": [],
   "source": [
    "if (not crashed):\n",
    "    Pajeng_install = execo.action.Remote(cmd='git clone git://github.com/schnorr/pajeng.git ; mkdir -p pajeng/build ; cd pajeng/build ; cmake .. ; make ; make install',hosts=nodes,connection_params={'user':'root'}).run().ok\n",
    "    Pajeng_install"
   ]
  },
  {
   "cell_type": "markdown",
   "metadata": {},
   "source": [
    "#### Version Simgrid"
   ]
  },
  {
   "cell_type": "code",
   "execution_count": null,
   "metadata": {},
   "outputs": [],
   "source": [
    "def remote_version(software):\n",
    "    execo.action.Remote(cmd = 'touch version.txt &&' + str(software) + ' --version > version.txt'\n",
    "                    , hosts = nodes, connection_params = {'user': 'root'}).run()\n",
    "\n",
    "    version = ''\n",
    "\n",
    "    for i in range(0, nodecount):\n",
    "        execo.action.Get(hosts = nodes[i], remote_files = ['~/version.txt'],\n",
    "                         local_location = './version-'\n",
    "                                            + get_host_shortname(nodes[i]) + '.txt',\n",
    "                         connection_params = {'user': 'root'}).run()\n",
    "    \n",
    "        version = version + execo.Process(cmd = 'cat ./version-'\n",
    "                                                + get_host_shortname(nodes[i]) \n",
    "                                                + '.txt').run().stdout\n",
    "        execo.Process(cmd = 'rm ./version-'\n",
    "                            + get_host_shortname(nodes[i]) + '.txt').run()\n",
    "\n",
    "    print(colored('VERSION : ' + str(software),\"blue\"), '\\n' + version + '\\n')\n",
    "    return\n",
    "\n",
    "remote_version('smpicc')\n",
    "remote_version('g++')"
   ]
  },
  {
   "cell_type": "markdown",
   "metadata": {},
   "source": [
    "#### Chemins (à configurer)"
   ]
  },
  {
   "cell_type": "code",
   "execution_count": null,
   "metadata": {},
   "outputs": [],
   "source": [
    "path_base = \"/home/nezzine/Stage-POLARIS/SimGrid/examples/SMPI/\" + experiment_name\n",
    "path_src = path_base + '/src/'\n",
    "path_rslt = path_base + '/results/'"
   ]
  },
  {
   "cell_type": "markdown",
   "metadata": {},
   "source": [
    "#### Traitement des données pour les calculs de D et S"
   ]
  },
  {
   "cell_type": "code",
   "execution_count": null,
   "metadata": {},
   "outputs": [],
   "source": [
    "# Intialise tableau\n",
    "def init_tab(num, elt) :\n",
    "    D = [elt] * num\n",
    "    return D\n",
    "\n",
    "# Parsing the results\n",
    "def parser(num_node,date_precise):\n",
    "    with open( '/home/nezzine/Stage-POLARIS/SimGrid/examples/SMPI/Time_Bcast/results/'\n",
    "               + date_precise.split('_')[0] + '/'\n",
    "               + get_host_shortname(nodes[num_node]) + '_'\n",
    "               + date_precise\n",
    "               + '.txt') as f:\n",
    "        return f.readlines()\n",
    "    \n",
    "# Converting and organizing data\n",
    "def tab_conv(l, NPROCS, precision) :\n",
    "    S = init_tab(NPROCS, None)\n",
    "        \n",
    "    # On récupère les données des fichiers\n",
    "    # Un fichier contient des lignes telles que : From 0 -> S[0] : 0.0819526    \n",
    "    for i in range(0, NPROCS) :\n",
    "        line = l[i].split()\n",
    "        print(\"LINNNNNNNNNNNNNNNNNNNNNNNNNNNNNNNNNNNE\" + str(line))\n",
    "        S[int(line[1])] = round(float(line[5]), precision)\n",
    "    return S\n",
    "\n",
    "def delayer(num_node, NPROCS, date, precision):\n",
    "    D = init_tab(NPROCS, 0.0)\n",
    "    \n",
    "    raw_data = parser(num_node, date)\n",
    "    \n",
    "    S = tab_conv(raw_data, NPROCS, precision)\n",
    "    \n",
    "    for p in range(0, NPROCS):\n",
    "        D[p] = round(S[p] - min(S), precision)\n",
    "    return [D, min(S)]"
   ]
  },
  {
   "cell_type": "code",
   "execution_count": null,
   "metadata": {},
   "outputs": [],
   "source": [
    "# Example\n",
    "# delayer(0,10,'2018-06-04_12:38',2)"
   ]
  },
  {
   "cell_type": "markdown",
   "metadata": {},
   "source": [
    "## SIMULATION"
   ]
  },
  {
   "cell_type": "markdown",
   "metadata": {},
   "source": [
    "#### Mise en place de l'environnement (fichiers src simulation...) sur noeuds"
   ]
  },
  {
   "cell_type": "code",
   "execution_count": null,
   "metadata": {},
   "outputs": [],
   "source": [
    "def setup() :\n",
    "    Src_dir = execo.action.Remote(cmd = 'mkdir -p experiments_src',\n",
    "                              hosts = nodes,\n",
    "                              connection_params = {'user': 'root'})\n",
    "    Src_get = execo.action.Put(hosts = nodes, local_files = [path_src\n",
    "                                   + 'griffon.xml', path_src\n",
    "                                   + 'griffon_hostfile.txt', path_src\n",
    "                                   + 'broadcast.c', path_src \n",
    "                                   + 'Makefile'],\n",
    "                                   remote_location = '~/experiments_src',\n",
    "                                   connection_params = {'user': 'root'})\n",
    "    Rslt_dir = \\\n",
    "        execo.Process(cmd='mkdir -p '\n",
    "                  + path_rslt\n",
    "                  + datetime.datetime.now().strftime('%Y-%m-%d'))\n",
    "\n",
    "# On récup les src\n",
    "    Src_dir.run().ok\n",
    "    Src_get.run().ok\n",
    "    Rslt_dir.run().ok\n"
   ]
  },
  {
   "cell_type": "markdown",
   "metadata": {},
   "source": [
    "#### Défintion du thread pour parallélisation de la simulation"
   ]
  },
  {
   "cell_type": "code",
   "execution_count": null,
   "metadata": {},
   "outputs": [],
   "source": [
    "# Thread pour la simulation // opt.\n",
    "class ParSimer(Thread):\n",
    "\n",
    "    \"\"\"Thread chargé simplement d'afficher une lettre dans la console.\"\"\"\n",
    "    \n",
    "    # Paramètrage du thread\n",
    "    def __init__(self,i,MIN,MAX,N,DELAY):\n",
    "        Thread.__init__(self)\n",
    "        self.MIN = MIN\n",
    "        self.MAX = MAX\n",
    "        self.N = N\n",
    "        self.DELAY = DELAY\n",
    "        self.i = i\n",
    "    \n",
    "    # Set la valeur du délai\n",
    "    def set_delay(self,delay):\n",
    "        self.DELAY = delay\n",
    "    \n",
    "    def get_delay(self):\n",
    "        return self.DELAY\n",
    "    \n",
    "    def get_MIN(self):\n",
    "        return self.MIN\n",
    "    \n",
    "    def run(self):\n",
    "        \"\"\"Code à exécuter pendant l'exécution du thread.\"\"\"\n",
    "        if (DEBUG): \n",
    "            print(\n",
    "                get_host_shortname(nodes[self.i]) + \" => \" + str(self.i) + \" NPROCS = \" + str(NPROCS)\n",
    "             + \" MIN = \" + str(self.MIN)\n",
    "             + \" MAX = \" + str(self.MAX)\n",
    "             + \" N = \" + str(self.N)\n",
    "             + \" DELAY = '\" + self.DELAY + \"'\\n\"\n",
    "            )\n",
    "       \n",
    "        # make run sur toutes la machine dont le thread s'occupe avec ses paramètres\n",
    "        execo.action.Remote(cmd ='cd ~/experiments_src && make && make run NPROCS='\n",
    "                                  + str(NPROCS) + ' MIN='+ str(self.MIN) \n",
    "                                  + ' MAX=' + str(self.MAX) + ' N=' + str(self.N)\n",
    "                                  + \" DELAY='\" + self.DELAY\n",
    "                                  + \"'\" , \n",
    "                            hosts = nodes[self.i], \n",
    "                            connection_params = {'user':'root'}).run().ok\n"
   ]
  },
  {
   "cell_type": "markdown",
   "metadata": {},
   "source": [
    "#### Conversion string < = > int pour manipulation de D & S"
   ]
  },
  {
   "cell_type": "code",
   "execution_count": null,
   "metadata": {},
   "outputs": [],
   "source": [
    "# Formate le tableau en string pour pouvoir etre passé en ligne de commande\n",
    "def format_cmd(data):\n",
    "    return (' '.join(str(e) for e in data))\n",
    "\n",
    "# Formate le string en tableau d'int pour être manipulé \n",
    "def unformat_cmd(data):\n",
    "    return list(map(float,data.split()))"
   ]
  },
  {
   "cell_type": "markdown",
   "metadata": {},
   "source": [
    "#### Génération du nouvel état initial"
   ]
  },
  {
   "cell_type": "code",
   "execution_count": null,
   "metadata": {},
   "outputs": [],
   "source": [
    "def generate_Dprime(NPROCS,border_inf,border_sup,precision):\n",
    "    # Variable pour le stockage du nouveau D\n",
    "    new_Dprime = []\n",
    "    \n",
    "    if (border_inf == 0):\n",
    "        for p in range(NPROCS):\n",
    "            new_value = random.uniform(border_inf, border_sup[p])\n",
    "            new_round_value = round(new_value, precision)\n",
    "            new_Dprime.append(new_round_value)\n",
    "    else : \n",
    "        for p in range(NPROCS):\n",
    "            new_Dprime.append(round(random.uniform(border_inf[p], border_sup[p]), precision))\n",
    "    return format_cmd(new_Dprime)"
   ]
  },
  {
   "cell_type": "markdown",
   "metadata": {},
   "source": [
    "#### Code de la simulation"
   ]
  },
  {
   "cell_type": "code",
   "execution_count": null,
   "metadata": {},
   "outputs": [],
   "source": [
    "# SIMULATION\n",
    "DEBUG = True\n",
    "def simulation(N, NPROCS, fragment_size, precision, mode, catch_me):\n",
    "    \n",
    "    \"\"\"Contrôle de la validité des paramètres\"\"\"\n",
    "    # Taille du fragment ne peut être supérieure à la zone d'itération\n",
    "    if (fragment_size > N): \n",
    "        raise ValueError(\"Fragment size cannot be superior to N\")\n",
    "        \n",
    "    \"\"\"Mise en place de l'environnement et des variables\"\"\"\n",
    "    # Environnement\n",
    "    setup() \n",
    "    \n",
    "    # Dates: pour la gestion de fichiers (IMPORTANT pour lecture/écriture)\n",
    "    date_precise = datetime.datetime.now().strftime('%Y-%m-%d_%H:%M')\n",
    "    date = date_precise.split('_')[0]\n",
    "    \n",
    "    # Temps d'exécution total\n",
    "    total_execution_time = 0\n",
    "    \n",
    "    # Tableau de threads\n",
    "    machines = init_tab(nodecount, None)\n",
    "      \n",
    "    # position trajectoire cohérente courante\n",
    "    t_curr = 0\n",
    "    \n",
    "    # D de la trajectorie cohérente courante\n",
    "    D_curr = format_cmd(init_tab(NPROCS, 0.0))\n",
    "    \n",
    "    # Taille du dernier slot\n",
    "    last_fragment_size = N % fragment_size\n",
    "    \n",
    "    # Nombre de fragments\n",
    "    fragment_number = int((math.ceil(N / fragment_size)))\n",
    "    \n",
    "    # zone d'itérations à explorer\n",
    "    To_explore = collections.deque()\n",
    "    \n",
    "    # Initialisation des zones à explorer D = '0...0' pour chaque zone T -> (Min d'itération , D initial)\n",
    "    for i in range(fragment_number):\n",
    "        To_explore.append((i * fragment_size, format_cmd(init_tab(NPROCS, 0.0))))\n",
    "\n",
    "    # Round actuel\n",
    "    curr_round = 0\n",
    "    \n",
    "    # Liste des trajectoires pour un temps t et un D donnée\n",
    "    sim = OrderedDict()\n",
    "    \n",
    "    # Vrai si un état final a fusionné avec un état initial au moins une fois\n",
    "    success = False \n",
    "    \n",
    "    catch_me_ind = 0\n",
    "    \n",
    "    while(True):\n",
    "        curr_round = curr_round + 1\n",
    "        \n",
    "        # Trajectoire cohérente complète trouvé : FIN DE SIMULATION\n",
    "        if (t_curr >= N) :\n",
    "            cprint (\"Total time : \" + str(total_execution_time) , \"grey\" , \"on_yellow\")\n",
    "            cprint (\"Success : \" + str(success) , \"grey\" , \"on_green\")\n",
    "            break;        \n",
    "        if (len(To_explore) == 0):\n",
    "            raise \n",
    "        # Il n'existe pas encore de trajectoire cohérente -> Nouveau round\n",
    "        cprint(\"--------------------------------------------  ROUND :  \" + str(curr_round) + \"   --------------------------------------------\\n\",\"red\", attrs=['reverse', 'blink'])\n",
    "        \n",
    "        # Zones restantes à explorer\n",
    "        number_paths_To_explore = len(To_explore)\n",
    "        \n",
    "        # Nombre de tâches parallèles lançables\n",
    "        number_launchable_tasks = min(nodecount, number_paths_To_explore)\n",
    "        \n",
    "        # Affichage des paramètres\n",
    "        cprint (\"  || LAUNCHING || \\n\",\"green\", attrs=[ 'reverse', 'blink'])\n",
    "        if (DEBUG): \n",
    "            cprint ( \"TO EXPLORE : \" , \"blue\")\n",
    "            for key, value in (To_explore):\n",
    "                print( colored( str(key), \"green\") + ' -> ' + str(value))\n",
    "        \n",
    "        \"\"\" Paramètrage des machines \"\"\"\n",
    "        \n",
    "        # Soit j'ai plus de zone à explorer que de machines disponibles soit l'inverse\n",
    "        for q in range(number_launchable_tasks):\n",
    "            \n",
    "            # On récupère la première zone à explorer\n",
    "            parameters = To_explore.popleft()\n",
    "            \n",
    "            # MIN est le champ de gauche\n",
    "            MIN = parameters[0]\n",
    "            \n",
    "            # MAX de la zone à explorer vaut le min + la taille du slot\n",
    "            MAX = min (MIN + fragment_size, N)\n",
    "            \n",
    "            # D est le champ de droite\n",
    "            delay = parameters[1]\n",
    "            \n",
    "            # Paramètrage des machines\n",
    "            machines[q] = ParSimer(q, MIN, MAX, N, delay)\n",
    "            #print(\"Machine \" + str(q) + \" -> MIN :\" + str(MIN) + \" MAX : \" + str(MAX) + \" D : \"+ delay)   \n",
    "                \n",
    "        \"\"\" Simulation \"\"\"  \n",
    "        # Lancement de la simulation\n",
    "        for q in range(number_launchable_tasks):\n",
    "            machines[q].start()\n",
    "            \n",
    "        # Fin de simulation\n",
    "        for q in range(number_launchable_tasks) :\n",
    "            machines[q].join()\n",
    "            # Récupération des résultats\n",
    "            execo.action.Get(hosts=nodes[q],\n",
    "                     remote_files=['~/experiments_src/bcast_results.txt'\n",
    "                     ],\n",
    "                     local_location= path_rslt\n",
    "                     + date\n",
    "                     + '/' + get_host_shortname(nodes[q]) + '_'\n",
    "                     + date_precise + '.txt', connection_params={'user': 'root'\n",
    "                     }).run().ok\n",
    "\n",
    "            execo.action.Remote(cmd='pj_dump --ignore-incomplete-links ./experiments_src/Time_Bcast.trace > ./experiments_src/is_64_small.csv',hosts=nodes,connection_params={'user':'root'}).run()\n",
    "            name = path_rslt + date + '/' + get_host_shortname(nodes[q]) + '_'+ date_precise\n",
    "            execo.action.Get(hosts=nodes[q],\n",
    "                     remote_files=['~/experiments_src/is_64_small.csv'\n",
    "                     ],\n",
    "                     local_location= path_rslt\n",
    "                     + date\n",
    "                     + '/' + get_host_shortname(nodes[q]) + '_'\n",
    "                     + date_precise + '.csv', connection_params={'user': 'root'\n",
    "                     }).run().ok\n",
    "            \n",
    "            execo.Process(cmd='touch ./is_64_small.state.csv').run()\n",
    "            execo.Process(cmd='grep State'+ str(name)+'.csv > is_64_small.state.csv').run()\n",
    "            execo.Process(cmd='touch ./is_64_small.link.csv').run()\n",
    "            execo.Process(cmd='grep Link'+ str(name)+'.csv > is_64_small.link.csv').run()\n",
    "            execo.Process(cmd='touch ./is_64_small.container.csv').run()\n",
    "            execo.Process(cmd='grep Container'+ str(name)+'.csv > is_64_small.container.csv').run()\n",
    "            execo.Process(cmd='touch ./is_64_small.variable.csv').run()\n",
    "            execo.Process(cmd='grep Variable'+ str(name)+'.csv > is_64_small.variable.csv').run()\n",
    "            \n",
    "            \n",
    "            \n",
    "            \"\"\"           \n",
    "            execo.Process(cmd='grep State'+ str(name)+'.csv >' + str(name)+ '.state.csv')\n",
    "            execo.Process(cmd='grep Link'+ str(name)+'.csv >' + str(name)+ '.link.csv')\n",
    "            execo.Process(cmd='grep Container'+ str(name)+'.csv >' + str(name)+ '.container.csv')\n",
    "            execo.Process(cmd='grep Variable'+ str(name)+'.csv >' + str(name)+ '.variable.csv')\n",
    "            \n",
    "           \n",
    "           #subprocess.Popen(['bash', '-c', '. greper.sh; grepping',name])\n",
    "            subprocess.call([\"grep\", \"State\", name, \".csv > is_64_small.state.csv\"])\n",
    "            \"\"\" \n",
    "            %R library(ggplot2)\n",
    "            %R df_state = read.csv(\"./is_64_small.csv\", header=F, strip.white=T)\n",
    "            %R names(df_state) = c(\"Type\", \"Rank\", \"Container\", \"Start\", \"End\", \"Duration\", \"Level\", \"State\"); \n",
    "            %R df_state = df_state[!(names(df_state) %in% c(\"Type\",\"Container\",\"Level\"))]\n",
    "            %R df_state$Rank = as.numeric(gsub(\"rank-\",\"\",df_state$Rank))\n",
    "            %R head(df_state)\n",
    "            %R str(df_state)\n",
    "            %R gc = ggplot(data=df_state) + geom_rect(aes(xmin=Start, xmax=End, ymin=Rank, ymax=Rank+1,fill=State)) + scale_fill_brewer(palette=\"Set1\")\n",
    "            %R gc\n",
    "        \n",
    "          \n",
    "        \"\"\" Analyse des résultats\"\"\"    \n",
    "        # Traitement des données\n",
    "        for q in range(number_launchable_tasks):\n",
    "            # On récupère les paramètres des machines\n",
    "            t = machines[q].get_MIN()\n",
    "            D = machines[q].get_delay()\n",
    "            \n",
    "            # Calcul du délai\n",
    "            # On récupère D et S\n",
    "            raw_data = delayer(q, NPROCS, date_precise,precision)\n",
    "            \n",
    "            # Filtre D : Calcul du délai\n",
    "            Dprime = format_cmd(raw_data[0])\n",
    "            \n",
    "            #Filte S : Calcul du temps d'éxécution total \n",
    "            T = raw_data[1]\n",
    "            \n",
    "            # Ajout dans ma table (Dprime, round, machine qui l'a calculé, temps)\n",
    "            sim.setdefault(t,{}).update({D:(Dprime,curr_round,q,T)})\n",
    "            MAX = min (t + fragment_size, N)\n",
    "        \n",
    "        # Affichage des paramètres\n",
    "        print ( colored (\"T_curr : \" , \"yellow\") , str(t_curr))\n",
    "        if (DEBUG) :\n",
    "            print ( colored (\"D_curr : \" , \"yellow\") , str(D_curr))\n",
    "            print ( colored (\"Dprime : \", \"yellow\") , str(Dprime))\n",
    "        print ( colored (\"total execution time : \", \"red\") , str(total_execution_time) + \"\\n\") \n",
    "        \n",
    "        merged_paths = 0\n",
    "        # Calcul de la trajectoire cohérente\n",
    "        while (t_curr < N and t_curr in sim and D_curr in sim[t_curr]):\n",
    "            merged_paths += 1\n",
    "            # Update le temps d'exécution\n",
    "            total_execution_time += sim[t_curr][D_curr][3]\n",
    "            \n",
    "            # Update du temps d'exécution dans le dernier fragment\n",
    "            if (t_curr + fragment_size >= N) : total_execution_time += max(unformat_cmd(sim[t_curr][D_curr][0]))\n",
    "            \n",
    "            # Update des t_curr et D_curr\n",
    "            D_curr = sim[t_curr][D_curr][0]\n",
    "            t_curr = min(t_curr + fragment_size, N)\n",
    "        if (merged_paths > 1) : \n",
    "            cprint(\"****** SUCCESS : \" + str(merged_paths), attrs=['reverse', 'bold'])\n",
    "            success = True \n",
    "        \n",
    "        # Affichage des résultats\n",
    "        cprint (\"\\n  || RESULTS || \\n\",\"red\", attrs=[ 'reverse', 'blink'])\n",
    "        if (DEBUG):\n",
    "            cprint ( \"TO EXPLORE : \" , \"blue\")\n",
    "            for key, value in (To_explore):\n",
    "                print( colored( str(key), \"green\") + ' -> ' + str(value)) \n",
    "            pretty (sim) \n",
    "        print ( colored (\"T_curr : \" , \"yellow\", attrs=[ 'bold']), str(t_curr))\n",
    "        \n",
    "        if (DEBUG):\n",
    "            print ( colored (\"D_curr : \" , \"yellow\", attrs=[ 'bold']), str(D_curr))\n",
    "            print ( colored (\"Dprime : \", \"yellow\", attrs=[ 'bold']) , str(Dprime))\n",
    "            \n",
    "        print ( colored (\"total execution time : \", \"red\", attrs=[ 'bold']) , str(total_execution_time) + \"\\n\") \n",
    "        \n",
    "        \n",
    "        \"\"\" Nouveau paramètrages \"\"\"\n",
    "        cprint(\"  || ANALYSIS || \\n\",\"magenta\", attrs=[ 'reverse', 'blink'])\n",
    "        while (To_explore and To_explore[0][0] <= t_curr):\n",
    "            To_explore.popleft()\n",
    "        \n",
    "        for q in reversed(range(number_launchable_tasks)):\n",
    "            t = machines[q].get_MIN()\n",
    "            D = machines[q].get_delay()\n",
    "            \n",
    "            MAX = min(t + fragment_size, N)\n",
    "            Dprime = sim[t][D][0]\n",
    "           \n",
    "            # Zone valide\n",
    "            if(MAX < N):\n",
    "                # Zone pas encore relié à la trajectoire initiale\n",
    "                if (MAX > t_curr):\n",
    "                    caught = False\n",
    "                # Ajout dans les zones à explorer du nouveau point de départ à exploiter en fonction du mode\n",
    "                    # Test catch me sur 2^catch_me_ind round\n",
    "                    if (catch_me and 1 << catch_me_ind == curr_round):\n",
    "                        catch_me_ind += 1\n",
    "                        try :\n",
    "                            caught = Dprime in sim[MAX]\n",
    "                        except KeyError:\n",
    "                            pass \n",
    "                       \n",
    "                    if (not catch_me or not caught):\n",
    "                        borders = unformat_cmd(Dprime)\n",
    "                        double_Dprime = [(2*(x)) for x in borders]\n",
    "                      \n",
    "                        # Bornes pour le random \n",
    "                        border_inf = 0\n",
    "                        border_sup = double_Dprime\n",
    "                        if (mode == \"RAND_SUP\") : \n",
    "                            border_sup = borders\n",
    "                            Dprime =  generate_Dprime(NPROCS, border_inf, border_sup,precision)\n",
    "                        elif (mode == \"RAND_INF\") : \n",
    "                            border_inf = borders\n",
    "                            Dprime = generate_Dprime(NPROCS, border_inf, border_sup,precision)\n",
    "                        elif (mode == \"RAND\") : \n",
    "                            Dprime =  generate_Dprime(NPROCS, border_inf, border_sup,precision)\n",
    "                        if (DEBUG) : print(\"[\"+str(MAX) +\"] Generated \" + str(mode) + \" Dprime : \" + str(Dprime))\n",
    "                    # Mode fix implicite : append sans modification des valeurs MAX et Dprime    \n",
    "                    To_explore.appendleft((MAX, Dprime))\n",
    "        \n",
    "        if (t_curr != N):\n",
    "            To_explore.appendleft((t_curr, D_curr))\n",
    "        if (DEBUG):\n",
    "            cprint ( \"TO EXPLORE : \" , \"blue\")\n",
    "            for key, value in (To_explore):\n",
    "                print( colored( str(key), \"green\") + ' -> ' + str(value))\n",
    "        "
   ]
  },
  {
   "cell_type": "markdown",
   "metadata": {},
   "source": [
    "## SIMULATION"
   ]
  },
  {
   "cell_type": "code",
   "execution_count": null,
   "metadata": {},
   "outputs": [],
   "source": [
    "# Nbr pcs\n",
    "NPROCS = 10\n",
    "    \n",
    "# Nbr itérations\n",
    "N = 100\n",
    "\n",
    "# taille paquet d'itérations\n",
    "fragment_size = 10\n",
    "\n",
    "precision = 4\n",
    "\n",
    "# mode de génération de l'état initial à chaque round\n",
    "mode_opt = [\"FIX\",\"RAND\",\"RAND_INF\",\"RAND_SUP\"]\n",
    "mode = mode_opt[1]\n",
    "\n",
    "catch_me = False\n",
    "\n",
    "# Lancement de la simulation\n",
    "#simulation(N,NPROCS,fragment_size,precision,mode,catch_me)"
   ]
  },
  {
   "cell_type": "code",
   "execution_count": null,
   "metadata": {
    "scrolled": true
   },
   "outputs": [],
   "source": [
    "# Nbr pcs\n",
    "NPROCS = 1000\n",
    "    \n",
    "# Nbr itérations\n",
    "N = 100\n",
    "\n",
    "# taille paquet d'itérations\n",
    "fragment_size = 10\n",
    "\n",
    "precision = 2\n",
    "\n",
    "# mode de génération de l'état initial à chaque round\n",
    "mode_opt = [\"FIX\",\"RAND\",\"RAND_INF\",\"RAND_SUP\"]\n",
    "mode = mode_opt[1]\n",
    "\n",
    "catch_me = False\n",
    "\n",
    "# Lancement de la simulation\n",
    "#simulation(N,NPROCS,fragment_size,precision,mode,catch_me)"
   ]
  },
  {
   "cell_type": "markdown",
   "metadata": {},
   "source": [
    "#### Publication des résultats sur GitHub : https://github.com/HooBaeBoo/Stage-POLARIS"
   ]
  },
  {
   "cell_type": "code",
   "execution_count": null,
   "metadata": {},
   "outputs": [],
   "source": [
    "%%bash -s $experiment_name $site\n",
    "git add .\n",
    "git commit -m 'Automatic results update : '\"$1\"' --- '\"$2 \"\"R tutorial\""
   ]
  },
  {
   "cell_type": "markdown",
   "metadata": {},
   "source": [
    "#### Fin d'expérience : suppression du job"
   ]
  },
  {
   "cell_type": "code",
   "execution_count": null,
   "metadata": {},
   "outputs": [],
   "source": [
    "# oardel([(jobid,site)])"
   ]
  },
  {
   "cell_type": "code",
   "execution_count": null,
   "metadata": {},
   "outputs": [],
   "source": [
    "execo.Process(cmd='touch ./test2').run()"
   ]
  },
  {
   "cell_type": "code",
   "execution_count": null,
   "metadata": {},
   "outputs": [],
   "source": [
    "execo.process.Process(cmd = ' echo \"hey\"  > version.txt').run()"
   ]
  }
 ],
 "metadata": {
  "kernelspec": {
   "display_name": "Python 3",
   "language": "python",
   "name": "python3"
  },
  "language_info": {
   "codemirror_mode": {
    "name": "ipython",
    "version": 3
   },
   "file_extension": ".py",
   "mimetype": "text/x-python",
   "name": "python",
   "nbconvert_exporter": "python",
   "pygments_lexer": "ipython3",
   "version": "3.5.3"
  }
 },
 "nbformat": 4,
 "nbformat_minor": 2
}
