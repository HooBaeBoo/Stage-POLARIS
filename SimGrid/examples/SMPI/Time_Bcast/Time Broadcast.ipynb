{
 "cells": [
  {
   "cell_type": "markdown",
   "metadata": {},
   "source": [
    "# Broadcast"
   ]
  },
  {
   "cell_type": "markdown",
   "metadata": {},
   "source": [
    "### But : Faire un broadcast, départ décalé \n"
   ]
  },
  {
   "cell_type": "markdown",
   "metadata": {},
   "source": [
    "#### Informations générales"
   ]
  },
  {
   "cell_type": "code",
   "execution_count": 1,
   "metadata": {},
   "outputs": [],
   "source": [
    "experiment_name = \"Time_Bcast\""
   ]
  },
  {
   "cell_type": "code",
   "execution_count": 2,
   "metadata": {},
   "outputs": [
    {
     "name": "stdout",
     "output_type": "stream",
     "text": [
      "commit b5cb66a492b3d970e464e4961b68302a9e38a4fb\n",
      "Author: Najwa Ez Zine <nezzine@frennes>\n",
      "Date:   Fri Jun 8 13:54:51 2018 +0200\n",
      "\n",
      "    Journal update\n"
     ]
    },
    {
     "name": "stderr",
     "output_type": "stream",
     "text": [
      "Python 2.7.13\n"
     ]
    }
   ],
   "source": [
    "%%bash -s\n",
    "git log -n 1\n",
    "python --version"
   ]
  },
  {
   "cell_type": "markdown",
   "metadata": {},
   "source": [
    "#### Préparation de l'environnement"
   ]
  },
  {
   "cell_type": "code",
   "execution_count": 3,
   "metadata": {},
   "outputs": [
    {
     "name": "stdout",
     "output_type": "stream",
     "text": [
      "Collecting execo\n",
      "Installing collected packages: execo\n",
      "Successfully installed execo-2.6.3\n",
      "Collecting requests\n",
      "  Using cached https://files.pythonhosted.org/packages/49/df/50aa1999ab9bde74656c2919d9c0c085fd2b3775fd3eca826012bef76d8c/requests-2.18.4-py2.py3-none-any.whl\n",
      "Collecting idna<2.7,>=2.5 (from requests)\n",
      "  Using cached https://files.pythonhosted.org/packages/27/cc/6dd9a3869f15c2edfab863b992838277279ce92663d334df9ecf5106f5c6/idna-2.6-py2.py3-none-any.whl\n",
      "Collecting certifi>=2017.4.17 (from requests)\n",
      "  Using cached https://files.pythonhosted.org/packages/7c/e6/92ad559b7192d846975fc916b65f667c7b8c3a32bea7372340bfe9a15fa5/certifi-2018.4.16-py2.py3-none-any.whl\n",
      "Collecting urllib3<1.23,>=1.21.1 (from requests)\n",
      "  Using cached https://files.pythonhosted.org/packages/63/cb/6965947c13a94236f6d4b8223e21beb4d576dc72e8130bd7880f600839b8/urllib3-1.22-py2.py3-none-any.whl\n",
      "Collecting chardet<3.1.0,>=3.0.2 (from requests)\n",
      "  Using cached https://files.pythonhosted.org/packages/bc/a9/01ffebfb562e4274b6487b4bb1ddec7ca55ec7510b22e4c51f14098443b8/chardet-3.0.4-py2.py3-none-any.whl\n",
      "Installing collected packages: idna, certifi, urllib3, chardet, requests\n",
      "Successfully installed certifi-2018.4.16 chardet-3.0.4 idna-2.6 requests-2.18.4 urllib3-1.22\n"
     ]
    }
   ],
   "source": [
    "%%bash -s\n",
    "pip3 install --user execo\n",
    "pip3 install --user requests"
   ]
  },
  {
   "cell_type": "code",
   "execution_count": 125,
   "metadata": {},
   "outputs": [],
   "source": [
    "import execo\n",
    "from execo import *\n",
    "from execo_g5k import *\n",
    "from execo_engine import *\n",
    "import os\n",
    "import sys\n",
    "import json\n",
    "import time\n",
    "import datetime\n",
    "import re\n",
    "from shutil import copy\n",
    "from subprocess import check_output\n",
    "import random\n",
    "from threading import Thread\n",
    "import math\n",
    "import collections\n",
    "from collections import deque"
   ]
  },
  {
   "cell_type": "markdown",
   "metadata": {},
   "source": [
    "##### Réservation noeuds"
   ]
  },
  {
   "cell_type": "code",
   "execution_count": 5,
   "metadata": {},
   "outputs": [],
   "source": [
    "# Nom du job\n",
    "jobname = ' '\n",
    "# Nombre de noeuds\n",
    "nodecount = 4\n",
    "# Temps réservation\n",
    "walltime = \"3:0:0\" \n",
    "\n",
    "# filters out Nantes's econome cluster\n",
    "resources_selection = \"-p \\\"cluster in ('ecotype','parasilo','grisou')\\\"\" \n",
    "\n",
    "# Nancy\n",
    "site = \"rennes\""
   ]
  },
  {
   "cell_type": "code",
   "execution_count": 11,
   "metadata": {},
   "outputs": [
    {
     "name": "stdout",
     "output_type": "stream",
     "text": [
      "A   job is already running, using it. jobid is 1015577\n"
     ]
    }
   ],
   "source": [
    "jobs = get_current_oar_jobs()\n",
    "jobid = None\n",
    "waiting_jobs = []\n",
    "while jobs:\n",
    "    j, site = jobs.pop()\n",
    "    info = get_oar_job_info(j, site)\n",
    "    if info['name'] == jobname:\n",
    "        if info['state'] == 'Running':\n",
    "            jobid = j\n",
    "            print(\"A {} job is already running, using it. jobid is {}\".format(jobname, jobid))\n",
    "            break\n",
    "        else:\n",
    "            waiting_jobs.append(j)\n",
    "if not jobid and not waiting_jobs:\n",
    "    jobspec = OarSubmission(resources=\"/cluster=1/nodes={}\".format(nodecount), walltime=walltime,\n",
    "                            additional_options=resources_selection, job_type=\"deploy\", name=jobname)\n",
    "    jobid, _ = oarsub([(jobspec, site)]).pop()\n",
    "    print(\"New job submitted, jobid is {}\".format(jobid))\n",
    "elif not jobid:\n",
    "    print(\"One or more {} jobs exist ({}) but are not running.\\n\"\n",
    "          \" Connect to the frontend to see what is happening, and/or run the cell again.\".format(\n",
    "          jobname, \", \".join([str(j) for j in waiting_jobs])))"
   ]
  },
  {
   "cell_type": "markdown",
   "metadata": {},
   "source": [
    "On les range"
   ]
  },
  {
   "cell_type": "code",
   "execution_count": 12,
   "metadata": {},
   "outputs": [
    {
     "data": {
      "text/plain": [
       "[Host('parasilo-1.rennes.grid5000.fr'),\n",
       " Host('parasilo-10.rennes.grid5000.fr'),\n",
       " Host('parasilo-19.rennes.grid5000.fr'),\n",
       " Host('parasilo-24.rennes.grid5000.fr')]"
      ]
     },
     "execution_count": 12,
     "metadata": {},
     "output_type": "execute_result"
    }
   ],
   "source": [
    "nodes = get_oar_job_nodes(jobid)\n",
    "nodes.sort(key=lambda n: n.address)\n",
    "nodes"
   ]
  },
  {
   "cell_type": "markdown",
   "metadata": {},
   "source": [
    "##### Déploiement de l'environnement"
   ]
  },
  {
   "cell_type": "code",
   "execution_count": 13,
   "metadata": {},
   "outputs": [],
   "source": [
    "force_redeploy = False # set to True to force redeploying the OS on the nodes in the deployment section\n",
    "environment_dsc_file = 'src/debian9-x64-bigdata-tutorial.yaml' # filename of the kadeploy environment file (YAML)"
   ]
  },
  {
   "cell_type": "code",
   "execution_count": 14,
   "metadata": {
    "scrolled": true
   },
   "outputs": [
    {
     "name": "stdout",
     "output_type": "stream",
     "text": [
      "rennes: Deployment #D-c705e8af-2a86-4589-a9bb-11f69e866bf0 started\n",
      "rennes: Grab the key file /home/nezzine/.ssh/authorized_keys\n",
      "rennes: Grab the tarball file http://public.nancy.grid5000.fr/~pneyron/debian9-x64-bigdata-tutorial.tar.gz\n",
      "rennes: Grab the postinstall file server:///grid5000/postinstalls/g5k-postinstall.tgz\n",
      "rennes: Launching a deployment on parasilo-[1,10,19,24].rennes.grid5000.fr\n",
      "rennes: Performing a Deploy[SetDeploymentEnvUntrusted] step\n",
      "rennes:   switch_pxe\n",
      "rennes:   reboot\n",
      "rennes:    * Performing a soft reboot on parasilo-[1,10,19,24].rennes.grid5000.fr\n",
      "rennes:   wait_reboot\n",
      "rennes:   send_key_in_deploy_env\n",
      "rennes:   create_partition_table\n",
      "rennes:   format_deploy_part\n",
      "rennes:   mount_deploy_part\n",
      "rennes:   format_tmp_part\n",
      "rennes:   format_swap_part\n",
      "rennes: End of step Deploy[SetDeploymentEnvUntrusted] after 215s\n",
      "rennes: Performing a Deploy[BroadcastEnvKascade] step\n",
      "rennes:   send_environment\n",
      "rennes:    * Broadcast time: 73s\n",
      "rennes:   manage_admin_post_install\n",
      "rennes:   manage_user_post_install\n",
      "rennes:   check_kernel_files\n",
      "rennes:   send_key\n",
      "rennes:   install_bootloader\n",
      "rennes:   sync\n",
      "rennes: End of step Deploy[BroadcastEnvKascade] after 134s\n",
      "rennes: Performing a Deploy[BootNewEnvKexec] step\n",
      "rennes:   switch_pxe\n",
      "rennes:   umount_deploy_part\n",
      "rennes:   mount_deploy_part\n",
      "rennes:   kexec\n",
      "rennes:   wait_reboot\n",
      "rennes: End of step Deploy[BootNewEnvKexec] after 72s\n",
      "rennes: End of deployment for parasilo-[1,10,19,24].rennes.grid5000.fr after 421s\n",
      "rennes: End of deployment on cluster parasilo after 421s\n",
      "rennes: Deployment #D-c705e8af-2a86-4589-a9bb-11f69e866bf0 done\n",
      "rennes: \n",
      "rennes: The deployment is successful on nodes\n",
      "rennes: parasilo-1.rennes.grid5000.fr\n",
      "rennes: parasilo-10.rennes.grid5000.fr\n",
      "rennes: parasilo-19.rennes.grid5000.fr\n",
      "rennes: parasilo-24.rennes.grid5000.fr\n"
     ]
    },
    {
     "name": "stderr",
     "output_type": "stream",
     "text": [
      "rennes: Warning: Permanently added 'rennes.grid5000.fr,172.16.111.106' (ECDSA) to the list of known hosts.\r\n",
      "rennes: Connection to rennes.grid5000.fr closed.\r\n"
     ]
    }
   ],
   "source": [
    "deployment = Deployment(hosts=nodes, env_file = os.path.abspath(environment_dsc_file),\n",
    "                        other_options=\"-r ext4 --no-debug-mode\")\n",
    "\n",
    "deploy_ok, deploy_failed = deploy(deployment, check_deployed_command=not force_redeploy,\n",
    "                              stdout_handlers=[sys.stdout],\n",
    "                              stderr_handlers=[sys.stderr])"
   ]
  },
  {
   "cell_type": "markdown",
   "metadata": {},
   "source": [
    "#### Test : commande simple 'ls'"
   ]
  },
  {
   "cell_type": "code",
   "execution_count": null,
   "metadata": {},
   "outputs": [],
   "source": [
    "Remote_test = execo.action.Remote(cmd='ls',hosts=nodes,connection_params=None, process_args=None)\n",
    "Remote_test.run().ok"
   ]
  },
  {
   "cell_type": "markdown",
   "metadata": {},
   "source": [
    "#### Installation environnement sur noeud"
   ]
  },
  {
   "cell_type": "code",
   "execution_count": 15,
   "metadata": {},
   "outputs": [],
   "source": [
    "Remote_install = execo.action.Remote(cmd='apt-get install g++ libboost-all-dev && wget http://gforge.inria.fr/frs/download.php/latestfile/8/SimGrid-3.18.tar.gz && tar -xvf SimGrid-3.18.tar.gz && cd SimGrid-3.18 && cmake -DCMAKE_INSTALL_PREFIX=/usr/local -Denable_smpi=on -Denable_documentation=off && make -j && make check && make install -j',hosts=nodes,connection_params={'user':'root'})"
   ]
  },
  {
   "cell_type": "code",
   "execution_count": 16,
   "metadata": {},
   "outputs": [
    {
     "data": {
      "text/plain": [
       "True"
      ]
     },
     "execution_count": 16,
     "metadata": {},
     "output_type": "execute_result"
    }
   ],
   "source": [
    "Remote_install.run().ok"
   ]
  },
  {
   "cell_type": "markdown",
   "metadata": {},
   "source": [
    "#### Version Simgrid"
   ]
  },
  {
   "cell_type": "code",
   "execution_count": null,
   "metadata": {},
   "outputs": [],
   "source": [
    "execo.action.Remote(cmd='touch smpi_version.txt && smpicc --version > smpi_version.txt'\n",
    "                    , hosts=nodes, connection_params={'user': 'root'\n",
    "                    }).run()\n",
    "version = ''\n",
    "for i in range(0, nodecount):\n",
    "    execo.action.Get(hosts=nodes[i], remote_files=['~/smpi_version.txt'\n",
    "                     ], local_location='./smpicc_version-'\n",
    "                     + get_host_shortname(nodes[i]) + '.txt',\n",
    "                     connection_params={'user': 'root'}).run()\n",
    "    version = version + execo.Process(cmd='head -n 1 ./smpicc_version-'\n",
    "            + get_host_shortname(nodes[i]) + '.txt'\n",
    "            ).run().stdout.replace('\\n', '  ')\n",
    "    execo.Process(cmd='rm ./smpicc_version-'\n",
    "                  + get_host_shortname(nodes[i]) + '.txt').run()\n",
    "version\n"
   ]
  },
  {
   "cell_type": "code",
   "execution_count": 17,
   "metadata": {},
   "outputs": [],
   "source": [
    "path_base = \"~/Stage-POLARIS/SimGrid/examples/SMPI/\"+experiment_name\n",
    "path_src = path_base + '/src/'\n",
    "path_rslt = path_base + '/results/'"
   ]
  },
  {
   "cell_type": "markdown",
   "metadata": {},
   "source": [
    "#### Récupération fichiers sources"
   ]
  },
  {
   "cell_type": "code",
   "execution_count": null,
   "metadata": {},
   "outputs": [],
   "source": [
    "Src_get = execo.action.Remote(cmd='mkdir -p experiments_src',hosts=nodes,connection_params={'user':'root'})\n",
    "Src_get.run().ok"
   ]
  },
  {
   "cell_type": "code",
   "execution_count": null,
   "metadata": {},
   "outputs": [],
   "source": [
    "Remote_smpi_env = execo.action.Put(hosts=nodes,local_files=[path_src+\"griffon.xml\",path_src+\"griffon_hostfile.txt\",path_src+\"broadcast.c\",path_src+\"Makefile\"],remote_location='~/experiments_src',connection_params={'user':'root'})\n",
    "Remote_smpi_env.run().ok"
   ]
  },
  {
   "cell_type": "markdown",
   "metadata": {},
   "source": [
    "#### Execution de l'expérience"
   ]
  },
  {
   "cell_type": "code",
   "execution_count": null,
   "metadata": {},
   "outputs": [],
   "source": [
    "Remote_smpi = execo.action.Remote(cmd ='cd ~/experiments_src && make && make run NPROCS=2 MIN=0 MAX=10 N=2 DELAY=\\\"0 0\\\"',hosts=nodes,connection_params={'user':'root'})\n",
    "Remote_smpi.run().ok"
   ]
  },
  {
   "cell_type": "markdown",
   "metadata": {},
   "source": [
    "#### Récupération des résultats"
   ]
  },
  {
   "cell_type": "code",
   "execution_count": null,
   "metadata": {},
   "outputs": [],
   "source": [
    "Result_get = \\\n",
    "    execo.Process(cmd='mkdir -p /home/nezzine/Stage-POLARIS/SimGrid/examples/SMPI/'\n",
    "                   + experiment_name + '/results/'\n",
    "                  + datetime.datetime.now().strftime('%Y-%m-%d'))\n",
    "Result_get.run().ok"
   ]
  },
  {
   "cell_type": "code",
   "execution_count": null,
   "metadata": {
    "scrolled": true
   },
   "outputs": [],
   "source": [
    "for i in range(0, nodecount):\n",
    "    execo.action.Get(hosts = nodes[i],\n",
    "                     remote_files=['~/experiments_src/bcast_results.txt'\n",
    "                     ],\n",
    "                     local_location = path_rslt\n",
    "                     + datetime.datetime.now().strftime('%Y-%m-%d')\n",
    "                     + '/' + get_host_shortname(nodes[i]) + '_'\n",
    "                     + datetime.datetime.now().strftime('%Y-%m-%d_%H:%M'\n",
    "                     ) + '.txt', connection_params={'user': 'root'\n",
    "                     }).run().ok"
   ]
  },
  {
   "cell_type": "markdown",
   "metadata": {},
   "source": [
    "#### Delayer"
   ]
  },
  {
   "cell_type": "code",
   "execution_count": 18,
   "metadata": {},
   "outputs": [],
   "source": [
    "def init_tab(num, elt) :\n",
    "    D = [elt] * num\n",
    "    return D"
   ]
  },
  {
   "cell_type": "code",
   "execution_count": 19,
   "metadata": {},
   "outputs": [],
   "source": [
    "# Parsing the results\n",
    "def parser(num_node,date_precise):\n",
    "    with open('/home/nezzine/Stage-POLARIS/SimGrid/examples/SMPI/Time_Bcast/results/'\n",
    "               + date_precise.split('_')[0] + '/'\n",
    "              + get_host_shortname(nodes[num_node]) + '_'\n",
    "              + date_precise\n",
    "              + '.txt') as f:\n",
    "        return f.readlines()"
   ]
  },
  {
   "cell_type": "code",
   "execution_count": 20,
   "metadata": {},
   "outputs": [],
   "source": [
    "# Converting and organizing data\n",
    "def tab_conv(l,NPROCS) :\n",
    "    S = init_tab(NPROCS, None)\n",
    "        \n",
    "    # Taking useful data    \n",
    "    for i in range(0,NPROCS) :\n",
    "        line = l[i].split()\n",
    "        S[int(line[1])] = int(float(line[5]))\n",
    "    return S"
   ]
  },
  {
   "cell_type": "code",
   "execution_count": 21,
   "metadata": {},
   "outputs": [],
   "source": [
    "def delayer(num_node,NPROCS,date):\n",
    "    D = init_tab(NPROCS,0)\n",
    "    \n",
    "    raw_data = parser(num_node,date)\n",
    "    \n",
    "    S = tab_conv(raw_data,NPROCS)\n",
    "    \n",
    "    for p in range(0, NPROCS):\n",
    "        D[p] = S[p] - min(S)\n",
    "    return D"
   ]
  },
  {
   "cell_type": "code",
   "execution_count": null,
   "metadata": {},
   "outputs": [],
   "source": [
    "# Example\n",
    "delayer(0,10,'2018-06-04_12:38')"
   ]
  },
  {
   "cell_type": "markdown",
   "metadata": {},
   "source": [
    "##### Shortcut : séquentiel"
   ]
  },
  {
   "cell_type": "code",
   "execution_count": 22,
   "metadata": {},
   "outputs": [],
   "source": [
    "def setup() :\n",
    "    Src_dir = execo.action.Remote(cmd='mkdir -p experiments_src',\n",
    "                              hosts=nodes,\n",
    "                              connection_params={'user': 'root'})\n",
    "    Src_get = execo.action.Put(hosts=nodes, local_files=[path_src\n",
    "                                   + 'griffon.xml', path_src\n",
    "                                   + 'griffon_hostfile.txt', path_src\n",
    "                                   + 'broadcast.c', path_src + 'Makefile'],\n",
    "                                   remote_location='~/experiments_src',\n",
    "                                   connection_params={'user': 'root'})\n",
    "    Rslt_dir = \\\n",
    "        execo.Process(cmd='mkdir -p /home/nezzine/Stage-POLARIS/SimGrid/examples/SMPI/'\n",
    "                   + experiment_name + '/results/'\n",
    "                  + datetime.datetime.now().strftime('%Y-%m-%d'))\n",
    "\n",
    "# On récup les src\n",
    "    Src_dir.run().ok\n",
    "    Src_get.run().ok\n",
    "    Rslt_dir.run().ok\n"
   ]
  },
  {
   "cell_type": "code",
   "execution_count": null,
   "metadata": {},
   "outputs": [],
   "source": [
    "\n",
    "def parl_exec () :\n",
    "    setup()\n",
    "    # Nbr pcs\n",
    "    NPROCS = 10\n",
    "    \n",
    "    # Nbr itérations\n",
    "    N = 100\n",
    "    \n",
    "    D = init_tab(NPROCS,0)\n",
    "    delay = ' '.join(str(e) for e in D)\n",
    "    date = datetime.datetime.now().strftime('%Y-%m-%d');\n",
    "    date_precise = datetime.datetime.now().strftime('%Y-%m-%d_%H:%M')\n",
    "    print(date_precise)\n",
    "    \n",
    "    # TODO //\n",
    "    for i in range (0,nodecount) :\n",
    "        MIN = (int)((i*N)/len(nodes))\n",
    "        MAX = (int)(((i+1)*N)/len(nodes))\n",
    "        print(get_host_shortname(nodes[i])+\" => \"+str(i)+\" NPROCS = \"+str(NPROCS)\n",
    "             +\" MIN = \"+str(MIN)\n",
    "             +\" MAX = \"+str(MAX)\n",
    "             +\" N = \"+str(N)\n",
    "             +\" DELAY = '\"+ delay +\"'\"\n",
    "            )\n",
    "        bool = execo.action.Remote(cmd ='cd ~/experiments_src && make && make run NPROCS='\n",
    "                                  +str(NPROCS)+' MIN='+str(MIN) \n",
    "                                  +' MAX='+str(MAX)+' N='+str(N)\n",
    "                                  +\" DELAY='\"+delay\n",
    "                                  +\"'\",hosts=nodes[i],connection_params={'user':'root'}).run().ok\n",
    "        print(bool)\n",
    "        execo.action.Get(hosts=nodes[i],\n",
    "                     remote_files=['~/experiments_src/bcast_results.txt'\n",
    "                     ],\n",
    "                     local_location= path_rslt\n",
    "                     + date\n",
    "                     + '/' + get_host_shortname(nodes[i]) + '_'\n",
    "                     + date_precise + '.txt', connection_params={'user': 'root'\n",
    "                     }).run().ok\n",
    "        print(delayer(i,NPROCS,date_precise))\n",
    "    return;\n",
    "\n",
    "parl_exec()\n",
    "\n",
    "for i in range(0, nodecount):\n",
    "    execo.action.Get(hosts=nodes[i],\n",
    "                     remote_files=['~/experiments_src/bcast_results.txt'\n",
    "                     ],\n",
    "                     local_location=path_rslt\n",
    "                     + datetime.datetime.now().strftime('%Y-%m-%d')\n",
    "                     + '/' + get_host_shortname(nodes[i]) + '_'\n",
    "                     + datetime.datetime.now().strftime('%Y-%m-%d_%H:%M'\n",
    "                     ) + '.txt', connection_params={'user': 'root'\n",
    "                     }).run().ok"
   ]
  },
  {
   "cell_type": "markdown",
   "metadata": {},
   "source": [
    "#### Parallel simulation"
   ]
  },
  {
   "cell_type": "code",
   "execution_count": 222,
   "metadata": {},
   "outputs": [],
   "source": [
    "# Thread pour la simulation // opt.\n",
    "class ParSimer(Thread):\n",
    "\n",
    "    \"\"\"Thread chargé simplement d'afficher une lettre dans la console.\"\"\"\n",
    "    \n",
    "    # Paramètrage du thread\n",
    "    def __init__(self,i,MIN,MAX,N,DELAY):\n",
    "        Thread.__init__(self)\n",
    "        self.MIN = MIN\n",
    "        self.MAX = MAX\n",
    "        self.N = N\n",
    "        self.DELAY = DELAY\n",
    "        self.i = i\n",
    "    \n",
    "    # Set la valeur du délai\n",
    "    def set_delay(self,delay):\n",
    "        self.DELAY = delay\n",
    "    \n",
    "    def get_delay(self):\n",
    "        return self.DELAY\n",
    "    def get_MIN(self):\n",
    "        return self.MIN\n",
    "    def run(self):\n",
    "        \"\"\"Code à exécuter pendant l'exécution du thread.\"\"\"\n",
    "        print(get_host_shortname(nodes[self.i])+\" => \"+str(self.i)+\" NPROCS = \"+str(NPROCS)\n",
    "             +\" MIN = \"+str(self.MIN)\n",
    "             +\" MAX = \"+str(self.MAX)\n",
    "             +\" N = \"+str(self.N)\n",
    "             +\" DELAY = '\"+ self.DELAY +\"'\\n\"\n",
    "            )\n",
    "        \n",
    "        # make run sur toutes la machine dont le thread s'occupe avec ses paramètres\n",
    "        execo.action.Remote(cmd ='cd ~/experiments_src && make && make run NPROCS='\n",
    "                                  +str(NPROCS)+' MIN='+str(self.MIN) \n",
    "                                  +' MAX='+str(self.MAX)+' N='+str(self.N)\n",
    "                                  +\" DELAY='\"+self.DELAY\n",
    "                                  +\"'\",hosts=nodes[self.i],connection_params={'user':'root'}).run().ok\n"
   ]
  },
  {
   "cell_type": "code",
   "execution_count": 24,
   "metadata": {},
   "outputs": [],
   "source": [
    "# Test : trajectoire jusqu'à la ième machine raccrochée à la trajectoire initiale\n",
    "def coherence(tab,i):\n",
    "     return all(x == True for x in tab[0:i])"
   ]
  },
  {
   "cell_type": "code",
   "execution_count": 25,
   "metadata": {},
   "outputs": [],
   "source": [
    "# Formate le tableau en string pour pouvoir etre passé en ligne de commande\n",
    "def format_cmd(data):\n",
    "    return (' '.join(str(e) for e in data))"
   ]
  },
  {
   "cell_type": "code",
   "execution_count": 234,
   "metadata": {},
   "outputs": [],
   "source": [
    "# Formate le tableau en string pour pouvoir etre passé en ligne de commande\n",
    "def unformat_cmd(data):\n",
    "    return data.split()"
   ]
  },
  {
   "cell_type": "code",
   "execution_count": 259,
   "metadata": {},
   "outputs": [],
   "source": [
    "# SOURCE : https://stackoverflow.com/questions/3229419/how-to-pretty-print-nested-dictionaries\n",
    "def pretty(d, indent=0):\n",
    "    for key, value in d.items():\n",
    "        print('\\t' * indent + str(key))\n",
    "        if isinstance(value, dict):\n",
    "            pretty(value, indent+1)\n",
    "        else:\n",
    "            print('\\t' * (indent+1) + str(value))"
   ]
  },
  {
   "cell_type": "code",
   "execution_count": 306,
   "metadata": {},
   "outputs": [],
   "source": [
    "# SIMULATION\n",
    "### Simulation simple en diminuant le nbr de machines \n",
    "def simulation(N,NPROCS,mode):\n",
    "    setup() \n",
    "\n",
    "    # Dates\n",
    "    date_precise = datetime.datetime.now().strftime('%Y-%m-%d_%H:%M')\n",
    "    date = date_precise.split('_')[0]\n",
    "    \n",
    "    # Tableau de threads\n",
    "    machines = init_tab(nodecount,None)\n",
    "      \n",
    "    # position trajectoire cohérente courante\n",
    "    t_curr = 0\n",
    "    \n",
    "    # D de la trajectorie cohérente courante\n",
    "    D_curr = init_tab(NPROCS, 0)\n",
    "    \n",
    "    # taille paquet d'itérations\n",
    "    fragment_size = 25\n",
    "    \n",
    "    # Nombre de rounds maximum\n",
    "    \n",
    "    fragment_number = int((math.ceil(N/fragment_size)))\n",
    "    rounds_max = int((math.ceil(fragment_number/nodecount)))\n",
    "    print(rounds_max)\n",
    "    \n",
    "    # zone d'itérations à explorer\n",
    "    To_explore = collections.deque()\n",
    "    \n",
    "    ### Initialisation\n",
    "    for i in range(fragment_number):\n",
    "        To_explore.append((i * fragment_size, init_tab(NPROCS, 0)))\n",
    "    \n",
    "    curr_round = 0\n",
    "    sim = {}\n",
    "    while(True):\n",
    "        curr_round = curr_round + 1\n",
    "        \n",
    "        if(t_curr == fragment_number) :\n",
    "            break;\n",
    "            \n",
    "        \"\"\"\n",
    "       if(curr_round > rounds_max):\n",
    "            break\n",
    "       \"\"\" \n",
    "        \n",
    "\n",
    "        print(\"Round :  \" + str(curr_round) + \"   ---------------------------------------------------------\\n\")\n",
    "                \n",
    "        size = len(To_explore)\n",
    "        print(size)\n",
    "        for q in range(min(nodecount,size)):\n",
    "            parameters = To_explore.popleft()\n",
    "            MIN = parameters[0]\n",
    "            MAX = MIN + fragment_size\n",
    "            delay = format_cmd(parameters[1])\n",
    "            machines[q] = ParSimer(q, MIN, MAX, N, delay)\n",
    "            print(\"Machine \" + str(q) + \" MIN :\" + str(MIN) + \" MAX : \" + str(MAX) + \" D : \"+ delay)   \n",
    "            \n",
    "        # Lancement de la simulation\n",
    "        for i in range(min(nodecount,size)):\n",
    "            machines[i].start()\n",
    "            \n",
    "        # Fin de simulation\n",
    "        for i in range(min(nodecount,size)) :\n",
    "            machines[i].join()\n",
    "            # Récupération des résultats\n",
    "            execo.action.Get(hosts=nodes[i],\n",
    "                     remote_files=['~/experiments_src/bcast_results.txt'\n",
    "                     ],\n",
    "                     local_location= path_rslt\n",
    "                     + date\n",
    "                     + '/' + get_host_shortname(nodes[i]) + '_'\n",
    "                     + date_precise + '.txt', connection_params={'user': 'root'\n",
    "                     }).run().ok       \n",
    "        for q in range(min(nodecount,size)):\n",
    "            t = machines[q].get_MIN()\n",
    "            D = machines[q].get_delay()\n",
    "            Dprime = format_cmd(delayer(q,NPROCS,date_precise))\n",
    "            sim.update({t:{D:(Dprime,curr_round,q)}})\n",
    "            MAX = t + fragment_size\n",
    "            To_explore.append((MAX,Dprime))\n",
    "            \n",
    "        print(\"Tcurr : \"+ str(t_curr)+ \" D_curr : \"+ str(D_curr)+ \" Dprme\" + str(Dprime))\n",
    "        print(sim[t_curr][format_cmd(D_curr)])\n",
    "        print(sim[t_curr+fragment_size])\n",
    "        if(sim[t_curr][format_cmd(D_curr)] in sim[t_curr+fragment_size]):\n",
    "            t_curr = t_curr + fragment_size\n",
    "            D_curr = sim[t_curr + fragment_size][D_curr][0]\n",
    "            print(\"Tcurr : \"+ str(t_curr)+ \" D_curr : \"+ str(D_curr))\n",
    " \n",
    "        #pretty(sim)"
   ]
  },
  {
   "cell_type": "code",
   "execution_count": 307,
   "metadata": {},
   "outputs": [
    {
     "name": "stdout",
     "output_type": "stream",
     "text": [
      "1\n",
      "Round :  1   ---------------------------------------------------------\n",
      "\n",
      "4\n",
      "Machine 0 MIN :0 MAX : 25 D : 0 0 0\n",
      "Machine 1 MIN :25 MAX : 50 D : 0 0 0\n",
      "Machine 2 MIN :50 MAX : 75 D : 0 0 0\n",
      "Machine 3 MIN :75 MAX : 100 D : 0 0 0\n",
      "parasilo-1 => 0 NPROCS = 3 MIN = 0 MAX = 25 N = 100 DELAY = '0 0 0'\n",
      "\n",
      "parasilo-10 => 1 NPROCS = 3 MIN = 25 MAX = 50 N = 100 DELAY = '0 0 0'\n",
      "\n",
      "parasilo-19 => 2 NPROCS = 3 MIN = 50 MAX = 75 N = 100 DELAY = '0 0 0'\n",
      "\n",
      "parasilo-24 => 3 NPROCS = 3 MIN = 75 MAX = 100 N = 100 DELAY = '0 0 0'\n",
      "\n",
      "Tcurr : 0 D_curr : [0, 0, 0] Dprme1 3 0\n",
      "('1 5 0', 1, 0)\n",
      "{'0 0 0': ('1 3 0', 1, 1)}\n",
      "Round :  2   ---------------------------------------------------------\n",
      "\n",
      "4\n",
      "Machine 0 MIN :25 MAX : 50 D : 1   5   0\n",
      "Machine 1 MIN :50 MAX : 75 D : 1   3   0\n",
      "Machine 2 MIN :75 MAX : 100 D : 1   3   0\n",
      "Machine 3 MIN :100 MAX : 125 D : 1   3   0\n",
      "parasilo-1 => 0 NPROCS = 3 MIN = 25 MAX = 50 N = 100 DELAY = '1   5   0'\n",
      "\n",
      "parasilo-10 => 1 NPROCS = 3 MIN = 50 MAX = 75 N = 100 DELAY = '1   3   0'\n",
      "\n",
      "parasilo-19 => 2 NPROCS = 3 MIN = 75 MAX = 100 N = 100 DELAY = '1   3   0'\n",
      "\n",
      "parasilo-24 => 3 NPROCS = 3 MIN = 100 MAX = 125 N = 100 DELAY = '1   3   0'\n",
      "\n",
      "Tcurr : 0 D_curr : [0, 0, 0] Dprme0 0 0\n",
      "('1 5 0', 1, 0)\n",
      "{'1   5   0': ('2 3 0', 2, 0)}\n",
      "Round :  3   ---------------------------------------------------------\n",
      "\n",
      "4\n",
      "Machine 0 MIN :50 MAX : 75 D : 2   3   0\n",
      "Machine 1 MIN :75 MAX : 100 D : 0   0   0\n",
      "Machine 2 MIN :100 MAX : 125 D : 0   6   4\n",
      "Machine 3 MIN :125 MAX : 150 D : 0   0   0\n",
      "parasilo-1 => 0 NPROCS = 3 MIN = 50 MAX = 75 N = 100 DELAY = '2   3   0'\n",
      "\n",
      "parasilo-10 => 1 NPROCS = 3 MIN = 75 MAX = 100 N = 100 DELAY = '0   0   0'\n",
      "\n",
      "parasilo-19 => 2 NPROCS = 3 MIN = 100 MAX = 125 N = 100 DELAY = '0   6   4'\n",
      "\n",
      "parasilo-24 => 3 NPROCS = 3 MIN = 125 MAX = 150 N = 100 DELAY = '0   0   0'\n",
      "\n",
      "Tcurr : 0 D_curr : [0, 0, 0] Dprme0 0 0\n",
      "('1 5 0', 1, 0)\n",
      "{'1   5   0': ('2 3 0', 2, 0)}\n",
      "Round :  4   ---------------------------------------------------------\n",
      "\n",
      "4\n",
      "Machine 0 MIN :75 MAX : 100 D : 0   3   6\n",
      "Machine 1 MIN :100 MAX : 125 D : 0   8   2\n",
      "Machine 2 MIN :125 MAX : 150 D : 0   0   0\n",
      "Machine 3 MIN :150 MAX : 175 D : 0   0   0\n",
      "parasilo-1 => 0 NPROCS = 3 MIN = 75 MAX = 100 N = 100 DELAY = '0   3   6'\n",
      "\n",
      "parasilo-10 => 1 NPROCS = 3 MIN = 100 MAX = 125 N = 100 DELAY = '0   8   2'\n",
      "\n",
      "parasilo-19 => 2 NPROCS = 3 MIN = 125 MAX = 150 N = 100 DELAY = '0   0   0'\n",
      "\n",
      "parasilo-24 => 3 NPROCS = 3 MIN = 150 MAX = 175 N = 100 DELAY = '0   0   0'\n",
      "\n",
      "Tcurr : 0 D_curr : [0, 0, 0] Dprme0 0 0\n",
      "('1 5 0', 1, 0)\n",
      "{'1   5   0': ('2 3 0', 2, 0)}\n",
      "Round :  5   ---------------------------------------------------------\n",
      "\n",
      "4\n",
      "Machine 0 MIN :100 MAX : 125 D : 0   1 0   1 0\n",
      "Machine 1 MIN :125 MAX : 150 D : 0   0   0\n",
      "Machine 2 MIN :150 MAX : 175 D : 0   0   0\n",
      "Machine 3 MIN :175 MAX : 200 D : 0   0   0\n",
      "parasilo-1 => 0 NPROCS = 3 MIN = 100 MAX = 125 N = 100 DELAY = '0   1 0   1 0'\n",
      "\n",
      "parasilo-10 => 1 NPROCS = 3 MIN = 125 MAX = 150 N = 100 DELAY = '0   0   0'\n",
      "\n",
      "parasilo-19 => 2 NPROCS = 3 MIN = 150 MAX = 175 N = 100 DELAY = '0   0   0'\n",
      "\n",
      "parasilo-24 => 3 NPROCS = 3 MIN = 175 MAX = 200 N = 100 DELAY = '0   0   0'\n",
      "\n",
      "2018-06-11 16:08:00,965 \u001b[36mWARNING:\u001b[m terminated: <SshProcess(\"cd ~/experiments_src && make && make run NPROCS=3 MIN=100 MAX=125 N=100 DELAY='0   1 0   1 0'\", Host('parasilo-1.rennes.grid5000.fr'), connection_params={'user': 'root'}, name=cd ~/experiments_src && make && make..., started=True, start_date=2018-06-11 16:08:00+02:00, ended=True, end_date=2018-06-11 16:08:00+02:00, killed=False, error=False, error_reason=None, timeouted=False, expect_fail=False, write_error=False, exit_code=512, ok=False, pid=15499, real cmd=('ssh', '-tt', '-o', 'BatchMode=yes', '-o', 'PasswordAuthentication=no', '-o', 'StrictHostKeyChecking=no', '-o', 'UserKnownHostsFile=/dev/null', '-o', 'ConnectTimeout=20', '-o', 'User=root', 'parasilo-1.rennes.grid5000.fr', \"cd ~/experiments_src && make && make run NPROCS=3 MIN=100 MAX=125 N=100 DELAY='0   1 0   1 0'\"))>\n",
      "stdout:\n",
      "make: Nothing to be done for 'all'.\n",
      "smpirun -np 3 -platform griffon.xml -hostfile griffon_hostfile.txt ./bcast 100 125 100 0   1 0   1 0 > bcast_results.txt\n",
      "[0.000000] [xbt_cfg/INFO] Configuration change: Set 'surf/precision' to '1e-9'\n",
      "[0.000000] [xbt_cfg/INFO] Configuration change: Set 'network/model' to 'SMPI'\n",
      "[0.000000] [smpi_kernel/INFO] You did not set the power of the host running the simulation.  The timings will certainly not be accurate.  Use the option \"--cfg=smpi/host-speed:<flops>\" to set its value.Check http://simgrid.org/simgrid/latest/doc/options.html#options_smpi_bench for more information.\n",
      "[griffon-2.nancy.grid5000.fr:1:(2) 0.000000] /root/SimGrid-3.18/src/simix/smx_global.cpp:268: [simix_kernel/CRITICAL]    \n",
      "[griffon-2.nancy.grid5000.fr:1:(2) 0.000000] /root/SimGrid-3.18/src/simix/smx_global.cpp:269: [simix_kernel/CRITICAL] The time is still 0, and you still have processes ready to run.\n",
      "[griffon-2.nancy.grid5000.fr:1:(2) 0.000000] /root/SimGrid-3.18/src/simix/smx_global.cpp:270: [simix_kernel/CRITICAL] It seems that you forgot to run the simulation that you setup.\n",
      "[griffon-2.nancy.grid5000.fr:1:(2) 0.000000] /root/SimGrid-3.18/src/simix/smx_global.cpp:271: [xbt/CRITICAL] Bailing out to avoid that stop-before-start madness. Please fix your code.\n",
      "Makefile:42: recipe for target 'run' failed\n",
      "make: *** [run] Error 134\n",
      "\n",
      "stderr:\n",
      "Warning: Permanently added 'parasilo-1.rennes.grid5000.fr,172.16.97.1' (RSA) to the list of known hosts.\n",
      "Connection to parasilo-1.rennes.grid5000.fr closed.\n",
      "\n"
     ]
    },
    {
     "ename": "ValueError",
     "evalue": "could not convert string to float: 'smpitmp-appqAhCKn'",
     "output_type": "error",
     "traceback": [
      "\u001b[0;31m---------------------------------------------------------------------------\u001b[0m",
      "\u001b[0;31mValueError\u001b[0m                                Traceback (most recent call last)",
      "\u001b[0;32m<ipython-input-307-edfd7f13a1ed>\u001b[0m in \u001b[0;36m<module>\u001b[0;34m()\u001b[0m\n\u001b[1;32m      9\u001b[0m \u001b[0;34m\u001b[0m\u001b[0m\n\u001b[1;32m     10\u001b[0m \u001b[0;31m# Lancement de la simulation\u001b[0m\u001b[0;34m\u001b[0m\u001b[0;34m\u001b[0m\u001b[0m\n\u001b[0;32m---> 11\u001b[0;31m \u001b[0msimulation\u001b[0m\u001b[0;34m(\u001b[0m\u001b[0mN\u001b[0m\u001b[0;34m,\u001b[0m\u001b[0mNPROCS\u001b[0m\u001b[0;34m,\u001b[0m\u001b[0mmode\u001b[0m\u001b[0;34m[\u001b[0m\u001b[0;36m1\u001b[0m\u001b[0;34m]\u001b[0m\u001b[0;34m)\u001b[0m\u001b[0;34m\u001b[0m\u001b[0m\n\u001b[0m",
      "\u001b[0;32m<ipython-input-306-64f6175bba1d>\u001b[0m in \u001b[0;36msimulation\u001b[0;34m(N, NPROCS, mode)\u001b[0m\n\u001b[1;32m     78\u001b[0m             \u001b[0mt\u001b[0m \u001b[0;34m=\u001b[0m \u001b[0mmachines\u001b[0m\u001b[0;34m[\u001b[0m\u001b[0mq\u001b[0m\u001b[0;34m]\u001b[0m\u001b[0;34m.\u001b[0m\u001b[0mget_MIN\u001b[0m\u001b[0;34m(\u001b[0m\u001b[0;34m)\u001b[0m\u001b[0;34m\u001b[0m\u001b[0m\n\u001b[1;32m     79\u001b[0m             \u001b[0mD\u001b[0m \u001b[0;34m=\u001b[0m \u001b[0mmachines\u001b[0m\u001b[0;34m[\u001b[0m\u001b[0mq\u001b[0m\u001b[0;34m]\u001b[0m\u001b[0;34m.\u001b[0m\u001b[0mget_delay\u001b[0m\u001b[0;34m(\u001b[0m\u001b[0;34m)\u001b[0m\u001b[0;34m\u001b[0m\u001b[0m\n\u001b[0;32m---> 80\u001b[0;31m             \u001b[0mDprime\u001b[0m \u001b[0;34m=\u001b[0m \u001b[0mformat_cmd\u001b[0m\u001b[0;34m(\u001b[0m\u001b[0mdelayer\u001b[0m\u001b[0;34m(\u001b[0m\u001b[0mq\u001b[0m\u001b[0;34m,\u001b[0m\u001b[0mNPROCS\u001b[0m\u001b[0;34m,\u001b[0m\u001b[0mdate_precise\u001b[0m\u001b[0;34m)\u001b[0m\u001b[0;34m)\u001b[0m\u001b[0;34m\u001b[0m\u001b[0m\n\u001b[0m\u001b[1;32m     81\u001b[0m             \u001b[0msim\u001b[0m\u001b[0;34m.\u001b[0m\u001b[0mupdate\u001b[0m\u001b[0;34m(\u001b[0m\u001b[0;34m{\u001b[0m\u001b[0mt\u001b[0m\u001b[0;34m:\u001b[0m\u001b[0;34m{\u001b[0m\u001b[0mD\u001b[0m\u001b[0;34m:\u001b[0m\u001b[0;34m(\u001b[0m\u001b[0mDprime\u001b[0m\u001b[0;34m,\u001b[0m\u001b[0mcurr_round\u001b[0m\u001b[0;34m,\u001b[0m\u001b[0mq\u001b[0m\u001b[0;34m)\u001b[0m\u001b[0;34m}\u001b[0m\u001b[0;34m}\u001b[0m\u001b[0;34m)\u001b[0m\u001b[0;34m\u001b[0m\u001b[0m\n\u001b[1;32m     82\u001b[0m             \u001b[0mMAX\u001b[0m \u001b[0;34m=\u001b[0m \u001b[0mt\u001b[0m \u001b[0;34m+\u001b[0m \u001b[0mfragment_size\u001b[0m\u001b[0;34m\u001b[0m\u001b[0m\n",
      "\u001b[0;32m<ipython-input-21-2434d7dba9f7>\u001b[0m in \u001b[0;36mdelayer\u001b[0;34m(num_node, NPROCS, date)\u001b[0m\n\u001b[1;32m      4\u001b[0m     \u001b[0mraw_data\u001b[0m \u001b[0;34m=\u001b[0m \u001b[0mparser\u001b[0m\u001b[0;34m(\u001b[0m\u001b[0mnum_node\u001b[0m\u001b[0;34m,\u001b[0m\u001b[0mdate\u001b[0m\u001b[0;34m)\u001b[0m\u001b[0;34m\u001b[0m\u001b[0m\n\u001b[1;32m      5\u001b[0m \u001b[0;34m\u001b[0m\u001b[0m\n\u001b[0;32m----> 6\u001b[0;31m     \u001b[0mS\u001b[0m \u001b[0;34m=\u001b[0m \u001b[0mtab_conv\u001b[0m\u001b[0;34m(\u001b[0m\u001b[0mraw_data\u001b[0m\u001b[0;34m,\u001b[0m\u001b[0mNPROCS\u001b[0m\u001b[0;34m)\u001b[0m\u001b[0;34m\u001b[0m\u001b[0m\n\u001b[0m\u001b[1;32m      7\u001b[0m \u001b[0;34m\u001b[0m\u001b[0m\n\u001b[1;32m      8\u001b[0m     \u001b[0;32mfor\u001b[0m \u001b[0mp\u001b[0m \u001b[0;32min\u001b[0m \u001b[0mrange\u001b[0m\u001b[0;34m(\u001b[0m\u001b[0;36m0\u001b[0m\u001b[0;34m,\u001b[0m \u001b[0mNPROCS\u001b[0m\u001b[0;34m)\u001b[0m\u001b[0;34m:\u001b[0m\u001b[0;34m\u001b[0m\u001b[0m\n",
      "\u001b[0;32m<ipython-input-20-5a706767abf5>\u001b[0m in \u001b[0;36mtab_conv\u001b[0;34m(l, NPROCS)\u001b[0m\n\u001b[1;32m      6\u001b[0m     \u001b[0;32mfor\u001b[0m \u001b[0mi\u001b[0m \u001b[0;32min\u001b[0m \u001b[0mrange\u001b[0m\u001b[0;34m(\u001b[0m\u001b[0;36m0\u001b[0m\u001b[0;34m,\u001b[0m\u001b[0mNPROCS\u001b[0m\u001b[0;34m)\u001b[0m \u001b[0;34m:\u001b[0m\u001b[0;34m\u001b[0m\u001b[0m\n\u001b[1;32m      7\u001b[0m         \u001b[0mline\u001b[0m \u001b[0;34m=\u001b[0m \u001b[0ml\u001b[0m\u001b[0;34m[\u001b[0m\u001b[0mi\u001b[0m\u001b[0;34m]\u001b[0m\u001b[0;34m.\u001b[0m\u001b[0msplit\u001b[0m\u001b[0;34m(\u001b[0m\u001b[0;34m)\u001b[0m\u001b[0;34m\u001b[0m\u001b[0m\n\u001b[0;32m----> 8\u001b[0;31m         \u001b[0mS\u001b[0m\u001b[0;34m[\u001b[0m\u001b[0mint\u001b[0m\u001b[0;34m(\u001b[0m\u001b[0mline\u001b[0m\u001b[0;34m[\u001b[0m\u001b[0;36m1\u001b[0m\u001b[0;34m]\u001b[0m\u001b[0;34m)\u001b[0m\u001b[0;34m]\u001b[0m \u001b[0;34m=\u001b[0m \u001b[0mint\u001b[0m\u001b[0;34m(\u001b[0m\u001b[0mfloat\u001b[0m\u001b[0;34m(\u001b[0m\u001b[0mline\u001b[0m\u001b[0;34m[\u001b[0m\u001b[0;36m5\u001b[0m\u001b[0;34m]\u001b[0m\u001b[0;34m)\u001b[0m\u001b[0;34m)\u001b[0m\u001b[0;34m\u001b[0m\u001b[0m\n\u001b[0m\u001b[1;32m      9\u001b[0m     \u001b[0;32mreturn\u001b[0m \u001b[0mS\u001b[0m\u001b[0;34m\u001b[0m\u001b[0m\n",
      "\u001b[0;31mValueError\u001b[0m: could not convert string to float: 'smpitmp-appqAhCKn'"
     ]
    }
   ],
   "source": [
    "# Nbr pcs\n",
    "NPROCS = 3\n",
    "    \n",
    "# Nbr itérations\n",
    "N = 100\n",
    "\n",
    "# mode de génération de l'état initial à chaque round\n",
    "mode = [\"FIX\",\"RAND\",\"RAND_INF\",\"RAND_SUP\"]\n",
    "\n",
    "# Lancement de la simulation\n",
    "simulation(N,NPROCS,mode[1])"
   ]
  },
  {
   "cell_type": "code",
   "execution_count": 288,
   "metadata": {},
   "outputs": [
    {
     "name": "stdout",
     "output_type": "stream",
     "text": [
      "('First', 'Second')\n",
      "{1: ('First', 'Second')}\n"
     ]
    }
   ],
   "source": [
    "N = 100\n",
    "fragment_size = 10\n",
    "t = 1\n",
    "z=1\n",
    "D = init_tab((int) (N/fragment_size) ,0)\n",
    "sim = {t: {z:('First','Second')}, 'eeee':('First','Second') }\n",
    "\n",
    "print(sim[t][z])\n",
    "sim[t].update({z:('First','Second')})\n",
    "print(sim[t])\n",
    "if 3 in sim[t]:\n",
    "    print (\"yes: \" + str(sim[t][2]))\n",
    "#sim = {t: {D: delayer(i-1,Round,get_host_shortnames[nodes[i]])}, 'eeee': 'First'}\n"
   ]
  },
  {
   "cell_type": "markdown",
   "metadata": {},
   "source": [
    "#### Publication des résultats"
   ]
  },
  {
   "cell_type": "code",
   "execution_count": null,
   "metadata": {},
   "outputs": [],
   "source": [
    "%%bash -s $experiment_name $site\n",
    "git add .\n",
    "git commit -m 'Automatic results update : '\"$1\"'---'\"$2\"' Path'"
   ]
  },
  {
   "cell_type": "markdown",
   "metadata": {},
   "source": [
    "#### Fin d'expérience : suppression du job"
   ]
  },
  {
   "cell_type": "code",
   "execution_count": null,
   "metadata": {},
   "outputs": [],
   "source": [
    "oardel(jobid)"
   ]
  }
 ],
 "metadata": {
  "kernelspec": {
   "display_name": "Python 3",
   "language": "python",
   "name": "python3"
  },
  "language_info": {
   "codemirror_mode": {
    "name": "ipython",
    "version": 3
   },
   "file_extension": ".py",
   "mimetype": "text/x-python",
   "name": "python",
   "nbconvert_exporter": "python",
   "pygments_lexer": "ipython3",
   "version": "3.5.3"
  }
 },
 "nbformat": 4,
 "nbformat_minor": 2
}
