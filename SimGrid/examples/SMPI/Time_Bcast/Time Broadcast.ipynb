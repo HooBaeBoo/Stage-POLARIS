{
 "cells": [
  {
   "cell_type": "markdown",
   "metadata": {},
   "source": [
    "# Broadcast"
   ]
  },
  {
   "cell_type": "markdown",
   "metadata": {},
   "source": [
    "### But : Faire un broadcast, départ décalé \n"
   ]
  },
  {
   "cell_type": "markdown",
   "metadata": {},
   "source": [
    "#### Informations générales"
   ]
  },
  {
   "cell_type": "code",
   "execution_count": 1,
   "metadata": {},
   "outputs": [],
   "source": [
    "experiment_name = \"Time_Bcast\""
   ]
  },
  {
   "cell_type": "code",
   "execution_count": 2,
   "metadata": {},
   "outputs": [
    {
     "name": "stdout",
     "output_type": "stream",
     "text": [
      "commit 03cb8183d624c08eadcaf634d32448ca84526eee\n",
      "Author: Najwa Ez Zine <nezzine@fnancy>\n",
      "Date:   Fri May 25 12:58:09 2018 +0200\n",
      "\n",
      "    Simgrid version\n"
     ]
    },
    {
     "name": "stderr",
     "output_type": "stream",
     "text": [
      "Python 2.7.13\n"
     ]
    }
   ],
   "source": [
    "%%bash -s\n",
    "git log -n 1\n",
    "python --version"
   ]
  },
  {
   "cell_type": "markdown",
   "metadata": {},
   "source": [
    "#### Préparation de l'environnement"
   ]
  },
  {
   "cell_type": "code",
   "execution_count": 3,
   "metadata": {},
   "outputs": [
    {
     "name": "stdout",
     "output_type": "stream",
     "text": [
      "Collecting execo\n",
      "Installing collected packages: execo\n",
      "Successfully installed execo-2.6.3\n"
     ]
    }
   ],
   "source": [
    "%%bash -s\n",
    "pip3 install --user execo"
   ]
  },
  {
   "cell_type": "code",
   "execution_count": 4,
   "metadata": {},
   "outputs": [],
   "source": [
    "import execo\n",
    "from execo import *\n",
    "from execo_g5k import *\n",
    "from execo_engine import *\n",
    "import os\n",
    "import sys\n",
    "import json\n",
    "import time\n",
    "import datetime\n",
    "import re\n",
    "from shutil import copy\n",
    "from subprocess import check_output"
   ]
  },
  {
   "cell_type": "markdown",
   "metadata": {},
   "source": [
    "##### Réservation noeuds"
   ]
  },
  {
   "cell_type": "code",
   "execution_count": 5,
   "metadata": {},
   "outputs": [],
   "source": [
    "# Nom du job\n",
    "jobname = ' '\n",
    "# Nombre de noeuds\n",
    "nodecount = 5\n",
    "# Temps réservation\n",
    "walltime = \"6:0:0\" \n",
    "\n",
    "# filters out Nancy's graphene cluster (buggy)\n",
    "resources_selection = \"-p \\\"cluster != 'graphene'\\\"\" \n",
    "\n",
    "# Nancy\n",
    "site = \"nancy\""
   ]
  },
  {
   "cell_type": "code",
   "execution_count": 7,
   "metadata": {},
   "outputs": [
    {
     "name": "stdout",
     "output_type": "stream",
     "text": [
      "New job submitted, jobid is 1573541\n"
     ]
    }
   ],
   "source": [
    "jobs = get_current_oar_jobs()\n",
    "jobid = None\n",
    "waiting_jobs = []\n",
    "while jobs:\n",
    "    j, site = jobs.pop()\n",
    "    info = get_oar_job_info(j, site)\n",
    "    if info['name'] == jobname:\n",
    "        if info['state'] == 'Running':\n",
    "            jobid = j\n",
    "            print(\"A {} job is already running, using it. jobid is {}\".format(jobname, jobid))\n",
    "            break\n",
    "        else:\n",
    "            waiting_jobs.append(j)\n",
    "if not jobid and not waiting_jobs:\n",
    "    jobspec = OarSubmission(resources=\"/cluster=1/nodes={}\".format(nodecount), walltime=walltime,\n",
    "                            additional_options=resources_selection, job_type=\"deploy\", name=jobname)\n",
    "    jobid, _ = oarsub([(jobspec, site)]).pop()\n",
    "    print(\"New job submitted, jobid is {}\".format(jobid))\n",
    "elif not jobid:\n",
    "    print(\"One or more {} jobs exist ({}) but are not running.\\n\"\n",
    "          \" Connect to the frontend to see what is happening, and/or run the cell again.\".format(\n",
    "          jobname, \", \".join([str(j) for j in waiting_jobs])))"
   ]
  },
  {
   "cell_type": "markdown",
   "metadata": {},
   "source": [
    "On les range"
   ]
  },
  {
   "cell_type": "code",
   "execution_count": 8,
   "metadata": {},
   "outputs": [
    {
     "data": {
      "text/plain": [
       "[Host('grisou-16.nancy.grid5000.fr'),\n",
       " Host('grisou-34.nancy.grid5000.fr'),\n",
       " Host('grisou-49.nancy.grid5000.fr'),\n",
       " Host('grisou-5.nancy.grid5000.fr'),\n",
       " Host('grisou-9.nancy.grid5000.fr')]"
      ]
     },
     "execution_count": 8,
     "metadata": {},
     "output_type": "execute_result"
    }
   ],
   "source": [
    "nodes = get_oar_job_nodes(jobid)\n",
    "nodes.sort(key=lambda n: n.address)\n",
    "nodes"
   ]
  },
  {
   "cell_type": "markdown",
   "metadata": {},
   "source": [
    "##### Déploiement de l'environnement"
   ]
  },
  {
   "cell_type": "code",
   "execution_count": 9,
   "metadata": {},
   "outputs": [],
   "source": [
    "force_redeploy = False # set to True to force redeploying the OS on the nodes in the deployment section\n",
    "environment_dsc_file = '../../../../../EP/debian9-x64-bigdata-tutorial.yaml' # filename of the kadeploy environment file (YAML)"
   ]
  },
  {
   "cell_type": "code",
   "execution_count": 10,
   "metadata": {
    "scrolled": true
   },
   "outputs": [
    {
     "name": "stdout",
     "output_type": "stream",
     "text": [
      "nancy: Deployment #D-2be8e89d-59e9-4177-a3e8-b4e8ff9e266d started\n",
      "nancy: Grab the key file /home/nezzine/.ssh/authorized_keys\n",
      "nancy: Grab the tarball file http://public.nancy.grid5000.fr/~pneyron/debian9-x64-bigdata-tutorial.tar.gz\n",
      "nancy: Grab the postinstall file server:///grid5000/postinstalls/g5k-postinstall.tgz\n",
      "nancy: Launching a deployment on grisou-[5,9,16,34,49].nancy.grid5000.fr\n",
      "nancy: Performing a Deploy[SetDeploymentEnvUntrusted] step\n",
      "nancy:   switch_pxe\n",
      "nancy:   reboot\n",
      "nancy:    * Performing a soft reboot on grisou-[5,9,16,34,49].nancy.grid5000.fr\n",
      "nancy:   wait_reboot\n",
      "nancy:   send_key_in_deploy_env\n",
      "nancy:   create_partition_table\n",
      "nancy:   format_deploy_part\n",
      "nancy:   mount_deploy_part\n",
      "nancy:   format_tmp_part\n",
      "nancy:   format_swap_part\n",
      "nancy: End of step Deploy[SetDeploymentEnvUntrusted] after 158s\n",
      "nancy: Performing a Deploy[BroadcastEnvKascade] step\n",
      "nancy:   send_environment\n",
      "nancy:    * Broadcast time: 71s\n",
      "nancy:   manage_admin_post_install\n",
      "nancy:   manage_user_post_install\n",
      "nancy:   check_kernel_files\n",
      "nancy:   send_key\n",
      "nancy:   install_bootloader\n",
      "nancy:   sync\n",
      "nancy: End of step Deploy[BroadcastEnvKascade] after 115s\n",
      "nancy: Performing a Deploy[BootNewEnvKexec] step\n",
      "nancy:   switch_pxe\n",
      "nancy:   umount_deploy_part\n",
      "nancy:   mount_deploy_part\n",
      "nancy:   kexec\n",
      "nancy:   wait_reboot\n",
      "nancy: End of step Deploy[BootNewEnvKexec] after 38s\n",
      "nancy: End of deployment for grisou-[5,9,16,34,49].nancy.grid5000.fr after 311s\n",
      "nancy: End of deployment on cluster grisou after 312s\n",
      "nancy: Deployment #D-2be8e89d-59e9-4177-a3e8-b4e8ff9e266d done\n",
      "nancy: \n",
      "nancy: The deployment is successful on nodes\n",
      "nancy: grisou-5.nancy.grid5000.fr\n",
      "nancy: grisou-9.nancy.grid5000.fr\n",
      "nancy: grisou-16.nancy.grid5000.fr\n",
      "nancy: grisou-34.nancy.grid5000.fr\n",
      "nancy: grisou-49.nancy.grid5000.fr\n"
     ]
    },
    {
     "name": "stderr",
     "output_type": "stream",
     "text": [
      "nancy: Warning: Permanently added 'nancy.grid5000.fr,172.16.79.101' (ECDSA) to the list of known hosts.\r\n",
      "nancy: Connection to nancy.grid5000.fr closed.\r\n"
     ]
    }
   ],
   "source": [
    "deployment = Deployment(hosts=nodes, env_file = os.path.abspath(environment_dsc_file),\n",
    "                        other_options=\"-r ext4 --no-debug-mode\")\n",
    "\n",
    "deploy_ok, deploy_failed = deploy(deployment, check_deployed_command=not force_redeploy,\n",
    "                              stdout_handlers=[sys.stdout],\n",
    "                              stderr_handlers=[sys.stderr])"
   ]
  },
  {
   "cell_type": "markdown",
   "metadata": {},
   "source": [
    "#### Test : commande simple 'ls'"
   ]
  },
  {
   "cell_type": "code",
   "execution_count": 120,
   "metadata": {},
   "outputs": [
    {
     "data": {
      "text/plain": [
       "Remote('ls', [Host('grisou-3.nancy.grid5000.fr'), Host('grisou-40.nancy.grid5000.fr'), Host('grisou-43.nancy.grid5000.fr'), Host('grisou-49.nancy.grid5000.fr'), Host('grisou-50.nancy.grid5000.fr')])"
      ]
     },
     "execution_count": 120,
     "metadata": {},
     "output_type": "execute_result"
    }
   ],
   "source": [
    "# execo.action.Remote(cmd,hosts,connection_params,process_args)\n",
    "Remote_test = execo.action.Remote(cmd='ls',hosts=nodes,connection_params=None, process_args=None)\n",
    "Remote_test.run().ok"
   ]
  },
  {
   "cell_type": "markdown",
   "metadata": {},
   "source": [
    "#### Installation environnement sur noeud"
   ]
  },
  {
   "cell_type": "code",
   "execution_count": 11,
   "metadata": {},
   "outputs": [],
   "source": [
    "Remote_install = execo.action.Remote(cmd='apt-get install g++ libboost-all-dev && wget http://gforge.inria.fr/frs/download.php/latestfile/8/SimGrid-3.18.tar.gz && tar -xvf SimGrid-3.18.tar.gz && cd SimGrid-3.18 && cmake -DCMAKE_INSTALL_PREFIX=/usr/local -Denable_smpi=on -Denable_documentation=off && make -j && make check && make install -j',hosts=nodes,connection_params={'user':'root'})"
   ]
  },
  {
   "cell_type": "code",
   "execution_count": 12,
   "metadata": {},
   "outputs": [
    {
     "data": {
      "text/plain": [
       "True"
      ]
     },
     "execution_count": 12,
     "metadata": {},
     "output_type": "execute_result"
    }
   ],
   "source": [
    "Remote_install.run().ok"
   ]
  },
  {
   "cell_type": "markdown",
   "metadata": {},
   "source": [
    "#### Version Simgrid"
   ]
  },
  {
   "cell_type": "code",
   "execution_count": 134,
   "metadata": {},
   "outputs": [
    {
     "data": {
      "text/plain": [
       "'SimGrid version 3.18  SimGrid version 3.18  SimGrid version 3.18  SimGrid version 3.18  SimGrid version 3.18  '"
      ]
     },
     "execution_count": 134,
     "metadata": {},
     "output_type": "execute_result"
    }
   ],
   "source": [
    "execo.action.Remote(cmd='touch smpi_version.txt && smpicc --version > smpi_version.txt',hosts=nodes,connection_params={'user':'root'}).run()\n",
    "version = ''\n",
    "for i in range(0,nodecount) :\n",
    "    execo.action.Get(hosts=nodes[i],remote_files=[\"~/smpi_version.txt\"], local_location='./smpicc_version-'+get_host_shortname(nodes[i])+'.txt',connection_params={'user':'root'}).run()\n",
    "    version = version + execo.Process(cmd='cat ./smpicc_version-'+get_host_shortname(nodes[i])+'.txt').run().stdout.replace('\\n','  ')\n",
    "    execo.Process(cmd='rm ./smpicc_version-'+get_host_shortname(nodes[i])+'.txt').run()\n",
    "version"
   ]
  },
  {
   "cell_type": "code",
   "execution_count": 13,
   "metadata": {},
   "outputs": [],
   "source": [
    "path = \"~/Stage-POLARIS/SimGrid/examples/SMPI/\"+experiment_name+'/src/'"
   ]
  },
  {
   "cell_type": "markdown",
   "metadata": {},
   "source": [
    "#### Récupération fichiers sources"
   ]
  },
  {
   "cell_type": "code",
   "execution_count": 14,
   "metadata": {},
   "outputs": [
    {
     "data": {
      "text/plain": [
       "True"
      ]
     },
     "execution_count": 14,
     "metadata": {},
     "output_type": "execute_result"
    }
   ],
   "source": [
    "Src_get = execo.action.Remote(cmd='mkdir -p experiments_src',hosts=nodes,connection_params={'user':'root'})\n",
    "Src_get.run().ok"
   ]
  },
  {
   "cell_type": "code",
   "execution_count": 15,
   "metadata": {},
   "outputs": [
    {
     "data": {
      "text/plain": [
       "True"
      ]
     },
     "execution_count": 15,
     "metadata": {},
     "output_type": "execute_result"
    }
   ],
   "source": [
    "Remote_smpi_env = execo.action.Put(hosts=nodes,local_files=[path+\"griffon.xml\",path+\"griffon_hostfile.txt\",path+\"broadcast.c\",path+\"Makefile\"],remote_location='~/experiments_src',connection_params={'user':'root'})\n",
    "Remote_smpi_env.run().ok"
   ]
  },
  {
   "cell_type": "markdown",
   "metadata": {},
   "source": [
    "#### Execution de l'expérience"
   ]
  },
  {
   "cell_type": "code",
   "execution_count": 16,
   "metadata": {},
   "outputs": [
    {
     "name": "stdout",
     "output_type": "stream",
     "text": [
      "2018-05-28 10:56:21,542 \u001b[36mWARNING:\u001b[m terminated: <SshProcess('cd ~/experiments_src && make && make run NPROCS=2 MIN=0 MAX=10 N=2 0 0', Host('grisou-16.nancy.grid5000.fr'), connection_params={'user': 'root'}, name=cd ~/experiments_src && make && make..., started=True, start_date=2018-05-28 10:56:21+02:00, ended=True, end_date=2018-05-28 10:56:21+02:00, killed=False, error=False, error_reason=None, timeouted=False, expect_fail=False, write_error=False, exit_code=512, ok=False, pid=11934, real cmd=('ssh', '-tt', '-o', 'BatchMode=yes', '-o', 'PasswordAuthentication=no', '-o', 'StrictHostKeyChecking=no', '-o', 'UserKnownHostsFile=/dev/null', '-o', 'ConnectTimeout=20', '-o', 'User=root', 'grisou-16.nancy.grid5000.fr', 'cd ~/experiments_src && make && make run NPROCS=2 MIN=0 MAX=10 N=2 0 0'))>\n",
      "stdout:\n",
      "smpicc   -g -Wshadow -Wcast-align -Waggregate-return -Wmissing-prototypes -Wmissing-declarations -Wmissing-prototypes -Wmissing-declarations -Wredundant-decls -Wnested-externs -Wpointer-arith -Wwrite-strings -finline-functions -Wall -O0 -c -o broadcast.o broadcast.c\n",
      "\u001b[01m\u001b[K/root/experiments_src/broadcast.c:13:6:\u001b[m\u001b[K \u001b[01;35m\u001b[Kwarning: \u001b[m\u001b[Kno previous prototype for ‘\u001b[01m\u001b[KMPI_sleep\u001b[m\u001b[K’ [\u001b[01;35m\u001b[K-Wmissing-prototypes\u001b[m\u001b[K]\n",
      " void \u001b[01;35m\u001b[KMPI_sleep\u001b[m\u001b[K(int time)\n",
      "      \u001b[01;35m\u001b[K^~~~~~~~~\u001b[m\u001b[K\n",
      "\u001b[01m\u001b[K/root/experiments_src/broadcast.c:\u001b[m\u001b[K In function ‘\u001b[01m\u001b[Kmain\u001b[m\u001b[K’:\n",
      "\u001b[01m\u001b[K/root/experiments_src/broadcast.c:34:5:\u001b[m\u001b[K \u001b[01;35m\u001b[Kwarning: \u001b[m\u001b[Kimplicit declaration of function ‘\u001b[01m\u001b[Kprintln\u001b[m\u001b[K’ [\u001b[01;35m\u001b[K-Wimplicit-function-declaration\u001b[m\u001b[K]\n",
      "     \u001b[01;35m\u001b[Kprintln\u001b[m\u001b[K(\"ERROR : incorrect arguments number\");\n",
      "     \u001b[01;35m\u001b[K^~~~~~~\u001b[m\u001b[K\n",
      "\u001b[01m\u001b[K/root/experiments_src/broadcast.c:34:5:\u001b[m\u001b[K \u001b[01;35m\u001b[Kwarning: \u001b[m\u001b[Knested extern declaration of ‘\u001b[01m\u001b[Kprintln\u001b[m\u001b[K’ [\u001b[01;35m\u001b[K-Wnested-externs\u001b[m\u001b[K]\n",
      "\u001b[01m\u001b[K/root/experiments_src/broadcast.c:38:26:\u001b[m\u001b[K \u001b[01;31m\u001b[Kerror: \u001b[m\u001b[Kexpected ‘\u001b[01m\u001b[K)\u001b[m\u001b[K’ before ‘\u001b[01m\u001b[K;\u001b[m\u001b[K’ token\n",
      "     D[i] = atoi(argv[6+i]\u001b[01;31m\u001b[K;\u001b[m\u001b[K\n",
      "                          \u001b[01;31m\u001b[K^\u001b[m\u001b[K\n",
      "\u001b[01m\u001b[K/root/experiments_src/broadcast.c:39:3:\u001b[m\u001b[K \u001b[01;31m\u001b[Kerror: \u001b[m\u001b[Kexpected ‘\u001b[01m\u001b[K;\u001b[m\u001b[K’ before ‘\u001b[01m\u001b[K}\u001b[m\u001b[K’ token\n",
      "   \u001b[01;31m\u001b[K}\u001b[m\u001b[K\n",
      "   \u001b[01;31m\u001b[K^\u001b[m\u001b[K\n",
      "\u001b[01m\u001b[K/root/experiments_src/broadcast.c:11:133:\u001b[m\u001b[K \u001b[01;31m\u001b[Kerror: \u001b[m\u001b[K‘\u001b[01m\u001b[KS\u001b[m\u001b[K’ undeclared (first use in this function)\n",
      " #define PARSIM(min,max,D,i) if(i<min){i=min; printf(\"[%d] Sleeping\\n\",world_rank); ;MPI_sleep(D[world_rank]); } if (i>=max) {break; \u001b[01;31m\u001b[KS\u001b[m\u001b[K[world_rank]=MPI_Wtime()}\n",
      "                                                                                                                                     \u001b[01;31m\u001b[K^\u001b[m\u001b[K\n",
      "\u001b[01m\u001b[K/root/experiments_src/broadcast.c:76:5:\u001b[m\u001b[K \u001b[01;36m\u001b[Knote: \u001b[m\u001b[Kin expansion of macro ‘\u001b[01m\u001b[KPARSIM\u001b[m\u001b[K’\n",
      "     \u001b[01;36m\u001b[KPARSIM\u001b[m\u001b[K(min, max, D, i);\n",
      "     \u001b[01;36m\u001b[K^~~~~~\u001b[m\u001b[K\n",
      "\u001b[01m\u001b[K/root/experiments_src/broadcast.c:11:133:\u001b[m\u001b[K \u001b[01;36m\u001b[Knote: \u001b[m\u001b[Keach undeclared identifier is reported only once for each function it appears in\n",
      " #define PARSIM(min,max,D,i) if(i<min){i=min; printf(\"[%d] Sleeping\\n\",world_rank); ;MPI_sleep(D[world_rank]); } if (i>=max) {break; \u001b[01;36m\u001b[KS\u001b[m\u001b[K[world_rank]=MPI_Wtime()}\n",
      "                                                                                                                                     \u001b[01;36m\u001b[K^\u001b[m\u001b[K\n",
      "\u001b[01m\u001b[K/root/experiments_src/broadcast.c:76:5:\u001b[m\u001b[K \u001b[01;36m\u001b[Knote: \u001b[m\u001b[Kin expansion of macro ‘\u001b[01m\u001b[KPARSIM\u001b[m\u001b[K’\n",
      "     \u001b[01;36m\u001b[KPARSIM\u001b[m\u001b[K(min, max, D, i);\n",
      "     \u001b[01;36m\u001b[K^~~~~~\u001b[m\u001b[K\n",
      "\u001b[01m\u001b[K/root/experiments_src/broadcast.c:11:158:\u001b[m\u001b[K \u001b[01;31m\u001b[Kerror: \u001b[m\u001b[Kexpected ‘\u001b[01m\u001b[K;\u001b[m\u001b[K’ before ‘\u001b[01m\u001b[K}\u001b[m\u001b[K’ token\n",
      " #define PARSIM(min,max,D,i) if(i<min){i=min; printf(\"[%d] Sleeping\\n\",world_rank); ;MPI_sleep(D[world_rank]); } if (i>=max) {break; S[world_rank]=MPI_Wtime()\u001b[01;31m\u001b[K}\u001b[m\u001b[K\n",
      "                                                                                                                                                              \u001b[01;31m\u001b[K^\u001b[m\u001b[K\n",
      "\u001b[01m\u001b[K/root/experiments_src/broadcast.c:76:5:\u001b[m\u001b[K \u001b[01;36m\u001b[Knote: \u001b[m\u001b[Kin expansion of macro ‘\u001b[01m\u001b[KPARSIM\u001b[m\u001b[K’\n",
      "     \u001b[01;36m\u001b[KPARSIM\u001b[m\u001b[K(min, max, D, i);\n",
      "     \u001b[01;36m\u001b[K^~~~~~\u001b[m\u001b[K\n",
      "\u001b[01m\u001b[K/root/experiments_src/broadcast.c:49:7:\u001b[m\u001b[K \u001b[01;35m\u001b[Kwarning: \u001b[m\u001b[Kunused variable ‘\u001b[01m\u001b[Kmemory\u001b[m\u001b[K’ [\u001b[01;35m\u001b[K-Wunused-variable\u001b[m\u001b[K]\n",
      "   int \u001b[01;35m\u001b[Kmemory\u001b[m\u001b[K[N][world_size];\n",
      "       \u001b[01;35m\u001b[K^~~~~~\u001b[m\u001b[K\n",
      "Makefile:33: recipe for target 'broadcast.o' failed\n",
      "make: *** [broadcast.o] Error 1\n",
      "\n",
      "stderr:\n",
      "Warning: Permanently added 'grisou-16.nancy.grid5000.fr,172.16.72.16' (RSA) to the list of known hosts.\n",
      "Connection to grisou-16.nancy.grid5000.fr closed.\n",
      "\n",
      "2018-05-28 10:56:21,574 \u001b[36mWARNING:\u001b[m terminated: <SshProcess('cd ~/experiments_src && make && make run NPROCS=2 MIN=0 MAX=10 N=2 0 0', Host('grisou-34.nancy.grid5000.fr'), connection_params={'user': 'root'}, name=cd ~/experiments_src && make && make..., started=True, start_date=2018-05-28 10:56:21+02:00, ended=True, end_date=2018-05-28 10:56:21+02:00, killed=False, error=False, error_reason=None, timeouted=False, expect_fail=False, write_error=False, exit_code=512, ok=False, pid=11935, real cmd=('ssh', '-tt', '-o', 'BatchMode=yes', '-o', 'PasswordAuthentication=no', '-o', 'StrictHostKeyChecking=no', '-o', 'UserKnownHostsFile=/dev/null', '-o', 'ConnectTimeout=20', '-o', 'User=root', 'grisou-34.nancy.grid5000.fr', 'cd ~/experiments_src && make && make run NPROCS=2 MIN=0 MAX=10 N=2 0 0'))>\n",
      "stdout:\n",
      "smpicc   -g -Wshadow -Wcast-align -Waggregate-return -Wmissing-prototypes -Wmissing-declarations -Wmissing-prototypes -Wmissing-declarations -Wredundant-decls -Wnested-externs -Wpointer-arith -Wwrite-strings -finline-functions -Wall -O0 -c -o broadcast.o broadcast.c\n",
      "\u001b[01m\u001b[K/root/experiments_src/broadcast.c:13:6:\u001b[m\u001b[K \u001b[01;35m\u001b[Kwarning: \u001b[m\u001b[Kno previous prototype for ‘\u001b[01m\u001b[KMPI_sleep\u001b[m\u001b[K’ [\u001b[01;35m\u001b[K-Wmissing-prototypes\u001b[m\u001b[K]\n",
      " void \u001b[01;35m\u001b[KMPI_sleep\u001b[m\u001b[K(int time)\n",
      "      \u001b[01;35m\u001b[K^~~~~~~~~\u001b[m\u001b[K\n",
      "\u001b[01m\u001b[K/root/experiments_src/broadcast.c:\u001b[m\u001b[K In function ‘\u001b[01m\u001b[Kmain\u001b[m\u001b[K’:\n",
      "\u001b[01m\u001b[K/root/experiments_src/broadcast.c:34:5:\u001b[m\u001b[K \u001b[01;35m\u001b[Kwarning: \u001b[m\u001b[Kimplicit declaration of function ‘\u001b[01m\u001b[Kprintln\u001b[m\u001b[K’ [\u001b[01;35m\u001b[K-Wimplicit-function-declaration\u001b[m\u001b[K]\n",
      "     \u001b[01;35m\u001b[Kprintln\u001b[m\u001b[K(\"ERROR : incorrect arguments number\");\n",
      "     \u001b[01;35m\u001b[K^~~~~~~\u001b[m\u001b[K\n",
      "\u001b[01m\u001b[K/root/experiments_src/broadcast.c:34:5:\u001b[m\u001b[K \u001b[01;35m\u001b[Kwarning: \u001b[m\u001b[Knested extern declaration of ‘\u001b[01m\u001b[Kprintln\u001b[m\u001b[K’ [\u001b[01;35m\u001b[K-Wnested-externs\u001b[m\u001b[K]\n",
      "\u001b[01m\u001b[K/root/experiments_src/broadcast.c:38:26:\u001b[m\u001b[K \u001b[01;31m\u001b[Kerror: \u001b[m\u001b[Kexpected ‘\u001b[01m\u001b[K)\u001b[m\u001b[K’ before ‘\u001b[01m\u001b[K;\u001b[m\u001b[K’ token\n",
      "     D[i] = atoi(argv[6+i]\u001b[01;31m\u001b[K;\u001b[m\u001b[K\n",
      "                          \u001b[01;31m\u001b[K^\u001b[m\u001b[K\n",
      "\u001b[01m\u001b[K/root/experiments_src/broadcast.c:39:3:\u001b[m\u001b[K \u001b[01;31m\u001b[Kerror: \u001b[m\u001b[Kexpected ‘\u001b[01m\u001b[K;\u001b[m\u001b[K’ before ‘\u001b[01m\u001b[K}\u001b[m\u001b[K’ token\n",
      "   \u001b[01;31m\u001b[K}\u001b[m\u001b[K\n",
      "   \u001b[01;31m\u001b[K^\u001b[m\u001b[K\n",
      "\u001b[01m\u001b[K/root/experiments_src/broadcast.c:11:133:\u001b[m\u001b[K \u001b[01;31m\u001b[Kerror: \u001b[m\u001b[K‘\u001b[01m\u001b[KS\u001b[m\u001b[K’ undeclared (first use in this function)\n",
      " #define PARSIM(min,max,D,i) if(i<min){i=min; printf(\"[%d] Sleeping\\n\",world_rank); ;MPI_sleep(D[world_rank]); } if (i>=max) {break; \u001b[01;31m\u001b[KS\u001b[m\u001b[K[world_rank]=MPI_Wtime()}\n",
      "                                                                                                                                     \u001b[01;31m\u001b[K^\u001b[m\u001b[K\n",
      "\u001b[01m\u001b[K/root/experiments_src/broadcast.c:76:5:\u001b[m\u001b[K \u001b[01;36m\u001b[Knote: \u001b[m\u001b[Kin expansion of macro ‘\u001b[01m\u001b[KPARSIM\u001b[m\u001b[K’\n",
      "     \u001b[01;36m\u001b[KPARSIM\u001b[m\u001b[K(min, max, D, i);\n",
      "     \u001b[01;36m\u001b[K^~~~~~\u001b[m\u001b[K\n",
      "\u001b[01m\u001b[K/root/experiments_src/broadcast.c:11:133:\u001b[m\u001b[K \u001b[01;36m\u001b[Knote: \u001b[m\u001b[Keach undeclared identifier is reported only once for each function it appears in\n",
      " #define PARSIM(min,max,D,i) if(i<min){i=min; printf(\"[%d] Sleeping\\n\",world_rank); ;MPI_sleep(D[world_rank]); } if (i>=max) {break; \u001b[01;36m\u001b[KS\u001b[m\u001b[K[world_rank]=MPI_Wtime()}\n",
      "                                                                                                                                     \u001b[01;36m\u001b[K^\u001b[m\u001b[K\n",
      "\u001b[01m\u001b[K/root/experiments_src/broadcast.c:76:5:\u001b[m\u001b[K \u001b[01;36m\u001b[Knote: \u001b[m\u001b[Kin expansion of macro ‘\u001b[01m\u001b[KPARSIM\u001b[m\u001b[K’\n",
      "     \u001b[01;36m\u001b[KPARSIM\u001b[m\u001b[K(min, max, D, i);\n",
      "     \u001b[01;36m\u001b[K^~~~~~\u001b[m\u001b[K\n",
      "\u001b[01m\u001b[K/root/experiments_src/broadcast.c:11:158:\u001b[m\u001b[K \u001b[01;31m\u001b[Kerror: \u001b[m\u001b[Kexpected ‘\u001b[01m\u001b[K;\u001b[m\u001b[K’ before ‘\u001b[01m\u001b[K}\u001b[m\u001b[K’ token\n",
      " #define PARSIM(min,max,D,i) if(i<min){i=min; printf(\"[%d] Sleeping\\n\",world_rank); ;MPI_sleep(D[world_rank]); } if (i>=max) {break; S[world_rank]=MPI_Wtime()\u001b[01;31m\u001b[K}\u001b[m\u001b[K\n",
      "                                                                                                                                                              \u001b[01;31m\u001b[K^\u001b[m\u001b[K\n",
      "\u001b[01m\u001b[K/root/experiments_src/broadcast.c:76:5:\u001b[m\u001b[K \u001b[01;36m\u001b[Knote: \u001b[m\u001b[Kin expansion of macro ‘\u001b[01m\u001b[KPARSIM\u001b[m\u001b[K’\n",
      "     \u001b[01;36m\u001b[KPARSIM\u001b[m\u001b[K(min, max, D, i);\n",
      "     \u001b[01;36m\u001b[K^~~~~~\u001b[m\u001b[K\n",
      "\u001b[01m\u001b[K/root/experiments_src/broadcast.c:49:7:\u001b[m\u001b[K \u001b[01;35m\u001b[Kwarning: \u001b[m\u001b[Kunused variable ‘\u001b[01m\u001b[Kmemory\u001b[m\u001b[K’ [\u001b[01;35m\u001b[K-Wunused-variable\u001b[m\u001b[K]\n",
      "   int \u001b[01;35m\u001b[Kmemory\u001b[m\u001b[K[N][world_size];\n",
      "       \u001b[01;35m\u001b[K^~~~~~\u001b[m\u001b[K\n",
      "Makefile:33: recipe for target 'broadcast.o' failed\n",
      "make: *** [broadcast.o] Error 1\n",
      "\n",
      "stderr:\n",
      "Warning: Permanently added 'grisou-34.nancy.grid5000.fr,172.16.72.34' (RSA) to the list of known hosts.\n",
      "Connection to grisou-34.nancy.grid5000.fr closed.\n",
      "\n"
     ]
    },
    {
     "name": "stdout",
     "output_type": "stream",
     "text": [
      "2018-05-28 10:56:21,597 \u001b[36mWARNING:\u001b[m terminated: <SshProcess('cd ~/experiments_src && make && make run NPROCS=2 MIN=0 MAX=10 N=2 0 0', Host('grisou-49.nancy.grid5000.fr'), connection_params={'user': 'root'}, name=cd ~/experiments_src && make && make..., started=True, start_date=2018-05-28 10:56:21+02:00, ended=True, end_date=2018-05-28 10:56:21+02:00, killed=False, error=False, error_reason=None, timeouted=False, expect_fail=False, write_error=False, exit_code=512, ok=False, pid=11936, real cmd=('ssh', '-tt', '-o', 'BatchMode=yes', '-o', 'PasswordAuthentication=no', '-o', 'StrictHostKeyChecking=no', '-o', 'UserKnownHostsFile=/dev/null', '-o', 'ConnectTimeout=20', '-o', 'User=root', 'grisou-49.nancy.grid5000.fr', 'cd ~/experiments_src && make && make run NPROCS=2 MIN=0 MAX=10 N=2 0 0'))>\n",
      "stdout:\n",
      "smpicc   -g -Wshadow -Wcast-align -Waggregate-return -Wmissing-prototypes -Wmissing-declarations -Wmissing-prototypes -Wmissing-declarations -Wredundant-decls -Wnested-externs -Wpointer-arith -Wwrite-strings -finline-functions -Wall -O0 -c -o broadcast.o broadcast.c\n",
      "\u001b[01m\u001b[K/root/experiments_src/broadcast.c:13:6:\u001b[m\u001b[K \u001b[01;35m\u001b[Kwarning: \u001b[m\u001b[Kno previous prototype for ‘\u001b[01m\u001b[KMPI_sleep\u001b[m\u001b[K’ [\u001b[01;35m\u001b[K-Wmissing-prototypes\u001b[m\u001b[K]\n",
      " void \u001b[01;35m\u001b[KMPI_sleep\u001b[m\u001b[K(int time)\n",
      "      \u001b[01;35m\u001b[K^~~~~~~~~\u001b[m\u001b[K\n",
      "\u001b[01m\u001b[K/root/experiments_src/broadcast.c:\u001b[m\u001b[K In function ‘\u001b[01m\u001b[Kmain\u001b[m\u001b[K’:\n",
      "\u001b[01m\u001b[K/root/experiments_src/broadcast.c:34:5:\u001b[m\u001b[K \u001b[01;35m\u001b[Kwarning: \u001b[m\u001b[Kimplicit declaration of function ‘\u001b[01m\u001b[Kprintln\u001b[m\u001b[K’ [\u001b[01;35m\u001b[K-Wimplicit-function-declaration\u001b[m\u001b[K]\n",
      "     \u001b[01;35m\u001b[Kprintln\u001b[m\u001b[K(\"ERROR : incorrect arguments number\");\n",
      "     \u001b[01;35m\u001b[K^~~~~~~\u001b[m\u001b[K\n",
      "\u001b[01m\u001b[K/root/experiments_src/broadcast.c:34:5:\u001b[m\u001b[K \u001b[01;35m\u001b[Kwarning: \u001b[m\u001b[Knested extern declaration of ‘\u001b[01m\u001b[Kprintln\u001b[m\u001b[K’ [\u001b[01;35m\u001b[K-Wnested-externs\u001b[m\u001b[K]\n",
      "\u001b[01m\u001b[K/root/experiments_src/broadcast.c:38:26:\u001b[m\u001b[K \u001b[01;31m\u001b[Kerror: \u001b[m\u001b[Kexpected ‘\u001b[01m\u001b[K)\u001b[m\u001b[K’ before ‘\u001b[01m\u001b[K;\u001b[m\u001b[K’ token\n",
      "     D[i] = atoi(argv[6+i]\u001b[01;31m\u001b[K;\u001b[m\u001b[K\n",
      "                          \u001b[01;31m\u001b[K^\u001b[m\u001b[K\n",
      "\u001b[01m\u001b[K/root/experiments_src/broadcast.c:39:3:\u001b[m\u001b[K \u001b[01;31m\u001b[Kerror: \u001b[m\u001b[Kexpected ‘\u001b[01m\u001b[K;\u001b[m\u001b[K’ before ‘\u001b[01m\u001b[K}\u001b[m\u001b[K’ token\n",
      "   \u001b[01;31m\u001b[K}\u001b[m\u001b[K\n",
      "   \u001b[01;31m\u001b[K^\u001b[m\u001b[K\n",
      "\u001b[01m\u001b[K/root/experiments_src/broadcast.c:11:133:\u001b[m\u001b[K \u001b[01;31m\u001b[Kerror: \u001b[m\u001b[K‘\u001b[01m\u001b[KS\u001b[m\u001b[K’ undeclared (first use in this function)\n",
      " #define PARSIM(min,max,D,i) if(i<min){i=min; printf(\"[%d] Sleeping\\n\",world_rank); ;MPI_sleep(D[world_rank]); } if (i>=max) {break; \u001b[01;31m\u001b[KS\u001b[m\u001b[K[world_rank]=MPI_Wtime()}\n",
      "                                                                                                                                     \u001b[01;31m\u001b[K^\u001b[m\u001b[K\n",
      "\u001b[01m\u001b[K/root/experiments_src/broadcast.c:76:5:\u001b[m\u001b[K \u001b[01;36m\u001b[Knote: \u001b[m\u001b[Kin expansion of macro ‘\u001b[01m\u001b[KPARSIM\u001b[m\u001b[K’\n",
      "     \u001b[01;36m\u001b[KPARSIM\u001b[m\u001b[K(min, max, D, i);\n",
      "     \u001b[01;36m\u001b[K^~~~~~\u001b[m\u001b[K\n",
      "\u001b[01m\u001b[K/root/experiments_src/broadcast.c:11:133:\u001b[m\u001b[K \u001b[01;36m\u001b[Knote: \u001b[m\u001b[Keach undeclared identifier is reported only once for each function it appears in\n",
      " #define PARSIM(min,max,D,i) if(i<min){i=min; printf(\"[%d] Sleeping\\n\",world_rank); ;MPI_sleep(D[world_rank]); } if (i>=max) {break; \u001b[01;36m\u001b[KS\u001b[m\u001b[K[world_rank]=MPI_Wtime()}\n",
      "                                                                                                                                     \u001b[01;36m\u001b[K^\u001b[m\u001b[K\n",
      "\u001b[01m\u001b[K/root/experiments_src/broadcast.c:76:5:\u001b[m\u001b[K \u001b[01;36m\u001b[Knote: \u001b[m\u001b[Kin expansion of macro ‘\u001b[01m\u001b[KPARSIM\u001b[m\u001b[K’\n",
      "     \u001b[01;36m\u001b[KPARSIM\u001b[m\u001b[K(min, max, D, i);\n",
      "     \u001b[01;36m\u001b[K^~~~~~\u001b[m\u001b[K\n",
      "\u001b[01m\u001b[K/root/experiments_src/broadcast.c:11:158:\u001b[m\u001b[K \u001b[01;31m\u001b[Kerror: \u001b[m\u001b[Kexpected ‘\u001b[01m\u001b[K;\u001b[m\u001b[K’ before ‘\u001b[01m\u001b[K}\u001b[m\u001b[K’ token\n",
      " #define PARSIM(min,max,D,i) if(i<min){i=min; printf(\"[%d] Sleeping\\n\",world_rank); ;MPI_sleep(D[world_rank]); } if (i>=max) {break; S[world_rank]=MPI_Wtime()\u001b[01;31m\u001b[K}\u001b[m\u001b[K\n",
      "                                                                                                                                                              \u001b[01;31m\u001b[K^\u001b[m\u001b[K\n",
      "\u001b[01m\u001b[K/root/experiments_src/broadcast.c:76:5:\u001b[m\u001b[K \u001b[01;36m\u001b[Knote: \u001b[m\u001b[Kin expansion of macro ‘\u001b[01m\u001b[KPARSIM\u001b[m\u001b[K’\n",
      "     \u001b[01;36m\u001b[KPARSIM\u001b[m\u001b[K(min, max, D, i);\n",
      "     \u001b[01;36m\u001b[K^~~~~~\u001b[m\u001b[K\n",
      "\u001b[01m\u001b[K/root/experiments_src/broadcast.c:49:7:\u001b[m\u001b[K \u001b[01;35m\u001b[Kwarning: \u001b[m\u001b[Kunused variable ‘\u001b[01m\u001b[Kmemory\u001b[m\u001b[K’ [\u001b[01;35m\u001b[K-Wunused-variable\u001b[m\u001b[K]\n",
      "   int \u001b[01;35m\u001b[Kmemory\u001b[m\u001b[K[N][world_size];\n",
      "       \u001b[01;35m\u001b[K^~~~~~\u001b[m\u001b[K\n",
      "Makefile:33: recipe for target 'broadcast.o' failed\n",
      "make: *** [broadcast.o] Error 1\n",
      "\n",
      "stderr:\n",
      "Warning: Permanently added 'grisou-49.nancy.grid5000.fr,172.16.72.49' (RSA) to the list of known hosts.\n",
      "Connection to grisou-49.nancy.grid5000.fr closed.\n",
      "\n",
      "2018-05-28 10:56:21,598 \u001b[36mWARNING:\u001b[m terminated: <SshProcess('cd ~/experiments_src && make && make run NPROCS=2 MIN=0 MAX=10 N=2 0 0', Host('grisou-5.nancy.grid5000.fr'), connection_params={'user': 'root'}, name=cd ~/experiments_src && make && make..., started=True, start_date=2018-05-28 10:56:21+02:00, ended=True, end_date=2018-05-28 10:56:21+02:00, killed=False, error=False, error_reason=None, timeouted=False, expect_fail=False, write_error=False, exit_code=512, ok=False, pid=11937, real cmd=('ssh', '-tt', '-o', 'BatchMode=yes', '-o', 'PasswordAuthentication=no', '-o', 'StrictHostKeyChecking=no', '-o', 'UserKnownHostsFile=/dev/null', '-o', 'ConnectTimeout=20', '-o', 'User=root', 'grisou-5.nancy.grid5000.fr', 'cd ~/experiments_src && make && make run NPROCS=2 MIN=0 MAX=10 N=2 0 0'))>\n",
      "stdout:\n",
      "smpicc   -g -Wshadow -Wcast-align -Waggregate-return -Wmissing-prototypes -Wmissing-declarations -Wmissing-prototypes -Wmissing-declarations -Wredundant-decls -Wnested-externs -Wpointer-arith -Wwrite-strings -finline-functions -Wall -O0 -c -o broadcast.o broadcast.c\n",
      "\u001b[01m\u001b[K/root/experiments_src/broadcast.c:13:6:\u001b[m\u001b[K \u001b[01;35m\u001b[Kwarning: \u001b[m\u001b[Kno previous prototype for ‘\u001b[01m\u001b[KMPI_sleep\u001b[m\u001b[K’ [\u001b[01;35m\u001b[K-Wmissing-prototypes\u001b[m\u001b[K]\n",
      " void \u001b[01;35m\u001b[KMPI_sleep\u001b[m\u001b[K(int time)\n",
      "      \u001b[01;35m\u001b[K^~~~~~~~~\u001b[m\u001b[K\n",
      "\u001b[01m\u001b[K/root/experiments_src/broadcast.c:\u001b[m\u001b[K In function ‘\u001b[01m\u001b[Kmain\u001b[m\u001b[K’:\n",
      "\u001b[01m\u001b[K/root/experiments_src/broadcast.c:34:5:\u001b[m\u001b[K \u001b[01;35m\u001b[Kwarning: \u001b[m\u001b[Kimplicit declaration of function ‘\u001b[01m\u001b[Kprintln\u001b[m\u001b[K’ [\u001b[01;35m\u001b[K-Wimplicit-function-declaration\u001b[m\u001b[K]\n",
      "     \u001b[01;35m\u001b[Kprintln\u001b[m\u001b[K(\"ERROR : incorrect arguments number\");\n",
      "     \u001b[01;35m\u001b[K^~~~~~~\u001b[m\u001b[K\n",
      "\u001b[01m\u001b[K/root/experiments_src/broadcast.c:34:5:\u001b[m\u001b[K \u001b[01;35m\u001b[Kwarning: \u001b[m\u001b[Knested extern declaration of ‘\u001b[01m\u001b[Kprintln\u001b[m\u001b[K’ [\u001b[01;35m\u001b[K-Wnested-externs\u001b[m\u001b[K]\n",
      "\u001b[01m\u001b[K/root/experiments_src/broadcast.c:38:26:\u001b[m\u001b[K \u001b[01;31m\u001b[Kerror: \u001b[m\u001b[Kexpected ‘\u001b[01m\u001b[K)\u001b[m\u001b[K’ before ‘\u001b[01m\u001b[K;\u001b[m\u001b[K’ token\n",
      "     D[i] = atoi(argv[6+i]\u001b[01;31m\u001b[K;\u001b[m\u001b[K\n",
      "                          \u001b[01;31m\u001b[K^\u001b[m\u001b[K\n",
      "\u001b[01m\u001b[K/root/experiments_src/broadcast.c:39:3:\u001b[m\u001b[K \u001b[01;31m\u001b[Kerror: \u001b[m\u001b[Kexpected ‘\u001b[01m\u001b[K;\u001b[m\u001b[K’ before ‘\u001b[01m\u001b[K}\u001b[m\u001b[K’ token\n",
      "   \u001b[01;31m\u001b[K}\u001b[m\u001b[K\n",
      "   \u001b[01;31m\u001b[K^\u001b[m\u001b[K\n",
      "\u001b[01m\u001b[K/root/experiments_src/broadcast.c:11:133:\u001b[m\u001b[K \u001b[01;31m\u001b[Kerror: \u001b[m\u001b[K‘\u001b[01m\u001b[KS\u001b[m\u001b[K’ undeclared (first use in this function)\n",
      " #define PARSIM(min,max,D,i) if(i<min){i=min; printf(\"[%d] Sleeping\\n\",world_rank); ;MPI_sleep(D[world_rank]); } if (i>=max) {break; \u001b[01;31m\u001b[KS\u001b[m\u001b[K[world_rank]=MPI_Wtime()}\n",
      "                                                                                                                                     \u001b[01;31m\u001b[K^\u001b[m\u001b[K\n",
      "\u001b[01m\u001b[K/root/experiments_src/broadcast.c:76:5:\u001b[m\u001b[K \u001b[01;36m\u001b[Knote: \u001b[m\u001b[Kin expansion of macro ‘\u001b[01m\u001b[KPARSIM\u001b[m\u001b[K’\n",
      "     \u001b[01;36m\u001b[KPARSIM\u001b[m\u001b[K(min, max, D, i);\n",
      "     \u001b[01;36m\u001b[K^~~~~~\u001b[m\u001b[K\n",
      "\u001b[01m\u001b[K/root/experiments_src/broadcast.c:11:133:\u001b[m\u001b[K \u001b[01;36m\u001b[Knote: \u001b[m\u001b[Keach undeclared identifier is reported only once for each function it appears in\n",
      " #define PARSIM(min,max,D,i) if(i<min){i=min; printf(\"[%d] Sleeping\\n\",world_rank); ;MPI_sleep(D[world_rank]); } if (i>=max) {break; \u001b[01;36m\u001b[KS\u001b[m\u001b[K[world_rank]=MPI_Wtime()}\n",
      "                                                                                                                                     \u001b[01;36m\u001b[K^\u001b[m\u001b[K\n",
      "\u001b[01m\u001b[K/root/experiments_src/broadcast.c:76:5:\u001b[m\u001b[K \u001b[01;36m\u001b[Knote: \u001b[m\u001b[Kin expansion of macro ‘\u001b[01m\u001b[KPARSIM\u001b[m\u001b[K’\n",
      "     \u001b[01;36m\u001b[KPARSIM\u001b[m\u001b[K(min, max, D, i);\n",
      "     \u001b[01;36m\u001b[K^~~~~~\u001b[m\u001b[K\n",
      "\u001b[01m\u001b[K/root/experiments_src/broadcast.c:11:158:\u001b[m\u001b[K \u001b[01;31m\u001b[Kerror: \u001b[m\u001b[Kexpected ‘\u001b[01m\u001b[K;\u001b[m\u001b[K’ before ‘\u001b[01m\u001b[K}\u001b[m\u001b[K’ token\n",
      " #define PARSIM(min,max,D,i) if(i<min){i=min; printf(\"[%d] Sleeping\\n\",world_rank); ;MPI_sleep(D[world_rank]); } if (i>=max) {break; S[world_rank]=MPI_Wtime()\u001b[01;31m\u001b[K}\u001b[m\u001b[K\n",
      "                                                                                                                                                              \u001b[01;31m\u001b[K^\u001b[m\u001b[K\n",
      "\u001b[01m\u001b[K/root/experiments_src/broadcast.c:76:5:\u001b[m\u001b[K \u001b[01;36m\u001b[Knote: \u001b[m\u001b[Kin expansion of macro ‘\u001b[01m\u001b[KPARSIM\u001b[m\u001b[K’\n",
      "     \u001b[01;36m\u001b[KPARSIM\u001b[m\u001b[K(min, max, D, i);\n",
      "     \u001b[01;36m\u001b[K^~~~~~\u001b[m\u001b[K\n",
      "\u001b[01m\u001b[K/root/experiments_src/broadcast.c:49:7:\u001b[m\u001b[K \u001b[01;35m\u001b[Kwarning: \u001b[m\u001b[Kunused variable ‘\u001b[01m\u001b[Kmemory\u001b[m\u001b[K’ [\u001b[01;35m\u001b[K-Wunused-variable\u001b[m\u001b[K]\n",
      "   int \u001b[01;35m\u001b[Kmemory\u001b[m\u001b[K[N][world_size];\n",
      "       \u001b[01;35m\u001b[K^~~~~~\u001b[m\u001b[K\n",
      "Makefile:33: recipe for target 'broadcast.o' failed\n",
      "make: *** [broadcast.o] Error 1\n",
      "\n",
      "stderr:\n",
      "Warning: Permanently added 'grisou-5.nancy.grid5000.fr,172.16.72.5' (RSA) to the list of known hosts.\n",
      "Connection to grisou-5.nancy.grid5000.fr closed.\n",
      "\n"
     ]
    },
    {
     "name": "stdout",
     "output_type": "stream",
     "text": [
      "2018-05-28 10:56:21,638 \u001b[36mWARNING:\u001b[m terminated: <SshProcess('cd ~/experiments_src && make && make run NPROCS=2 MIN=0 MAX=10 N=2 0 0', Host('grisou-9.nancy.grid5000.fr'), connection_params={'user': 'root'}, name=cd ~/experiments_src && make && make..., started=True, start_date=2018-05-28 10:56:21+02:00, ended=True, end_date=2018-05-28 10:56:21+02:00, killed=False, error=False, error_reason=None, timeouted=False, expect_fail=False, write_error=False, exit_code=512, ok=False, pid=11938, real cmd=('ssh', '-tt', '-o', 'BatchMode=yes', '-o', 'PasswordAuthentication=no', '-o', 'StrictHostKeyChecking=no', '-o', 'UserKnownHostsFile=/dev/null', '-o', 'ConnectTimeout=20', '-o', 'User=root', 'grisou-9.nancy.grid5000.fr', 'cd ~/experiments_src && make && make run NPROCS=2 MIN=0 MAX=10 N=2 0 0'))>\n",
      "stdout:\n",
      "smpicc   -g -Wshadow -Wcast-align -Waggregate-return -Wmissing-prototypes -Wmissing-declarations -Wmissing-prototypes -Wmissing-declarations -Wredundant-decls -Wnested-externs -Wpointer-arith -Wwrite-strings -finline-functions -Wall -O0 -c -o broadcast.o broadcast.c\r\n",
      "\u001b[01m\u001b[K/root/experiments_src/broadcast.c:13:6:\u001b[m\u001b[K \u001b[01;35m\u001b[Kwarning: \u001b[m\u001b[Kno previous prototype for ‘\u001b[01m\u001b[KMPI_sleep\u001b[m\u001b[K’ [\u001b[01;35m\u001b[K-Wmissing-prototypes\u001b[m\u001b[K]\r\n",
      " void \u001b[01;35m\u001b[KMPI_sleep\u001b[m\u001b[K(int time)\r\n",
      "      \u001b[01;35m\u001b[K^~~~~~~~~\u001b[m\u001b[K\r\n",
      "\u001b[01m\u001b[K/root/experiments_src/broadcast.c:\u001b[m\u001b[K In function ‘\u001b[01m\u001b[Kmain\u001b[m\u001b[K’:\r\n",
      "\u001b[01m\u001b[K/root/experiments_src/broadcast.c:34:5:\u001b[m\u001b[K \u001b[01;35m\u001b[Kwarning: \u001b[m\u001b[Kimplicit declaration of function ‘\u001b[01m\u001b[Kprintln\u001b[m\u001b[K’ [\u001b[01;35m\u001b[K-Wimplicit-function-declaration\u001b[m\u001b[K]\r\n",
      "     \u001b[01;35m\u001b[Kprintln\u001b[m\u001b[K(\"ERROR : incorrect arguments number\");\r\n",
      "     \u001b[01;35m\u001b[K^~~~~~~\u001b[m\u001b[K\r\n",
      "\u001b[01m\u001b[K/root/experiments_src/broadcast.c:34:5:\u001b[m\u001b[K \u001b[01;35m\u001b[Kwarning: \u001b[m\u001b[Knested extern declaration of ‘\u001b[01m\u001b[Kprintln\u001b[m\u001b[K’ [\u001b[01;35m\u001b[K-Wnested-externs\u001b[m\u001b[K]\r\n",
      "\u001b[01m\u001b[K/root/experiments_src/broadcast.c:38:26:\u001b[m\u001b[K \u001b[01;31m\u001b[Kerror: \u001b[m\u001b[Kexpected ‘\u001b[01m\u001b[K)\u001b[m\u001b[K’ before ‘\u001b[01m\u001b[K;\u001b[m\u001b[K’ token\r\n",
      "     D[i] = atoi(argv[6+i]\u001b[01;31m\u001b[K;\u001b[m\u001b[K\r\n",
      "                          \u001b[01;31m\u001b[K^\u001b[m\u001b[K\r\n",
      "\u001b[01m\u001b[K/root/experiments_src/broadcast.c:39:3:\u001b[m\u001b[K \u001b[01;31m\u001b[Kerror: \u001b[m\u001b[Kexpected ‘\u001b[01m\u001b[K;\u001b[m\u001b[K’ before ‘\u001b[01m\u001b[K}\u001b[m\u001b[K’ token\r\n",
      "   \u001b[01;31m\u001b[K}\u001b[m\u001b[K\r\n",
      "   \u001b[01;31m\u001b[K^\u001b[m\u001b[K\r\n",
      "\u001b[01m\u001b[K/root/experiments_src/broadcast.c:11:133:\u001b[m\u001b[K \u001b[01;31m\u001b[Kerror: \u001b[m\u001b[K‘\u001b[01m\u001b[KS\u001b[m\u001b[K’ undeclared (first use in this function)\r\n",
      " #define PARSIM(min,max,D,i) if(i<min){i=min; printf(\"[%d] Sleeping\\n\",world_rank); ;MPI_sleep(D[world_rank]); } if (i>=max) {break; \u001b[01;31m\u001b[KS\u001b[m\u001b[K[world_rank]=MPI_Wtime()}\r\n",
      "                                                                                                                                     \u001b[01;31m\u001b[K^\u001b[m\u001b[K\r\n",
      "\u001b[01m\u001b[K/root/experiments_src/broadcast.c:76:5:\u001b[m\u001b[K \u001b[01;36m\u001b[Knote: \u001b[m\u001b[Kin expansion of macro ‘\u001b[01m\u001b[KPARSIM\u001b[m\u001b[K’\r\n",
      "     \u001b[01;36m\u001b[KPARSIM\u001b[m\u001b[K(min, max, D, i);\r\n",
      "     \u001b[01;36m\u001b[K^~~~~~\u001b[m\u001b[K\r\n",
      "\u001b[01m\u001b[K/root/experiments_src/broadcast.c:11:133:\u001b[m\u001b[K \u001b[01;36m\u001b[Knote: \u001b[m\u001b[Keach undeclared identifier is reported only once for each function it appears in\r\n",
      " #define PARSIM(min,max,D,i) if(i<min){i=min; printf(\"[%d] Sleeping\\n\",world_rank); ;MPI_sleep(D[world_rank]); } if (i>=max) {break; \u001b[01;36m\u001b[KS\u001b[m\u001b[K[world_rank]=MPI_Wtime()}\r\n",
      "                                                                                                                                     \u001b[01;36m\u001b[K^\u001b[m\u001b[K\r\n",
      "\u001b[01m\u001b[K/root/experiments_src/broadcast.c:76:5:\u001b[m\u001b[K \u001b[01;36m\u001b[Knote: \u001b[m\u001b[Kin expansion of macro ‘\u001b[01m\u001b[KPARSIM\u001b[m\u001b[K’\r\n",
      "     \u001b[01;36m\u001b[KPARSIM\u001b[m\u001b[K(min, max, D, i);\r\n",
      "     \u001b[01;36m\u001b[K^~~~~~\u001b[m\u001b[K\r\n",
      "\u001b[01m\u001b[K/root/experiments_src/broadcast.c:11:158:\u001b[m\u001b[K \u001b[01;31m\u001b[Kerror: \u001b[m\u001b[Kexpected ‘\u001b[01m\u001b[K;\u001b[m\u001b[K’ before ‘\u001b[01m\u001b[K}\u001b[m\u001b[K’ token\r\n",
      " #define PARSIM(min,max,D,i) if(i<min){i=min; printf(\"[%d] Sleeping\\n\",world_rank); ;MPI_sleep(D[world_rank]); } if (i>=max) {break; S[world_rank]=MPI_Wtime()\u001b[01;31m\u001b[K}\u001b[m\u001b[K\r\n",
      "                                                                                                                                                              \u001b[01;31m\u001b[K^\u001b[m\u001b[K\r\n",
      "\u001b[01m\u001b[K/root/experiments_src/broadcast.c:76:5:\u001b[m\u001b[K \u001b[01;36m\u001b[Knote: \u001b[m\u001b[Kin expansion of macro ‘\u001b[01m\u001b[KPARSIM\u001b[m\u001b[K’\r\n",
      "     \u001b[01;36m\u001b[KPARSIM\u001b[m\u001b[K(min, max, D, i);\r\n",
      "     \u001b[01;36m\u001b[K^~~~~~\u001b[m\u001b[K\r\n",
      "\u001b[01m\u001b[K/root/experiments_src/broadcast.c:49:7:\u001b[m\u001b[K \u001b[01;35m\u001b[Kwarning: \u001b[m\u001b[Kunused variable ‘\u001b[01m\u001b[Kmemory\u001b[m\u001b[K’ [\u001b[01;35m\u001b[K-Wunused-variable\u001b[m\u001b[K]\r\n",
      "   int \u001b[01;35m\u001b[Kmemory\u001b[m\u001b[K[N][world_size];\r\n",
      "       \u001b[01;35m\u001b[K^~~~~~\u001b[m\u001b[K\r\n",
      "Makefile:33: recipe for target 'broadcast.o' failed\r\n",
      "make: *** [broadcast.o] Error 1\r\n",
      "\n",
      "stderr:\n",
      "Warning: Permanently added 'grisou-9.nancy.grid5000.fr,172.16.72.9' (RSA) to the list of known hosts.\r\n",
      "Connection to grisou-9.nancy.grid5000.fr closed.\r\n",
      "\n"
     ]
    },
    {
     "data": {
      "text/plain": [
       "False"
      ]
     },
     "execution_count": 16,
     "metadata": {},
     "output_type": "execute_result"
    }
   ],
   "source": [
    "Remote_smpi = execo.action.Remote(cmd ='cd ~/experiments_src && make && make run NPROCS=2 MIN=0 MAX=10 N=2 0 0',hosts=nodes,connection_params={'user':'root'})\n",
    "Remote_smpi.run().ok"
   ]
  },
  {
   "cell_type": "markdown",
   "metadata": {},
   "source": [
    "#### Récupération des résultats"
   ]
  },
  {
   "cell_type": "code",
   "execution_count": 36,
   "metadata": {},
   "outputs": [],
   "source": [
    "Result_get = execo.Process(cmd='mkdir -p /home/nezzine/Stage-POLARIS/SimGrid/examples/SMPI/'+experiment_name+'/results/'+datetime.datetime.now().strftime(\"%Y-%m-%d\"))\n",
    "Result_get.run().ok"
   ]
  },
  {
   "cell_type": "code",
   "execution_count": 103,
   "metadata": {
    "scrolled": true
   },
   "outputs": [],
   "source": [
    "for i in range(0,nodecount) :\n",
    "    execo.action.Get(hosts=nodes[i],remote_files=[\"~/experiments_src/bcast_results.txt\"], local_location='~/Stage-POLARIS/SimGrid/examples/SMPI/'+experiment_name+'/results/'+datetime.datetime.now().strftime(\"%Y-%m-%d\")+'/'+get_host_shortname(nodes[i])+'_'+datetime.datetime.now().strftime(\"%Y-%m-%d_%H:%M\")+'.txt',connection_params={'user':'root'}).run().ok"
   ]
  },
  {
   "cell_type": "markdown",
   "metadata": {},
   "source": [
    "##### Shortcut"
   ]
  },
  {
   "cell_type": "code",
   "execution_count": 123,
   "metadata": {},
   "outputs": [
    {
     "name": "stdout",
     "output_type": "stream",
     "text": [
      "i = 0 NPROCS = 2 MIN = 0 MAX = 2 N=10 DELAY='1 3'\n",
      "True\n",
      "i = 1 NPROCS = 2 MIN = 2 MAX = 4 N=10 DELAY='1 3'\n",
      "True\n",
      "i = 2 NPROCS = 2 MIN = 4 MAX = 6 N=10 DELAY='1 3'\n",
      "True\n",
      "i = 3 NPROCS = 2 MIN = 6 MAX = 8 N=10 DELAY='1 3'\n",
      "True\n",
      "i = 4 NPROCS = 2 MIN = 8 MAX = 10 N=10 DELAY='1 3'\n",
      "True\n"
     ]
    },
    {
     "data": {
      "text/plain": [
       "True"
      ]
     },
     "execution_count": 123,
     "metadata": {},
     "output_type": "execute_result"
    }
   ],
   "source": [
    "Src_get = execo.action.Remote(cmd='mkdir -p experiments_src',hosts=nodes,connection_params={'user':'root'})\n",
    "Remote_smpi_env = execo.action.Put(hosts=nodes,local_files=[path+\"griffon.xml\",path+\"griffon_hostfile.txt\",path+\"broadcast.c\",path+\"Makefile\"],remote_location='~/experiments_src',connection_params={'user':'root'})\n",
    "\n",
    "def parl_exec () :\n",
    "    # Nbr pcs\n",
    "    NPROCS = 2\n",
    "    # Nbr itérations\n",
    "    N = 10\n",
    "    D = [1,3]\n",
    "    for i in range (0,nodecount) :\n",
    "       print(\"i = \"+str(i)+\" NPROCS = \"+str(NPROCS)+\" MIN = \"+str((int)((i*N)/len(nodes)))+\" MAX = \"+str((int)(((i+1)*N)/len(nodes)))+\" N=\"+str(N)+\" DELAY='\"+str(D[0])+\" \"+str(D[1])+\"'\")\n",
    "       bool = execo.action.Remote(cmd ='cd ~/experiments_src && make && make run NPROCS='+str(NPROCS)+' MIN='+str((int)((i*N)/len(nodes))) +' MAX='+str((((i+1)*N)/len(nodes)))+' N='+str(N)+\" DELAY='\"+str(D[0])+\" \"+str(D[1])+\"'\",hosts=nodes[i],connection_params={'user':'root'}).run().ok\n",
    "       print(bool)\n",
    "    return;\n",
    "# Remote_smpi = execo.action.Remote(cmd ='cd ~/experiments_src && make && make run NPROCS=2 MIN=0 MAX=10',hosts=nodes,connection_params={'user':'root'})\n",
    "Result_get = execo.Process(cmd='mkdir -p /home/nezzine/Stage-POLARIS/SimGrid/examples/SMPI/'+experiment_name+'/results/'+datetime.datetime.now().strftime(\"%Y-%m-%d\"))\n",
    "\n",
    "Src_get.run().ok\n",
    "Remote_smpi_env.run().ok\n",
    "#Remote_smpi.run().ok\n",
    "parl_exec()\n",
    "Result_get.run().ok\n",
    "#for i in range(0,nodecount) :\n",
    "    #execo.action.Get(hosts=nodes[i],remote_files=[\"~/experiments_src/bcast_results.txt\"], local0_location='~/Stage-POLARIS/SimGrid/examples/SMPI/'+experiment_name+'/results/'+datetime.datetime.now().strftime(\"%Y-%m-%d\")+'/'+get_host_shortname(nodes[i])+'_'+datetime.datetime.now().strftime(\"%Y-%m-%d_%H:%M\")+'.txt',connection_params={'user':'root'}).run().ok"
   ]
  },
  {
   "cell_type": "markdown",
   "metadata": {},
   "source": [
    "#### Publication des résultats"
   ]
  },
  {
   "cell_type": "code",
   "execution_count": 104,
   "metadata": {},
   "outputs": [
    {
     "name": "stdout",
     "output_type": "stream",
     "text": [
      "[master fd44d09] Automatic results update : Bcast\n",
      " Committer: Najwa Ez Zine <nezzine@fnancy>\n",
      "Your name and email address were configured automatically based\n",
      "on your username and hostname. Please check that they are accurate.\n",
      "You can suppress this message by setting them explicitly. Run the\n",
      "following command and follow the instructions in your editor to edit\n",
      "your configuration file:\n",
      "\n",
      "    git config --global --edit\n",
      "\n",
      "After doing this, you may fix the identity used for this commit with:\n",
      "\n",
      "    git commit --amend --reset-author\n",
      "\n",
      " 7 files changed, 830 insertions(+), 137 deletions(-)\n",
      " create mode 100644 SimGrid/examples/SMPI/Bcast/results/2018-05-25/grisou-3_2018-05-25_12:11.txt\n",
      " create mode 100644 SimGrid/examples/SMPI/Bcast/results/2018-05-25/grisou-40_2018-05-25_12:11.txt\n",
      " create mode 100644 SimGrid/examples/SMPI/Bcast/results/2018-05-25/grisou-43_2018-05-25_12:11.txt\n",
      " create mode 100644 SimGrid/examples/SMPI/Bcast/results/2018-05-25/grisou-49_2018-05-25_12:11.txt\n",
      " create mode 100644 SimGrid/examples/SMPI/Bcast/results/2018-05-25/grisou-50_2018-05-25_12:11.txt\n"
     ]
    }
   ],
   "source": [
    "%%bash -s $experiment_name\n",
    "git add .\n",
    "git commit -m 'Automatic results update : '\"$1\""
   ]
  },
  {
   "cell_type": "markdown",
   "metadata": {},
   "source": [
    "#### Fin d'expérience : suppression du job"
   ]
  },
  {
   "cell_type": "code",
   "execution_count": null,
   "metadata": {},
   "outputs": [],
   "source": [
    "oardel(jobid)"
   ]
  }
 ],
 "metadata": {
  "kernelspec": {
   "display_name": "Python 3",
   "language": "python",
   "name": "python3"
  },
  "language_info": {
   "codemirror_mode": {
    "name": "ipython",
    "version": 3
   },
   "file_extension": ".py",
   "mimetype": "text/x-python",
   "name": "python",
   "nbconvert_exporter": "python",
   "pygments_lexer": "ipython3",
   "version": "3.5.3"
  }
 },
 "nbformat": 4,
 "nbformat_minor": 2
}
