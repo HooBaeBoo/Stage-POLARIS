{
 "cells": [
  {
   "cell_type": "markdown",
   "metadata": {},
   "source": [
    "# Broadcast"
   ]
  },
  {
   "cell_type": "markdown",
   "metadata": {},
   "source": [
    "### But : Faire un broadcast, départ décalé \n"
   ]
  },
  {
   "cell_type": "markdown",
   "metadata": {},
   "source": [
    "#### Informations générales"
   ]
  },
  {
   "cell_type": "code",
   "execution_count": 1,
   "metadata": {},
   "outputs": [],
   "source": [
    "experiment_name = \"Time_Bcast\""
   ]
  },
  {
   "cell_type": "code",
   "execution_count": 2,
   "metadata": {},
   "outputs": [
    {
     "name": "stdout",
     "output_type": "stream",
     "text": [
      "commit aeacbae3be3dd450fecca77525e7f54c2a7fab93\n",
      "Author: Najwa Ez Zine <nezzine@frennes>\n",
      "Date:   Mon Jun 18 16:26:46 2018 +0200\n",
      "\n",
      "    Journal & Ressources update\n"
     ]
    },
    {
     "name": "stderr",
     "output_type": "stream",
     "text": [
      "Python 2.7.13\n"
     ]
    }
   ],
   "source": [
    "%%bash -s\n",
    "git log -n 1\n",
    "python --version"
   ]
  },
  {
   "cell_type": "markdown",
   "metadata": {},
   "source": [
    "#### Préparation de l'environnement"
   ]
  },
  {
   "cell_type": "code",
   "execution_count": 3,
   "metadata": {},
   "outputs": [
    {
     "name": "stdout",
     "output_type": "stream",
     "text": [
      "Collecting execo\n",
      "Installing collected packages: execo\n",
      "Successfully installed execo-2.6.3\n",
      "Collecting requests\n",
      "  Using cached https://files.pythonhosted.org/packages/65/47/7e02164a2a3db50ed6d8a6ab1d6d60b69c4c3fdf57a284257925dfc12bda/requests-2.19.1-py2.py3-none-any.whl\n",
      "Collecting chardet<3.1.0,>=3.0.2 (from requests)\n",
      "  Using cached https://files.pythonhosted.org/packages/bc/a9/01ffebfb562e4274b6487b4bb1ddec7ca55ec7510b22e4c51f14098443b8/chardet-3.0.4-py2.py3-none-any.whl\n",
      "Collecting idna<2.8,>=2.5 (from requests)\n",
      "  Using cached https://files.pythonhosted.org/packages/4b/2a/0276479a4b3caeb8a8c1af2f8e4355746a97fab05a372e4a2c6a6b876165/idna-2.7-py2.py3-none-any.whl\n",
      "Collecting urllib3<1.24,>=1.21.1 (from requests)\n",
      "  Using cached https://files.pythonhosted.org/packages/bd/c9/6fdd990019071a4a32a5e7cb78a1d92c53851ef4f56f62a3486e6a7d8ffb/urllib3-1.23-py2.py3-none-any.whl\n",
      "Collecting certifi>=2017.4.17 (from requests)\n",
      "  Using cached https://files.pythonhosted.org/packages/7c/e6/92ad559b7192d846975fc916b65f667c7b8c3a32bea7372340bfe9a15fa5/certifi-2018.4.16-py2.py3-none-any.whl\n",
      "Installing collected packages: chardet, idna, urllib3, certifi, requests\n",
      "Successfully installed certifi-2018.4.16 chardet-3.0.4 idna-2.7 requests-2.19.1 urllib3-1.23\n",
      "Collecting rpy2\n",
      "  Using cached https://files.pythonhosted.org/packages/88/f7/788e5e1587bc1ab48b5b0467f9c3a08ef5aadbd993ed835559a10e452121/rpy2-2.9.3.tar.gz\n",
      "    Complete output from command python setup.py egg_info:\n",
      "    rpy2 is no longer supporting Python < 3. Consider using an older rpy2 release when using an older Python release.\n",
      "    \n",
      "    ----------------------------------------\n"
     ]
    },
    {
     "name": "stderr",
     "output_type": "stream",
     "text": [
      "Command \"python setup.py egg_info\" failed with error code 1 in /tmp/pip-build-4UbZHH/rpy2/\n"
     ]
    }
   ],
   "source": [
    "%%bash -s\n",
    "pip3 install --user execo\n",
    "pip3 install --user requests\n",
    "pip install rpy2"
   ]
  },
  {
   "cell_type": "code",
   "execution_count": 4,
   "metadata": {},
   "outputs": [],
   "source": [
    "import execo\n",
    "from execo import *\n",
    "from execo_g5k import *\n",
    "from execo_engine import *\n",
    "import os\n",
    "import sys\n",
    "import json\n",
    "import time\n",
    "import datetime\n",
    "import re\n",
    "from shutil import copy\n",
    "from subprocess import check_output\n",
    "import random\n",
    "from threading import Thread\n",
    "import math\n",
    "import collections\n",
    "from collections import deque"
   ]
  },
  {
   "cell_type": "markdown",
   "metadata": {},
   "source": [
    "##### Réservation noeuds"
   ]
  },
  {
   "cell_type": "code",
   "execution_count": 5,
   "metadata": {},
   "outputs": [],
   "source": [
    "# Nom du job\n",
    "jobname = ' '\n",
    "# Nombre de noeuds\n",
    "nodecount = 3\n",
    "# Temps réservation\n",
    "walltime = \"3:0:0\" \n",
    "\n",
    "# filters out Nantes's econome cluster\n",
    "resources_selection = \"-p \\\"cluster in ('ecotype','parasilo','grisou')\\\"\" \n",
    "\n",
    "# Nancy\n",
    "site = \"rennes\""
   ]
  },
  {
   "cell_type": "code",
   "execution_count": 6,
   "metadata": {},
   "outputs": [
    {
     "name": "stdout",
     "output_type": "stream",
     "text": [
      "New job submitted, jobid is 1016587\n"
     ]
    }
   ],
   "source": [
    "jobs = get_current_oar_jobs()\n",
    "jobid = None\n",
    "waiting_jobs = []\n",
    "while jobs:\n",
    "    j, site = jobs.pop()\n",
    "    info = get_oar_job_info(j, site)\n",
    "    if info['name'] == jobname:\n",
    "        if info['state'] == 'Running':\n",
    "            jobid = j\n",
    "            print(\"A {} job is already running, using it. jobid is {}\".format(jobname, jobid))\n",
    "            break\n",
    "        else:\n",
    "            waiting_jobs.append(j)\n",
    "if not jobid and not waiting_jobs:\n",
    "    jobspec = OarSubmission(resources=\"/cluster=1/nodes={}\".format(nodecount), walltime=walltime,\n",
    "                            additional_options=resources_selection, job_type=\"deploy\", name=jobname)\n",
    "    jobid, _ = oarsub([(jobspec, site)]).pop()\n",
    "    print(\"New job submitted, jobid is {}\".format(jobid))\n",
    "elif not jobid:\n",
    "    print(\"One or more {} jobs exist ({}) but are not running.\\n\"\n",
    "          \" Connect to the frontend to see what is happening, and/or run the cell again.\".format(\n",
    "          jobname, \", \".join([str(j) for j in waiting_jobs])))"
   ]
  },
  {
   "cell_type": "markdown",
   "metadata": {},
   "source": [
    "On les range"
   ]
  },
  {
   "cell_type": "code",
   "execution_count": 7,
   "metadata": {},
   "outputs": [
    {
     "data": {
      "text/plain": [
       "[Host('parasilo-2.rennes.grid5000.fr'),\n",
       " Host('parasilo-20.rennes.grid5000.fr'),\n",
       " Host('parasilo-21.rennes.grid5000.fr')]"
      ]
     },
     "execution_count": 7,
     "metadata": {},
     "output_type": "execute_result"
    }
   ],
   "source": [
    "nodes = get_oar_job_nodes(jobid)\n",
    "nodes.sort(key=lambda n: n.address)\n",
    "nodes"
   ]
  },
  {
   "cell_type": "markdown",
   "metadata": {},
   "source": [
    "##### Déploiement de l'environnement"
   ]
  },
  {
   "cell_type": "code",
   "execution_count": 8,
   "metadata": {},
   "outputs": [],
   "source": [
    "force_redeploy = False # set to True to force redeploying the OS on the nodes in the deployment section\n",
    "environment_dsc_file = 'src/debian9-x64-bigdata-tutorial.yaml' # filename of the kadeploy environment file (YAML)"
   ]
  },
  {
   "cell_type": "code",
   "execution_count": 9,
   "metadata": {
    "scrolled": true
   },
   "outputs": [
    {
     "name": "stdout",
     "output_type": "stream",
     "text": [
      "rennes: Deployment #D-b81c16f2-b8e0-4f00-b567-a077fa0fddaf started\n",
      "rennes: Grab the key file /home/nezzine/.ssh/authorized_keys\n",
      "rennes: Grab the tarball file http://public.nancy.grid5000.fr/~pneyron/debian9-x64-bigdata-tutorial.tar.gz\n",
      "rennes: Grab the postinstall file server:///grid5000/postinstalls/g5k-postinstall.tgz\n",
      "rennes: Launching a deployment on parasilo-[2,20-21].rennes.grid5000.fr\n",
      "rennes: Performing a Deploy[SetDeploymentEnvUntrusted] step\n",
      "rennes:   switch_pxe\n",
      "rennes:   reboot\n",
      "rennes:    * Performing a soft reboot on parasilo-[2,20-21].rennes.grid5000.fr\n",
      "rennes:   wait_reboot\n",
      "rennes:   send_key_in_deploy_env\n",
      "rennes:   create_partition_table\n",
      "rennes:   format_deploy_part\n",
      "rennes:   mount_deploy_part\n",
      "rennes:   format_tmp_part\n",
      "rennes:   format_swap_part\n",
      "rennes: End of step Deploy[SetDeploymentEnvUntrusted] after 202s\n",
      "rennes: Performing a Deploy[BroadcastEnvKascade] step\n",
      "rennes:   send_environment\n",
      "rennes:    * Broadcast time: 69s\n",
      "rennes:   manage_admin_post_install\n",
      "rennes:   manage_user_post_install\n",
      "rennes:   check_kernel_files\n",
      "rennes:   send_key\n",
      "rennes:   install_bootloader\n",
      "rennes:   sync\n",
      "rennes: End of step Deploy[BroadcastEnvKascade] after 112s\n",
      "rennes: Performing a Deploy[BootNewEnvKexec] step\n",
      "rennes:   switch_pxe\n",
      "rennes:   umount_deploy_part\n",
      "rennes:   mount_deploy_part\n",
      "rennes:   kexec\n",
      "rennes:   wait_reboot\n",
      "rennes: End of step Deploy[BootNewEnvKexec] after 66s\n",
      "rennes: End of deployment for parasilo-[2,20-21].rennes.grid5000.fr after 380s\n",
      "rennes: End of deployment on cluster parasilo after 381s\n",
      "rennes: Deployment #D-b81c16f2-b8e0-4f00-b567-a077fa0fddaf done\n",
      "rennes: \n",
      "rennes: The deployment is successful on nodes\n",
      "rennes: parasilo-2.rennes.grid5000.fr\n",
      "rennes: parasilo-20.rennes.grid5000.fr\n",
      "rennes: parasilo-21.rennes.grid5000.fr\n"
     ]
    },
    {
     "name": "stderr",
     "output_type": "stream",
     "text": [
      "rennes: Warning: Permanently added 'rennes.grid5000.fr,172.16.111.106' (ECDSA) to the list of known hosts.\r\n",
      "rennes: Connection to rennes.grid5000.fr closed.\r\n"
     ]
    }
   ],
   "source": [
    "deployment = Deployment(hosts=nodes, env_file = os.path.abspath(environment_dsc_file),\n",
    "                        other_options=\"-r ext4 --no-debug-mode\")\n",
    "\n",
    "deploy_ok, deploy_failed = deploy(deployment, check_deployed_command=not force_redeploy,\n",
    "                              stdout_handlers=[sys.stdout],\n",
    "                              stderr_handlers=[sys.stderr])"
   ]
  },
  {
   "cell_type": "markdown",
   "metadata": {},
   "source": [
    "#### Test : commande simple 'ls'"
   ]
  },
  {
   "cell_type": "code",
   "execution_count": 10,
   "metadata": {},
   "outputs": [
    {
     "data": {
      "text/plain": [
       "True"
      ]
     },
     "execution_count": 10,
     "metadata": {},
     "output_type": "execute_result"
    }
   ],
   "source": [
    "Remote_test = execo.action.Remote(cmd='ls',hosts=nodes,connection_params=None, process_args=None)\n",
    "Remote_test.run().ok"
   ]
  },
  {
   "cell_type": "markdown",
   "metadata": {},
   "source": [
    "#### Installation environnement sur noeud"
   ]
  },
  {
   "cell_type": "code",
   "execution_count": 11,
   "metadata": {},
   "outputs": [],
   "source": [
    "Remote_install = execo.action.Remote(cmd='apt-get install g++ libboost-all-dev && wget http://gforge.inria.fr/frs/download.php/latestfile/8/SimGrid-3.18.tar.gz && tar -xvf SimGrid-3.18.tar.gz && cd SimGrid-3.18 && cmake -DCMAKE_INSTALL_PREFIX=/usr/local -Denable_smpi=on -Denable_documentation=off && make -j && make check && make install -j',hosts=nodes,connection_params={'user':'root'})"
   ]
  },
  {
   "cell_type": "code",
   "execution_count": 12,
   "metadata": {},
   "outputs": [
    {
     "data": {
      "text/plain": [
       "True"
      ]
     },
     "execution_count": 12,
     "metadata": {},
     "output_type": "execute_result"
    }
   ],
   "source": [
    "Remote_install.run().ok"
   ]
  },
  {
   "cell_type": "markdown",
   "metadata": {},
   "source": [
    "#### Version Simgrid"
   ]
  },
  {
   "cell_type": "code",
   "execution_count": 13,
   "metadata": {},
   "outputs": [
    {
     "data": {
      "text/plain": [
       "'SimGrid version 3.18  SimGrid version 3.18  SimGrid version 3.18  '"
      ]
     },
     "execution_count": 13,
     "metadata": {},
     "output_type": "execute_result"
    }
   ],
   "source": [
    "execo.action.Remote(cmd='touch smpi_version.txt && smpicc --version > smpi_version.txt'\n",
    "                    , hosts=nodes, connection_params={'user': 'root'\n",
    "                    }).run()\n",
    "version = ''\n",
    "for i in range(0, nodecount):\n",
    "    execo.action.Get(hosts=nodes[i], remote_files=['~/smpi_version.txt'\n",
    "                     ], local_location='./smpicc_version-'\n",
    "                     + get_host_shortname(nodes[i]) + '.txt',\n",
    "                     connection_params={'user': 'root'}).run()\n",
    "    version = version + execo.Process(cmd='head -n 1 ./smpicc_version-'\n",
    "            + get_host_shortname(nodes[i]) + '.txt'\n",
    "            ).run().stdout.replace('\\n', '  ')\n",
    "    execo.Process(cmd='rm ./smpicc_version-'\n",
    "                  + get_host_shortname(nodes[i]) + '.txt').run()\n",
    "version\n"
   ]
  },
  {
   "cell_type": "code",
   "execution_count": 14,
   "metadata": {},
   "outputs": [],
   "source": [
    "path_base = \"~/Stage-POLARIS/SimGrid/examples/SMPI/\"+experiment_name\n",
    "path_src = path_base + '/src/'\n",
    "path_rslt = path_base + '/results/'"
   ]
  },
  {
   "cell_type": "markdown",
   "metadata": {},
   "source": [
    "#### Récupération fichiers sources"
   ]
  },
  {
   "cell_type": "code",
   "execution_count": null,
   "metadata": {},
   "outputs": [],
   "source": [
    "Src_get = execo.action.Remote(cmd='mkdir -p experiments_src',hosts=nodes,connection_params={'user':'root'})\n",
    "Src_get.run().ok"
   ]
  },
  {
   "cell_type": "code",
   "execution_count": null,
   "metadata": {},
   "outputs": [],
   "source": [
    "Remote_smpi_env = execo.action.Put(hosts=nodes,local_files=[path_src+\"griffon.xml\",path_src+\"griffon_hostfile.txt\",path_src+\"broadcast.c\",path_src+\"Makefile\"],remote_location='~/experiments_src',connection_params={'user':'root'})\n",
    "Remote_smpi_env.run().ok"
   ]
  },
  {
   "cell_type": "markdown",
   "metadata": {},
   "source": [
    "#### Execution de l'expérience"
   ]
  },
  {
   "cell_type": "code",
   "execution_count": null,
   "metadata": {},
   "outputs": [],
   "source": [
    "Remote_smpi = execo.action.Remote(cmd ='cd ~/experiments_src && make && make run NPROCS=2 MIN=0 MAX=10 N=2 DELAY=\\\"0 0\\\"',hosts=nodes,connection_params={'user':'root'})\n",
    "Remote_smpi.run().ok"
   ]
  },
  {
   "cell_type": "markdown",
   "metadata": {},
   "source": [
    "#### Récupération des résultats"
   ]
  },
  {
   "cell_type": "code",
   "execution_count": null,
   "metadata": {},
   "outputs": [],
   "source": [
    "Result_get = \\\n",
    "    execo.Process(cmd='mkdir -p /home/nezzine/Stage-POLARIS/SimGrid/examples/SMPI/'\n",
    "                   + experiment_name + '/results/'\n",
    "                  + datetime.datetime.now().strftime('%Y-%m-%d'))\n",
    "Result_get.run().ok"
   ]
  },
  {
   "cell_type": "code",
   "execution_count": null,
   "metadata": {
    "scrolled": true
   },
   "outputs": [],
   "source": [
    "for i in range(0, nodecount):\n",
    "    execo.action.Get(hosts = nodes[i],\n",
    "                     remote_files=['~/experiments_src/bcast_results.txt'\n",
    "                     ],\n",
    "                     local_location = path_rslt\n",
    "                     + datetime.datetime.now().strftime('%Y-%m-%d')\n",
    "                     + '/' + get_host_shortname(nodes[i]) + '_'\n",
    "                     + datetime.datetime.now().strftime('%Y-%m-%d_%H:%M'\n",
    "                     ) + '.txt', connection_params={'user': 'root'\n",
    "                     }).run().ok"
   ]
  },
  {
   "cell_type": "markdown",
   "metadata": {},
   "source": [
    "#### Delayer"
   ]
  },
  {
   "cell_type": "code",
   "execution_count": 15,
   "metadata": {},
   "outputs": [],
   "source": [
    "def init_tab(num, elt) :\n",
    "    D = [elt] * num\n",
    "    return D"
   ]
  },
  {
   "cell_type": "code",
   "execution_count": 16,
   "metadata": {},
   "outputs": [],
   "source": [
    "# Parsing the results\n",
    "def parser(num_node,date_precise):\n",
    "    with open('/home/nezzine/Stage-POLARIS/SimGrid/examples/SMPI/Time_Bcast/results/'\n",
    "               + date_precise.split('_')[0] + '/'\n",
    "              + get_host_shortname(nodes[num_node]) + '_'\n",
    "              + date_precise\n",
    "              + '.txt') as f:\n",
    "        return f.readlines()"
   ]
  },
  {
   "cell_type": "code",
   "execution_count": 17,
   "metadata": {},
   "outputs": [],
   "source": [
    "# Converting and organizing data\n",
    "def tab_conv(l,NPROCS) :\n",
    "    S = init_tab(NPROCS, None)\n",
    "        \n",
    "    # Taking useful data    \n",
    "    for i in range(0,NPROCS) :\n",
    "        line = l[i].split()\n",
    "        S[int(line[1])] = int(float(line[5]))\n",
    "    return S"
   ]
  },
  {
   "cell_type": "code",
   "execution_count": 18,
   "metadata": {},
   "outputs": [],
   "source": [
    "def delayer(num_node,NPROCS,date):\n",
    "    D = init_tab(NPROCS,0)\n",
    "    \n",
    "    raw_data = parser(num_node,date)\n",
    "    \n",
    "    S = tab_conv(raw_data,NPROCS)\n",
    "    \n",
    "    for p in range(0, NPROCS):\n",
    "        D[p] = S[p] - min(S)\n",
    "    return [D,min(S)]"
   ]
  },
  {
   "cell_type": "code",
   "execution_count": null,
   "metadata": {},
   "outputs": [],
   "source": [
    "# Example\n",
    "delayer(0,10,'2018-06-04_12:38')"
   ]
  },
  {
   "cell_type": "markdown",
   "metadata": {},
   "source": [
    "##### Shortcut : séquentiel"
   ]
  },
  {
   "cell_type": "code",
   "execution_count": 19,
   "metadata": {},
   "outputs": [],
   "source": [
    "def setup() :\n",
    "    Src_dir = execo.action.Remote(cmd='mkdir -p experiments_src',\n",
    "                              hosts=nodes,\n",
    "                              connection_params={'user': 'root'})\n",
    "    Src_get = execo.action.Put(hosts=nodes, local_files=[path_src\n",
    "                                   + 'griffon.xml', path_src\n",
    "                                   + 'griffon_hostfile.txt', path_src\n",
    "                                   + 'broadcast.c', path_src + 'Makefile'],\n",
    "                                   remote_location='~/experiments_src',\n",
    "                                   connection_params={'user': 'root'})\n",
    "    Rslt_dir = \\\n",
    "        execo.Process(cmd='mkdir -p /home/nezzine/Stage-POLARIS/SimGrid/examples/SMPI/'\n",
    "                   + experiment_name + '/results/'\n",
    "                  + datetime.datetime.now().strftime('%Y-%m-%d'))\n",
    "\n",
    "# On récup les src\n",
    "    Src_dir.run().ok\n",
    "    Src_get.run().ok\n",
    "    Rslt_dir.run().ok\n"
   ]
  },
  {
   "cell_type": "code",
   "execution_count": null,
   "metadata": {},
   "outputs": [],
   "source": [
    "\n",
    "def parl_exec () :\n",
    "    setup()\n",
    "    # Nbr pcs\n",
    "    NPROCS = 10\n",
    "    \n",
    "    # Nbr itérations\n",
    "    N = 100\n",
    "    \n",
    "    D = init_tab(NPROCS,0)\n",
    "    delay = ' '.join(str(e) for e in D)\n",
    "    date = datetime.datetime.now().strftime('%Y-%m-%d');\n",
    "    date_precise = datetime.datetime.now().strftime('%Y-%m-%d_%H:%M')\n",
    "    print(date_precise)\n",
    "    \n",
    "    # TODO //\n",
    "    for i in range (0,nodecount) :\n",
    "        MIN = (int)((i*N)/len(nodes))\n",
    "        MAX = (int)(((i+1)*N)/len(nodes))\n",
    "        print(get_host_shortname(nodes[i])+\" => \"+str(i)+\" NPROCS = \"+str(NPROCS)\n",
    "             +\" MIN = \"+str(MIN)\n",
    "             +\" MAX = \"+str(MAX)\n",
    "             +\" N = \"+str(N)\n",
    "             +\" DELAY = '\"+ delay +\"'\"\n",
    "            )\n",
    "        bool = execo.action.Remote(cmd ='cd ~/experiments_src && make && make run NPROCS='\n",
    "                                  +str(NPROCS)+' MIN='+str(MIN) \n",
    "                                  +' MAX='+str(MAX)+' N='+str(N)\n",
    "                                  +\" DELAY='\"+delay\n",
    "                                  +\"'\",hosts=nodes[i],connection_params={'user':'root'}).run().ok\n",
    "        print(bool)\n",
    "        execo.action.Get(hosts=nodes[i],\n",
    "                     remote_files=['~/experiments_src/bcast_results.txt'\n",
    "                     ],\n",
    "                     local_location= path_rslt\n",
    "                     + date\n",
    "                     + '/' + get_host_shortname(nodes[i]) + '_'\n",
    "                     + date_precise + '.txt', connection_params={'user': 'root'\n",
    "                     }).run().ok\n",
    "        print(delayer(i,NPROCS,date_precise))\n",
    "    return;\n",
    "\n",
    "parl_exec()\n",
    "\n",
    "for i in range(0, nodecount):\n",
    "    execo.action.Get(hosts=nodes[i],\n",
    "                     remote_files=['~/experiments_src/bcast_results.txt'\n",
    "                     ],\n",
    "                     local_location=path_rslt\n",
    "                     + datetime.datetime.now().strftime('%Y-%m-%d')\n",
    "                     + '/' + get_host_shortname(nodes[i]) + '_'\n",
    "                     + datetime.datetime.now().strftime('%Y-%m-%d_%H:%M'\n",
    "                     ) + '.txt', connection_params={'user': 'root'\n",
    "                     }).run().ok"
   ]
  },
  {
   "cell_type": "markdown",
   "metadata": {},
   "source": [
    "#### Parallel simulation"
   ]
  },
  {
   "cell_type": "code",
   "execution_count": 20,
   "metadata": {},
   "outputs": [],
   "source": [
    "# Thread pour la simulation // opt.\n",
    "class ParSimer(Thread):\n",
    "\n",
    "    \"\"\"Thread chargé simplement d'afficher une lettre dans la console.\"\"\"\n",
    "    \n",
    "    # Paramètrage du thread\n",
    "    def __init__(self,i,MIN,MAX,N,DELAY):\n",
    "        Thread.__init__(self)\n",
    "        self.MIN = MIN\n",
    "        self.MAX = MAX\n",
    "        self.N = N\n",
    "        self.DELAY = DELAY\n",
    "        self.i = i\n",
    "    \n",
    "    # Set la valeur du délai\n",
    "    def set_delay(self,delay):\n",
    "        self.DELAY = delay\n",
    "    \n",
    "    def get_delay(self):\n",
    "        return self.DELAY\n",
    "    def get_MIN(self):\n",
    "        return self.MIN\n",
    "    def run(self):\n",
    "        \"\"\"Code à exécuter pendant l'exécution du thread.\"\"\"\n",
    "        \"\"\"print(get_host_shortname(nodes[self.i])+\" => \"+str(self.i)+\" NPROCS = \"+str(NPROCS)\n",
    "             +\" MIN = \"+str(self.MIN)\n",
    "             +\" MAX = \"+str(self.MAX)\n",
    "             +\" N = \"+str(self.N)\n",
    "             +\" DELAY = '\"+ self.DELAY +\"'\\n\"\n",
    "            )\n",
    "        \"\"\"\n",
    "        # make run sur toutes la machine dont le thread s'occupe avec ses paramètres\n",
    "        execo.action.Remote(cmd ='cd ~/experiments_src && make && make run NPROCS='\n",
    "                                  +str(NPROCS)+' MIN='+str(self.MIN) \n",
    "                                  +' MAX='+str(self.MAX)+' N='+str(self.N)\n",
    "                                  +\" DELAY='\"+self.DELAY\n",
    "                                  +\"'\",hosts=nodes[self.i],connection_params={'user':'root'}).run().ok\n"
   ]
  },
  {
   "cell_type": "code",
   "execution_count": 21,
   "metadata": {},
   "outputs": [],
   "source": [
    "# Test : trajectoire jusqu'à la ième machine raccrochée à la trajectoire initiale\n",
    "def coherence(tab,i):\n",
    "     return all(x == True for x in tab[0:i])"
   ]
  },
  {
   "cell_type": "code",
   "execution_count": 22,
   "metadata": {},
   "outputs": [],
   "source": [
    "# Formate le tableau en string pour pouvoir etre passé en ligne de commande\n",
    "def format_cmd(data):\n",
    "    return (' '.join(str(e) for e in data))"
   ]
  },
  {
   "cell_type": "code",
   "execution_count": 23,
   "metadata": {},
   "outputs": [],
   "source": [
    "# Formate le string en tableau d'int pour être manipulé \n",
    "def unformat_cmd(data):\n",
    "    return list(map(int,data.split()))"
   ]
  },
  {
   "cell_type": "code",
   "execution_count": 24,
   "metadata": {},
   "outputs": [],
   "source": [
    "# SOURCE : https://stackoverflow.com/questions/3229419/how-to-pretty-print-nested-dictionaries\n",
    "def pretty(d, indent=0):\n",
    "    for key, value in d.items():\n",
    "        print('\\t' * indent + str(key))\n",
    "        if isinstance(value, type({})):\n",
    "            pretty(value, indent+1)\n",
    "        else:\n",
    "            print('\\t' * (indent+1) + str(value))"
   ]
  },
  {
   "cell_type": "code",
   "execution_count": 139,
   "metadata": {},
   "outputs": [],
   "source": [
    "# SIMULATION\n",
    "### Simulation simple en diminuant le nbr de machines \n",
    "def simulation(N,NPROCS,fragment_size,mode,catch_me):\n",
    "    if (fragment_size > N): \n",
    "        raise ValueError(\"Fragment size cannot be superior to N\")\n",
    "    setup() \n",
    "    # Dates: pour la gestion de fichiers\n",
    "    date_precise = datetime.datetime.now().strftime('%Y-%m-%d_%H:%M')\n",
    "    date = date_precise.split('_')[0]\n",
    "    \n",
    "    # Total execution time\n",
    "    total_execution_time = 0\n",
    "    \n",
    "    # Tableau de threads\n",
    "    machines = init_tab(nodecount,None)\n",
    "      \n",
    "    # position trajectoire cohérente courante\n",
    "    t_curr = 0\n",
    "    \n",
    "    # D de la trajectorie cohérente courante\n",
    "    D_curr = format_cmd(init_tab(NPROCS, 0))\n",
    "    \n",
    "    # Taille du dernier slot\n",
    "    last_fragment_size = N % fragment_size\n",
    "    \n",
    "    # Nombre de fragments\n",
    "    fragment_number = int((math.ceil(N/fragment_size)))\n",
    "    #rounds_max = int((math.ceil(fragment_number/nodecount)))\n",
    "\n",
    "    \n",
    "    # zone d'itérations à explorer\n",
    "    To_explore = collections.deque()\n",
    "    \n",
    "    ### Initialisation des zones à explorer D='0...0' pour chaque zone\n",
    "    for i in range(fragment_number):\n",
    "        To_explore.append((i * fragment_size, format_cmd(init_tab(NPROCS, 0))))\n",
    "        \n",
    "    print(\"To_explore : \"+str(To_explore))\n",
    "    # Round actuel\n",
    "    curr_round = 0\n",
    "    \n",
    "    # Liste des trajectoires pour un temps t1 et un D donnée\n",
    "    sim = {}\n",
    "    while(True):\n",
    "        curr_round = curr_round + 1\n",
    "        \n",
    "        # Trajectoire cohérente complète trouvé : FIN DE SIMULATION\n",
    "        if(t_curr >= N) :\n",
    "            print(\"Total time : \" + str(total_execution_time))\n",
    "            break;        \n",
    "\n",
    "        print(\"-------------------------------------------- ROUND :  \" + str(curr_round) + \"   --------------------------------------------\\n\")\n",
    "        \n",
    "        # Zones restantes à explorer\n",
    "        number_paths_To_explore = len(To_explore)\n",
    "        \n",
    "        # Soit j'ai plus de zone à explorer que de machines disponibles soit l'inverse\n",
    "        for q in range(min(nodecount,number_paths_To_explore)):\n",
    "            \n",
    "            # On récupère la première zone à explorer\n",
    "            parameters = To_explore.popleft()\n",
    "            \n",
    "            # MIN est le champ de gauche\n",
    "            MIN = parameters[0]\n",
    "            \n",
    "            # MAX de la zone à explorer vaut le min + la taille du slot\n",
    "            MAX = MIN + fragment_size\n",
    "            \n",
    "            # D est le champ de droite\n",
    "            delay = parameters[1]\n",
    "            \n",
    "            # Paramètrage des machines\n",
    "            machines[q] = ParSimer(q, MIN, MAX, N, delay)\n",
    "            # print(\"Machine \" + str(q) + \" MIN :\" + str(MIN) + \" MAX : \" + str(MAX) + \" D : \"+ delay)   \n",
    "                \n",
    "            \n",
    "        # Lancement de la simulation\n",
    "        for q in range(min(nodecount,number_paths_To_explore)):\n",
    "            machines[q].start()\n",
    "            \n",
    "        # Fin de simulation\n",
    "        for q in range(min(nodecount,number_paths_To_explore)) :\n",
    "            machines[q].join()\n",
    "            # Récupération des résultats\n",
    "            execo.action.Get(hosts=nodes[q],\n",
    "                     remote_files=['~/experiments_src/bcast_results.txt'\n",
    "                     ],\n",
    "                     local_location= path_rslt\n",
    "                     + date\n",
    "                     + '/' + get_host_shortname(nodes[q]) + '_'\n",
    "                     + date_precise + '.txt', connection_params={'user': 'root'\n",
    "                     }).run().ok    \n",
    "        # Traitement des données\n",
    "        for q in range(min(nodecount,number_paths_To_explore)):\n",
    "            # On récupère les paramètres des machines\n",
    "            t = machines[q].get_MIN()\n",
    "            D = machines[q].get_delay()\n",
    "            \n",
    "            # Calcul du délai\n",
    "            # On récupère D et S\n",
    "            raw_data = delayer(q,NPROCS,date_precise)\n",
    "            \n",
    "            # Filtre D : Calcul du délai\n",
    "            Dprime = format_cmd(raw_data[0])\n",
    "            \n",
    "            #Filte S : Calcul du temps d'éxécution total \n",
    "            T = raw_data[1]\n",
    "            \n",
    "            # Ajout dans ma table (Dprime, round, machine qui l'a calculé, temps)\n",
    "            sim.setdefault(t,{}).update({D:(Dprime,curr_round,q,T)})\n",
    "            MAX = t + fragment_size\n",
    "\n",
    "        print(\"T_curr : \"+ str(t_curr)+ \"         D_curr : \"+ str(D_curr)+ \"         Dprime \" + str(Dprime)+\"         total execution time  \"+str(total_execution_time) )\n",
    "        \n",
    "        # Calcul de la trajectoire cohérente\n",
    "        while (t_curr < N and D_curr in sim[t_curr]):\n",
    "            total_execution_time += sim[t_curr][D_curr][3]\n",
    "            if (t_curr + fragment_size >= N) : total_execution_time += max(unformat_cmd(sim[t_curr][D_curr][0]))\n",
    "            D_curr = sim[t_curr][D_curr][0]\n",
    "            t_curr = min(t_curr + fragment_size,N)\n",
    "           \n",
    "            \n",
    "        print(\"T_curr : \"+ str(t_curr)+ \"         D_curr : \"+ str(D_curr)+ \"         Dprime \" + str(Dprime)+\"         total execution time  \"+str(total_execution_time) +\"\\n\") \n",
    "        \n",
    "        pretty(sim) \n",
    "        \n",
    "        print(\"To_explore : \"+str(To_explore))\n",
    "        for q in range(min(nodecount,number_paths_To_explore)):\n",
    "            t = machines[q].get_MIN()\n",
    "            D = machines[q].get_delay()\n",
    "            \n",
    "            MAX = min(t + fragment_size,N)\n",
    "            Dprime = sim[t][D][0]\n",
    "            if(MAX < N):\n",
    "                if (MAX > t_curr):\n",
    "                # Ajout dans les zones à explorer du nouveau point de départ à exploiter en fonction du mode\n",
    "                    try :\n",
    "                        caught = Dprime in sim[MAX]\n",
    "                    except KeyError:\n",
    "                        caught = False                  \n",
    "                    if (not catch_me or not caught):\n",
    "                        borders = unformat_cmd(Dprime)\n",
    "                        sup_border = max(borders) if max(borders) > 0 else 10\n",
    "                        if (mode == \"RAND_SUP\") : \n",
    "                            new_Dprime = []\n",
    "                            for p in range(NPROCS):\n",
    "                                new_Dprime.append(random.choice(range(borders[p]+1)))\n",
    "                            Dprime = format_cmd(new_Dprime)\n",
    "                            print(\"[\"+str(MAX) +\"]\"\"Generated RANDOM Dprime : \" + str(Dprime))\n",
    "                            print(\"BORDERS : \"+ str(borders))\n",
    "                        if (mode == \"RAND_INF\") : Dprime = format_cmd(random.sample(range(Dprime[NPROCS], 100), NPROCS))\n",
    "                        if (mode == \"RAND\") : Dprime = format_cmd(random.sample(range(0, 10), NPROCS))\n",
    "                To_explore.append((MAX,Dprime))\n",
    "        print(\"To_explore : \"+str(To_explore))\n",
    "        "
   ]
  },
  {
   "cell_type": "code",
   "execution_count": 140,
   "metadata": {
    "scrolled": false
   },
   "outputs": [
    {
     "name": "stdout",
     "output_type": "stream",
     "text": [
      "To_explore : deque([(0, '0 0 0'), (25, '0 0 0'), (50, '0 0 0'), (75, '0 0 0')])\n",
      "-------------------------------------------- ROUND :  1   --------------------------------------------\n",
      "\n",
      "T_curr : 0         D_curr : 0 0 0         Dprime 0 2 2         total execution time  0\n",
      "T_curr : 25         D_curr : 0 2 1         Dprime 0 2 2         total execution time  10\n",
      "\n",
      "0\n",
      "\t0 0 0\n",
      "\t\t('0 2 1', 1, 0, 10)\n",
      "25\n",
      "\t0 0 0\n",
      "\t\t('0 2 1', 1, 1, 10)\n",
      "50\n",
      "\t0 0 0\n",
      "\t\t('0 2 2', 1, 2, 10)\n",
      "To_explore : deque([(75, '0 0 0')])\n",
      "[50]Generated RANDOM Dprime : 0 2 0\n",
      "BORDERS : [0, 2, 1]\n",
      "[75]Generated RANDOM Dprime : 0 1 1\n",
      "BORDERS : [0, 2, 2]\n",
      "To_explore : deque([(75, '0 0 0'), (25, '0 2 1'), (50, '0 2 0'), (75, '0 1 1')])\n",
      "-------------------------------------------- ROUND :  2   --------------------------------------------\n",
      "\n",
      "T_curr : 25         D_curr : 0 2 1         Dprime 1 2 0         total execution time  10\n",
      "T_curr : 50         D_curr : 2 0 1         Dprime 1 2 0         total execution time  23\n",
      "\n",
      "0\n",
      "\t0 0 0\n",
      "\t\t('0 2 1', 1, 0, 10)\n",
      "25\n",
      "\t0 0 0\n",
      "\t\t('0 2 1', 1, 1, 10)\n",
      "\t0 2 1\n",
      "\t\t('2 0 1', 2, 1, 13)\n",
      "50\n",
      "\t0 0 0\n",
      "\t\t('0 2 2', 1, 2, 10)\n",
      "\t0 2 0\n",
      "\t\t('1 2 0', 2, 2, 13)\n",
      "75\n",
      "\t0 0 0\n",
      "\t\t('2 0 1', 2, 0, 12)\n",
      "To_explore : deque([(75, '0 1 1')])\n",
      "[75]Generated RANDOM Dprime : 0 0 0\n",
      "BORDERS : [1, 2, 0]\n",
      "To_explore : deque([(75, '0 1 1'), (50, '2 0 1'), (75, '0 0 0')])\n",
      "-------------------------------------------- ROUND :  3   --------------------------------------------\n",
      "\n",
      "T_curr : 50         D_curr : 2 0 1         Dprime 3 0 7         total execution time  23\n",
      "T_curr : 75         D_curr : 5 0 8         Dprime 3 0 7         total execution time  32\n",
      "\n",
      "0\n",
      "\t0 0 0\n",
      "\t\t('0 2 1', 1, 0, 10)\n",
      "25\n",
      "\t0 0 0\n",
      "\t\t('0 2 1', 1, 1, 10)\n",
      "\t0 2 1\n",
      "\t\t('2 0 1', 2, 1, 13)\n",
      "50\n",
      "\t2 0 1\n",
      "\t\t('5 0 8', 3, 1, 9)\n",
      "\t0 0 0\n",
      "\t\t('0 2 2', 1, 2, 10)\n",
      "\t0 2 0\n",
      "\t\t('1 2 0', 2, 2, 13)\n",
      "75\n",
      "\t0 0 0\n",
      "\t\t('3 0 7', 3, 2, 9)\n",
      "\t0 1 1\n",
      "\t\t('0 4 2', 3, 0, 11)\n",
      "To_explore : deque([])\n",
      "To_explore : deque([(75, '5 0 8')])\n",
      "-------------------------------------------- ROUND :  4   --------------------------------------------\n",
      "\n",
      "T_curr : 75         D_curr : 5 0 8         Dprime 2 0 9         total execution time  32\n",
      "T_curr : 100         D_curr : 2 0 9         Dprime 2 0 9         total execution time  53\n",
      "\n",
      "0\n",
      "\t0 0 0\n",
      "\t\t('0 2 1', 1, 0, 10)\n",
      "25\n",
      "\t0 0 0\n",
      "\t\t('0 2 1', 1, 1, 10)\n",
      "\t0 2 1\n",
      "\t\t('2 0 1', 2, 1, 13)\n",
      "50\n",
      "\t2 0 1\n",
      "\t\t('5 0 8', 3, 1, 9)\n",
      "\t0 0 0\n",
      "\t\t('0 2 2', 1, 2, 10)\n",
      "\t0 2 0\n",
      "\t\t('1 2 0', 2, 2, 13)\n",
      "75\n",
      "\t5 0 8\n",
      "\t\t('2 0 9', 4, 0, 12)\n",
      "\t0 0 0\n",
      "\t\t('3 0 7', 3, 2, 9)\n",
      "\t0 1 1\n",
      "\t\t('0 4 2', 3, 0, 11)\n",
      "To_explore : deque([])\n",
      "To_explore : deque([])\n",
      "Total time : 53\n"
     ]
    }
   ],
   "source": [
    "# Nbr pcs\n",
    "NPROCS = 3\n",
    "    \n",
    "# Nbr itérations\n",
    "N = 100\n",
    "\n",
    "# taille paquet d'itérations\n",
    "fragment_size = 25\n",
    "    \n",
    "\n",
    "# mode de génération de l'état initial à chaque round\n",
    "mode_opt = [\"FIX\",\"RAND\",\"RAND_INF\",\"RAND_SUP\"]\n",
    "mode = mode_opt[3]\n",
    "\n",
    "catch_me = True\n",
    "\n",
    "# Lancement de la simulation\n",
    "simulation(N,NPROCS,fragment_size,mode,catch_me)"
   ]
  },
  {
   "cell_type": "code",
   "execution_count": 89,
   "metadata": {},
   "outputs": [
    {
     "name": "stdout",
     "output_type": "stream",
     "text": [
      "[5, 4, 1, 4, 5, 6, 1, 4, 5, 4, 6, 6, 4, 4, 3, 6, 4, 2, 4, 2]\n"
     ]
    }
   ],
   "source": [
    "from random import choice\n",
    "colors = [1,2,3,4,5,6]\n",
    "\n",
    "sample_size = 20\n",
    "new_Dprime = []\n",
    "for p in range(NPROCS)\n",
    "    new_Dprime.append(random.choice(range(Dprime[p])))"
   ]
  },
  {
   "cell_type": "markdown",
   "metadata": {},
   "source": [
    "#### Publication des résultats"
   ]
  },
  {
   "cell_type": "code",
   "execution_count": 45,
   "metadata": {},
   "outputs": [
    {
     "name": "stdout",
     "output_type": "stream",
     "text": [
      "[master 0479867] Automatic results update : Time_Bcast---rennes Fix : Catch me\n",
      " Committer: Najwa Ez Zine <nezzine@frennes>\n",
      "Your name and email address were configured automatically based\n",
      "on your username and hostname. Please check that they are accurate.\n",
      "You can suppress this message by setting them explicitly. Run the\n",
      "following command and follow the instructions in your editor to edit\n",
      "your configuration file:\n",
      "\n",
      "    git config --global --edit\n",
      "\n",
      "After doing this, you may fix the identity used for this commit with:\n",
      "\n",
      "    git commit --amend --reset-author\n",
      "\n",
      " 7 files changed, 77 insertions(+), 62 deletions(-)\n",
      " create mode 100644 SimGrid/examples/SMPI/Time_Bcast/results/2018-06-19/parasilo-20_2018-06-19_11:00.txt\n",
      " create mode 100644 SimGrid/examples/SMPI/Time_Bcast/results/2018-06-19/parasilo-20_2018-06-19_11:17.txt\n",
      " create mode 100644 SimGrid/examples/SMPI/Time_Bcast/results/2018-06-19/parasilo-21_2018-06-19_11:00.txt\n",
      " create mode 100644 SimGrid/examples/SMPI/Time_Bcast/results/2018-06-19/parasilo-21_2018-06-19_11:17.txt\n",
      " create mode 100644 SimGrid/examples/SMPI/Time_Bcast/results/2018-06-19/parasilo-2_2018-06-19_11:00.txt\n",
      " create mode 100644 SimGrid/examples/SMPI/Time_Bcast/results/2018-06-19/parasilo-2_2018-06-19_11:17.txt\n"
     ]
    }
   ],
   "source": [
    "%%bash -s $experiment_name $site\n",
    "git add .\n",
    "git commit -m 'Automatic results update : '\"$1\"'---'\"$2\"\" Fix : Catch me\""
   ]
  },
  {
   "cell_type": "markdown",
   "metadata": {},
   "source": [
    "#### Fin d'expérience : suppression du job"
   ]
  },
  {
   "cell_type": "code",
   "execution_count": null,
   "metadata": {},
   "outputs": [],
   "source": [
    "oardel(jobid)"
   ]
  }
 ],
 "metadata": {
  "kernelspec": {
   "display_name": "Python 3",
   "language": "python",
   "name": "python3"
  },
  "language_info": {
   "codemirror_mode": {
    "name": "ipython",
    "version": 3
   },
   "file_extension": ".py",
   "mimetype": "text/x-python",
   "name": "python",
   "nbconvert_exporter": "python",
   "pygments_lexer": "ipython3",
   "version": "3.5.3"
  }
 },
 "nbformat": 4,
 "nbformat_minor": 2
}
