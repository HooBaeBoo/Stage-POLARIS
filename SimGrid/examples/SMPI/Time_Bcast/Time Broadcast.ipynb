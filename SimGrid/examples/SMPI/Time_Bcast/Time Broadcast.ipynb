{
 "cells": [
  {
   "cell_type": "markdown",
   "metadata": {},
   "source": [
    "# Broadcast"
   ]
  },
  {
   "cell_type": "markdown",
   "metadata": {},
   "source": [
    "### But : Faire un broadcast, départ décalé \n"
   ]
  },
  {
   "cell_type": "markdown",
   "metadata": {},
   "source": [
    "#### Informations générales"
   ]
  },
  {
   "cell_type": "code",
   "execution_count": 1,
   "metadata": {},
   "outputs": [],
   "source": [
    "experiment_name = \"Time_Bcast\""
   ]
  },
  {
   "cell_type": "code",
   "execution_count": 2,
   "metadata": {},
   "outputs": [
    {
     "name": "stdout",
     "output_type": "stream",
     "text": [
      "commit e2242eca6dd4920c56f271aa93798c912131abaf\n",
      "Author: Najwa Ez Zine <nezzine@frennes>\n",
      "Date:   Thu Jun 7 16:11:01 2018 +0200\n",
      "\n",
      "    Theory ressources\n"
     ]
    },
    {
     "name": "stderr",
     "output_type": "stream",
     "text": [
      "Python 2.7.13\n"
     ]
    }
   ],
   "source": [
    "%%bash -s\n",
    "git log -n 1\n",
    "python --version"
   ]
  },
  {
   "cell_type": "markdown",
   "metadata": {},
   "source": [
    "#### Préparation de l'environnement"
   ]
  },
  {
   "cell_type": "code",
   "execution_count": 3,
   "metadata": {},
   "outputs": [
    {
     "name": "stdout",
     "output_type": "stream",
     "text": [
      "Collecting execo\n",
      "Installing collected packages: execo\n",
      "Successfully installed execo-2.6.3\n",
      "Collecting requests\n",
      "  Using cached https://files.pythonhosted.org/packages/49/df/50aa1999ab9bde74656c2919d9c0c085fd2b3775fd3eca826012bef76d8c/requests-2.18.4-py2.py3-none-any.whl\n",
      "Collecting idna<2.7,>=2.5 (from requests)\n",
      "  Using cached https://files.pythonhosted.org/packages/27/cc/6dd9a3869f15c2edfab863b992838277279ce92663d334df9ecf5106f5c6/idna-2.6-py2.py3-none-any.whl\n",
      "Collecting chardet<3.1.0,>=3.0.2 (from requests)\n",
      "  Using cached https://files.pythonhosted.org/packages/bc/a9/01ffebfb562e4274b6487b4bb1ddec7ca55ec7510b22e4c51f14098443b8/chardet-3.0.4-py2.py3-none-any.whl\n",
      "Collecting urllib3<1.23,>=1.21.1 (from requests)\n",
      "  Using cached https://files.pythonhosted.org/packages/63/cb/6965947c13a94236f6d4b8223e21beb4d576dc72e8130bd7880f600839b8/urllib3-1.22-py2.py3-none-any.whl\n",
      "Collecting certifi>=2017.4.17 (from requests)\n",
      "  Using cached https://files.pythonhosted.org/packages/7c/e6/92ad559b7192d846975fc916b65f667c7b8c3a32bea7372340bfe9a15fa5/certifi-2018.4.16-py2.py3-none-any.whl\n",
      "Installing collected packages: idna, chardet, urllib3, certifi, requests\n",
      "Successfully installed certifi-2018.4.16 chardet-3.0.4 idna-2.6 requests-2.18.4 urllib3-1.22\n"
     ]
    }
   ],
   "source": [
    "%%bash -s\n",
    "pip3 install --user execo\n",
    "pip3 install --user requests"
   ]
  },
  {
   "cell_type": "code",
   "execution_count": 4,
   "metadata": {},
   "outputs": [],
   "source": [
    "import execo\n",
    "from execo import *\n",
    "from execo_g5k import *\n",
    "from execo_engine import *\n",
    "import os\n",
    "import sys\n",
    "import json\n",
    "import time\n",
    "import datetime\n",
    "import re\n",
    "from shutil import copy\n",
    "from subprocess import check_output\n",
    "import random\n",
    "from threading import Thread"
   ]
  },
  {
   "cell_type": "markdown",
   "metadata": {},
   "source": [
    "##### Réservation noeuds"
   ]
  },
  {
   "cell_type": "code",
   "execution_count": 5,
   "metadata": {},
   "outputs": [],
   "source": [
    "# Nom du job\n",
    "jobname = ' '\n",
    "# Nombre de noeuds\n",
    "nodecount = 4\n",
    "# Temps réservation\n",
    "walltime = \"3:0:0\" \n",
    "\n",
    "# filters out Nantes's econome cluster\n",
    "resources_selection = \"-p \\\"cluster in ('ecotype','parasilo','grisou')\\\"\" \n",
    "\n",
    "# Nancy\n",
    "site = \"rennes\""
   ]
  },
  {
   "cell_type": "code",
   "execution_count": 6,
   "metadata": {},
   "outputs": [
    {
     "name": "stdout",
     "output_type": "stream",
     "text": [
      "A   job is already running, using it. jobid is 1015246\n"
     ]
    }
   ],
   "source": [
    "jobs = get_current_oar_jobs()\n",
    "jobid = None\n",
    "waiting_jobs = []\n",
    "while jobs:\n",
    "    j, site = jobs.pop()\n",
    "    info = get_oar_job_info(j, site)\n",
    "    if info['name'] == jobname:\n",
    "        if info['state'] == 'Running':\n",
    "            jobid = j\n",
    "            print(\"A {} job is already running, using it. jobid is {}\".format(jobname, jobid))\n",
    "            break\n",
    "        else:\n",
    "            waiting_jobs.append(j)\n",
    "if not jobid and not waiting_jobs:\n",
    "    jobspec = OarSubmission(resources=\"/cluster=1/nodes={}\".format(nodecount), walltime=walltime,\n",
    "                            additional_options=resources_selection, job_type=\"deploy\", name=jobname)\n",
    "    jobid, _ = oarsub([(jobspec, site)]).pop()\n",
    "    print(\"New job submitted, jobid is {}\".format(jobid))\n",
    "elif not jobid:\n",
    "    print(\"One or more {} jobs exist ({}) but are not running.\\n\"\n",
    "          \" Connect to the frontend to see what is happening, and/or run the cell again.\".format(\n",
    "          jobname, \", \".join([str(j) for j in waiting_jobs])))"
   ]
  },
  {
   "cell_type": "markdown",
   "metadata": {},
   "source": [
    "On les range"
   ]
  },
  {
   "cell_type": "code",
   "execution_count": 7,
   "metadata": {},
   "outputs": [
    {
     "data": {
      "text/plain": [
       "[Host('parasilo-23.rennes.grid5000.fr'),\n",
       " Host('parasilo-24.rennes.grid5000.fr'),\n",
       " Host('parasilo-25.rennes.grid5000.fr'),\n",
       " Host('parasilo-26.rennes.grid5000.fr')]"
      ]
     },
     "execution_count": 7,
     "metadata": {},
     "output_type": "execute_result"
    }
   ],
   "source": [
    "nodes = get_oar_job_nodes(jobid)\n",
    "nodes.sort(key=lambda n: n.address)\n",
    "nodes"
   ]
  },
  {
   "cell_type": "markdown",
   "metadata": {},
   "source": [
    "##### Déploiement de l'environnement"
   ]
  },
  {
   "cell_type": "code",
   "execution_count": 80,
   "metadata": {},
   "outputs": [],
   "source": [
    "force_redeploy = False # set to True to force redeploying the OS on the nodes in the deployment section\n",
    "environment_dsc_file = 'src/debian9-x64-bigdata-tutorial.yaml' # filename of the kadeploy environment file (YAML)"
   ]
  },
  {
   "cell_type": "code",
   "execution_count": 81,
   "metadata": {
    "scrolled": true
   },
   "outputs": [],
   "source": [
    "deployment = Deployment(hosts=nodes, env_file = os.path.abspath(environment_dsc_file),\n",
    "                        other_options=\"-r ext4 --no-debug-mode\")\n",
    "\n",
    "deploy_ok, deploy_failed = deploy(deployment, check_deployed_command=not force_redeploy,\n",
    "                              stdout_handlers=[sys.stdout],\n",
    "                              stderr_handlers=[sys.stderr])"
   ]
  },
  {
   "cell_type": "markdown",
   "metadata": {},
   "source": [
    "#### Test : commande simple 'ls'"
   ]
  },
  {
   "cell_type": "code",
   "execution_count": null,
   "metadata": {},
   "outputs": [],
   "source": [
    "# execo.action.Remote(cmd,hosts,connection_params,process_args)\n",
    "Remote_test = execo.action.Remote(cmd='ls',hosts=nodes,connection_params=None, process_args=None)\n",
    "Remote_test.run().ok"
   ]
  },
  {
   "cell_type": "markdown",
   "metadata": {},
   "source": [
    "#### Installation environnement sur noeud"
   ]
  },
  {
   "cell_type": "code",
   "execution_count": 82,
   "metadata": {},
   "outputs": [],
   "source": [
    "Remote_install = execo.action.Remote(cmd='apt-get install g++ libboost-all-dev && wget http://gforge.inria.fr/frs/download.php/latestfile/8/SimGrid-3.18.tar.gz && tar -xvf SimGrid-3.18.tar.gz && cd SimGrid-3.18 && cmake -DCMAKE_INSTALL_PREFIX=/usr/local -Denable_smpi=on -Denable_documentation=off && make -j && make check && make install -j',hosts=nodes,connection_params={'user':'root'})"
   ]
  },
  {
   "cell_type": "code",
   "execution_count": 83,
   "metadata": {},
   "outputs": [
    {
     "data": {
      "text/plain": [
       "True"
      ]
     },
     "execution_count": 83,
     "metadata": {},
     "output_type": "execute_result"
    }
   ],
   "source": [
    "Remote_install.run().ok"
   ]
  },
  {
   "cell_type": "markdown",
   "metadata": {},
   "source": [
    "#### Version Simgrid"
   ]
  },
  {
   "cell_type": "code",
   "execution_count": 84,
   "metadata": {},
   "outputs": [
    {
     "data": {
      "text/plain": [
       "'SimGrid version 3.18  SimGrid version 3.18  SimGrid version 3.18  SimGrid version 3.18  '"
      ]
     },
     "execution_count": 84,
     "metadata": {},
     "output_type": "execute_result"
    }
   ],
   "source": [
    "execo.action.Remote(cmd='touch smpi_version.txt && smpicc --version > smpi_version.txt'\n",
    "                    , hosts=nodes, connection_params={'user': 'root'\n",
    "                    }).run()\n",
    "version = ''\n",
    "for i in range(0, nodecount):\n",
    "    execo.action.Get(hosts=nodes[i], remote_files=['~/smpi_version.txt'\n",
    "                     ], local_location='./smpicc_version-'\n",
    "                     + get_host_shortname(nodes[i]) + '.txt',\n",
    "                     connection_params={'user': 'root'}).run()\n",
    "    version = version + execo.Process(cmd='head -n 1 ./smpicc_version-'\n",
    "            + get_host_shortname(nodes[i]) + '.txt'\n",
    "            ).run().stdout.replace('\\n', '  ')\n",
    "    execo.Process(cmd='rm ./smpicc_version-'\n",
    "                  + get_host_shortname(nodes[i]) + '.txt').run()\n",
    "version\n"
   ]
  },
  {
   "cell_type": "code",
   "execution_count": 18,
   "metadata": {},
   "outputs": [],
   "source": [
    "path_base = \"~/Stage-POLARIS/SimGrid/examples/SMPI/\"+experiment_name\n",
    "path_src = path_base + '/src/'\n",
    "path_rslt = path_base + '/results/'"
   ]
  },
  {
   "cell_type": "markdown",
   "metadata": {},
   "source": [
    "#### Récupération fichiers sources"
   ]
  },
  {
   "cell_type": "code",
   "execution_count": null,
   "metadata": {},
   "outputs": [],
   "source": [
    "Src_get = execo.action.Remote(cmd='mkdir -p experiments_src',hosts=nodes,connection_params={'user':'root'})\n",
    "Src_get.run().ok"
   ]
  },
  {
   "cell_type": "code",
   "execution_count": null,
   "metadata": {},
   "outputs": [],
   "source": [
    "Remote_smpi_env = execo.action.Put(hosts=nodes,local_files=[path_src+\"griffon.xml\",path_src+\"griffon_hostfile.txt\",path_src+\"broadcast.c\",path_src+\"Makefile\"],remote_location='~/experiments_src',connection_params={'user':'root'})\n",
    "Remote_smpi_env.run().ok"
   ]
  },
  {
   "cell_type": "markdown",
   "metadata": {},
   "source": [
    "#### Execution de l'expérience"
   ]
  },
  {
   "cell_type": "code",
   "execution_count": null,
   "metadata": {},
   "outputs": [],
   "source": [
    "Remote_smpi = execo.action.Remote(cmd ='cd ~/experiments_src && make && make run NPROCS=2 MIN=0 MAX=10 N=2 DELAY=\\\"0 0\\\"',hosts=nodes,connection_params={'user':'root'})\n",
    "Remote_smpi.run().ok"
   ]
  },
  {
   "cell_type": "markdown",
   "metadata": {},
   "source": [
    "#### Récupération des résultats"
   ]
  },
  {
   "cell_type": "code",
   "execution_count": null,
   "metadata": {},
   "outputs": [],
   "source": [
    "Result_get = \\\n",
    "    execo.Process(cmd='mkdir -p /home/nezzine/Stage-POLARIS/SimGrid/examples/SMPI/'\n",
    "                   + experiment_name + '/results/'\n",
    "                  + datetime.datetime.now().strftime('%Y-%m-%d'))\n",
    "Result_get.run().ok"
   ]
  },
  {
   "cell_type": "code",
   "execution_count": null,
   "metadata": {
    "scrolled": true
   },
   "outputs": [],
   "source": [
    "for i in range(0, nodecount):\n",
    "    execo.action.Get(hosts = nodes[i],\n",
    "                     remote_files=['~/experiments_src/bcast_results.txt'\n",
    "                     ],\n",
    "                     local_location = path_rslt\n",
    "                     + datetime.datetime.now().strftime('%Y-%m-%d')\n",
    "                     + '/' + get_host_shortname(nodes[i]) + '_'\n",
    "                     + datetime.datetime.now().strftime('%Y-%m-%d_%H:%M'\n",
    "                     ) + '.txt', connection_params={'user': 'root'\n",
    "                     }).run().ok"
   ]
  },
  {
   "cell_type": "markdown",
   "metadata": {},
   "source": [
    "#### Delayer"
   ]
  },
  {
   "cell_type": "code",
   "execution_count": 8,
   "metadata": {},
   "outputs": [],
   "source": [
    "def init_tab(num, elt) :\n",
    "    D = [elt] * num\n",
    "    return D"
   ]
  },
  {
   "cell_type": "code",
   "execution_count": 9,
   "metadata": {},
   "outputs": [],
   "source": [
    "# Parsing the results\n",
    "def parser(num_node,date_precise):\n",
    "    with open('/home/nezzine/Stage-POLARIS/SimGrid/examples/SMPI/Time_Bcast/results/'\n",
    "               + date_precise.split('_')[0] + '/'\n",
    "              + get_host_shortname(nodes[num_node]) + '_'\n",
    "              + date_precise\n",
    "              + '.txt') as f:\n",
    "        return f.readlines()"
   ]
  },
  {
   "cell_type": "code",
   "execution_count": 10,
   "metadata": {},
   "outputs": [],
   "source": [
    "# Converting and organizing data\n",
    "def tab_conv(l,NPROCS) :\n",
    "    S = init_tab(NPROCS, None)\n",
    "        \n",
    "    # Taking useful data    \n",
    "    for i in range(0,NPROCS) :\n",
    "        line = l[i].split()\n",
    "        S[int(line[1])] = int(float(line[5]))\n",
    "    return S"
   ]
  },
  {
   "cell_type": "code",
   "execution_count": 11,
   "metadata": {},
   "outputs": [],
   "source": [
    "def delayer(num_node,NPROCS,date):\n",
    "    D = init_tab(NPROCS,0)\n",
    "    \n",
    "    raw_data = parser(num_node,date)\n",
    "    \n",
    "    S = tab_conv(raw_data,NPROCS)\n",
    "    \n",
    "    for p in range(0, NPROCS):\n",
    "        D[p] = S[p] - min(S)\n",
    "    return D"
   ]
  },
  {
   "cell_type": "code",
   "execution_count": null,
   "metadata": {},
   "outputs": [],
   "source": [
    "# Example\n",
    "delayer(0,10,'2018-06-04_12:38')"
   ]
  },
  {
   "cell_type": "markdown",
   "metadata": {},
   "source": [
    "##### Shortcut : séquentiel"
   ]
  },
  {
   "cell_type": "code",
   "execution_count": 12,
   "metadata": {},
   "outputs": [],
   "source": [
    "def setup() :\n",
    "    Src_dir = execo.action.Remote(cmd='mkdir -p experiments_src',\n",
    "                              hosts=nodes,\n",
    "                              connection_params={'user': 'root'})\n",
    "    Src_get = execo.action.Put(hosts=nodes, local_files=[path_src\n",
    "                                   + 'griffon.xml', path_src\n",
    "                                   + 'griffon_hostfile.txt', path_src\n",
    "                                   + 'broadcast.c', path_src + 'Makefile'],\n",
    "                                   remote_location='~/experiments_src',\n",
    "                                   connection_params={'user': 'root'})\n",
    "    Rslt_dir = \\\n",
    "        execo.Process(cmd='mkdir -p /home/nezzine/Stage-POLARIS/SimGrid/examples/SMPI/'\n",
    "                   + experiment_name + '/results/'\n",
    "                  + datetime.datetime.now().strftime('%Y-%m-%d'))\n",
    "\n",
    "# On récup les src\n",
    "    Src_dir.run().ok\n",
    "    Src_get.run().ok\n",
    "    Rslt_dir.run().ok\n"
   ]
  },
  {
   "cell_type": "code",
   "execution_count": null,
   "metadata": {},
   "outputs": [],
   "source": [
    "\n",
    "def parl_exec () :\n",
    "    setup()\n",
    "    # Nbr pcs\n",
    "    NPROCS = 10\n",
    "    \n",
    "    # Nbr itérations\n",
    "    N = 100\n",
    "    \n",
    "    D = init_tab(NPROCS,0)\n",
    "    delay = ' '.join(str(e) for e in D)\n",
    "    date = datetime.datetime.now().strftime('%Y-%m-%d');\n",
    "    date_precise = datetime.datetime.now().strftime('%Y-%m-%d_%H:%M')\n",
    "    print(date_precise)\n",
    "    \n",
    "    # TODO //\n",
    "    for i in range (0,nodecount) :\n",
    "        MIN = (int)((i*N)/len(nodes))\n",
    "        MAX = (int)(((i+1)*N)/len(nodes))\n",
    "        print(get_host_shortname(nodes[i])+\" => \"+str(i)+\" NPROCS = \"+str(NPROCS)\n",
    "             +\" MIN = \"+str(MIN)\n",
    "             +\" MAX = \"+str(MAX)\n",
    "             +\" N = \"+str(N)\n",
    "             +\" DELAY = '\"+ delay +\"'\"\n",
    "            )\n",
    "        bool = execo.action.Remote(cmd ='cd ~/experiments_src && make && make run NPROCS='\n",
    "                                  +str(NPROCS)+' MIN='+str(MIN) \n",
    "                                  +' MAX='+str(MAX)+' N='+str(N)\n",
    "                                  +\" DELAY='\"+delay\n",
    "                                  +\"'\",hosts=nodes[i],connection_params={'user':'root'}).run().ok\n",
    "        print(bool)\n",
    "        execo.action.Get(hosts=nodes[i],\n",
    "                     remote_files=['~/experiments_src/bcast_results.txt'\n",
    "                     ],\n",
    "                     local_location= path_rslt\n",
    "                     + date\n",
    "                     + '/' + get_host_shortname(nodes[i]) + '_'\n",
    "                     + date_precise + '.txt', connection_params={'user': 'root'\n",
    "                     }).run().ok\n",
    "        print(delayer(i,NPROCS,date_precise))\n",
    "    return;\n",
    "\n",
    "parl_exec()\n",
    "\n",
    "for i in range(0, nodecount):\n",
    "    execo.action.Get(hosts=nodes[i],\n",
    "                     remote_files=['~/experiments_src/bcast_results.txt'\n",
    "                     ],\n",
    "                     local_location=path_rslt\n",
    "                     + datetime.datetime.now().strftime('%Y-%m-%d')\n",
    "                     + '/' + get_host_shortname(nodes[i]) + '_'\n",
    "                     + datetime.datetime.now().strftime('%Y-%m-%d_%H:%M'\n",
    "                     ) + '.txt', connection_params={'user': 'root'\n",
    "                     }).run().ok"
   ]
  },
  {
   "cell_type": "markdown",
   "metadata": {},
   "source": [
    "#### Parallel simulation"
   ]
  },
  {
   "cell_type": "code",
   "execution_count": 13,
   "metadata": {},
   "outputs": [],
   "source": [
    "# Thread pour la simulation // opt.\n",
    "class ParSimer(Thread):\n",
    "\n",
    "    \"\"\"Thread chargé simplement d'afficher une lettre dans la console.\"\"\"\n",
    "    \n",
    "    # Paramètrage du thread\n",
    "    def __init__(self,i,MIN,MAX,N,DELAY):\n",
    "        Thread.__init__(self)\n",
    "        self.MIN = MIN\n",
    "        self.MAX = MAX\n",
    "        self.N = N\n",
    "        self.DELAY = DELAY\n",
    "        self.i = i\n",
    "    \n",
    "    # Set la valeur du délai\n",
    "    def set_delay(self,delay):\n",
    "        self.DELAY = delay\n",
    "    \n",
    "    def get_delay(self):\n",
    "        return self.DELAY\n",
    "    \n",
    "    def run(self):\n",
    "        \"\"\"Code à exécuter pendant l'exécution du thread.\"\"\"\n",
    "        print(get_host_shortname(nodes[self.i])+\" => \"+str(self.i)+\" NPROCS = \"+str(NPROCS)\n",
    "             +\" MIN = \"+str(self.MIN)\n",
    "             +\" MAX = \"+str(self.MAX)\n",
    "             +\" N = \"+str(self.N)\n",
    "             +\" DELAY = '\"+ self.DELAY +\"'\\n\"\n",
    "            )\n",
    "        \n",
    "        # make run sur toutes la machine dont le thread s'occupe avec ses paramètres\n",
    "        execo.action.Remote(cmd ='cd ~/experiments_src && make && make run NPROCS='\n",
    "                                  +str(NPROCS)+' MIN='+str(self.MIN) \n",
    "                                  +' MAX='+str(self.MAX)+' N='+str(self.N)\n",
    "                                  +\" DELAY='\"+self.DELAY\n",
    "                                  +\"'\",hosts=nodes[self.i],connection_params={'user':'root'}).run().ok\n"
   ]
  },
  {
   "cell_type": "code",
   "execution_count": 14,
   "metadata": {},
   "outputs": [],
   "source": [
    "# Test : trajectoire jusqu'à la ième machine raccrochée à la trajectoire initiale\n",
    "def coherence(tab,i):\n",
    "     return all(x == True for x in tab[0:i])"
   ]
  },
  {
   "cell_type": "code",
   "execution_count": 15,
   "metadata": {},
   "outputs": [],
   "source": [
    "# Formate le tableau en string pour pouvoir etre passé en ligne de commande\n",
    "def format_cmd(data):\n",
    "    return (' '.join(str(e) for e in data))"
   ]
  },
  {
   "cell_type": "code",
   "execution_count": 62,
   "metadata": {},
   "outputs": [],
   "source": [
    "# SIMULATION\n",
    "## Simulation simple en diminuant le nbr de machines \n",
    "def simulation(N,NPROCS,mode):\n",
    "    setup() \n",
    "    \n",
    "    # Décalage initial nul  \n",
    "    D = [[init_tab(NPROCS,0) for x in range(nodecount)] for y in range(nodecount)] \n",
    "    \n",
    "    # Dates\n",
    "    date_precise = datetime.datetime.now().strftime('%Y-%m-%d_%H:%M')\n",
    "    date = date_precise.split('_')[0]\n",
    "    \n",
    "    # Tableau de threads\n",
    "    machines = init_tab(nodecount,None)\n",
    "    \n",
    "    # Initialisation du tableau des tests interprocessus (état final i = état initial i+1)\n",
    "    join = init_tab(nodecount-1,None)\n",
    "    test_join =  init_tab(nodecount-1,None)\n",
    "    path = [0]\n",
    "    for j in range(0,nodecount) :\n",
    "        print(\"ROUND \"+str(j) +\"   ---------------------------------------------------------\\n\")\n",
    "        \n",
    "        # Paramètrage des machines\n",
    "        for i in range (0,nodecount) : \n",
    "            \n",
    "            # Calcul min et max des itérations pour chaque machine\n",
    "            MIN = (int)((i*N)/nodecount)\n",
    "            MAX = (int)(((i+1)*N)/nodecount)\n",
    "            \n",
    "            # Calcul des délais après le premier tour\n",
    "            if (i != 0 and j!=0 ):\n",
    "                \n",
    "                # Mise à jour de la matrice des délais\n",
    "                # D[j][i] = délai sur lequel la machine d'avant a terminé sa trajectoire = delayer (i-1,...)\n",
    "                D[j][i] = delayer(i-1,NPROCS,date_precise)\n",
    "                \n",
    "                \n",
    "                # D sur lequel la machine d'avant i-1 a terminé sa trajectoire\n",
    "                delay = format_cmd(D[j][i])  \n",
    "                \n",
    "                # D avec lequel la machine i a calculé sa trajectoire en j-1\n",
    "                previous_D = format_cmd(D[j-1][i])\n",
    "                #print(\"Dprime =  : \"+ delay+ \"         D : \"+str(previous_D)+\"\\n\")\n",
    "                \n",
    "                # Vérification Dprime et D se rejoignent-ils?\n",
    "                # Join[i] = True si la machine i et i+1 se rejoignent\n",
    "                join[i-1] = all(x1 == x2 for x1, x2 in zip(delay, previous_D ))\n",
    "                \n",
    "                column = (list(zip(*D))[i])\n",
    "                test_join[i-1] = any(all(x1 == x2 for x1, x2 in zip(delay,format_cmd(column[k]))) for k in range(j))\n",
    "      \n",
    "                \n",
    "\n",
    "                \n",
    "                for z in range(len(path),nodecount):\n",
    "                    for w in range(1,j):\n",
    "                        if(all(x1 == x2 for x1, x2 in zip(format_cmd(D[path[len(path)-1]+1][z]),format_cmd(column[w])))):\n",
    "                            path.append(w)\n",
    "                       # print(\"heeeey\"+str(path[len(path)-1]))\n",
    "                            #print(\"Round : \"+ str(w)+\" Equal:\" +format_cmd(D[w][z]) +\" and \"+format_cmd(column[z]))\n",
    "                        \n",
    "                \n",
    "                \"\"\"  \n",
    "                s = [[str(e) for e in row] for row in D]\n",
    "                lens = [max(map(len, col)) for col in zip(*s)]\n",
    "                fmt = '\\t'.join('{{:{}}}'.format(x) for x in lens)\n",
    "                table = [fmt.format(*row) for row in s]\n",
    "                print ('\\n'.join(table))    \"\"\"\n",
    "\n",
    "                    \n",
    "            # Nouveau délai = D sur lequel la machine d'avant i-1 a terminé sa trajectoire\n",
    "            # Or D[j][i] = delayer(i-1)\n",
    "            delay = format_cmd(D[j][i])\n",
    "            \n",
    "            # Création des threads\n",
    "            machines[i] = ParSimer(i,MIN,MAX,N,delay)\n",
    "            \n",
    "            # Quand le tableau est entièrement calculé (i = nodecount - 1)\n",
    "            # Affichage : les trajectoires se rejoignent-elles?  \n",
    "            if(i == nodecount-1):\n",
    "                #print(\"JOIN : \" + str(join)+\"\\n\")\n",
    "                print(\"path : \"+str(path))\n",
    "                print(\"test JOIN : \" + str(test_join)+\"\\n\")\n",
    "            # Test cohérence de trajectoire : SIMULTATION TERMINEE     \n",
    "            if(coherence(join,len(join))):\n",
    "                print(\"Complete path computed : END OF SIMULATION\\n\" + \"Rounds taken : \" + str (j))\n",
    "                return;\n",
    "                          \n",
    "        # Lancement de la simulation\n",
    "        for i in range(j,nodecount):\n",
    "            machines[i].start()\n",
    "            \n",
    "        # Fin de simulation\n",
    "        for i in range(j,nodecount) :\n",
    "            machines[i].join()\n",
    "            # Récupération des résultats\n",
    "            execo.action.Get(hosts=nodes[i],\n",
    "                     remote_files=['~/experiments_src/bcast_results.txt'\n",
    "                     ],\n",
    "                     local_location= path_rslt\n",
    "                     + date\n",
    "                     + '/' + get_host_shortname(nodes[i]) + '_'\n",
    "                     + date_precise + '.txt', connection_params={'user': 'root'\n",
    "                     }).run().ok  \n"
   ]
  },
  {
   "cell_type": "code",
   "execution_count": 63,
   "metadata": {},
   "outputs": [
    {
     "name": "stdout",
     "output_type": "stream",
     "text": [
      "ROUND 0   ---------------------------------------------------------\n",
      "\n",
      "test JOIN : [None, None, None]\n",
      "\n",
      "parasilo-23 => 0 NPROCS = 3 MIN = 0 MAX = 250 N = 1000 DELAY = '0 0 0'\n",
      "\n",
      "parasilo-24 => 1 NPROCS = 3 MIN = 250 MAX = 500 N = 1000 DELAY = '0 0 0'\n",
      "\n",
      "parasilo-25 => 2 NPROCS = 3 MIN = 500 MAX = 750 N = 1000 DELAY = '0 0 0'\n",
      "\n",
      "parasilo-26 => 3 NPROCS = 3 MIN = 750 MAX = 1000 N = 1000 DELAY = '0 0 0'\n",
      "\n",
      "ROUND 1   ---------------------------------------------------------\n",
      "\n",
      "path : [0]\n",
      "path : [0]\n",
      "path : [0]\n",
      "test JOIN : [False, False, False]\n",
      "\n",
      "parasilo-24 => 1 NPROCS = 3 MIN = 250 MAX = 500 N = 1000 DELAY = '4 0 9'\n",
      "\n",
      "parasilo-25 => 2 NPROCS = 3 MIN = 500 MAX = 750 N = 1000 DELAY = '3 9 0'\n",
      "\n",
      "parasilo-26 => 3 NPROCS = 3 MIN = 750 MAX = 1000 N = 1000 DELAY = '3 3 0'\n",
      "\n",
      "ROUND 2   ---------------------------------------------------------\n",
      "\n",
      "path : [0, 1]\n",
      "path : [0, 1]\n",
      "path : [0, 1]\n",
      "test JOIN : [True, False, False]\n",
      "\n",
      "parasilo-25 => 2 NPROCS = 3 MIN = 500 MAX = 750 N = 1000 DELAY = '17 0 19'\n",
      "\n",
      "parasilo-26 => 3 NPROCS = 3 MIN = 750 MAX = 1000 N = 1000 DELAY = '15 20 0'\n",
      "\n",
      "ROUND 3   ---------------------------------------------------------\n",
      "\n",
      "path : [0, 1]\n",
      "path : [0, 1, 2]\n",
      "path : [0, 1, 2]\n",
      "test JOIN : [True, True, False]\n",
      "\n",
      "parasilo-26 => 3 NPROCS = 3 MIN = 750 MAX = 1000 N = 1000 DELAY = '9 0 25'\n",
      "\n"
     ]
    }
   ],
   "source": [
    "# Nbr pcs\n",
    "NPROCS = 3\n",
    "    \n",
    "# Nbr itérations\n",
    "N = 1000\n",
    "\n",
    "# mode de génération de l'état initial à chaque round\n",
    "mode = [\"FIX\",\"RAND\",\"RAND_INF\",\"RAND_SUP\"]\n",
    "\n",
    "# Lancement de la simulation\n",
    "simulation(N,NPROCS,mode[1])"
   ]
  },
  {
   "cell_type": "markdown",
   "metadata": {},
   "source": [
    "#### Publication des résultats"
   ]
  },
  {
   "cell_type": "code",
   "execution_count": 46,
   "metadata": {},
   "outputs": [
    {
     "name": "stdout",
     "output_type": "stream",
     "text": [
      "[master c84d994] Automatic results update : Time_Bcast---rennes\n",
      " Committer: Najwa Ez Zine <nezzine@frennes>\n",
      "Your name and email address were configured automatically based\n",
      "on your username and hostname. Please check that they are accurate.\n",
      "You can suppress this message by setting them explicitly. Run the\n",
      "following command and follow the instructions in your editor to edit\n",
      "your configuration file:\n",
      "\n",
      "    git config --global --edit\n",
      "\n",
      "After doing this, you may fix the identity used for this commit with:\n",
      "\n",
      "    git commit --amend --reset-author\n",
      "\n",
      " 21 files changed, 601 insertions(+), 279 deletions(-)\n",
      " create mode 100644 SimGrid/examples/SMPI/Time_Bcast/results/2018-06-07/parasilo-21_2018-06-07_10:55.txt\n",
      " create mode 100644 SimGrid/examples/SMPI/Time_Bcast/results/2018-06-07/parasilo-21_2018-06-07_11:15.txt\n",
      " create mode 100644 SimGrid/examples/SMPI/Time_Bcast/results/2018-06-07/parasilo-21_2018-06-07_11:17.txt\n",
      " create mode 100644 SimGrid/examples/SMPI/Time_Bcast/results/2018-06-07/parasilo-21_2018-06-07_16:08.txt\n",
      " create mode 100644 SimGrid/examples/SMPI/Time_Bcast/results/2018-06-07/parasilo-21_2018-06-07_16:09.txt\n",
      " create mode 100644 SimGrid/examples/SMPI/Time_Bcast/results/2018-06-07/parasilo-22_2018-06-07_10:55.txt\n",
      " create mode 100644 SimGrid/examples/SMPI/Time_Bcast/results/2018-06-07/parasilo-22_2018-06-07_11:15.txt\n",
      " create mode 100644 SimGrid/examples/SMPI/Time_Bcast/results/2018-06-07/parasilo-22_2018-06-07_11:17.txt\n",
      " create mode 100644 SimGrid/examples/SMPI/Time_Bcast/results/2018-06-07/parasilo-22_2018-06-07_16:08.txt\n",
      " create mode 100644 SimGrid/examples/SMPI/Time_Bcast/results/2018-06-07/parasilo-22_2018-06-07_16:09.txt\n",
      " create mode 100644 SimGrid/examples/SMPI/Time_Bcast/results/2018-06-07/parasilo-23_2018-06-07_10:55.txt\n",
      " create mode 100644 SimGrid/examples/SMPI/Time_Bcast/results/2018-06-07/parasilo-23_2018-06-07_11:15.txt\n",
      " create mode 100644 SimGrid/examples/SMPI/Time_Bcast/results/2018-06-07/parasilo-23_2018-06-07_11:17.txt\n",
      " create mode 100644 SimGrid/examples/SMPI/Time_Bcast/results/2018-06-07/parasilo-23_2018-06-07_16:08.txt\n",
      " create mode 100644 SimGrid/examples/SMPI/Time_Bcast/results/2018-06-07/parasilo-23_2018-06-07_16:09.txt\n",
      " create mode 100644 SimGrid/examples/SMPI/Time_Bcast/results/2018-06-07/parasilo-24_2018-06-07_10:55.txt\n",
      " create mode 100644 SimGrid/examples/SMPI/Time_Bcast/results/2018-06-07/parasilo-24_2018-06-07_11:15.txt\n",
      " create mode 100644 SimGrid/examples/SMPI/Time_Bcast/results/2018-06-07/parasilo-24_2018-06-07_11:17.txt\n",
      " create mode 100644 SimGrid/examples/SMPI/Time_Bcast/results/2018-06-07/parasilo-24_2018-06-07_16:08.txt\n",
      " create mode 100644 SimGrid/examples/SMPI/Time_Bcast/results/2018-06-07/parasilo-24_2018-06-07_16:09.txt\n"
     ]
    }
   ],
   "source": [
    "%%bash -s $experiment_name $site\n",
    "git add .\n",
    "git commit -m 'Automatic results update : '\"$1\"'---'\"$2\""
   ]
  },
  {
   "cell_type": "markdown",
   "metadata": {},
   "source": [
    "#### Fin d'expérience : suppression du job"
   ]
  },
  {
   "cell_type": "code",
   "execution_count": null,
   "metadata": {},
   "outputs": [],
   "source": [
    "oardel(jobid)"
   ]
  }
 ],
 "metadata": {
  "kernelspec": {
   "display_name": "Python 3",
   "language": "python",
   "name": "python3"
  },
  "language_info": {
   "codemirror_mode": {
    "name": "ipython",
    "version": 3
   },
   "file_extension": ".py",
   "mimetype": "text/x-python",
   "name": "python",
   "nbconvert_exporter": "python",
   "pygments_lexer": "ipython3",
   "version": "3.5.3"
  }
 },
 "nbformat": 4,
 "nbformat_minor": 2
}
