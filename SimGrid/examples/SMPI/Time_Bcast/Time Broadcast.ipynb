{
 "cells": [
  {
   "cell_type": "markdown",
   "metadata": {},
   "source": [
    "# Broadcast"
   ]
  },
  {
   "cell_type": "markdown",
   "metadata": {},
   "source": [
    "## But : Faire un broadcast, départ décalé \n"
   ]
  },
  {
   "cell_type": "markdown",
   "metadata": {},
   "source": [
    "### Informations générales"
   ]
  },
  {
   "cell_type": "markdown",
   "metadata": {},
   "source": [
    "#### Le nom de l'expérience : Nom du folder contenant les fichiers sources et résultats"
   ]
  },
  {
   "cell_type": "code",
   "execution_count": 3,
   "metadata": {},
   "outputs": [],
   "source": [
    "experiment_name = \"Time_Bcast\"\n",
    "crashed = True"
   ]
  },
  {
   "cell_type": "markdown",
   "metadata": {},
   "source": [
    "#### Versions"
   ]
  },
  {
   "cell_type": "code",
   "execution_count": 4,
   "metadata": {},
   "outputs": [
    {
     "name": "stdout",
     "output_type": "stream",
     "text": [
      "commit df75f77c8f43a9b01c77e9fce7aa5ab062a9dc70\n",
      "Author: Najwa Ez Zine <nezzine@fnancy>\n",
      "Date:   Thu Jul 5 10:54:02 2018 +0200\n",
      "\n",
      "    Notebook update\n",
      "Python 3.5.3\n",
      "R version 3.3.3 (2017-03-06) -- \"Another Canoe\"\n",
      "Copyright (C) 2017 The R Foundation for Statistical Computing\n",
      "Platform: x86_64-pc-linux-gnu (64-bit)\n",
      "\n",
      "R is free software and comes with ABSOLUTELY NO WARRANTY.\n",
      "You are welcome to redistribute it under the terms of the\n",
      "GNU General Public License versions 2 or 3.\n",
      "For more information about these matters see\n",
      "http://www.gnu.org/licenses/.\n",
      "\n"
     ]
    }
   ],
   "source": [
    "%%bash -s\n",
    "git log -n 1\n",
    "python3 --version\n",
    "R --version"
   ]
  },
  {
   "cell_type": "markdown",
   "metadata": {},
   "source": [
    "### Préparation de l'environnement (FRONTEND)"
   ]
  },
  {
   "cell_type": "markdown",
   "metadata": {},
   "source": [
    "#### Installation des modules"
   ]
  },
  {
   "cell_type": "code",
   "execution_count": 5,
   "metadata": {},
   "outputs": [
    {
     "name": "stdout",
     "output_type": "stream",
     "text": [
      "Collecting execo\n",
      "Installing collected packages: execo\n",
      "Successfully installed execo-2.6.3\n",
      "Collecting requests\n",
      "  Using cached https://files.pythonhosted.org/packages/65/47/7e02164a2a3db50ed6d8a6ab1d6d60b69c4c3fdf57a284257925dfc12bda/requests-2.19.1-py2.py3-none-any.whl\n",
      "Collecting chardet<3.1.0,>=3.0.2 (from requests)\n",
      "  Using cached https://files.pythonhosted.org/packages/bc/a9/01ffebfb562e4274b6487b4bb1ddec7ca55ec7510b22e4c51f14098443b8/chardet-3.0.4-py2.py3-none-any.whl\n",
      "Collecting idna<2.8,>=2.5 (from requests)\n",
      "  Using cached https://files.pythonhosted.org/packages/4b/2a/0276479a4b3caeb8a8c1af2f8e4355746a97fab05a372e4a2c6a6b876165/idna-2.7-py2.py3-none-any.whl\n",
      "Collecting certifi>=2017.4.17 (from requests)\n",
      "  Using cached https://files.pythonhosted.org/packages/7c/e6/92ad559b7192d846975fc916b65f667c7b8c3a32bea7372340bfe9a15fa5/certifi-2018.4.16-py2.py3-none-any.whl\n",
      "Collecting urllib3<1.24,>=1.21.1 (from requests)\n",
      "  Using cached https://files.pythonhosted.org/packages/bd/c9/6fdd990019071a4a32a5e7cb78a1d92c53851ef4f56f62a3486e6a7d8ffb/urllib3-1.23-py2.py3-none-any.whl\n",
      "Installing collected packages: chardet, idna, certifi, urllib3, requests\n",
      "Successfully installed certifi-2018.4.16 chardet-3.0.4 idna-2.7 requests-2.19.1 urllib3-1.23\n",
      "Collecting termcolor\n",
      "Installing collected packages: termcolor\n",
      "Successfully installed termcolor-1.1.0\n",
      "Collecting rpy2\n",
      "Collecting jinja2 (from rpy2)\n",
      "  Using cached https://files.pythonhosted.org/packages/7f/ff/ae64bacdfc95f27a016a7bed8e8686763ba4d277a78ca76f32659220a731/Jinja2-2.10-py2.py3-none-any.whl\n",
      "Collecting six (from rpy2)\n",
      "  Using cached https://files.pythonhosted.org/packages/67/4b/141a581104b1f6397bfa78ac9d43d8ad29a7ca43ea90a2d863fe3056e86a/six-1.11.0-py2.py3-none-any.whl\n",
      "Collecting MarkupSafe>=0.23 (from jinja2->rpy2)\n",
      "Installing collected packages: MarkupSafe, jinja2, six, rpy2\n",
      "Successfully installed MarkupSafe-1.0 jinja2-2.10 rpy2-2.9.4 six-1.11.0\n",
      "Collecting tzlocal\n",
      "Collecting pytz (from tzlocal)\n",
      "  Using cached https://files.pythonhosted.org/packages/30/4e/27c34b62430286c6d59177a0842ed90dc789ce5d1ed740887653b898779a/pytz-2018.5-py2.py3-none-any.whl\n",
      "Installing collected packages: pytz, tzlocal\n",
      "Successfully installed pytz-2018.5 tzlocal-1.5.1\n"
     ]
    }
   ],
   "source": [
    "%%bash -s\n",
    "pip3 install --user execo\n",
    "pip3 install --user requests\n",
    "\n",
    "# Permet affichage pllus lisible avec couleurs\n",
    "pip3 install --user termcolor\n",
    "\n",
    "# Permettent d'utiliser R :\n",
    "pip3 install --user rpy2\n",
    "pip3 install --user tzlocal"
   ]
  },
  {
   "cell_type": "markdown",
   "metadata": {},
   "source": [
    "#### Chargement des modules dans l'environnement"
   ]
  },
  {
   "cell_type": "code",
   "execution_count": 6,
   "metadata": {},
   "outputs": [],
   "source": [
    "import execo\n",
    "import math\n",
    "import collections\n",
    "import os\n",
    "import sys\n",
    "import json\n",
    "import time\n",
    "import random\n",
    "import datetime\n",
    "import re\n",
    "import tzlocal\n",
    "\n",
    "from execo import *\n",
    "from execo_g5k import *\n",
    "from execo_engine import *\n",
    "\n",
    "from shutil import copy\n",
    "from subprocess import check_output\n",
    "\n",
    "from threading import Thread\n",
    "\n",
    "from collections import deque, OrderedDict\n",
    "from termcolor import *\n",
    "from subprocess import *"
   ]
  },
  {
   "cell_type": "markdown",
   "metadata": {},
   "source": [
    "#### Chargement de l'outil permettant l'utilisation de R"
   ]
  },
  {
   "cell_type": "code",
   "execution_count": 7,
   "metadata": {},
   "outputs": [],
   "source": [
    "%load_ext rpy2.ipython"
   ]
  },
  {
   "cell_type": "code",
   "execution_count": 6,
   "metadata": {},
   "outputs": [
    {
     "data": {
      "text/plain": [
       "NULL\n"
      ]
     },
     "metadata": {},
     "output_type": "display_data"
    }
   ],
   "source": [
    "%%R\n",
    "#install.packages('ggplot2')\n",
    "#install.packages('dplyr')\n",
    "#install.packages('tidyr')"
   ]
  },
  {
   "cell_type": "code",
   "execution_count": 8,
   "metadata": {
    "scrolled": true
   },
   "outputs": [
    {
     "data": {
      "text/plain": [
       "[1] ‘2.2.1’\n"
      ]
     },
     "metadata": {},
     "output_type": "display_data"
    }
   ],
   "source": [
    "%%R\n",
    "packageVersion('ggplot2')"
   ]
  },
  {
   "cell_type": "code",
   "execution_count": 9,
   "metadata": {},
   "outputs": [
    {
     "data": {
      "text/plain": [
       "[1] ‘0.7.6’\n"
      ]
     },
     "metadata": {},
     "output_type": "display_data"
    }
   ],
   "source": [
    "%%R\n",
    "packageVersion('dplyr')"
   ]
  },
  {
   "cell_type": "code",
   "execution_count": 10,
   "metadata": {},
   "outputs": [
    {
     "data": {
      "text/plain": [
       "[1] ‘0.8.1’\n"
      ]
     },
     "metadata": {},
     "output_type": "display_data"
    }
   ],
   "source": [
    "%%R\n",
    "packageVersion('tidyr')"
   ]
  },
  {
   "cell_type": "markdown",
   "metadata": {},
   "source": [
    "### Tools"
   ]
  },
  {
   "cell_type": "markdown",
   "metadata": {},
   "source": [
    "#### Affichage coloré"
   ]
  },
  {
   "cell_type": "code",
   "execution_count": 11,
   "metadata": {},
   "outputs": [
    {
     "name": "stdout",
     "output_type": "stream",
     "text": [
      "\u001b[5m\u001b[31mHello, World!\u001b[0m\n",
      "\u001b[2m\u001b[31mHello, World!\u001b[0m\n",
      "\u001b[4m\u001b[31mHello, World!\u001b[0m\n",
      "\u001b[1m\u001b[31mHello, World!\u001b[0m\n",
      "\u001b[8m\u001b[31mHello, World!\u001b[0m\n",
      "\u001b[7m\u001b[41m\u001b[32mHello, World!\u001b[0m\n"
     ]
    }
   ],
   "source": [
    "# Termcolor\n",
    "# OPTIONS  : bold, dark, underline, blink, reverse, concealed\n",
    "\n",
    "text = colored('Hello, World!', 'red', attrs = ['blink'])\n",
    "print(text)\n",
    "\n",
    "text = colored('Hello, World!', 'red', attrs = ['dark'])\n",
    "print(text)\n",
    "\n",
    "text = colored('Hello, World!', 'red', attrs = ['underline'])\n",
    "print(text)\n",
    "\n",
    "text = colored('Hello, World!', 'red', attrs = ['bold'])\n",
    "print(text)\n",
    "\n",
    "text = colored('Hello, World!', 'red', attrs = ['concealed'])\n",
    "print(text)\n",
    "\n",
    "cprint('Hello, World!', 'green', 'on_red',attrs = ['reverse'])"
   ]
  },
  {
   "cell_type": "markdown",
   "metadata": {},
   "source": [
    "#### Affichage lisible d'un dictionnaire complexe"
   ]
  },
  {
   "cell_type": "code",
   "execution_count": 12,
   "metadata": {},
   "outputs": [],
   "source": [
    "# Display more readable dict\n",
    "# SOURCE : https://stackoverflow.com/questions/3229419/how-to-pretty-print-nested-dictionaries\n",
    "def pretty(d, indent=0):\n",
    "    for key, value in d.items():\n",
    "        print('\\t' * indent + colored (str(key), \"magenta\"))\n",
    "        if isinstance(value, type({})):\n",
    "            pretty(value, indent+1)\n",
    "        else:\n",
    "            print('\\t' * (indent+1) + str(value))"
   ]
  },
  {
   "cell_type": "markdown",
   "metadata": {},
   "source": [
    "### Préparation de l'environnement pour l'expérience"
   ]
  },
  {
   "cell_type": "markdown",
   "metadata": {},
   "source": [
    "#### Paramètres réservation"
   ]
  },
  {
   "cell_type": "code",
   "execution_count": 13,
   "metadata": {},
   "outputs": [],
   "source": [
    "# Nom du job\n",
    "jobname = ' '\n",
    "# Nombre de noeuds\n",
    "nodecount = 5\n",
    "# Temps réservation\n",
    "walltime = \"3:0:0\" \n",
    "\n",
    "# filters out Nantes's econome cluster\n",
    "resources_selection = \"-p \\\"cluster in ('ecotype','parasilo','grisou','uvb','paravance','genepi')\\\"\" \n",
    "\n",
    "# Nancy\n",
    "site = \"nancy\"\n",
    "\n",
    "#Type de deploiement \n",
    "FILE_DEPLOY = True"
   ]
  },
  {
   "cell_type": "markdown",
   "metadata": {},
   "source": [
    "#### Réservation"
   ]
  },
  {
   "cell_type": "code",
   "execution_count": 14,
   "metadata": {},
   "outputs": [
    {
     "name": "stdout",
     "output_type": "stream",
     "text": [
      "A   job is already running, using it. jobid is 1606452\n"
     ]
    }
   ],
   "source": [
    "jobs = get_current_oar_jobs()\n",
    "jobid = None\n",
    "waiting_jobs = []\n",
    "while jobs:\n",
    "    j, site = jobs.pop()\n",
    "    info = get_oar_job_info(j, site)\n",
    "    if info['name'] == jobname:\n",
    "        if info['state'] == 'Running':\n",
    "            jobid = j\n",
    "            print(\"A {} job is already running, using it. jobid is {}\".format(jobname, jobid))\n",
    "            break\n",
    "        else:\n",
    "            waiting_jobs.append(j)\n",
    "if not jobid and not waiting_jobs:\n",
    "    jobspec = OarSubmission(resources=\"/cluster=1/nodes={}\".format(nodecount), walltime = walltime,\n",
    "                            additional_options = resources_selection, job_type = \"deploy\", name = jobname)\n",
    "    jobid, _ = oarsub([(jobspec, site)]).pop()\n",
    "    print(\"New job submitted, jobid is {}\".format(jobid))\n",
    "elif not jobid:\n",
    "    print(\"One or more {} jobs exist ({}) but are not running.\\n\"\n",
    "          \" Connect to the frontend to see what is happening, and/or run the cell again.\".format(\n",
    "          jobname, \", \".join([str(j) for j in waiting_jobs])))"
   ]
  },
  {
   "cell_type": "markdown",
   "metadata": {},
   "source": [
    "#### Récupération des infos sur les noeuds obtenus"
   ]
  },
  {
   "cell_type": "markdown",
   "metadata": {},
   "source": [
    "###### Note : Si cette cellule met du temps à répondre, vérifier l'état de la réservation sur la frontale **oartstat -u username** ou via https://www.grid5000.fr/mediawiki/index.php/Status"
   ]
  },
  {
   "cell_type": "code",
   "execution_count": 15,
   "metadata": {},
   "outputs": [
    {
     "data": {
      "text/plain": [
       "[Host('grisou-44.nancy.grid5000.fr'),\n",
       " Host('grisou-45.nancy.grid5000.fr'),\n",
       " Host('grisou-46.nancy.grid5000.fr'),\n",
       " Host('grisou-47.nancy.grid5000.fr'),\n",
       " Host('grisou-7.nancy.grid5000.fr')]"
      ]
     },
     "execution_count": 15,
     "metadata": {},
     "output_type": "execute_result"
    }
   ],
   "source": [
    "nodes = get_oar_job_nodes(jobid)\n",
    "nodes.sort(key = lambda n: n.address)\n",
    "nodes"
   ]
  },
  {
   "cell_type": "markdown",
   "metadata": {},
   "source": [
    "##### Déploiement de l'environnement : 2 options"
   ]
  },
  {
   "cell_type": "markdown",
   "metadata": {},
   "source": [
    "###### Via fichier "
   ]
  },
  {
   "cell_type": "code",
   "execution_count": 16,
   "metadata": {},
   "outputs": [],
   "source": [
    "force_redeploy = False # set to True to force redeploying the OS on the nodes in the deployment section\n",
    "environment_dsc_file = 'src/debian9-x64-bigdata-tutorial.yaml' # filename of the kadeploy environment file (YAML)"
   ]
  },
  {
   "cell_type": "code",
   "execution_count": 16,
   "metadata": {
    "scrolled": true
   },
   "outputs": [
    {
     "name": "stdout",
     "output_type": "stream",
     "text": [
      "nancy: Deployment #D-2c4c65dc-ad77-4b39-85f6-5798ee140a85 started\n",
      "nancy: Grab the key file /home/nezzine/.ssh/authorized_keys\n",
      "nancy: Grab the tarball file http://public.nancy.grid5000.fr/~pneyron/debian9-x64-bigdata-tutorial.tar.gz\n",
      "nancy: Grab the postinstall file server:///grid5000/postinstalls/g5k-postinstall.tgz\n",
      "nancy: Launching a deployment on grisou-[7,44-47].nancy.grid5000.fr\n",
      "nancy: Performing a Deploy[SetDeploymentEnvUntrusted] step\n",
      "nancy:   switch_pxe\n",
      "nancy:   reboot\n",
      "nancy:    * Performing a soft reboot on grisou-[7,44-47].nancy.grid5000.fr\n",
      "nancy:   wait_reboot\n",
      "nancy:   send_key_in_deploy_env\n",
      "nancy:   create_partition_table\n",
      "nancy:   format_deploy_part\n",
      "nancy:   mount_deploy_part\n",
      "nancy:   format_tmp_part\n",
      "nancy:   format_swap_part\n",
      "nancy: End of step Deploy[SetDeploymentEnvUntrusted] after 157s\n",
      "nancy: Performing a Deploy[BroadcastEnvKascade] step\n",
      "nancy:   send_environment\n",
      "nancy:    * Broadcast time: 71s\n",
      "nancy:   manage_admin_post_install\n",
      "nancy:   manage_user_post_install\n",
      "nancy:   check_kernel_files\n",
      "nancy:   send_key\n",
      "nancy:   install_bootloader\n",
      "nancy:   sync\n",
      "nancy: End of step Deploy[BroadcastEnvKascade] after 129s\n",
      "nancy: Performing a Deploy[BootNewEnvKexec] step\n",
      "nancy:   switch_pxe\n",
      "nancy:   umount_deploy_part\n",
      "nancy:   mount_deploy_part\n",
      "nancy:   kexec\n",
      "nancy:   wait_reboot\n",
      "nancy: End of step Deploy[BootNewEnvKexec] after 38s\n",
      "nancy: End of deployment for grisou-[7,44-47].nancy.grid5000.fr after 324s\n",
      "nancy: End of deployment on cluster grisou after 325s\n",
      "nancy: Deployment #D-2c4c65dc-ad77-4b39-85f6-5798ee140a85 done\n",
      "nancy: \n",
      "nancy: The deployment is successful on nodes\n",
      "nancy: grisou-7.nancy.grid5000.fr\n",
      "nancy: grisou-44.nancy.grid5000.fr\n",
      "nancy: grisou-45.nancy.grid5000.fr\n",
      "nancy: grisou-46.nancy.grid5000.fr\n",
      "nancy: grisou-47.nancy.grid5000.fr\n"
     ]
    },
    {
     "name": "stderr",
     "output_type": "stream",
     "text": [
      "nancy: Warning: Permanently added 'nancy.grid5000.fr,172.16.79.101' (ECDSA) to the list of known hosts.\r\n",
      "nancy: Connection to nancy.grid5000.fr closed.\r\n"
     ]
    }
   ],
   "source": [
    "if (FILE_DEPLOY):\n",
    "    deployment = Deployment(hosts = nodes, env_file = os.path.abspath(environment_dsc_file),\n",
    "                        other_options = \"-r ext4 --no-debug-mode\")\n",
    "\n",
    "    deploy_ok, deploy_failed = deploy(deployment, check_deployed_command = not force_redeploy,\n",
    "                              stdout_handlers = [sys.stdout],\n",
    "                              stderr_handlers = [sys.stderr])\n",
    "else :\n",
    "    deploy_ok, deploy_failed = deploy(Deployment(nodes, env_name = \"debian9-x64-base\",\n",
    "                              other_options = \"-r ext4 --no-debug-mode\"),\n",
    "                              stdout_handlers = [sys.stdout],\n",
    "                              stderr_handlers = [sys.stderr])"
   ]
  },
  {
   "cell_type": "code",
   "execution_count": 17,
   "metadata": {},
   "outputs": [
    {
     "name": "stdout",
     "output_type": "stream",
     "text": [
      "Deployement status:\n",
      "* ok: {'grisou-45.nancy.grid5000.fr', 'grisou-7.nancy.grid5000.fr', 'grisou-47.nancy.grid5000.fr', 'grisou-44.nancy.grid5000.fr', 'grisou-46.nancy.grid5000.fr'}\n",
      "* failed: set()\n"
     ]
    }
   ],
   "source": [
    "print(\"Deployement status:\\n* ok: {}\\n* failed: {}\".format(deploy_ok, deploy_failed))"
   ]
  },
  {
   "cell_type": "markdown",
   "metadata": {},
   "source": [
    "#### Test : commande simple 'ls'"
   ]
  },
  {
   "cell_type": "code",
   "execution_count": 18,
   "metadata": {},
   "outputs": [
    {
     "data": {
      "text/plain": [
       "True"
      ]
     },
     "execution_count": 18,
     "metadata": {},
     "output_type": "execute_result"
    }
   ],
   "source": [
    "Remote_test = execo.action.Remote(cmd = 'ls',hosts = nodes, connection_params = None, process_args = None)\n",
    "Remote_test.run().ok"
   ]
  },
  {
   "cell_type": "markdown",
   "metadata": {},
   "source": [
    "#### Installation environnement/tools sur noeuds"
   ]
  },
  {
   "cell_type": "code",
   "execution_count": 19,
   "metadata": {},
   "outputs": [],
   "source": [
    "if (not crashed):\n",
    "    Remote_install = execo.action.Remote(cmd = 'apt-get install g++ libboost-all-dev && wget http://gforge.inria.fr/frs/download.php/latestfile/8/SimGrid-3.18.tar.gz && tar -xvf SimGrid-3.18.tar.gz && cd SimGrid-3.18 && cmake -DCMAKE_INSTALL_PREFIX=/usr/local -Denable_smpi=on -Denable_documentation=off && make -j && make check && make install -j',\n",
    "                                     hosts = nodes,connection_params = {'user':'root'})\n",
    "    Remote_install.run().ok"
   ]
  },
  {
   "cell_type": "code",
   "execution_count": 20,
   "metadata": {},
   "outputs": [],
   "source": [
    "if (not crashed):\n",
    "    Pajeng_install = execo.action.Remote(cmd='git clone git://github.com/schnorr/pajeng.git ; mkdir -p pajeng/build ; cd pajeng/build ; cmake .. ; make ; make install',hosts=nodes,connection_params={'user':'root'}).run().ok\n",
    "    Pajeng_install"
   ]
  },
  {
   "cell_type": "markdown",
   "metadata": {},
   "source": [
    "#### Version Simgrid"
   ]
  },
  {
   "cell_type": "code",
   "execution_count": 21,
   "metadata": {},
   "outputs": [
    {
     "name": "stdout",
     "output_type": "stream",
     "text": [
      "\u001b[34mVERSION : smpicc\u001b[0m \n",
      "SimGrid version 3.18\n",
      "SimGrid version 3.18\n",
      "SimGrid version 3.18\n",
      "SimGrid version 3.18\n",
      "SimGrid version 3.18\n",
      "\n",
      "\n",
      "\u001b[34mVERSION : g++\u001b[0m \n",
      "g++ (Debian 6.3.0-18) 6.3.0 20170516\n",
      "Copyright (C) 2016 Free Software Foundation, Inc.\n",
      "This is free software; see the source for copying conditions.  There is NO\n",
      "warranty; not even for MERCHANTABILITY or FITNESS FOR A PARTICULAR PURPOSE.\n",
      "\n",
      "g++ (Debian 6.3.0-18) 6.3.0 20170516\n",
      "Copyright (C) 2016 Free Software Foundation, Inc.\n",
      "This is free software; see the source for copying conditions.  There is NO\n",
      "warranty; not even for MERCHANTABILITY or FITNESS FOR A PARTICULAR PURPOSE.\n",
      "\n",
      "g++ (Debian 6.3.0-18) 6.3.0 20170516\n",
      "Copyright (C) 2016 Free Software Foundation, Inc.\n",
      "This is free software; see the source for copying conditions.  There is NO\n",
      "warranty; not even for MERCHANTABILITY or FITNESS FOR A PARTICULAR PURPOSE.\n",
      "\n",
      "g++ (Debian 6.3.0-18) 6.3.0 20170516\n",
      "Copyright (C) 2016 Free Software Foundation, Inc.\n",
      "This is free software; see the source for copying conditions.  There is NO\n",
      "warranty; not even for MERCHANTABILITY or FITNESS FOR A PARTICULAR PURPOSE.\n",
      "\n",
      "g++ (Debian 6.3.0-18) 6.3.0 20170516\n",
      "Copyright (C) 2016 Free Software Foundation, Inc.\n",
      "This is free software; see the source for copying conditions.  There is NO\n",
      "warranty; not even for MERCHANTABILITY or FITNESS FOR A PARTICULAR PURPOSE.\n",
      "\n",
      "\n",
      "\n"
     ]
    }
   ],
   "source": [
    "def remote_version(software):\n",
    "    execo.action.Remote(cmd = 'touch version.txt &&' + str(software) + ' --version > version.txt'\n",
    "                    , hosts = nodes, connection_params = {'user': 'root'}).run()\n",
    "\n",
    "    version = ''\n",
    "\n",
    "    for i in range(0, nodecount):\n",
    "        execo.action.Get(hosts = nodes[i], remote_files = ['~/version.txt'],\n",
    "                         local_location = './version-'\n",
    "                                            + get_host_shortname(nodes[i]) + '.txt',\n",
    "                         connection_params = {'user': 'root'}).run()\n",
    "    \n",
    "        version = version + execo.Process(cmd = 'cat ./version-'\n",
    "                                                + get_host_shortname(nodes[i]) \n",
    "                                                + '.txt').run().stdout\n",
    "        execo.Process(cmd = 'rm ./version-'\n",
    "                            + get_host_shortname(nodes[i]) + '.txt').run()\n",
    "\n",
    "    print(colored('VERSION : ' + str(software),\"blue\"), '\\n' + version + '\\n')\n",
    "    return\n",
    "\n",
    "remote_version('smpicc')\n",
    "remote_version('g++')\n",
    "remote_version('pj_dump')"
   ]
  },
  {
   "cell_type": "markdown",
   "metadata": {},
   "source": [
    "#### Chemins (à configurer)"
   ]
  },
  {
   "cell_type": "code",
   "execution_count": 17,
   "metadata": {},
   "outputs": [],
   "source": [
    "path_base = \"/home/nezzine/Stage-POLARIS/SimGrid/examples/SMPI/\" + experiment_name\n",
    "path_src = path_base + '/src/'\n",
    "path_rslt = path_base + '/results/'"
   ]
  },
  {
   "cell_type": "markdown",
   "metadata": {},
   "source": [
    "#### Traitement des données pour les calculs de D et S"
   ]
  },
  {
   "cell_type": "code",
   "execution_count": 18,
   "metadata": {},
   "outputs": [],
   "source": [
    "# Intialise tableau\n",
    "def init_tab(num, elt) :\n",
    "    D = [elt] * num\n",
    "    return D\n",
    "\n",
    "# Parsing the results\n",
    "def parser(num_node,date_precise):\n",
    "    with open( '/home/nezzine/Stage-POLARIS/SimGrid/examples/SMPI/Time_Bcast/results/'\n",
    "               + date_precise.split('_')[0] + '/'\n",
    "               + get_host_shortname(nodes[num_node]) + '_'\n",
    "               + date_precise\n",
    "               + '.txt') as f:\n",
    "        return f.readlines()\n",
    "    \n",
    "# Converting and organizing data\n",
    "def tab_conv(l, NPROCS, precision) :\n",
    "    S = init_tab(NPROCS, None)\n",
    "        \n",
    "    # On récupère les données des fichiers\n",
    "    # Un fichier contient des lignes telles que : From 0 -> S[0] : 0.0819526    \n",
    "    for i in range(0, NPROCS) :\n",
    "        line = l[i].split()\n",
    "        S[int(line[1])] = round(float(line[5]), precision)\n",
    "    return S\n",
    "\n",
    "def delayer(num_node, NPROCS, date, precision):\n",
    "    D = init_tab(NPROCS, 0.0)\n",
    "    \n",
    "    raw_data = parser(num_node, date)\n",
    "    \n",
    "    S = tab_conv(raw_data, NPROCS, precision)\n",
    "    \n",
    "    for p in range(0, NPROCS):\n",
    "        D[p] = round(S[p] - min(S), precision)\n",
    "    return [D, min(S)]"
   ]
  },
  {
   "cell_type": "code",
   "execution_count": 24,
   "metadata": {},
   "outputs": [],
   "source": [
    "# Example\n",
    "# delayer(0,10,'2018-06-04_12:38',2)"
   ]
  },
  {
   "cell_type": "markdown",
   "metadata": {},
   "source": [
    "## SIMULATION"
   ]
  },
  {
   "cell_type": "markdown",
   "metadata": {},
   "source": [
    "#### Mise en place de l'environnement (fichiers src simulation...) sur noeuds"
   ]
  },
  {
   "cell_type": "code",
   "execution_count": 19,
   "metadata": {},
   "outputs": [],
   "source": [
    "def setup() :\n",
    "    Src_dir = execo.action.Remote(cmd = 'mkdir -p experiments_src',\n",
    "                              hosts = nodes,\n",
    "                              connection_params = {'user': 'root'})\n",
    "    Src_get = execo.action.Put(hosts = nodes, local_files = [path_src\n",
    "                                   + 'griffon.xml', path_src\n",
    "                                   + 'griffon_hostfile.txt', path_src\n",
    "                                   + 'broadcast.c', path_src \n",
    "                                   + 'Makefile'],\n",
    "                                   remote_location = '~/experiments_src',\n",
    "                                   connection_params = {'user': 'root'})\n",
    "    Rslt_dir = \\\n",
    "        execo.Process(cmd='mkdir -p '\n",
    "                  + path_rslt\n",
    "                  + datetime.datetime.now().strftime('%Y-%m-%d'))\n",
    "\n",
    "# On récup les src\n",
    "    Src_dir.run().ok\n",
    "    Src_get.run().ok\n",
    "    Rslt_dir.run().ok\n"
   ]
  },
  {
   "cell_type": "markdown",
   "metadata": {},
   "source": [
    "#### Défintion du thread pour parallélisation de la simulation"
   ]
  },
  {
   "cell_type": "code",
   "execution_count": 20,
   "metadata": {},
   "outputs": [],
   "source": [
    "# Thread pour la simulation // opt.\n",
    "class ParSimer(Thread):\n",
    "\n",
    "    \"\"\"Thread chargé simplement d'afficher une lettre dans la console.\"\"\"\n",
    "    \n",
    "    # Paramètrage du thread\n",
    "    def __init__(self,i,MIN,MAX,N,DELAY):\n",
    "        Thread.__init__(self)\n",
    "        self.MIN = MIN\n",
    "        self.MAX = MAX\n",
    "        self.N = N\n",
    "        self.DELAY = DELAY\n",
    "        self.i = i\n",
    "    \n",
    "    # Set la valeur du délai\n",
    "    def set_delay(self,delay):\n",
    "        self.DELAY = delay\n",
    "    \n",
    "    def get_delay(self):\n",
    "        return self.DELAY\n",
    "    \n",
    "    def get_MIN(self):\n",
    "        return self.MIN\n",
    "    \n",
    "    def run(self):\n",
    "        \"\"\"Code à exécuter pendant l'exécution du thread.\"\"\"\n",
    "        if (DEBUG): \n",
    "            print(\n",
    "                get_host_shortname(nodes[self.i]) + \" => \" + str(self.i) + \" NPROCS = \" + str(NPROCS)\n",
    "             + \" MIN = \" + str(self.MIN)\n",
    "             + \" MAX = \" + str(self.MAX)\n",
    "             + \" N = \" + str(self.N)\n",
    "             + \" DELAY = '\" + self.DELAY + \"'\\n\"\n",
    "            )\n",
    "       \n",
    "        # make run sur toutes la machine dont le thread s'occupe avec ses paramètres\n",
    "        execo.action.Remote(cmd ='cd ~/experiments_src && make && make run NPROCS='\n",
    "                                  + str(NPROCS) + ' MIN='+ str(self.MIN) \n",
    "                                  + ' MAX=' + str(self.MAX) + ' N=' + str(self.N)\n",
    "                                  + \" DELAY='\" + self.DELAY\n",
    "                                  + \"'\" , \n",
    "                            hosts = nodes[self.i], \n",
    "                            connection_params = {'user':'root'}).run().ok\n"
   ]
  },
  {
   "cell_type": "markdown",
   "metadata": {},
   "source": [
    "#### Conversion string < = > int pour manipulation de D & S"
   ]
  },
  {
   "cell_type": "code",
   "execution_count": 21,
   "metadata": {},
   "outputs": [],
   "source": [
    "# Formate le tableau en string pour pouvoir etre passé en ligne de commande\n",
    "def format_cmd(data):\n",
    "    return (' '.join(str(e) for e in data))\n",
    "\n",
    "# Formate le string en tableau d'int pour être manipulé \n",
    "def unformat_cmd(data):\n",
    "    return list(map(float,data.split()))"
   ]
  },
  {
   "cell_type": "markdown",
   "metadata": {},
   "source": [
    "#### Génération du nouvel état initial"
   ]
  },
  {
   "cell_type": "code",
   "execution_count": 22,
   "metadata": {},
   "outputs": [],
   "source": [
    "def generate_Dprime(NPROCS,border_inf,border_sup,precision):\n",
    "    # Variable pour le stockage du nouveau D\n",
    "    new_Dprime = []\n",
    "    \n",
    "    if (border_inf == 0):\n",
    "        for p in range(NPROCS):\n",
    "            new_value = random.uniform(border_inf, border_sup[p])\n",
    "            new_round_value = round(new_value, precision)\n",
    "            new_Dprime.append(new_round_value)\n",
    "    else : \n",
    "        for p in range(NPROCS):\n",
    "            new_Dprime.append(round(random.uniform(border_inf[p], border_sup[p]), precision))\n",
    "    return format_cmd(new_Dprime)"
   ]
  },
  {
   "cell_type": "markdown",
   "metadata": {},
   "source": [
    "#### Code de la simulation"
   ]
  },
  {
   "cell_type": "code",
   "execution_count": 28,
   "metadata": {},
   "outputs": [],
   "source": [
    "# SIMULATION\n",
    "DEBUG = True\n",
    "def simulation(N, NPROCS, fragment_size, precision, mode, catch_me):\n",
    "    \n",
    "    \"\"\"Contrôle de la validité des paramètres\"\"\"\n",
    "    # Taille du fragment ne peut être supérieure à la zone d'itération\n",
    "    if (fragment_size > N): \n",
    "        raise ValueError(\"Fragment size cannot be superior to N\")\n",
    "        \n",
    "    \"\"\"Mise en place de l'environnement et des variables\"\"\"\n",
    "    # Environnement\n",
    "    setup() \n",
    "    \n",
    "    # Dates: pour la gestion de fichiers (IMPORTANT pour lecture/écriture)\n",
    "    date_precise = datetime.datetime.now().strftime('%Y-%m-%d_%H:%M')\n",
    "    date = date_precise.split('_')[0]\n",
    "    \n",
    "    # Temps d'exécution total\n",
    "    total_execution_time = 0\n",
    "    \n",
    "    # Tableau de threads\n",
    "    machines = init_tab(nodecount, None)\n",
    "      \n",
    "    # position trajectoire cohérente courante\n",
    "    t_curr = 0\n",
    "    \n",
    "    # D de la trajectorie cohérente courante\n",
    "    D_curr = format_cmd(init_tab(NPROCS, 0.0))\n",
    "    \n",
    "    # Taille du dernier slot\n",
    "    last_fragment_size = N % fragment_size\n",
    "    \n",
    "    # Nombre de fragments\n",
    "    fragment_number = int((math.ceil(N / fragment_size)))\n",
    "    \n",
    "    # zone d'itérations à explorer\n",
    "    To_explore = collections.deque()\n",
    "    \n",
    "    # Initialisation des zones à explorer D = '0...0' pour chaque zone T -> (Min d'itération , D initial)\n",
    "    for i in range(fragment_number):\n",
    "        To_explore.append((i * fragment_size, format_cmd(init_tab(NPROCS, 0.0))))\n",
    "\n",
    "    # Round actuel\n",
    "    curr_round = 0\n",
    "    \n",
    "    # Liste des trajectoires pour un temps t et un D donnée\n",
    "    sim = OrderedDict()\n",
    "    \n",
    "    # Vrai si un état final a fusionné avec un état initial au moins une fois\n",
    "    success = False \n",
    "    \n",
    "    catch_me_ind = 0\n",
    "    \n",
    "    while(True):\n",
    "        curr_round = curr_round + 1\n",
    "        \n",
    "        # Trajectoire cohérente complète trouvé : FIN DE SIMULATION\n",
    "        if (t_curr >= N) :\n",
    "            cprint (\"Total time : \" + str(total_execution_time) , \"grey\" , \"on_yellow\")\n",
    "            cprint (\"Success : \" + str(success) , \"grey\" , \"on_green\")\n",
    "            break;        \n",
    "        if (len(To_explore) == 0):\n",
    "            raise \n",
    "        # Il n'existe pas encore de trajectoire cohérente -> Nouveau round\n",
    "        cprint(\"--------------------------------------------  ROUND :  \" + str(curr_round) + \"   --------------------------------------------\\n\",\"red\", attrs=['reverse', 'blink'])\n",
    "        \n",
    "        # Zones restantes à explorer\n",
    "        number_paths_To_explore = len(To_explore)\n",
    "        \n",
    "        # Nombre de tâches parallèles lançables\n",
    "        number_launchable_tasks = min(nodecount, number_paths_To_explore)\n",
    "        \n",
    "        # Affichage des paramètres\n",
    "        cprint (\"  || LAUNCHING || \\n\",\"green\", attrs=[ 'reverse', 'blink'])\n",
    "        if (DEBUG): \n",
    "            cprint ( \"TO EXPLORE : \" , \"blue\")\n",
    "            for key, value in (To_explore):\n",
    "                print( colored( str(key), \"green\") + ' -> ' + str(value))\n",
    "        \n",
    "        \"\"\" Paramètrage des machines \"\"\"\n",
    "        \n",
    "        # Soit j'ai plus de zone à explorer que de machines disponibles soit l'inverse\n",
    "        for q in range(number_launchable_tasks):\n",
    "            \n",
    "            # On récupère la première zone à explorer\n",
    "            parameters = To_explore.popleft()\n",
    "            \n",
    "            # MIN est le champ de gauche\n",
    "            MIN = parameters[0]\n",
    "            \n",
    "            # MAX de la zone à explorer vaut le min + la taille du slot\n",
    "            MAX = min (MIN + fragment_size, N)\n",
    "            \n",
    "            # D est le champ de droite\n",
    "            delay = parameters[1]\n",
    "            \n",
    "            # Paramètrage des machines\n",
    "            machines[q] = ParSimer(q, MIN, MAX, N, delay)\n",
    "            #print(\"Machine \" + str(q) + \" -> MIN :\" + str(MIN) + \" MAX : \" + str(MAX) + \" D : \"+ delay)   \n",
    "                \n",
    "        \"\"\" Simulation \"\"\"  \n",
    "        # Lancement de la simulation\n",
    "        for q in range(number_launchable_tasks):\n",
    "            machines[q].start()\n",
    "            \n",
    "        # Fin de simulation\n",
    "        for q in range(number_launchable_tasks) :\n",
    "            machines[q].join()\n",
    "            # Récupération des résultats\n",
    "            execo.action.Get(hosts=nodes[q],\n",
    "                     remote_files=['~/experiments_src/bcast_results.txt'\n",
    "                     ],\n",
    "                     local_location= path_rslt\n",
    "                     + date\n",
    "                     + '/' + get_host_shortname(nodes[q]) + '_'\n",
    "                     + date_precise + '.txt', connection_params={'user': 'root'\n",
    "                     }).run().ok\n",
    "\n",
    "            execo.action.Remote(cmd='pj_dump --ignore-incomplete-links ./experiments_src/Time_Bcast.trace > ./experiments_src/Time_Bcast.csv',hosts=nodes,connection_params={'user':'root'}).run()\n",
    "            name = path_rslt + date + '/' + get_host_shortname(nodes[q]) + '_'+ date_precise\n",
    "            \"\"\" \n",
    "            execo.action.Get(hosts=nodes[q],\n",
    "                     remote_files=['~/experiments_src/Time_Bcast.csv'\n",
    "                     ],\n",
    "                     local_location= path_rslt\n",
    "                     + date\n",
    "                     + '/' + get_host_shortname(nodes[q]) + '_'\n",
    "                     + date_precise + '.csv', connection_params={'user': 'root'\n",
    "                     }).run().ok\"\"\"\n",
    "            \n",
    "            \n",
    "\n",
    "            execo.action.Remote(cmd='grep State'+ str(name)+'.csv > ./Time_Bcast.state.csv',hosts=nodes,connection_params={'user': 'root'\n",
    "                     })\n",
    "            execo.action.Get(hosts=nodes[q],\n",
    "                     remote_files=['~/experiments_src/Time_Bcast.*csv'\n",
    "                     ],\n",
    "                     local_location = path_base, connection_params={'user': 'root'\n",
    "                     }).run().ok\n",
    "            \n",
    "            \"\"\"                  \n",
    "           #subprocess.Popen(['bash', '-c', '. greper.sh; grepping',name])\n",
    "            subprocess.call([\"grep\", \"State\", name, \".csv > Time_Bcast.state.csv\"])\n",
    "            \"\"\" \n",
    "            \n",
    "            %R library(ggplot2)\n",
    "            %R df_state = read.csv(\"/home/nezzine/Stage-POLARIS/SimGrid/examples/SMPI/Time_Bcast/Time_Bcast.csv\", header = F, strip.white=T)\n",
    "            %R names(df_state) = c(\"Type\", \"Rank\", \"Container\", \"Start\", \"End\", \"Duration\", \"Level\", \"State\"); \n",
    "            %R df_state = df_state[!(names(df_state) %in% c(\"Type\",\"Container\",\"Level\"))]\n",
    "            %R df_state$Rank = as.numeric(gsub(\"rank-\",\"\",df_state$Rank))\n",
    "            %R head(df_state)\n",
    "            %R str(df_state)\n",
    "            %R gc = ggplot(data=df_state) + geom_rect(aes(xmin=Start, xmax=End, ymin=Rank, ymax=Rank+1,fill=State)) + scale_fill_brewer(palette=\"Set1\")\n",
    "            %R print(gc)\n",
    "            \n",
    "          \n",
    "        \"\"\" Analyse des résultats\"\"\"    \n",
    "        # Traitement des données\n",
    "        for q in range(number_launchable_tasks):\n",
    "            # On récupère les paramètres des machines\n",
    "            t = machines[q].get_MIN()\n",
    "            D = machines[q].get_delay()\n",
    "            \n",
    "            # Calcul du délai\n",
    "            # On récupère D et S\n",
    "            raw_data = delayer(q, NPROCS, date_precise,precision)\n",
    "            \n",
    "            # Filtre D : Calcul du délai\n",
    "            Dprime = format_cmd(raw_data[0])\n",
    "            \n",
    "            #Filte S : Calcul du temps d'éxécution total \n",
    "            T = raw_data[1]\n",
    "            \n",
    "            # Ajout dans ma table (Dprime, round, machine qui l'a calculé, temps)\n",
    "            sim.setdefault(t,{}).update({D:(Dprime,curr_round,q,T)})\n",
    "            MAX = min (t + fragment_size, N)\n",
    "        \n",
    "        # Affichage des paramètres\n",
    "        print ( colored (\"T_curr : \" , \"yellow\") , str(t_curr))\n",
    "        if (DEBUG) :\n",
    "            print ( colored (\"D_curr : \" , \"yellow\") , str(D_curr))\n",
    "            print ( colored (\"Dprime : \", \"yellow\") , str(Dprime))\n",
    "        print ( colored (\"total execution time : \", \"red\") , str(total_execution_time) + \"\\n\") \n",
    "        \n",
    "        merged_paths = 0\n",
    "        # Calcul de la trajectoire cohérente\n",
    "        while (t_curr < N and t_curr in sim and D_curr in sim[t_curr]):\n",
    "            merged_paths += 1\n",
    "            # Update le temps d'exécution\n",
    "            total_execution_time += sim[t_curr][D_curr][3]\n",
    "            \n",
    "            # Update du temps d'exécution dans le dernier fragment\n",
    "            if (t_curr + fragment_size >= N) : total_execution_time += max(unformat_cmd(sim[t_curr][D_curr][0]))\n",
    "            \n",
    "            # Update des t_curr et D_curr\n",
    "            D_curr = sim[t_curr][D_curr][0]\n",
    "            t_curr = min(t_curr + fragment_size, N)\n",
    "        if (merged_paths > 1) : \n",
    "            cprint(\"****** SUCCESS : \" + str(merged_paths), attrs=['reverse', 'bold'])\n",
    "            success = True \n",
    "        \n",
    "        # Affichage des résultats\n",
    "        cprint (\"\\n  || RESULTS || \\n\",\"red\", attrs=[ 'reverse', 'blink'])\n",
    "        if (DEBUG):\n",
    "            cprint ( \"TO EXPLORE : \" , \"blue\")\n",
    "            for key, value in (To_explore):\n",
    "                print( colored( str(key), \"green\") + ' -> ' + str(value)) \n",
    "            pretty (sim) \n",
    "        print ( colored (\"T_curr : \" , \"yellow\", attrs=[ 'bold']), str(t_curr))\n",
    "        \n",
    "        if (DEBUG):\n",
    "            print ( colored (\"D_curr : \" , \"yellow\", attrs=[ 'bold']), str(D_curr))\n",
    "            print ( colored (\"Dprime : \", \"yellow\", attrs=[ 'bold']) , str(Dprime))\n",
    "            \n",
    "        print ( colored (\"total execution time : \", \"red\", attrs=[ 'bold']) , str(total_execution_time) + \"\\n\") \n",
    "        \n",
    "        \n",
    "        \"\"\" Nouveau paramètrages \"\"\"\n",
    "        cprint(\"  || ANALYSIS || \\n\",\"magenta\", attrs=[ 'reverse', 'blink'])\n",
    "        while (To_explore and To_explore[0][0] <= t_curr):\n",
    "            To_explore.popleft()\n",
    "        \n",
    "        for q in reversed(range(number_launchable_tasks)):\n",
    "            t = machines[q].get_MIN()\n",
    "            D = machines[q].get_delay()\n",
    "            \n",
    "            MAX = min(t + fragment_size, N)\n",
    "            Dprime = sim[t][D][0]\n",
    "           \n",
    "            # Zone valide\n",
    "            if(MAX < N):\n",
    "                # Zone pas encore relié à la trajectoire initiale\n",
    "                if (MAX > t_curr):\n",
    "                    caught = False\n",
    "                # Ajout dans les zones à explorer du nouveau point de départ à exploiter en fonction du mode\n",
    "                    # Test catch me sur 2^catch_me_ind round\n",
    "                    if (catch_me and 1 << catch_me_ind == curr_round):\n",
    "                        catch_me_ind += 1\n",
    "                        try :\n",
    "                            caught = Dprime in sim[MAX]\n",
    "                        except KeyError:\n",
    "                            pass \n",
    "                       \n",
    "                    if (not catch_me or not caught):\n",
    "                        borders = unformat_cmd(Dprime)\n",
    "                        double_Dprime = [(2*(x)) for x in borders]\n",
    "                      \n",
    "                        # Bornes pour le random \n",
    "                        border_inf = 0\n",
    "                        border_sup = double_Dprime\n",
    "                        if (mode == \"RAND_SUP\") : \n",
    "                            border_sup = borders\n",
    "                            Dprime =  generate_Dprime(NPROCS, border_inf, border_sup,precision)\n",
    "                        elif (mode == \"RAND_INF\") : \n",
    "                            border_inf = borders\n",
    "                            Dprime = generate_Dprime(NPROCS, border_inf, border_sup,precision)\n",
    "                        elif (mode == \"RAND\") : \n",
    "                            Dprime =  generate_Dprime(NPROCS, border_inf, border_sup,precision)\n",
    "                        if (DEBUG) : print(\"[\"+str(MAX) +\"] Generated \" + str(mode) + \" Dprime : \" + str(Dprime))\n",
    "                    # Mode fix implicite : append sans modification des valeurs MAX et Dprime    \n",
    "                    To_explore.appendleft((MAX, Dprime))\n",
    "        \n",
    "        if (t_curr != N):\n",
    "            To_explore.appendleft((t_curr, D_curr))\n",
    "        if (DEBUG):\n",
    "            cprint ( \"TO EXPLORE : \" , \"blue\")\n",
    "            for key, value in (To_explore):\n",
    "                print( colored( str(key), \"green\") + ' -> ' + str(value))\n",
    "        "
   ]
  },
  {
   "cell_type": "code",
   "execution_count": 27,
   "metadata": {},
   "outputs": [
    {
     "data": {
      "text/plain": [
       "'data.frame':\t221 obs. of  7 variables:\n",
       " $ Rank    : num  0 0 0 0 0 0 0 0 0 0 ...\n",
       " $ Start   : num  0 0.000105 0.000105 0.000105 0.000105 ...\n",
       " $ End     : num  0.01731 0.00155 0.00164 0.00164 0.00167 ...\n",
       " $ Duration: num  0.01731 0.00145 0.00154 0.00154 0.00156 ...\n",
       " $ State   : Factor w/ 14 levels \"\",\"PMPI_Bcast\",..: 1 5 5 5 5 6 7 13 9 9 ...\n",
       " $ NA      : Factor w/ 11 levels \"\",\"rank-0\",\"rank-1\",..: 1 3 10 4 6 4 5 11 7 8 ...\n",
       " $ NA.1    : Factor w/ 91 levels \"\",\"0_1_-3334_27\",..: 1 3 10 7 9 14 21 82 39 44 ...\n"
      ]
     },
     "metadata": {},
     "output_type": "display_data"
    },
    {
     "data": {
      "image/png": "[encoded data removed]"
     },
     "metadata": {},
     "output_type": "display_data"
    },
    {
     "ename": "TypeError",
     "evalue": "'rpy2.rinterface.RNULLType' object is not iterable",
     "output_type": "error",
     "traceback": [
      "\u001b[0;31m---------------------------------------------------------------------------\u001b[0m",
      "\u001b[0;31mTypeError\u001b[0m                                 Traceback (most recent call last)",
      "\u001b[0;32m~/.local/lib/python3.5/site-packages/IPython/core/formatters.py\u001b[0m in \u001b[0;36m__call__\u001b[0;34m(self, obj)\u001b[0m\n\u001b[1;32m    343\u001b[0m             \u001b[0mmethod\u001b[0m \u001b[0;34m=\u001b[0m \u001b[0mget_real_method\u001b[0m\u001b[0;34m(\u001b[0m\u001b[0mobj\u001b[0m\u001b[0;34m,\u001b[0m \u001b[0mself\u001b[0m\u001b[0;34m.\u001b[0m\u001b[0mprint_method\u001b[0m\u001b[0;34m)\u001b[0m\u001b[0;34m\u001b[0m\u001b[0m\n\u001b[1;32m    344\u001b[0m             \u001b[0;32mif\u001b[0m \u001b[0mmethod\u001b[0m \u001b[0;32mis\u001b[0m \u001b[0;32mnot\u001b[0m \u001b[0;32mNone\u001b[0m\u001b[0;34m:\u001b[0m\u001b[0;34m\u001b[0m\u001b[0m\n\u001b[0;32m--> 345\u001b[0;31m                 \u001b[0;32mreturn\u001b[0m \u001b[0mmethod\u001b[0m\u001b[0;34m(\u001b[0m\u001b[0;34m)\u001b[0m\u001b[0;34m\u001b[0m\u001b[0m\n\u001b[0m\u001b[1;32m    346\u001b[0m             \u001b[0;32mreturn\u001b[0m \u001b[0;32mNone\u001b[0m\u001b[0;34m\u001b[0m\u001b[0m\n\u001b[1;32m    347\u001b[0m         \u001b[0;32melse\u001b[0m\u001b[0;34m:\u001b[0m\u001b[0;34m\u001b[0m\u001b[0m\n",
      "\u001b[0;32m~/.local/lib/python3.5/site-packages/rpy2/robjects/vectors.py\u001b[0m in \u001b[0;36m_repr_html_\u001b[0;34m(self, max_items)\u001b[0m\n\u001b[1;32m    681\u001b[0m         \u001b[0;32mfor\u001b[0m \u001b[0me\u001b[0m \u001b[0;32min\u001b[0m \u001b[0mself\u001b[0m\u001b[0;34m.\u001b[0m\u001b[0m_iter_repr\u001b[0m\u001b[0;34m(\u001b[0m\u001b[0mmax_items\u001b[0m\u001b[0;34m=\u001b[0m\u001b[0mmax_items\u001b[0m\u001b[0;34m)\u001b[0m\u001b[0;34m:\u001b[0m\u001b[0;34m\u001b[0m\u001b[0m\n\u001b[1;32m    682\u001b[0m             \u001b[0;32mif\u001b[0m \u001b[0mhasattr\u001b[0m\u001b[0;34m(\u001b[0m\u001b[0me\u001b[0m\u001b[0;34m,\u001b[0m \u001b[0;34m'_repr_html_'\u001b[0m\u001b[0;34m)\u001b[0m\u001b[0;34m:\u001b[0m\u001b[0;34m\u001b[0m\u001b[0m\n\u001b[0;32m--> 683\u001b[0;31m                 \u001b[0melements\u001b[0m\u001b[0;34m.\u001b[0m\u001b[0mappend\u001b[0m\u001b[0;34m(\u001b[0m\u001b[0me\u001b[0m\u001b[0;34m.\u001b[0m\u001b[0m_repr_html_\u001b[0m\u001b[0;34m(\u001b[0m\u001b[0;34m)\u001b[0m\u001b[0;34m)\u001b[0m\u001b[0;34m\u001b[0m\u001b[0m\n\u001b[0m\u001b[1;32m    684\u001b[0m             \u001b[0;32melse\u001b[0m\u001b[0;34m:\u001b[0m\u001b[0;34m\u001b[0m\u001b[0m\n\u001b[1;32m    685\u001b[0m                 \u001b[0melements\u001b[0m\u001b[0;34m.\u001b[0m\u001b[0mappend\u001b[0m\u001b[0;34m(\u001b[0m\u001b[0me\u001b[0m\u001b[0;34m)\u001b[0m\u001b[0;34m\u001b[0m\u001b[0m\n",
      "\u001b[0;32m~/.local/lib/python3.5/site-packages/rpy2/robjects/vectors.py\u001b[0m in \u001b[0;36m_repr_html_\u001b[0;34m(self, max_items)\u001b[0m\n\u001b[1;32m    688\u001b[0m         \u001b[0mnames\u001b[0m \u001b[0;34m=\u001b[0m \u001b[0mlist\u001b[0m\u001b[0;34m(\u001b[0m\u001b[0;34m)\u001b[0m\u001b[0;34m\u001b[0m\u001b[0m\n\u001b[1;32m    689\u001b[0m         \u001b[0;32mif\u001b[0m \u001b[0mlen\u001b[0m\u001b[0;34m(\u001b[0m\u001b[0mself\u001b[0m\u001b[0;34m)\u001b[0m \u001b[0;34m<=\u001b[0m \u001b[0mmax_items\u001b[0m\u001b[0;34m:\u001b[0m\u001b[0;34m\u001b[0m\u001b[0m\n\u001b[0;32m--> 690\u001b[0;31m             \u001b[0mnames\u001b[0m\u001b[0;34m.\u001b[0m\u001b[0mextend\u001b[0m\u001b[0;34m(\u001b[0m\u001b[0mself\u001b[0m\u001b[0;34m.\u001b[0m\u001b[0mnames\u001b[0m\u001b[0;34m)\u001b[0m\u001b[0;34m\u001b[0m\u001b[0m\n\u001b[0m\u001b[1;32m    691\u001b[0m         \u001b[0;32melse\u001b[0m\u001b[0;34m:\u001b[0m\u001b[0;34m\u001b[0m\u001b[0m\n\u001b[1;32m    692\u001b[0m             \u001b[0mhalf_items\u001b[0m \u001b[0;34m=\u001b[0m \u001b[0mmax_items\u001b[0m \u001b[0;34m//\u001b[0m \u001b[0;36m2\u001b[0m\u001b[0;34m\u001b[0m\u001b[0m\n",
      "\u001b[0;31mTypeError\u001b[0m: 'rpy2.rinterface.RNULLType' object is not iterable"
     ]
    },
    {
     "data": {
      "text/plain": [
       "R object with classes: ('list',) mapped to:\n",
       "<ListVector - Python:0x7fc7c0208188 / R:0x55c512d4c7f8>\n",
       "[ListVector, Environment, ListVector]\n",
       "R object with classes: ('list',) mapped to:\n",
       "<ListVector - Python:0x7fc7c0208188 / R:0x55c512d4c7f8>\n",
       "[ListVector, Environment, ListVector]\n",
       "  layout: <class 'rpy2.robjects.environments.Environment'>\n",
       "  R object with classes: ('Layout', 'ggproto') mapped to:\n",
       "<Environment - Python:0x7fc7c01b05c8 / R:0x55c51278f830>\n",
       "R object with classes: ('list',) mapped to:\n",
       "<ListVector - Python:0x7fc7c0208188 / R:0x55c512d4c7f8>\n",
       "[ListVector, Environment, ListVector]"
      ]
     },
     "execution_count": 27,
     "metadata": {},
     "output_type": "execute_result"
    }
   ],
   "source": [
    "            %R library(ggplot2)\n",
    "            %R df_state = read.csv(\"/home/nezzine/Stage-POLARIS/SimGrid/examples/SMPI/Time_Bcast/Time_Bcast.csv\", header = F, strip.white=T)\n",
    "            %R names(df_state) = c(\"Type\", \"Rank\", \"Container\", \"Start\", \"End\", \"Duration\", \"Level\", \"State\"); \n",
    "            %R df_state = df_state[!(names(df_state) %in% c(\"Type\",\"Container\",\"Level\"))]\n",
    "            %R df_state$Rank = as.numeric(gsub(\"rank-\",\"\",df_state$Rank))\n",
    "            %R head(df_state)\n",
    "            %R str(df_state)\n",
    "            %R gc = ggplot(data=df_state) + geom_rect(aes(xmin=Start, xmax=End, ymin=Rank, ymax=Rank+1,fill=State)) + scale_fill_brewer(palette=\"Set1\")\n",
    "            %R print(gc)"
   ]
  },
  {
   "cell_type": "markdown",
   "metadata": {},
   "source": [
    "## SIMULATION"
   ]
  },
  {
   "cell_type": "code",
   "execution_count": null,
   "metadata": {
    "scrolled": false
   },
   "outputs": [
    {
     "name": "stdout",
     "output_type": "stream",
     "text": [
      "\u001b[5m\u001b[7m\u001b[31m--------------------------------------------  ROUND :  1   --------------------------------------------\n",
      "\u001b[0m\n",
      "\u001b[5m\u001b[7m\u001b[32m  || LAUNCHING || \n",
      "\u001b[0m\n",
      "\u001b[34mTO EXPLORE : \u001b[0m\n",
      "\u001b[32m0\u001b[0m -> 0.0 0.0 0.0 0.0 0.0 0.0 0.0 0.0 0.0 0.0\n",
      "\u001b[32m10\u001b[0m -> 0.0 0.0 0.0 0.0 0.0 0.0 0.0 0.0 0.0 0.0\n",
      "\u001b[32m20\u001b[0m -> 0.0 0.0 0.0 0.0 0.0 0.0 0.0 0.0 0.0 0.0\n",
      "\u001b[32m30\u001b[0m -> 0.0 0.0 0.0 0.0 0.0 0.0 0.0 0.0 0.0 0.0\n",
      "\u001b[32m40\u001b[0m -> 0.0 0.0 0.0 0.0 0.0 0.0 0.0 0.0 0.0 0.0\n",
      "\u001b[32m50\u001b[0m -> 0.0 0.0 0.0 0.0 0.0 0.0 0.0 0.0 0.0 0.0\n",
      "\u001b[32m60\u001b[0m -> 0.0 0.0 0.0 0.0 0.0 0.0 0.0 0.0 0.0 0.0\n",
      "\u001b[32m70\u001b[0m -> 0.0 0.0 0.0 0.0 0.0 0.0 0.0 0.0 0.0 0.0\n",
      "\u001b[32m80\u001b[0m -> 0.0 0.0 0.0 0.0 0.0 0.0 0.0 0.0 0.0 0.0\n",
      "\u001b[32m90\u001b[0m -> 0.0 0.0 0.0 0.0 0.0 0.0 0.0 0.0 0.0 0.0\n",
      "grisou-44 => 0 NPROCS = 10 MIN = 0 MAX = 10 N = 100 DELAY = '0.0 0.0 0.0 0.0 0.0 0.0 0.0 0.0 0.0 0.0'\n",
      "\n",
      "grisou-45 => 1 NPROCS = 10 MIN = 10 MAX = 20 N = 100 DELAY = '0.0 0.0 0.0 0.0 0.0 0.0 0.0 0.0 0.0 0.0'\n",
      "\n",
      "grisou-46 => 2 NPROCS = 10 MIN = 20 MAX = 30 N = 100 DELAY = '0.0 0.0 0.0 0.0 0.0 0.0 0.0 0.0 0.0 0.0'\n",
      "\n",
      "grisou-47 => 3 NPROCS = 10 MIN = 30 MAX = 40 N = 100 DELAY = '0.0 0.0 0.0 0.0 0.0 0.0 0.0 0.0 0.0 0.0'\n",
      "\n",
      "grisou-7 => 4 NPROCS = 10 MIN = 40 MAX = 50 N = 100 DELAY = '0.0 0.0 0.0 0.0 0.0 0.0 0.0 0.0 0.0 0.0'\n",
      "\n"
     ]
    },
    {
     "data": {
      "text/plain": [
       "'data.frame':\t221 obs. of  7 variables:\n",
       " $ Rank    : num  0 0 0 0 0 0 0 0 0 0 ...\n",
       " $ Start   : num  0 0 0 0 0 ...\n",
       " $ End     : num  0.01718 0.00149 0.00149 0.00149 0.00149 ...\n",
       " $ Duration: num  0.01718 0.00149 0.00149 0.00149 0.00149 ...\n",
       " $ State   : Factor w/ 14 levels \"\",\"PMPI_Bcast\",..: 1 5 5 5 5 6 7 13 9 9 ...\n",
       " $ NA      : Factor w/ 11 levels \"\",\"rank-0\",\"rank-1\",..: 1 3 4 6 10 4 5 11 7 8 ...\n",
       " $ NA.1    : Factor w/ 91 levels \"\",\"0_1_-3334_27\",..: 1 3 7 9 10 11 23 82 39 45 ...\n"
      ]
     },
     "metadata": {},
     "output_type": "display_data"
    },
    {
     "data": {
      "image/png": "[encoded data removed]"
     },
     "metadata": {},
     "output_type": "display_data"
    },
    {
     "data": {
      "text/plain": [
       "'data.frame':\t221 obs. of  7 variables:\n",
       " $ Rank    : num  0 0 0 0 0 0 0 0 0 0 ...\n",
       " $ Start   : num  0 0 0 0 0 ...\n",
       " $ End     : num  0.01718 0.00149 0.00149 0.00149 0.00149 ...\n",
       " $ Duration: num  0.01718 0.00149 0.00149 0.00149 0.00149 ...\n",
       " $ State   : Factor w/ 14 levels \"\",\"PMPI_Bcast\",..: 1 5 5 5 5 6 7 13 9 9 ...\n",
       " $ NA      : Factor w/ 11 levels \"\",\"rank-0\",\"rank-1\",..: 1 3 4 6 10 4 5 11 7 8 ...\n",
       " $ NA.1    : Factor w/ 91 levels \"\",\"0_1_-3334_27\",..: 1 3 7 9 10 11 23 82 39 45 ...\n"
      ]
     },
     "metadata": {},
     "output_type": "display_data"
    },
    {
     "data": {
      "image/png": "[encoded data removed]"
     },
     "metadata": {},
     "output_type": "display_data"
    },
    {
     "data": {
      "text/plain": [
       "'data.frame':\t221 obs. of  7 variables:\n",
       " $ Rank    : num  0 0 0 0 0 0 0 0 0 0 ...\n",
       " $ Start   : num  0 0 0 0 0 ...\n",
       " $ End     : num  0.01718 0.00149 0.00149 0.00149 0.00149 ...\n",
       " $ Duration: num  0.01718 0.00149 0.00149 0.00149 0.00149 ...\n",
       " $ State   : Factor w/ 14 levels \"\",\"PMPI_Bcast\",..: 1 5 5 5 5 6 7 13 9 9 ...\n",
       " $ NA      : Factor w/ 11 levels \"\",\"rank-0\",\"rank-1\",..: 1 3 4 6 10 4 5 11 7 8 ...\n",
       " $ NA.1    : Factor w/ 91 levels \"\",\"0_1_-3334_27\",..: 1 3 7 9 10 11 23 82 39 45 ...\n"
      ]
     },
     "metadata": {},
     "output_type": "display_data"
    },
    {
     "data": {
      "image/png": "[encoded data removed]"
     },
     "metadata": {},
     "output_type": "display_data"
    },
    {
     "data": {
      "text/plain": [
       "'data.frame':\t221 obs. of  7 variables:\n",
       " $ Rank    : num  0 0 0 0 0 0 0 0 0 0 ...\n",
       " $ Start   : num  0 0 0 0 0 ...\n",
       " $ End     : num  0.01718 0.00149 0.00149 0.00149 0.00149 ...\n",
       " $ Duration: num  0.01718 0.00149 0.00149 0.00149 0.00149 ...\n",
       " $ State   : Factor w/ 14 levels \"\",\"PMPI_Bcast\",..: 1 5 5 5 5 6 7 13 9 9 ...\n",
       " $ NA      : Factor w/ 11 levels \"\",\"rank-0\",\"rank-1\",..: 1 3 4 6 10 4 5 11 7 8 ...\n",
       " $ NA.1    : Factor w/ 91 levels \"\",\"0_1_-3334_27\",..: 1 3 7 9 10 11 23 82 39 45 ...\n"
      ]
     },
     "metadata": {},
     "output_type": "display_data"
    },
    {
     "data": {
      "image/png": "[encoded data removed]"
     },
     "metadata": {},
     "output_type": "display_data"
    },
    {
     "data": {
      "text/plain": [
       "'data.frame':\t221 obs. of  7 variables:\n",
       " $ Rank    : num  0 0 0 0 0 0 0 0 0 0 ...\n",
       " $ Start   : num  0 0 0 0 0 ...\n",
       " $ End     : num  0.01718 0.00149 0.00149 0.00149 0.00149 ...\n",
       " $ Duration: num  0.01718 0.00149 0.00149 0.00149 0.00149 ...\n",
       " $ State   : Factor w/ 14 levels \"\",\"PMPI_Bcast\",..: 1 5 5 5 5 6 7 13 9 9 ...\n",
       " $ NA      : Factor w/ 11 levels \"\",\"rank-0\",\"rank-1\",..: 1 3 4 6 10 4 5 11 7 8 ...\n",
       " $ NA.1    : Factor w/ 91 levels \"\",\"0_1_-3334_27\",..: 1 3 7 9 10 11 23 82 39 45 ...\n"
      ]
     },
     "metadata": {},
     "output_type": "display_data"
    },
    {
     "data": {
      "image/png": "[encoded data removed]"
     },
     "metadata": {},
     "output_type": "display_data"
    },
    {
     "name": "stdout",
     "output_type": "stream",
     "text": [
      "\u001b[33mT_curr : \u001b[0m 0\n",
      "\u001b[33mD_curr : \u001b[0m 0.0 0.0 0.0 0.0 0.0 0.0 0.0 0.0 0.0 0.0\n",
      "\u001b[33mDprime : \u001b[0m 0.0014 0.0023 0.0029 0.0027 0.0036 0.0036 0.0042 0.0023 0.0029 0.0\n",
      "\u001b[31mtotal execution time : \u001b[0m 0\n",
      "\n",
      "\u001b[5m\u001b[7m\u001b[31m\n",
      "  || RESULTS || \n",
      "\u001b[0m\n",
      "\u001b[34mTO EXPLORE : \u001b[0m\n",
      "\u001b[32m50\u001b[0m -> 0.0 0.0 0.0 0.0 0.0 0.0 0.0 0.0 0.0 0.0\n",
      "\u001b[32m60\u001b[0m -> 0.0 0.0 0.0 0.0 0.0 0.0 0.0 0.0 0.0 0.0\n",
      "\u001b[32m70\u001b[0m -> 0.0 0.0 0.0 0.0 0.0 0.0 0.0 0.0 0.0 0.0\n",
      "\u001b[32m80\u001b[0m -> 0.0 0.0 0.0 0.0 0.0 0.0 0.0 0.0 0.0 0.0\n",
      "\u001b[32m90\u001b[0m -> 0.0 0.0 0.0 0.0 0.0 0.0 0.0 0.0 0.0 0.0\n",
      "\u001b[35m0\u001b[0m\n",
      "\t\u001b[35m0.0 0.0 0.0 0.0 0.0 0.0 0.0 0.0 0.0 0.0\u001b[0m\n",
      "\t\t('0.0014 0.0023 0.0029 0.0027 0.0036 0.0036 0.0042 0.0023 0.0029 0.0', 1, 0, 0.013)\n",
      "\u001b[35m10\u001b[0m\n",
      "\t\u001b[35m0.0 0.0 0.0 0.0 0.0 0.0 0.0 0.0 0.0 0.0\u001b[0m\n",
      "\t\t('0.0014 0.0023 0.0029 0.0027 0.0036 0.0036 0.0042 0.0023 0.0029 0.0', 1, 1, 0.013)\n",
      "\u001b[35m20\u001b[0m\n",
      "\t\u001b[35m0.0 0.0 0.0 0.0 0.0 0.0 0.0 0.0 0.0 0.0\u001b[0m\n",
      "\t\t('0.0014 0.0023 0.0029 0.0027 0.0036 0.0036 0.0042 0.0023 0.0029 0.0', 1, 2, 0.013)\n",
      "\u001b[35m30\u001b[0m\n",
      "\t\u001b[35m0.0 0.0 0.0 0.0 0.0 0.0 0.0 0.0 0.0 0.0\u001b[0m\n",
      "\t\t('0.0014 0.0023 0.0029 0.0027 0.0036 0.0036 0.0042 0.0023 0.0029 0.0', 1, 3, 0.013)\n",
      "\u001b[35m40\u001b[0m\n",
      "\t\u001b[35m0.0 0.0 0.0 0.0 0.0 0.0 0.0 0.0 0.0 0.0\u001b[0m\n",
      "\t\t('0.0014 0.0023 0.0029 0.0027 0.0036 0.0036 0.0042 0.0023 0.0029 0.0', 1, 4, 0.013)\n",
      "\u001b[1m\u001b[33mT_curr : \u001b[0m 10\n",
      "\u001b[1m\u001b[33mD_curr : \u001b[0m 0.0014 0.0023 0.0029 0.0027 0.0036 0.0036 0.0042 0.0023 0.0029 0.0\n",
      "\u001b[1m\u001b[33mDprime : \u001b[0m 0.0014 0.0023 0.0029 0.0027 0.0036 0.0036 0.0042 0.0023 0.0029 0.0\n",
      "\u001b[1m\u001b[31mtotal execution time : \u001b[0m 0.013\n",
      "\n",
      "\u001b[5m\u001b[7m\u001b[35m  || ANALYSIS || \n",
      "\u001b[0m\n",
      "[50] Generated RAND Dprime : 0.0015 0.0015 0.0006 0.0035 0.0018 0.0018 0.0077 0.0003 0.001 0.0\n",
      "[40] Generated RAND Dprime : 0.0002 0.0001 0.0039 0.0049 0.0034 0.0007 0.006 0.0023 0.0023 0.0\n",
      "[30] Generated RAND Dprime : 0.0006 0.0006 0.0029 0.005 0.0036 0.001 0.0049 0.0018 0.0051 0.0\n",
      "[20] Generated RAND Dprime : 0.0002 0.0015 0.0007 0.0052 0.0025 0.0005 0.0059 0.0014 0.0001 0.0\n",
      "\u001b[34mTO EXPLORE : \u001b[0m\n",
      "\u001b[32m10\u001b[0m -> 0.0014 0.0023 0.0029 0.0027 0.0036 0.0036 0.0042 0.0023 0.0029 0.0\n",
      "\u001b[32m20\u001b[0m -> 0.0002 0.0015 0.0007 0.0052 0.0025 0.0005 0.0059 0.0014 0.0001 0.0\n",
      "\u001b[32m30\u001b[0m -> 0.0006 0.0006 0.0029 0.005 0.0036 0.001 0.0049 0.0018 0.0051 0.0\n",
      "\u001b[32m40\u001b[0m -> 0.0002 0.0001 0.0039 0.0049 0.0034 0.0007 0.006 0.0023 0.0023 0.0\n",
      "\u001b[32m50\u001b[0m -> 0.0015 0.0015 0.0006 0.0035 0.0018 0.0018 0.0077 0.0003 0.001 0.0\n",
      "\u001b[32m50\u001b[0m -> 0.0 0.0 0.0 0.0 0.0 0.0 0.0 0.0 0.0 0.0\n",
      "\u001b[32m60\u001b[0m -> 0.0 0.0 0.0 0.0 0.0 0.0 0.0 0.0 0.0 0.0\n",
      "\u001b[32m70\u001b[0m -> 0.0 0.0 0.0 0.0 0.0 0.0 0.0 0.0 0.0 0.0\n",
      "\u001b[32m80\u001b[0m -> 0.0 0.0 0.0 0.0 0.0 0.0 0.0 0.0 0.0 0.0\n",
      "\u001b[32m90\u001b[0m -> 0.0 0.0 0.0 0.0 0.0 0.0 0.0 0.0 0.0 0.0\n",
      "\u001b[5m\u001b[7m\u001b[31m--------------------------------------------  ROUND :  2   --------------------------------------------\n",
      "\u001b[0m\n",
      "\u001b[5m\u001b[7m\u001b[32m  || LAUNCHING || \n",
      "\u001b[0m\n",
      "\u001b[34mTO EXPLORE : \u001b[0m\n",
      "\u001b[32m10\u001b[0m -> 0.0014 0.0023 0.0029 0.0027 0.0036 0.0036 0.0042 0.0023 0.0029 0.0\n",
      "\u001b[32m20\u001b[0m -> 0.0002 0.0015 0.0007 0.0052 0.0025 0.0005 0.0059 0.0014 0.0001 0.0\n",
      "\u001b[32m30\u001b[0m -> 0.0006 0.0006 0.0029 0.005 0.0036 0.001 0.0049 0.0018 0.0051 0.0\n",
      "\u001b[32m40\u001b[0m -> 0.0002 0.0001 0.0039 0.0049 0.0034 0.0007 0.006 0.0023 0.0023 0.0\n",
      "\u001b[32m50\u001b[0m -> 0.0015 0.0015 0.0006 0.0035 0.0018 0.0018 0.0077 0.0003 0.001 0.0\n",
      "\u001b[32m50\u001b[0m -> 0.0 0.0 0.0 0.0 0.0 0.0 0.0 0.0 0.0 0.0\n",
      "\u001b[32m60\u001b[0m -> 0.0 0.0 0.0 0.0 0.0 0.0 0.0 0.0 0.0 0.0\n",
      "\u001b[32m70\u001b[0m -> 0.0 0.0 0.0 0.0 0.0 0.0 0.0 0.0 0.0 0.0\n",
      "\u001b[32m80\u001b[0m -> 0.0 0.0 0.0 0.0 0.0 0.0 0.0 0.0 0.0 0.0\n",
      "\u001b[32m90\u001b[0m -> 0.0 0.0 0.0 0.0 0.0 0.0 0.0 0.0 0.0 0.0\n",
      "grisou-44 => 0 NPROCS = 10 MIN = 10 MAX = 20 N = 100 DELAY = '0.0014 0.0023 0.0029 0.0027 0.0036 0.0036 0.0042 0.0023 0.0029 0.0'\n",
      "\n",
      "grisou-45 => 1 NPROCS = 10 MIN = 20 MAX = 30 N = 100 DELAY = '0.0002 0.0015 0.0007 0.0052 0.0025 0.0005 0.0059 0.0014 0.0001 0.0'\n",
      "\n",
      "grisou-46 => 2 NPROCS = 10 MIN = 30 MAX = 40 N = 100 DELAY = '0.0006 0.0006 0.0029 0.005 0.0036 0.001 0.0049 0.0018 0.0051 0.0'\n",
      "\n",
      "grisou-47 => 3 NPROCS = 10 MIN = 40 MAX = 50 N = 100 DELAY = '0.0002 0.0001 0.0039 0.0049 0.0034 0.0007 0.006 0.0023 0.0023 0.0'\n",
      "\n",
      "grisou-7 => 4 NPROCS = 10 MIN = 50 MAX = 60 N = 100 DELAY = '0.0015 0.0015 0.0006 0.0035 0.0018 0.0018 0.0077 0.0003 0.001 0.0'\n",
      "\n"
     ]
    },
    {
     "data": {
      "text/plain": [
       "'data.frame':\t221 obs. of  7 variables:\n",
       " $ Rank    : num  0 0 0 0 0 0 0 0 0 0 ...\n",
       " $ Start   : num  0.0 9.8e-05 9.8e-05 9.8e-05 9.8e-05 ...\n",
       " $ End     : num  0.01731 0.00155 0.00164 0.00164 0.00167 ...\n",
       " $ Duration: num  0.01731 0.00145 0.00154 0.00154 0.00157 ...\n",
       " $ State   : Factor w/ 14 levels \"\",\"PMPI_Bcast\",..: 1 5 5 5 5 6 7 13 9 9 ...\n",
       " $ NA      : Factor w/ 11 levels \"\",\"rank-0\",\"rank-1\",..: 1 3 10 4 6 4 5 11 7 8 ...\n",
       " $ NA.1    : Factor w/ 91 levels \"\",\"0_1_-3334_27\",..: 1 3 10 7 9 14 21 82 39 44 ...\n"
      ]
     },
     "metadata": {},
     "output_type": "display_data"
    },
    {
     "data": {
      "image/png": "[encoded data removed]"
     },
     "metadata": {},
     "output_type": "display_data"
    },
    {
     "data": {
      "text/plain": [
       "'data.frame':\t221 obs. of  7 variables:\n",
       " $ Rank    : num  0 0 0 0 0 0 0 0 0 0 ...\n",
       " $ Start   : num  0.0 1.4e-05 1.4e-05 1.4e-05 1.4e-05 ...\n",
       " $ End     : num  0.01649 0.00136 0.00143 0.00149 0.00152 ...\n",
       " $ Duration: num  0.01649 0.00134 0.00142 0.00147 0.00151 ...\n",
       " $ State   : Factor w/ 14 levels \"\",\"PMPI_Bcast\",..: 1 5 5 5 5 13 7 6 9 9 ...\n",
       " $ NA      : Factor w/ 11 levels \"\",\"rank-0\",\"rank-1\",..: 1 10 4 3 6 11 5 4 7 8 ...\n",
       " $ NA.1    : Factor w/ 91 levels \"\",\"0_1_-3334_27\",..: 1 10 7 3 9 80 23 11 39 44 ...\n"
      ]
     },
     "metadata": {},
     "output_type": "display_data"
    },
    {
     "data": {
      "image/png": "[encoded data removed]"
     },
     "metadata": {},
     "output_type": "display_data"
    },
    {
     "data": {
      "text/plain": [
       "'data.frame':\t221 obs. of  7 variables:\n",
       " $ Rank    : num  0 0 0 0 0 0 0 0 0 0 ...\n",
       " $ Start   : num  0.0 4.2e-05 4.2e-05 4.2e-05 4.2e-05 ...\n",
       " $ End     : num  0.0167 0.00114 0.00149 0.00154 0.00159 ...\n",
       " $ Duration: num  0.0167 0.0011 0.00145 0.0015 0.00155 ...\n",
       " $ State   : Factor w/ 14 levels \"\",\"PMPI_Bcast\",..: 1 5 5 5 5 6 7 13 9 9 ...\n",
       " $ NA      : Factor w/ 11 levels \"\",\"rank-0\",\"rank-1\",..: 1 3 4 6 10 4 5 11 7 8 ...\n",
       " $ NA.1    : Factor w/ 91 levels \"\",\"0_1_-3334_28\",..: 1 3 7 9 10 14 25 78 39 44 ...\n"
      ]
     },
     "metadata": {},
     "output_type": "display_data"
    },
    {
     "data": {
      "image/png": "[encoded data removed]"
     },
     "metadata": {},
     "output_type": "display_data"
    },
    {
     "data": {
      "text/plain": [
       "'data.frame':\t221 obs. of  7 variables:\n",
       " $ Rank    : num  0 0 0 0 0 0 0 0 0 0 ...\n",
       " $ Start   : num  0.0 1.4e-05 1.4e-05 1.4e-05 1.4e-05 ...\n",
       " $ End     : num  0.01664 0.00114 0.00145 0.00153 0.00155 ...\n",
       " $ Duration: num  0.01664 0.00112 0.00144 0.00152 0.00153 ...\n",
       " $ State   : Factor w/ 14 levels \"\",\"PMPI_Bcast\",..: 1 5 5 5 5 13 6 7 9 9 ...\n",
       " $ NA      : Factor w/ 11 levels \"\",\"rank-0\",\"rank-1\",..: 1 3 10 6 4 11 4 5 7 8 ...\n",
       " $ NA.1    : Factor w/ 91 levels \"\",\"0_1_-3334_27\",..: 1 3 10 9 7 82 14 21 39 44 ...\n"
      ]
     },
     "metadata": {},
     "output_type": "display_data"
    },
    {
     "data": {
      "image/png": "[encoded data removed]"
     },
     "metadata": {},
     "output_type": "display_data"
    },
    {
     "data": {
      "text/plain": [
       "'data.frame':\t221 obs. of  7 variables:\n",
       " $ Rank    : num  0 0 0 0 0 0 0 0 0 0 ...\n",
       " $ Start   : num  0 0.000105 0.000105 0.000105 0.000105 ...\n",
       " $ End     : num  0.01727 0.00159 0.00159 0.00159 0.0016 ...\n",
       " $ Duration: num  0.01727 0.00148 0.00148 0.00148 0.00149 ...\n",
       " $ State   : Factor w/ 14 levels \"\",\"PMPI_Bcast\",..: 1 5 5 5 5 6 13 7 9 9 ...\n",
       " $ NA      : Factor w/ 11 levels \"\",\"rank-0\",\"rank-1\",..: 1 3 4 10 6 4 11 5 7 8 ...\n",
       " $ NA.1    : Factor w/ 91 levels \"\",\"0_1_-3334_28\",..: 1 3 7 10 9 11 81 23 39 44 ...\n"
      ]
     },
     "metadata": {},
     "output_type": "display_data"
    },
    {
     "data": {
      "image/png": "[encoded data removed]"
     },
     "metadata": {},
     "output_type": "display_data"
    },
    {
     "name": "stdout",
     "output_type": "stream",
     "text": [
      "\u001b[33mT_curr : \u001b[0m 10\n",
      "\u001b[33mD_curr : \u001b[0m 0.0014 0.0023 0.0029 0.0027 0.0036 0.0036 0.0042 0.0023 0.0029 0.0\n",
      "\u001b[33mDprime : \u001b[0m 0.0014 0.0023 0.0029 0.0027 0.0035 0.0035 0.0042 0.0023 0.0029 0.0\n",
      "\u001b[31mtotal execution time : \u001b[0m 0.013\n",
      "\n",
      "\u001b[5m\u001b[7m\u001b[31m\n",
      "  || RESULTS || \n",
      "\u001b[0m\n",
      "\u001b[34mTO EXPLORE : \u001b[0m\n",
      "\u001b[32m50\u001b[0m -> 0.0 0.0 0.0 0.0 0.0 0.0 0.0 0.0 0.0 0.0\n",
      "\u001b[32m60\u001b[0m -> 0.0 0.0 0.0 0.0 0.0 0.0 0.0 0.0 0.0 0.0\n",
      "\u001b[32m70\u001b[0m -> 0.0 0.0 0.0 0.0 0.0 0.0 0.0 0.0 0.0 0.0\n",
      "\u001b[32m80\u001b[0m -> 0.0 0.0 0.0 0.0 0.0 0.0 0.0 0.0 0.0 0.0\n",
      "\u001b[32m90\u001b[0m -> 0.0 0.0 0.0 0.0 0.0 0.0 0.0 0.0 0.0 0.0\n",
      "\u001b[35m0\u001b[0m\n",
      "\t\u001b[35m0.0 0.0 0.0 0.0 0.0 0.0 0.0 0.0 0.0 0.0\u001b[0m\n",
      "\t\t('0.0014 0.0023 0.0029 0.0027 0.0036 0.0036 0.0042 0.0023 0.0029 0.0', 1, 0, 0.013)\n",
      "\u001b[35m10\u001b[0m\n",
      "\t\u001b[35m0.0014 0.0023 0.0029 0.0027 0.0036 0.0036 0.0042 0.0023 0.0029 0.0\u001b[0m\n",
      "\t\t('0.0015 0.0023 0.0029 0.0028 0.0036 0.0036 0.0042 0.0023 0.0029 0.0', 2, 0, 0.0131)\n",
      "\t\u001b[35m0.0 0.0 0.0 0.0 0.0 0.0 0.0 0.0 0.0 0.0\u001b[0m\n",
      "\t\t('0.0014 0.0023 0.0029 0.0027 0.0036 0.0036 0.0042 0.0023 0.0029 0.0', 1, 1, 0.013)\n",
      "\u001b[35m20\u001b[0m\n",
      "\t\u001b[35m0.0002 0.0015 0.0007 0.0052 0.0025 0.0005 0.0059 0.0014 0.0001 0.0\u001b[0m\n",
      "\t\t('0.0014 0.0021 0.0027 0.0029 0.0038 0.0038 0.0044 0.0019 0.0026 0.0', 2, 1, 0.0121)\n",
      "\t\u001b[35m0.0 0.0 0.0 0.0 0.0 0.0 0.0 0.0 0.0 0.0\u001b[0m\n",
      "\t\t('0.0014 0.0023 0.0029 0.0027 0.0036 0.0036 0.0042 0.0023 0.0029 0.0', 1, 2, 0.013)\n",
      "\u001b[35m30\u001b[0m\n",
      "\t\u001b[35m0.0006 0.0006 0.0029 0.005 0.0036 0.001 0.0049 0.0018 0.0051 0.0\u001b[0m\n",
      "\t\t('0.0014 0.0023 0.0029 0.0032 0.0041 0.0041 0.0047 0.0023 0.003 0.0', 2, 2, 0.012)\n",
      "\t\u001b[35m0.0 0.0 0.0 0.0 0.0 0.0 0.0 0.0 0.0 0.0\u001b[0m\n",
      "\t\t('0.0014 0.0023 0.0029 0.0027 0.0036 0.0036 0.0042 0.0023 0.0029 0.0', 1, 3, 0.013)\n",
      "\u001b[35m40\u001b[0m\n",
      "\t\u001b[35m0.0002 0.0001 0.0039 0.0049 0.0034 0.0007 0.006 0.0023 0.0023 0.0\u001b[0m\n",
      "\t\t('0.0013 0.0021 0.0027 0.0029 0.0037 0.0037 0.0043 0.0019 0.0025 0.0', 2, 3, 0.0123)\n",
      "\t\u001b[35m0.0 0.0 0.0 0.0 0.0 0.0 0.0 0.0 0.0 0.0\u001b[0m\n",
      "\t\t('0.0014 0.0023 0.0029 0.0027 0.0036 0.0036 0.0042 0.0023 0.0029 0.0', 1, 4, 0.013)\n",
      "\u001b[35m50\u001b[0m\n",
      "\t\u001b[35m0.0015 0.0015 0.0006 0.0035 0.0018 0.0018 0.0077 0.0003 0.001 0.0\u001b[0m\n",
      "\t\t('0.0014 0.0023 0.0029 0.0027 0.0035 0.0035 0.0042 0.0023 0.0029 0.0', 2, 4, 0.0131)\n",
      "\u001b[1m\u001b[33mT_curr : \u001b[0m 20\n",
      "\u001b[1m\u001b[33mD_curr : \u001b[0m 0.0015 0.0023 0.0029 0.0028 0.0036 0.0036 0.0042 0.0023 0.0029 0.0\n",
      "\u001b[1m\u001b[33mDprime : \u001b[0m 0.0014 0.0023 0.0029 0.0027 0.0035 0.0035 0.0042 0.0023 0.0029 0.0\n",
      "\u001b[1m\u001b[31mtotal execution time : \u001b[0m 0.026099999999999998\n",
      "\n",
      "\u001b[5m\u001b[7m\u001b[35m  || ANALYSIS || \n",
      "\u001b[0m\n",
      "[60] Generated RAND Dprime : 0.0017 0.0015 0.0033 0.0016 0.0038 0.0022 0.0059 0.0042 0.0022 0.0\n",
      "[50] Generated RAND Dprime : 0.0013 0.0011 0.0042 0.0003 0.0001 0.0073 0.0077 0.0037 0.003 0.0\n",
      "[40] Generated RAND Dprime : 0.0009 0.0043 0.0057 0.0064 0.0048 0.004 0.0032 0.0039 0.0059 0.0\n",
      "[30] Generated RAND Dprime : 0.0022 0.002 0.0021 0.0005 0.0051 0.0053 0.007 0.0003 0.0031 0.0\n",
      "\u001b[34mTO EXPLORE : \u001b[0m\n",
      "\u001b[32m20\u001b[0m -> 0.0015 0.0023 0.0029 0.0028 0.0036 0.0036 0.0042 0.0023 0.0029 0.0\n",
      "\u001b[32m30\u001b[0m -> 0.0022 0.002 0.0021 0.0005 0.0051 0.0053 0.007 0.0003 0.0031 0.0\n",
      "\u001b[32m40\u001b[0m -> 0.0009 0.0043 0.0057 0.0064 0.0048 0.004 0.0032 0.0039 0.0059 0.0\n",
      "\u001b[32m50\u001b[0m -> 0.0013 0.0011 0.0042 0.0003 0.0001 0.0073 0.0077 0.0037 0.003 0.0\n",
      "\u001b[32m60\u001b[0m -> 0.0017 0.0015 0.0033 0.0016 0.0038 0.0022 0.0059 0.0042 0.0022 0.0\n",
      "\u001b[32m50\u001b[0m -> 0.0 0.0 0.0 0.0 0.0 0.0 0.0 0.0 0.0 0.0\n",
      "\u001b[32m60\u001b[0m -> 0.0 0.0 0.0 0.0 0.0 0.0 0.0 0.0 0.0 0.0\n",
      "\u001b[32m70\u001b[0m -> 0.0 0.0 0.0 0.0 0.0 0.0 0.0 0.0 0.0 0.0\n",
      "\u001b[32m80\u001b[0m -> 0.0 0.0 0.0 0.0 0.0 0.0 0.0 0.0 0.0 0.0\n",
      "\u001b[32m90\u001b[0m -> 0.0 0.0 0.0 0.0 0.0 0.0 0.0 0.0 0.0 0.0\n",
      "\u001b[5m\u001b[7m\u001b[31m--------------------------------------------  ROUND :  3   --------------------------------------------\n",
      "\u001b[0m\n",
      "\u001b[5m\u001b[7m\u001b[32m  || LAUNCHING || \n",
      "\u001b[0m\n",
      "\u001b[34mTO EXPLORE : \u001b[0m\n",
      "\u001b[32m20\u001b[0m -> 0.0015 0.0023 0.0029 0.0028 0.0036 0.0036 0.0042 0.0023 0.0029 0.0\n",
      "\u001b[32m30\u001b[0m -> 0.0022 0.002 0.0021 0.0005 0.0051 0.0053 0.007 0.0003 0.0031 0.0\n",
      "\u001b[32m40\u001b[0m -> 0.0009 0.0043 0.0057 0.0064 0.0048 0.004 0.0032 0.0039 0.0059 0.0\n",
      "\u001b[32m50\u001b[0m -> 0.0013 0.0011 0.0042 0.0003 0.0001 0.0073 0.0077 0.0037 0.003 0.0\n",
      "\u001b[32m60\u001b[0m -> 0.0017 0.0015 0.0033 0.0016 0.0038 0.0022 0.0059 0.0042 0.0022 0.0\n",
      "\u001b[32m50\u001b[0m -> 0.0 0.0 0.0 0.0 0.0 0.0 0.0 0.0 0.0 0.0\n",
      "\u001b[32m60\u001b[0m -> 0.0 0.0 0.0 0.0 0.0 0.0 0.0 0.0 0.0 0.0\n",
      "\u001b[32m70\u001b[0m -> 0.0 0.0 0.0 0.0 0.0 0.0 0.0 0.0 0.0 0.0\n",
      "\u001b[32m80\u001b[0m -> 0.0 0.0 0.0 0.0 0.0 0.0 0.0 0.0 0.0 0.0\n",
      "\u001b[32m90\u001b[0m -> 0.0 0.0 0.0 0.0 0.0 0.0 0.0 0.0 0.0 0.0\n",
      "grisou-44 => 0 NPROCS = 10 MIN = 20 MAX = 30 N = 100 DELAY = '0.0015 0.0023 0.0029 0.0028 0.0036 0.0036 0.0042 0.0023 0.0029 0.0'\n",
      "\n",
      "grisou-45 => 1 NPROCS = 10 MIN = 30 MAX = 40 N = 100 DELAY = '0.0022 0.002 0.0021 0.0005 0.0051 0.0053 0.007 0.0003 0.0031 0.0'\n",
      "\n",
      "grisou-46 => 2 NPROCS = 10 MIN = 40 MAX = 50 N = 100 DELAY = '0.0009 0.0043 0.0057 0.0064 0.0048 0.004 0.0032 0.0039 0.0059 0.0'\n",
      "\n",
      "grisou-47 => 3 NPROCS = 10 MIN = 50 MAX = 60 N = 100 DELAY = '0.0013 0.0011 0.0042 0.0003 0.0001 0.0073 0.0077 0.0037 0.003 0.0'\n",
      "\n",
      "grisou-7 => 4 NPROCS = 10 MIN = 60 MAX = 70 N = 100 DELAY = '0.0017 0.0015 0.0033 0.0016 0.0038 0.0022 0.0059 0.0042 0.0022 0.0'\n",
      "\n"
     ]
    },
    {
     "data": {
      "text/plain": [
       "'data.frame':\t221 obs. of  7 variables:\n",
       " $ Rank    : num  0 0 0 0 0 0 0 0 0 0 ...\n",
       " $ Start   : num  0 0.000105 0.000105 0.000105 0.000105 ...\n",
       " $ End     : num  0.01731 0.00155 0.00164 0.00164 0.00167 ...\n",
       " $ Duration: num  0.01731 0.00145 0.00154 0.00154 0.00156 ...\n",
       " $ State   : Factor w/ 14 levels \"\",\"PMPI_Bcast\",..: 1 5 5 5 5 6 7 13 9 9 ...\n",
       " $ NA      : Factor w/ 11 levels \"\",\"rank-0\",\"rank-1\",..: 1 3 10 4 6 4 5 11 7 8 ...\n",
       " $ NA.1    : Factor w/ 91 levels \"\",\"0_1_-3334_27\",..: 1 3 10 7 9 14 21 82 39 44 ...\n"
      ]
     },
     "metadata": {},
     "output_type": "display_data"
    },
    {
     "data": {
      "image/png": "[encoded data removed]"
     },
     "metadata": {},
     "output_type": "display_data"
    },
    {
     "data": {
      "text/plain": [
       "'data.frame':\t221 obs. of  7 variables:\n",
       " $ Rank    : num  0 0 0 0 0 0 0 0 0 0 ...\n",
       " $ Start   : num  0 0.000154 0.000154 0.000154 0.000154 ...\n",
       " $ End     : num  0.01671 0.00153 0.00153 0.00159 0.00166 ...\n",
       " $ Duration: num  0.01671 0.00138 0.00138 0.00144 0.00151 ...\n",
       " $ State   : Factor w/ 14 levels \"\",\"PMPI_Bcast\",..: 1 5 5 5 5 6 7 13 9 9 ...\n",
       " $ NA      : Factor w/ 11 levels \"\",\"rank-0\",\"rank-1\",..: 1 3 4 10 6 4 5 11 7 8 ...\n",
       " $ NA.1    : Factor w/ 91 levels \"\",\"0_1_-3334_28\",..: 1 3 7 10 9 15 23 78 39 44 ...\n"
      ]
     },
     "metadata": {},
     "output_type": "display_data"
    },
    {
     "data": {
      "image/png": "[encoded data removed]"
     },
     "metadata": {},
     "output_type": "display_data"
    },
    {
     "data": {
      "text/plain": [
       "'data.frame':\t221 obs. of  7 variables:\n",
       " $ Rank    : num  0 0 0 0 0 0 0 0 0 0 ...\n",
       " $ Start   : num  0.0 6.3e-05 6.3e-05 6.3e-05 6.3e-05 ...\n",
       " $ End     : num  0.01743 0.00165 0.00173 0.00179 0.0018 ...\n",
       " $ Duration: num  0.01743 0.00159 0.00167 0.00173 0.00174 ...\n",
       " $ State   : Factor w/ 14 levels \"\",\"PMPI_Bcast\",..: 1 5 5 5 5 6 7 13 9 9 ...\n",
       " $ NA      : Factor w/ 11 levels \"\",\"rank-0\",\"rank-1\",..: 1 3 6 4 10 4 5 11 7 8 ...\n",
       " $ NA.1    : Factor w/ 91 levels \"\",\"0_1_-3334_28\",..: 1 3 9 7 10 14 21 78 39 45 ...\n"
      ]
     },
     "metadata": {},
     "output_type": "display_data"
    },
    {
     "data": {
      "image/png": "[encoded data removed]"
     },
     "metadata": {},
     "output_type": "display_data"
    },
    {
     "data": {
      "text/plain": [
       "'data.frame':\t221 obs. of  7 variables:\n",
       " $ Rank    : num  0 0 0 0 0 0 0 0 0 0 ...\n",
       " $ Start   : num  0.0 9.1e-05 9.1e-05 9.1e-05 9.1e-05 ...\n",
       " $ End     : num  0.01703 0.00143 0.00143 0.00155 0.00159 ...\n",
       " $ Duration: num  0.01703 0.00134 0.00134 0.00146 0.0015 ...\n",
       " $ State   : Factor w/ 14 levels \"\",\"PMPI_Bcast\",..: 1 5 5 5 5 13 6 7 9 9 ...\n",
       " $ NA      : Factor w/ 11 levels \"\",\"rank-0\",\"rank-1\",..: 1 3 6 10 4 11 4 5 7 8 ...\n",
       " $ NA.1    : Factor w/ 91 levels \"\",\"0_1_-3334_27\",..: 1 3 9 10 7 78 11 21 42 45 ...\n"
      ]
     },
     "metadata": {},
     "output_type": "display_data"
    },
    {
     "data": {
      "image/png": "[encoded data removed]"
     },
     "metadata": {},
     "output_type": "display_data"
    },
    {
     "data": {
      "text/plain": [
       "'data.frame':\t221 obs. of  7 variables:\n",
       " $ Rank    : num  0 0 0 0 0 0 0 0 0 0 ...\n",
       " $ Start   : num  0 0.000119 0.000119 0.000119 0.000119 ...\n",
       " $ End     : num  0.01671 0.00145 0.00153 0.0016 0.00162 ...\n",
       " $ Duration: num  0.01671 0.00133 0.00141 0.00148 0.0015 ...\n",
       " $ State   : Factor w/ 14 levels \"\",\"PMPI_Bcast\",..: 1 5 5 5 5 13 6 7 9 9 ...\n",
       " $ NA      : Factor w/ 11 levels \"\",\"rank-0\",\"rank-1\",..: 1 3 10 4 6 11 4 5 7 8 ...\n",
       " $ NA.1    : Factor w/ 91 levels \"\",\"0_1_-3334_27\",..: 1 3 10 7 9 82 14 21 39 44 ...\n"
      ]
     },
     "metadata": {},
     "output_type": "display_data"
    },
    {
     "data": {
      "image/png": "[encoded data removed]"
     },
     "metadata": {},
     "output_type": "display_data"
    },
    {
     "name": "stdout",
     "output_type": "stream",
     "text": [
      "\u001b[33mT_curr : \u001b[0m 20\n",
      "\u001b[33mD_curr : \u001b[0m 0.0015 0.0023 0.0029 0.0028 0.0036 0.0036 0.0042 0.0023 0.0029 0.0\n",
      "\u001b[33mDprime : \u001b[0m 0.0014 0.0022 0.0028 0.003 0.0038 0.0038 0.0044 0.002 0.0026 0.0\n",
      "\u001b[31mtotal execution time : \u001b[0m 0.026099999999999998\n",
      "\n",
      "\u001b[5m\u001b[7m\u001b[31m\n",
      "  || RESULTS || \n",
      "\u001b[0m\n",
      "\u001b[34mTO EXPLORE : \u001b[0m\n",
      "\u001b[32m50\u001b[0m -> 0.0 0.0 0.0 0.0 0.0 0.0 0.0 0.0 0.0 0.0\n",
      "\u001b[32m60\u001b[0m -> 0.0 0.0 0.0 0.0 0.0 0.0 0.0 0.0 0.0 0.0\n",
      "\u001b[32m70\u001b[0m -> 0.0 0.0 0.0 0.0 0.0 0.0 0.0 0.0 0.0 0.0\n",
      "\u001b[32m80\u001b[0m -> 0.0 0.0 0.0 0.0 0.0 0.0 0.0 0.0 0.0 0.0\n",
      "\u001b[32m90\u001b[0m -> 0.0 0.0 0.0 0.0 0.0 0.0 0.0 0.0 0.0 0.0\n",
      "\u001b[35m0\u001b[0m\n",
      "\t\u001b[35m0.0 0.0 0.0 0.0 0.0 0.0 0.0 0.0 0.0 0.0\u001b[0m\n",
      "\t\t('0.0014 0.0023 0.0029 0.0027 0.0036 0.0036 0.0042 0.0023 0.0029 0.0', 1, 0, 0.013)\n",
      "\u001b[35m10\u001b[0m\n",
      "\t\u001b[35m0.0014 0.0023 0.0029 0.0027 0.0036 0.0036 0.0042 0.0023 0.0029 0.0\u001b[0m\n",
      "\t\t('0.0015 0.0023 0.0029 0.0028 0.0036 0.0036 0.0042 0.0023 0.0029 0.0', 2, 0, 0.0131)\n",
      "\t\u001b[35m0.0 0.0 0.0 0.0 0.0 0.0 0.0 0.0 0.0 0.0\u001b[0m\n",
      "\t\t('0.0014 0.0023 0.0029 0.0027 0.0036 0.0036 0.0042 0.0023 0.0029 0.0', 1, 1, 0.013)\n",
      "\u001b[35m20\u001b[0m\n",
      "\t\u001b[35m0.0015 0.0023 0.0029 0.0028 0.0036 0.0036 0.0042 0.0023 0.0029 0.0\u001b[0m\n",
      "\t\t('0.0015 0.0023 0.0029 0.0028 0.0036 0.0036 0.0042 0.0023 0.0029 0.0', 3, 0, 0.0131)\n",
      "\t\u001b[35m0.0002 0.0015 0.0007 0.0052 0.0025 0.0005 0.0059 0.0014 0.0001 0.0\u001b[0m\n",
      "\t\t('0.0014 0.0021 0.0027 0.0029 0.0038 0.0038 0.0044 0.0019 0.0026 0.0', 2, 1, 0.0121)\n",
      "\t\u001b[35m0.0 0.0 0.0 0.0 0.0 0.0 0.0 0.0 0.0 0.0\u001b[0m\n",
      "\t\t('0.0014 0.0023 0.0029 0.0027 0.0036 0.0036 0.0042 0.0023 0.0029 0.0', 1, 2, 0.013)\n",
      "\u001b[35m30\u001b[0m\n",
      "\t\u001b[35m0.0006 0.0006 0.0029 0.005 0.0036 0.001 0.0049 0.0018 0.0051 0.0\u001b[0m\n",
      "\t\t('0.0014 0.0023 0.0029 0.0032 0.0041 0.0041 0.0047 0.0023 0.003 0.0', 2, 2, 0.012)\n",
      "\t\u001b[35m0.0022 0.002 0.0021 0.0005 0.0051 0.0053 0.007 0.0003 0.0031 0.0\u001b[0m\n",
      "\t\t('0.0014 0.0022 0.0029 0.0032 0.004 0.004 0.0046 0.0023 0.003 0.0', 3, 1, 0.0121)\n",
      "\t\u001b[35m0.0 0.0 0.0 0.0 0.0 0.0 0.0 0.0 0.0 0.0\u001b[0m\n",
      "\t\t('0.0014 0.0023 0.0029 0.0027 0.0036 0.0036 0.0042 0.0023 0.0029 0.0', 1, 3, 0.013)\n",
      "\u001b[35m40\u001b[0m\n",
      "\t\u001b[35m0.0009 0.0043 0.0057 0.0064 0.0048 0.004 0.0032 0.0039 0.0059 0.0\u001b[0m\n",
      "\t\t('0.0014 0.0022 0.0028 0.0028 0.0036 0.0036 0.0042 0.0023 0.0029 0.0', 3, 2, 0.0132)\n",
      "\t\u001b[35m0.0002 0.0001 0.0039 0.0049 0.0034 0.0007 0.006 0.0023 0.0023 0.0\u001b[0m\n",
      "\t\t('0.0013 0.0021 0.0027 0.0029 0.0037 0.0037 0.0043 0.0019 0.0025 0.0', 2, 3, 0.0123)\n",
      "\t\u001b[35m0.0 0.0 0.0 0.0 0.0 0.0 0.0 0.0 0.0 0.0\u001b[0m\n",
      "\t\t('0.0014 0.0023 0.0029 0.0027 0.0036 0.0036 0.0042 0.0023 0.0029 0.0', 1, 4, 0.013)\n",
      "\u001b[35m50\u001b[0m\n",
      "\t\u001b[35m0.0013 0.0011 0.0042 0.0003 0.0001 0.0073 0.0077 0.0037 0.003 0.0\u001b[0m\n",
      "\t\t('0.0013 0.0021 0.0027 0.0028 0.0036 0.0036 0.0042 0.0019 0.0025 0.0', 3, 3, 0.0128)\n",
      "\t\u001b[35m0.0015 0.0015 0.0006 0.0035 0.0018 0.0018 0.0077 0.0003 0.001 0.0\u001b[0m\n",
      "\t\t('0.0014 0.0023 0.0029 0.0027 0.0035 0.0035 0.0042 0.0023 0.0029 0.0', 2, 4, 0.0131)\n",
      "\u001b[35m60\u001b[0m\n",
      "\t\u001b[35m0.0017 0.0015 0.0033 0.0016 0.0038 0.0022 0.0059 0.0042 0.0022 0.0\u001b[0m\n",
      "\t\t('0.0014 0.0022 0.0028 0.003 0.0038 0.0038 0.0044 0.002 0.0026 0.0', 3, 4, 0.0123)\n",
      "\u001b[1m\u001b[33mT_curr : \u001b[0m 30\n",
      "\u001b[1m\u001b[33mD_curr : \u001b[0m 0.0015 0.0023 0.0029 0.0028 0.0036 0.0036 0.0042 0.0023 0.0029 0.0\n",
      "\u001b[1m\u001b[33mDprime : \u001b[0m 0.0014 0.0022 0.0028 0.003 0.0038 0.0038 0.0044 0.002 0.0026 0.0\n",
      "\u001b[1m\u001b[31mtotal execution time : \u001b[0m 0.0392\n",
      "\n",
      "\u001b[5m\u001b[7m\u001b[35m  || ANALYSIS || \n",
      "\u001b[0m\n",
      "[70] Generated RAND Dprime : 0.0004 0.0011 0.0006 0.0044 0.0003 0.0028 0.0054 0.0015 0.0039 0.0\n",
      "[60] Generated RAND Dprime : 0.002 0.0019 0.0034 0.0007 0.0029 0.0031 0.0036 0.0033 0.0011 0.0\n",
      "[50] Generated RAND Dprime : 0.0009 0.003 0.0028 0.0014 0.0009 0.0008 0.0003 0.0021 0.0001 0.0\n",
      "[40] Generated RAND Dprime : 0.0024 0.0005 0.0053 0.0017 0.0064 0.0058 0.0084 0.0007 0.004 0.0\n",
      "\u001b[34mTO EXPLORE : \u001b[0m\n",
      "\u001b[32m30\u001b[0m -> 0.0015 0.0023 0.0029 0.0028 0.0036 0.0036 0.0042 0.0023 0.0029 0.0\n",
      "\u001b[32m40\u001b[0m -> 0.0024 0.0005 0.0053 0.0017 0.0064 0.0058 0.0084 0.0007 0.004 0.0\n",
      "\u001b[32m50\u001b[0m -> 0.0009 0.003 0.0028 0.0014 0.0009 0.0008 0.0003 0.0021 0.0001 0.0\n",
      "\u001b[32m60\u001b[0m -> 0.002 0.0019 0.0034 0.0007 0.0029 0.0031 0.0036 0.0033 0.0011 0.0\n",
      "\u001b[32m70\u001b[0m -> 0.0004 0.0011 0.0006 0.0044 0.0003 0.0028 0.0054 0.0015 0.0039 0.0\n",
      "\u001b[32m50\u001b[0m -> 0.0 0.0 0.0 0.0 0.0 0.0 0.0 0.0 0.0 0.0\n",
      "\u001b[32m60\u001b[0m -> 0.0 0.0 0.0 0.0 0.0 0.0 0.0 0.0 0.0 0.0\n",
      "\u001b[32m70\u001b[0m -> 0.0 0.0 0.0 0.0 0.0 0.0 0.0 0.0 0.0 0.0\n",
      "\u001b[32m80\u001b[0m -> 0.0 0.0 0.0 0.0 0.0 0.0 0.0 0.0 0.0 0.0\n",
      "\u001b[32m90\u001b[0m -> 0.0 0.0 0.0 0.0 0.0 0.0 0.0 0.0 0.0 0.0\n",
      "\u001b[5m\u001b[7m\u001b[31m--------------------------------------------  ROUND :  4   --------------------------------------------\n",
      "\u001b[0m\n",
      "\u001b[5m\u001b[7m\u001b[32m  || LAUNCHING || \n",
      "\u001b[0m\n",
      "\u001b[34mTO EXPLORE : \u001b[0m\n",
      "\u001b[32m30\u001b[0m -> 0.0015 0.0023 0.0029 0.0028 0.0036 0.0036 0.0042 0.0023 0.0029 0.0\n",
      "\u001b[32m40\u001b[0m -> 0.0024 0.0005 0.0053 0.0017 0.0064 0.0058 0.0084 0.0007 0.004 0.0\n",
      "\u001b[32m50\u001b[0m -> 0.0009 0.003 0.0028 0.0014 0.0009 0.0008 0.0003 0.0021 0.0001 0.0\n",
      "\u001b[32m60\u001b[0m -> 0.002 0.0019 0.0034 0.0007 0.0029 0.0031 0.0036 0.0033 0.0011 0.0\n",
      "\u001b[32m70\u001b[0m -> 0.0004 0.0011 0.0006 0.0044 0.0003 0.0028 0.0054 0.0015 0.0039 0.0\n",
      "\u001b[32m50\u001b[0m -> 0.0 0.0 0.0 0.0 0.0 0.0 0.0 0.0 0.0 0.0\n",
      "\u001b[32m60\u001b[0m -> 0.0 0.0 0.0 0.0 0.0 0.0 0.0 0.0 0.0 0.0\n",
      "\u001b[32m70\u001b[0m -> 0.0 0.0 0.0 0.0 0.0 0.0 0.0 0.0 0.0 0.0\n",
      "\u001b[32m80\u001b[0m -> 0.0 0.0 0.0 0.0 0.0 0.0 0.0 0.0 0.0 0.0\n",
      "\u001b[32m90\u001b[0m -> 0.0 0.0 0.0 0.0 0.0 0.0 0.0 0.0 0.0 0.0\n",
      "grisou-44 => 0 NPROCS = 10 MIN = 30 MAX = 40 N = 100 DELAY = '0.0015 0.0023 0.0029 0.0028 0.0036 0.0036 0.0042 0.0023 0.0029 0.0'\n",
      "\n",
      "grisou-45 => 1 NPROCS = 10 MIN = 40 MAX = 50 N = 100 DELAY = '0.0024 0.0005 0.0053 0.0017 0.0064 0.0058 0.0084 0.0007 0.004 0.0'\n",
      "\n",
      "grisou-46 => 2 NPROCS = 10 MIN = 50 MAX = 60 N = 100 DELAY = '0.0009 0.003 0.0028 0.0014 0.0009 0.0008 0.0003 0.0021 0.0001 0.0'\n",
      "\n",
      "grisou-47 => 3 NPROCS = 10 MIN = 60 MAX = 70 N = 100 DELAY = '0.002 0.0019 0.0034 0.0007 0.0029 0.0031 0.0036 0.0033 0.0011 0.0'\n",
      "\n",
      "grisou-7 => 4 NPROCS = 10 MIN = 70 MAX = 80 N = 100 DELAY = '0.0004 0.0011 0.0006 0.0044 0.0003 0.0028 0.0054 0.0015 0.0039 0.0'\n",
      "\n"
     ]
    },
    {
     "data": {
      "text/plain": [
       "'data.frame':\t221 obs. of  7 variables:\n",
       " $ Rank    : num  0 0 0 0 0 0 0 0 0 0 ...\n",
       " $ Start   : num  0 0.000105 0.000105 0.000105 0.000105 ...\n",
       " $ End     : num  0.01731 0.00155 0.00164 0.00164 0.00167 ...\n",
       " $ Duration: num  0.01731 0.00145 0.00154 0.00154 0.00156 ...\n",
       " $ State   : Factor w/ 14 levels \"\",\"PMPI_Bcast\",..: 1 5 5 5 5 6 7 13 9 9 ...\n",
       " $ NA      : Factor w/ 11 levels \"\",\"rank-0\",\"rank-1\",..: 1 3 10 4 6 4 5 11 7 8 ...\n",
       " $ NA.1    : Factor w/ 91 levels \"\",\"0_1_-3334_27\",..: 1 3 10 7 9 14 21 82 39 44 ...\n"
      ]
     },
     "metadata": {},
     "output_type": "display_data"
    },
    {
     "data": {
      "image/png": "[encoded data removed]"
     },
     "metadata": {},
     "output_type": "display_data"
    },
    {
     "data": {
      "text/plain": [
       "'data.frame':\t221 obs. of  7 variables:\n",
       " $ Rank    : num  0 0 0 0 0 0 0 0 0 0 ...\n",
       " $ Start   : num  0 0.000168 0.000168 0.000168 0.000168 ...\n",
       " $ End     : num  0.01672 0.00133 0.00157 0.00166 0.0017 ...\n",
       " $ Duration: num  0.01672 0.00116 0.0014 0.00149 0.00153 ...\n",
       " $ State   : Factor w/ 14 levels \"\",\"PMPI_Bcast\",..: 1 5 5 5 5 13 6 7 9 9 ...\n",
       " $ NA      : Factor w/ 11 levels \"\",\"rank-0\",\"rank-1\",..: 1 3 10 4 6 11 4 5 7 8 ...\n",
       " $ NA.1    : Factor w/ 91 levels \"\",\"0_1_-3334_27\",..: 1 3 10 7 9 82 14 21 39 44 ...\n"
      ]
     },
     "metadata": {},
     "output_type": "display_data"
    },
    {
     "data": {
      "image/png": "[encoded data removed]"
     },
     "metadata": {},
     "output_type": "display_data"
    },
    {
     "data": {
      "text/plain": [
       "'data.frame':\t221 obs. of  7 variables:\n",
       " $ Rank    : num  0 0 0 0 0 0 0 0 0 0 ...\n",
       " $ Start   : num  0.0 6.3e-05 6.3e-05 6.3e-05 6.3e-05 ...\n",
       " $ End     : num  0.01665 0.00141 0.00141 0.00154 0.00155 ...\n",
       " $ Duration: num  0.01665 0.00135 0.00135 0.00148 0.00149 ...\n",
       " $ State   : Factor w/ 14 levels \"\",\"PMPI_Bcast\",..: 1 5 5 5 5 13 7 6 9 9 ...\n",
       " $ NA      : Factor w/ 11 levels \"\",\"rank-0\",\"rank-1\",..: 1 6 10 4 3 11 5 4 7 8 ...\n",
       " $ NA.1    : Factor w/ 91 levels \"\",\"0_1_-3334_27\",..: 1 9 10 7 3 80 24 11 42 45 ...\n"
      ]
     },
     "metadata": {},
     "output_type": "display_data"
    },
    {
     "data": {
      "image/png": "[encoded data removed]"
     },
     "metadata": {},
     "output_type": "display_data"
    },
    {
     "data": {
      "text/plain": [
       "'data.frame':\t221 obs. of  7 variables:\n",
       " $ Rank    : num  0 0 0 0 0 0 0 0 0 0 ...\n",
       " $ Start   : num  0 0.00014 0.00014 0.00014 0.00014 ...\n",
       " $ End     : num  0.01675 0.00155 0.00155 0.00161 0.00163 ...\n",
       " $ Duration: num  0.01675 0.00141 0.00141 0.00147 0.00149 ...\n",
       " $ State   : Factor w/ 14 levels \"\",\"PMPI_Bcast\",..: 1 5 5 5 5 13 6 7 9 9 ...\n",
       " $ NA      : Factor w/ 11 levels \"\",\"rank-0\",\"rank-1\",..: 1 3 10 6 4 11 4 5 7 8 ...\n",
       " $ NA.1    : Factor w/ 91 levels \"\",\"0_1_-3334_27\",..: 1 3 10 9 7 80 15 21 39 44 ...\n"
      ]
     },
     "metadata": {},
     "output_type": "display_data"
    },
    {
     "data": {
      "image/png": "[encoded data removed]"
     },
     "metadata": {},
     "output_type": "display_data"
    },
    {
     "data": {
      "text/plain": [
       "'data.frame':\t221 obs. of  7 variables:\n",
       " $ Rank    : num  0 0 0 0 0 0 0 0 0 0 ...\n",
       " $ Start   : num  0.0 2.8e-05 2.8e-05 2.8e-05 2.8e-05 ...\n",
       " $ End     : num  0.01666 0.00139 0.00142 0.00145 0.00154 ...\n",
       " $ Duration: num  0.01666 0.00136 0.00139 0.00143 0.00152 ...\n",
       " $ State   : Factor w/ 14 levels \"\",\"PMPI_Bcast\",..: 1 5 5 5 5 7 6 13 9 9 ...\n",
       " $ NA      : Factor w/ 11 levels \"\",\"rank-0\",\"rank-1\",..: 1 6 4 3 10 5 4 11 7 8 ...\n",
       " $ NA.1    : Factor w/ 91 levels \"\",\"0_1_-3334_28\",..: 1 9 7 3 10 23 11 78 41 45 ...\n"
      ]
     },
     "metadata": {},
     "output_type": "display_data"
    },
    {
     "data": {
      "image/png": "[encoded data removed]"
     },
     "metadata": {},
     "output_type": "display_data"
    },
    {
     "name": "stdout",
     "output_type": "stream",
     "text": [
      "\u001b[33mT_curr : \u001b[0m 30\n",
      "\u001b[33mD_curr : \u001b[0m 0.0015 0.0023 0.0029 0.0028 0.0036 0.0036 0.0042 0.0023 0.0029 0.0\n",
      "\u001b[33mDprime : \u001b[0m 0.0014 0.0023 0.003 0.0033 0.0041 0.0041 0.0048 0.0024 0.003 0.0\n",
      "\u001b[31mtotal execution time : \u001b[0m 0.0392\n",
      "\n",
      "\u001b[5m\u001b[7m\u001b[31m\n",
      "  || RESULTS || \n",
      "\u001b[0m\n",
      "\u001b[34mTO EXPLORE : \u001b[0m\n",
      "\u001b[32m50\u001b[0m -> 0.0 0.0 0.0 0.0 0.0 0.0 0.0 0.0 0.0 0.0\n",
      "\u001b[32m60\u001b[0m -> 0.0 0.0 0.0 0.0 0.0 0.0 0.0 0.0 0.0 0.0\n",
      "\u001b[32m70\u001b[0m -> 0.0 0.0 0.0 0.0 0.0 0.0 0.0 0.0 0.0 0.0\n",
      "\u001b[32m80\u001b[0m -> 0.0 0.0 0.0 0.0 0.0 0.0 0.0 0.0 0.0 0.0\n",
      "\u001b[32m90\u001b[0m -> 0.0 0.0 0.0 0.0 0.0 0.0 0.0 0.0 0.0 0.0\n",
      "\u001b[35m0\u001b[0m\n",
      "\t\u001b[35m0.0 0.0 0.0 0.0 0.0 0.0 0.0 0.0 0.0 0.0\u001b[0m\n",
      "\t\t('0.0014 0.0023 0.0029 0.0027 0.0036 0.0036 0.0042 0.0023 0.0029 0.0', 1, 0, 0.013)\n",
      "\u001b[35m10\u001b[0m\n",
      "\t\u001b[35m0.0014 0.0023 0.0029 0.0027 0.0036 0.0036 0.0042 0.0023 0.0029 0.0\u001b[0m\n",
      "\t\t('0.0015 0.0023 0.0029 0.0028 0.0036 0.0036 0.0042 0.0023 0.0029 0.0', 2, 0, 0.0131)\n",
      "\t\u001b[35m0.0 0.0 0.0 0.0 0.0 0.0 0.0 0.0 0.0 0.0\u001b[0m\n",
      "\t\t('0.0014 0.0023 0.0029 0.0027 0.0036 0.0036 0.0042 0.0023 0.0029 0.0', 1, 1, 0.013)\n",
      "\u001b[35m20\u001b[0m\n",
      "\t\u001b[35m0.0015 0.0023 0.0029 0.0028 0.0036 0.0036 0.0042 0.0023 0.0029 0.0\u001b[0m\n",
      "\t\t('0.0015 0.0023 0.0029 0.0028 0.0036 0.0036 0.0042 0.0023 0.0029 0.0', 3, 0, 0.0131)\n",
      "\t\u001b[35m0.0002 0.0015 0.0007 0.0052 0.0025 0.0005 0.0059 0.0014 0.0001 0.0\u001b[0m\n",
      "\t\t('0.0014 0.0021 0.0027 0.0029 0.0038 0.0038 0.0044 0.0019 0.0026 0.0', 2, 1, 0.0121)\n",
      "\t\u001b[35m0.0 0.0 0.0 0.0 0.0 0.0 0.0 0.0 0.0 0.0\u001b[0m\n",
      "\t\t('0.0014 0.0023 0.0029 0.0027 0.0036 0.0036 0.0042 0.0023 0.0029 0.0', 1, 2, 0.013)\n",
      "\u001b[35m30\u001b[0m\n",
      "\t\u001b[35m0.0006 0.0006 0.0029 0.005 0.0036 0.001 0.0049 0.0018 0.0051 0.0\u001b[0m\n",
      "\t\t('0.0014 0.0023 0.0029 0.0032 0.0041 0.0041 0.0047 0.0023 0.003 0.0', 2, 2, 0.012)\n",
      "\t\u001b[35m0.0022 0.002 0.0021 0.0005 0.0051 0.0053 0.007 0.0003 0.0031 0.0\u001b[0m\n",
      "\t\t('0.0014 0.0022 0.0029 0.0032 0.004 0.004 0.0046 0.0023 0.003 0.0', 3, 1, 0.0121)\n",
      "\t\u001b[35m0.0015 0.0023 0.0029 0.0028 0.0036 0.0036 0.0042 0.0023 0.0029 0.0\u001b[0m\n",
      "\t\t('0.0015 0.0023 0.0029 0.0028 0.0036 0.0036 0.0042 0.0023 0.0029 0.0', 4, 0, 0.0131)\n",
      "\t\u001b[35m0.0 0.0 0.0 0.0 0.0 0.0 0.0 0.0 0.0 0.0\u001b[0m\n",
      "\t\t('0.0014 0.0023 0.0029 0.0027 0.0036 0.0036 0.0042 0.0023 0.0029 0.0', 1, 3, 0.013)\n",
      "\u001b[35m40\u001b[0m\n",
      "\t\u001b[35m0.0009 0.0043 0.0057 0.0064 0.0048 0.004 0.0032 0.0039 0.0059 0.0\u001b[0m\n",
      "\t\t('0.0014 0.0022 0.0028 0.0028 0.0036 0.0036 0.0042 0.0023 0.0029 0.0', 3, 2, 0.0132)\n",
      "\t\u001b[35m0.0002 0.0001 0.0039 0.0049 0.0034 0.0007 0.006 0.0023 0.0023 0.0\u001b[0m\n",
      "\t\t('0.0013 0.0021 0.0027 0.0029 0.0037 0.0037 0.0043 0.0019 0.0025 0.0', 2, 3, 0.0123)\n",
      "\t\u001b[35m0.0024 0.0005 0.0053 0.0017 0.0064 0.0058 0.0084 0.0007 0.004 0.0\u001b[0m\n",
      "\t\t('0.0014 0.0021 0.0028 0.003 0.0038 0.0038 0.0044 0.002 0.0026 0.0', 4, 1, 0.0123)\n",
      "\t\u001b[35m0.0 0.0 0.0 0.0 0.0 0.0 0.0 0.0 0.0 0.0\u001b[0m\n",
      "\t\t('0.0014 0.0023 0.0029 0.0027 0.0036 0.0036 0.0042 0.0023 0.0029 0.0', 1, 4, 0.013)\n",
      "\u001b[35m50\u001b[0m\n",
      "\t\u001b[35m0.0013 0.0011 0.0042 0.0003 0.0001 0.0073 0.0077 0.0037 0.003 0.0\u001b[0m\n",
      "\t\t('0.0013 0.0021 0.0027 0.0028 0.0036 0.0036 0.0042 0.0019 0.0025 0.0', 3, 3, 0.0128)\n",
      "\t\u001b[35m0.0009 0.003 0.0028 0.0014 0.0009 0.0008 0.0003 0.0021 0.0001 0.0\u001b[0m\n",
      "\t\t('0.0013 0.0021 0.0027 0.0029 0.0037 0.0037 0.0043 0.0019 0.0025 0.0', 4, 2, 0.0123)\n",
      "\t\u001b[35m0.0015 0.0015 0.0006 0.0035 0.0018 0.0018 0.0077 0.0003 0.001 0.0\u001b[0m\n",
      "\t\t('0.0014 0.0023 0.0029 0.0027 0.0035 0.0035 0.0042 0.0023 0.0029 0.0', 2, 4, 0.0131)\n",
      "\u001b[35m60\u001b[0m\n",
      "\t\u001b[35m0.002 0.0019 0.0034 0.0007 0.0029 0.0031 0.0036 0.0033 0.0011 0.0\u001b[0m\n",
      "\t\t('0.0014 0.0021 0.0027 0.0029 0.0037 0.0037 0.0044 0.0019 0.0026 0.0', 4, 3, 0.0124)\n",
      "\t\u001b[35m0.0017 0.0015 0.0033 0.0016 0.0038 0.0022 0.0059 0.0042 0.0022 0.0\u001b[0m\n",
      "\t\t('0.0014 0.0022 0.0028 0.003 0.0038 0.0038 0.0044 0.002 0.0026 0.0', 3, 4, 0.0123)\n",
      "\u001b[35m70\u001b[0m\n",
      "\t\u001b[35m0.0004 0.0011 0.0006 0.0044 0.0003 0.0028 0.0054 0.0015 0.0039 0.0\u001b[0m\n",
      "\t\t('0.0014 0.0023 0.003 0.0033 0.0041 0.0041 0.0048 0.0024 0.003 0.0', 4, 4, 0.0119)\n",
      "\u001b[1m\u001b[33mT_curr : \u001b[0m 40\n",
      "\u001b[1m\u001b[33mD_curr : \u001b[0m 0.0015 0.0023 0.0029 0.0028 0.0036 0.0036 0.0042 0.0023 0.0029 0.0\n",
      "\u001b[1m\u001b[33mDprime : \u001b[0m 0.0014 0.0023 0.003 0.0033 0.0041 0.0041 0.0048 0.0024 0.003 0.0\n",
      "\u001b[1m\u001b[31mtotal execution time : \u001b[0m 0.0523\n",
      "\n",
      "\u001b[5m\u001b[7m\u001b[35m  || ANALYSIS || \n",
      "\u001b[0m\n",
      "[80] Generated RAND Dprime : 0.0027 0.0017 0.0035 0.0054 0.0037 0.0062 0.0093 0.0001 0.0034 0.0\n",
      "[70] Generated RAND Dprime : 0.0027 0.0041 0.004 0.001 0.0002 0.0037 0.0044 0.0022 0.0022 0.0\n",
      "[60] Generated RAND Dprime : 0.0008 0.0041 0.0021 0.0016 0.0008 0.0029 0.006 0.0011 0.0008 0.0\n",
      "[50] Generated RAND Dprime : 0.002 0.0003 0.004 0.0031 0.0067 0.0051 0.0012 0.0003 0.0007 0.0\n",
      "\u001b[34mTO EXPLORE : \u001b[0m\n",
      "\u001b[32m40\u001b[0m -> 0.0015 0.0023 0.0029 0.0028 0.0036 0.0036 0.0042 0.0023 0.0029 0.0\n",
      "\u001b[32m50\u001b[0m -> 0.002 0.0003 0.004 0.0031 0.0067 0.0051 0.0012 0.0003 0.0007 0.0\n",
      "\u001b[32m60\u001b[0m -> 0.0008 0.0041 0.0021 0.0016 0.0008 0.0029 0.006 0.0011 0.0008 0.0\n",
      "\u001b[32m70\u001b[0m -> 0.0027 0.0041 0.004 0.001 0.0002 0.0037 0.0044 0.0022 0.0022 0.0\n",
      "\u001b[32m80\u001b[0m -> 0.0027 0.0017 0.0035 0.0054 0.0037 0.0062 0.0093 0.0001 0.0034 0.0\n",
      "\u001b[32m50\u001b[0m -> 0.0 0.0 0.0 0.0 0.0 0.0 0.0 0.0 0.0 0.0\n",
      "\u001b[32m60\u001b[0m -> 0.0 0.0 0.0 0.0 0.0 0.0 0.0 0.0 0.0 0.0\n",
      "\u001b[32m70\u001b[0m -> 0.0 0.0 0.0 0.0 0.0 0.0 0.0 0.0 0.0 0.0\n",
      "\u001b[32m80\u001b[0m -> 0.0 0.0 0.0 0.0 0.0 0.0 0.0 0.0 0.0 0.0\n",
      "\u001b[32m90\u001b[0m -> 0.0 0.0 0.0 0.0 0.0 0.0 0.0 0.0 0.0 0.0\n",
      "\u001b[5m\u001b[7m\u001b[31m--------------------------------------------  ROUND :  5   --------------------------------------------\n",
      "\u001b[0m\n",
      "\u001b[5m\u001b[7m\u001b[32m  || LAUNCHING || \n",
      "\u001b[0m\n",
      "\u001b[34mTO EXPLORE : \u001b[0m\n",
      "\u001b[32m40\u001b[0m -> 0.0015 0.0023 0.0029 0.0028 0.0036 0.0036 0.0042 0.0023 0.0029 0.0\n",
      "\u001b[32m50\u001b[0m -> 0.002 0.0003 0.004 0.0031 0.0067 0.0051 0.0012 0.0003 0.0007 0.0\n",
      "\u001b[32m60\u001b[0m -> 0.0008 0.0041 0.0021 0.0016 0.0008 0.0029 0.006 0.0011 0.0008 0.0\n",
      "\u001b[32m70\u001b[0m -> 0.0027 0.0041 0.004 0.001 0.0002 0.0037 0.0044 0.0022 0.0022 0.0\n",
      "\u001b[32m80\u001b[0m -> 0.0027 0.0017 0.0035 0.0054 0.0037 0.0062 0.0093 0.0001 0.0034 0.0\n",
      "\u001b[32m50\u001b[0m -> 0.0 0.0 0.0 0.0 0.0 0.0 0.0 0.0 0.0 0.0\n",
      "\u001b[32m60\u001b[0m -> 0.0 0.0 0.0 0.0 0.0 0.0 0.0 0.0 0.0 0.0\n",
      "\u001b[32m70\u001b[0m -> 0.0 0.0 0.0 0.0 0.0 0.0 0.0 0.0 0.0 0.0\n",
      "\u001b[32m80\u001b[0m -> 0.0 0.0 0.0 0.0 0.0 0.0 0.0 0.0 0.0 0.0\n",
      "\u001b[32m90\u001b[0m -> 0.0 0.0 0.0 0.0 0.0 0.0 0.0 0.0 0.0 0.0\n",
      "grisou-44 => 0 NPROCS = 10 MIN = 40 MAX = 50 N = 100 DELAY = '0.0015 0.0023 0.0029 0.0028 0.0036 0.0036 0.0042 0.0023 0.0029 0.0'\n",
      "\n",
      "grisou-45 => 1 NPROCS = 10 MIN = 50 MAX = 60 N = 100 DELAY = '0.002 0.0003 0.004 0.0031 0.0067 0.0051 0.0012 0.0003 0.0007 0.0'\n",
      "\n",
      "grisou-46 => 2 NPROCS = 10 MIN = 60 MAX = 70 N = 100 DELAY = '0.0008 0.0041 0.0021 0.0016 0.0008 0.0029 0.006 0.0011 0.0008 0.0'\n",
      "\n",
      "grisou-47 => 3 NPROCS = 10 MIN = 70 MAX = 80 N = 100 DELAY = '0.0027 0.0041 0.004 0.001 0.0002 0.0037 0.0044 0.0022 0.0022 0.0'\n",
      "\n",
      "grisou-7 => 4 NPROCS = 10 MIN = 80 MAX = 90 N = 100 DELAY = '0.0027 0.0017 0.0035 0.0054 0.0037 0.0062 0.0093 0.0001 0.0034 0.0'\n",
      "\n"
     ]
    },
    {
     "data": {
      "text/plain": [
       "'data.frame':\t221 obs. of  7 variables:\n",
       " $ Rank    : num  0 0 0 0 0 0 0 0 0 0 ...\n",
       " $ Start   : num  0 0.000105 0.000105 0.000105 0.000105 ...\n",
       " $ End     : num  0.01731 0.00155 0.00164 0.00164 0.00167 ...\n",
       " $ Duration: num  0.01731 0.00145 0.00154 0.00154 0.00156 ...\n",
       " $ State   : Factor w/ 14 levels \"\",\"PMPI_Bcast\",..: 1 5 5 5 5 6 7 13 9 9 ...\n",
       " $ NA      : Factor w/ 11 levels \"\",\"rank-0\",\"rank-1\",..: 1 3 10 4 6 4 5 11 7 8 ...\n",
       " $ NA.1    : Factor w/ 91 levels \"\",\"0_1_-3334_27\",..: 1 3 10 7 9 14 21 82 39 44 ...\n"
      ]
     },
     "metadata": {},
     "output_type": "display_data"
    },
    {
     "data": {
      "image/png": "[encoded data removed]"
     },
     "metadata": {},
     "output_type": "display_data"
    },
    {
     "data": {
      "text/plain": [
       "'data.frame':\t221 obs. of  7 variables:\n",
       " $ Rank    : num  0 0 0 0 0 0 0 0 0 0 ...\n",
       " $ Start   : num  0 0.00014 0.00014 0.00014 0.00014 ...\n",
       " $ End     : num  0.0165 0.00142 0.00142 0.00156 0.00165 ...\n",
       " $ Duration: num  0.0165 0.00128 0.00128 0.00142 0.00151 ...\n",
       " $ State   : Factor w/ 14 levels \"\",\"PMPI_Bcast\",..: 1 5 5 5 5 13 6 7 9 9 ...\n",
       " $ NA      : Factor w/ 11 levels \"\",\"rank-0\",\"rank-1\",..: 1 3 10 4 6 11 4 5 7 8 ...\n",
       " $ NA.1    : Factor w/ 91 levels \"\",\"0_1_-3334_27\",..: 1 3 10 7 9 80 15 21 39 44 ...\n"
      ]
     },
     "metadata": {},
     "output_type": "display_data"
    },
    {
     "data": {
      "image/png": "[encoded data removed]"
     },
     "metadata": {},
     "output_type": "display_data"
    },
    {
     "data": {
      "text/plain": [
       "'data.frame':\t221 obs. of  7 variables:\n",
       " $ Rank    : num  0 0 0 0 0 0 0 0 0 0 ...\n",
       " $ Start   : num  0.0 5.6e-05 5.6e-05 5.6e-05 5.6e-05 ...\n",
       " $ End     : num  0.01665 0.0014 0.0014 0.0015 0.00156 ...\n",
       " $ Duration: num  0.01665 0.00135 0.00135 0.00144 0.00151 ...\n",
       " $ State   : Factor w/ 14 levels \"\",\"PMPI_Bcast\",..: 1 5 5 5 5 13 7 6 9 9 ...\n",
       " $ NA      : Factor w/ 11 levels \"\",\"rank-0\",\"rank-1\",..: 1 6 10 4 3 11 5 4 7 8 ...\n",
       " $ NA.1    : Factor w/ 91 levels \"\",\"0_1_-3334_27\",..: 1 9 10 7 3 80 24 11 42 45 ...\n"
      ]
     },
     "metadata": {},
     "output_type": "display_data"
    },
    {
     "data": {
      "image/png": "[encoded data removed]"
     },
     "metadata": {},
     "output_type": "display_data"
    },
    {
     "data": {
      "text/plain": [
       "'data.frame':\t221 obs. of  7 variables:\n",
       " $ Rank    : num  0 0 0 0 0 0 0 0 0 0 ...\n",
       " $ Start   : num  0 0.000189 0.000189 0.000189 0.000189 ...\n",
       " $ End     : num  0.01683 0.00158 0.00158 0.00167 0.00168 ...\n",
       " $ Duration: num  0.01683 0.00139 0.00139 0.00148 0.00149 ...\n",
       " $ State   : Factor w/ 14 levels \"\",\"PMPI_Bcast\",..: 1 5 5 5 5 13 7 6 9 9 ...\n",
       " $ NA      : Factor w/ 11 levels \"\",\"rank-0\",\"rank-1\",..: 1 6 10 4 3 11 5 4 7 8 ...\n",
       " $ NA.1    : Factor w/ 91 levels \"\",\"0_1_-3334_27\",..: 1 9 10 7 3 80 24 11 42 45 ...\n"
      ]
     },
     "metadata": {},
     "output_type": "display_data"
    },
    {
     "data": {
      "image/png": "[encoded data removed]"
     },
     "metadata": {},
     "output_type": "display_data"
    },
    {
     "data": {
      "text/plain": [
       "'data.frame':\t221 obs. of  7 variables:\n",
       " $ Rank    : num  0 0 0 0 0 0 0 0 0 0 ...\n",
       " $ Start   : num  0 0.000189 0.000189 0.000189 0.000189 ...\n",
       " $ End     : num  0.0172 0.00157 0.00168 0.00169 0.00169 ...\n",
       " $ Duration: num  0.0172 0.00138 0.00149 0.0015 0.0015 ...\n",
       " $ State   : Factor w/ 14 levels \"\",\"PMPI_Bcast\",..: 1 5 5 5 5 13 6 7 9 9 ...\n",
       " $ NA      : Factor w/ 11 levels \"\",\"rank-0\",\"rank-1\",..: 1 3 10 4 6 11 4 5 7 8 ...\n",
       " $ NA.1    : Factor w/ 91 levels \"\",\"0_1_-3334_27\",..: 1 3 10 7 9 82 14 21 39 44 ...\n"
      ]
     },
     "metadata": {},
     "output_type": "display_data"
    },
    {
     "data": {
      "image/png": "[encoded data removed]"
     },
     "metadata": {},
     "output_type": "display_data"
    },
    {
     "name": "stdout",
     "output_type": "stream",
     "text": [
      "\u001b[33mT_curr : \u001b[0m 40\n",
      "\u001b[33mD_curr : \u001b[0m 0.0015 0.0023 0.0029 0.0028 0.0036 0.0036 0.0042 0.0023 0.0029 0.0\n",
      "\u001b[33mDprime : \u001b[0m 0.0015 0.0023 0.0029 0.0027 0.0036 0.0036 0.0042 0.0022 0.0028 0.0\n",
      "\u001b[31mtotal execution time : \u001b[0m 0.0523\n",
      "\n",
      "\u001b[5m\u001b[7m\u001b[31m\n",
      "  || RESULTS || \n",
      "\u001b[0m\n",
      "\u001b[34mTO EXPLORE : \u001b[0m\n",
      "\u001b[32m50\u001b[0m -> 0.0 0.0 0.0 0.0 0.0 0.0 0.0 0.0 0.0 0.0\n",
      "\u001b[32m60\u001b[0m -> 0.0 0.0 0.0 0.0 0.0 0.0 0.0 0.0 0.0 0.0\n",
      "\u001b[32m70\u001b[0m -> 0.0 0.0 0.0 0.0 0.0 0.0 0.0 0.0 0.0 0.0\n",
      "\u001b[32m80\u001b[0m -> 0.0 0.0 0.0 0.0 0.0 0.0 0.0 0.0 0.0 0.0\n",
      "\u001b[32m90\u001b[0m -> 0.0 0.0 0.0 0.0 0.0 0.0 0.0 0.0 0.0 0.0\n",
      "\u001b[35m0\u001b[0m\n",
      "\t\u001b[35m0.0 0.0 0.0 0.0 0.0 0.0 0.0 0.0 0.0 0.0\u001b[0m\n",
      "\t\t('0.0014 0.0023 0.0029 0.0027 0.0036 0.0036 0.0042 0.0023 0.0029 0.0', 1, 0, 0.013)\n",
      "\u001b[35m10\u001b[0m\n",
      "\t\u001b[35m0.0014 0.0023 0.0029 0.0027 0.0036 0.0036 0.0042 0.0023 0.0029 0.0\u001b[0m\n",
      "\t\t('0.0015 0.0023 0.0029 0.0028 0.0036 0.0036 0.0042 0.0023 0.0029 0.0', 2, 0, 0.0131)\n",
      "\t\u001b[35m0.0 0.0 0.0 0.0 0.0 0.0 0.0 0.0 0.0 0.0\u001b[0m\n",
      "\t\t('0.0014 0.0023 0.0029 0.0027 0.0036 0.0036 0.0042 0.0023 0.0029 0.0', 1, 1, 0.013)\n",
      "\u001b[35m20\u001b[0m\n",
      "\t\u001b[35m0.0015 0.0023 0.0029 0.0028 0.0036 0.0036 0.0042 0.0023 0.0029 0.0\u001b[0m\n",
      "\t\t('0.0015 0.0023 0.0029 0.0028 0.0036 0.0036 0.0042 0.0023 0.0029 0.0', 3, 0, 0.0131)\n",
      "\t\u001b[35m0.0002 0.0015 0.0007 0.0052 0.0025 0.0005 0.0059 0.0014 0.0001 0.0\u001b[0m\n",
      "\t\t('0.0014 0.0021 0.0027 0.0029 0.0038 0.0038 0.0044 0.0019 0.0026 0.0', 2, 1, 0.0121)\n",
      "\t\u001b[35m0.0 0.0 0.0 0.0 0.0 0.0 0.0 0.0 0.0 0.0\u001b[0m\n",
      "\t\t('0.0014 0.0023 0.0029 0.0027 0.0036 0.0036 0.0042 0.0023 0.0029 0.0', 1, 2, 0.013)\n",
      "\u001b[35m30\u001b[0m\n",
      "\t\u001b[35m0.0006 0.0006 0.0029 0.005 0.0036 0.001 0.0049 0.0018 0.0051 0.0\u001b[0m\n",
      "\t\t('0.0014 0.0023 0.0029 0.0032 0.0041 0.0041 0.0047 0.0023 0.003 0.0', 2, 2, 0.012)\n",
      "\t\u001b[35m0.0022 0.002 0.0021 0.0005 0.0051 0.0053 0.007 0.0003 0.0031 0.0\u001b[0m\n",
      "\t\t('0.0014 0.0022 0.0029 0.0032 0.004 0.004 0.0046 0.0023 0.003 0.0', 3, 1, 0.0121)\n",
      "\t\u001b[35m0.0015 0.0023 0.0029 0.0028 0.0036 0.0036 0.0042 0.0023 0.0029 0.0\u001b[0m\n",
      "\t\t('0.0015 0.0023 0.0029 0.0028 0.0036 0.0036 0.0042 0.0023 0.0029 0.0', 4, 0, 0.0131)\n",
      "\t\u001b[35m0.0 0.0 0.0 0.0 0.0 0.0 0.0 0.0 0.0 0.0\u001b[0m\n",
      "\t\t('0.0014 0.0023 0.0029 0.0027 0.0036 0.0036 0.0042 0.0023 0.0029 0.0', 1, 3, 0.013)\n",
      "\u001b[35m40\u001b[0m\n",
      "\t\u001b[35m0.0015 0.0023 0.0029 0.0028 0.0036 0.0036 0.0042 0.0023 0.0029 0.0\u001b[0m\n",
      "\t\t('0.0015 0.0023 0.0029 0.0028 0.0036 0.0036 0.0042 0.0023 0.0029 0.0', 5, 0, 0.0131)\n",
      "\t\u001b[35m0.0009 0.0043 0.0057 0.0064 0.0048 0.004 0.0032 0.0039 0.0059 0.0\u001b[0m\n",
      "\t\t('0.0014 0.0022 0.0028 0.0028 0.0036 0.0036 0.0042 0.0023 0.0029 0.0', 3, 2, 0.0132)\n",
      "\t\u001b[35m0.0002 0.0001 0.0039 0.0049 0.0034 0.0007 0.006 0.0023 0.0023 0.0\u001b[0m\n",
      "\t\t('0.0013 0.0021 0.0027 0.0029 0.0037 0.0037 0.0043 0.0019 0.0025 0.0', 2, 3, 0.0123)\n",
      "\t\u001b[35m0.0024 0.0005 0.0053 0.0017 0.0064 0.0058 0.0084 0.0007 0.004 0.0\u001b[0m\n",
      "\t\t('0.0014 0.0021 0.0028 0.003 0.0038 0.0038 0.0044 0.002 0.0026 0.0', 4, 1, 0.0123)\n",
      "\t\u001b[35m0.0 0.0 0.0 0.0 0.0 0.0 0.0 0.0 0.0 0.0\u001b[0m\n",
      "\t\t('0.0014 0.0023 0.0029 0.0027 0.0036 0.0036 0.0042 0.0023 0.0029 0.0', 1, 4, 0.013)\n",
      "\u001b[35m50\u001b[0m\n",
      "\t\u001b[35m0.002 0.0003 0.004 0.0031 0.0067 0.0051 0.0012 0.0003 0.0007 0.0\u001b[0m\n",
      "\t\t('0.0014 0.0022 0.0028 0.003 0.0039 0.0039 0.0045 0.002 0.0026 0.0', 5, 1, 0.012)\n",
      "\t\u001b[35m0.0013 0.0011 0.0042 0.0003 0.0001 0.0073 0.0077 0.0037 0.003 0.0\u001b[0m\n",
      "\t\t('0.0013 0.0021 0.0027 0.0028 0.0036 0.0036 0.0042 0.0019 0.0025 0.0', 3, 3, 0.0128)\n",
      "\t\u001b[35m0.0009 0.003 0.0028 0.0014 0.0009 0.0008 0.0003 0.0021 0.0001 0.0\u001b[0m\n",
      "\t\t('0.0013 0.0021 0.0027 0.0029 0.0037 0.0037 0.0043 0.0019 0.0025 0.0', 4, 2, 0.0123)\n",
      "\t\u001b[35m0.0015 0.0015 0.0006 0.0035 0.0018 0.0018 0.0077 0.0003 0.001 0.0\u001b[0m\n",
      "\t\t('0.0014 0.0023 0.0029 0.0027 0.0035 0.0035 0.0042 0.0023 0.0029 0.0', 2, 4, 0.0131)\n",
      "\u001b[35m60\u001b[0m\n",
      "\t\u001b[35m0.002 0.0019 0.0034 0.0007 0.0029 0.0031 0.0036 0.0033 0.0011 0.0\u001b[0m\n",
      "\t\t('0.0014 0.0021 0.0027 0.0029 0.0037 0.0037 0.0044 0.0019 0.0026 0.0', 4, 3, 0.0124)\n",
      "\t\u001b[35m0.0017 0.0015 0.0033 0.0016 0.0038 0.0022 0.0059 0.0042 0.0022 0.0\u001b[0m\n",
      "\t\t('0.0014 0.0022 0.0028 0.003 0.0038 0.0038 0.0044 0.002 0.0026 0.0', 3, 4, 0.0123)\n",
      "\t\u001b[35m0.0008 0.0041 0.0021 0.0016 0.0008 0.0029 0.006 0.0011 0.0008 0.0\u001b[0m\n",
      "\t\t('0.0014 0.0021 0.0027 0.0029 0.0037 0.0037 0.0044 0.0019 0.0026 0.0', 5, 2, 0.0123)\n",
      "\u001b[35m70\u001b[0m\n",
      "\t\u001b[35m0.0004 0.0011 0.0006 0.0044 0.0003 0.0028 0.0054 0.0015 0.0039 0.0\u001b[0m\n",
      "\t\t('0.0014 0.0023 0.003 0.0033 0.0041 0.0041 0.0048 0.0024 0.003 0.0', 4, 4, 0.0119)\n",
      "\t\u001b[35m0.0027 0.0041 0.004 0.001 0.0002 0.0037 0.0044 0.0022 0.0022 0.0\u001b[0m\n",
      "\t\t('0.0013 0.0021 0.0027 0.0029 0.0037 0.0037 0.0043 0.0019 0.0025 0.0', 5, 3, 0.0125)\n",
      "\u001b[35m80\u001b[0m\n",
      "\t\u001b[35m0.0027 0.0017 0.0035 0.0054 0.0037 0.0062 0.0093 0.0001 0.0034 0.0\u001b[0m\n",
      "\t\t('0.0015 0.0023 0.0029 0.0027 0.0036 0.0036 0.0042 0.0022 0.0028 0.0', 5, 4, 0.013)\n",
      "\u001b[1m\u001b[33mT_curr : \u001b[0m 50\n",
      "\u001b[1m\u001b[33mD_curr : \u001b[0m 0.0015 0.0023 0.0029 0.0028 0.0036 0.0036 0.0042 0.0023 0.0029 0.0\n",
      "\u001b[1m\u001b[33mDprime : \u001b[0m 0.0015 0.0023 0.0029 0.0027 0.0036 0.0036 0.0042 0.0022 0.0028 0.0\n",
      "\u001b[1m\u001b[31mtotal execution time : \u001b[0m 0.0654\n",
      "\n",
      "\u001b[5m\u001b[7m\u001b[35m  || ANALYSIS || \n",
      "\u001b[0m\n",
      "[90] Generated RAND Dprime : 0.0011 0.0005 0.0058 0.0022 0.0007 0.0062 0.0066 0.0032 0.0006 0.0\n",
      "[80] Generated RAND Dprime : 0.0009 0.0017 0.0029 0.0029 0.004 0.0056 0.0003 0.0025 0.0049 0.0\n",
      "[70] Generated RAND Dprime : 0.0009 0.0002 0.0014 0.0055 0.0006 0.0068 0.0026 0.0036 0.0051 0.0\n",
      "[60] Generated RAND Dprime : 0.0008 0.0012 0.0013 0.0048 0.0058 0.0047 0.0066 0.0027 0.0027 0.0\n",
      "\u001b[34mTO EXPLORE : \u001b[0m\n",
      "\u001b[32m50\u001b[0m -> 0.0015 0.0023 0.0029 0.0028 0.0036 0.0036 0.0042 0.0023 0.0029 0.0\n",
      "\u001b[32m60\u001b[0m -> 0.0008 0.0012 0.0013 0.0048 0.0058 0.0047 0.0066 0.0027 0.0027 0.0\n",
      "\u001b[32m70\u001b[0m -> 0.0009 0.0002 0.0014 0.0055 0.0006 0.0068 0.0026 0.0036 0.0051 0.0\n",
      "\u001b[32m80\u001b[0m -> 0.0009 0.0017 0.0029 0.0029 0.004 0.0056 0.0003 0.0025 0.0049 0.0\n",
      "\u001b[32m90\u001b[0m -> 0.0011 0.0005 0.0058 0.0022 0.0007 0.0062 0.0066 0.0032 0.0006 0.0\n",
      "\u001b[32m60\u001b[0m -> 0.0 0.0 0.0 0.0 0.0 0.0 0.0 0.0 0.0 0.0\n",
      "\u001b[32m70\u001b[0m -> 0.0 0.0 0.0 0.0 0.0 0.0 0.0 0.0 0.0 0.0\n",
      "\u001b[32m80\u001b[0m -> 0.0 0.0 0.0 0.0 0.0 0.0 0.0 0.0 0.0 0.0\n",
      "\u001b[32m90\u001b[0m -> 0.0 0.0 0.0 0.0 0.0 0.0 0.0 0.0 0.0 0.0\n",
      "\u001b[5m\u001b[7m\u001b[31m--------------------------------------------  ROUND :  6   --------------------------------------------\n",
      "\u001b[0m\n",
      "\u001b[5m\u001b[7m\u001b[32m  || LAUNCHING || \n",
      "\u001b[0m\n",
      "\u001b[34mTO EXPLORE : \u001b[0m\n",
      "\u001b[32m50\u001b[0m -> 0.0015 0.0023 0.0029 0.0028 0.0036 0.0036 0.0042 0.0023 0.0029 0.0\n",
      "\u001b[32m60\u001b[0m -> 0.0008 0.0012 0.0013 0.0048 0.0058 0.0047 0.0066 0.0027 0.0027 0.0\n",
      "\u001b[32m70\u001b[0m -> 0.0009 0.0002 0.0014 0.0055 0.0006 0.0068 0.0026 0.0036 0.0051 0.0\n",
      "\u001b[32m80\u001b[0m -> 0.0009 0.0017 0.0029 0.0029 0.004 0.0056 0.0003 0.0025 0.0049 0.0\n",
      "\u001b[32m90\u001b[0m -> 0.0011 0.0005 0.0058 0.0022 0.0007 0.0062 0.0066 0.0032 0.0006 0.0\n",
      "\u001b[32m60\u001b[0m -> 0.0 0.0 0.0 0.0 0.0 0.0 0.0 0.0 0.0 0.0\n",
      "\u001b[32m70\u001b[0m -> 0.0 0.0 0.0 0.0 0.0 0.0 0.0 0.0 0.0 0.0\n",
      "\u001b[32m80\u001b[0m -> 0.0 0.0 0.0 0.0 0.0 0.0 0.0 0.0 0.0 0.0\n",
      "\u001b[32m90\u001b[0m -> 0.0 0.0 0.0 0.0 0.0 0.0 0.0 0.0 0.0 0.0\n",
      "grisou-44 => 0 NPROCS = 10 MIN = 50 MAX = 60 N = 100 DELAY = '0.0015 0.0023 0.0029 0.0028 0.0036 0.0036 0.0042 0.0023 0.0029 0.0'\n",
      "\n",
      "grisou-45 => 1 NPROCS = 10 MIN = 60 MAX = 70 N = 100 DELAY = '0.0008 0.0012 0.0013 0.0048 0.0058 0.0047 0.0066 0.0027 0.0027 0.0'\n",
      "\n",
      "grisou-46 => 2 NPROCS = 10 MIN = 70 MAX = 80 N = 100 DELAY = '0.0009 0.0002 0.0014 0.0055 0.0006 0.0068 0.0026 0.0036 0.0051 0.0'\n",
      "\n",
      "grisou-47 => 3 NPROCS = 10 MIN = 80 MAX = 90 N = 100 DELAY = '0.0009 0.0017 0.0029 0.0029 0.004 0.0056 0.0003 0.0025 0.0049 0.0'\n",
      "\n",
      "grisou-7 => 4 NPROCS = 10 MIN = 90 MAX = 100 N = 100 DELAY = '0.0011 0.0005 0.0058 0.0022 0.0007 0.0062 0.0066 0.0032 0.0006 0.0'\n",
      "\n"
     ]
    },
    {
     "data": {
      "text/plain": [
       "'data.frame':\t221 obs. of  7 variables:\n",
       " $ Rank    : num  0 0 0 0 0 0 0 0 0 0 ...\n",
       " $ Start   : num  0 0.000105 0.000105 0.000105 0.000105 ...\n",
       " $ End     : num  0.01731 0.00155 0.00164 0.00164 0.00167 ...\n",
       " $ Duration: num  0.01731 0.00145 0.00154 0.00154 0.00156 ...\n",
       " $ State   : Factor w/ 14 levels \"\",\"PMPI_Bcast\",..: 1 5 5 5 5 6 7 13 9 9 ...\n",
       " $ NA      : Factor w/ 11 levels \"\",\"rank-0\",\"rank-1\",..: 1 3 10 4 6 4 5 11 7 8 ...\n",
       " $ NA.1    : Factor w/ 91 levels \"\",\"0_1_-3334_27\",..: 1 3 10 7 9 14 21 82 39 44 ...\n"
      ]
     },
     "metadata": {},
     "output_type": "display_data"
    },
    {
     "data": {
      "image/png": "[encoded data removed]"
     },
     "metadata": {},
     "output_type": "display_data"
    },
    {
     "data": {
      "text/plain": [
       "'data.frame':\t221 obs. of  7 variables:\n",
       " $ Rank    : num  0 0 0 0 0 0 0 0 0 0 ...\n",
       " $ Start   : num  0.0 5.6e-05 5.6e-05 5.6e-05 5.6e-05 ...\n",
       " $ End     : num  0.0165 0.00139 0.0014 0.0015 0.0016 ...\n",
       " $ Duration: num  0.0165 0.00133 0.00135 0.00145 0.00154 ...\n",
       " $ State   : Factor w/ 14 levels \"\",\"PMPI_Bcast\",..: 1 5 5 5 5 6 7 13 9 9 ...\n",
       " $ NA      : Factor w/ 11 levels \"\",\"rank-0\",\"rank-1\",..: 1 3 4 10 6 4 5 11 7 8 ...\n",
       " $ NA.1    : Factor w/ 91 levels \"\",\"0_1_-3334_28\",..: 1 3 7 10 9 14 25 78 39 44 ...\n"
      ]
     },
     "metadata": {},
     "output_type": "display_data"
    },
    {
     "data": {
      "image/png": "[encoded data removed]"
     },
     "metadata": {},
     "output_type": "display_data"
    },
    {
     "data": {
      "text/plain": [
       "'data.frame':\t221 obs. of  7 variables:\n",
       " $ Rank    : num  0 0 0 0 0 0 0 0 0 0 ...\n",
       " $ Start   : num  0.0 6.3e-05 6.3e-05 6.3e-05 6.3e-05 ...\n",
       " $ End     : num  0.01672 0.00143 0.00143 0.00146 0.00158 ...\n",
       " $ Duration: num  0.01672 0.00137 0.00137 0.0014 0.00152 ...\n",
       " $ State   : Factor w/ 14 levels \"\",\"PMPI_Bcast\",..: 1 5 5 5 5 6 7 13 9 9 ...\n",
       " $ NA      : Factor w/ 11 levels \"\",\"rank-0\",\"rank-1\",..: 1 3 6 4 10 4 5 11 7 8 ...\n",
       " $ NA.1    : Factor w/ 91 levels \"\",\"0_1_-3334_28\",..: 1 3 9 7 10 11 21 78 42 45 ...\n"
      ]
     },
     "metadata": {},
     "output_type": "display_data"
    },
    {
     "data": {
      "image/png": "[encoded data removed]"
     },
     "metadata": {},
     "output_type": "display_data"
    },
    {
     "data": {
      "text/plain": [
       "'data.frame':\t221 obs. of  7 variables:\n",
       " $ Rank    : num  0 0 0 0 0 0 0 0 0 0 ...\n",
       " $ Start   : num  0.0 6.3e-05 6.3e-05 6.3e-05 6.3e-05 ...\n",
       " $ End     : num  0.01671 0.00135 0.00153 0.00161 0.00164 ...\n",
       " $ Duration: num  0.01671 0.00129 0.00147 0.00154 0.00158 ...\n",
       " $ State   : Factor w/ 14 levels \"\",\"PMPI_Bcast\",..: 1 5 5 5 5 6 7 13 9 9 ...\n",
       " $ NA      : Factor w/ 11 levels \"\",\"rank-0\",\"rank-1\",..: 1 3 4 6 10 4 5 11 7 8 ...\n",
       " $ NA.1    : Factor w/ 91 levels \"\",\"0_1_-3334_28\",..: 1 3 7 9 10 14 25 78 39 44 ...\n"
      ]
     },
     "metadata": {},
     "output_type": "display_data"
    },
    {
     "data": {
      "image/png": "[encoded data removed]"
     },
     "metadata": {},
     "output_type": "display_data"
    },
    {
     "data": {
      "text/plain": [
       "'data.frame':\t221 obs. of  7 variables:\n",
       " $ Rank    : num  0 0 0 0 0 0 0 0 0 0 ...\n",
       " $ Start   : num  0.0 7.7e-05 7.7e-05 7.7e-05 7.7e-05 ...\n",
       " $ End     : num  0.01669 0.00145 0.00145 0.00145 0.00161 ...\n",
       " $ Duration: num  0.01669 0.00138 0.00138 0.00138 0.00153 ...\n",
       " $ State   : Factor w/ 14 levels \"\",\"PMPI_Bcast\",..: 1 5 5 5 5 13 6 7 9 9 ...\n",
       " $ NA      : Factor w/ 11 levels \"\",\"rank-0\",\"rank-1\",..: 1 3 6 10 4 11 4 5 7 8 ...\n",
       " $ NA.1    : Factor w/ 91 levels \"\",\"0_1_-3334_27\",..: 1 3 9 10 7 81 11 21 43 45 ...\n"
      ]
     },
     "metadata": {},
     "output_type": "display_data"
    },
    {
     "data": {
      "image/png": "[encoded data removed]"
     },
     "metadata": {},
     "output_type": "display_data"
    },
    {
     "name": "stdout",
     "output_type": "stream",
     "text": [
      "\u001b[33mT_curr : \u001b[0m 50\n",
      "\u001b[33mD_curr : \u001b[0m 0.0015 0.0023 0.0029 0.0028 0.0036 0.0036 0.0042 0.0023 0.0029 0.0\n",
      "\u001b[33mDprime : \u001b[0m 0.0014 0.0021 0.0028 0.0029 0.0038 0.0038 0.0044 0.002 0.0026 0.0\n",
      "\u001b[31mtotal execution time : \u001b[0m 0.0654\n",
      "\n",
      "\u001b[5m\u001b[7m\u001b[31m\n",
      "  || RESULTS || \n",
      "\u001b[0m\n",
      "\u001b[34mTO EXPLORE : \u001b[0m\n",
      "\u001b[32m60\u001b[0m -> 0.0 0.0 0.0 0.0 0.0 0.0 0.0 0.0 0.0 0.0\n",
      "\u001b[32m70\u001b[0m -> 0.0 0.0 0.0 0.0 0.0 0.0 0.0 0.0 0.0 0.0\n",
      "\u001b[32m80\u001b[0m -> 0.0 0.0 0.0 0.0 0.0 0.0 0.0 0.0 0.0 0.0\n",
      "\u001b[32m90\u001b[0m -> 0.0 0.0 0.0 0.0 0.0 0.0 0.0 0.0 0.0 0.0\n",
      "\u001b[35m0\u001b[0m\n",
      "\t\u001b[35m0.0 0.0 0.0 0.0 0.0 0.0 0.0 0.0 0.0 0.0\u001b[0m\n",
      "\t\t('0.0014 0.0023 0.0029 0.0027 0.0036 0.0036 0.0042 0.0023 0.0029 0.0', 1, 0, 0.013)\n",
      "\u001b[35m10\u001b[0m\n",
      "\t\u001b[35m0.0014 0.0023 0.0029 0.0027 0.0036 0.0036 0.0042 0.0023 0.0029 0.0\u001b[0m\n",
      "\t\t('0.0015 0.0023 0.0029 0.0028 0.0036 0.0036 0.0042 0.0023 0.0029 0.0', 2, 0, 0.0131)\n",
      "\t\u001b[35m0.0 0.0 0.0 0.0 0.0 0.0 0.0 0.0 0.0 0.0\u001b[0m\n",
      "\t\t('0.0014 0.0023 0.0029 0.0027 0.0036 0.0036 0.0042 0.0023 0.0029 0.0', 1, 1, 0.013)\n",
      "\u001b[35m20\u001b[0m\n",
      "\t\u001b[35m0.0015 0.0023 0.0029 0.0028 0.0036 0.0036 0.0042 0.0023 0.0029 0.0\u001b[0m\n",
      "\t\t('0.0015 0.0023 0.0029 0.0028 0.0036 0.0036 0.0042 0.0023 0.0029 0.0', 3, 0, 0.0131)\n",
      "\t\u001b[35m0.0002 0.0015 0.0007 0.0052 0.0025 0.0005 0.0059 0.0014 0.0001 0.0\u001b[0m\n",
      "\t\t('0.0014 0.0021 0.0027 0.0029 0.0038 0.0038 0.0044 0.0019 0.0026 0.0', 2, 1, 0.0121)\n",
      "\t\u001b[35m0.0 0.0 0.0 0.0 0.0 0.0 0.0 0.0 0.0 0.0\u001b[0m\n",
      "\t\t('0.0014 0.0023 0.0029 0.0027 0.0036 0.0036 0.0042 0.0023 0.0029 0.0', 1, 2, 0.013)\n",
      "\u001b[35m30\u001b[0m\n",
      "\t\u001b[35m0.0006 0.0006 0.0029 0.005 0.0036 0.001 0.0049 0.0018 0.0051 0.0\u001b[0m\n",
      "\t\t('0.0014 0.0023 0.0029 0.0032 0.0041 0.0041 0.0047 0.0023 0.003 0.0', 2, 2, 0.012)\n",
      "\t\u001b[35m0.0022 0.002 0.0021 0.0005 0.0051 0.0053 0.007 0.0003 0.0031 0.0\u001b[0m\n",
      "\t\t('0.0014 0.0022 0.0029 0.0032 0.004 0.004 0.0046 0.0023 0.003 0.0', 3, 1, 0.0121)\n",
      "\t\u001b[35m0.0015 0.0023 0.0029 0.0028 0.0036 0.0036 0.0042 0.0023 0.0029 0.0\u001b[0m\n",
      "\t\t('0.0015 0.0023 0.0029 0.0028 0.0036 0.0036 0.0042 0.0023 0.0029 0.0', 4, 0, 0.0131)\n",
      "\t\u001b[35m0.0 0.0 0.0 0.0 0.0 0.0 0.0 0.0 0.0 0.0\u001b[0m\n",
      "\t\t('0.0014 0.0023 0.0029 0.0027 0.0036 0.0036 0.0042 0.0023 0.0029 0.0', 1, 3, 0.013)\n",
      "\u001b[35m40\u001b[0m\n",
      "\t\u001b[35m0.0015 0.0023 0.0029 0.0028 0.0036 0.0036 0.0042 0.0023 0.0029 0.0\u001b[0m\n",
      "\t\t('0.0015 0.0023 0.0029 0.0028 0.0036 0.0036 0.0042 0.0023 0.0029 0.0', 5, 0, 0.0131)\n",
      "\t\u001b[35m0.0009 0.0043 0.0057 0.0064 0.0048 0.004 0.0032 0.0039 0.0059 0.0\u001b[0m\n",
      "\t\t('0.0014 0.0022 0.0028 0.0028 0.0036 0.0036 0.0042 0.0023 0.0029 0.0', 3, 2, 0.0132)\n",
      "\t\u001b[35m0.0002 0.0001 0.0039 0.0049 0.0034 0.0007 0.006 0.0023 0.0023 0.0\u001b[0m\n",
      "\t\t('0.0013 0.0021 0.0027 0.0029 0.0037 0.0037 0.0043 0.0019 0.0025 0.0', 2, 3, 0.0123)\n",
      "\t\u001b[35m0.0024 0.0005 0.0053 0.0017 0.0064 0.0058 0.0084 0.0007 0.004 0.0\u001b[0m\n",
      "\t\t('0.0014 0.0021 0.0028 0.003 0.0038 0.0038 0.0044 0.002 0.0026 0.0', 4, 1, 0.0123)\n",
      "\t\u001b[35m0.0 0.0 0.0 0.0 0.0 0.0 0.0 0.0 0.0 0.0\u001b[0m\n",
      "\t\t('0.0014 0.0023 0.0029 0.0027 0.0036 0.0036 0.0042 0.0023 0.0029 0.0', 1, 4, 0.013)\n",
      "\u001b[35m50\u001b[0m\n",
      "\t\u001b[35m0.002 0.0003 0.004 0.0031 0.0067 0.0051 0.0012 0.0003 0.0007 0.0\u001b[0m\n",
      "\t\t('0.0014 0.0022 0.0028 0.003 0.0039 0.0039 0.0045 0.002 0.0026 0.0', 5, 1, 0.012)\n",
      "\t\u001b[35m0.0015 0.0023 0.0029 0.0028 0.0036 0.0036 0.0042 0.0023 0.0029 0.0\u001b[0m\n",
      "\t\t('0.0015 0.0023 0.0029 0.0028 0.0036 0.0036 0.0042 0.0023 0.0029 0.0', 6, 0, 0.0131)\n",
      "\t\u001b[35m0.0013 0.0011 0.0042 0.0003 0.0001 0.0073 0.0077 0.0037 0.003 0.0\u001b[0m\n",
      "\t\t('0.0013 0.0021 0.0027 0.0028 0.0036 0.0036 0.0042 0.0019 0.0025 0.0', 3, 3, 0.0128)\n",
      "\t\u001b[35m0.0009 0.003 0.0028 0.0014 0.0009 0.0008 0.0003 0.0021 0.0001 0.0\u001b[0m\n",
      "\t\t('0.0013 0.0021 0.0027 0.0029 0.0037 0.0037 0.0043 0.0019 0.0025 0.0', 4, 2, 0.0123)\n",
      "\t\u001b[35m0.0015 0.0015 0.0006 0.0035 0.0018 0.0018 0.0077 0.0003 0.001 0.0\u001b[0m\n",
      "\t\t('0.0014 0.0023 0.0029 0.0027 0.0035 0.0035 0.0042 0.0023 0.0029 0.0', 2, 4, 0.0131)\n",
      "\u001b[35m60\u001b[0m\n",
      "\t\u001b[35m0.002 0.0019 0.0034 0.0007 0.0029 0.0031 0.0036 0.0033 0.0011 0.0\u001b[0m\n",
      "\t\t('0.0014 0.0021 0.0027 0.0029 0.0037 0.0037 0.0044 0.0019 0.0026 0.0', 4, 3, 0.0124)\n",
      "\t\u001b[35m0.0008 0.0012 0.0013 0.0048 0.0058 0.0047 0.0066 0.0027 0.0027 0.0\u001b[0m\n",
      "\t\t('0.0014 0.0023 0.003 0.0033 0.0041 0.0041 0.0047 0.0024 0.003 0.0', 6, 1, 0.0118)\n",
      "\t\u001b[35m0.0017 0.0015 0.0033 0.0016 0.0038 0.0022 0.0059 0.0042 0.0022 0.0\u001b[0m\n",
      "\t\t('0.0014 0.0022 0.0028 0.003 0.0038 0.0038 0.0044 0.002 0.0026 0.0', 3, 4, 0.0123)\n",
      "\t\u001b[35m0.0008 0.0041 0.0021 0.0016 0.0008 0.0029 0.006 0.0011 0.0008 0.0\u001b[0m\n",
      "\t\t('0.0014 0.0021 0.0027 0.0029 0.0037 0.0037 0.0044 0.0019 0.0026 0.0', 5, 2, 0.0123)\n",
      "\u001b[35m70\u001b[0m\n",
      "\t\u001b[35m0.0004 0.0011 0.0006 0.0044 0.0003 0.0028 0.0054 0.0015 0.0039 0.0\u001b[0m\n",
      "\t\t('0.0014 0.0023 0.003 0.0033 0.0041 0.0041 0.0048 0.0024 0.003 0.0', 4, 4, 0.0119)\n",
      "\t\u001b[35m0.0009 0.0002 0.0014 0.0055 0.0006 0.0068 0.0026 0.0036 0.0051 0.0\u001b[0m\n",
      "\t\t('0.0015 0.0024 0.0031 0.0034 0.0042 0.0042 0.0048 0.0024 0.0031 0.0', 6, 2, 0.0119)\n",
      "\t\u001b[35m0.0027 0.0041 0.004 0.001 0.0002 0.0037 0.0044 0.0022 0.0022 0.0\u001b[0m\n",
      "\t\t('0.0013 0.0021 0.0027 0.0029 0.0037 0.0037 0.0043 0.0019 0.0025 0.0', 5, 3, 0.0125)\n",
      "\u001b[35m80\u001b[0m\n",
      "\t\u001b[35m0.0027 0.0017 0.0035 0.0054 0.0037 0.0062 0.0093 0.0001 0.0034 0.0\u001b[0m\n",
      "\t\t('0.0015 0.0023 0.0029 0.0027 0.0036 0.0036 0.0042 0.0022 0.0028 0.0', 5, 4, 0.013)\n",
      "\t\u001b[35m0.0009 0.0017 0.0029 0.0029 0.004 0.0056 0.0003 0.0025 0.0049 0.0\u001b[0m\n",
      "\t\t('0.0014 0.0023 0.003 0.0033 0.0041 0.0041 0.0047 0.0024 0.003 0.0', 6, 3, 0.012)\n",
      "\u001b[35m90\u001b[0m\n",
      "\t\u001b[35m0.0011 0.0005 0.0058 0.0022 0.0007 0.0062 0.0066 0.0032 0.0006 0.0\u001b[0m\n",
      "\t\t('0.0014 0.0021 0.0028 0.0029 0.0038 0.0038 0.0044 0.002 0.0026 0.0', 6, 4, 0.0123)\n",
      "\u001b[1m\u001b[33mT_curr : \u001b[0m 60\n",
      "\u001b[1m\u001b[33mD_curr : \u001b[0m 0.0015 0.0023 0.0029 0.0028 0.0036 0.0036 0.0042 0.0023 0.0029 0.0\n",
      "\u001b[1m\u001b[33mDprime : \u001b[0m 0.0014 0.0021 0.0028 0.0029 0.0038 0.0038 0.0044 0.002 0.0026 0.0\n",
      "\u001b[1m\u001b[31mtotal execution time : \u001b[0m 0.0785\n",
      "\n",
      "\u001b[5m\u001b[7m\u001b[35m  || ANALYSIS || \n",
      "\u001b[0m\n",
      "[90] Generated RAND Dprime : 0.0018 0.0 0.0039 0.0008 0.0011 0.002 0.0031 0.0025 0.003 0.0\n",
      "[80] Generated RAND Dprime : 0.001 0.0028 0.0031 0.0012 0.0084 0.0075 0.0011 0.0047 0.004 0.0\n",
      "[70] Generated RAND Dprime : 0.0016 0.0014 0.0046 0.0001 0.0014 0.0027 0.0084 0.0035 0.0035 0.0\n",
      "\u001b[34mTO EXPLORE : \u001b[0m\n",
      "\u001b[32m60\u001b[0m -> 0.0015 0.0023 0.0029 0.0028 0.0036 0.0036 0.0042 0.0023 0.0029 0.0\n",
      "\u001b[32m70\u001b[0m -> 0.0016 0.0014 0.0046 0.0001 0.0014 0.0027 0.0084 0.0035 0.0035 0.0\n",
      "\u001b[32m80\u001b[0m -> 0.001 0.0028 0.0031 0.0012 0.0084 0.0075 0.0011 0.0047 0.004 0.0\n",
      "\u001b[32m90\u001b[0m -> 0.0018 0.0 0.0039 0.0008 0.0011 0.002 0.0031 0.0025 0.003 0.0\n",
      "\u001b[32m70\u001b[0m -> 0.0 0.0 0.0 0.0 0.0 0.0 0.0 0.0 0.0 0.0\n",
      "\u001b[32m80\u001b[0m -> 0.0 0.0 0.0 0.0 0.0 0.0 0.0 0.0 0.0 0.0\n",
      "\u001b[32m90\u001b[0m -> 0.0 0.0 0.0 0.0 0.0 0.0 0.0 0.0 0.0 0.0\n",
      "\u001b[5m\u001b[7m\u001b[31m--------------------------------------------  ROUND :  7   --------------------------------------------\n",
      "\u001b[0m\n",
      "\u001b[5m\u001b[7m\u001b[32m  || LAUNCHING || \n",
      "\u001b[0m\n",
      "\u001b[34mTO EXPLORE : \u001b[0m\n",
      "\u001b[32m60\u001b[0m -> 0.0015 0.0023 0.0029 0.0028 0.0036 0.0036 0.0042 0.0023 0.0029 0.0\n",
      "\u001b[32m70\u001b[0m -> 0.0016 0.0014 0.0046 0.0001 0.0014 0.0027 0.0084 0.0035 0.0035 0.0\n",
      "\u001b[32m80\u001b[0m -> 0.001 0.0028 0.0031 0.0012 0.0084 0.0075 0.0011 0.0047 0.004 0.0\n",
      "\u001b[32m90\u001b[0m -> 0.0018 0.0 0.0039 0.0008 0.0011 0.002 0.0031 0.0025 0.003 0.0\n",
      "\u001b[32m70\u001b[0m -> 0.0 0.0 0.0 0.0 0.0 0.0 0.0 0.0 0.0 0.0\n",
      "\u001b[32m80\u001b[0m -> 0.0 0.0 0.0 0.0 0.0 0.0 0.0 0.0 0.0 0.0\n",
      "\u001b[32m90\u001b[0m -> 0.0 0.0 0.0 0.0 0.0 0.0 0.0 0.0 0.0 0.0\n",
      "grisou-44 => 0 NPROCS = 10 MIN = 60 MAX = 70 N = 100 DELAY = '0.0015 0.0023 0.0029 0.0028 0.0036 0.0036 0.0042 0.0023 0.0029 0.0'\n",
      "\n",
      "grisou-45 => 1 NPROCS = 10 MIN = 70 MAX = 80 N = 100 DELAY = '0.0016 0.0014 0.0046 0.0001 0.0014 0.0027 0.0084 0.0035 0.0035 0.0'\n",
      "\n",
      "grisou-46 => 2 NPROCS = 10 MIN = 80 MAX = 90 N = 100 DELAY = '0.001 0.0028 0.0031 0.0012 0.0084 0.0075 0.0011 0.0047 0.004 0.0'\n",
      "\n",
      "grisou-47 => 3 NPROCS = 10 MIN = 90 MAX = 100 N = 100 DELAY = '0.0018 0.0 0.0039 0.0008 0.0011 0.002 0.0031 0.0025 0.003 0.0'\n",
      "\n",
      "grisou-7 => 4 NPROCS = 10 MIN = 70 MAX = 80 N = 100 DELAY = '0.0 0.0 0.0 0.0 0.0 0.0 0.0 0.0 0.0 0.0'\n",
      "\n"
     ]
    },
    {
     "data": {
      "text/plain": [
       "'data.frame':\t221 obs. of  7 variables:\n",
       " $ Rank    : num  0 0 0 0 0 0 0 0 0 0 ...\n",
       " $ Start   : num  0 0.000105 0.000105 0.000105 0.000105 ...\n",
       " $ End     : num  0.01731 0.00155 0.00164 0.00164 0.00167 ...\n",
       " $ Duration: num  0.01731 0.00145 0.00154 0.00154 0.00156 ...\n",
       " $ State   : Factor w/ 14 levels \"\",\"PMPI_Bcast\",..: 1 5 5 5 5 6 7 13 9 9 ...\n",
       " $ NA      : Factor w/ 11 levels \"\",\"rank-0\",\"rank-1\",..: 1 3 10 4 6 4 5 11 7 8 ...\n",
       " $ NA.1    : Factor w/ 91 levels \"\",\"0_1_-3334_27\",..: 1 3 10 7 9 14 21 82 39 44 ...\n"
      ]
     },
     "metadata": {},
     "output_type": "display_data"
    },
    {
     "data": {
      "image/png": "[encoded data removed]"
     },
     "metadata": {},
     "output_type": "display_data"
    }
   ],
   "source": [
    "# Nbr pcs\n",
    "NPROCS = 10\n",
    "    \n",
    "# Nbr itérations\n",
    "N = 100\n",
    "\n",
    "# taille paquet d'itérations\n",
    "fragment_size = 10\n",
    "\n",
    "precision = 4\n",
    "\n",
    "# mode de génération de l'état initial à chaque round\n",
    "mode_opt = [\"FIX\",\"RAND\",\"RAND_INF\",\"RAND_SUP\"]\n",
    "mode = mode_opt[1]\n",
    "\n",
    "catch_me = False\n",
    "\n",
    "\n",
    "\n",
    "# Lancement de la simulation\n",
    "simulation(N,NPROCS,fragment_size,precision,mode,catch_me)"
   ]
  },
  {
   "cell_type": "code",
   "execution_count": 26,
   "metadata": {
    "scrolled": true
   },
   "outputs": [
    {
     "data": {
      "image/png": "[encoded data removed]"
     },
     "metadata": {},
     "output_type": "display_data"
    },
    {
     "ename": "TypeError",
     "evalue": "'rpy2.rinterface.RNULLType' object is not iterable",
     "output_type": "error",
     "traceback": [
      "\u001b[0;31m---------------------------------------------------------------------------\u001b[0m",
      "\u001b[0;31mTypeError\u001b[0m                                 Traceback (most recent call last)",
      "\u001b[0;32m~/.local/lib/python3.5/site-packages/IPython/core/formatters.py\u001b[0m in \u001b[0;36m__call__\u001b[0;34m(self, obj)\u001b[0m\n\u001b[1;32m    343\u001b[0m             \u001b[0mmethod\u001b[0m \u001b[0;34m=\u001b[0m \u001b[0mget_real_method\u001b[0m\u001b[0;34m(\u001b[0m\u001b[0mobj\u001b[0m\u001b[0;34m,\u001b[0m \u001b[0mself\u001b[0m\u001b[0;34m.\u001b[0m\u001b[0mprint_method\u001b[0m\u001b[0;34m)\u001b[0m\u001b[0;34m\u001b[0m\u001b[0m\n\u001b[1;32m    344\u001b[0m             \u001b[0;32mif\u001b[0m \u001b[0mmethod\u001b[0m \u001b[0;32mis\u001b[0m \u001b[0;32mnot\u001b[0m \u001b[0;32mNone\u001b[0m\u001b[0;34m:\u001b[0m\u001b[0;34m\u001b[0m\u001b[0m\n\u001b[0;32m--> 345\u001b[0;31m                 \u001b[0;32mreturn\u001b[0m \u001b[0mmethod\u001b[0m\u001b[0;34m(\u001b[0m\u001b[0;34m)\u001b[0m\u001b[0;34m\u001b[0m\u001b[0m\n\u001b[0m\u001b[1;32m    346\u001b[0m             \u001b[0;32mreturn\u001b[0m \u001b[0;32mNone\u001b[0m\u001b[0;34m\u001b[0m\u001b[0m\n\u001b[1;32m    347\u001b[0m         \u001b[0;32melse\u001b[0m\u001b[0;34m:\u001b[0m\u001b[0;34m\u001b[0m\u001b[0m\n",
      "\u001b[0;32m~/.local/lib/python3.5/site-packages/rpy2/robjects/vectors.py\u001b[0m in \u001b[0;36m_repr_html_\u001b[0;34m(self, max_items)\u001b[0m\n\u001b[1;32m    681\u001b[0m         \u001b[0;32mfor\u001b[0m \u001b[0me\u001b[0m \u001b[0;32min\u001b[0m \u001b[0mself\u001b[0m\u001b[0;34m.\u001b[0m\u001b[0m_iter_repr\u001b[0m\u001b[0;34m(\u001b[0m\u001b[0mmax_items\u001b[0m\u001b[0;34m=\u001b[0m\u001b[0mmax_items\u001b[0m\u001b[0;34m)\u001b[0m\u001b[0;34m:\u001b[0m\u001b[0;34m\u001b[0m\u001b[0m\n\u001b[1;32m    682\u001b[0m             \u001b[0;32mif\u001b[0m \u001b[0mhasattr\u001b[0m\u001b[0;34m(\u001b[0m\u001b[0me\u001b[0m\u001b[0;34m,\u001b[0m \u001b[0;34m'_repr_html_'\u001b[0m\u001b[0;34m)\u001b[0m\u001b[0;34m:\u001b[0m\u001b[0;34m\u001b[0m\u001b[0m\n\u001b[0;32m--> 683\u001b[0;31m                 \u001b[0melements\u001b[0m\u001b[0;34m.\u001b[0m\u001b[0mappend\u001b[0m\u001b[0;34m(\u001b[0m\u001b[0me\u001b[0m\u001b[0;34m.\u001b[0m\u001b[0m_repr_html_\u001b[0m\u001b[0;34m(\u001b[0m\u001b[0;34m)\u001b[0m\u001b[0;34m)\u001b[0m\u001b[0;34m\u001b[0m\u001b[0m\n\u001b[0m\u001b[1;32m    684\u001b[0m             \u001b[0;32melse\u001b[0m\u001b[0;34m:\u001b[0m\u001b[0;34m\u001b[0m\u001b[0m\n\u001b[1;32m    685\u001b[0m                 \u001b[0melements\u001b[0m\u001b[0;34m.\u001b[0m\u001b[0mappend\u001b[0m\u001b[0;34m(\u001b[0m\u001b[0me\u001b[0m\u001b[0;34m)\u001b[0m\u001b[0;34m\u001b[0m\u001b[0m\n",
      "\u001b[0;32m~/.local/lib/python3.5/site-packages/rpy2/robjects/vectors.py\u001b[0m in \u001b[0;36m_repr_html_\u001b[0;34m(self, max_items)\u001b[0m\n\u001b[1;32m    688\u001b[0m         \u001b[0mnames\u001b[0m \u001b[0;34m=\u001b[0m \u001b[0mlist\u001b[0m\u001b[0;34m(\u001b[0m\u001b[0;34m)\u001b[0m\u001b[0;34m\u001b[0m\u001b[0m\n\u001b[1;32m    689\u001b[0m         \u001b[0;32mif\u001b[0m \u001b[0mlen\u001b[0m\u001b[0;34m(\u001b[0m\u001b[0mself\u001b[0m\u001b[0;34m)\u001b[0m \u001b[0;34m<=\u001b[0m \u001b[0mmax_items\u001b[0m\u001b[0;34m:\u001b[0m\u001b[0;34m\u001b[0m\u001b[0m\n\u001b[0;32m--> 690\u001b[0;31m             \u001b[0mnames\u001b[0m\u001b[0;34m.\u001b[0m\u001b[0mextend\u001b[0m\u001b[0;34m(\u001b[0m\u001b[0mself\u001b[0m\u001b[0;34m.\u001b[0m\u001b[0mnames\u001b[0m\u001b[0;34m)\u001b[0m\u001b[0;34m\u001b[0m\u001b[0m\n\u001b[0m\u001b[1;32m    691\u001b[0m         \u001b[0;32melse\u001b[0m\u001b[0;34m:\u001b[0m\u001b[0;34m\u001b[0m\u001b[0m\n\u001b[1;32m    692\u001b[0m             \u001b[0mhalf_items\u001b[0m \u001b[0;34m=\u001b[0m \u001b[0mmax_items\u001b[0m \u001b[0;34m//\u001b[0m \u001b[0;36m2\u001b[0m\u001b[0;34m\u001b[0m\u001b[0m\n",
      "\u001b[0;31mTypeError\u001b[0m: 'rpy2.rinterface.RNULLType' object is not iterable"
     ]
    },
    {
     "data": {
      "text/plain": [
       "R object with classes: ('list',) mapped to:\n",
       "<ListVector - Python:0x7fc7c01fd308 / R:0x55c512d1f910>\n",
       "[ListVector, Environment, ListVector]\n",
       "R object with classes: ('list',) mapped to:\n",
       "<ListVector - Python:0x7fc7c01fd308 / R:0x55c512d1f910>\n",
       "[ListVector, Environment, ListVector]\n",
       "  layout: <class 'rpy2.robjects.environments.Environment'>\n",
       "  R object with classes: ('Layout', 'ggproto') mapped to:\n",
       "<Environment - Python:0x7fc7c02019c8 / R:0x55c512236008>\n",
       "R object with classes: ('list',) mapped to:\n",
       "<ListVector - Python:0x7fc7c01fd308 / R:0x55c512d1f910>\n",
       "[ListVector, Environment, ListVector]"
      ]
     },
     "execution_count": 26,
     "metadata": {},
     "output_type": "execute_result"
    }
   ],
   "source": [
    "import warnings\n",
    "warnings.filterwarnings('ignore')\n",
    "# Load in the r magic\n",
    "\n",
    "import rpy2.ipython\n",
    "\n",
    "%reload_ext rpy2.ipython\n",
    "\n",
    "# We need ggplot2\n",
    "\n",
    "%R require(ggplot2)\n",
    "%R library(\"ggplot2\")\n",
    "# Load in the pandas library\n",
    "import pandas as pd \n",
    "# Make a pandas DataFrame\n",
    "df = pd.DataFrame({'Alphabet': ['a', 'b', 'c', 'd','e', 'f', 'g', 'h','i'],\n",
    "                   'A': [4, 3, 5, 2, 1, 7, 7, 5, 9],\n",
    "                   'B': [0, 4, 3, 6, 7, 10,11, 9, 13],\n",
    "                   'C': [1, 2, 3, 1, 2, 3, 1, 2, 3]})\n",
    "# Take the name of input variable df and assign it to an R variable of the same name\n",
    "%R -i df\n",
    "# Plot the DataFrame df\n",
    "%R print(ggplot(data=df) + geom_point(aes(x=A, y=B, color=C)))"
   ]
  },
  {
   "cell_type": "code",
   "execution_count": null,
   "metadata": {
    "scrolled": true
   },
   "outputs": [],
   "source": [
    "# Nbr pcs\n",
    "NPROCS = 1000\n",
    "    \n",
    "# Nbr itérations\n",
    "N = 100\n",
    "\n",
    "# taille paquet d'itérations\n",
    "fragment_size = 10\n",
    "\n",
    "precision = 4\n",
    "\n",
    "# mode de génération de l'état initial à chaque round\n",
    "mode_opt = [\"FIX\",\"RAND\",\"RAND_INF\",\"RAND_SUP\"]\n",
    "mode = mode_opt[1]\n",
    "\n",
    "catch_me = False\n",
    "\n",
    "# Lancement de la simulation\n",
    "simulation(N,NPROCS,fragment_size,precision,mode,catch_me)"
   ]
  },
  {
   "cell_type": "markdown",
   "metadata": {},
   "source": [
    "#### Publication des résultats sur GitHub : https://github.com/HooBaeBoo/Stage-POLARIS"
   ]
  },
  {
   "cell_type": "code",
   "execution_count": null,
   "metadata": {},
   "outputs": [],
   "source": [
    "%%bash -s $experiment_name $site\n",
    "git add .\n",
    "git commit -m 'Automatic results update : '\"$1\"' --- '\"$2 \"\"Fix : R (Pending ->ggplot2)\""
   ]
  },
  {
   "cell_type": "markdown",
   "metadata": {},
   "source": [
    "#### Fin d'expérience : suppression du job"
   ]
  },
  {
   "cell_type": "code",
   "execution_count": null,
   "metadata": {},
   "outputs": [],
   "source": [
    "oardel([(jobid,site)])"
   ]
  },
  {
   "cell_type": "markdown",
   "metadata": {},
   "source": [
    "### Zone Test (à ignorer)"
   ]
  },
  {
   "cell_type": "code",
   "execution_count": null,
   "metadata": {},
   "outputs": [],
   "source": [
    "sortie = execo.Process(cmd='ls').run().stdout\n",
    "execo.Process(cmd = 'echo '+str(sortie)+' >> test10').run()"
   ]
  },
  {
   "cell_type": "code",
   "execution_count": null,
   "metadata": {},
   "outputs": [],
   "source": [
    "execo.action.Remote(cmd = 'touch helllllllllllllllllllo', hosts = 'localhost').run()"
   ]
  }
 ],
 "metadata": {
  "kernelspec": {
   "display_name": "Python 3",
   "language": "python",
   "name": "python3"
  },
  "language_info": {
   "codemirror_mode": {
    "name": "ipython",
    "version": 3
   },
   "file_extension": ".py",
   "mimetype": "text/x-python",
   "name": "python",
   "nbconvert_exporter": "python",
   "pygments_lexer": "ipython3",
   "version": "3.5.3"
  }
 },
 "nbformat": 4,
 "nbformat_minor": 2
}
