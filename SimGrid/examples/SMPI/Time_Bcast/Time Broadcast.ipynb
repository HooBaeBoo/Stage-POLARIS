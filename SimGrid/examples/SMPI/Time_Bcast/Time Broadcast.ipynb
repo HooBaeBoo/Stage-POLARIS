{
 "cells": [
  {
   "cell_type": "markdown",
   "metadata": {},
   "source": [
    "# Broadcast"
   ]
  },
  {
   "cell_type": "markdown",
   "metadata": {},
   "source": [
    "### But : Faire un broadcast, départ décalé \n"
   ]
  },
  {
   "cell_type": "markdown",
   "metadata": {},
   "source": [
    "#### Informations générales"
   ]
  },
  {
   "cell_type": "code",
   "execution_count": 2,
   "metadata": {},
   "outputs": [],
   "source": [
    "experiment_name = \"Time_Bcast\""
   ]
  },
  {
   "cell_type": "code",
   "execution_count": 3,
   "metadata": {},
   "outputs": [
    {
     "name": "stdout",
     "output_type": "stream",
     "text": [
      "commit 70e99ea3fdd4a04864c8c11ad4cca167f3771112\n",
      "Author: Najwa Ez Zine <nezzine@fnantes-stretch>\n",
      "Date:   Thu May 31 12:29:29 2018 +0200\n",
      "\n",
      "    //\n"
     ]
    },
    {
     "name": "stderr",
     "output_type": "stream",
     "text": [
      "Python 2.7.13\n"
     ]
    }
   ],
   "source": [
    "%%bash -s\n",
    "git log -n 1\n",
    "python --version"
   ]
  },
  {
   "cell_type": "markdown",
   "metadata": {},
   "source": [
    "#### Préparation de l'environnement"
   ]
  },
  {
   "cell_type": "code",
   "execution_count": 4,
   "metadata": {},
   "outputs": [
    {
     "name": "stdout",
     "output_type": "stream",
     "text": [
      "Collecting execo\n",
      "  Downloading https://files.pythonhosted.org/packages/f5/31/4bcb2ce7456dd8a5ad5d7903c10074a49d58e3772fc7e11dd1a0acf93635/execo-2.6.3.tar.gz (392kB)\n",
      "Building wheels for collected packages: execo\n",
      "  Running setup.py bdist_wheel for execo: started\n",
      "  Running setup.py bdist_wheel for execo: finished with status 'done'\n",
      "  Stored in directory: /home/nezzine/.cache/pip/wheels/8b/bd/44/454509c09ace69ed15ae84bdf707d305bff5e4468213f1df48\n",
      "Successfully built execo\n",
      "Installing collected packages: execo\n",
      "Successfully installed execo-2.6.3\n",
      "Collecting requests\n",
      "  Downloading https://files.pythonhosted.org/packages/49/df/50aa1999ab9bde74656c2919d9c0c085fd2b3775fd3eca826012bef76d8c/requests-2.18.4-py2.py3-none-any.whl (88kB)\n",
      "Collecting idna<2.7,>=2.5 (from requests)\n",
      "  Downloading https://files.pythonhosted.org/packages/27/cc/6dd9a3869f15c2edfab863b992838277279ce92663d334df9ecf5106f5c6/idna-2.6-py2.py3-none-any.whl (56kB)\n",
      "Collecting urllib3<1.23,>=1.21.1 (from requests)\n",
      "  Downloading https://files.pythonhosted.org/packages/63/cb/6965947c13a94236f6d4b8223e21beb4d576dc72e8130bd7880f600839b8/urllib3-1.22-py2.py3-none-any.whl (132kB)\n",
      "Collecting certifi>=2017.4.17 (from requests)\n",
      "  Downloading https://files.pythonhosted.org/packages/7c/e6/92ad559b7192d846975fc916b65f667c7b8c3a32bea7372340bfe9a15fa5/certifi-2018.4.16-py2.py3-none-any.whl (150kB)\n",
      "Collecting chardet<3.1.0,>=3.0.2 (from requests)\n",
      "  Downloading https://files.pythonhosted.org/packages/bc/a9/01ffebfb562e4274b6487b4bb1ddec7ca55ec7510b22e4c51f14098443b8/chardet-3.0.4-py2.py3-none-any.whl (133kB)\n",
      "Installing collected packages: idna, urllib3, certifi, chardet, requests\n",
      "Successfully installed certifi-2018.4.16 chardet-3.0.4 idna-2.6 requests-2.18.4 urllib3-1.22\n"
     ]
    }
   ],
   "source": [
    "%%bash -s\n",
    "pip3 install --user execo\n",
    "pip3 install --user requests"
   ]
  },
  {
   "cell_type": "code",
   "execution_count": 5,
   "metadata": {},
   "outputs": [],
   "source": [
    "import execo\n",
    "from execo import *\n",
    "from execo_g5k import *\n",
    "from execo_engine import *\n",
    "import os\n",
    "import sys\n",
    "import json\n",
    "import time\n",
    "import datetime\n",
    "import re\n",
    "from shutil import copy\n",
    "from subprocess import check_output"
   ]
  },
  {
   "cell_type": "markdown",
   "metadata": {},
   "source": [
    "##### Réservation noeuds"
   ]
  },
  {
   "cell_type": "code",
   "execution_count": 9,
   "metadata": {},
   "outputs": [],
   "source": [
    "# Nom du job\n",
    "jobname = ' '\n",
    "# Nombre de noeuds\n",
    "nodecount = 4\n",
    "# Temps réservation\n",
    "walltime = \"3:0:0\" \n",
    "\n",
    "# filters out Nantes's econome cluster\n",
    "resources_selection = \"-p \\\"cluster in ('ecotype','parasilo','grisou')\\\"\" \n",
    "\n",
    "# Nancy\n",
    "site = \"rennes\""
   ]
  },
  {
   "cell_type": "code",
   "execution_count": 12,
   "metadata": {},
   "outputs": [
    {
     "name": "stdout",
     "output_type": "stream",
     "text": [
      "New job submitted, jobid is 1014337\n"
     ]
    }
   ],
   "source": [
    "jobs = get_current_oar_jobs()\n",
    "jobid = None\n",
    "waiting_jobs = []\n",
    "while jobs:\n",
    "    j, site = jobs.pop()\n",
    "    info = get_oar_job_info(j, site)\n",
    "    if info['name'] == jobname:\n",
    "        if info['state'] == 'Running':\n",
    "            jobid = j\n",
    "            print(\"A {} job is already running, using it. jobid is {}\".format(jobname, jobid))\n",
    "            break\n",
    "        else:\n",
    "            waiting_jobs.append(j)\n",
    "if not jobid and not waiting_jobs:\n",
    "    jobspec = OarSubmission(resources=\"/cluster=1/nodes={}\".format(nodecount), walltime=walltime,\n",
    "                            additional_options=resources_selection, job_type=\"deploy\", name=jobname)\n",
    "    jobid, _ = oarsub([(jobspec, site)]).pop()\n",
    "    print(\"New job submitted, jobid is {}\".format(jobid))\n",
    "elif not jobid:\n",
    "    print(\"One or more {} jobs exist ({}) but are not running.\\n\"\n",
    "          \" Connect to the frontend to see what is happening, and/or run the cell again.\".format(\n",
    "          jobname, \", \".join([str(j) for j in waiting_jobs])))"
   ]
  },
  {
   "cell_type": "markdown",
   "metadata": {},
   "source": [
    "On les range"
   ]
  },
  {
   "cell_type": "code",
   "execution_count": 13,
   "metadata": {},
   "outputs": [
    {
     "data": {
      "text/plain": [
       "[Host('parasilo-26.rennes.grid5000.fr'),\n",
       " Host('parasilo-27.rennes.grid5000.fr'),\n",
       " Host('parasilo-28.rennes.grid5000.fr'),\n",
       " Host('parasilo-9.rennes.grid5000.fr')]"
      ]
     },
     "execution_count": 13,
     "metadata": {},
     "output_type": "execute_result"
    }
   ],
   "source": [
    "nodes = get_oar_job_nodes(jobid)\n",
    "nodes.sort(key=lambda n: n.address)\n",
    "nodes"
   ]
  },
  {
   "cell_type": "markdown",
   "metadata": {},
   "source": [
    "##### Déploiement de l'environnement"
   ]
  },
  {
   "cell_type": "code",
   "execution_count": 14,
   "metadata": {},
   "outputs": [],
   "source": [
    "force_redeploy = False # set to True to force redeploying the OS on the nodes in the deployment section\n",
    "environment_dsc_file = 'src/debian9-x64-bigdata-tutorial.yaml' # filename of the kadeploy environment file (YAML)"
   ]
  },
  {
   "cell_type": "code",
   "execution_count": 15,
   "metadata": {
    "scrolled": true
   },
   "outputs": [
    {
     "name": "stdout",
     "output_type": "stream",
     "text": [
      "rennes: Deployment #D-f0e20d50-3308-4b23-bbd8-b6b54241becb started\n",
      "rennes: Grab the key file /home/nezzine/.ssh/authorized_keys\n",
      "rennes: Grab the tarball file http://public.nancy.grid5000.fr/~pneyron/debian9-x64-bigdata-tutorial.tar.gz\n",
      "rennes: Grab the postinstall file server:///grid5000/postinstalls/g5k-postinstall.tgz\n",
      "rennes: Launching a deployment on parasilo-[9,26-28].rennes.grid5000.fr\n",
      "rennes: Performing a Deploy[SetDeploymentEnvUntrusted] step\n",
      "rennes:   switch_pxe\n",
      "rennes:   reboot\n",
      "rennes:    * Performing a soft reboot on parasilo-[9,26-28].rennes.grid5000.fr\n",
      "rennes:   wait_reboot\n",
      "rennes:   send_key_in_deploy_env\n",
      "rennes:   create_partition_table\n",
      "rennes:   format_deploy_part\n",
      "rennes:   mount_deploy_part\n",
      "rennes:   format_tmp_part\n",
      "rennes:   format_swap_part\n",
      "rennes: End of step Deploy[SetDeploymentEnvUntrusted] after 208s\n",
      "rennes: Performing a Deploy[BroadcastEnvKascade] step\n",
      "rennes:   send_environment\n",
      "rennes:    * Broadcast time: 71s\n",
      "rennes:   manage_admin_post_install\n",
      "rennes:   manage_user_post_install\n",
      "rennes:   check_kernel_files\n",
      "rennes:   send_key\n",
      "rennes:   install_bootloader\n",
      "rennes:   sync\n",
      "rennes: End of step Deploy[BroadcastEnvKascade] after 114s\n",
      "rennes: Performing a Deploy[BootNewEnvKexec] step\n",
      "rennes:   switch_pxe\n",
      "rennes:   umount_deploy_part\n",
      "rennes:   mount_deploy_part\n",
      "rennes:   kexec\n",
      "rennes:   wait_reboot\n",
      "rennes: End of step Deploy[BootNewEnvKexec] after 78s\n",
      "rennes: End of deployment for parasilo-[9,26-28].rennes.grid5000.fr after 400s\n",
      "rennes: End of deployment on cluster parasilo after 400s\n",
      "rennes: Deployment #D-f0e20d50-3308-4b23-bbd8-b6b54241becb done\n",
      "rennes: \n",
      "rennes: The deployment is successful on nodes\n",
      "rennes: parasilo-9.rennes.grid5000.fr\n",
      "rennes: parasilo-26.rennes.grid5000.fr\n",
      "rennes: parasilo-27.rennes.grid5000.fr\n",
      "rennes: parasilo-28.rennes.grid5000.fr\n"
     ]
    },
    {
     "name": "stderr",
     "output_type": "stream",
     "text": [
      "rennes: Warning: Permanently added 'rennes.grid5000.fr,172.16.111.106' (ECDSA) to the list of known hosts.\r\n",
      "rennes: Connection to rennes.grid5000.fr closed.\r\n"
     ]
    }
   ],
   "source": [
    "deployment = Deployment(hosts=nodes, env_file = os.path.abspath(environment_dsc_file),\n",
    "                        other_options=\"-r ext4 --no-debug-mode\")\n",
    "\n",
    "deploy_ok, deploy_failed = deploy(deployment, check_deployed_command=not force_redeploy,\n",
    "                              stdout_handlers=[sys.stdout],\n",
    "                              stderr_handlers=[sys.stderr])"
   ]
  },
  {
   "cell_type": "markdown",
   "metadata": {},
   "source": [
    "#### Test : commande simple 'ls'"
   ]
  },
  {
   "cell_type": "code",
   "execution_count": null,
   "metadata": {},
   "outputs": [],
   "source": [
    "# execo.action.Remote(cmd,hosts,connection_params,process_args)\n",
    "Remote_test = execo.action.Remote(cmd='ls',hosts=nodes,connection_params=None, process_args=None)\n",
    "Remote_test.run().ok"
   ]
  },
  {
   "cell_type": "markdown",
   "metadata": {},
   "source": [
    "#### Installation environnement sur noeud"
   ]
  },
  {
   "cell_type": "code",
   "execution_count": 16,
   "metadata": {},
   "outputs": [],
   "source": [
    "Remote_install = execo.action.Remote(cmd='apt-get install g++ libboost-all-dev && wget http://gforge.inria.fr/frs/download.php/latestfile/8/SimGrid-3.18.tar.gz && tar -xvf SimGrid-3.18.tar.gz && cd SimGrid-3.18 && cmake -DCMAKE_INSTALL_PREFIX=/usr/local -Denable_smpi=on -Denable_documentation=off && make -j && make check && make install -j',hosts=nodes,connection_params={'user':'root'})"
   ]
  },
  {
   "cell_type": "code",
   "execution_count": 17,
   "metadata": {},
   "outputs": [
    {
     "data": {
      "text/plain": [
       "True"
      ]
     },
     "execution_count": 17,
     "metadata": {},
     "output_type": "execute_result"
    }
   ],
   "source": [
    "Remote_install.run().ok"
   ]
  },
  {
   "cell_type": "markdown",
   "metadata": {},
   "source": [
    "#### Version Simgrid"
   ]
  },
  {
   "cell_type": "code",
   "execution_count": 18,
   "metadata": {},
   "outputs": [
    {
     "data": {
      "text/plain": [
       "'SimGrid version 3.18  SimGrid version 3.18  SimGrid version 3.18  SimGrid version 3.18  '"
      ]
     },
     "execution_count": 18,
     "metadata": {},
     "output_type": "execute_result"
    }
   ],
   "source": [
    "execo.action.Remote(cmd='touch smpi_version.txt && smpicc --version > smpi_version.txt'\n",
    "                    , hosts=nodes, connection_params={'user': 'root'\n",
    "                    }).run()\n",
    "version = ''\n",
    "for i in range(0, nodecount):\n",
    "    execo.action.Get(hosts=nodes[i], remote_files=['~/smpi_version.txt'\n",
    "                     ], local_location='./smpicc_version-'\n",
    "                     + get_host_shortname(nodes[i]) + '.txt',\n",
    "                     connection_params={'user': 'root'}).run()\n",
    "    version = version + execo.Process(cmd='head -n 1 ./smpicc_version-'\n",
    "            + get_host_shortname(nodes[i]) + '.txt'\n",
    "            ).run().stdout.replace('\\n', '  ')\n",
    "    execo.Process(cmd='rm ./smpicc_version-'\n",
    "                  + get_host_shortname(nodes[i]) + '.txt').run()\n",
    "version\n"
   ]
  },
  {
   "cell_type": "code",
   "execution_count": 19,
   "metadata": {},
   "outputs": [],
   "source": [
    "path_base = \"~/Stage-POLARIS/SimGrid/examples/SMPI/\"+experiment_name\n",
    "path_src = path_base + '/src/'\n",
    "path_rslt = path_base + '/results/'"
   ]
  },
  {
   "cell_type": "markdown",
   "metadata": {},
   "source": [
    "#### Récupération fichiers sources"
   ]
  },
  {
   "cell_type": "code",
   "execution_count": null,
   "metadata": {},
   "outputs": [],
   "source": [
    "Src_get = execo.action.Remote(cmd='mkdir -p experiments_src',hosts=nodes,connection_params={'user':'root'})\n",
    "Src_get.run().ok"
   ]
  },
  {
   "cell_type": "code",
   "execution_count": null,
   "metadata": {},
   "outputs": [],
   "source": [
    "Remote_smpi_env = execo.action.Put(hosts=nodes,local_files=[path_src+\"griffon.xml\",path_src+\"griffon_hostfile.txt\",path_src+\"broadcast.c\",path_src+\"Makefile\"],remote_location='~/experiments_src',connection_params={'user':'root'})\n",
    "Remote_smpi_env.run().ok"
   ]
  },
  {
   "cell_type": "markdown",
   "metadata": {},
   "source": [
    "#### Execution de l'expérience"
   ]
  },
  {
   "cell_type": "code",
   "execution_count": null,
   "metadata": {},
   "outputs": [],
   "source": [
    "Remote_smpi = execo.action.Remote(cmd ='cd ~/experiments_src && make && make run NPROCS=2 MIN=0 MAX=10 N=2 DELAY=\\\"0 0\\\"',hosts=nodes,connection_params={'user':'root'})\n",
    "Remote_smpi.run().ok"
   ]
  },
  {
   "cell_type": "markdown",
   "metadata": {},
   "source": [
    "#### Récupération des résultats"
   ]
  },
  {
   "cell_type": "code",
   "execution_count": null,
   "metadata": {},
   "outputs": [],
   "source": [
    "Result_get = \\\n",
    "    execo.Process(cmd='mkdir -p /home/nezzine/Stage-POLARIS/SimGrid/examples/SMPI/'\n",
    "                   + experiment_name + '/results/'\n",
    "                  + datetime.datetime.now().strftime('%Y-%m-%d'))\n",
    "Result_get.run().ok"
   ]
  },
  {
   "cell_type": "code",
   "execution_count": null,
   "metadata": {
    "scrolled": true
   },
   "outputs": [],
   "source": [
    "for i in range(0, nodecount):\n",
    "    execo.action.Get(hosts = nodes[i],\n",
    "                     remote_files=['~/experiments_src/bcast_results.txt'\n",
    "                     ],\n",
    "                     local_location = path_rslt\n",
    "                     + datetime.datetime.now().strftime('%Y-%m-%d')\n",
    "                     + '/' + get_host_shortname(nodes[i]) + '_'\n",
    "                     + datetime.datetime.now().strftime('%Y-%m-%d_%H:%M'\n",
    "                     ) + '.txt', connection_params={'user': 'root'\n",
    "                     }).run().ok"
   ]
  },
  {
   "cell_type": "markdown",
   "metadata": {},
   "source": [
    "#### Delayer"
   ]
  },
  {
   "cell_type": "code",
   "execution_count": 20,
   "metadata": {},
   "outputs": [],
   "source": [
    "# Parsing the results\n",
    "def parser(num_node,date_precise):\n",
    "    with open('/home/nezzine/Stage-POLARIS/SimGrid/examples/SMPI/Time_Bcast/results/'\n",
    "               + date_precise.split('_')[0] + '/'\n",
    "              + get_host_shortname(nodes[num_node]) + '_'\n",
    "              + date_precise\n",
    "              + '.txt') as f:\n",
    "        return f.readlines()"
   ]
  },
  {
   "cell_type": "code",
   "execution_count": 21,
   "metadata": {},
   "outputs": [],
   "source": [
    "# Converting and organizing data\n",
    "def tab_conv(l,NPROCS) :\n",
    "    S = init_tab(NPROCS, None)\n",
    "        \n",
    "    # Taking useful data    \n",
    "    for i in range(0,NPROCS) :\n",
    "        S[int(l[i].split()[1])] = int(float(l[i].split()[5]))\n",
    "    return S"
   ]
  },
  {
   "cell_type": "code",
   "execution_count": 22,
   "metadata": {},
   "outputs": [],
   "source": [
    "def delayer(num_node,NPROCS,date):\n",
    "    D = init_tab(NPROCS,0)\n",
    "    \n",
    "    raw_data = parser(num_node,date)\n",
    "    \n",
    "    S = tab_conv(raw_data,NPROCS)\n",
    "    \n",
    "    for p in range(0, NPROCS):\n",
    "        D[p] = S[p] - min(S)\n",
    "    return D"
   ]
  },
  {
   "cell_type": "code",
   "execution_count": null,
   "metadata": {},
   "outputs": [],
   "source": [
    "delayer(1,2,'2018-05-30_12:19')"
   ]
  },
  {
   "cell_type": "code",
   "execution_count": 23,
   "metadata": {},
   "outputs": [],
   "source": [
    "def init_tab(num, elt) :\n",
    "    D = [elt] * num\n",
    "    return D"
   ]
  },
  {
   "cell_type": "markdown",
   "metadata": {},
   "source": [
    "##### Shortcut"
   ]
  },
  {
   "cell_type": "code",
   "execution_count": 23,
   "metadata": {},
   "outputs": [
    {
     "name": "stdout",
     "output_type": "stream",
     "text": [
      "2018-05-31_11:01\n",
      "ecotype-44 => 0 NPROCS = 10 MIN = 0 MAX = 25 N = 100 DELAY = '0 0 0 0 0 0 0 0 0 0'\n",
      "True\n",
      "[6, 6, 9, 3, 0, 11, 7, 2, 7, 10]\n",
      "ecotype-47 => 1 NPROCS = 10 MIN = 25 MAX = 50 N = 100 DELAY = '0 0 0 0 0 0 0 0 0 0'\n",
      "True\n",
      "[8, 0, 6, 6, 6, 6, 6, 8, 9, 5]\n",
      "ecotype-7 => 2 NPROCS = 10 MIN = 50 MAX = 75 N = 100 DELAY = '0 0 0 0 0 0 0 0 0 0'\n",
      "True\n",
      "[6, 0, 6, 6, 6, 8, 9, 7, 8, 4]\n",
      "ecotype-9 => 3 NPROCS = 10 MIN = 75 MAX = 100 N = 100 DELAY = '0 0 0 0 0 0 0 0 0 0'\n",
      "True\n",
      "[0, 0, 0, 0, 0, 0, 0, 0, 0, 0]\n"
     ]
    }
   ],
   "source": [
    "Src_get = execo.action.Remote(cmd='mkdir -p experiments_src',\n",
    "                              hosts=nodes,\n",
    "                              connection_params={'user': 'root'})\n",
    "Remote_smpi_env = execo.action.Put(hosts=nodes, local_files=[path_src\n",
    "                                   + 'griffon.xml', path_src\n",
    "                                   + 'griffon_hostfile.txt', path_src\n",
    "                                   + 'broadcast.c', path_src + 'Makefile'],\n",
    "                                   remote_location='~/experiments_src',\n",
    "                                   connection_params={'user': 'root'})\n",
    "Result_get = \\\n",
    "    execo.Process(cmd='mkdir -p /home/nezzine/Stage-POLARIS/SimGrid/examples/SMPI/'\n",
    "                   + experiment_name + '/results/'\n",
    "                  + datetime.datetime.now().strftime('%Y-%m-%d'))\n",
    "def parl_exec () :\n",
    "    Result_get.run().ok\n",
    "    # Nbr pcs\n",
    "    NPROCS = 10\n",
    "    \n",
    "    # Nbr itérations\n",
    "    N = 100\n",
    "    \n",
    "    D = init_tab(NPROCS,0)\n",
    "    delay = ' '.join(str(e) for e in D)\n",
    "    date = datetime.datetime.now().strftime('%Y-%m-%d');\n",
    "    date_precise = datetime.datetime.now().strftime('%Y-%m-%d_%H:%M')\n",
    "    print(date_precise)\n",
    "    \n",
    "    # TODO //\n",
    "    for i in range (0,nodecount) :\n",
    "        MIN = (int)((i*N)/len(nodes))\n",
    "        MAX = (int)(((i+1)*N)/len(nodes))\n",
    "        print(get_host_shortname(nodes[i])+\" => \"+str(i)+\" NPROCS = \"+str(NPROCS)\n",
    "             +\" MIN = \"+str(MIN)\n",
    "             +\" MAX = \"+str(MAX)\n",
    "             +\" N = \"+str(N)\n",
    "             +\" DELAY = '\"+ delay +\"'\"\n",
    "            )\n",
    "        bool = execo.action.Remote(cmd ='cd ~/experiments_src && make && make run NPROCS='\n",
    "                                  +str(NPROCS)+' MIN='+str(MIN) \n",
    "                                  +' MAX='+str(MAX)+' N='+str(N)\n",
    "                                  +\" DELAY='\"+delay\n",
    "                                  +\"'\",hosts=nodes[i],connection_params={'user':'root'}).run().ok\n",
    "        print(bool)\n",
    "        execo.action.Get(hosts=nodes[i],\n",
    "                     remote_files=['~/experiments_src/bcast_results.txt'\n",
    "                     ],\n",
    "                     local_location= path_rslt\n",
    "                     + date\n",
    "                     + '/' + get_host_shortname(nodes[i]) + '_'\n",
    "                     + date_precise + '.txt', connection_params={'user': 'root'\n",
    "                     }).run().ok\n",
    "        print(delayer(i,NPROCS,date_precise))\n",
    "    return;\n",
    "\n",
    "# Remote_smpi = execo.action.Remote(cmd ='cd ~/experiments_src && make && make run NPROCS=2 MIN=0 MAX=10',hosts=nodes,connection_params={'user':'root'})\n",
    "\n",
    "\n",
    "\n",
    "Src_get.run().ok\n",
    "Remote_smpi_env.run().ok\n",
    "\n",
    "# Remote_smpi.run().ok\n",
    "\n",
    "parl_exec()\n",
    "\n",
    "for i in range(0, nodecount):\n",
    "    execo.action.Get(hosts=nodes[i],\n",
    "                     remote_files=['~/experiments_src/bcast_results.txt'\n",
    "                     ],\n",
    "                     local_location=path_rslt\n",
    "                     + datetime.datetime.now().strftime('%Y-%m-%d')\n",
    "                     + '/' + get_host_shortname(nodes[i]) + '_'\n",
    "                     + datetime.datetime.now().strftime('%Y-%m-%d_%H:%M'\n",
    "                     ) + '.txt', connection_params={'user': 'root'\n",
    "                     }).run().ok"
   ]
  },
  {
   "cell_type": "markdown",
   "metadata": {},
   "source": [
    "#### //"
   ]
  },
  {
   "cell_type": "code",
   "execution_count": 26,
   "metadata": {},
   "outputs": [
    {
     "name": "stdout",
     "output_type": "stream",
     "text": [
      "parasilo-26 => 0 NPROCS = 10 MIN = 0 MAX = 25 N = 100 DELAY = '0 0 0 0 0 0 0 0 0 0'\n",
      "parasilo-27 => 1 NPROCS = 10 MIN = 25 MAX = 50 N = 100 DELAY = '0 0 0 0 0 0 0 0 0 0'\n",
      "parasilo-28 => 2 NPROCS = 10 MIN = 50 MAX = 75 N = 100 DELAY = '0 0 0 0 0 0 0 0 0 0'\n",
      "parasilo-9 => 3 NPROCS = 10 MIN = 75 MAX = 100 N = 100 DELAY = '0 0 0 0 0 0 0 0 0 0'\n",
      "True\n",
      "True\n",
      "True\n",
      "True\n",
      "[2, 1, 0, 1, 10, 5, 5, 3, 3, 5]\n",
      "[1, 7, 0, 1, 7, 2, 3, 3, 4, 7]\n",
      "[4, 1, 1, 5, 2, 1, 0, 2, 4, 2]\n",
      "[0, 0, 0, 0, 0, 0, 0, 0, 0, 0]\n"
     ]
    }
   ],
   "source": [
    "import random\n",
    "import sys\n",
    "from threading import Thread\n",
    "import time\n",
    "\n",
    "\n",
    "Src_get = execo.action.Remote(cmd='mkdir -p experiments_src',\n",
    "                              hosts=nodes,\n",
    "                              connection_params={'user': 'root'})\n",
    "Remote_smpi_env = execo.action.Put(hosts=nodes, local_files=[path_src\n",
    "                                   + 'griffon.xml', path_src\n",
    "                                   + 'griffon_hostfile.txt', path_src\n",
    "                                   + 'broadcast.c', path_src + 'Makefile'],\n",
    "                                   remote_location='~/experiments_src',\n",
    "                                   connection_params={'user': 'root'})\n",
    "Result_get = \\\n",
    "    execo.Process(cmd='mkdir -p /home/nezzine/Stage-POLARIS/SimGrid/examples/SMPI/'\n",
    "                   + experiment_name + '/results/'\n",
    "                  + datetime.datetime.now().strftime('%Y-%m-%d'))\n",
    "\n",
    "\n",
    "\n",
    "Src_get.run().ok\n",
    "Remote_smpi_env.run().ok\n",
    "\n",
    "\n",
    "machines = init_tab(len(nodes),None)\n",
    "\n",
    "class ParSimer(Thread):\n",
    "\n",
    "    \"\"\"Thread chargé simplement d'afficher une lettre dans la console.\"\"\"\n",
    "\n",
    "    def __init__(self, MIN,MAX,N,DELAY):\n",
    "        Thread.__init__(self)\n",
    "        self.MIN = MIN\n",
    "        self.MAX = MAX\n",
    "        self.N = N\n",
    "        self.DELAY = DELAY\n",
    "        \n",
    "    def run(self):\n",
    "        \"\"\"Code à exécuter pendant l'exécution du thread.\"\"\"\n",
    "        print(get_host_shortname(nodes[i])+\" => \"+str(i)+\" NPROCS = \"+str(NPROCS)\n",
    "             +\" MIN = \"+str(self.MIN)\n",
    "             +\" MAX = \"+str(self.MAX)\n",
    "             +\" N = \"+str(self.N)\n",
    "             +\" DELAY = '\"+ self.DELAY +\"'\"\n",
    "            )\n",
    "        bool = execo.action.Remote(cmd ='cd ~/experiments_src && make && make run NPROCS='\n",
    "                                  +str(NPROCS)+' MIN='+str(self.MIN) \n",
    "                                  +' MAX='+str(self.MAX)+' N='+str(self.N)\n",
    "                                  +\" DELAY='\"+self.DELAY\n",
    "                                  +\"'\",hosts=nodes[i],connection_params={'user':'root'}).run().ok\n",
    "        print(bool)\n",
    "       \n",
    "                      \n",
    "            \n",
    "# Création des threads\n",
    "Result_get.run().ok\n",
    "# Nbr pcs\n",
    "NPROCS = 10\n",
    "    \n",
    "# Nbr itérations\n",
    "N = 100\n",
    "    \n",
    "D = init_tab(NPROCS,0)\n",
    "delay = ' '.join(str(e) for e in D)\n",
    "date = datetime.datetime.now().strftime('%Y-%m-%d');\n",
    "date_precise = datetime.datetime.now().strftime('%Y-%m-%d_%H:%M')\n",
    "\n",
    "\n",
    "\n",
    "for i in range (0,nodecount) :\n",
    "    MIN = (int)((i*N)/len(nodes))\n",
    "    MAX = (int)(((i+1)*N)/len(nodes)) \n",
    "    machines[i] = ParSimer(MIN,MAX,N,delay)\n",
    "\n",
    "# Lancement des threads\n",
    "for i in range (0,nodecount) :\n",
    "    machines[i].start()\n",
    "\n",
    "for i in range (0,nodecount) :\n",
    "    machines[i].join()\n",
    "    execo.action.Get(hosts=nodes[i],\n",
    "                     remote_files=['~/experiments_src/bcast_results.txt'\n",
    "                     ],\n",
    "                     local_location= path_rslt\n",
    "                     + date\n",
    "                     + '/' + get_host_shortname(nodes[i]) + '_'\n",
    "                     + date_precise + '.txt', connection_params={'user': 'root'\n",
    "                     }).run().ok     \n",
    "    print(delayer(i,NPROCS,date_precise))"
   ]
  },
  {
   "cell_type": "markdown",
   "metadata": {},
   "source": [
    "#### Publication des résultats"
   ]
  },
  {
   "cell_type": "code",
   "execution_count": null,
   "metadata": {},
   "outputs": [],
   "source": [
    "%%bash -s $experiment_name $site\n",
    "git add .\n",
    "git commit -m 'Automatic results update : '\"$1\"'---'\"$2\"' Delayer'"
   ]
  },
  {
   "cell_type": "markdown",
   "metadata": {},
   "source": [
    "#### Fin d'expérience : suppression du job"
   ]
  },
  {
   "cell_type": "code",
   "execution_count": 10,
   "metadata": {},
   "outputs": [
    {
     "ename": "TypeError",
     "evalue": "'int' object is not iterable",
     "output_type": "error",
     "traceback": [
      "\u001b[0;31m---------------------------------------------------------------------------\u001b[0m",
      "\u001b[0;31mTypeError\u001b[0m                                 Traceback (most recent call last)",
      "\u001b[0;32m<ipython-input-10-4958d4a52834>\u001b[0m in \u001b[0;36m<module>\u001b[0;34m()\u001b[0m\n\u001b[0;32m----> 1\u001b[0;31m \u001b[0moardel\u001b[0m\u001b[0;34m(\u001b[0m\u001b[0mjobid\u001b[0m\u001b[0;34m)\u001b[0m\u001b[0;34m\u001b[0m\u001b[0m\n\u001b[0m",
      "\u001b[0;32m~/.local/lib/python3.5/site-packages/execo_g5k/oar.py\u001b[0m in \u001b[0;36moardel\u001b[0;34m(job_specs, frontend_connection_params, timeout)\u001b[0m\n\u001b[1;32m    311\u001b[0m         \u001b[0mtimeout\u001b[0m \u001b[0;34m=\u001b[0m \u001b[0mg5k_configuration\u001b[0m\u001b[0;34m.\u001b[0m\u001b[0mget\u001b[0m\u001b[0;34m(\u001b[0m\u001b[0;34m'default_timeout'\u001b[0m\u001b[0;34m)\u001b[0m\u001b[0;34m\u001b[0m\u001b[0m\n\u001b[1;32m    312\u001b[0m     \u001b[0mprocesses\u001b[0m \u001b[0;34m=\u001b[0m \u001b[0;34m[\u001b[0m\u001b[0;34m]\u001b[0m\u001b[0;34m\u001b[0m\u001b[0m\n\u001b[0;32m--> 313\u001b[0;31m     \u001b[0;32mfor\u001b[0m \u001b[0;34m(\u001b[0m\u001b[0mjob_id\u001b[0m\u001b[0;34m,\u001b[0m \u001b[0mfrontend\u001b[0m\u001b[0;34m)\u001b[0m \u001b[0;32min\u001b[0m \u001b[0mjob_specs\u001b[0m\u001b[0;34m:\u001b[0m\u001b[0;34m\u001b[0m\u001b[0m\n\u001b[0m\u001b[1;32m    314\u001b[0m         p = get_process(\"oardel %i\" % (job_id,),\n\u001b[1;32m    315\u001b[0m                         \u001b[0mhost\u001b[0m \u001b[0;34m=\u001b[0m \u001b[0mget_frontend_host\u001b[0m\u001b[0;34m(\u001b[0m\u001b[0mfrontend\u001b[0m\u001b[0;34m)\u001b[0m\u001b[0;34m,\u001b[0m\u001b[0;34m\u001b[0m\u001b[0m\n",
      "\u001b[0;31mTypeError\u001b[0m: 'int' object is not iterable"
     ]
    }
   ],
   "source": [
    "oardel(jobid)"
   ]
  }
 ],
 "metadata": {
  "kernelspec": {
   "display_name": "Python 3",
   "language": "python",
   "name": "python3"
  },
  "language_info": {
   "codemirror_mode": {
    "name": "ipython",
    "version": 3
   },
   "file_extension": ".py",
   "mimetype": "text/x-python",
   "name": "python",
   "nbconvert_exporter": "python",
   "pygments_lexer": "ipython3",
   "version": "3.5.3"
  }
 },
 "nbformat": 4,
 "nbformat_minor": 2
}
