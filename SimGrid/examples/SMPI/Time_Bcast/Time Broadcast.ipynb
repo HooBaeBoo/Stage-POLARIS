{
 "cells": [
  {
   "cell_type": "markdown",
   "metadata": {},
   "source": [
    "# Broadcast"
   ]
  },
  {
   "cell_type": "markdown",
   "metadata": {},
   "source": [
    "### But : Faire un broadcast, départ décalé \n"
   ]
  },
  {
   "cell_type": "markdown",
   "metadata": {},
   "source": [
    "#### Informations générales"
   ]
  },
  {
   "cell_type": "code",
   "execution_count": 1,
   "metadata": {},
   "outputs": [],
   "source": [
    "experiment_name = \"Time_Bcast\""
   ]
  },
  {
   "cell_type": "code",
   "execution_count": 2,
   "metadata": {},
   "outputs": [
    {
     "name": "stdout",
     "output_type": "stream",
     "text": [
      "commit ba046fa4cf01ba8efac175949c2d13646e236af2\n",
      "Author: Najwa Ez Zine <nezzine@frennes>\n",
      "Date:   Fri Jun 22 15:09:13 2018 +0200\n",
      "\n",
      "    Automatic results update : Time_Bcast---rennes\n"
     ]
    },
    {
     "name": "stderr",
     "output_type": "stream",
     "text": [
      "Python 2.7.13\n"
     ]
    }
   ],
   "source": [
    "%%bash -s\n",
    "git log -n 1\n",
    "python --version"
   ]
  },
  {
   "cell_type": "markdown",
   "metadata": {},
   "source": [
    "#### Préparation de l'environnement"
   ]
  },
  {
   "cell_type": "code",
   "execution_count": 3,
   "metadata": {},
   "outputs": [
    {
     "name": "stdout",
     "output_type": "stream",
     "text": [
      "Collecting execo\n",
      "Installing collected packages: execo\n",
      "Successfully installed execo-2.6.3\n",
      "Collecting requests\n",
      "  Using cached https://files.pythonhosted.org/packages/65/47/7e02164a2a3db50ed6d8a6ab1d6d60b69c4c3fdf57a284257925dfc12bda/requests-2.19.1-py2.py3-none-any.whl\n",
      "Collecting certifi>=2017.4.17 (from requests)\n",
      "  Using cached https://files.pythonhosted.org/packages/7c/e6/92ad559b7192d846975fc916b65f667c7b8c3a32bea7372340bfe9a15fa5/certifi-2018.4.16-py2.py3-none-any.whl\n",
      "Collecting chardet<3.1.0,>=3.0.2 (from requests)\n",
      "  Using cached https://files.pythonhosted.org/packages/bc/a9/01ffebfb562e4274b6487b4bb1ddec7ca55ec7510b22e4c51f14098443b8/chardet-3.0.4-py2.py3-none-any.whl\n",
      "Collecting idna<2.8,>=2.5 (from requests)\n",
      "  Using cached https://files.pythonhosted.org/packages/4b/2a/0276479a4b3caeb8a8c1af2f8e4355746a97fab05a372e4a2c6a6b876165/idna-2.7-py2.py3-none-any.whl\n",
      "Collecting urllib3<1.24,>=1.21.1 (from requests)\n",
      "  Using cached https://files.pythonhosted.org/packages/bd/c9/6fdd990019071a4a32a5e7cb78a1d92c53851ef4f56f62a3486e6a7d8ffb/urllib3-1.23-py2.py3-none-any.whl\n",
      "Installing collected packages: certifi, chardet, idna, urllib3, requests\n",
      "Successfully installed certifi-2018.4.16 chardet-3.0.4 idna-2.7 requests-2.19.1 urllib3-1.23\n",
      "Collecting termcolor\n",
      "Installing collected packages: termcolor\n",
      "Successfully installed termcolor-1.1.0\n"
     ]
    }
   ],
   "source": [
    "%%bash -s\n",
    "pip3 install --user execo\n",
    "pip3 install --user requests\n",
    "pip3 install --user termcolor"
   ]
  },
  {
   "cell_type": "code",
   "execution_count": 4,
   "metadata": {},
   "outputs": [],
   "source": [
    "import execo\n",
    "from execo import *\n",
    "from execo_g5k import *\n",
    "from execo_engine import *\n",
    "import os\n",
    "import sys\n",
    "import json\n",
    "import time\n",
    "import datetime\n",
    "import re\n",
    "from shutil import copy\n",
    "from subprocess import check_output\n",
    "import random\n",
    "from threading import Thread\n",
    "import math\n",
    "import collections\n",
    "from collections import deque\n",
    "from termcolor import *"
   ]
  },
  {
   "cell_type": "markdown",
   "metadata": {},
   "source": [
    "##### Réservation noeuds"
   ]
  },
  {
   "cell_type": "code",
   "execution_count": 5,
   "metadata": {},
   "outputs": [],
   "source": [
    "# Nom du job\n",
    "jobname = ' '\n",
    "# Nombre de noeuds\n",
    "nodecount = 3\n",
    "# Temps réservation\n",
    "walltime = \"3:0:0\" \n",
    "\n",
    "# filters out Nantes's econome cluster\n",
    "resources_selection = \"-p \\\"cluster in ('ecotype','parasilo','grisou')\\\"\" \n",
    "\n",
    "# Nancy\n",
    "site = \"rennes\""
   ]
  },
  {
   "cell_type": "code",
   "execution_count": 6,
   "metadata": {},
   "outputs": [
    {
     "name": "stdout",
     "output_type": "stream",
     "text": [
      "New job submitted, jobid is 1020319\n"
     ]
    }
   ],
   "source": [
    "jobs = get_current_oar_jobs()\n",
    "jobid = None\n",
    "waiting_jobs = []\n",
    "while jobs:\n",
    "    j, site = jobs.pop()\n",
    "    info = get_oar_job_info(j, site)\n",
    "    if info['name'] == jobname:\n",
    "        if info['state'] == 'Running':\n",
    "            jobid = j\n",
    "            print(\"A {} job is already running, using it. jobid is {}\".format(jobname, jobid))\n",
    "            break\n",
    "        else:\n",
    "            waiting_jobs.append(j)\n",
    "if not jobid and not waiting_jobs:\n",
    "    jobspec = OarSubmission(resources=\"/cluster=1/nodes={}\".format(nodecount), walltime=walltime,\n",
    "                            additional_options=resources_selection, job_type=\"deploy\", name=jobname)\n",
    "    jobid, _ = oarsub([(jobspec, site)]).pop()\n",
    "    print(\"New job submitted, jobid is {}\".format(jobid))\n",
    "elif not jobid:\n",
    "    print(\"One or more {} jobs exist ({}) but are not running.\\n\"\n",
    "          \" Connect to the frontend to see what is happening, and/or run the cell again.\".format(\n",
    "          jobname, \", \".join([str(j) for j in waiting_jobs])))"
   ]
  },
  {
   "cell_type": "markdown",
   "metadata": {},
   "source": [
    "On les range"
   ]
  },
  {
   "cell_type": "code",
   "execution_count": 7,
   "metadata": {},
   "outputs": [
    {
     "data": {
      "text/plain": [
       "[Host('parasilo-5.rennes.grid5000.fr'),\n",
       " Host('parasilo-6.rennes.grid5000.fr'),\n",
       " Host('parasilo-7.rennes.grid5000.fr')]"
      ]
     },
     "execution_count": 7,
     "metadata": {},
     "output_type": "execute_result"
    }
   ],
   "source": [
    "nodes = get_oar_job_nodes(jobid)\n",
    "nodes.sort(key=lambda n: n.address)\n",
    "nodes"
   ]
  },
  {
   "cell_type": "markdown",
   "metadata": {},
   "source": [
    "##### Déploiement de l'environnement"
   ]
  },
  {
   "cell_type": "markdown",
   "metadata": {},
   "source": [
    "###### Via fichier "
   ]
  },
  {
   "cell_type": "code",
   "execution_count": 8,
   "metadata": {},
   "outputs": [],
   "source": [
    "force_redeploy = True # set to True to force redeploying the OS on the nodes in the deployment section\n",
    "environment_dsc_file = 'src/debian9-x64-bigdata-tutorial.yaml' # filename of the kadeploy environment file (YAML)"
   ]
  },
  {
   "cell_type": "code",
   "execution_count": 9,
   "metadata": {
    "scrolled": true
   },
   "outputs": [
    {
     "name": "stdout",
     "output_type": "stream",
     "text": [
      "rennes: Deployment #D-17eb2254-b59e-4d04-92f4-8158fcf4d04a started\n",
      "rennes: Grab the key file /home/nezzine/.ssh/authorized_keys\n",
      "rennes: Grab the tarball file http://public.nancy.grid5000.fr/~pneyron/debian9-x64-bigdata-tutorial.tar.gz\n",
      "rennes: Grab the postinstall file server:///grid5000/postinstalls/g5k-postinstall.tgz\n",
      "rennes: Launching a deployment on parasilo-[5-7].rennes.grid5000.fr\n",
      "rennes: Performing a Deploy[SetDeploymentEnvUntrusted] step\n",
      "rennes:   switch_pxe\n",
      "rennes:   reboot\n",
      "rennes:    * Performing a soft reboot on parasilo-[5-7].rennes.grid5000.fr\n",
      "rennes:   wait_reboot\n",
      "rennes:   send_key_in_deploy_env\n",
      "rennes:   create_partition_table\n",
      "rennes:   format_deploy_part\n",
      "rennes:   mount_deploy_part\n",
      "rennes:   format_tmp_part\n",
      "rennes:   format_swap_part\n",
      "rennes: End of step Deploy[SetDeploymentEnvUntrusted] after 192s\n",
      "rennes: Performing a Deploy[BroadcastEnvKascade] step\n",
      "rennes:   send_environment\n",
      "rennes:    * Broadcast time: 71s\n",
      "rennes:   manage_admin_post_install\n",
      "rennes:   manage_user_post_install\n",
      "rennes:   check_kernel_files\n",
      "rennes:   send_key\n",
      "rennes:   install_bootloader\n",
      "rennes:   sync\n",
      "rennes: End of step Deploy[BroadcastEnvKascade] after 116s\n",
      "rennes: Performing a Deploy[BootNewEnvKexec] step\n",
      "rennes:   switch_pxe\n",
      "rennes:   umount_deploy_part\n",
      "rennes:   mount_deploy_part\n",
      "rennes:   kexec\n",
      "rennes:   wait_reboot\n",
      "rennes: End of step Deploy[BootNewEnvKexec] after 71s\n",
      "rennes: End of deployment for parasilo-[5-7].rennes.grid5000.fr after 379s\n",
      "rennes: End of deployment on cluster parasilo after 379s\n",
      "rennes: Deployment #D-17eb2254-b59e-4d04-92f4-8158fcf4d04a done\n",
      "rennes: \n",
      "rennes: The deployment is successful on nodes\n",
      "rennes: parasilo-5.rennes.grid5000.fr\n",
      "rennes: parasilo-6.rennes.grid5000.fr\n",
      "rennes: parasilo-7.rennes.grid5000.fr\n"
     ]
    },
    {
     "name": "stderr",
     "output_type": "stream",
     "text": [
      "rennes: Warning: Permanently added 'rennes.grid5000.fr,172.16.111.106' (ECDSA) to the list of known hosts.\r\n",
      "rennes: Connection to rennes.grid5000.fr closed.\r\n"
     ]
    }
   ],
   "source": [
    "deployment = Deployment(hosts=nodes, env_file = os.path.abspath(environment_dsc_file),\n",
    "                        other_options=\"-r ext4 --no-debug-mode\")\n",
    "\n",
    "deploy_ok, deploy_failed = deploy(deployment, check_deployed_command=not force_redeploy,\n",
    "                              stdout_handlers=[sys.stdout],\n",
    "                              stderr_handlers=[sys.stderr])"
   ]
  },
  {
   "cell_type": "code",
   "execution_count": 10,
   "metadata": {},
   "outputs": [
    {
     "name": "stdout",
     "output_type": "stream",
     "text": [
      "Deployement status:\n",
      "* ok: {'parasilo-7.rennes.grid5000.fr', 'parasilo-6.rennes.grid5000.fr', 'parasilo-5.rennes.grid5000.fr'}\n",
      "* failed: set()\n"
     ]
    }
   ],
   "source": [
    "print(\"Deployement status:\\n* ok: {}\\n* failed: {}\".format(deploy_ok, deploy_failed))"
   ]
  },
  {
   "cell_type": "markdown",
   "metadata": {},
   "source": [
    "##### Avec nom"
   ]
  },
  {
   "cell_type": "code",
   "execution_count": null,
   "metadata": {},
   "outputs": [],
   "source": [
    "deployed, undeployed = deploy(Deployment(nodes, env_name = \"debian9-x64-base\",other_options=\"-r ext4 --no-debug-mode\"),stdout_handlers=[sys.stdout],\n",
    "                              stderr_handlers=[sys.stderr])"
   ]
  },
  {
   "cell_type": "code",
   "execution_count": null,
   "metadata": {},
   "outputs": [],
   "source": [
    "print(\"Deployement status:\\n* ok: {}\\n* failed: {}\".format(deployed, undeployed))"
   ]
  },
  {
   "cell_type": "markdown",
   "metadata": {},
   "source": [
    "#### Test : commande simple 'ls'"
   ]
  },
  {
   "cell_type": "code",
   "execution_count": null,
   "metadata": {},
   "outputs": [],
   "source": [
    "Remote_test = execo.action.Remote(cmd='ls',hosts=nodes,connection_params=None, process_args=None)\n",
    "Remote_test.run().ok"
   ]
  },
  {
   "cell_type": "markdown",
   "metadata": {},
   "source": [
    "#### Installation environnement/tools sur noeuds"
   ]
  },
  {
   "cell_type": "code",
   "execution_count": 11,
   "metadata": {},
   "outputs": [],
   "source": [
    "Remote_install = execo.action.Remote(cmd='apt-get install g++ libboost-all-dev && wget http://gforge.inria.fr/frs/download.php/latestfile/8/SimGrid-3.18.tar.gz && tar -xvf SimGrid-3.18.tar.gz && cd SimGrid-3.18 && cmake -DCMAKE_INSTALL_PREFIX=/usr/local -Denable_smpi=on -Denable_documentation=off && make -j && make check && make install -j',hosts=nodes,connection_params={'user':'root'})"
   ]
  },
  {
   "cell_type": "code",
   "execution_count": 12,
   "metadata": {},
   "outputs": [
    {
     "data": {
      "text/plain": [
       "True"
      ]
     },
     "execution_count": 12,
     "metadata": {},
     "output_type": "execute_result"
    }
   ],
   "source": [
    "Remote_install.run().ok"
   ]
  },
  {
   "cell_type": "markdown",
   "metadata": {},
   "source": [
    "#### Version Simgrid"
   ]
  },
  {
   "cell_type": "code",
   "execution_count": 13,
   "metadata": {},
   "outputs": [
    {
     "data": {
      "text/plain": [
       "'SimGrid version 3.18  SimGrid version 3.18  SimGrid version 3.18  '"
      ]
     },
     "execution_count": 13,
     "metadata": {},
     "output_type": "execute_result"
    }
   ],
   "source": [
    "execo.action.Remote(cmd='touch smpi_version.txt && smpicc --version > smpi_version.txt'\n",
    "                    , hosts=nodes, connection_params={'user': 'root'\n",
    "                    }).run()\n",
    "version = ''\n",
    "for i in range(0, nodecount):\n",
    "    execo.action.Get(hosts=nodes[i], remote_files=['~/smpi_version.txt'\n",
    "                     ], local_location='./smpicc_version-'\n",
    "                     + get_host_shortname(nodes[i]) + '.txt',\n",
    "                     connection_params={'user': 'root'}).run()\n",
    "    version = version + execo.Process(cmd='head -n 1 ./smpicc_version-'\n",
    "            + get_host_shortname(nodes[i]) + '.txt'\n",
    "            ).run().stdout.replace('\\n', '  ')\n",
    "    execo.Process(cmd='rm ./smpicc_version-'\n",
    "                  + get_host_shortname(nodes[i]) + '.txt').run()\n",
    "version\n"
   ]
  },
  {
   "cell_type": "code",
   "execution_count": 14,
   "metadata": {},
   "outputs": [],
   "source": [
    "path_base = \"~/Stage-POLARIS/SimGrid/examples/SMPI/\"+experiment_name\n",
    "path_src = path_base + '/src/'\n",
    "path_rslt = path_base + '/results/'"
   ]
  },
  {
   "cell_type": "markdown",
   "metadata": {},
   "source": [
    "#### Récupération fichiers sources"
   ]
  },
  {
   "cell_type": "code",
   "execution_count": null,
   "metadata": {},
   "outputs": [],
   "source": [
    "Src_get = execo.action.Remote(cmd='mkdir -p experiments_src',hosts=nodes,connection_params={'user':'root'})\n",
    "Src_get.run().ok"
   ]
  },
  {
   "cell_type": "code",
   "execution_count": null,
   "metadata": {},
   "outputs": [],
   "source": [
    "Remote_smpi_env = execo.action.Put(hosts=nodes,local_files=[path_src+\"griffon.xml\",path_src+\"griffon_hostfile.txt\",path_src+\"broadcast.c\",path_src+\"Makefile\"],remote_location='~/experiments_src',connection_params={'user':'root'})\n",
    "Remote_smpi_env.run().ok"
   ]
  },
  {
   "cell_type": "markdown",
   "metadata": {},
   "source": [
    "#### Execution de l'expérience"
   ]
  },
  {
   "cell_type": "code",
   "execution_count": null,
   "metadata": {},
   "outputs": [],
   "source": [
    "Remote_smpi = execo.action.Remote(cmd ='cd ~/experiments_src && make && make run NPROCS=2 MIN=0 MAX=10 N=2 DELAY=\\\"0 0\\\"',hosts=nodes,connection_params={'user':'root'})\n",
    "Remote_smpi.run().ok"
   ]
  },
  {
   "cell_type": "markdown",
   "metadata": {},
   "source": [
    "#### Récupération des résultats"
   ]
  },
  {
   "cell_type": "code",
   "execution_count": null,
   "metadata": {},
   "outputs": [],
   "source": [
    "Result_get = \\\n",
    "    execo.Process(cmd='mkdir -p /home/nezzine/Stage-POLARIS/SimGrid/examples/SMPI/'\n",
    "                   + experiment_name + '/results/'\n",
    "                  + datetime.datetime.now().strftime('%Y-%m-%d'))\n",
    "Result_get.run().ok"
   ]
  },
  {
   "cell_type": "code",
   "execution_count": null,
   "metadata": {
    "scrolled": true
   },
   "outputs": [],
   "source": [
    "for i in range(0, nodecount):\n",
    "    execo.action.Get(hosts = nodes[i],\n",
    "                     remote_files=['~/experiments_src/bcast_results.txt'\n",
    "                     ],\n",
    "                     local_location = path_rslt\n",
    "                     + datetime.datetime.now().strftime('%Y-%m-%d')\n",
    "                     + '/' + get_host_shortname(nodes[i]) + '_'\n",
    "                     + datetime.datetime.now().strftime('%Y-%m-%d_%H:%M'\n",
    "                     ) + '.txt', connection_params={'user': 'root'\n",
    "                     }).run().ok"
   ]
  },
  {
   "cell_type": "markdown",
   "metadata": {},
   "source": [
    "#### Delayer"
   ]
  },
  {
   "cell_type": "code",
   "execution_count": 15,
   "metadata": {},
   "outputs": [],
   "source": [
    "def init_tab(num, elt) :\n",
    "    D = [elt] * num\n",
    "    return D"
   ]
  },
  {
   "cell_type": "code",
   "execution_count": 16,
   "metadata": {},
   "outputs": [],
   "source": [
    "# Parsing the results\n",
    "def parser(num_node,date_precise):\n",
    "    with open('/home/nezzine/Stage-POLARIS/SimGrid/examples/SMPI/Time_Bcast/results/'\n",
    "               + date_precise.split('_')[0] + '/'\n",
    "              + get_host_shortname(nodes[num_node]) + '_'\n",
    "              + date_precise\n",
    "              + '.txt') as f:\n",
    "        return f.readlines()"
   ]
  },
  {
   "cell_type": "code",
   "execution_count": 55,
   "metadata": {},
   "outputs": [],
   "source": [
    "# Converting and organizing data\n",
    "def tab_conv(l,NPROCS) :\n",
    "    S = init_tab(NPROCS, None)\n",
    "        \n",
    "    # Taking useful data    \n",
    "    for i in range(0,NPROCS) :\n",
    "        line = l[i].split()\n",
    "        S[int(line[1])] = float(line[5])\n",
    "    return S"
   ]
  },
  {
   "cell_type": "code",
   "execution_count": 56,
   "metadata": {},
   "outputs": [],
   "source": [
    "def delayer(num_node,NPROCS,date):\n",
    "    D = init_tab(NPROCS,0.0)\n",
    "    \n",
    "    raw_data = parser(num_node,date)\n",
    "    \n",
    "    S = tab_conv(raw_data,NPROCS)\n",
    "    \n",
    "    for p in range(0, NPROCS):\n",
    "        D[p] = S[p] - min(S)\n",
    "    return [D,min(S)]"
   ]
  },
  {
   "cell_type": "code",
   "execution_count": null,
   "metadata": {},
   "outputs": [],
   "source": [
    "# Example\n",
    "delayer(0,10,'2018-06-04_12:38')"
   ]
  },
  {
   "cell_type": "markdown",
   "metadata": {},
   "source": [
    "##### Shortcut : séquentiel"
   ]
  },
  {
   "cell_type": "code",
   "execution_count": 19,
   "metadata": {},
   "outputs": [],
   "source": [
    "def setup() :\n",
    "    Src_dir = execo.action.Remote(cmd='mkdir -p experiments_src',\n",
    "                              hosts=nodes,\n",
    "                              connection_params={'user': 'root'})\n",
    "    Src_get = execo.action.Put(hosts=nodes, local_files=[path_src\n",
    "                                   + 'griffon.xml', path_src\n",
    "                                   + 'griffon_hostfile.txt', path_src\n",
    "                                   + 'broadcast.c', path_src + 'Makefile'],\n",
    "                                   remote_location='~/experiments_src',\n",
    "                                   connection_params={'user': 'root'})\n",
    "    Rslt_dir = \\\n",
    "        execo.Process(cmd='mkdir -p /home/nezzine/Stage-POLARIS/SimGrid/examples/SMPI/'\n",
    "                   + experiment_name + '/results/'\n",
    "                  + datetime.datetime.now().strftime('%Y-%m-%d'))\n",
    "\n",
    "# On récup les src\n",
    "    Src_dir.run().ok\n",
    "    Src_get.run().ok\n",
    "    Rslt_dir.run().ok\n"
   ]
  },
  {
   "cell_type": "code",
   "execution_count": null,
   "metadata": {},
   "outputs": [],
   "source": [
    "# Test : trajectoire jusqu'à la ième machine raccrochée à la trajectoire initiale\n",
    "def coherence(tab,i):\n",
    "     return all(x == True for x in tab[0:i])"
   ]
  },
  {
   "cell_type": "code",
   "execution_count": 57,
   "metadata": {},
   "outputs": [
    {
     "name": "stdout",
     "output_type": "stream",
     "text": [
      "2018-06-26_15:00\n",
      "parasilo-5 => 0 NPROCS = 10 MIN = 0 MAX = 33 N = 100 DELAY = '0.0 0.0 0.0 0.0 0.0 0.0 0.0 0.0 0.0 0.0'\n",
      "True\n",
      "[[0.0002902800000000004, 0.00038702000000000007, 0.0, 0.00019351000000000004, 0.0002902800000000004, 0.00038702000000000007, 0.00029032000000000016, 0.0003870900000000005, 0.0003870900000000005, 0.0004838300000000002], 0.00599934]\n",
      "parasilo-6 => 1 NPROCS = 10 MIN = 33 MAX = 66 N = 100 DELAY = '0.0 0.0 0.0 0.0 0.0 0.0 0.0 0.0 0.0 0.0'\n",
      "True\n",
      "[[0.0003878900000000001, 0.0003878900000000001, 0.0004846299999999998, 0.00029054999999999966, 0.0003872900000000002, 0.0, 0.00019349000000000015, 0.00029023999999999977, 0.0003869800000000003, 0.00029111999999999975], 0.00599826]\n",
      "parasilo-7 => 2 NPROCS = 10 MIN = 66 MAX = 100 N = 100 DELAY = '0.0 0.0 0.0 0.0 0.0 0.0 0.0 0.0 0.0 0.0'\n",
      "True\n",
      "[[0.00019351999999999998, 0.00029028999999999947, 0.00038703, 0.0002905399999999997, 0.0003873100000000001, 0.0003873100000000001, 0.0004840599999999997, 0.00029028999999999947, 0.00038703, 0.0], 0.00619247]\n"
     ]
    }
   ],
   "source": [
    "\n",
    "def parl_exec () :\n",
    "    setup()\n",
    "    # Nbr pcs\n",
    "    NPROCS = 10\n",
    "    \n",
    "    # Nbr itérations\n",
    "    N = 100\n",
    "    \n",
    "    D = init_tab(NPROCS,0.0)\n",
    "    delay = ' '.join(str(e) for e in D)\n",
    "    date = datetime.datetime.now().strftime('%Y-%m-%d');\n",
    "    date_precise = datetime.datetime.now().strftime('%Y-%m-%d_%H:%M')\n",
    "    print(date_precise)\n",
    "    \n",
    "    # TODO //\n",
    "    for i in range (0,nodecount) :\n",
    "        MIN = (int)((i*N)/len(nodes))\n",
    "        MAX = (int)(((i+1)*N)/len(nodes))\n",
    "        print(get_host_shortname(nodes[i])+\" => \"+str(i)+\" NPROCS = \"+str(NPROCS)\n",
    "             +\" MIN = \"+str(MIN)\n",
    "             +\" MAX = \"+str(MAX)\n",
    "             +\" N = \"+str(N)\n",
    "             +\" DELAY = '\"+ delay +\"'\"\n",
    "            )\n",
    "        bool = execo.action.Remote(cmd ='cd ~/experiments_src && make && make run NPROCS='\n",
    "                                  +str(NPROCS)+' MIN='+str(MIN) \n",
    "                                  +' MAX='+str(MAX)+' N='+str(N)\n",
    "                                  +\" DELAY='\"+delay\n",
    "                                  +\"'\",hosts=nodes[i],connection_params={'user':'root'}).run().ok\n",
    "        print(bool)\n",
    "        execo.action.Get(hosts=nodes[i],\n",
    "                     remote_files=['~/experiments_src/bcast_results.txt'\n",
    "                     ],\n",
    "                     local_location= path_rslt\n",
    "                     + date\n",
    "                     + '/' + get_host_shortname(nodes[i]) + '_'\n",
    "                     + date_precise + '.txt', connection_params={'user': 'root'\n",
    "                     }).run().ok\n",
    "        print(delayer(i,NPROCS,date_precise))\n",
    "    return;\n",
    "\n",
    "parl_exec()\n",
    "\n",
    "for i in range(0, nodecount):\n",
    "    execo.action.Get(hosts=nodes[i],\n",
    "                     remote_files=['~/experiments_src/bcast_results.txt'\n",
    "                     ],\n",
    "                     local_location=path_rslt\n",
    "                     + datetime.datetime.now().strftime('%Y-%m-%d')\n",
    "                     + '/' + get_host_shortname(nodes[i]) + '_'\n",
    "                     + datetime.datetime.now().strftime('%Y-%m-%d_%H:%M'\n",
    "                     ) + '.txt', connection_params={'user': 'root'\n",
    "                     }).run().ok"
   ]
  },
  {
   "cell_type": "markdown",
   "metadata": {},
   "source": [
    "#### Parallel simulation"
   ]
  },
  {
   "cell_type": "code",
   "execution_count": 20,
   "metadata": {},
   "outputs": [],
   "source": [
    "# Thread pour la simulation // opt.\n",
    "class ParSimer(Thread):\n",
    "\n",
    "    \"\"\"Thread chargé simplement d'afficher une lettre dans la console.\"\"\"\n",
    "    \n",
    "    # Paramètrage du thread\n",
    "    def __init__(self,i,MIN,MAX,N,DELAY):\n",
    "        Thread.__init__(self)\n",
    "        self.MIN = MIN\n",
    "        self.MAX = MAX\n",
    "        self.N = N\n",
    "        self.DELAY = DELAY\n",
    "        self.i = i\n",
    "    \n",
    "    # Set la valeur du délai\n",
    "    def set_delay(self,delay):\n",
    "        self.DELAY = delay\n",
    "    \n",
    "    def get_delay(self):\n",
    "        return self.DELAY\n",
    "    def get_MIN(self):\n",
    "        return self.MIN\n",
    "    def run(self):\n",
    "        \"\"\"Code à exécuter pendant l'exécution du thread.\"\"\"\n",
    "        \"\"\"print(get_host_shortname(nodes[self.i])+\" => \"+str(self.i)+\" NPROCS = \"+str(NPROCS)\n",
    "             +\" MIN = \"+str(self.MIN)\n",
    "             +\" MAX = \"+str(self.MAX)\n",
    "             +\" N = \"+str(self.N)\n",
    "             +\" DELAY = '\"+ self.DELAY +\"'\\n\"\n",
    "            )\n",
    "        \"\"\"\n",
    "        # make run sur toutes la machine dont le thread s'occupe avec ses paramètres\n",
    "        execo.action.Remote(cmd ='cd ~/experiments_src && make && make run NPROCS='\n",
    "                                  +str(NPROCS)+' MIN='+str(self.MIN) \n",
    "                                  +' MAX='+str(self.MAX)+' N='+str(self.N)\n",
    "                                  +\" DELAY='\"+self.DELAY\n",
    "                                  +\"'\",hosts=nodes[self.i],connection_params={'user':'root'}).run().ok\n"
   ]
  },
  {
   "cell_type": "code",
   "execution_count": 21,
   "metadata": {},
   "outputs": [],
   "source": [
    "# Formate le tableau en string pour pouvoir etre passé en ligne de commande\n",
    "def format_cmd(data):\n",
    "    return (' '.join(str(e) for e in data))"
   ]
  },
  {
   "cell_type": "code",
   "execution_count": 61,
   "metadata": {},
   "outputs": [],
   "source": [
    "# Formate le string en tableau d'int pour être manipulé \n",
    "def unformat_cmd(data):\n",
    "    return list(map(float,data.split()))"
   ]
  },
  {
   "cell_type": "code",
   "execution_count": 23,
   "metadata": {},
   "outputs": [],
   "source": [
    "# SOURCE : https://stackoverflow.com/questions/3229419/how-to-pretty-print-nested-dictionaries\n",
    "def pretty(d, indent=0):\n",
    "    for key, value in d.items():\n",
    "        print('\\t' * indent + str(key))\n",
    "        if isinstance(value, type({})):\n",
    "            pretty(value, indent+1)\n",
    "        else:\n",
    "            print('\\t' * (indent+1) + str(value))"
   ]
  },
  {
   "cell_type": "code",
   "execution_count": 64,
   "metadata": {},
   "outputs": [],
   "source": [
    "def generate_Dprime(NPROCS,border_inf,border_sup):\n",
    "    new_Dprime = []\n",
    "    if (border_inf == 0):\n",
    "        for p in range(NPROCS):\n",
    "            new_Dprime.append(random.choice(range(0,border_sup[p]+1)))\n",
    "    else : \n",
    "        for p in range(NPROCS):\n",
    "            new_Dprime.append(random.choice(range(border_inf[p]+1,border_sup[p]+1)))\n",
    "    return format_cmd(new_Dprime)"
   ]
  },
  {
   "cell_type": "code",
   "execution_count": null,
   "metadata": {},
   "outputs": [],
   "source": [
    "bold\n",
    "dark\n",
    "underline\n",
    "blink\n",
    "reverse\n",
    "concealed"
   ]
  },
  {
   "cell_type": "code",
   "execution_count": 34,
   "metadata": {},
   "outputs": [
    {
     "name": "stdout",
     "output_type": "stream",
     "text": [
      "\u001b[5m\u001b[31mHello, World!\u001b[0m\n",
      "\u001b[2m\u001b[31mHello, World!\u001b[0m\n",
      "\u001b[4m\u001b[31mHello, World!\u001b[0m\n",
      "\u001b[1m\u001b[31mHello, World!\u001b[0m\n",
      "\u001b[8m\u001b[31mHello, World!\u001b[0m\n",
      "\u001b[7m\u001b[41m\u001b[32mHello, World!\u001b[0m\n"
     ]
    }
   ],
   "source": [
    "import sys\n",
    "from termcolor import colored, cprint\n",
    "\n",
    "text = colored('Hello, World!', 'red', attrs=[ 'blink'])\n",
    "print(text)\n",
    "text = colored('Hello, World!', 'red', attrs=['dark'])\n",
    "print(text)\n",
    "text = colored('Hello, World!', 'red', attrs=[ 'underline'])\n",
    "print(text)\n",
    "text = colored('Hello, World!', 'red', attrs=[ 'bold'])\n",
    "print(text)\n",
    "text = colored('Hello, World!', 'red', attrs=[ 'concealed'])\n",
    "print(text)\n",
    "cprint('Hello, World!', 'green', 'on_red',attrs=[ 'reverse'])"
   ]
  },
  {
   "cell_type": "code",
   "execution_count": 62,
   "metadata": {},
   "outputs": [],
   "source": [
    "# SIMULATION\n",
    "def simulation(N, NPROCS, fragment_size, mode, catch_me):\n",
    "    \"\"\"Contrôle de la validité des paramètres\"\"\"\n",
    "    # Taille du fragment ne peut être supérieure à la zone d'itération\n",
    "    if (fragment_size > N): \n",
    "        raise ValueError(\"Fragment size cannot be superior to N\")\n",
    "        \n",
    "    \"\"\"Mise en place de l'environnement et des variables\"\"\"\n",
    "    # Environnement\n",
    "    setup() \n",
    "    \n",
    "    # Dates: pour la gestion de fichiers (IMPORTANT pour lecture/écriture)\n",
    "    date_precise = datetime.datetime.now().strftime('%Y-%m-%d_%H:%M')\n",
    "    date = date_precise.split('_')[0]\n",
    "    \n",
    "    # Total execution time\n",
    "    total_execution_time = 0\n",
    "    \n",
    "    # Tableau de threads\n",
    "    machines = init_tab(nodecount, None)\n",
    "      \n",
    "    # position trajectoire cohérente courante\n",
    "    t_curr = 0\n",
    "    \n",
    "    # D de la trajectorie cohérente courante\n",
    "    D_curr = format_cmd(init_tab(NPROCS, 0))\n",
    "    \n",
    "    # Taille du dernier slot\n",
    "    last_fragment_size = N % fragment_size\n",
    "    \n",
    "    # Nombre de fragments\n",
    "    fragment_number = int((math.ceil(N / fragment_size)))\n",
    "    \n",
    "    # Nombre de rounds\n",
    "    rounds_taken = 0\n",
    "    \n",
    "    # zone d'itérations à explorer\n",
    "    To_explore = collections.deque()\n",
    "    \n",
    "    # Initialisation des zones à explorer D = '0...0' pour chaque zone T -> (Min d'itération , D initial)\n",
    "    for i in range(fragment_number):\n",
    "        To_explore.append((i * fragment_size, format_cmd(init_tab(NPROCS, 0))))\n",
    "\n",
    "    # Round actuel\n",
    "    curr_round = 0\n",
    "    \n",
    "    # Liste des trajectoires pour un temps t et un D donnée\n",
    "    sim = {}\n",
    "    \n",
    "\n",
    "\n",
    "\n",
    "    success = False \n",
    "    \n",
    "    catch_me_ind = 0\n",
    "    \n",
    "    while(True):\n",
    "        curr_round = curr_round + 1\n",
    "        \n",
    "        # Trajectoire cohérente complète trouvé : FIN DE SIMULATION\n",
    "        if (t_curr >= N) :\n",
    "            cprint (\"Total time : \" + str(total_execution_time) , \"grey\" , \"on_yellow\")\n",
    "            cprint (\"Success : \" + str(success) , \"grey\" , \"on_green\")\n",
    "            break;        \n",
    "        if (len(To_explore) == 0):\n",
    "            raise \n",
    "        # Il n'existe pas encore de trajectoire cohérente -> Nouveau round\n",
    "        cprint(\"--------------------------------------------  ROUND :  \" + str(curr_round) + \"   --------------------------------------------\\n\",\"red\")\n",
    "        \n",
    "        # Zones restantes à explorer\n",
    "        number_paths_To_explore = len(To_explore)\n",
    "        \n",
    "        # Nombre de tâches parallèles lançables\n",
    "        number_launchable_tasks = min(nodecount, number_paths_To_explore)\n",
    "        \n",
    "        # Affichage des paramètres\n",
    "        cprint (\"  || LAUNCHING || \\n\",\"green\")\n",
    "        print ( colored(\"TO EXPLORE : \" , \"blue\"), str(To_explore)) \n",
    "        \n",
    "        \"\"\" Paramètrage des machines \"\"\"\n",
    "        \n",
    "        # Soit j'ai plus de zone à explorer que de machines disponibles soit l'inverse\n",
    "        for q in range(number_launchable_tasks):\n",
    "            \n",
    "            # On récupère la première zone à explorer\n",
    "            parameters = To_explore.popleft()\n",
    "            \n",
    "            # MIN est le champ de gauche\n",
    "            MIN = parameters[0]\n",
    "            \n",
    "            # MAX de la zone à explorer vaut le min + la taille du slot\n",
    "            MAX = min (MIN + fragment_size, N)\n",
    "            \n",
    "            # D est le champ de droite\n",
    "            delay = parameters[1]\n",
    "            \n",
    "            # Paramètrage des machines\n",
    "            machines[q] = ParSimer(q, MIN, MAX, N, delay)\n",
    "            #print(\"Machine \" + str(q) + \" -> MIN :\" + str(MIN) + \" MAX : \" + str(MAX) + \" D : \"+ delay)   \n",
    "                \n",
    "        \"\"\" Simulation \"\"\"  \n",
    "        # Lancement de la simulation\n",
    "        for q in range(number_launchable_tasks):\n",
    "            machines[q].start()\n",
    "            \n",
    "        # Fin de simulation\n",
    "        for q in range(number_launchable_tasks) :\n",
    "            machines[q].join()\n",
    "            # Récupération des résultats\n",
    "            execo.action.Get(hosts=nodes[q],\n",
    "                     remote_files=['~/experiments_src/bcast_results.txt'\n",
    "                     ],\n",
    "                     local_location= path_rslt\n",
    "                     + date\n",
    "                     + '/' + get_host_shortname(nodes[q]) + '_'\n",
    "                     + date_precise + '.txt', connection_params={'user': 'root'\n",
    "                     }).run().ok    \n",
    "            \n",
    "        \"\"\" Analyse des résultats\"\"\"    \n",
    "        # Traitement des données\n",
    "        for q in range(number_launchable_tasks):\n",
    "            # On récupère les paramètres des machines\n",
    "            t = machines[q].get_MIN()\n",
    "            D = machines[q].get_delay()\n",
    "            \n",
    "            # Calcul du délai\n",
    "            # On récupère D et S\n",
    "            raw_data = delayer(q, NPROCS, date_precise)\n",
    "            \n",
    "            # Filtre D : Calcul du délai\n",
    "            Dprime = format_cmd(raw_data[0])\n",
    "            \n",
    "            #Filte S : Calcul du temps d'éxécution total \n",
    "            T = raw_data[1]\n",
    "            \n",
    "            # Ajout dans ma table (Dprime, round, machine qui l'a calculé, temps)\n",
    "            sim.setdefault(t,{}).update({D:(Dprime,curr_round,q,T)})\n",
    "            MAX = min (t + fragment_size, N)\n",
    "        \n",
    "        # Affichage des paramètres\n",
    "        print ( colored (\"T_curr : \" , \"yellow\") , str(t_curr))\n",
    "        print ( colored (\"D_curr : \" , \"yellow\") , str(D_curr))\n",
    "        print ( colored (\"Dprime : \", \"yellow\") , str(Dprime))\n",
    "        print ( colored (\"total execution time : \", \"red\") , str(total_execution_time) + \"\\n\") \n",
    "        \n",
    "        merged_paths = 0\n",
    "        # Calcul de la trajectoire cohérente\n",
    "        while (t_curr < N and t_curr in sim and D_curr in sim[t_curr]):\n",
    "            merged_paths += 1\n",
    "            # Update le temps d'exécution\n",
    "            total_execution_time += sim[t_curr][D_curr][3]\n",
    "            \n",
    "            # Update du temps d'exécution dans le dernier fragment\n",
    "            if (t_curr + fragment_size >= N) : total_execution_time += max(unformat_cmd(sim[t_curr][D_curr][0]))\n",
    "            \n",
    "            # Update des t_curr et D_curr\n",
    "            D_curr = sim[t_curr][D_curr][0]\n",
    "            t_curr = min(t_curr + fragment_size, N)\n",
    "        if (merged_paths > 1) : \n",
    "            cprint(\"****** SUCCESS : \" + str(merged_paths), attrs=['reverse', 'bold'])\n",
    "            success = True \n",
    "        \n",
    "        # Affichage des résultats\n",
    "        cprint (\"\\n  || RESULTS || \\n\",\"red\")\n",
    "        print ( colored ( \"TO EXPLORE : \" , \"blue\"), str(To_explore)) \n",
    "        pretty (sim) \n",
    "        print ( colored (\"T_curr : \" , \"yellow\"), str(t_curr))\n",
    "        print ( colored (\"D_curr : \" , \"yellow\") , str(D_curr))\n",
    "        print ( colored (\"Dprime : \", \"yellow\") , str(Dprime))\n",
    "        print ( colored (\"total execution time : \", \"red\") , str(total_execution_time) + \"\\n\") \n",
    "        \n",
    "        \n",
    "        \"\"\" Nouveau paramètrages \"\"\"\n",
    "        cprint(\"  || ANALYSIS || \\n\",\"magenta\")\n",
    "        \n",
    "        for q in range(number_launchable_tasks):\n",
    "            t = machines[q].get_MIN()\n",
    "            D = machines[q].get_delay()\n",
    "            \n",
    "            MAX = min(t + fragment_size, N)\n",
    "            Dprime = sim[t][D][0]\n",
    "           \n",
    "            # Zone valide\n",
    "            if(MAX < N):\n",
    "                # Zone pas encore relié à la trajectoire initiale\n",
    "                if (MAX > t_curr):\n",
    "                    caught = False\n",
    "                # Ajout dans les zones à explorer du nouveau point de départ à exploiter en fonction du mode\n",
    "                    # Test catch me sur 2^catch_me_ind round\n",
    "                    if (catch_me and 1 << catch_me_ind == curr_round):\n",
    "                        catch_me_ind += 1\n",
    "                        try :\n",
    "                            caught = Dprime in sim[MAX]\n",
    "                        except KeyError:\n",
    "                            pass \n",
    "                       \n",
    "                    if (not catch_me or not caught):\n",
    "                        borders = unformat_cmd(Dprime)\n",
    "                        double_Dprime = [(2*(x+1)) for x in borders]\n",
    "                      \n",
    "                        # Bornes pour le random \n",
    "                        border_inf = 0\n",
    "                        border_sup = double_Dprime\n",
    "                        if (mode == \"RAND_SUP\") : \n",
    "                            border_sup = borders\n",
    "                            Dprime =  generate_Dprime(NPROCS, border_inf, border_sup)\n",
    "                        elif (mode == \"RAND_INF\") : \n",
    "                            border_inf = borders\n",
    "                            Dprime = generate_Dprime(NPROCS, border_inf, border_sup)\n",
    "                        elif (mode == \"RAND\") : \n",
    "                            Dprime =  generate_Dprime(NPROCS, border_inf, border_sup)\n",
    "                        print(\"[\"+str(MAX) +\"] Generated \" + str(mode) + \" Dprime : \" + str(Dprime))\n",
    "                To_explore.appendleft((MAX, Dprime))\n",
    "        print(colored ( \"TO EXPLORE : \" , \"blue\") , str(To_explore) + \"\\n\")\n",
    "        "
   ]
  },
  {
   "cell_type": "code",
   "execution_count": 66,
   "metadata": {
    "scrolled": true
   },
   "outputs": [
    {
     "name": "stdout",
     "output_type": "stream",
     "text": [
      "\u001b[31m--------------------------------------------  ROUND :  1   --------------------------------------------\n",
      "\u001b[0m\n",
      "\u001b[32m  || LAUNCHING || \n",
      "\u001b[0m\n",
      "\u001b[34mTO EXPLORE : \u001b[0m deque([(0, '0 0 0 0 0 0 0 0 0 0 0 0 0 0 0 0 0 0 0 0'), (10, '0 0 0 0 0 0 0 0 0 0 0 0 0 0 0 0 0 0 0 0'), (20, '0 0 0 0 0 0 0 0 0 0 0 0 0 0 0 0 0 0 0 0'), (30, '0 0 0 0 0 0 0 0 0 0 0 0 0 0 0 0 0 0 0 0'), (40, '0 0 0 0 0 0 0 0 0 0 0 0 0 0 0 0 0 0 0 0'), (50, '0 0 0 0 0 0 0 0 0 0 0 0 0 0 0 0 0 0 0 0'), (60, '0 0 0 0 0 0 0 0 0 0 0 0 0 0 0 0 0 0 0 0'), (70, '0 0 0 0 0 0 0 0 0 0 0 0 0 0 0 0 0 0 0 0'), (80, '0 0 0 0 0 0 0 0 0 0 0 0 0 0 0 0 0 0 0 0'), (90, '0 0 0 0 0 0 0 0 0 0 0 0 0 0 0 0 0 0 0 0')])\n",
      "\u001b[33mT_curr : \u001b[0m 0\n",
      "\u001b[33mD_curr : \u001b[0m 0 0 0 0 0 0 0 0 0 0 0 0 0 0 0 0 0 0 0 0\n",
      "\u001b[33mDprime : \u001b[0m 0.0004843499999999997 0.00038762 0.0004843899999999999 0.0004843899999999999 0.00058113 0.00029078999999999997 0.0003875599999999999 0.0003875599999999999 0.0004843 0.0 0.00019348999999999994 0.00029022999999999983 0.00038696999999999994 0.00029078999999999997 0.0003875599999999999 0.0003875599999999999 0.0004843 0.0002908199999999998 0.0003876099999999998 0.0003876099999999998\n",
      "\u001b[31mtotal execution time : \u001b[0m 0\n",
      "\n",
      "\u001b[31m\n",
      "  || RESULTS || \n",
      "\u001b[0m\n",
      "\u001b[34mTO EXPLORE : \u001b[0m deque([(30, '0 0 0 0 0 0 0 0 0 0 0 0 0 0 0 0 0 0 0 0'), (40, '0 0 0 0 0 0 0 0 0 0 0 0 0 0 0 0 0 0 0 0'), (50, '0 0 0 0 0 0 0 0 0 0 0 0 0 0 0 0 0 0 0 0'), (60, '0 0 0 0 0 0 0 0 0 0 0 0 0 0 0 0 0 0 0 0'), (70, '0 0 0 0 0 0 0 0 0 0 0 0 0 0 0 0 0 0 0 0'), (80, '0 0 0 0 0 0 0 0 0 0 0 0 0 0 0 0 0 0 0 0'), (90, '0 0 0 0 0 0 0 0 0 0 0 0 0 0 0 0 0 0 0 0')])\n",
      "0\n",
      "\t0 0 0 0 0 0 0 0 0 0 0 0 0 0 0 0 0 0 0 0\n",
      "\t\t('0.00048435000000000015 0.00038762 0.0004843899999999999 0.0004843899999999999 0.00058114 0.00029078999999999997 0.0003875600000000001 0.0003875600000000001 0.0004843 0.0 0.00019349000000000015 0.00029023000000000005 0.0003869800000000001 0.00029078999999999997 0.0003875600000000001 0.0003875600000000001 0.0004843 0.00029082 0.00038761000000000004 0.00038761000000000004', 1, 0, 0.00154836)\n",
      "10\n",
      "\t0 0 0 0 0 0 0 0 0 0 0 0 0 0 0 0 0 0 0 0\n",
      "\t\t('0.00019349000000000015 0.00029023000000000005 0.0003869800000000001 0.0002907900000000002 0.0003875600000000001 0.0003875600000000001 0.0004843000000000002 0.00029082 0.00038761000000000004 0.00038761000000000004 0.00048434999999999993 0.0003876200000000002 0.0004843900000000001 0.0004843900000000001 0.0005811400000000002 0.0002907900000000002 0.0003875600000000001 0.0003875600000000001 0.0004843000000000002 0.0', 1, 1, 0.00154811)\n",
      "20\n",
      "\t0 0 0 0 0 0 0 0 0 0 0 0 0 0 0 0 0 0 0 0\n",
      "\t\t('0.0004843499999999997 0.00038762 0.0004843899999999999 0.0004843899999999999 0.00058113 0.00029078999999999997 0.0003875599999999999 0.0003875599999999999 0.0004843 0.0 0.00019348999999999994 0.00029022999999999983 0.00038696999999999994 0.00029078999999999997 0.0003875599999999999 0.0003875599999999999 0.0004843 0.0002908199999999998 0.0003876099999999998 0.0003876099999999998', 1, 2, 0.00154833)\n",
      "\u001b[33mT_curr : \u001b[0m 10\n",
      "\u001b[33mD_curr : \u001b[0m 0.00048435000000000015 0.00038762 0.0004843899999999999 0.0004843899999999999 0.00058114 0.00029078999999999997 0.0003875600000000001 0.0003875600000000001 0.0004843 0.0 0.00019349000000000015 0.00029023000000000005 0.0003869800000000001 0.00029078999999999997 0.0003875600000000001 0.0003875600000000001 0.0004843 0.00029082 0.00038761000000000004 0.00038761000000000004\n",
      "\u001b[33mDprime : \u001b[0m 0.0004843499999999997 0.00038762 0.0004843899999999999 0.0004843899999999999 0.00058113 0.00029078999999999997 0.0003875599999999999 0.0003875599999999999 0.0004843 0.0 0.00019348999999999994 0.00029022999999999983 0.00038696999999999994 0.00029078999999999997 0.0003875599999999999 0.0003875599999999999 0.0004843 0.0002908199999999998 0.0003876099999999998 0.0003876099999999998\n",
      "\u001b[31mtotal execution time : \u001b[0m 0.00154836\n",
      "\n",
      "\u001b[35m  || ANALYSIS || \n",
      "\u001b[0m\n"
     ]
    },
    {
     "ename": "TypeError",
     "evalue": "'float' object cannot be interpreted as an integer",
     "output_type": "error",
     "traceback": [
      "\u001b[0;31m---------------------------------------------------------------------------\u001b[0m",
      "\u001b[0;31mTypeError\u001b[0m                                 Traceback (most recent call last)",
      "\u001b[0;32m<ipython-input-66-c9cb31be306c>\u001b[0m in \u001b[0;36m<module>\u001b[0;34m()\u001b[0m\n\u001b[1;32m     16\u001b[0m \u001b[0;34m\u001b[0m\u001b[0m\n\u001b[1;32m     17\u001b[0m \u001b[0;31m# Lancement de la simulation\u001b[0m\u001b[0;34m\u001b[0m\u001b[0;34m\u001b[0m\u001b[0m\n\u001b[0;32m---> 18\u001b[0;31m \u001b[0msimulation\u001b[0m\u001b[0;34m(\u001b[0m\u001b[0mN\u001b[0m\u001b[0;34m,\u001b[0m\u001b[0mNPROCS\u001b[0m\u001b[0;34m,\u001b[0m\u001b[0mfragment_size\u001b[0m\u001b[0;34m,\u001b[0m\u001b[0mmode\u001b[0m\u001b[0;34m,\u001b[0m\u001b[0mcatch_me\u001b[0m\u001b[0;34m)\u001b[0m\u001b[0;34m\u001b[0m\u001b[0m\n\u001b[0m",
      "\u001b[0;32m<ipython-input-62-6cdcd217c770>\u001b[0m in \u001b[0;36msimulation\u001b[0;34m(N, NPROCS, fragment_size, mode, catch_me)\u001b[0m\n\u001b[1;32m    209\u001b[0m                             \u001b[0mDprime\u001b[0m \u001b[0;34m=\u001b[0m \u001b[0mgenerate_Dprime\u001b[0m\u001b[0;34m(\u001b[0m\u001b[0mNPROCS\u001b[0m\u001b[0;34m,\u001b[0m \u001b[0mborder_inf\u001b[0m\u001b[0;34m,\u001b[0m \u001b[0mborder_sup\u001b[0m\u001b[0;34m)\u001b[0m\u001b[0;34m\u001b[0m\u001b[0m\n\u001b[1;32m    210\u001b[0m                         \u001b[0;32melif\u001b[0m \u001b[0;34m(\u001b[0m\u001b[0mmode\u001b[0m \u001b[0;34m==\u001b[0m \u001b[0;34m\"RAND\"\u001b[0m\u001b[0;34m)\u001b[0m \u001b[0;34m:\u001b[0m\u001b[0;34m\u001b[0m\u001b[0m\n\u001b[0;32m--> 211\u001b[0;31m                             \u001b[0mDprime\u001b[0m \u001b[0;34m=\u001b[0m  \u001b[0mgenerate_Dprime\u001b[0m\u001b[0;34m(\u001b[0m\u001b[0mNPROCS\u001b[0m\u001b[0;34m,\u001b[0m \u001b[0mborder_inf\u001b[0m\u001b[0;34m,\u001b[0m \u001b[0mborder_sup\u001b[0m\u001b[0;34m)\u001b[0m\u001b[0;34m\u001b[0m\u001b[0m\n\u001b[0m\u001b[1;32m    212\u001b[0m                         \u001b[0mprint\u001b[0m\u001b[0;34m(\u001b[0m\u001b[0;34m\"[\"\u001b[0m\u001b[0;34m+\u001b[0m\u001b[0mstr\u001b[0m\u001b[0;34m(\u001b[0m\u001b[0mMAX\u001b[0m\u001b[0;34m)\u001b[0m \u001b[0;34m+\u001b[0m\u001b[0;34m\"] Generated \"\u001b[0m \u001b[0;34m+\u001b[0m \u001b[0mstr\u001b[0m\u001b[0;34m(\u001b[0m\u001b[0mmode\u001b[0m\u001b[0;34m)\u001b[0m \u001b[0;34m+\u001b[0m \u001b[0;34m\" Dprime : \"\u001b[0m \u001b[0;34m+\u001b[0m \u001b[0mstr\u001b[0m\u001b[0;34m(\u001b[0m\u001b[0mDprime\u001b[0m\u001b[0;34m)\u001b[0m\u001b[0;34m)\u001b[0m\u001b[0;34m\u001b[0m\u001b[0m\n\u001b[1;32m    213\u001b[0m                 \u001b[0mTo_explore\u001b[0m\u001b[0;34m.\u001b[0m\u001b[0mappendleft\u001b[0m\u001b[0;34m(\u001b[0m\u001b[0;34m(\u001b[0m\u001b[0mMAX\u001b[0m\u001b[0;34m,\u001b[0m \u001b[0mDprime\u001b[0m\u001b[0;34m)\u001b[0m\u001b[0;34m)\u001b[0m\u001b[0;34m\u001b[0m\u001b[0m\n",
      "\u001b[0;32m<ipython-input-64-1f5de60cf657>\u001b[0m in \u001b[0;36mgenerate_Dprime\u001b[0;34m(NPROCS, border_inf, border_sup)\u001b[0m\n\u001b[1;32m      3\u001b[0m     \u001b[0;32mif\u001b[0m \u001b[0;34m(\u001b[0m\u001b[0mborder_inf\u001b[0m \u001b[0;34m==\u001b[0m \u001b[0;36m0\u001b[0m\u001b[0;34m)\u001b[0m\u001b[0;34m:\u001b[0m\u001b[0;34m\u001b[0m\u001b[0m\n\u001b[1;32m      4\u001b[0m         \u001b[0;32mfor\u001b[0m \u001b[0mp\u001b[0m \u001b[0;32min\u001b[0m \u001b[0mrange\u001b[0m\u001b[0;34m(\u001b[0m\u001b[0mNPROCS\u001b[0m\u001b[0;34m)\u001b[0m\u001b[0;34m:\u001b[0m\u001b[0;34m\u001b[0m\u001b[0m\n\u001b[0;32m----> 5\u001b[0;31m             \u001b[0mnew_Dprime\u001b[0m\u001b[0;34m.\u001b[0m\u001b[0mappend\u001b[0m\u001b[0;34m(\u001b[0m\u001b[0mrandom\u001b[0m\u001b[0;34m.\u001b[0m\u001b[0mchoice\u001b[0m\u001b[0;34m(\u001b[0m\u001b[0mrange\u001b[0m\u001b[0;34m(\u001b[0m\u001b[0;36m0\u001b[0m\u001b[0;34m,\u001b[0m\u001b[0mborder_sup\u001b[0m\u001b[0;34m[\u001b[0m\u001b[0mp\u001b[0m\u001b[0;34m]\u001b[0m\u001b[0;34m+\u001b[0m\u001b[0;36m1\u001b[0m\u001b[0;34m)\u001b[0m\u001b[0;34m)\u001b[0m\u001b[0;34m)\u001b[0m\u001b[0;34m\u001b[0m\u001b[0m\n\u001b[0m\u001b[1;32m      6\u001b[0m     \u001b[0;32melse\u001b[0m \u001b[0;34m:\u001b[0m\u001b[0;34m\u001b[0m\u001b[0m\n\u001b[1;32m      7\u001b[0m         \u001b[0;32mfor\u001b[0m \u001b[0mp\u001b[0m \u001b[0;32min\u001b[0m \u001b[0mrange\u001b[0m\u001b[0;34m(\u001b[0m\u001b[0mNPROCS\u001b[0m\u001b[0;34m)\u001b[0m\u001b[0;34m:\u001b[0m\u001b[0;34m\u001b[0m\u001b[0m\n",
      "\u001b[0;31mTypeError\u001b[0m: 'float' object cannot be interpreted as an integer"
     ]
    }
   ],
   "source": [
    "# Nbr pcs\n",
    "NPROCS = 20\n",
    "    \n",
    "# Nbr itérations\n",
    "N = 100\n",
    "\n",
    "# taille paquet d'itérations\n",
    "fragment_size = 10\n",
    "    \n",
    "\n",
    "# mode de génération de l'état initial à chaque round\n",
    "mode_opt = [\"FIX\",\"RAND\",\"RAND_INF\",\"RAND_SUP\"]\n",
    "mode = mode_opt[1]\n",
    "\n",
    "catch_me = False\n",
    "\n",
    "# Lancement de la simulation\n",
    "simulation(N,NPROCS,fragment_size,mode,catch_me)"
   ]
  },
  {
   "cell_type": "markdown",
   "metadata": {},
   "source": [
    "#### Publication des résultats"
   ]
  },
  {
   "cell_type": "code",
   "execution_count": null,
   "metadata": {},
   "outputs": [],
   "source": [
    "%%bash -s $experiment_name $site\n",
    "git add .\n",
    "git commit -m 'Automatic results update : '\"$1\"'---'\"$2\"\"\""
   ]
  },
  {
   "cell_type": "markdown",
   "metadata": {},
   "source": [
    "#### Fin d'expérience : suppression du job"
   ]
  },
  {
   "cell_type": "code",
   "execution_count": null,
   "metadata": {},
   "outputs": [],
   "source": [
    "oardel(jobid)"
   ]
  }
 ],
 "metadata": {
  "kernelspec": {
   "display_name": "Python 3",
   "language": "python",
   "name": "python3"
  },
  "language_info": {
   "codemirror_mode": {
    "name": "ipython",
    "version": 3
   },
   "file_extension": ".py",
   "mimetype": "text/x-python",
   "name": "python",
   "nbconvert_exporter": "python",
   "pygments_lexer": "ipython3",
   "version": "3.5.3"
  }
 },
 "nbformat": 4,
 "nbformat_minor": 2
}
