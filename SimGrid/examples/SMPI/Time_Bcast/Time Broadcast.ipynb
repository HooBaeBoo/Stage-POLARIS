{
 "cells": [
  {
   "cell_type": "markdown",
   "metadata": {},
   "source": [
    "# Broadcast"
   ]
  },
  {
   "cell_type": "markdown",
   "metadata": {},
   "source": [
    "## But : Faire un broadcast, départ décalé \n"
   ]
  },
  {
   "cell_type": "markdown",
   "metadata": {},
   "source": [
    "### Informations générales"
   ]
  },
  {
   "cell_type": "markdown",
   "metadata": {},
   "source": [
    "#### Le nom de l'expérience : Nom du folder contenant les fichiers sources et résultats"
   ]
  },
  {
   "cell_type": "code",
   "execution_count": 1,
   "metadata": {},
   "outputs": [],
   "source": [
    "experiment_name = \"Time_Bcast\"\n",
    "crashed = True"
   ]
  },
  {
   "cell_type": "markdown",
   "metadata": {},
   "source": [
    "#### Versions"
   ]
  },
  {
   "cell_type": "code",
   "execution_count": 2,
   "metadata": {},
   "outputs": [
    {
     "name": "stdout",
     "output_type": "stream",
     "text": [
      "commit d1b8c507b9b76e1bd27c35dbda152f27f27b9fdc\n",
      "Author: Najwa Ez Zine <nezzine@fnancy>\n",
      "Date:   Tue Jul 10 13:43:47 2018 +0200\n",
      "\n",
      "    Automatic results update : Time_Bcast --- None Fix : ggplot2 value\n",
      "Python 3.5.3\n",
      "R version 3.3.3 (2017-03-06) -- \"Another Canoe\"\n",
      "Copyright (C) 2017 The R Foundation for Statistical Computing\n",
      "Platform: x86_64-pc-linux-gnu (64-bit)\n",
      "\n",
      "R is free software and comes with ABSOLUTELY NO WARRANTY.\n",
      "You are welcome to redistribute it under the terms of the\n",
      "GNU General Public License versions 2 or 3.\n",
      "For more information about these matters see\n",
      "http://www.gnu.org/licenses/.\n",
      "\n"
     ]
    }
   ],
   "source": [
    "%%bash -s\n",
    "git log -n 1\n",
    "python3 --version\n",
    "R --version"
   ]
  },
  {
   "cell_type": "markdown",
   "metadata": {},
   "source": [
    "### Préparation de l'environnement (FRONTEND)"
   ]
  },
  {
   "cell_type": "markdown",
   "metadata": {},
   "source": [
    "#### Installation des modules"
   ]
  },
  {
   "cell_type": "code",
   "execution_count": 3,
   "metadata": {},
   "outputs": [
    {
     "name": "stdout",
     "output_type": "stream",
     "text": [
      "Collecting execo\n",
      "Installing collected packages: execo\n",
      "Successfully installed execo-2.6.3\n",
      "Collecting requests\n",
      "  Using cached https://files.pythonhosted.org/packages/65/47/7e02164a2a3db50ed6d8a6ab1d6d60b69c4c3fdf57a284257925dfc12bda/requests-2.19.1-py2.py3-none-any.whl\n",
      "Collecting chardet<3.1.0,>=3.0.2 (from requests)\n",
      "  Using cached https://files.pythonhosted.org/packages/bc/a9/01ffebfb562e4274b6487b4bb1ddec7ca55ec7510b22e4c51f14098443b8/chardet-3.0.4-py2.py3-none-any.whl\n",
      "Collecting idna<2.8,>=2.5 (from requests)\n",
      "  Using cached https://files.pythonhosted.org/packages/4b/2a/0276479a4b3caeb8a8c1af2f8e4355746a97fab05a372e4a2c6a6b876165/idna-2.7-py2.py3-none-any.whl\n",
      "Collecting certifi>=2017.4.17 (from requests)\n",
      "  Using cached https://files.pythonhosted.org/packages/7c/e6/92ad559b7192d846975fc916b65f667c7b8c3a32bea7372340bfe9a15fa5/certifi-2018.4.16-py2.py3-none-any.whl\n",
      "Collecting urllib3<1.24,>=1.21.1 (from requests)\n",
      "  Using cached https://files.pythonhosted.org/packages/bd/c9/6fdd990019071a4a32a5e7cb78a1d92c53851ef4f56f62a3486e6a7d8ffb/urllib3-1.23-py2.py3-none-any.whl\n",
      "Installing collected packages: chardet, idna, certifi, urllib3, requests\n",
      "Successfully installed certifi-2018.4.16 chardet-3.0.4 idna-2.7 requests-2.19.1 urllib3-1.23\n",
      "Collecting termcolor\n",
      "Installing collected packages: termcolor\n",
      "Successfully installed termcolor-1.1.0\n",
      "Collecting rpy2\n",
      "Collecting jinja2 (from rpy2)\n",
      "  Using cached https://files.pythonhosted.org/packages/7f/ff/ae64bacdfc95f27a016a7bed8e8686763ba4d277a78ca76f32659220a731/Jinja2-2.10-py2.py3-none-any.whl\n",
      "Collecting six (from rpy2)\n",
      "  Using cached https://files.pythonhosted.org/packages/67/4b/141a581104b1f6397bfa78ac9d43d8ad29a7ca43ea90a2d863fe3056e86a/six-1.11.0-py2.py3-none-any.whl\n",
      "Collecting MarkupSafe>=0.23 (from jinja2->rpy2)\n",
      "Installing collected packages: MarkupSafe, jinja2, six, rpy2\n",
      "Successfully installed MarkupSafe-1.0 jinja2-2.10 rpy2-2.9.4 six-1.11.0\n",
      "Collecting tzlocal\n",
      "Collecting pytz (from tzlocal)\n",
      "  Using cached https://files.pythonhosted.org/packages/30/4e/27c34b62430286c6d59177a0842ed90dc789ce5d1ed740887653b898779a/pytz-2018.5-py2.py3-none-any.whl\n",
      "Installing collected packages: pytz, tzlocal\n",
      "Successfully installed pytz-2018.5 tzlocal-1.5.1\n"
     ]
    }
   ],
   "source": [
    "%%bash -s\n",
    "pip3 install --user execo\n",
    "pip3 install --user requests\n",
    "\n",
    "# Permet affichage pllus lisible avec couleurs\n",
    "pip3 install --user termcolor\n",
    "\n",
    "# Permettent d'utiliser R :\n",
    "pip3 install --user rpy2\n",
    "pip3 install --user tzlocal"
   ]
  },
  {
   "cell_type": "markdown",
   "metadata": {},
   "source": [
    "#### Chargement des modules dans l'environnement"
   ]
  },
  {
   "cell_type": "code",
   "execution_count": 4,
   "metadata": {},
   "outputs": [],
   "source": [
    "import execo\n",
    "import math\n",
    "import collections\n",
    "import os\n",
    "import sys\n",
    "import json\n",
    "import time\n",
    "import random\n",
    "import datetime\n",
    "import re\n",
    "import tzlocal\n",
    "\n",
    "from execo import *\n",
    "from execo_g5k import *\n",
    "from execo_engine import *\n",
    "\n",
    "from shutil import copy\n",
    "from subprocess import check_output\n",
    "\n",
    "from threading import Thread\n",
    "\n",
    "from collections import deque, OrderedDict\n",
    "from termcolor import *\n",
    "from subprocess import *"
   ]
  },
  {
   "cell_type": "markdown",
   "metadata": {},
   "source": [
    "#### Chargement de l'outil permettant l'utilisation de R"
   ]
  },
  {
   "cell_type": "code",
   "execution_count": 5,
   "metadata": {},
   "outputs": [],
   "source": [
    "%load_ext rpy2.ipython"
   ]
  },
  {
   "cell_type": "code",
   "execution_count": 6,
   "metadata": {},
   "outputs": [
    {
     "data": {
      "text/plain": [
       "NULL\n"
      ]
     },
     "metadata": {},
     "output_type": "display_data"
    }
   ],
   "source": [
    "%%R\n",
    "#install.packages('ggplot2')\n",
    "#install.packages('dplyr')\n",
    "#install.packages('tidyr')"
   ]
  },
  {
   "cell_type": "code",
   "execution_count": 7,
   "metadata": {
    "scrolled": true
   },
   "outputs": [
    {
     "data": {
      "text/plain": [
       "[1] ‘2.2.1’\n"
      ]
     },
     "metadata": {},
     "output_type": "display_data"
    }
   ],
   "source": [
    "%%R\n",
    "packageVersion('ggplot2')"
   ]
  },
  {
   "cell_type": "code",
   "execution_count": 8,
   "metadata": {},
   "outputs": [
    {
     "data": {
      "text/plain": [
       "[1] ‘0.7.6’\n"
      ]
     },
     "metadata": {},
     "output_type": "display_data"
    }
   ],
   "source": [
    "%%R\n",
    "packageVersion('dplyr')"
   ]
  },
  {
   "cell_type": "code",
   "execution_count": 9,
   "metadata": {},
   "outputs": [
    {
     "data": {
      "text/plain": [
       "[1] ‘0.8.1’\n"
      ]
     },
     "metadata": {},
     "output_type": "display_data"
    }
   ],
   "source": [
    "%%R\n",
    "packageVersion('tidyr')"
   ]
  },
  {
   "cell_type": "markdown",
   "metadata": {},
   "source": [
    "### Tools"
   ]
  },
  {
   "cell_type": "markdown",
   "metadata": {},
   "source": [
    "#### Affichage coloré"
   ]
  },
  {
   "cell_type": "code",
   "execution_count": 10,
   "metadata": {},
   "outputs": [
    {
     "name": "stdout",
     "output_type": "stream",
     "text": [
      "\u001b[5m\u001b[31mHello, World!\u001b[0m\n",
      "\u001b[2m\u001b[31mHello, World!\u001b[0m\n",
      "\u001b[4m\u001b[31mHello, World!\u001b[0m\n",
      "\u001b[1m\u001b[31mHello, World!\u001b[0m\n",
      "\u001b[8m\u001b[31mHello, World!\u001b[0m\n",
      "\u001b[7m\u001b[41m\u001b[32mHello, World!\u001b[0m\n"
     ]
    }
   ],
   "source": [
    "# Termcolor\n",
    "# OPTIONS  : bold, dark, underline, blink, reverse, concealed\n",
    "\n",
    "text = colored('Hello, World!', 'red', attrs = ['blink'])\n",
    "print(text)\n",
    "\n",
    "text = colored('Hello, World!', 'red', attrs = ['dark'])\n",
    "print(text)\n",
    "\n",
    "text = colored('Hello, World!', 'red', attrs = ['underline'])\n",
    "print(text)\n",
    "\n",
    "text = colored('Hello, World!', 'red', attrs = ['bold'])\n",
    "print(text)\n",
    "\n",
    "text = colored('Hello, World!', 'red', attrs = ['concealed'])\n",
    "print(text)\n",
    "\n",
    "cprint('Hello, World!', 'green', 'on_red',attrs = ['reverse'])"
   ]
  },
  {
   "cell_type": "markdown",
   "metadata": {},
   "source": [
    "#### Affichage lisible d'un dictionnaire complexe"
   ]
  },
  {
   "cell_type": "code",
   "execution_count": 11,
   "metadata": {},
   "outputs": [],
   "source": [
    "# Display more readable dict\n",
    "# SOURCE : https://stackoverflow.com/questions/3229419/how-to-pretty-print-nested-dictionaries\n",
    "def pretty(d, indent = 0):\n",
    "    for key, value in d.items():\n",
    "        print('\\t' * indent + colored (str(key), \"magenta\"))\n",
    "        if isinstance(value, type({})):\n",
    "            pretty(value, indent+1)\n",
    "        else:\n",
    "            print('\\t' * (indent+1) + str(value))"
   ]
  },
  {
   "cell_type": "markdown",
   "metadata": {},
   "source": [
    "### Préparation de l'environnement pour l'expérience"
   ]
  },
  {
   "cell_type": "markdown",
   "metadata": {},
   "source": [
    "#### Paramètres réservation"
   ]
  },
  {
   "cell_type": "code",
   "execution_count": 12,
   "metadata": {},
   "outputs": [],
   "source": [
    "# Nom du job\n",
    "jobname = ' '\n",
    "# Nombre de noeuds\n",
    "nodecount = 3\n",
    "# Temps réservation\n",
    "walltime = \"3:0:0\" \n",
    "\n",
    "# filters out Nantes's econome cluster\n",
    "resources_selection = \"-p \\\"cluster in ('ecotype','parasilo','grisou','uvb','paravance','genepi')\\\"\" \n",
    "\n",
    "# Nancy\n",
    "site = \"nancy\"\n",
    "\n",
    "#Type de deploiement \n",
    "FILE_DEPLOY = True"
   ]
  },
  {
   "cell_type": "markdown",
   "metadata": {},
   "source": [
    "#### Réservation"
   ]
  },
  {
   "cell_type": "code",
   "execution_count": 13,
   "metadata": {},
   "outputs": [
    {
     "name": "stdout",
     "output_type": "stream",
     "text": [
      "A   job is already running, using it. jobid is 1607458\n"
     ]
    }
   ],
   "source": [
    "jobs = get_current_oar_jobs()\n",
    "jobid = None\n",
    "waiting_jobs = []\n",
    "while jobs:\n",
    "    j, site = jobs.pop()\n",
    "    info = get_oar_job_info(j, site)\n",
    "    if info['name'] == jobname:\n",
    "        if info['state'] == 'Running':\n",
    "            jobid = j\n",
    "            print(\"A {} job is already running, using it. jobid is {}\".format(jobname, jobid))\n",
    "            break\n",
    "        else:\n",
    "            waiting_jobs.append(j)\n",
    "if not jobid and not waiting_jobs:\n",
    "    jobspec = OarSubmission(resources=\"/cluster=1/nodes={}\".format(nodecount), walltime = walltime,\n",
    "                            additional_options = resources_selection, job_type = \"deploy\", name = jobname)\n",
    "    jobid, _ = oarsub([(jobspec, site)]).pop()\n",
    "    print(\"New job submitted, jobid is {}\".format(jobid))\n",
    "elif not jobid:\n",
    "    print(\"One or more {} jobs exist ({}) but are not running.\\n\"\n",
    "          \" Connect to the frontend to see what is happening, and/or run the cell again.\".format(\n",
    "          jobname, \", \".join([str(j) for j in waiting_jobs])))"
   ]
  },
  {
   "cell_type": "markdown",
   "metadata": {},
   "source": [
    "#### Récupération des infos sur les noeuds obtenus"
   ]
  },
  {
   "cell_type": "markdown",
   "metadata": {},
   "source": [
    "###### Note : Si cette cellule met du temps à répondre, vérifier l'état de la réservation sur la frontale **oartstat -u username** ou via https://www.grid5000.fr/mediawiki/index.php/Status"
   ]
  },
  {
   "cell_type": "code",
   "execution_count": 14,
   "metadata": {},
   "outputs": [
    {
     "data": {
      "text/plain": [
       "[Host('grisou-47.nancy.grid5000.fr'),\n",
       " Host('grisou-48.nancy.grid5000.fr'),\n",
       " Host('grisou-5.nancy.grid5000.fr')]"
      ]
     },
     "execution_count": 14,
     "metadata": {},
     "output_type": "execute_result"
    }
   ],
   "source": [
    "nodes = get_oar_job_nodes(jobid)\n",
    "nodes.sort(key = lambda n: n.address)\n",
    "nodes"
   ]
  },
  {
   "cell_type": "markdown",
   "metadata": {},
   "source": [
    "##### Déploiement de l'environnement : 2 options"
   ]
  },
  {
   "cell_type": "markdown",
   "metadata": {},
   "source": [
    "###### Via fichier "
   ]
  },
  {
   "cell_type": "code",
   "execution_count": 15,
   "metadata": {},
   "outputs": [],
   "source": [
    "force_redeploy = False # set to True to force redeploying the OS on the nodes in the deployment section\n",
    "environment_dsc_file = 'src/debian9-x64-bigdata-tutorial.yaml' # filename of the kadeploy environment file (YAML)"
   ]
  },
  {
   "cell_type": "code",
   "execution_count": 16,
   "metadata": {
    "scrolled": true
   },
   "outputs": [],
   "source": [
    "if (FILE_DEPLOY):\n",
    "    deployment = Deployment(hosts = nodes, env_file = os.path.abspath(environment_dsc_file),\n",
    "                        other_options = \"-r ext4 --no-debug-mode\")\n",
    "\n",
    "    deploy_ok, deploy_failed = deploy(deployment, check_deployed_command = not force_redeploy,\n",
    "                              stdout_handlers = [sys.stdout],\n",
    "                              stderr_handlers = [sys.stderr])\n",
    "else :\n",
    "    deploy_ok, deploy_failed = deploy(Deployment(nodes, env_name = \"debian9-x64-base\",\n",
    "                              other_options = \"-r ext4 --no-debug-mode\"),\n",
    "                              stdout_handlers = [sys.stdout],\n",
    "                              stderr_handlers = [sys.stderr])"
   ]
  },
  {
   "cell_type": "code",
   "execution_count": 17,
   "metadata": {},
   "outputs": [
    {
     "name": "stdout",
     "output_type": "stream",
     "text": [
      "Deployement status:\n",
      "* ok: {'grisou-5.nancy.grid5000.fr', 'grisou-48.nancy.grid5000.fr', 'grisou-47.nancy.grid5000.fr'}\n",
      "* failed: set()\n"
     ]
    }
   ],
   "source": [
    "print(\"Deployement status:\\n* ok: {}\\n* failed: {}\".format(deploy_ok, deploy_failed))"
   ]
  },
  {
   "cell_type": "markdown",
   "metadata": {},
   "source": [
    "#### Test : commande simple 'ls'"
   ]
  },
  {
   "cell_type": "code",
   "execution_count": 18,
   "metadata": {},
   "outputs": [
    {
     "data": {
      "text/plain": [
       "True"
      ]
     },
     "execution_count": 18,
     "metadata": {},
     "output_type": "execute_result"
    }
   ],
   "source": [
    "Remote_test = execo.action.Remote(cmd = 'ls',hosts = nodes, connection_params = None, process_args = None)\n",
    "Remote_test.run().ok"
   ]
  },
  {
   "cell_type": "markdown",
   "metadata": {},
   "source": [
    "#### Installation environnement/tools sur noeuds"
   ]
  },
  {
   "cell_type": "code",
   "execution_count": 19,
   "metadata": {},
   "outputs": [],
   "source": [
    "if (not crashed):\n",
    "    Remote_install = execo.action.Remote(cmd = 'apt-get install g++ libboost-all-dev && wget http://gforge.inria.fr/frs/download.php/latestfile/8/SimGrid-3.18.tar.gz && tar -xvf SimGrid-3.18.tar.gz && cd SimGrid-3.18 && cmake -DCMAKE_INSTALL_PREFIX=/usr/local -Denable_smpi=on -Denable_documentation=off && make -j && make check && make install -j',\n",
    "                                     hosts = nodes,connection_params = {'user':'root'})\n",
    "    Remote_install.run().ok"
   ]
  },
  {
   "cell_type": "code",
   "execution_count": 20,
   "metadata": {},
   "outputs": [],
   "source": [
    "if (not crashed):\n",
    "    Pajeng_install = execo.action.Remote(cmd='git clone git://github.com/schnorr/pajeng.git ; mkdir -p pajeng/build ; cd pajeng/build ; cmake .. ; make ; make install',hosts=nodes,connection_params={'user':'root'}).run().ok\n",
    "    Pajeng_install"
   ]
  },
  {
   "cell_type": "markdown",
   "metadata": {},
   "source": [
    "#### Version Simgrid"
   ]
  },
  {
   "cell_type": "code",
   "execution_count": 21,
   "metadata": {},
   "outputs": [
    {
     "name": "stdout",
     "output_type": "stream",
     "text": [
      "\u001b[34mVERSION : smpicc\u001b[0m \n",
      "SimGrid version 3.18\n",
      "SimGrid version 3.18\n",
      "SimGrid version 3.18\n",
      "\n",
      "\n",
      "\u001b[34mVERSION : g++\u001b[0m \n",
      "g++ (Debian 6.3.0-18) 6.3.0 20170516\n",
      "Copyright (C) 2016 Free Software Foundation, Inc.\n",
      "This is free software; see the source for copying conditions.  There is NO\n",
      "warranty; not even for MERCHANTABILITY or FITNESS FOR A PARTICULAR PURPOSE.\n",
      "\n",
      "g++ (Debian 6.3.0-18) 6.3.0 20170516\n",
      "Copyright (C) 2016 Free Software Foundation, Inc.\n",
      "This is free software; see the source for copying conditions.  There is NO\n",
      "warranty; not even for MERCHANTABILITY or FITNESS FOR A PARTICULAR PURPOSE.\n",
      "\n",
      "g++ (Debian 6.3.0-18) 6.3.0 20170516\n",
      "Copyright (C) 2016 Free Software Foundation, Inc.\n",
      "This is free software; see the source for copying conditions.  There is NO\n",
      "warranty; not even for MERCHANTABILITY or FITNESS FOR A PARTICULAR PURPOSE.\n",
      "\n",
      "\n",
      "\n",
      "\u001b[34mVERSION : pj_dump\u001b[0m \n",
      "\n",
      "Development build at commit b9780a1 (2017-08-03 15:05:05 -0300)\n",
      "\n",
      "Development build at commit b9780a1 (2017-08-03 15:05:05 -0300)\n",
      "\n",
      "Development build at commit b9780a1 (2017-08-03 15:05:05 -0300)\n",
      "\n",
      "\n"
     ]
    }
   ],
   "source": [
    "def remote_version(software):\n",
    "    execo.action.Remote(cmd = 'touch version.txt &&' + str(software) + ' --version > version.txt'\n",
    "                    , hosts = nodes, connection_params = {'user': 'root'}).run()\n",
    "\n",
    "    version = ''\n",
    "\n",
    "    for i in range(0, nodecount):\n",
    "        execo.action.Get(hosts = nodes[i], remote_files = ['~/version.txt'],\n",
    "                         local_location = './version-'\n",
    "                                            + get_host_shortname(nodes[i]) + '.txt',\n",
    "                         connection_params = {'user': 'root'}).run()\n",
    "    \n",
    "        version = version + execo.Process(cmd = 'cat ./version-'\n",
    "                                                + get_host_shortname(nodes[i]) \n",
    "                                                + '.txt').run().stdout\n",
    "        execo.Process(cmd = 'rm ./version-'\n",
    "                            + get_host_shortname(nodes[i]) + '.txt').run()\n",
    "\n",
    "    print(colored('VERSION : ' + str(software),\"blue\"), '\\n' + version + '\\n')\n",
    "    return\n",
    "\n",
    "remote_version('smpicc')\n",
    "remote_version('g++')\n",
    "remote_version('pj_dump')"
   ]
  },
  {
   "cell_type": "markdown",
   "metadata": {},
   "source": [
    "#### Chemins (à configurer)"
   ]
  },
  {
   "cell_type": "code",
   "execution_count": 22,
   "metadata": {},
   "outputs": [],
   "source": [
    "path_base = \"/home/nezzine/Stage-POLARIS/SimGrid/examples/SMPI/\" + experiment_name\n",
    "path_src = path_base + '/src/'\n",
    "path_rslt = path_base + '/results/'"
   ]
  },
  {
   "cell_type": "markdown",
   "metadata": {},
   "source": [
    "#### Traitement des données pour les calculs de D et S"
   ]
  },
  {
   "cell_type": "code",
   "execution_count": 23,
   "metadata": {},
   "outputs": [],
   "source": [
    "# Intialise tableau\n",
    "def init_tab(num, elt) :\n",
    "    D = [elt] * num\n",
    "    return D\n",
    "\n",
    "# Parsing the results\n",
    "def parser(num_node,date_precise):\n",
    "    with open( '/home/nezzine/Stage-POLARIS/SimGrid/examples/SMPI/Time_Bcast/results/'\n",
    "               + date_precise.split('_')[0] + '/'\n",
    "               + get_host_shortname(nodes[num_node]) + '_'\n",
    "               + date_precise\n",
    "               + '.txt') as f:\n",
    "        return f.readlines()\n",
    "    \n",
    "# Converting and organizing data\n",
    "def tab_conv(l, NPROCS, precision) :\n",
    "    S = init_tab(NPROCS, None)\n",
    "        \n",
    "    # On récupère les données des fichiers\n",
    "    # Un fichier contient des lignes telles que : From 0 -> S[0] : 0.0819526    \n",
    "    for i in range(0, NPROCS) :\n",
    "        line = l[i].split()\n",
    "        S[int(line[1])] = round(float(line[5]), precision)\n",
    "    return S\n",
    "\n",
    "def delayer(num_node, NPROCS, date, precision):\n",
    "    D = init_tab(NPROCS, 0.0)\n",
    "    \n",
    "    raw_data = parser(num_node, date)\n",
    "    \n",
    "    S = tab_conv(raw_data, NPROCS, precision)\n",
    "    \n",
    "    for p in range(0, NPROCS):\n",
    "        D[p] = round(S[p] - min(S), precision)\n",
    "    return [D, min(S)]"
   ]
  },
  {
   "cell_type": "code",
   "execution_count": 24,
   "metadata": {},
   "outputs": [],
   "source": [
    "# Example\n",
    "# delayer(0,10,'2018-06-04_12:38',2)"
   ]
  },
  {
   "cell_type": "markdown",
   "metadata": {},
   "source": [
    "## SIMULATION"
   ]
  },
  {
   "cell_type": "markdown",
   "metadata": {},
   "source": [
    "#### Mise en place de l'environnement (fichiers src simulation...) sur noeuds"
   ]
  },
  {
   "cell_type": "code",
   "execution_count": 25,
   "metadata": {},
   "outputs": [],
   "source": [
    "def env_setup() :\n",
    "    Src_dir = execo.action.Remote(cmd = 'mkdir -p experiments_src',\n",
    "                                  hosts = nodes,\n",
    "                                  connection_params = {'user': 'root'})\n",
    "    Src_get = execo.action.Put(hosts = nodes,\n",
    "                               local_files = [path_src\n",
    "                                   + 'griffon.xml', path_src\n",
    "                                   + 'griffon_hostfile.txt', path_src\n",
    "                                   + 'broadcast.c', path_src \n",
    "                                   + 'Makefile'],\n",
    "                                remote_location = '~/experiments_src',\n",
    "                                connection_params = {'user': 'root'})\n",
    "    Rslt_dir = execo.Process(cmd = 'mkdir -p '\n",
    "                                  + path_rslt\n",
    "                                  + datetime.datetime.now().strftime('%Y-%m-%d'))\n",
    "\n",
    "# On récup les src\n",
    "    if not (Src_dir.run().ok \n",
    "            and Src_get.run().ok \n",
    "            and Rslt_dir.run().ok):\n",
    "        raise Error(\"Environnement could not be set : Check files\")\n"
   ]
  },
  {
   "cell_type": "code",
   "execution_count": 26,
   "metadata": {},
   "outputs": [],
   "source": [
    "env_setup()"
   ]
  },
  {
   "cell_type": "markdown",
   "metadata": {},
   "source": [
    "#### Défintion du thread pour parallélisation de la simulation"
   ]
  },
  {
   "cell_type": "code",
   "execution_count": 27,
   "metadata": {},
   "outputs": [],
   "source": [
    "# Thread pour la simulation // opt.\n",
    "class ParSimer(Thread):\n",
    "\n",
    "    \"\"\"Thread chargé simplement d'afficher une lettre dans la console.\"\"\"\n",
    "    \n",
    "    # Paramètrage du thread\n",
    "    def __init__(self,i,MIN,MAX,N,DELAY):\n",
    "        Thread.__init__(self)\n",
    "        self.MIN = MIN\n",
    "        self.MAX = MAX\n",
    "        self.N = N\n",
    "        self.DELAY = DELAY\n",
    "        self.i = i\n",
    "    \n",
    "    # Set la valeur du délai\n",
    "    def set_delay(self,delay):\n",
    "        self.DELAY = delay\n",
    "    \n",
    "    def get_delay(self):\n",
    "        return self.DELAY\n",
    "    \n",
    "    def get_MIN(self):\n",
    "        return self.MIN\n",
    "    \n",
    "    def run(self):\n",
    "        \"\"\"Code à exécuter pendant l'exécution du thread.\"\"\"\n",
    "        if (DEBUG): \n",
    "            print(\n",
    "                get_host_shortname(nodes[self.i]) + \" => \" + str(self.i) + \" NPROCS = \" + str(NPROCS)\n",
    "             + \" MIN = \" + str(self.MIN)\n",
    "             + \" MAX = \" + str(self.MAX)\n",
    "             + \" N = \" + str(self.N)\n",
    "             + \" DELAY = '\" + self.DELAY + \"'\\n\"\n",
    "            )\n",
    "       \n",
    "        # make run sur toutes la machine dont le thread s'occupe avec ses paramètres\n",
    "        execo.action.Remote(cmd ='cd ~/experiments_src && make && make run NPROCS='\n",
    "                                  + str(NPROCS) + ' MIN='+ str(self.MIN) \n",
    "                                  + ' MAX=' + str(self.MAX) + ' N=' + str(self.N)\n",
    "                                  + \" DELAY='\" + self.DELAY\n",
    "                                  + \"'\" , \n",
    "                            hosts = nodes[self.i], \n",
    "                            connection_params = {'user':'root'}).run().ok\n"
   ]
  },
  {
   "cell_type": "markdown",
   "metadata": {},
   "source": [
    "#### Conversion string < = > int pour manipulation de D & S"
   ]
  },
  {
   "cell_type": "code",
   "execution_count": 28,
   "metadata": {},
   "outputs": [],
   "source": [
    "# Formate le tableau en string pour pouvoir etre passé en ligne de commande\n",
    "def format_cmd(data):\n",
    "    return (' '.join(str(e) for e in data))\n",
    "\n",
    "# Formate le string en tableau d'int pour être manipulé \n",
    "def unformat_cmd(data):\n",
    "    return list(map(float,data.split()))"
   ]
  },
  {
   "cell_type": "markdown",
   "metadata": {},
   "source": [
    "#### Génération du nouvel état initial"
   ]
  },
  {
   "cell_type": "code",
   "execution_count": 29,
   "metadata": {},
   "outputs": [],
   "source": [
    "def generate_Dprime(NPROCS, border_inf, border_sup, precision):\n",
    "    # Variable pour le stockage du nouveau D\n",
    "    new_Dprime = []\n",
    "\n",
    "    for p in range(NPROCS):\n",
    "        random_value = random.uniform(border_inf[p], border_sup[p])\n",
    "        round_value = round(random_value, precision)\n",
    "        new_Dprime.append(round_value)\n",
    "    return format_cmd(new_Dprime)\n",
    "\n",
    "def generate_initial_state(mode, final_state):\n",
    "    borders = unformat_cmd(final_state)\n",
    "    # S'il n'y a pas de limite supérieure, on limite au double de l'état final obtenu\n",
    "    double_Dprime = [(2 * (x)) for x in borders]\n",
    "                      \n",
    "    # Bornes pour le random \n",
    "    border_inf = init_tab(NPROCS, 0.0)\n",
    "    border_sup = double_Dprime\n",
    "    if (mode == \"RAND_SUP\") : \n",
    "        border_sup = borders\n",
    "        new_initial_state =  generate_Dprime(NPROCS, border_inf, border_sup, precision)\n",
    "    elif (mode == \"RAND_INF\") : \n",
    "        border_inf = borders\n",
    "        new_initial_state = generate_Dprime(NPROCS, border_inf, border_sup, precision)\n",
    "    elif (mode == \"RAND\") : \n",
    "        new_initial_state =  generate_Dprime(NPROCS, border_inf, border_sup, precision)\n",
    "    return new_initial_state"
   ]
  },
  {
   "cell_type": "markdown",
   "metadata": {},
   "source": [
    "#### Fonctions pour la simulation"
   ]
  },
  {
   "cell_type": "code",
   "execution_count": 30,
   "metadata": {},
   "outputs": [],
   "source": [
    "def date_setup():\n",
    "    date_precise = datetime.datetime.now().strftime('%Y-%m-%d_%H:%M')\n",
    "    date = date_precise.split('_')[0]\n",
    "    return date_precise, date\n",
    "\n",
    "def get_results(date_precise, q):\n",
    "    date = date_precise.split('_')[0]\n",
    "    execo.action.Get(\n",
    "            hosts = nodes[q],\n",
    "            remote_files = ['~/experiments_src/bcast_results.txt'],\n",
    "            local_location = path_rslt\n",
    "                            + date + '/' \n",
    "                            + get_host_shortname(nodes[q]) + '_'\n",
    "                            + date_precise + '.txt', \n",
    "            connection_params = {'user': 'root'}\n",
    "                       ).run().ok\n",
    "\n",
    "\n",
    "def pj_dump(date, filename, q):\n",
    "        execo.action.Remote(\n",
    "            cmd = 'pj_dump --ignore-incomplete-links ./experiments_src/Time_Bcast.trace > ./experiments_src/Time_Bcast.csv',\n",
    "            hosts = nodes[q],\n",
    "            connection_params = {'user':'root'}\n",
    "        ).run()\n",
    "\n",
    "        execo.action.Remote(\n",
    "            cmd = 'grep State '+ str(filename) + '.csv > ~/experiments_src/Time_Bcast.state.csv',\n",
    "            hosts = nodes[q],\n",
    "            connection_params = {'user': 'root'}\n",
    "        ).run()\n",
    "        execo.action.Remote(\n",
    "            cmd = 'grep Link '+ str(filename) + '.csv > ~/experiments_src/Time_Bcast.link.csv',\n",
    "            hosts = nodes[q],\n",
    "            connection_params = {'user': 'root'}\n",
    "        ).run()\n",
    "        execo.action.Remote(\n",
    "            cmd = 'grep Container '+ str(filename) + '.csv > ~/experiments_src/Time_Bcast.container.csv',\n",
    "            hosts = nodes[q],\n",
    "            connection_params = {'user': 'root'}\n",
    "        ).run()\n",
    "        return\n",
    "        \n",
    "def get_csv(date, q):\n",
    "        execo.action.Get(\n",
    "            hosts = nodes[q],\n",
    "            remote_files = ['~/experiments_src/*.csv'],\n",
    "            local_location = path_base, \n",
    "            connection_params = {'user': 'root'}\n",
    "        ).run()\n",
    "\n",
    "def draw_ggplot():\n",
    "            %R library(ggplot2)\n",
    "            %R df_state = read.csv(\"/home/nezzine/Stage-POLARIS/SimGrid/examples/SMPI/Time_Bcast/Time_Bcast.state.csv\", header = F, strip.white=T)\n",
    "            %R names(df_state) = c(\"Type\", \"Rank\", \"Container\", \"Start\", \"End\", \"Duration\", \"Level\", \"State\"); \n",
    "            %R df_state = df_state[!(names(df_state) %in% c(\"Type\",\"Container\",\"Level\"))]\n",
    "            %R df_state$Rank = as.numeric(gsub(\"rank-\",\"\",df_state$Rank))\n",
    "            %R str(df_state)\n",
    "            %R head(df_state)\n",
    "            %R gc = ggplot(data=df_state) + geom_rect(aes(xmin=Start, xmax=End, ymin=Rank, ymax=Rank+1,fill=State)) + scale_fill_brewer(palette=\"Set1\")\n",
    "            %R print(gc)"
   ]
  },
  {
   "cell_type": "code",
   "execution_count": 36,
   "metadata": {},
   "outputs": [],
   "source": [
    "def state_match(sim, t_curr, D_curr, gap, NPROCS):\n",
    "#     print(\"Checking if state match : \" + str(D_curr))\n",
    "    merging = True\n",
    "    number_of_keys = len(sim[t_curr])\n",
    "        \n",
    "    for index in range(number_of_keys):\n",
    "        D = list(sim[t_curr].keys())[index]\n",
    "        D = unformat_cmd(D)\n",
    "        if type(D_curr) is str : D_curr = unformat_cmd(D_curr)\n",
    "        merging = all(math.isclose(D_curr[i],D[i], abs_tol = gap) for i in range(NPROCS))\n",
    "        if (merging) : D = format_cmd(D) ; print(\"returning: \" + str(D)); return merging , D\n",
    "    D_curr = format_cmd(D_curr)\n",
    "    #print(\"returning: \" + str(D_curr))\n",
    "    return  merging , D_curr"
   ]
  },
  {
   "cell_type": "markdown",
   "metadata": {},
   "source": [
    "#### Code de la simulation"
   ]
  },
  {
   "cell_type": "code",
   "execution_count": 41,
   "metadata": {},
   "outputs": [],
   "source": [
    "# SIMULATION\n",
    "DEBUG = True\n",
    "def simulation(N, NPROCS, fragment_size, precision, mode, gap, catch_me):\n",
    "    \n",
    "    \"\"\"Contrôle de la validité des paramètres\"\"\"\n",
    "    # Taille du fragment ne peut être supérieure à la zone d'itération\n",
    "    if (fragment_size > N): \n",
    "        raise ValueError(\"Fragment size cannot be superior to N\")\n",
    "        \n",
    "    \"\"\"Mise en place de l'environnement et des variables\"\"\"\n",
    "    # Environnement\n",
    "    env_setup() \n",
    "    \n",
    "    # Dates: pour la gestion de fichiers (IMPORTANT pour lecture/écriture)\n",
    "    date_precise, date = date_setup()   \n",
    "    \n",
    "    # Temps d'exécution total\n",
    "    total_execution_time = 0\n",
    "    \n",
    "    # Tableau de threads\n",
    "    machines = init_tab(nodecount, None)\n",
    "      \n",
    "    # position trajectoire cohérente courante\n",
    "    t_curr = 0\n",
    "    \n",
    "    # D de la trajectorie cohérente courante\n",
    "    D_curr = format_cmd( init_tab( NPROCS, 0.0))\n",
    "\n",
    "    fragment_number = int((math.ceil(N / fragment_size)))\n",
    "    \n",
    "    # zone d'itérations à explorer\n",
    "    To_explore = collections.deque()\n",
    "    \n",
    "    # Initialisation des zones à explorer D = '0...0' pour chaque zone T -> (Min d'itération , D initial)\n",
    "    for i in range(fragment_number):\n",
    "        To_explore.append((i * fragment_size, format_cmd(init_tab(NPROCS, 0.0))))\n",
    "\n",
    "    # Round actuel\n",
    "    curr_round = 0\n",
    "    \n",
    "    # Liste des trajectoires pour un temps t et un D donnée\n",
    "    sim = OrderedDict()\n",
    "    \n",
    "    # Vrai si un état final a fusionné avec un état initial au moins une fois\n",
    "    success = False \n",
    "    \n",
    "    catch_me_ind = 0\n",
    "    \n",
    "    while(True):\n",
    "        curr_round = curr_round + 1\n",
    "        \n",
    "        # Zones restantes à explorer\n",
    "        number_paths_To_explore = len(To_explore)\n",
    "        # Trajectoire cohérente complète trouvé : FIN DE SIMULATION\n",
    "        if (t_curr >= N) :\n",
    "            cprint (\"Total time : \" + str(total_execution_time) , \"grey\" , \"on_yellow\")\n",
    "            cprint (\"Success : \" + str(success) , \"grey\" , \"on_green\")\n",
    "            break;        \n",
    "        if (number_paths_To_explore  == 0):\n",
    "            raise \"No path to explore left !\"\n",
    "        # Il n'existe pas encore de trajectoire cohérente -> Nouveau round\n",
    "        cprint(\"--------------------------------------------  ROUND :  \" + str(curr_round) + \"   --------------------------------------------\\n\",\"red\", attrs=['reverse', 'blink'])\n",
    "        \n",
    "\n",
    "        \n",
    "        # Nombre de tâches parallèles lançables\n",
    "        number_launchable_tasks = min(nodecount, number_paths_To_explore)\n",
    "        \n",
    "        # Affichage des paramètres\n",
    "        cprint (\"  || LAUNCHING || \\n\",\"green\", attrs=[ 'reverse', 'blink'])\n",
    "        if (DEBUG): \n",
    "            cprint ( \"TO EXPLORE : \" , \"blue\")\n",
    "            for key, value in (To_explore):\n",
    "                print( colored( str(key), \"green\") + ' -> ' + str(value))\n",
    "        \n",
    "        \"\"\" Paramètrage des machines \"\"\"\n",
    "        \n",
    "        # Soit j'ai plus de zone à explorer que de machines disponibles soit l'inverse\n",
    "        for q in range(number_launchable_tasks):\n",
    "            \n",
    "            # On récupère la première zone à explorer\n",
    "            parameters = To_explore.popleft()\n",
    "            \n",
    "            # MIN est le champ de gauche\n",
    "            MIN = parameters[0]\n",
    "            \n",
    "            # MAX de la zone à explorer vaut le min + la taille du slot\n",
    "            MAX = min (MIN + fragment_size, N)\n",
    "            \n",
    "            # D est le champ de droite\n",
    "            delay = parameters[1]\n",
    "            \n",
    "            # Paramètrage des machines\n",
    "            machines[q] = ParSimer(q, MIN, MAX, N, delay)\n",
    "            #print(\"Machine \" + str(q) + \" -> MIN :\" + str(MIN) + \" MAX : \" + str(MAX) + \" D : \"+ delay)   \n",
    "                \n",
    "        \"\"\" Simulation \"\"\"  \n",
    "        # Lancement de la simulation\n",
    "        for q in range(number_launchable_tasks):\n",
    "            machines[q].start()\n",
    "            \n",
    "        # Fin de simulation\n",
    "        for q in range(number_launchable_tasks) :\n",
    "\n",
    "            machines[q].join()\n",
    "            \n",
    "            filename = '~/experiments_src/Time_Bcast'\n",
    "            get_results(date_precise, q)\n",
    "            pj_dump(date, filename, q)\n",
    "            get_csv(date, q)\n",
    "            draw_ggplot()\n",
    "            \n",
    "          \n",
    "        \"\"\" Analyse des résultats\"\"\"    \n",
    "        # Traitement des données\n",
    "        for q in range(number_launchable_tasks):\n",
    "            # On récupère les paramètres des machines\n",
    "            t = machines[q].get_MIN()\n",
    "            D = machines[q].get_delay()\n",
    "            \n",
    "            # Calcul du délai\n",
    "            # On récupère D et S\n",
    "            raw_data = delayer(q, NPROCS, date_precise,precision)\n",
    "            \n",
    "            # Filtre D : Calcul du délai\n",
    "            Dprime = format_cmd(raw_data[0])\n",
    "            \n",
    "            #Filte S : Calcul du temps d'éxécution total \n",
    "            T = raw_data[1]\n",
    "            \n",
    "            # Ajout dans ma table (Dprime, round, machine qui l'a calculé, temps)\n",
    "            sim.setdefault(t,{}).update({D:(Dprime,curr_round,q,T)})\n",
    "            MAX = min (t + fragment_size, N)\n",
    "        \n",
    "        # Affichage des paramètres\n",
    "        print ( colored (\"T_curr : \" , \"yellow\") , str(t_curr))\n",
    "        if (DEBUG) :\n",
    "            print ( colored (\"D_curr : \" , \"yellow\") , str(D_curr))\n",
    "            print ( colored (\"Dprime : \", \"yellow\") , str(Dprime))\n",
    "        print ( colored (\"total execution time : \", \"red\") , str(total_execution_time) + \"\\n\") \n",
    "        \n",
    "        merged_paths = 0\n",
    "        # Calcul de la trajectoire cohérente\n",
    "        if(t_curr in sim) :\n",
    "            merging , D_curr = state_match(sim, t_curr, D_curr, gap, NPROCS)\n",
    "        while (t_curr < N and t_curr in sim and merging):\n",
    "               #D_curr in sim[t_curr]):\n",
    "            merged_paths += 1\n",
    "            # Update le temps d'exécution\n",
    "            total_execution_time += sim[t_curr][D_curr][3]\n",
    "            \n",
    "            # Update du temps d'exécution dans le dernier fragment\n",
    "            if (t_curr + fragment_size >= N) : total_execution_time += max(unformat_cmd(sim[t_curr][D_curr][0]))\n",
    "            \n",
    "            # Update des t_curr et D_curr\n",
    "            D_curr = sim[t_curr][D_curr][0]\n",
    "            t_curr = min(t_curr + fragment_size, N)\n",
    "            if (t_curr in sim):\n",
    "                merging , D_curr = state_match(sim, t_curr, D_curr, gap, NPROCS)\n",
    "        if (merged_paths > 1) : \n",
    "            cprint(\"****** SUCCESS : \" + str(merged_paths), attrs=['reverse', 'bold'])\n",
    "            success = True \n",
    "        \n",
    "        # Affichage des résultats\n",
    "        cprint (\"\\n  || RESULTS || \\n\",\"red\", attrs=[ 'reverse', 'blink'])\n",
    "        if (DEBUG):\n",
    "            cprint ( \"TO EXPLORE : \" , \"blue\")\n",
    "            for key, value in (To_explore):\n",
    "                print( colored( str(key), \"green\") + ' -> ' + str(value)) \n",
    "            pretty (sim) \n",
    "        print ( colored (\"T_curr : \" , \"yellow\", attrs=[ 'bold']), str(t_curr))\n",
    "        \n",
    "        if (DEBUG):\n",
    "            print ( colored (\"D_curr : \" , \"yellow\", attrs=[ 'bold']), str(D_curr))\n",
    "            print ( colored (\"Dprime : \", \"yellow\", attrs=[ 'bold']) , str(Dprime))\n",
    "            \n",
    "        print ( colored (\"total execution time : \", \"red\", attrs=[ 'bold']) , str(total_execution_time) + \"\\n\") \n",
    "        \n",
    "        \n",
    "        \"\"\" Nouveau paramètres \"\"\"\n",
    "        cprint(\"  || ANALYSIS || \\n\",\"magenta\", attrs=[ 'reverse', 'blink'])\n",
    "        while (To_explore and To_explore[0][0] <= t_curr):\n",
    "            To_explore.popleft()\n",
    "        \n",
    "        for q in reversed(range(number_launchable_tasks)):\n",
    "            t = machines[q].get_MIN()\n",
    "            D = machines[q].get_delay()\n",
    "            \n",
    "            MAX = min(t + fragment_size, N)\n",
    "            Dprime = sim[t][D][0]\n",
    "           \n",
    "            # Zone valide\n",
    "            if(MAX < N):\n",
    "                # Zone pas encore relié à la trajectoire initiale\n",
    "                if (MAX > t_curr):\n",
    "                    caught = False\n",
    "                # Ajout dans les zones à explorer du nouveau point de départ à exploiter en fonction du mode\n",
    "                    # Test catch me sur 2^catch_me_ind round\n",
    "                    if (catch_me and 1 << catch_me_ind == curr_round):\n",
    "                        catch_me_ind += 1\n",
    "                        try :\n",
    "                            caught = Dprime in sim[MAX]\n",
    "                        except KeyError:\n",
    "                            pass \n",
    "                       \n",
    "                    if (not catch_me or not caught and mode != 'FIX'):\n",
    "                        Dprime = generate_initial_state(mode, Dprime)\n",
    "                        if (DEBUG) : print(\"[\"+str(MAX) +\"] Generated \" + str(mode) + \" Dprime : \" + str(Dprime))\n",
    "                    # Mode fix implicite : append sans modification des valeurs MAX et Dprime    \n",
    "                    To_explore.appendleft((MAX, Dprime))\n",
    "        \n",
    "        if (t_curr != N):\n",
    "            To_explore.appendleft((t_curr, D_curr))\n",
    "        if (DEBUG):\n",
    "            cprint ( \"TO EXPLORE : \" , \"blue\")\n",
    "            for key, value in (To_explore):\n",
    "                print( colored( str(key), \"green\") + ' -> ' + str(value))\n",
    "        "
   ]
  },
  {
   "cell_type": "markdown",
   "metadata": {},
   "source": [
    "## SIMULATION"
   ]
  },
  {
   "cell_type": "code",
   "execution_count": 43,
   "metadata": {
    "scrolled": true
   },
   "outputs": [
    {
     "name": "stdout",
     "output_type": "stream",
     "text": [
      "\u001b[5m\u001b[7m\u001b[31m--------------------------------------------  ROUND :  1   --------------------------------------------\n",
      "\u001b[0m\n",
      "\u001b[5m\u001b[7m\u001b[32m  || LAUNCHING || \n",
      "\u001b[0m\n",
      "\u001b[34mTO EXPLORE : \u001b[0m\n",
      "\u001b[32m0\u001b[0m -> 0.0 0.0 0.0 0.0 0.0 0.0 0.0 0.0 0.0 0.0\n",
      "\u001b[32m5\u001b[0m -> 0.0 0.0 0.0 0.0 0.0 0.0 0.0 0.0 0.0 0.0\n",
      "\u001b[32m10\u001b[0m -> 0.0 0.0 0.0 0.0 0.0 0.0 0.0 0.0 0.0 0.0\n",
      "\u001b[32m15\u001b[0m -> 0.0 0.0 0.0 0.0 0.0 0.0 0.0 0.0 0.0 0.0\n",
      "\u001b[32m20\u001b[0m -> 0.0 0.0 0.0 0.0 0.0 0.0 0.0 0.0 0.0 0.0\n",
      "\u001b[32m25\u001b[0m -> 0.0 0.0 0.0 0.0 0.0 0.0 0.0 0.0 0.0 0.0\n",
      "\u001b[32m30\u001b[0m -> 0.0 0.0 0.0 0.0 0.0 0.0 0.0 0.0 0.0 0.0\n",
      "\u001b[32m35\u001b[0m -> 0.0 0.0 0.0 0.0 0.0 0.0 0.0 0.0 0.0 0.0\n",
      "\u001b[32m40\u001b[0m -> 0.0 0.0 0.0 0.0 0.0 0.0 0.0 0.0 0.0 0.0\n",
      "\u001b[32m45\u001b[0m -> 0.0 0.0 0.0 0.0 0.0 0.0 0.0 0.0 0.0 0.0\n",
      "\u001b[32m50\u001b[0m -> 0.0 0.0 0.0 0.0 0.0 0.0 0.0 0.0 0.0 0.0\n",
      "\u001b[32m55\u001b[0m -> 0.0 0.0 0.0 0.0 0.0 0.0 0.0 0.0 0.0 0.0\n",
      "\u001b[32m60\u001b[0m -> 0.0 0.0 0.0 0.0 0.0 0.0 0.0 0.0 0.0 0.0\n",
      "\u001b[32m65\u001b[0m -> 0.0 0.0 0.0 0.0 0.0 0.0 0.0 0.0 0.0 0.0\n",
      "\u001b[32m70\u001b[0m -> 0.0 0.0 0.0 0.0 0.0 0.0 0.0 0.0 0.0 0.0\n",
      "\u001b[32m75\u001b[0m -> 0.0 0.0 0.0 0.0 0.0 0.0 0.0 0.0 0.0 0.0\n",
      "\u001b[32m80\u001b[0m -> 0.0 0.0 0.0 0.0 0.0 0.0 0.0 0.0 0.0 0.0\n",
      "\u001b[32m85\u001b[0m -> 0.0 0.0 0.0 0.0 0.0 0.0 0.0 0.0 0.0 0.0\n",
      "\u001b[32m90\u001b[0m -> 0.0 0.0 0.0 0.0 0.0 0.0 0.0 0.0 0.0 0.0\n",
      "\u001b[32m95\u001b[0m -> 0.0 0.0 0.0 0.0 0.0 0.0 0.0 0.0 0.0 0.0\n",
      "grisou-47 => 0 NPROCS = 10 MIN = 0 MAX = 5 N = 100 DELAY = '0.0 0.0 0.0 0.0 0.0 0.0 0.0 0.0 0.0 0.0'\n",
      "\n",
      "grisou-48 => 1 NPROCS = 10 MIN = 5 MAX = 10 N = 100 DELAY = '0.0 0.0 0.0 0.0 0.0 0.0 0.0 0.0 0.0 0.0'\n",
      "\n",
      "grisou-5 => 2 NPROCS = 10 MIN = 10 MAX = 15 N = 100 DELAY = '0.0 0.0 0.0 0.0 0.0 0.0 0.0 0.0 0.0 0.0'\n",
      "\n"
     ]
    },
    {
     "name": "stderr",
     "output_type": "stream",
     "text": [
      "/home/nezzine/.local/lib/python3.5/site-packages/rpy2/robjects/pandas2ri.py:191: FutureWarning: from_items is deprecated. Please use DataFrame.from_dict(dict(items), ...) instead. DataFrame.from_dict(OrderedDict(items)) may be used to preserve the key order.\n",
      "  res = PandasDataFrame.from_items(items)\n"
     ]
    },
    {
     "data": {
      "text/plain": [
       "'data.frame':\t70 obs. of  5 variables:\n",
       " $ Rank    : num  8 8 8 8 8 8 8 7 7 7 ...\n",
       " $ Start   : num  0 0 0.00149 0.00476 0.00585 ...\n",
       " $ End     : num  0 0.00149 0.00476 0.00585 0.00748 ...\n",
       " $ Duration: num  0 0.00149 0.00328 0.00108 0.00163 ...\n",
       " $ State   : Factor w/ 3 levels \"PMPI_Bcast\",\"PMPI_Finalize\",..: 3 1 1 1 1 1 2 3 1 1 ...\n"
      ]
     },
     "metadata": {},
     "output_type": "display_data"
    },
    {
     "data": {
      "image/png": "[encoded data removed]"
     },
     "metadata": {},
     "output_type": "display_data"
    },
    {
     "name": "stderr",
     "output_type": "stream",
     "text": [
      "/home/nezzine/.local/lib/python3.5/site-packages/rpy2/robjects/pandas2ri.py:191: FutureWarning: from_items is deprecated. Please use DataFrame.from_dict(dict(items), ...) instead. DataFrame.from_dict(OrderedDict(items)) may be used to preserve the key order.\n",
      "  res = PandasDataFrame.from_items(items)\n"
     ]
    },
    {
     "data": {
      "text/plain": [
       "'data.frame':\t70 obs. of  5 variables:\n",
       " $ Rank    : num  8 8 8 8 8 8 8 7 7 7 ...\n",
       " $ Start   : num  0 0 0.00211 0.00317 0.0038 ...\n",
       " $ End     : num  0 0.00211 0.00317 0.0038 0.0038 ...\n",
       " $ Duration: num  0 0.002113 0.001057 0.000626 0 ...\n",
       " $ State   : Factor w/ 3 levels \"PMPI_Bcast\",\"PMPI_Finalize\",..: 3 1 1 1 1 1 2 3 1 1 ...\n"
      ]
     },
     "metadata": {},
     "output_type": "display_data"
    },
    {
     "data": {
      "image/png": "[encoded data removed]"
     },
     "metadata": {},
     "output_type": "display_data"
    },
    {
     "name": "stderr",
     "output_type": "stream",
     "text": [
      "/home/nezzine/.local/lib/python3.5/site-packages/rpy2/robjects/pandas2ri.py:191: FutureWarning: from_items is deprecated. Please use DataFrame.from_dict(dict(items), ...) instead. DataFrame.from_dict(OrderedDict(items)) may be used to preserve the key order.\n",
      "  res = PandasDataFrame.from_items(items)\n"
     ]
    },
    {
     "data": {
      "text/plain": [
       "'data.frame':\t70 obs. of  5 variables:\n",
       " $ Rank    : num  8 8 8 8 8 8 8 7 7 7 ...\n",
       " $ Start   : num  0 0 0.00149 0.00476 0.00585 ...\n",
       " $ End     : num  0 0.00149 0.00476 0.00585 0.00748 ...\n",
       " $ Duration: num  0 0.00149 0.00328 0.00108 0.00163 ...\n",
       " $ State   : Factor w/ 3 levels \"PMPI_Bcast\",\"PMPI_Finalize\",..: 3 1 1 1 1 1 2 3 1 1 ...\n"
      ]
     },
     "metadata": {},
     "output_type": "display_data"
    },
    {
     "data": {
      "image/png": "[encoded data removed]"
     },
     "metadata": {},
     "output_type": "display_data"
    },
    {
     "name": "stdout",
     "output_type": "stream",
     "text": [
      "\u001b[33mT_curr : \u001b[0m 0\n",
      "\u001b[33mD_curr : \u001b[0m 0.0 0.0 0.0 0.0 0.0 0.0 0.0 0.0 0.0 0.0\n",
      "\u001b[33mDprime : \u001b[0m 0.0037 0.0043 0.0025 0.0031 0.0 0.0016 0.0025 0.0031 0.0028 0.0037\n",
      "\u001b[31mtotal execution time : \u001b[0m 0\n",
      "\n",
      "returning: 0.0 0.0 0.0 0.0 0.0 0.0 0.0 0.0 0.0 0.0\n",
      "\u001b[5m\u001b[7m\u001b[31m\n",
      "  || RESULTS || \n",
      "\u001b[0m\n",
      "\u001b[34mTO EXPLORE : \u001b[0m\n",
      "\u001b[32m15\u001b[0m -> 0.0 0.0 0.0 0.0 0.0 0.0 0.0 0.0 0.0 0.0\n",
      "\u001b[32m20\u001b[0m -> 0.0 0.0 0.0 0.0 0.0 0.0 0.0 0.0 0.0 0.0\n",
      "\u001b[32m25\u001b[0m -> 0.0 0.0 0.0 0.0 0.0 0.0 0.0 0.0 0.0 0.0\n",
      "\u001b[32m30\u001b[0m -> 0.0 0.0 0.0 0.0 0.0 0.0 0.0 0.0 0.0 0.0\n",
      "\u001b[32m35\u001b[0m -> 0.0 0.0 0.0 0.0 0.0 0.0 0.0 0.0 0.0 0.0\n",
      "\u001b[32m40\u001b[0m -> 0.0 0.0 0.0 0.0 0.0 0.0 0.0 0.0 0.0 0.0\n",
      "\u001b[32m45\u001b[0m -> 0.0 0.0 0.0 0.0 0.0 0.0 0.0 0.0 0.0 0.0\n",
      "\u001b[32m50\u001b[0m -> 0.0 0.0 0.0 0.0 0.0 0.0 0.0 0.0 0.0 0.0\n",
      "\u001b[32m55\u001b[0m -> 0.0 0.0 0.0 0.0 0.0 0.0 0.0 0.0 0.0 0.0\n",
      "\u001b[32m60\u001b[0m -> 0.0 0.0 0.0 0.0 0.0 0.0 0.0 0.0 0.0 0.0\n",
      "\u001b[32m65\u001b[0m -> 0.0 0.0 0.0 0.0 0.0 0.0 0.0 0.0 0.0 0.0\n",
      "\u001b[32m70\u001b[0m -> 0.0 0.0 0.0 0.0 0.0 0.0 0.0 0.0 0.0 0.0\n",
      "\u001b[32m75\u001b[0m -> 0.0 0.0 0.0 0.0 0.0 0.0 0.0 0.0 0.0 0.0\n",
      "\u001b[32m80\u001b[0m -> 0.0 0.0 0.0 0.0 0.0 0.0 0.0 0.0 0.0 0.0\n",
      "\u001b[32m85\u001b[0m -> 0.0 0.0 0.0 0.0 0.0 0.0 0.0 0.0 0.0 0.0\n",
      "\u001b[32m90\u001b[0m -> 0.0 0.0 0.0 0.0 0.0 0.0 0.0 0.0 0.0 0.0\n",
      "\u001b[32m95\u001b[0m -> 0.0 0.0 0.0 0.0 0.0 0.0 0.0 0.0 0.0 0.0\n",
      "\u001b[35m0\u001b[0m\n",
      "\t\u001b[35m0.0 0.0 0.0 0.0 0.0 0.0 0.0 0.0 0.0 0.0\u001b[0m\n",
      "\t\t('0.0037 0.0043 0.0025 0.0031 0.0 0.0016 0.0025 0.0031 0.0028 0.0037', 1, 0, 0.0054)\n",
      "\u001b[35m5\u001b[0m\n",
      "\t\u001b[35m0.0 0.0 0.0 0.0 0.0 0.0 0.0 0.0 0.0 0.0\u001b[0m\n",
      "\t\t('0.0016 0.0025 0.0031 0.0028 0.0037 0.0037 0.0043 0.0025 0.0031 0.0', 1, 1, 0.0054)\n",
      "\u001b[35m10\u001b[0m\n",
      "\t\u001b[35m0.0 0.0 0.0 0.0 0.0 0.0 0.0 0.0 0.0 0.0\u001b[0m\n",
      "\t\t('0.0037 0.0043 0.0025 0.0031 0.0 0.0016 0.0025 0.0031 0.0028 0.0037', 1, 2, 0.0054)\n",
      "\u001b[1m\u001b[33mT_curr : \u001b[0m 5\n",
      "\u001b[1m\u001b[33mD_curr : \u001b[0m 0.0037 0.0043 0.0025 0.0031 0.0 0.0016 0.0025 0.0031 0.0028 0.0037\n",
      "\u001b[1m\u001b[33mDprime : \u001b[0m 0.0037 0.0043 0.0025 0.0031 0.0 0.0016 0.0025 0.0031 0.0028 0.0037\n",
      "\u001b[1m\u001b[31mtotal execution time : \u001b[0m 0.0054\n",
      "\n",
      "\u001b[5m\u001b[7m\u001b[35m  || ANALYSIS || \n",
      "\u001b[0m\n",
      "[15] Generated RAND_INF Dprime : 0.0065 0.0083 0.0044 0.0044 0.0 0.0023 0.0043 0.0033 0.0031 0.0072\n",
      "[10] Generated RAND_INF Dprime : 0.0028 0.003 0.0035 0.0043 0.005 0.0043 0.0057 0.0028 0.0047 0.0\n",
      "\u001b[34mTO EXPLORE : \u001b[0m\n",
      "\u001b[32m5\u001b[0m -> 0.0037 0.0043 0.0025 0.0031 0.0 0.0016 0.0025 0.0031 0.0028 0.0037\n",
      "\u001b[32m10\u001b[0m -> 0.0028 0.003 0.0035 0.0043 0.005 0.0043 0.0057 0.0028 0.0047 0.0\n",
      "\u001b[32m15\u001b[0m -> 0.0065 0.0083 0.0044 0.0044 0.0 0.0023 0.0043 0.0033 0.0031 0.0072\n",
      "\u001b[32m15\u001b[0m -> 0.0 0.0 0.0 0.0 0.0 0.0 0.0 0.0 0.0 0.0\n",
      "\u001b[32m20\u001b[0m -> 0.0 0.0 0.0 0.0 0.0 0.0 0.0 0.0 0.0 0.0\n",
      "\u001b[32m25\u001b[0m -> 0.0 0.0 0.0 0.0 0.0 0.0 0.0 0.0 0.0 0.0\n",
      "\u001b[32m30\u001b[0m -> 0.0 0.0 0.0 0.0 0.0 0.0 0.0 0.0 0.0 0.0\n",
      "\u001b[32m35\u001b[0m -> 0.0 0.0 0.0 0.0 0.0 0.0 0.0 0.0 0.0 0.0\n",
      "\u001b[32m40\u001b[0m -> 0.0 0.0 0.0 0.0 0.0 0.0 0.0 0.0 0.0 0.0\n",
      "\u001b[32m45\u001b[0m -> 0.0 0.0 0.0 0.0 0.0 0.0 0.0 0.0 0.0 0.0\n",
      "\u001b[32m50\u001b[0m -> 0.0 0.0 0.0 0.0 0.0 0.0 0.0 0.0 0.0 0.0\n",
      "\u001b[32m55\u001b[0m -> 0.0 0.0 0.0 0.0 0.0 0.0 0.0 0.0 0.0 0.0\n",
      "\u001b[32m60\u001b[0m -> 0.0 0.0 0.0 0.0 0.0 0.0 0.0 0.0 0.0 0.0\n",
      "\u001b[32m65\u001b[0m -> 0.0 0.0 0.0 0.0 0.0 0.0 0.0 0.0 0.0 0.0\n",
      "\u001b[32m70\u001b[0m -> 0.0 0.0 0.0 0.0 0.0 0.0 0.0 0.0 0.0 0.0\n",
      "\u001b[32m75\u001b[0m -> 0.0 0.0 0.0 0.0 0.0 0.0 0.0 0.0 0.0 0.0\n",
      "\u001b[32m80\u001b[0m -> 0.0 0.0 0.0 0.0 0.0 0.0 0.0 0.0 0.0 0.0\n",
      "\u001b[32m85\u001b[0m -> 0.0 0.0 0.0 0.0 0.0 0.0 0.0 0.0 0.0 0.0\n",
      "\u001b[32m90\u001b[0m -> 0.0 0.0 0.0 0.0 0.0 0.0 0.0 0.0 0.0 0.0\n",
      "\u001b[32m95\u001b[0m -> 0.0 0.0 0.0 0.0 0.0 0.0 0.0 0.0 0.0 0.0\n",
      "\u001b[5m\u001b[7m\u001b[31m--------------------------------------------  ROUND :  2   --------------------------------------------\n",
      "\u001b[0m\n",
      "\u001b[5m\u001b[7m\u001b[32m  || LAUNCHING || \n",
      "\u001b[0m\n",
      "\u001b[34mTO EXPLORE : \u001b[0m\n",
      "\u001b[32m5\u001b[0m -> 0.0037 0.0043 0.0025 0.0031 0.0 0.0016 0.0025 0.0031 0.0028 0.0037\n",
      "\u001b[32m10\u001b[0m -> 0.0028 0.003 0.0035 0.0043 0.005 0.0043 0.0057 0.0028 0.0047 0.0\n",
      "\u001b[32m15\u001b[0m -> 0.0065 0.0083 0.0044 0.0044 0.0 0.0023 0.0043 0.0033 0.0031 0.0072\n",
      "\u001b[32m15\u001b[0m -> 0.0 0.0 0.0 0.0 0.0 0.0 0.0 0.0 0.0 0.0\n",
      "\u001b[32m20\u001b[0m -> 0.0 0.0 0.0 0.0 0.0 0.0 0.0 0.0 0.0 0.0\n",
      "\u001b[32m25\u001b[0m -> 0.0 0.0 0.0 0.0 0.0 0.0 0.0 0.0 0.0 0.0\n",
      "\u001b[32m30\u001b[0m -> 0.0 0.0 0.0 0.0 0.0 0.0 0.0 0.0 0.0 0.0\n",
      "\u001b[32m35\u001b[0m -> 0.0 0.0 0.0 0.0 0.0 0.0 0.0 0.0 0.0 0.0\n",
      "\u001b[32m40\u001b[0m -> 0.0 0.0 0.0 0.0 0.0 0.0 0.0 0.0 0.0 0.0\n",
      "\u001b[32m45\u001b[0m -> 0.0 0.0 0.0 0.0 0.0 0.0 0.0 0.0 0.0 0.0\n",
      "\u001b[32m50\u001b[0m -> 0.0 0.0 0.0 0.0 0.0 0.0 0.0 0.0 0.0 0.0\n",
      "\u001b[32m55\u001b[0m -> 0.0 0.0 0.0 0.0 0.0 0.0 0.0 0.0 0.0 0.0\n",
      "\u001b[32m60\u001b[0m -> 0.0 0.0 0.0 0.0 0.0 0.0 0.0 0.0 0.0 0.0\n",
      "\u001b[32m65\u001b[0m -> 0.0 0.0 0.0 0.0 0.0 0.0 0.0 0.0 0.0 0.0\n",
      "\u001b[32m70\u001b[0m -> 0.0 0.0 0.0 0.0 0.0 0.0 0.0 0.0 0.0 0.0\n",
      "\u001b[32m75\u001b[0m -> 0.0 0.0 0.0 0.0 0.0 0.0 0.0 0.0 0.0 0.0\n",
      "\u001b[32m80\u001b[0m -> 0.0 0.0 0.0 0.0 0.0 0.0 0.0 0.0 0.0 0.0\n",
      "\u001b[32m85\u001b[0m -> 0.0 0.0 0.0 0.0 0.0 0.0 0.0 0.0 0.0 0.0\n",
      "\u001b[32m90\u001b[0m -> 0.0 0.0 0.0 0.0 0.0 0.0 0.0 0.0 0.0 0.0\n",
      "\u001b[32m95\u001b[0m -> 0.0 0.0 0.0 0.0 0.0 0.0 0.0 0.0 0.0 0.0\n",
      "grisou-47 => 0 NPROCS = 10 MIN = 5 MAX = 10 N = 100 DELAY = '0.0037 0.0043 0.0025 0.0031 0.0 0.0016 0.0025 0.0031 0.0028 0.0037'\n",
      "\n",
      "grisou-48 => 1 NPROCS = 10 MIN = 10 MAX = 15 N = 100 DELAY = '0.0028 0.003 0.0035 0.0043 0.005 0.0043 0.0057 0.0028 0.0047 0.0'\n",
      "\n",
      "grisou-5 => 2 NPROCS = 10 MIN = 15 MAX = 20 N = 100 DELAY = '0.0065 0.0083 0.0044 0.0044 0.0 0.0023 0.0043 0.0033 0.0031 0.0072'\n",
      "\n"
     ]
    },
    {
     "name": "stderr",
     "output_type": "stream",
     "text": [
      "/home/nezzine/.local/lib/python3.5/site-packages/rpy2/robjects/pandas2ri.py:191: FutureWarning: from_items is deprecated. Please use DataFrame.from_dict(dict(items), ...) instead. DataFrame.from_dict(OrderedDict(items)) may be used to preserve the key order.\n",
      "  res = PandasDataFrame.from_items(items)\n"
     ]
    },
    {
     "data": {
      "text/plain": [
       "'data.frame':\t70 obs. of  5 variables:\n",
       " $ Rank    : num  8 8 8 8 8 8 8 7 7 7 ...\n",
       " $ Start   : num  0 0.000196 0.002286 0.003332 0.003958 ...\n",
       " $ End     : num  0 0.00229 0.00333 0.00396 0.00396 ...\n",
       " $ Duration: num  0 0.00209 0.001046 0.000626 0 ...\n",
       " $ State   : Factor w/ 3 levels \"PMPI_Bcast\",\"PMPI_Finalize\",..: 3 1 1 1 1 1 2 3 1 1 ...\n"
      ]
     },
     "metadata": {},
     "output_type": "display_data"
    },
    {
     "data": {
      "image/png": "[encoded data removed]"
     },
     "metadata": {},
     "output_type": "display_data"
    },
    {
     "name": "stderr",
     "output_type": "stream",
     "text": [
      "/home/nezzine/.local/lib/python3.5/site-packages/rpy2/robjects/pandas2ri.py:191: FutureWarning: from_items is deprecated. Please use DataFrame.from_dict(dict(items), ...) instead. DataFrame.from_dict(OrderedDict(items)) may be used to preserve the key order.\n",
      "  res = PandasDataFrame.from_items(items)\n"
     ]
    },
    {
     "data": {
      "text/plain": [
       "'data.frame':\t70 obs. of  5 variables:\n",
       " $ Rank    : num  8 8 8 8 8 8 8 7 7 7 ...\n",
       " $ Start   : num  0 0.000329 0.0017 0.004917 0.005908 ...\n",
       " $ End     : num  0 0.0017 0.00492 0.00591 0.00742 ...\n",
       " $ Duration: num  0 0.001371 0.003217 0.000991 0.001515 ...\n",
       " $ State   : Factor w/ 3 levels \"PMPI_Bcast\",\"PMPI_Finalize\",..: 3 1 1 1 1 1 2 3 1 1 ...\n"
      ]
     },
     "metadata": {},
     "output_type": "display_data"
    },
    {
     "data": {
      "image/png": "[encoded data removed]"
     },
     "metadata": {},
     "output_type": "display_data"
    },
    {
     "name": "stderr",
     "output_type": "stream",
     "text": [
      "/home/nezzine/.local/lib/python3.5/site-packages/rpy2/robjects/pandas2ri.py:191: FutureWarning: from_items is deprecated. Please use DataFrame.from_dict(dict(items), ...) instead. DataFrame.from_dict(OrderedDict(items)) may be used to preserve the key order.\n",
      "  res = PandasDataFrame.from_items(items)\n"
     ]
    },
    {
     "data": {
      "text/plain": [
       "'data.frame':\t70 obs. of  5 variables:\n",
       " $ Rank    : num  8 8 8 8 8 8 8 7 7 7 ...\n",
       " $ Start   : num  0 0.000217 0.00214 0.002968 0.003594 ...\n",
       " $ End     : num  0 0.00214 0.00297 0.00359 0.00359 ...\n",
       " $ Duration: num  0 0.001923 0.000828 0.000626 0 ...\n",
       " $ State   : Factor w/ 3 levels \"PMPI_Bcast\",\"PMPI_Finalize\",..: 3 1 1 1 1 1 2 3 1 1 ...\n"
      ]
     },
     "metadata": {},
     "output_type": "display_data"
    },
    {
     "data": {
      "image/png": "[encoded data removed]"
     },
     "metadata": {},
     "output_type": "display_data"
    },
    {
     "name": "stdout",
     "output_type": "stream",
     "text": [
      "\u001b[33mT_curr : \u001b[0m 5\n",
      "\u001b[33mD_curr : \u001b[0m 0.0037 0.0043 0.0025 0.0031 0.0 0.0016 0.0025 0.0031 0.0028 0.0037\n",
      "\u001b[33mDprime : \u001b[0m 0.0014 0.0021 0.0027 0.0029 0.0038 0.0038 0.0044 0.0024 0.003 0.0\n",
      "\u001b[31mtotal execution time : \u001b[0m 0.0054\n",
      "\n",
      "returning: 0.0037 0.0043 0.0025 0.0031 0.0 0.0016 0.0025 0.0031 0.0028 0.0037\n",
      "\u001b[5m\u001b[7m\u001b[31m\n",
      "  || RESULTS || \n",
      "\u001b[0m\n",
      "\u001b[34mTO EXPLORE : \u001b[0m\n",
      "\u001b[32m15\u001b[0m -> 0.0 0.0 0.0 0.0 0.0 0.0 0.0 0.0 0.0 0.0\n",
      "\u001b[32m20\u001b[0m -> 0.0 0.0 0.0 0.0 0.0 0.0 0.0 0.0 0.0 0.0\n",
      "\u001b[32m25\u001b[0m -> 0.0 0.0 0.0 0.0 0.0 0.0 0.0 0.0 0.0 0.0\n",
      "\u001b[32m30\u001b[0m -> 0.0 0.0 0.0 0.0 0.0 0.0 0.0 0.0 0.0 0.0\n",
      "\u001b[32m35\u001b[0m -> 0.0 0.0 0.0 0.0 0.0 0.0 0.0 0.0 0.0 0.0\n",
      "\u001b[32m40\u001b[0m -> 0.0 0.0 0.0 0.0 0.0 0.0 0.0 0.0 0.0 0.0\n",
      "\u001b[32m45\u001b[0m -> 0.0 0.0 0.0 0.0 0.0 0.0 0.0 0.0 0.0 0.0\n",
      "\u001b[32m50\u001b[0m -> 0.0 0.0 0.0 0.0 0.0 0.0 0.0 0.0 0.0 0.0\n",
      "\u001b[32m55\u001b[0m -> 0.0 0.0 0.0 0.0 0.0 0.0 0.0 0.0 0.0 0.0\n",
      "\u001b[32m60\u001b[0m -> 0.0 0.0 0.0 0.0 0.0 0.0 0.0 0.0 0.0 0.0\n",
      "\u001b[32m65\u001b[0m -> 0.0 0.0 0.0 0.0 0.0 0.0 0.0 0.0 0.0 0.0\n",
      "\u001b[32m70\u001b[0m -> 0.0 0.0 0.0 0.0 0.0 0.0 0.0 0.0 0.0 0.0\n",
      "\u001b[32m75\u001b[0m -> 0.0 0.0 0.0 0.0 0.0 0.0 0.0 0.0 0.0 0.0\n",
      "\u001b[32m80\u001b[0m -> 0.0 0.0 0.0 0.0 0.0 0.0 0.0 0.0 0.0 0.0\n",
      "\u001b[32m85\u001b[0m -> 0.0 0.0 0.0 0.0 0.0 0.0 0.0 0.0 0.0 0.0\n",
      "\u001b[32m90\u001b[0m -> 0.0 0.0 0.0 0.0 0.0 0.0 0.0 0.0 0.0 0.0\n",
      "\u001b[32m95\u001b[0m -> 0.0 0.0 0.0 0.0 0.0 0.0 0.0 0.0 0.0 0.0\n",
      "\u001b[35m0\u001b[0m\n",
      "\t\u001b[35m0.0 0.0 0.0 0.0 0.0 0.0 0.0 0.0 0.0 0.0\u001b[0m\n",
      "\t\t('0.0037 0.0043 0.0025 0.0031 0.0 0.0016 0.0025 0.0031 0.0028 0.0037', 1, 0, 0.0054)\n",
      "\u001b[35m5\u001b[0m\n",
      "\t\u001b[35m0.0037 0.0043 0.0025 0.0031 0.0 0.0016 0.0025 0.0031 0.0028 0.0037\u001b[0m\n",
      "\t\t('0.0015 0.0024 0.0031 0.0028 0.0036 0.0036 0.0042 0.0024 0.0031 0.0', 2, 0, 0.0056)\n",
      "\t\u001b[35m0.0 0.0 0.0 0.0 0.0 0.0 0.0 0.0 0.0 0.0\u001b[0m\n",
      "\t\t('0.0016 0.0025 0.0031 0.0028 0.0037 0.0037 0.0043 0.0025 0.0031 0.0', 1, 1, 0.0054)\n",
      "\u001b[35m10\u001b[0m\n",
      "\t\u001b[35m0.0028 0.003 0.0035 0.0043 0.005 0.0043 0.0057 0.0028 0.0047 0.0\u001b[0m\n",
      "\t\t('0.0036 0.0042 0.0023 0.003 0.0 0.0014 0.0021 0.0027 0.0028 0.0036', 2, 1, 0.0053)\n",
      "\t\u001b[35m0.0 0.0 0.0 0.0 0.0 0.0 0.0 0.0 0.0 0.0\u001b[0m\n",
      "\t\t('0.0037 0.0043 0.0025 0.0031 0.0 0.0016 0.0025 0.0031 0.0028 0.0037', 1, 2, 0.0054)\n",
      "\u001b[35m15\u001b[0m\n",
      "\t\u001b[35m0.0065 0.0083 0.0044 0.0044 0.0 0.0023 0.0043 0.0033 0.0031 0.0072\u001b[0m\n",
      "\t\t('0.0014 0.0021 0.0027 0.0029 0.0038 0.0038 0.0044 0.0024 0.003 0.0', 2, 2, 0.0049)\n",
      "\u001b[1m\u001b[33mT_curr : \u001b[0m 10\n",
      "\u001b[1m\u001b[33mD_curr : \u001b[0m 0.0015 0.0024 0.0031 0.0028 0.0036 0.0036 0.0042 0.0024 0.0031 0.0\n",
      "\u001b[1m\u001b[33mDprime : \u001b[0m 0.0014 0.0021 0.0027 0.0029 0.0038 0.0038 0.0044 0.0024 0.003 0.0\n",
      "\u001b[1m\u001b[31mtotal execution time : \u001b[0m 0.011\n",
      "\n",
      "\u001b[5m\u001b[7m\u001b[35m  || ANALYSIS || \n",
      "\u001b[0m\n",
      "[20] Generated RAND_INF Dprime : 0.0026 0.0023 0.0028 0.0049 0.0066 0.0076 0.0077 0.0029 0.0035 0.0\n",
      "[15] Generated RAND_INF Dprime : 0.0063 0.0078 0.0031 0.0045 0.0 0.0026 0.0023 0.0043 0.0034 0.0066\n",
      "\u001b[34mTO EXPLORE : \u001b[0m\n",
      "\u001b[32m10\u001b[0m -> 0.0015 0.0024 0.0031 0.0028 0.0036 0.0036 0.0042 0.0024 0.0031 0.0\n",
      "\u001b[32m15\u001b[0m -> 0.0063 0.0078 0.0031 0.0045 0.0 0.0026 0.0023 0.0043 0.0034 0.0066\n",
      "\u001b[32m20\u001b[0m -> 0.0026 0.0023 0.0028 0.0049 0.0066 0.0076 0.0077 0.0029 0.0035 0.0\n",
      "\u001b[32m15\u001b[0m -> 0.0 0.0 0.0 0.0 0.0 0.0 0.0 0.0 0.0 0.0\n",
      "\u001b[32m20\u001b[0m -> 0.0 0.0 0.0 0.0 0.0 0.0 0.0 0.0 0.0 0.0\n",
      "\u001b[32m25\u001b[0m -> 0.0 0.0 0.0 0.0 0.0 0.0 0.0 0.0 0.0 0.0\n",
      "\u001b[32m30\u001b[0m -> 0.0 0.0 0.0 0.0 0.0 0.0 0.0 0.0 0.0 0.0\n",
      "\u001b[32m35\u001b[0m -> 0.0 0.0 0.0 0.0 0.0 0.0 0.0 0.0 0.0 0.0\n",
      "\u001b[32m40\u001b[0m -> 0.0 0.0 0.0 0.0 0.0 0.0 0.0 0.0 0.0 0.0\n",
      "\u001b[32m45\u001b[0m -> 0.0 0.0 0.0 0.0 0.0 0.0 0.0 0.0 0.0 0.0\n",
      "\u001b[32m50\u001b[0m -> 0.0 0.0 0.0 0.0 0.0 0.0 0.0 0.0 0.0 0.0\n",
      "\u001b[32m55\u001b[0m -> 0.0 0.0 0.0 0.0 0.0 0.0 0.0 0.0 0.0 0.0\n",
      "\u001b[32m60\u001b[0m -> 0.0 0.0 0.0 0.0 0.0 0.0 0.0 0.0 0.0 0.0\n",
      "\u001b[32m65\u001b[0m -> 0.0 0.0 0.0 0.0 0.0 0.0 0.0 0.0 0.0 0.0\n",
      "\u001b[32m70\u001b[0m -> 0.0 0.0 0.0 0.0 0.0 0.0 0.0 0.0 0.0 0.0\n",
      "\u001b[32m75\u001b[0m -> 0.0 0.0 0.0 0.0 0.0 0.0 0.0 0.0 0.0 0.0\n",
      "\u001b[32m80\u001b[0m -> 0.0 0.0 0.0 0.0 0.0 0.0 0.0 0.0 0.0 0.0\n",
      "\u001b[32m85\u001b[0m -> 0.0 0.0 0.0 0.0 0.0 0.0 0.0 0.0 0.0 0.0\n",
      "\u001b[32m90\u001b[0m -> 0.0 0.0 0.0 0.0 0.0 0.0 0.0 0.0 0.0 0.0\n",
      "\u001b[32m95\u001b[0m -> 0.0 0.0 0.0 0.0 0.0 0.0 0.0 0.0 0.0 0.0\n",
      "\u001b[5m\u001b[7m\u001b[31m--------------------------------------------  ROUND :  3   --------------------------------------------\n",
      "\u001b[0m\n",
      "\u001b[5m\u001b[7m\u001b[32m  || LAUNCHING || \n",
      "\u001b[0m\n",
      "\u001b[34mTO EXPLORE : \u001b[0m\n",
      "\u001b[32m10\u001b[0m -> 0.0015 0.0024 0.0031 0.0028 0.0036 0.0036 0.0042 0.0024 0.0031 0.0\n",
      "\u001b[32m15\u001b[0m -> 0.0063 0.0078 0.0031 0.0045 0.0 0.0026 0.0023 0.0043 0.0034 0.0066\n",
      "\u001b[32m20\u001b[0m -> 0.0026 0.0023 0.0028 0.0049 0.0066 0.0076 0.0077 0.0029 0.0035 0.0\n",
      "\u001b[32m15\u001b[0m -> 0.0 0.0 0.0 0.0 0.0 0.0 0.0 0.0 0.0 0.0\n",
      "\u001b[32m20\u001b[0m -> 0.0 0.0 0.0 0.0 0.0 0.0 0.0 0.0 0.0 0.0\n",
      "\u001b[32m25\u001b[0m -> 0.0 0.0 0.0 0.0 0.0 0.0 0.0 0.0 0.0 0.0\n",
      "\u001b[32m30\u001b[0m -> 0.0 0.0 0.0 0.0 0.0 0.0 0.0 0.0 0.0 0.0\n",
      "\u001b[32m35\u001b[0m -> 0.0 0.0 0.0 0.0 0.0 0.0 0.0 0.0 0.0 0.0\n",
      "\u001b[32m40\u001b[0m -> 0.0 0.0 0.0 0.0 0.0 0.0 0.0 0.0 0.0 0.0\n",
      "\u001b[32m45\u001b[0m -> 0.0 0.0 0.0 0.0 0.0 0.0 0.0 0.0 0.0 0.0\n",
      "\u001b[32m50\u001b[0m -> 0.0 0.0 0.0 0.0 0.0 0.0 0.0 0.0 0.0 0.0\n",
      "\u001b[32m55\u001b[0m -> 0.0 0.0 0.0 0.0 0.0 0.0 0.0 0.0 0.0 0.0\n",
      "\u001b[32m60\u001b[0m -> 0.0 0.0 0.0 0.0 0.0 0.0 0.0 0.0 0.0 0.0\n",
      "\u001b[32m65\u001b[0m -> 0.0 0.0 0.0 0.0 0.0 0.0 0.0 0.0 0.0 0.0\n",
      "\u001b[32m70\u001b[0m -> 0.0 0.0 0.0 0.0 0.0 0.0 0.0 0.0 0.0 0.0\n",
      "\u001b[32m75\u001b[0m -> 0.0 0.0 0.0 0.0 0.0 0.0 0.0 0.0 0.0 0.0\n",
      "\u001b[32m80\u001b[0m -> 0.0 0.0 0.0 0.0 0.0 0.0 0.0 0.0 0.0 0.0\n",
      "\u001b[32m85\u001b[0m -> 0.0 0.0 0.0 0.0 0.0 0.0 0.0 0.0 0.0 0.0\n",
      "\u001b[32m90\u001b[0m -> 0.0 0.0 0.0 0.0 0.0 0.0 0.0 0.0 0.0 0.0\n",
      "\u001b[32m95\u001b[0m -> 0.0 0.0 0.0 0.0 0.0 0.0 0.0 0.0 0.0 0.0\n",
      "grisou-47 => 0 NPROCS = 10 MIN = 10 MAX = 15 N = 100 DELAY = '0.0015 0.0024 0.0031 0.0028 0.0036 0.0036 0.0042 0.0024 0.0031 0.0'\n",
      "\n",
      "grisou-48 => 1 NPROCS = 10 MIN = 15 MAX = 20 N = 100 DELAY = '0.0063 0.0078 0.0031 0.0045 0.0 0.0026 0.0023 0.0043 0.0034 0.0066'\n",
      "\n",
      "grisou-5 => 2 NPROCS = 10 MIN = 20 MAX = 25 N = 100 DELAY = '0.0026 0.0023 0.0028 0.0049 0.0066 0.0076 0.0077 0.0029 0.0035 0.0'\n",
      "\n"
     ]
    },
    {
     "name": "stderr",
     "output_type": "stream",
     "text": [
      "/home/nezzine/.local/lib/python3.5/site-packages/rpy2/robjects/pandas2ri.py:191: FutureWarning: from_items is deprecated. Please use DataFrame.from_dict(dict(items), ...) instead. DataFrame.from_dict(OrderedDict(items)) may be used to preserve the key order.\n",
      "  res = PandasDataFrame.from_items(items)\n"
     ]
    },
    {
     "data": {
      "text/plain": [
       "'data.frame':\t70 obs. of  5 variables:\n",
       " $ Rank    : num  8 8 8 8 8 8 8 7 7 7 ...\n",
       " $ Start   : num  0 0.000217 0.001657 0.004936 0.00601 ...\n",
       " $ End     : num  0 0.00166 0.00494 0.00601 0.00764 ...\n",
       " $ Duration: num  0 0.00144 0.00328 0.00107 0.00163 ...\n",
       " $ State   : Factor w/ 3 levels \"PMPI_Bcast\",\"PMPI_Finalize\",..: 3 1 1 1 1 1 2 3 1 1 ...\n"
      ]
     },
     "metadata": {},
     "output_type": "display_data"
    },
    {
     "data": {
      "image/png": "[encoded data removed]"
     },
     "metadata": {},
     "output_type": "display_data"
    },
    {
     "name": "stderr",
     "output_type": "stream",
     "text": [
      "/home/nezzine/.local/lib/python3.5/site-packages/rpy2/robjects/pandas2ri.py:191: FutureWarning: from_items is deprecated. Please use DataFrame.from_dict(dict(items), ...) instead. DataFrame.from_dict(OrderedDict(items)) may be used to preserve the key order.\n",
      "  res = PandasDataFrame.from_items(items)\n"
     ]
    },
    {
     "data": {
      "text/plain": [
       "'data.frame':\t70 obs. of  5 variables:\n",
       " $ Rank    : num  8 8 8 8 8 8 8 7 7 7 ...\n",
       " $ Start   : num  0 0.000238 0.002265 0.003272 0.003897 ...\n",
       " $ End     : num  0 0.00227 0.00327 0.0039 0.0039 ...\n",
       " $ Duration: num  0 0.002027 0.001007 0.000625 0 ...\n",
       " $ State   : Factor w/ 3 levels \"PMPI_Bcast\",\"PMPI_Finalize\",..: 3 1 1 1 1 1 2 3 1 1 ...\n"
      ]
     },
     "metadata": {},
     "output_type": "display_data"
    },
    {
     "data": {
      "image/png": "[encoded data removed]"
     },
     "metadata": {},
     "output_type": "display_data"
    },
    {
     "name": "stderr",
     "output_type": "stream",
     "text": [
      "/home/nezzine/.local/lib/python3.5/site-packages/rpy2/robjects/pandas2ri.py:191: FutureWarning: from_items is deprecated. Please use DataFrame.from_dict(dict(items), ...) instead. DataFrame.from_dict(OrderedDict(items)) may be used to preserve the key order.\n",
      "  res = PandasDataFrame.from_items(items)\n"
     ]
    },
    {
     "data": {
      "text/plain": [
       "'data.frame':\t70 obs. of  5 variables:\n",
       " $ Rank    : num  8 8 8 8 8 8 8 7 7 7 ...\n",
       " $ Start   : num  0 0.000245 0.0016 0.00486 0.005837 ...\n",
       " $ End     : num  0 0.0016 0.00486 0.00584 0.00736 ...\n",
       " $ Duration: num  0 0.001355 0.00326 0.000977 0.00152 ...\n",
       " $ State   : Factor w/ 3 levels \"PMPI_Bcast\",\"PMPI_Finalize\",..: 3 1 1 1 1 1 2 3 1 1 ...\n"
      ]
     },
     "metadata": {},
     "output_type": "display_data"
    },
    {
     "data": {
      "image/png": "[encoded data removed]"
     },
     "metadata": {},
     "output_type": "display_data"
    },
    {
     "name": "stdout",
     "output_type": "stream",
     "text": [
      "\u001b[33mT_curr : \u001b[0m 10\n",
      "\u001b[33mD_curr : \u001b[0m 0.0015 0.0024 0.0031 0.0028 0.0036 0.0036 0.0042 0.0024 0.0031 0.0\n",
      "\u001b[33mDprime : \u001b[0m 0.0036 0.0043 0.0024 0.003 0.0 0.0015 0.0022 0.0029 0.0028 0.0036\n",
      "\u001b[31mtotal execution time : \u001b[0m 0.011\n",
      "\n",
      "returning: 0.0015 0.0024 0.0031 0.0028 0.0036 0.0036 0.0042 0.0024 0.0031 0.0\n",
      "\u001b[5m\u001b[7m\u001b[31m\n",
      "  || RESULTS || \n",
      "\u001b[0m\n",
      "\u001b[34mTO EXPLORE : \u001b[0m\n",
      "\u001b[32m15\u001b[0m -> 0.0 0.0 0.0 0.0 0.0 0.0 0.0 0.0 0.0 0.0\n",
      "\u001b[32m20\u001b[0m -> 0.0 0.0 0.0 0.0 0.0 0.0 0.0 0.0 0.0 0.0\n",
      "\u001b[32m25\u001b[0m -> 0.0 0.0 0.0 0.0 0.0 0.0 0.0 0.0 0.0 0.0\n",
      "\u001b[32m30\u001b[0m -> 0.0 0.0 0.0 0.0 0.0 0.0 0.0 0.0 0.0 0.0\n",
      "\u001b[32m35\u001b[0m -> 0.0 0.0 0.0 0.0 0.0 0.0 0.0 0.0 0.0 0.0\n",
      "\u001b[32m40\u001b[0m -> 0.0 0.0 0.0 0.0 0.0 0.0 0.0 0.0 0.0 0.0\n",
      "\u001b[32m45\u001b[0m -> 0.0 0.0 0.0 0.0 0.0 0.0 0.0 0.0 0.0 0.0\n",
      "\u001b[32m50\u001b[0m -> 0.0 0.0 0.0 0.0 0.0 0.0 0.0 0.0 0.0 0.0\n",
      "\u001b[32m55\u001b[0m -> 0.0 0.0 0.0 0.0 0.0 0.0 0.0 0.0 0.0 0.0\n",
      "\u001b[32m60\u001b[0m -> 0.0 0.0 0.0 0.0 0.0 0.0 0.0 0.0 0.0 0.0\n",
      "\u001b[32m65\u001b[0m -> 0.0 0.0 0.0 0.0 0.0 0.0 0.0 0.0 0.0 0.0\n",
      "\u001b[32m70\u001b[0m -> 0.0 0.0 0.0 0.0 0.0 0.0 0.0 0.0 0.0 0.0\n",
      "\u001b[32m75\u001b[0m -> 0.0 0.0 0.0 0.0 0.0 0.0 0.0 0.0 0.0 0.0\n",
      "\u001b[32m80\u001b[0m -> 0.0 0.0 0.0 0.0 0.0 0.0 0.0 0.0 0.0 0.0\n",
      "\u001b[32m85\u001b[0m -> 0.0 0.0 0.0 0.0 0.0 0.0 0.0 0.0 0.0 0.0\n",
      "\u001b[32m90\u001b[0m -> 0.0 0.0 0.0 0.0 0.0 0.0 0.0 0.0 0.0 0.0\n",
      "\u001b[32m95\u001b[0m -> 0.0 0.0 0.0 0.0 0.0 0.0 0.0 0.0 0.0 0.0\n",
      "\u001b[35m0\u001b[0m\n",
      "\t\u001b[35m0.0 0.0 0.0 0.0 0.0 0.0 0.0 0.0 0.0 0.0\u001b[0m\n",
      "\t\t('0.0037 0.0043 0.0025 0.0031 0.0 0.0016 0.0025 0.0031 0.0028 0.0037', 1, 0, 0.0054)\n",
      "\u001b[35m5\u001b[0m\n",
      "\t\u001b[35m0.0037 0.0043 0.0025 0.0031 0.0 0.0016 0.0025 0.0031 0.0028 0.0037\u001b[0m\n",
      "\t\t('0.0015 0.0024 0.0031 0.0028 0.0036 0.0036 0.0042 0.0024 0.0031 0.0', 2, 0, 0.0056)\n",
      "\t\u001b[35m0.0 0.0 0.0 0.0 0.0 0.0 0.0 0.0 0.0 0.0\u001b[0m\n",
      "\t\t('0.0016 0.0025 0.0031 0.0028 0.0037 0.0037 0.0043 0.0025 0.0031 0.0', 1, 1, 0.0054)\n",
      "\u001b[35m10\u001b[0m\n",
      "\t\u001b[35m0.0028 0.003 0.0035 0.0043 0.005 0.0043 0.0057 0.0028 0.0047 0.0\u001b[0m\n",
      "\t\t('0.0036 0.0042 0.0023 0.003 0.0 0.0014 0.0021 0.0027 0.0028 0.0036', 2, 1, 0.0053)\n",
      "\t\u001b[35m0.0015 0.0024 0.0031 0.0028 0.0036 0.0036 0.0042 0.0024 0.0031 0.0\u001b[0m\n",
      "\t\t('0.0036 0.0042 0.0024 0.0031 0.0 0.0015 0.0024 0.0031 0.0028 0.0036', 3, 0, 0.0056)\n",
      "\t\u001b[35m0.0 0.0 0.0 0.0 0.0 0.0 0.0 0.0 0.0 0.0\u001b[0m\n",
      "\t\t('0.0037 0.0043 0.0025 0.0031 0.0 0.0016 0.0025 0.0031 0.0028 0.0037', 1, 2, 0.0054)\n",
      "\u001b[35m15\u001b[0m\n",
      "\t\u001b[35m0.0063 0.0078 0.0031 0.0045 0.0 0.0026 0.0023 0.0043 0.0034 0.0066\u001b[0m\n",
      "\t\t('0.0015 0.0023 0.0029 0.0027 0.0036 0.0036 0.0042 0.0024 0.003 0.0', 3, 1, 0.0055)\n",
      "\t\u001b[35m0.0065 0.0083 0.0044 0.0044 0.0 0.0023 0.0043 0.0033 0.0031 0.0072\u001b[0m\n",
      "\t\t('0.0014 0.0021 0.0027 0.0029 0.0038 0.0038 0.0044 0.0024 0.003 0.0', 2, 2, 0.0049)\n",
      "\u001b[35m20\u001b[0m\n",
      "\t\u001b[35m0.0026 0.0023 0.0028 0.0049 0.0066 0.0076 0.0077 0.0029 0.0035 0.0\u001b[0m\n",
      "\t\t('0.0036 0.0043 0.0024 0.003 0.0 0.0015 0.0022 0.0029 0.0028 0.0036', 3, 2, 0.0052)\n",
      "\u001b[1m\u001b[33mT_curr : \u001b[0m 15\n",
      "\u001b[1m\u001b[33mD_curr : \u001b[0m 0.0036 0.0042 0.0024 0.0031 0.0 0.0015 0.0024 0.0031 0.0028 0.0036\n",
      "\u001b[1m\u001b[33mDprime : \u001b[0m 0.0036 0.0043 0.0024 0.003 0.0 0.0015 0.0022 0.0029 0.0028 0.0036\n",
      "\u001b[1m\u001b[31mtotal execution time : \u001b[0m 0.0166\n",
      "\n",
      "\u001b[5m\u001b[7m\u001b[35m  || ANALYSIS || \n",
      "\u001b[0m\n",
      "[25] Generated RAND_INF Dprime : 0.004 0.0079 0.0044 0.0047 0.0 0.002 0.0027 0.0054 0.0038 0.0059\n",
      "[20] Generated RAND_INF Dprime : 0.002 0.0034 0.0043 0.004 0.0043 0.0049 0.0069 0.0039 0.0032 0.0\n",
      "\u001b[34mTO EXPLORE : \u001b[0m\n",
      "\u001b[32m15\u001b[0m -> 0.0036 0.0042 0.0024 0.0031 0.0 0.0015 0.0024 0.0031 0.0028 0.0036\n",
      "\u001b[32m20\u001b[0m -> 0.002 0.0034 0.0043 0.004 0.0043 0.0049 0.0069 0.0039 0.0032 0.0\n",
      "\u001b[32m25\u001b[0m -> 0.004 0.0079 0.0044 0.0047 0.0 0.002 0.0027 0.0054 0.0038 0.0059\n",
      "\u001b[32m20\u001b[0m -> 0.0 0.0 0.0 0.0 0.0 0.0 0.0 0.0 0.0 0.0\n",
      "\u001b[32m25\u001b[0m -> 0.0 0.0 0.0 0.0 0.0 0.0 0.0 0.0 0.0 0.0\n",
      "\u001b[32m30\u001b[0m -> 0.0 0.0 0.0 0.0 0.0 0.0 0.0 0.0 0.0 0.0\n",
      "\u001b[32m35\u001b[0m -> 0.0 0.0 0.0 0.0 0.0 0.0 0.0 0.0 0.0 0.0\n",
      "\u001b[32m40\u001b[0m -> 0.0 0.0 0.0 0.0 0.0 0.0 0.0 0.0 0.0 0.0\n",
      "\u001b[32m45\u001b[0m -> 0.0 0.0 0.0 0.0 0.0 0.0 0.0 0.0 0.0 0.0\n",
      "\u001b[32m50\u001b[0m -> 0.0 0.0 0.0 0.0 0.0 0.0 0.0 0.0 0.0 0.0\n",
      "\u001b[32m55\u001b[0m -> 0.0 0.0 0.0 0.0 0.0 0.0 0.0 0.0 0.0 0.0\n",
      "\u001b[32m60\u001b[0m -> 0.0 0.0 0.0 0.0 0.0 0.0 0.0 0.0 0.0 0.0\n",
      "\u001b[32m65\u001b[0m -> 0.0 0.0 0.0 0.0 0.0 0.0 0.0 0.0 0.0 0.0\n",
      "\u001b[32m70\u001b[0m -> 0.0 0.0 0.0 0.0 0.0 0.0 0.0 0.0 0.0 0.0\n",
      "\u001b[32m75\u001b[0m -> 0.0 0.0 0.0 0.0 0.0 0.0 0.0 0.0 0.0 0.0\n",
      "\u001b[32m80\u001b[0m -> 0.0 0.0 0.0 0.0 0.0 0.0 0.0 0.0 0.0 0.0\n",
      "\u001b[32m85\u001b[0m -> 0.0 0.0 0.0 0.0 0.0 0.0 0.0 0.0 0.0 0.0\n",
      "\u001b[32m90\u001b[0m -> 0.0 0.0 0.0 0.0 0.0 0.0 0.0 0.0 0.0 0.0\n",
      "\u001b[32m95\u001b[0m -> 0.0 0.0 0.0 0.0 0.0 0.0 0.0 0.0 0.0 0.0\n",
      "\u001b[5m\u001b[7m\u001b[31m--------------------------------------------  ROUND :  4   --------------------------------------------\n",
      "\u001b[0m\n",
      "\u001b[5m\u001b[7m\u001b[32m  || LAUNCHING || \n",
      "\u001b[0m\n",
      "\u001b[34mTO EXPLORE : \u001b[0m\n",
      "\u001b[32m15\u001b[0m -> 0.0036 0.0042 0.0024 0.0031 0.0 0.0015 0.0024 0.0031 0.0028 0.0036\n",
      "\u001b[32m20\u001b[0m -> 0.002 0.0034 0.0043 0.004 0.0043 0.0049 0.0069 0.0039 0.0032 0.0\n",
      "\u001b[32m25\u001b[0m -> 0.004 0.0079 0.0044 0.0047 0.0 0.002 0.0027 0.0054 0.0038 0.0059\n",
      "\u001b[32m20\u001b[0m -> 0.0 0.0 0.0 0.0 0.0 0.0 0.0 0.0 0.0 0.0\n",
      "\u001b[32m25\u001b[0m -> 0.0 0.0 0.0 0.0 0.0 0.0 0.0 0.0 0.0 0.0\n",
      "\u001b[32m30\u001b[0m -> 0.0 0.0 0.0 0.0 0.0 0.0 0.0 0.0 0.0 0.0\n",
      "\u001b[32m35\u001b[0m -> 0.0 0.0 0.0 0.0 0.0 0.0 0.0 0.0 0.0 0.0\n",
      "\u001b[32m40\u001b[0m -> 0.0 0.0 0.0 0.0 0.0 0.0 0.0 0.0 0.0 0.0\n",
      "\u001b[32m45\u001b[0m -> 0.0 0.0 0.0 0.0 0.0 0.0 0.0 0.0 0.0 0.0\n",
      "\u001b[32m50\u001b[0m -> 0.0 0.0 0.0 0.0 0.0 0.0 0.0 0.0 0.0 0.0\n",
      "\u001b[32m55\u001b[0m -> 0.0 0.0 0.0 0.0 0.0 0.0 0.0 0.0 0.0 0.0\n",
      "\u001b[32m60\u001b[0m -> 0.0 0.0 0.0 0.0 0.0 0.0 0.0 0.0 0.0 0.0\n",
      "\u001b[32m65\u001b[0m -> 0.0 0.0 0.0 0.0 0.0 0.0 0.0 0.0 0.0 0.0\n",
      "\u001b[32m70\u001b[0m -> 0.0 0.0 0.0 0.0 0.0 0.0 0.0 0.0 0.0 0.0\n",
      "\u001b[32m75\u001b[0m -> 0.0 0.0 0.0 0.0 0.0 0.0 0.0 0.0 0.0 0.0\n",
      "\u001b[32m80\u001b[0m -> 0.0 0.0 0.0 0.0 0.0 0.0 0.0 0.0 0.0 0.0\n",
      "\u001b[32m85\u001b[0m -> 0.0 0.0 0.0 0.0 0.0 0.0 0.0 0.0 0.0 0.0\n",
      "\u001b[32m90\u001b[0m -> 0.0 0.0 0.0 0.0 0.0 0.0 0.0 0.0 0.0 0.0\n",
      "\u001b[32m95\u001b[0m -> 0.0 0.0 0.0 0.0 0.0 0.0 0.0 0.0 0.0 0.0\n",
      "grisou-47 => 0 NPROCS = 10 MIN = 15 MAX = 20 N = 100 DELAY = '0.0036 0.0042 0.0024 0.0031 0.0 0.0015 0.0024 0.0031 0.0028 0.0036'\n",
      "\n",
      "grisou-48 => 1 NPROCS = 10 MIN = 20 MAX = 25 N = 100 DELAY = '0.002 0.0034 0.0043 0.004 0.0043 0.0049 0.0069 0.0039 0.0032 0.0'\n",
      "\n",
      "grisou-5 => 2 NPROCS = 10 MIN = 25 MAX = 30 N = 100 DELAY = '0.004 0.0079 0.0044 0.0047 0.0 0.002 0.0027 0.0054 0.0038 0.0059'\n",
      "\n"
     ]
    },
    {
     "name": "stderr",
     "output_type": "stream",
     "text": [
      "/home/nezzine/.local/lib/python3.5/site-packages/rpy2/robjects/pandas2ri.py:191: FutureWarning: from_items is deprecated. Please use DataFrame.from_dict(dict(items), ...) instead. DataFrame.from_dict(OrderedDict(items)) may be used to preserve the key order.\n",
      "  res = PandasDataFrame.from_items(items)\n"
     ]
    },
    {
     "data": {
      "text/plain": [
       "'data.frame':\t70 obs. of  5 variables:\n",
       " $ Rank    : num  8 8 8 8 8 8 8 7 7 7 ...\n",
       " $ Start   : num  0 0.000196 0.002283 0.003331 0.003957 ...\n",
       " $ End     : num  0 0.00228 0.00333 0.00396 0.00396 ...\n",
       " $ Duration: num  0 0.002087 0.001048 0.000626 0 ...\n",
       " $ State   : Factor w/ 3 levels \"PMPI_Bcast\",\"PMPI_Finalize\",..: 3 1 1 1 1 1 2 3 1 1 ...\n"
      ]
     },
     "metadata": {},
     "output_type": "display_data"
    },
    {
     "data": {
      "image/png": "[encoded data removed]"
     },
     "metadata": {},
     "output_type": "display_data"
    },
    {
     "name": "stderr",
     "output_type": "stream",
     "text": [
      "/home/nezzine/.local/lib/python3.5/site-packages/rpy2/robjects/pandas2ri.py:191: FutureWarning: from_items is deprecated. Please use DataFrame.from_dict(dict(items), ...) instead. DataFrame.from_dict(OrderedDict(items)) may be used to preserve the key order.\n",
      "  res = PandasDataFrame.from_items(items)\n"
     ]
    },
    {
     "data": {
      "text/plain": [
       "'data.frame':\t70 obs. of  5 variables:\n",
       " $ Rank    : num  8 8 8 8 8 8 8 7 7 7 ...\n",
       " $ Start   : num  0 0.000224 0.001622 0.004923 0.005911 ...\n",
       " $ End     : num  0 0.00162 0.00492 0.00591 0.00743 ...\n",
       " $ Duration: num  0 0.001398 0.003301 0.000988 0.001515 ...\n",
       " $ State   : Factor w/ 3 levels \"PMPI_Bcast\",\"PMPI_Finalize\",..: 3 1 1 1 1 1 2 3 1 1 ...\n"
      ]
     },
     "metadata": {},
     "output_type": "display_data"
    },
    {
     "data": {
      "image/png": "[encoded data removed]"
     },
     "metadata": {},
     "output_type": "display_data"
    },
    {
     "name": "stderr",
     "output_type": "stream",
     "text": [
      "/home/nezzine/.local/lib/python3.5/site-packages/rpy2/robjects/pandas2ri.py:191: FutureWarning: from_items is deprecated. Please use DataFrame.from_dict(dict(items), ...) instead. DataFrame.from_dict(OrderedDict(items)) may be used to preserve the key order.\n",
      "  res = PandasDataFrame.from_items(items)\n"
     ]
    },
    {
     "data": {
      "text/plain": [
       "'data.frame':\t70 obs. of  5 variables:\n",
       " $ Rank    : num  8 8 8 8 8 8 8 7 7 7 ...\n",
       " $ Start   : num  0 0.000266 0.002329 0.003343 0.003969 ...\n",
       " $ End     : num  0 0.00233 0.00334 0.00397 0.00397 ...\n",
       " $ Duration: num  0 0.002063 0.001014 0.000626 0 ...\n",
       " $ State   : Factor w/ 3 levels \"PMPI_Bcast\",\"PMPI_Finalize\",..: 3 1 1 1 1 1 2 3 1 1 ...\n"
      ]
     },
     "metadata": {},
     "output_type": "display_data"
    },
    {
     "data": {
      "image/png": "[encoded data removed]"
     },
     "metadata": {},
     "output_type": "display_data"
    },
    {
     "name": "stdout",
     "output_type": "stream",
     "text": [
      "\u001b[33mT_curr : \u001b[0m 15\n",
      "\u001b[33mD_curr : \u001b[0m 0.0036 0.0042 0.0024 0.0031 0.0 0.0015 0.0024 0.0031 0.0028 0.0036\n",
      "\u001b[33mDprime : \u001b[0m 0.0015 0.0023 0.0029 0.0027 0.0035 0.0035 0.0041 0.0021 0.0028 0.0\n",
      "\u001b[31mtotal execution time : \u001b[0m 0.0166\n",
      "\n",
      "returning: 0.0036 0.0042 0.0024 0.0031 0.0 0.0015 0.0024 0.0031 0.0028 0.0036\n",
      "\u001b[5m\u001b[7m\u001b[31m\n",
      "  || RESULTS || \n",
      "\u001b[0m\n",
      "\u001b[34mTO EXPLORE : \u001b[0m\n",
      "\u001b[32m20\u001b[0m -> 0.0 0.0 0.0 0.0 0.0 0.0 0.0 0.0 0.0 0.0\n",
      "\u001b[32m25\u001b[0m -> 0.0 0.0 0.0 0.0 0.0 0.0 0.0 0.0 0.0 0.0\n",
      "\u001b[32m30\u001b[0m -> 0.0 0.0 0.0 0.0 0.0 0.0 0.0 0.0 0.0 0.0\n",
      "\u001b[32m35\u001b[0m -> 0.0 0.0 0.0 0.0 0.0 0.0 0.0 0.0 0.0 0.0\n",
      "\u001b[32m40\u001b[0m -> 0.0 0.0 0.0 0.0 0.0 0.0 0.0 0.0 0.0 0.0\n",
      "\u001b[32m45\u001b[0m -> 0.0 0.0 0.0 0.0 0.0 0.0 0.0 0.0 0.0 0.0\n",
      "\u001b[32m50\u001b[0m -> 0.0 0.0 0.0 0.0 0.0 0.0 0.0 0.0 0.0 0.0\n",
      "\u001b[32m55\u001b[0m -> 0.0 0.0 0.0 0.0 0.0 0.0 0.0 0.0 0.0 0.0\n",
      "\u001b[32m60\u001b[0m -> 0.0 0.0 0.0 0.0 0.0 0.0 0.0 0.0 0.0 0.0\n",
      "\u001b[32m65\u001b[0m -> 0.0 0.0 0.0 0.0 0.0 0.0 0.0 0.0 0.0 0.0\n",
      "\u001b[32m70\u001b[0m -> 0.0 0.0 0.0 0.0 0.0 0.0 0.0 0.0 0.0 0.0\n",
      "\u001b[32m75\u001b[0m -> 0.0 0.0 0.0 0.0 0.0 0.0 0.0 0.0 0.0 0.0\n",
      "\u001b[32m80\u001b[0m -> 0.0 0.0 0.0 0.0 0.0 0.0 0.0 0.0 0.0 0.0\n",
      "\u001b[32m85\u001b[0m -> 0.0 0.0 0.0 0.0 0.0 0.0 0.0 0.0 0.0 0.0\n",
      "\u001b[32m90\u001b[0m -> 0.0 0.0 0.0 0.0 0.0 0.0 0.0 0.0 0.0 0.0\n",
      "\u001b[32m95\u001b[0m -> 0.0 0.0 0.0 0.0 0.0 0.0 0.0 0.0 0.0 0.0\n",
      "\u001b[35m0\u001b[0m\n",
      "\t\u001b[35m0.0 0.0 0.0 0.0 0.0 0.0 0.0 0.0 0.0 0.0\u001b[0m\n",
      "\t\t('0.0037 0.0043 0.0025 0.0031 0.0 0.0016 0.0025 0.0031 0.0028 0.0037', 1, 0, 0.0054)\n",
      "\u001b[35m5\u001b[0m\n",
      "\t\u001b[35m0.0037 0.0043 0.0025 0.0031 0.0 0.0016 0.0025 0.0031 0.0028 0.0037\u001b[0m\n",
      "\t\t('0.0015 0.0024 0.0031 0.0028 0.0036 0.0036 0.0042 0.0024 0.0031 0.0', 2, 0, 0.0056)\n",
      "\t\u001b[35m0.0 0.0 0.0 0.0 0.0 0.0 0.0 0.0 0.0 0.0\u001b[0m\n",
      "\t\t('0.0016 0.0025 0.0031 0.0028 0.0037 0.0037 0.0043 0.0025 0.0031 0.0', 1, 1, 0.0054)\n",
      "\u001b[35m10\u001b[0m\n",
      "\t\u001b[35m0.0028 0.003 0.0035 0.0043 0.005 0.0043 0.0057 0.0028 0.0047 0.0\u001b[0m\n",
      "\t\t('0.0036 0.0042 0.0023 0.003 0.0 0.0014 0.0021 0.0027 0.0028 0.0036', 2, 1, 0.0053)\n",
      "\t\u001b[35m0.0015 0.0024 0.0031 0.0028 0.0036 0.0036 0.0042 0.0024 0.0031 0.0\u001b[0m\n",
      "\t\t('0.0036 0.0042 0.0024 0.0031 0.0 0.0015 0.0024 0.0031 0.0028 0.0036', 3, 0, 0.0056)\n",
      "\t\u001b[35m0.0 0.0 0.0 0.0 0.0 0.0 0.0 0.0 0.0 0.0\u001b[0m\n",
      "\t\t('0.0037 0.0043 0.0025 0.0031 0.0 0.0016 0.0025 0.0031 0.0028 0.0037', 1, 2, 0.0054)\n",
      "\u001b[35m15\u001b[0m\n",
      "\t\u001b[35m0.0036 0.0042 0.0024 0.0031 0.0 0.0015 0.0024 0.0031 0.0028 0.0036\u001b[0m\n",
      "\t\t('0.0015 0.0024 0.0031 0.0028 0.0036 0.0036 0.0042 0.0024 0.0031 0.0', 4, 0, 0.0056)\n",
      "\t\u001b[35m0.0063 0.0078 0.0031 0.0045 0.0 0.0026 0.0023 0.0043 0.0034 0.0066\u001b[0m\n",
      "\t\t('0.0015 0.0023 0.0029 0.0027 0.0036 0.0036 0.0042 0.0024 0.003 0.0', 3, 1, 0.0055)\n",
      "\t\u001b[35m0.0065 0.0083 0.0044 0.0044 0.0 0.0023 0.0043 0.0033 0.0031 0.0072\u001b[0m\n",
      "\t\t('0.0014 0.0021 0.0027 0.0029 0.0038 0.0038 0.0044 0.0024 0.003 0.0', 2, 2, 0.0049)\n",
      "\u001b[35m20\u001b[0m\n",
      "\t\u001b[35m0.002 0.0034 0.0043 0.004 0.0043 0.0049 0.0069 0.0039 0.0032 0.0\u001b[0m\n",
      "\t\t('0.0034 0.004 0.0019 0.0026 0.0 0.0014 0.0022 0.0028 0.0026 0.0034', 4, 1, 0.0055)\n",
      "\t\u001b[35m0.0026 0.0023 0.0028 0.0049 0.0066 0.0076 0.0077 0.0029 0.0035 0.0\u001b[0m\n",
      "\t\t('0.0036 0.0043 0.0024 0.003 0.0 0.0015 0.0022 0.0029 0.0028 0.0036', 3, 2, 0.0052)\n",
      "\u001b[35m25\u001b[0m\n",
      "\t\u001b[35m0.004 0.0079 0.0044 0.0047 0.0 0.002 0.0027 0.0054 0.0038 0.0059\u001b[0m\n",
      "\t\t('0.0015 0.0023 0.0029 0.0027 0.0035 0.0035 0.0041 0.0021 0.0028 0.0', 4, 2, 0.0055)\n",
      "\u001b[1m\u001b[33mT_curr : \u001b[0m 20\n",
      "\u001b[1m\u001b[33mD_curr : \u001b[0m 0.0015 0.0024 0.0031 0.0028 0.0036 0.0036 0.0042 0.0024 0.0031 0.0\n",
      "\u001b[1m\u001b[33mDprime : \u001b[0m 0.0015 0.0023 0.0029 0.0027 0.0035 0.0035 0.0041 0.0021 0.0028 0.0\n",
      "\u001b[1m\u001b[31mtotal execution time : \u001b[0m 0.0222\n",
      "\n",
      "\u001b[5m\u001b[7m\u001b[35m  || ANALYSIS || \n",
      "\u001b[0m\n",
      "[30] Generated RAND_INF Dprime : 0.0022 0.0037 0.0048 0.0049 0.006 0.0043 0.0042 0.0031 0.0035 0.0\n",
      "[25] Generated RAND_INF Dprime : 0.0064 0.0073 0.0031 0.0043 0.0 0.0027 0.0026 0.0039 0.0041 0.0036\n",
      "\u001b[34mTO EXPLORE : \u001b[0m\n",
      "\u001b[32m20\u001b[0m -> 0.0015 0.0024 0.0031 0.0028 0.0036 0.0036 0.0042 0.0024 0.0031 0.0\n",
      "\u001b[32m25\u001b[0m -> 0.0064 0.0073 0.0031 0.0043 0.0 0.0027 0.0026 0.0039 0.0041 0.0036\n",
      "\u001b[32m30\u001b[0m -> 0.0022 0.0037 0.0048 0.0049 0.006 0.0043 0.0042 0.0031 0.0035 0.0\n",
      "\u001b[32m25\u001b[0m -> 0.0 0.0 0.0 0.0 0.0 0.0 0.0 0.0 0.0 0.0\n",
      "\u001b[32m30\u001b[0m -> 0.0 0.0 0.0 0.0 0.0 0.0 0.0 0.0 0.0 0.0\n",
      "\u001b[32m35\u001b[0m -> 0.0 0.0 0.0 0.0 0.0 0.0 0.0 0.0 0.0 0.0\n",
      "\u001b[32m40\u001b[0m -> 0.0 0.0 0.0 0.0 0.0 0.0 0.0 0.0 0.0 0.0\n",
      "\u001b[32m45\u001b[0m -> 0.0 0.0 0.0 0.0 0.0 0.0 0.0 0.0 0.0 0.0\n",
      "\u001b[32m50\u001b[0m -> 0.0 0.0 0.0 0.0 0.0 0.0 0.0 0.0 0.0 0.0\n",
      "\u001b[32m55\u001b[0m -> 0.0 0.0 0.0 0.0 0.0 0.0 0.0 0.0 0.0 0.0\n",
      "\u001b[32m60\u001b[0m -> 0.0 0.0 0.0 0.0 0.0 0.0 0.0 0.0 0.0 0.0\n",
      "\u001b[32m65\u001b[0m -> 0.0 0.0 0.0 0.0 0.0 0.0 0.0 0.0 0.0 0.0\n",
      "\u001b[32m70\u001b[0m -> 0.0 0.0 0.0 0.0 0.0 0.0 0.0 0.0 0.0 0.0\n",
      "\u001b[32m75\u001b[0m -> 0.0 0.0 0.0 0.0 0.0 0.0 0.0 0.0 0.0 0.0\n",
      "\u001b[32m80\u001b[0m -> 0.0 0.0 0.0 0.0 0.0 0.0 0.0 0.0 0.0 0.0\n",
      "\u001b[32m85\u001b[0m -> 0.0 0.0 0.0 0.0 0.0 0.0 0.0 0.0 0.0 0.0\n",
      "\u001b[32m90\u001b[0m -> 0.0 0.0 0.0 0.0 0.0 0.0 0.0 0.0 0.0 0.0\n",
      "\u001b[32m95\u001b[0m -> 0.0 0.0 0.0 0.0 0.0 0.0 0.0 0.0 0.0 0.0\n",
      "\u001b[5m\u001b[7m\u001b[31m--------------------------------------------  ROUND :  5   --------------------------------------------\n",
      "\u001b[0m\n",
      "\u001b[5m\u001b[7m\u001b[32m  || LAUNCHING || \n",
      "\u001b[0m\n",
      "\u001b[34mTO EXPLORE : \u001b[0m\n",
      "\u001b[32m20\u001b[0m -> 0.0015 0.0024 0.0031 0.0028 0.0036 0.0036 0.0042 0.0024 0.0031 0.0\n",
      "\u001b[32m25\u001b[0m -> 0.0064 0.0073 0.0031 0.0043 0.0 0.0027 0.0026 0.0039 0.0041 0.0036\n",
      "\u001b[32m30\u001b[0m -> 0.0022 0.0037 0.0048 0.0049 0.006 0.0043 0.0042 0.0031 0.0035 0.0\n",
      "\u001b[32m25\u001b[0m -> 0.0 0.0 0.0 0.0 0.0 0.0 0.0 0.0 0.0 0.0\n",
      "\u001b[32m30\u001b[0m -> 0.0 0.0 0.0 0.0 0.0 0.0 0.0 0.0 0.0 0.0\n",
      "\u001b[32m35\u001b[0m -> 0.0 0.0 0.0 0.0 0.0 0.0 0.0 0.0 0.0 0.0\n",
      "\u001b[32m40\u001b[0m -> 0.0 0.0 0.0 0.0 0.0 0.0 0.0 0.0 0.0 0.0\n",
      "\u001b[32m45\u001b[0m -> 0.0 0.0 0.0 0.0 0.0 0.0 0.0 0.0 0.0 0.0\n",
      "\u001b[32m50\u001b[0m -> 0.0 0.0 0.0 0.0 0.0 0.0 0.0 0.0 0.0 0.0\n",
      "\u001b[32m55\u001b[0m -> 0.0 0.0 0.0 0.0 0.0 0.0 0.0 0.0 0.0 0.0\n",
      "\u001b[32m60\u001b[0m -> 0.0 0.0 0.0 0.0 0.0 0.0 0.0 0.0 0.0 0.0\n",
      "\u001b[32m65\u001b[0m -> 0.0 0.0 0.0 0.0 0.0 0.0 0.0 0.0 0.0 0.0\n",
      "\u001b[32m70\u001b[0m -> 0.0 0.0 0.0 0.0 0.0 0.0 0.0 0.0 0.0 0.0\n",
      "\u001b[32m75\u001b[0m -> 0.0 0.0 0.0 0.0 0.0 0.0 0.0 0.0 0.0 0.0\n",
      "\u001b[32m80\u001b[0m -> 0.0 0.0 0.0 0.0 0.0 0.0 0.0 0.0 0.0 0.0\n",
      "\u001b[32m85\u001b[0m -> 0.0 0.0 0.0 0.0 0.0 0.0 0.0 0.0 0.0 0.0\n",
      "\u001b[32m90\u001b[0m -> 0.0 0.0 0.0 0.0 0.0 0.0 0.0 0.0 0.0 0.0\n",
      "\u001b[32m95\u001b[0m -> 0.0 0.0 0.0 0.0 0.0 0.0 0.0 0.0 0.0 0.0\n",
      "grisou-47 => 0 NPROCS = 10 MIN = 20 MAX = 25 N = 100 DELAY = '0.0015 0.0024 0.0031 0.0028 0.0036 0.0036 0.0042 0.0024 0.0031 0.0'\n",
      "\n",
      "grisou-48 => 1 NPROCS = 10 MIN = 25 MAX = 30 N = 100 DELAY = '0.0064 0.0073 0.0031 0.0043 0.0 0.0027 0.0026 0.0039 0.0041 0.0036'\n",
      "\n",
      "grisou-5 => 2 NPROCS = 10 MIN = 30 MAX = 35 N = 100 DELAY = '0.0022 0.0037 0.0048 0.0049 0.006 0.0043 0.0042 0.0031 0.0035 0.0'\n",
      "\n"
     ]
    },
    {
     "name": "stderr",
     "output_type": "stream",
     "text": [
      "/home/nezzine/.local/lib/python3.5/site-packages/rpy2/robjects/pandas2ri.py:191: FutureWarning: from_items is deprecated. Please use DataFrame.from_dict(dict(items), ...) instead. DataFrame.from_dict(OrderedDict(items)) may be used to preserve the key order.\n",
      "  res = PandasDataFrame.from_items(items)\n"
     ]
    },
    {
     "data": {
      "text/plain": [
       "'data.frame':\t70 obs. of  5 variables:\n",
       " $ Rank    : num  8 8 8 8 8 8 8 7 7 7 ...\n",
       " $ Start   : num  0 0.000217 0.001657 0.004936 0.00601 ...\n",
       " $ End     : num  0 0.00166 0.00494 0.00601 0.00764 ...\n",
       " $ Duration: num  0 0.00144 0.00328 0.00107 0.00163 ...\n",
       " $ State   : Factor w/ 3 levels \"PMPI_Bcast\",\"PMPI_Finalize\",..: 3 1 1 1 1 1 2 3 1 1 ...\n"
      ]
     },
     "metadata": {},
     "output_type": "display_data"
    },
    {
     "data": {
      "image/png": "[encoded data removed]"
     },
     "metadata": {},
     "output_type": "display_data"
    },
    {
     "name": "stderr",
     "output_type": "stream",
     "text": [
      "/home/nezzine/.local/lib/python3.5/site-packages/rpy2/robjects/pandas2ri.py:191: FutureWarning: from_items is deprecated. Please use DataFrame.from_dict(dict(items), ...) instead. DataFrame.from_dict(OrderedDict(items)) may be used to preserve the key order.\n",
      "  res = PandasDataFrame.from_items(items)\n"
     ]
    },
    {
     "data": {
      "text/plain": [
       "'data.frame':\t70 obs. of  5 variables:\n",
       " $ Rank    : num  8 8 8 8 8 8 8 7 7 7 ...\n",
       " $ Start   : num  0 0.000287 0.00231 0.003369 0.003995 ...\n",
       " $ End     : num  0 0.00231 0.00337 0.004 0.004 ...\n",
       " $ Duration: num  0 0.002023 0.001059 0.000626 0 ...\n",
       " $ State   : Factor w/ 3 levels \"PMPI_Bcast\",\"PMPI_Finalize\",..: 3 1 1 1 1 1 2 3 1 1 ...\n"
      ]
     },
     "metadata": {},
     "output_type": "display_data"
    },
    {
     "data": {
      "image/png": "[encoded data removed]"
     },
     "metadata": {},
     "output_type": "display_data"
    },
    {
     "name": "stderr",
     "output_type": "stream",
     "text": [
      "/home/nezzine/.local/lib/python3.5/site-packages/rpy2/robjects/pandas2ri.py:191: FutureWarning: from_items is deprecated. Please use DataFrame.from_dict(dict(items), ...) instead. DataFrame.from_dict(OrderedDict(items)) may be used to preserve the key order.\n",
      "  res = PandasDataFrame.from_items(items)\n"
     ]
    },
    {
     "data": {
      "text/plain": [
       "'data.frame':\t70 obs. of  5 variables:\n",
       " $ Rank    : num  8 8 8 8 8 8 8 7 7 7 ...\n",
       " $ Start   : num  0 0.000245 0.001601 0.004914 0.005865 ...\n",
       " $ End     : num  0 0.0016 0.00491 0.00587 0.00737 ...\n",
       " $ Duration: num  0 0.001356 0.003313 0.000951 0.001504 ...\n",
       " $ State   : Factor w/ 3 levels \"PMPI_Bcast\",\"PMPI_Finalize\",..: 3 1 1 1 1 1 2 3 1 1 ...\n"
      ]
     },
     "metadata": {},
     "output_type": "display_data"
    },
    {
     "data": {
      "image/png": "[encoded data removed]"
     },
     "metadata": {},
     "output_type": "display_data"
    },
    {
     "name": "stdout",
     "output_type": "stream",
     "text": [
      "\u001b[33mT_curr : \u001b[0m 20\n",
      "\u001b[33mD_curr : \u001b[0m 0.0015 0.0024 0.0031 0.0028 0.0036 0.0036 0.0042 0.0024 0.0031 0.0\n",
      "\u001b[33mDprime : \u001b[0m 0.0034 0.0041 0.0019 0.0026 0.0 0.0015 0.0022 0.0028 0.0026 0.0034\n",
      "\u001b[31mtotal execution time : \u001b[0m 0.0222\n",
      "\n",
      "returning: 0.0015 0.0024 0.0031 0.0028 0.0036 0.0036 0.0042 0.0024 0.0031 0.0\n",
      "\u001b[5m\u001b[7m\u001b[31m\n",
      "  || RESULTS || \n",
      "\u001b[0m\n",
      "\u001b[34mTO EXPLORE : \u001b[0m\n",
      "\u001b[32m25\u001b[0m -> 0.0 0.0 0.0 0.0 0.0 0.0 0.0 0.0 0.0 0.0\n",
      "\u001b[32m30\u001b[0m -> 0.0 0.0 0.0 0.0 0.0 0.0 0.0 0.0 0.0 0.0\n",
      "\u001b[32m35\u001b[0m -> 0.0 0.0 0.0 0.0 0.0 0.0 0.0 0.0 0.0 0.0\n",
      "\u001b[32m40\u001b[0m -> 0.0 0.0 0.0 0.0 0.0 0.0 0.0 0.0 0.0 0.0\n",
      "\u001b[32m45\u001b[0m -> 0.0 0.0 0.0 0.0 0.0 0.0 0.0 0.0 0.0 0.0\n",
      "\u001b[32m50\u001b[0m -> 0.0 0.0 0.0 0.0 0.0 0.0 0.0 0.0 0.0 0.0\n",
      "\u001b[32m55\u001b[0m -> 0.0 0.0 0.0 0.0 0.0 0.0 0.0 0.0 0.0 0.0\n",
      "\u001b[32m60\u001b[0m -> 0.0 0.0 0.0 0.0 0.0 0.0 0.0 0.0 0.0 0.0\n",
      "\u001b[32m65\u001b[0m -> 0.0 0.0 0.0 0.0 0.0 0.0 0.0 0.0 0.0 0.0\n",
      "\u001b[32m70\u001b[0m -> 0.0 0.0 0.0 0.0 0.0 0.0 0.0 0.0 0.0 0.0\n",
      "\u001b[32m75\u001b[0m -> 0.0 0.0 0.0 0.0 0.0 0.0 0.0 0.0 0.0 0.0\n",
      "\u001b[32m80\u001b[0m -> 0.0 0.0 0.0 0.0 0.0 0.0 0.0 0.0 0.0 0.0\n",
      "\u001b[32m85\u001b[0m -> 0.0 0.0 0.0 0.0 0.0 0.0 0.0 0.0 0.0 0.0\n",
      "\u001b[32m90\u001b[0m -> 0.0 0.0 0.0 0.0 0.0 0.0 0.0 0.0 0.0 0.0\n",
      "\u001b[32m95\u001b[0m -> 0.0 0.0 0.0 0.0 0.0 0.0 0.0 0.0 0.0 0.0\n",
      "\u001b[35m0\u001b[0m\n",
      "\t\u001b[35m0.0 0.0 0.0 0.0 0.0 0.0 0.0 0.0 0.0 0.0\u001b[0m\n",
      "\t\t('0.0037 0.0043 0.0025 0.0031 0.0 0.0016 0.0025 0.0031 0.0028 0.0037', 1, 0, 0.0054)\n",
      "\u001b[35m5\u001b[0m\n",
      "\t\u001b[35m0.0037 0.0043 0.0025 0.0031 0.0 0.0016 0.0025 0.0031 0.0028 0.0037\u001b[0m\n",
      "\t\t('0.0015 0.0024 0.0031 0.0028 0.0036 0.0036 0.0042 0.0024 0.0031 0.0', 2, 0, 0.0056)\n",
      "\t\u001b[35m0.0 0.0 0.0 0.0 0.0 0.0 0.0 0.0 0.0 0.0\u001b[0m\n",
      "\t\t('0.0016 0.0025 0.0031 0.0028 0.0037 0.0037 0.0043 0.0025 0.0031 0.0', 1, 1, 0.0054)\n",
      "\u001b[35m10\u001b[0m\n",
      "\t\u001b[35m0.0028 0.003 0.0035 0.0043 0.005 0.0043 0.0057 0.0028 0.0047 0.0\u001b[0m\n",
      "\t\t('0.0036 0.0042 0.0023 0.003 0.0 0.0014 0.0021 0.0027 0.0028 0.0036', 2, 1, 0.0053)\n",
      "\t\u001b[35m0.0015 0.0024 0.0031 0.0028 0.0036 0.0036 0.0042 0.0024 0.0031 0.0\u001b[0m\n",
      "\t\t('0.0036 0.0042 0.0024 0.0031 0.0 0.0015 0.0024 0.0031 0.0028 0.0036', 3, 0, 0.0056)\n",
      "\t\u001b[35m0.0 0.0 0.0 0.0 0.0 0.0 0.0 0.0 0.0 0.0\u001b[0m\n",
      "\t\t('0.0037 0.0043 0.0025 0.0031 0.0 0.0016 0.0025 0.0031 0.0028 0.0037', 1, 2, 0.0054)\n",
      "\u001b[35m15\u001b[0m\n",
      "\t\u001b[35m0.0036 0.0042 0.0024 0.0031 0.0 0.0015 0.0024 0.0031 0.0028 0.0036\u001b[0m\n",
      "\t\t('0.0015 0.0024 0.0031 0.0028 0.0036 0.0036 0.0042 0.0024 0.0031 0.0', 4, 0, 0.0056)\n",
      "\t\u001b[35m0.0063 0.0078 0.0031 0.0045 0.0 0.0026 0.0023 0.0043 0.0034 0.0066\u001b[0m\n",
      "\t\t('0.0015 0.0023 0.0029 0.0027 0.0036 0.0036 0.0042 0.0024 0.003 0.0', 3, 1, 0.0055)\n",
      "\t\u001b[35m0.0065 0.0083 0.0044 0.0044 0.0 0.0023 0.0043 0.0033 0.0031 0.0072\u001b[0m\n",
      "\t\t('0.0014 0.0021 0.0027 0.0029 0.0038 0.0038 0.0044 0.0024 0.003 0.0', 2, 2, 0.0049)\n",
      "\u001b[35m20\u001b[0m\n",
      "\t\u001b[35m0.002 0.0034 0.0043 0.004 0.0043 0.0049 0.0069 0.0039 0.0032 0.0\u001b[0m\n",
      "\t\t('0.0034 0.004 0.0019 0.0026 0.0 0.0014 0.0022 0.0028 0.0026 0.0034', 4, 1, 0.0055)\n",
      "\t\u001b[35m0.0015 0.0024 0.0031 0.0028 0.0036 0.0036 0.0042 0.0024 0.0031 0.0\u001b[0m\n",
      "\t\t('0.0036 0.0042 0.0024 0.0031 0.0 0.0015 0.0024 0.0031 0.0028 0.0036', 5, 0, 0.0056)\n",
      "\t\u001b[35m0.0026 0.0023 0.0028 0.0049 0.0066 0.0076 0.0077 0.0029 0.0035 0.0\u001b[0m\n",
      "\t\t('0.0036 0.0043 0.0024 0.003 0.0 0.0015 0.0022 0.0029 0.0028 0.0036', 3, 2, 0.0052)\n",
      "\u001b[35m25\u001b[0m\n",
      "\t\u001b[35m0.004 0.0079 0.0044 0.0047 0.0 0.002 0.0027 0.0054 0.0038 0.0059\u001b[0m\n",
      "\t\t('0.0015 0.0023 0.0029 0.0027 0.0035 0.0035 0.0041 0.0021 0.0028 0.0', 4, 2, 0.0055)\n",
      "\t\u001b[35m0.0064 0.0073 0.0031 0.0043 0.0 0.0027 0.0026 0.0039 0.0041 0.0036\u001b[0m\n",
      "\t\t('0.0015 0.0024 0.003 0.0028 0.0036 0.0036 0.0043 0.0025 0.0031 0.0', 5, 1, 0.0056)\n",
      "\u001b[35m30\u001b[0m\n",
      "\t\u001b[35m0.0022 0.0037 0.0048 0.0049 0.006 0.0043 0.0042 0.0031 0.0035 0.0\u001b[0m\n",
      "\t\t('0.0034 0.0041 0.0019 0.0026 0.0 0.0015 0.0022 0.0028 0.0026 0.0034', 5, 2, 0.0054)\n",
      "\u001b[1m\u001b[33mT_curr : \u001b[0m 25\n",
      "\u001b[1m\u001b[33mD_curr : \u001b[0m 0.0036 0.0042 0.0024 0.0031 0.0 0.0015 0.0024 0.0031 0.0028 0.0036\n",
      "\u001b[1m\u001b[33mDprime : \u001b[0m 0.0034 0.0041 0.0019 0.0026 0.0 0.0015 0.0022 0.0028 0.0026 0.0034\n",
      "\u001b[1m\u001b[31mtotal execution time : \u001b[0m 0.027800000000000002\n",
      "\n",
      "\u001b[5m\u001b[7m\u001b[35m  || ANALYSIS || \n",
      "\u001b[0m\n",
      "[35] Generated RAND_INF Dprime : 0.0059 0.0062 0.003 0.003 0.0 0.0017 0.0039 0.0047 0.0044 0.0054\n",
      "[30] Generated RAND_INF Dprime : 0.0017 0.0038 0.005 0.0047 0.0042 0.0053 0.0075 0.0037 0.0039 0.0\n",
      "\u001b[34mTO EXPLORE : \u001b[0m\n",
      "\u001b[32m25\u001b[0m -> 0.0036 0.0042 0.0024 0.0031 0.0 0.0015 0.0024 0.0031 0.0028 0.0036\n",
      "\u001b[32m30\u001b[0m -> 0.0017 0.0038 0.005 0.0047 0.0042 0.0053 0.0075 0.0037 0.0039 0.0\n",
      "\u001b[32m35\u001b[0m -> 0.0059 0.0062 0.003 0.003 0.0 0.0017 0.0039 0.0047 0.0044 0.0054\n",
      "\u001b[32m30\u001b[0m -> 0.0 0.0 0.0 0.0 0.0 0.0 0.0 0.0 0.0 0.0\n",
      "\u001b[32m35\u001b[0m -> 0.0 0.0 0.0 0.0 0.0 0.0 0.0 0.0 0.0 0.0\n",
      "\u001b[32m40\u001b[0m -> 0.0 0.0 0.0 0.0 0.0 0.0 0.0 0.0 0.0 0.0\n",
      "\u001b[32m45\u001b[0m -> 0.0 0.0 0.0 0.0 0.0 0.0 0.0 0.0 0.0 0.0\n",
      "\u001b[32m50\u001b[0m -> 0.0 0.0 0.0 0.0 0.0 0.0 0.0 0.0 0.0 0.0\n",
      "\u001b[32m55\u001b[0m -> 0.0 0.0 0.0 0.0 0.0 0.0 0.0 0.0 0.0 0.0\n",
      "\u001b[32m60\u001b[0m -> 0.0 0.0 0.0 0.0 0.0 0.0 0.0 0.0 0.0 0.0\n",
      "\u001b[32m65\u001b[0m -> 0.0 0.0 0.0 0.0 0.0 0.0 0.0 0.0 0.0 0.0\n",
      "\u001b[32m70\u001b[0m -> 0.0 0.0 0.0 0.0 0.0 0.0 0.0 0.0 0.0 0.0\n",
      "\u001b[32m75\u001b[0m -> 0.0 0.0 0.0 0.0 0.0 0.0 0.0 0.0 0.0 0.0\n",
      "\u001b[32m80\u001b[0m -> 0.0 0.0 0.0 0.0 0.0 0.0 0.0 0.0 0.0 0.0\n",
      "\u001b[32m85\u001b[0m -> 0.0 0.0 0.0 0.0 0.0 0.0 0.0 0.0 0.0 0.0\n",
      "\u001b[32m90\u001b[0m -> 0.0 0.0 0.0 0.0 0.0 0.0 0.0 0.0 0.0 0.0\n",
      "\u001b[32m95\u001b[0m -> 0.0 0.0 0.0 0.0 0.0 0.0 0.0 0.0 0.0 0.0\n",
      "\u001b[5m\u001b[7m\u001b[31m--------------------------------------------  ROUND :  6   --------------------------------------------\n",
      "\u001b[0m\n",
      "\u001b[5m\u001b[7m\u001b[32m  || LAUNCHING || \n",
      "\u001b[0m\n",
      "\u001b[34mTO EXPLORE : \u001b[0m\n",
      "\u001b[32m25\u001b[0m -> 0.0036 0.0042 0.0024 0.0031 0.0 0.0015 0.0024 0.0031 0.0028 0.0036\n",
      "\u001b[32m30\u001b[0m -> 0.0017 0.0038 0.005 0.0047 0.0042 0.0053 0.0075 0.0037 0.0039 0.0\n",
      "\u001b[32m35\u001b[0m -> 0.0059 0.0062 0.003 0.003 0.0 0.0017 0.0039 0.0047 0.0044 0.0054\n",
      "\u001b[32m30\u001b[0m -> 0.0 0.0 0.0 0.0 0.0 0.0 0.0 0.0 0.0 0.0\n",
      "\u001b[32m35\u001b[0m -> 0.0 0.0 0.0 0.0 0.0 0.0 0.0 0.0 0.0 0.0\n",
      "\u001b[32m40\u001b[0m -> 0.0 0.0 0.0 0.0 0.0 0.0 0.0 0.0 0.0 0.0\n",
      "\u001b[32m45\u001b[0m -> 0.0 0.0 0.0 0.0 0.0 0.0 0.0 0.0 0.0 0.0\n",
      "\u001b[32m50\u001b[0m -> 0.0 0.0 0.0 0.0 0.0 0.0 0.0 0.0 0.0 0.0\n",
      "\u001b[32m55\u001b[0m -> 0.0 0.0 0.0 0.0 0.0 0.0 0.0 0.0 0.0 0.0\n",
      "\u001b[32m60\u001b[0m -> 0.0 0.0 0.0 0.0 0.0 0.0 0.0 0.0 0.0 0.0\n",
      "\u001b[32m65\u001b[0m -> 0.0 0.0 0.0 0.0 0.0 0.0 0.0 0.0 0.0 0.0\n",
      "\u001b[32m70\u001b[0m -> 0.0 0.0 0.0 0.0 0.0 0.0 0.0 0.0 0.0 0.0\n",
      "\u001b[32m75\u001b[0m -> 0.0 0.0 0.0 0.0 0.0 0.0 0.0 0.0 0.0 0.0\n",
      "\u001b[32m80\u001b[0m -> 0.0 0.0 0.0 0.0 0.0 0.0 0.0 0.0 0.0 0.0\n",
      "\u001b[32m85\u001b[0m -> 0.0 0.0 0.0 0.0 0.0 0.0 0.0 0.0 0.0 0.0\n",
      "\u001b[32m90\u001b[0m -> 0.0 0.0 0.0 0.0 0.0 0.0 0.0 0.0 0.0 0.0\n",
      "\u001b[32m95\u001b[0m -> 0.0 0.0 0.0 0.0 0.0 0.0 0.0 0.0 0.0 0.0\n",
      "grisou-47 => 0 NPROCS = 10 MIN = 25 MAX = 30 N = 100 DELAY = '0.0036 0.0042 0.0024 0.0031 0.0 0.0015 0.0024 0.0031 0.0028 0.0036'\n",
      "\n",
      "grisou-48 => 1 NPROCS = 10 MIN = 30 MAX = 35 N = 100 DELAY = '0.0017 0.0038 0.005 0.0047 0.0042 0.0053 0.0075 0.0037 0.0039 0.0'\n",
      "\n",
      "grisou-5 => 2 NPROCS = 10 MIN = 35 MAX = 40 N = 100 DELAY = '0.0059 0.0062 0.003 0.003 0.0 0.0017 0.0039 0.0047 0.0044 0.0054'\n",
      "\n"
     ]
    },
    {
     "name": "stderr",
     "output_type": "stream",
     "text": [
      "/home/nezzine/.local/lib/python3.5/site-packages/rpy2/robjects/pandas2ri.py:191: FutureWarning: from_items is deprecated. Please use DataFrame.from_dict(dict(items), ...) instead. DataFrame.from_dict(OrderedDict(items)) may be used to preserve the key order.\n",
      "  res = PandasDataFrame.from_items(items)\n"
     ]
    },
    {
     "data": {
      "text/plain": [
       "'data.frame':\t70 obs. of  5 variables:\n",
       " $ Rank    : num  8 8 8 8 8 8 8 7 7 7 ...\n",
       " $ Start   : num  0 0.000196 0.002283 0.003331 0.003957 ...\n",
       " $ End     : num  0 0.00228 0.00333 0.00396 0.00396 ...\n",
       " $ Duration: num  0 0.002087 0.001048 0.000626 0 ...\n",
       " $ State   : Factor w/ 3 levels \"PMPI_Bcast\",\"PMPI_Finalize\",..: 3 1 1 1 1 1 2 3 1 1 ...\n"
      ]
     },
     "metadata": {},
     "output_type": "display_data"
    },
    {
     "data": {
      "image/png": "[encoded data removed]"
     },
     "metadata": {},
     "output_type": "display_data"
    },
    {
     "name": "stderr",
     "output_type": "stream",
     "text": [
      "/home/nezzine/.local/lib/python3.5/site-packages/rpy2/robjects/pandas2ri.py:191: FutureWarning: from_items is deprecated. Please use DataFrame.from_dict(dict(items), ...) instead. DataFrame.from_dict(OrderedDict(items)) may be used to preserve the key order.\n",
      "  res = PandasDataFrame.from_items(items)\n"
     ]
    },
    {
     "data": {
      "text/plain": [
       "'data.frame':\t70 obs. of  5 variables:\n",
       " $ Rank    : num  8 8 8 8 8 8 8 7 7 7 ...\n",
       " $ Start   : num  0 0.000273 0.001715 0.004999 0.006048 ...\n",
       " $ End     : num  0 0.00171 0.005 0.00605 0.00762 ...\n",
       " $ Duration: num  0 0.00144 0.00328 0.00105 0.00157 ...\n",
       " $ State   : Factor w/ 3 levels \"PMPI_Bcast\",\"PMPI_Finalize\",..: 3 1 1 1 1 1 2 3 1 1 ...\n"
      ]
     },
     "metadata": {},
     "output_type": "display_data"
    },
    {
     "data": {
      "image/png": "[encoded data removed]"
     },
     "metadata": {},
     "output_type": "display_data"
    },
    {
     "name": "stderr",
     "output_type": "stream",
     "text": [
      "/home/nezzine/.local/lib/python3.5/site-packages/rpy2/robjects/pandas2ri.py:191: FutureWarning: from_items is deprecated. Please use DataFrame.from_dict(dict(items), ...) instead. DataFrame.from_dict(OrderedDict(items)) may be used to preserve the key order.\n",
      "  res = PandasDataFrame.from_items(items)\n"
     ]
    },
    {
     "data": {
      "text/plain": [
       "'data.frame':\t70 obs. of  5 variables:\n",
       " $ Rank    : num  8 8 8 8 8 8 8 7 7 7 ...\n",
       " $ Start   : num  0 0.000308 0.002324 0.003239 0.003906 ...\n",
       " $ End     : num  0 0.00232 0.00324 0.00391 0.00391 ...\n",
       " $ Duration: num  0 0.002016 0.000915 0.000667 0 ...\n",
       " $ State   : Factor w/ 3 levels \"PMPI_Bcast\",\"PMPI_Finalize\",..: 3 1 1 1 1 1 2 3 1 1 ...\n"
      ]
     },
     "metadata": {},
     "output_type": "display_data"
    },
    {
     "data": {
      "image/png": "[encoded data removed]"
     },
     "metadata": {},
     "output_type": "display_data"
    },
    {
     "name": "stdout",
     "output_type": "stream",
     "text": [
      "\u001b[33mT_curr : \u001b[0m 25\n",
      "\u001b[33mD_curr : \u001b[0m 0.0036 0.0042 0.0024 0.0031 0.0 0.0015 0.0024 0.0031 0.0028 0.0036\n",
      "\u001b[33mDprime : \u001b[0m 0.0014 0.002 0.0026 0.0025 0.0033 0.0033 0.0039 0.0018 0.0024 0.0\n",
      "\u001b[31mtotal execution time : \u001b[0m 0.027800000000000002\n",
      "\n",
      "returning: 0.0036 0.0042 0.0024 0.0031 0.0 0.0015 0.0024 0.0031 0.0028 0.0036\n",
      "\u001b[5m\u001b[7m\u001b[31m\n",
      "  || RESULTS || \n",
      "\u001b[0m\n",
      "\u001b[34mTO EXPLORE : \u001b[0m\n",
      "\u001b[32m30\u001b[0m -> 0.0 0.0 0.0 0.0 0.0 0.0 0.0 0.0 0.0 0.0\n",
      "\u001b[32m35\u001b[0m -> 0.0 0.0 0.0 0.0 0.0 0.0 0.0 0.0 0.0 0.0\n",
      "\u001b[32m40\u001b[0m -> 0.0 0.0 0.0 0.0 0.0 0.0 0.0 0.0 0.0 0.0\n",
      "\u001b[32m45\u001b[0m -> 0.0 0.0 0.0 0.0 0.0 0.0 0.0 0.0 0.0 0.0\n",
      "\u001b[32m50\u001b[0m -> 0.0 0.0 0.0 0.0 0.0 0.0 0.0 0.0 0.0 0.0\n",
      "\u001b[32m55\u001b[0m -> 0.0 0.0 0.0 0.0 0.0 0.0 0.0 0.0 0.0 0.0\n",
      "\u001b[32m60\u001b[0m -> 0.0 0.0 0.0 0.0 0.0 0.0 0.0 0.0 0.0 0.0\n",
      "\u001b[32m65\u001b[0m -> 0.0 0.0 0.0 0.0 0.0 0.0 0.0 0.0 0.0 0.0\n",
      "\u001b[32m70\u001b[0m -> 0.0 0.0 0.0 0.0 0.0 0.0 0.0 0.0 0.0 0.0\n",
      "\u001b[32m75\u001b[0m -> 0.0 0.0 0.0 0.0 0.0 0.0 0.0 0.0 0.0 0.0\n",
      "\u001b[32m80\u001b[0m -> 0.0 0.0 0.0 0.0 0.0 0.0 0.0 0.0 0.0 0.0\n",
      "\u001b[32m85\u001b[0m -> 0.0 0.0 0.0 0.0 0.0 0.0 0.0 0.0 0.0 0.0\n",
      "\u001b[32m90\u001b[0m -> 0.0 0.0 0.0 0.0 0.0 0.0 0.0 0.0 0.0 0.0\n",
      "\u001b[32m95\u001b[0m -> 0.0 0.0 0.0 0.0 0.0 0.0 0.0 0.0 0.0 0.0\n",
      "\u001b[35m0\u001b[0m\n",
      "\t\u001b[35m0.0 0.0 0.0 0.0 0.0 0.0 0.0 0.0 0.0 0.0\u001b[0m\n",
      "\t\t('0.0037 0.0043 0.0025 0.0031 0.0 0.0016 0.0025 0.0031 0.0028 0.0037', 1, 0, 0.0054)\n",
      "\u001b[35m5\u001b[0m\n",
      "\t\u001b[35m0.0037 0.0043 0.0025 0.0031 0.0 0.0016 0.0025 0.0031 0.0028 0.0037\u001b[0m\n",
      "\t\t('0.0015 0.0024 0.0031 0.0028 0.0036 0.0036 0.0042 0.0024 0.0031 0.0', 2, 0, 0.0056)\n",
      "\t\u001b[35m0.0 0.0 0.0 0.0 0.0 0.0 0.0 0.0 0.0 0.0\u001b[0m\n",
      "\t\t('0.0016 0.0025 0.0031 0.0028 0.0037 0.0037 0.0043 0.0025 0.0031 0.0', 1, 1, 0.0054)\n",
      "\u001b[35m10\u001b[0m\n",
      "\t\u001b[35m0.0028 0.003 0.0035 0.0043 0.005 0.0043 0.0057 0.0028 0.0047 0.0\u001b[0m\n",
      "\t\t('0.0036 0.0042 0.0023 0.003 0.0 0.0014 0.0021 0.0027 0.0028 0.0036', 2, 1, 0.0053)\n",
      "\t\u001b[35m0.0015 0.0024 0.0031 0.0028 0.0036 0.0036 0.0042 0.0024 0.0031 0.0\u001b[0m\n",
      "\t\t('0.0036 0.0042 0.0024 0.0031 0.0 0.0015 0.0024 0.0031 0.0028 0.0036', 3, 0, 0.0056)\n",
      "\t\u001b[35m0.0 0.0 0.0 0.0 0.0 0.0 0.0 0.0 0.0 0.0\u001b[0m\n",
      "\t\t('0.0037 0.0043 0.0025 0.0031 0.0 0.0016 0.0025 0.0031 0.0028 0.0037', 1, 2, 0.0054)\n",
      "\u001b[35m15\u001b[0m\n",
      "\t\u001b[35m0.0036 0.0042 0.0024 0.0031 0.0 0.0015 0.0024 0.0031 0.0028 0.0036\u001b[0m\n",
      "\t\t('0.0015 0.0024 0.0031 0.0028 0.0036 0.0036 0.0042 0.0024 0.0031 0.0', 4, 0, 0.0056)\n",
      "\t\u001b[35m0.0063 0.0078 0.0031 0.0045 0.0 0.0026 0.0023 0.0043 0.0034 0.0066\u001b[0m\n",
      "\t\t('0.0015 0.0023 0.0029 0.0027 0.0036 0.0036 0.0042 0.0024 0.003 0.0', 3, 1, 0.0055)\n",
      "\t\u001b[35m0.0065 0.0083 0.0044 0.0044 0.0 0.0023 0.0043 0.0033 0.0031 0.0072\u001b[0m\n",
      "\t\t('0.0014 0.0021 0.0027 0.0029 0.0038 0.0038 0.0044 0.0024 0.003 0.0', 2, 2, 0.0049)\n",
      "\u001b[35m20\u001b[0m\n",
      "\t\u001b[35m0.002 0.0034 0.0043 0.004 0.0043 0.0049 0.0069 0.0039 0.0032 0.0\u001b[0m\n",
      "\t\t('0.0034 0.004 0.0019 0.0026 0.0 0.0014 0.0022 0.0028 0.0026 0.0034', 4, 1, 0.0055)\n",
      "\t\u001b[35m0.0015 0.0024 0.0031 0.0028 0.0036 0.0036 0.0042 0.0024 0.0031 0.0\u001b[0m\n",
      "\t\t('0.0036 0.0042 0.0024 0.0031 0.0 0.0015 0.0024 0.0031 0.0028 0.0036', 5, 0, 0.0056)\n",
      "\t\u001b[35m0.0026 0.0023 0.0028 0.0049 0.0066 0.0076 0.0077 0.0029 0.0035 0.0\u001b[0m\n",
      "\t\t('0.0036 0.0043 0.0024 0.003 0.0 0.0015 0.0022 0.0029 0.0028 0.0036', 3, 2, 0.0052)\n",
      "\u001b[35m25\u001b[0m\n",
      "\t\u001b[35m0.004 0.0079 0.0044 0.0047 0.0 0.002 0.0027 0.0054 0.0038 0.0059\u001b[0m\n",
      "\t\t('0.0015 0.0023 0.0029 0.0027 0.0035 0.0035 0.0041 0.0021 0.0028 0.0', 4, 2, 0.0055)\n",
      "\t\u001b[35m0.0064 0.0073 0.0031 0.0043 0.0 0.0027 0.0026 0.0039 0.0041 0.0036\u001b[0m\n",
      "\t\t('0.0015 0.0024 0.003 0.0028 0.0036 0.0036 0.0043 0.0025 0.0031 0.0', 5, 1, 0.0056)\n",
      "\t\u001b[35m0.0036 0.0042 0.0024 0.0031 0.0 0.0015 0.0024 0.0031 0.0028 0.0036\u001b[0m\n",
      "\t\t('0.0015 0.0024 0.0031 0.0028 0.0036 0.0036 0.0042 0.0024 0.0031 0.0', 6, 0, 0.0056)\n",
      "\u001b[35m30\u001b[0m\n",
      "\t\u001b[35m0.0022 0.0037 0.0048 0.0049 0.006 0.0043 0.0042 0.0031 0.0035 0.0\u001b[0m\n",
      "\t\t('0.0034 0.0041 0.0019 0.0026 0.0 0.0015 0.0022 0.0028 0.0026 0.0034', 5, 2, 0.0054)\n",
      "\t\u001b[35m0.0017 0.0038 0.005 0.0047 0.0042 0.0053 0.0075 0.0037 0.0039 0.0\u001b[0m\n",
      "\t\t('0.0035 0.0041 0.0021 0.0028 0.0 0.0015 0.0023 0.003 0.0027 0.0035', 6, 1, 0.0056)\n",
      "\u001b[35m35\u001b[0m\n",
      "\t\u001b[35m0.0059 0.0062 0.003 0.003 0.0 0.0017 0.0039 0.0047 0.0044 0.0054\u001b[0m\n",
      "\t\t('0.0014 0.002 0.0026 0.0025 0.0033 0.0033 0.0039 0.0018 0.0024 0.0', 6, 2, 0.0054)\n",
      "\u001b[1m\u001b[33mT_curr : \u001b[0m 30\n",
      "\u001b[1m\u001b[33mD_curr : \u001b[0m 0.0015 0.0024 0.0031 0.0028 0.0036 0.0036 0.0042 0.0024 0.0031 0.0\n",
      "\u001b[1m\u001b[33mDprime : \u001b[0m 0.0014 0.002 0.0026 0.0025 0.0033 0.0033 0.0039 0.0018 0.0024 0.0\n",
      "\u001b[1m\u001b[31mtotal execution time : \u001b[0m 0.0334\n",
      "\n",
      "\u001b[5m\u001b[7m\u001b[35m  || ANALYSIS || \n",
      "\u001b[0m\n",
      "[40] Generated RAND_INF Dprime : 0.0022 0.0031 0.0042 0.0028 0.0048 0.0044 0.0055 0.0034 0.003 0.0\n",
      "[35] Generated RAND_INF Dprime : 0.0069 0.0078 0.0024 0.0047 0.0 0.0019 0.0037 0.0036 0.0039 0.0047\n",
      "\u001b[34mTO EXPLORE : \u001b[0m\n",
      "\u001b[32m30\u001b[0m -> 0.0015 0.0024 0.0031 0.0028 0.0036 0.0036 0.0042 0.0024 0.0031 0.0\n",
      "\u001b[32m35\u001b[0m -> 0.0069 0.0078 0.0024 0.0047 0.0 0.0019 0.0037 0.0036 0.0039 0.0047\n",
      "\u001b[32m40\u001b[0m -> 0.0022 0.0031 0.0042 0.0028 0.0048 0.0044 0.0055 0.0034 0.003 0.0\n",
      "\u001b[32m35\u001b[0m -> 0.0 0.0 0.0 0.0 0.0 0.0 0.0 0.0 0.0 0.0\n",
      "\u001b[32m40\u001b[0m -> 0.0 0.0 0.0 0.0 0.0 0.0 0.0 0.0 0.0 0.0\n",
      "\u001b[32m45\u001b[0m -> 0.0 0.0 0.0 0.0 0.0 0.0 0.0 0.0 0.0 0.0\n",
      "\u001b[32m50\u001b[0m -> 0.0 0.0 0.0 0.0 0.0 0.0 0.0 0.0 0.0 0.0\n",
      "\u001b[32m55\u001b[0m -> 0.0 0.0 0.0 0.0 0.0 0.0 0.0 0.0 0.0 0.0\n",
      "\u001b[32m60\u001b[0m -> 0.0 0.0 0.0 0.0 0.0 0.0 0.0 0.0 0.0 0.0\n",
      "\u001b[32m65\u001b[0m -> 0.0 0.0 0.0 0.0 0.0 0.0 0.0 0.0 0.0 0.0\n",
      "\u001b[32m70\u001b[0m -> 0.0 0.0 0.0 0.0 0.0 0.0 0.0 0.0 0.0 0.0\n",
      "\u001b[32m75\u001b[0m -> 0.0 0.0 0.0 0.0 0.0 0.0 0.0 0.0 0.0 0.0\n",
      "\u001b[32m80\u001b[0m -> 0.0 0.0 0.0 0.0 0.0 0.0 0.0 0.0 0.0 0.0\n",
      "\u001b[32m85\u001b[0m -> 0.0 0.0 0.0 0.0 0.0 0.0 0.0 0.0 0.0 0.0\n",
      "\u001b[32m90\u001b[0m -> 0.0 0.0 0.0 0.0 0.0 0.0 0.0 0.0 0.0 0.0\n",
      "\u001b[32m95\u001b[0m -> 0.0 0.0 0.0 0.0 0.0 0.0 0.0 0.0 0.0 0.0\n",
      "\u001b[5m\u001b[7m\u001b[31m--------------------------------------------  ROUND :  7   --------------------------------------------\n",
      "\u001b[0m\n",
      "\u001b[5m\u001b[7m\u001b[32m  || LAUNCHING || \n",
      "\u001b[0m\n",
      "\u001b[34mTO EXPLORE : \u001b[0m\n",
      "\u001b[32m30\u001b[0m -> 0.0015 0.0024 0.0031 0.0028 0.0036 0.0036 0.0042 0.0024 0.0031 0.0\n",
      "\u001b[32m35\u001b[0m -> 0.0069 0.0078 0.0024 0.0047 0.0 0.0019 0.0037 0.0036 0.0039 0.0047\n",
      "\u001b[32m40\u001b[0m -> 0.0022 0.0031 0.0042 0.0028 0.0048 0.0044 0.0055 0.0034 0.003 0.0\n",
      "\u001b[32m35\u001b[0m -> 0.0 0.0 0.0 0.0 0.0 0.0 0.0 0.0 0.0 0.0\n",
      "\u001b[32m40\u001b[0m -> 0.0 0.0 0.0 0.0 0.0 0.0 0.0 0.0 0.0 0.0\n",
      "\u001b[32m45\u001b[0m -> 0.0 0.0 0.0 0.0 0.0 0.0 0.0 0.0 0.0 0.0\n",
      "\u001b[32m50\u001b[0m -> 0.0 0.0 0.0 0.0 0.0 0.0 0.0 0.0 0.0 0.0\n",
      "\u001b[32m55\u001b[0m -> 0.0 0.0 0.0 0.0 0.0 0.0 0.0 0.0 0.0 0.0\n",
      "\u001b[32m60\u001b[0m -> 0.0 0.0 0.0 0.0 0.0 0.0 0.0 0.0 0.0 0.0\n",
      "\u001b[32m65\u001b[0m -> 0.0 0.0 0.0 0.0 0.0 0.0 0.0 0.0 0.0 0.0\n",
      "\u001b[32m70\u001b[0m -> 0.0 0.0 0.0 0.0 0.0 0.0 0.0 0.0 0.0 0.0\n",
      "\u001b[32m75\u001b[0m -> 0.0 0.0 0.0 0.0 0.0 0.0 0.0 0.0 0.0 0.0\n",
      "\u001b[32m80\u001b[0m -> 0.0 0.0 0.0 0.0 0.0 0.0 0.0 0.0 0.0 0.0\n",
      "\u001b[32m85\u001b[0m -> 0.0 0.0 0.0 0.0 0.0 0.0 0.0 0.0 0.0 0.0\n",
      "\u001b[32m90\u001b[0m -> 0.0 0.0 0.0 0.0 0.0 0.0 0.0 0.0 0.0 0.0\n",
      "\u001b[32m95\u001b[0m -> 0.0 0.0 0.0 0.0 0.0 0.0 0.0 0.0 0.0 0.0\n",
      "grisou-47 => 0 NPROCS = 10 MIN = 30 MAX = 35 N = 100 DELAY = '0.0015 0.0024 0.0031 0.0028 0.0036 0.0036 0.0042 0.0024 0.0031 0.0'\n",
      "\n",
      "grisou-48 => 1 NPROCS = 10 MIN = 35 MAX = 40 N = 100 DELAY = '0.0069 0.0078 0.0024 0.0047 0.0 0.0019 0.0037 0.0036 0.0039 0.0047'\n",
      "\n",
      "grisou-5 => 2 NPROCS = 10 MIN = 40 MAX = 45 N = 100 DELAY = '0.0022 0.0031 0.0042 0.0028 0.0048 0.0044 0.0055 0.0034 0.003 0.0'\n",
      "\n"
     ]
    },
    {
     "name": "stderr",
     "output_type": "stream",
     "text": [
      "/home/nezzine/.local/lib/python3.5/site-packages/rpy2/robjects/pandas2ri.py:191: FutureWarning: from_items is deprecated. Please use DataFrame.from_dict(dict(items), ...) instead. DataFrame.from_dict(OrderedDict(items)) may be used to preserve the key order.\n",
      "  res = PandasDataFrame.from_items(items)\n"
     ]
    },
    {
     "data": {
      "text/plain": [
       "'data.frame':\t70 obs. of  5 variables:\n",
       " $ Rank    : num  8 8 8 8 8 8 8 7 7 7 ...\n",
       " $ Start   : num  0 0.000217 0.001657 0.004936 0.00601 ...\n",
       " $ End     : num  0 0.00166 0.00494 0.00601 0.00764 ...\n",
       " $ Duration: num  0 0.00144 0.00328 0.00107 0.00163 ...\n",
       " $ State   : Factor w/ 3 levels \"PMPI_Bcast\",\"PMPI_Finalize\",..: 3 1 1 1 1 1 2 3 1 1 ...\n"
      ]
     },
     "metadata": {},
     "output_type": "display_data"
    },
    {
     "data": {
      "image/png": "[encoded data removed]"
     },
     "metadata": {},
     "output_type": "display_data"
    },
    {
     "name": "stderr",
     "output_type": "stream",
     "text": [
      "/home/nezzine/.local/lib/python3.5/site-packages/rpy2/robjects/pandas2ri.py:191: FutureWarning: from_items is deprecated. Please use DataFrame.from_dict(dict(items), ...) instead. DataFrame.from_dict(OrderedDict(items)) may be used to preserve the key order.\n",
      "  res = PandasDataFrame.from_items(items)\n"
     ]
    },
    {
     "data": {
      "text/plain": [
       "'data.frame':\t70 obs. of  5 variables:\n",
       " $ Rank    : num  8 8 8 8 8 8 8 7 7 7 ...\n",
       " $ Start   : num  0 0.000273 0.002282 0.00324 0.003866 ...\n",
       " $ End     : num  0 0.00228 0.00324 0.00387 0.00387 ...\n",
       " $ Duration: num  0 0.002009 0.000958 0.000626 0 ...\n",
       " $ State   : Factor w/ 3 levels \"PMPI_Bcast\",\"PMPI_Finalize\",..: 3 1 1 1 1 1 2 3 1 1 ...\n"
      ]
     },
     "metadata": {},
     "output_type": "display_data"
    },
    {
     "data": {
      "image/png": "[encoded data removed]"
     },
     "metadata": {},
     "output_type": "display_data"
    },
    {
     "name": "stderr",
     "output_type": "stream",
     "text": [
      "/home/nezzine/.local/lib/python3.5/site-packages/rpy2/robjects/pandas2ri.py:191: FutureWarning: from_items is deprecated. Please use DataFrame.from_dict(dict(items), ...) instead. DataFrame.from_dict(OrderedDict(items)) may be used to preserve the key order.\n",
      "  res = PandasDataFrame.from_items(items)\n"
     ]
    },
    {
     "data": {
      "text/plain": [
       "'data.frame':\t70 obs. of  5 variables:\n",
       " $ Rank    : num  8 8 8 8 8 8 8 7 7 7 ...\n",
       " $ Start   : num  0 0.00021 0.00159 0.0049 0.00588 ...\n",
       " $ End     : num  0 0.00159 0.0049 0.00588 0.00739 ...\n",
       " $ Duration: num  0 0.001383 0.003305 0.000978 0.001511 ...\n",
       " $ State   : Factor w/ 3 levels \"PMPI_Bcast\",\"PMPI_Finalize\",..: 3 1 1 1 1 1 2 3 1 1 ...\n"
      ]
     },
     "metadata": {},
     "output_type": "display_data"
    },
    {
     "data": {
      "image/png": "[encoded data removed]"
     },
     "metadata": {},
     "output_type": "display_data"
    },
    {
     "name": "stdout",
     "output_type": "stream",
     "text": [
      "\u001b[33mT_curr : \u001b[0m 30\n",
      "\u001b[33mD_curr : \u001b[0m 0.0015 0.0024 0.0031 0.0028 0.0036 0.0036 0.0042 0.0024 0.0031 0.0\n",
      "\u001b[33mDprime : \u001b[0m 0.0035 0.0041 0.002 0.0026 0.0 0.0015 0.0022 0.0028 0.0026 0.0035\n",
      "\u001b[31mtotal execution time : \u001b[0m 0.0334\n",
      "\n",
      "returning: 0.0015 0.0024 0.0031 0.0028 0.0036 0.0036 0.0042 0.0024 0.0031 0.0\n",
      "\u001b[5m\u001b[7m\u001b[31m\n",
      "  || RESULTS || \n",
      "\u001b[0m\n",
      "\u001b[34mTO EXPLORE : \u001b[0m\n",
      "\u001b[32m35\u001b[0m -> 0.0 0.0 0.0 0.0 0.0 0.0 0.0 0.0 0.0 0.0\n",
      "\u001b[32m40\u001b[0m -> 0.0 0.0 0.0 0.0 0.0 0.0 0.0 0.0 0.0 0.0\n",
      "\u001b[32m45\u001b[0m -> 0.0 0.0 0.0 0.0 0.0 0.0 0.0 0.0 0.0 0.0\n",
      "\u001b[32m50\u001b[0m -> 0.0 0.0 0.0 0.0 0.0 0.0 0.0 0.0 0.0 0.0\n",
      "\u001b[32m55\u001b[0m -> 0.0 0.0 0.0 0.0 0.0 0.0 0.0 0.0 0.0 0.0\n",
      "\u001b[32m60\u001b[0m -> 0.0 0.0 0.0 0.0 0.0 0.0 0.0 0.0 0.0 0.0\n",
      "\u001b[32m65\u001b[0m -> 0.0 0.0 0.0 0.0 0.0 0.0 0.0 0.0 0.0 0.0\n",
      "\u001b[32m70\u001b[0m -> 0.0 0.0 0.0 0.0 0.0 0.0 0.0 0.0 0.0 0.0\n",
      "\u001b[32m75\u001b[0m -> 0.0 0.0 0.0 0.0 0.0 0.0 0.0 0.0 0.0 0.0\n",
      "\u001b[32m80\u001b[0m -> 0.0 0.0 0.0 0.0 0.0 0.0 0.0 0.0 0.0 0.0\n",
      "\u001b[32m85\u001b[0m -> 0.0 0.0 0.0 0.0 0.0 0.0 0.0 0.0 0.0 0.0\n",
      "\u001b[32m90\u001b[0m -> 0.0 0.0 0.0 0.0 0.0 0.0 0.0 0.0 0.0 0.0\n",
      "\u001b[32m95\u001b[0m -> 0.0 0.0 0.0 0.0 0.0 0.0 0.0 0.0 0.0 0.0\n",
      "\u001b[35m0\u001b[0m\n",
      "\t\u001b[35m0.0 0.0 0.0 0.0 0.0 0.0 0.0 0.0 0.0 0.0\u001b[0m\n",
      "\t\t('0.0037 0.0043 0.0025 0.0031 0.0 0.0016 0.0025 0.0031 0.0028 0.0037', 1, 0, 0.0054)\n",
      "\u001b[35m5\u001b[0m\n",
      "\t\u001b[35m0.0037 0.0043 0.0025 0.0031 0.0 0.0016 0.0025 0.0031 0.0028 0.0037\u001b[0m\n",
      "\t\t('0.0015 0.0024 0.0031 0.0028 0.0036 0.0036 0.0042 0.0024 0.0031 0.0', 2, 0, 0.0056)\n",
      "\t\u001b[35m0.0 0.0 0.0 0.0 0.0 0.0 0.0 0.0 0.0 0.0\u001b[0m\n",
      "\t\t('0.0016 0.0025 0.0031 0.0028 0.0037 0.0037 0.0043 0.0025 0.0031 0.0', 1, 1, 0.0054)\n",
      "\u001b[35m10\u001b[0m\n",
      "\t\u001b[35m0.0028 0.003 0.0035 0.0043 0.005 0.0043 0.0057 0.0028 0.0047 0.0\u001b[0m\n",
      "\t\t('0.0036 0.0042 0.0023 0.003 0.0 0.0014 0.0021 0.0027 0.0028 0.0036', 2, 1, 0.0053)\n",
      "\t\u001b[35m0.0015 0.0024 0.0031 0.0028 0.0036 0.0036 0.0042 0.0024 0.0031 0.0\u001b[0m\n",
      "\t\t('0.0036 0.0042 0.0024 0.0031 0.0 0.0015 0.0024 0.0031 0.0028 0.0036', 3, 0, 0.0056)\n",
      "\t\u001b[35m0.0 0.0 0.0 0.0 0.0 0.0 0.0 0.0 0.0 0.0\u001b[0m\n",
      "\t\t('0.0037 0.0043 0.0025 0.0031 0.0 0.0016 0.0025 0.0031 0.0028 0.0037', 1, 2, 0.0054)\n",
      "\u001b[35m15\u001b[0m\n",
      "\t\u001b[35m0.0036 0.0042 0.0024 0.0031 0.0 0.0015 0.0024 0.0031 0.0028 0.0036\u001b[0m\n",
      "\t\t('0.0015 0.0024 0.0031 0.0028 0.0036 0.0036 0.0042 0.0024 0.0031 0.0', 4, 0, 0.0056)\n",
      "\t\u001b[35m0.0063 0.0078 0.0031 0.0045 0.0 0.0026 0.0023 0.0043 0.0034 0.0066\u001b[0m\n",
      "\t\t('0.0015 0.0023 0.0029 0.0027 0.0036 0.0036 0.0042 0.0024 0.003 0.0', 3, 1, 0.0055)\n",
      "\t\u001b[35m0.0065 0.0083 0.0044 0.0044 0.0 0.0023 0.0043 0.0033 0.0031 0.0072\u001b[0m\n",
      "\t\t('0.0014 0.0021 0.0027 0.0029 0.0038 0.0038 0.0044 0.0024 0.003 0.0', 2, 2, 0.0049)\n",
      "\u001b[35m20\u001b[0m\n",
      "\t\u001b[35m0.002 0.0034 0.0043 0.004 0.0043 0.0049 0.0069 0.0039 0.0032 0.0\u001b[0m\n",
      "\t\t('0.0034 0.004 0.0019 0.0026 0.0 0.0014 0.0022 0.0028 0.0026 0.0034', 4, 1, 0.0055)\n",
      "\t\u001b[35m0.0015 0.0024 0.0031 0.0028 0.0036 0.0036 0.0042 0.0024 0.0031 0.0\u001b[0m\n",
      "\t\t('0.0036 0.0042 0.0024 0.0031 0.0 0.0015 0.0024 0.0031 0.0028 0.0036', 5, 0, 0.0056)\n",
      "\t\u001b[35m0.0026 0.0023 0.0028 0.0049 0.0066 0.0076 0.0077 0.0029 0.0035 0.0\u001b[0m\n",
      "\t\t('0.0036 0.0043 0.0024 0.003 0.0 0.0015 0.0022 0.0029 0.0028 0.0036', 3, 2, 0.0052)\n",
      "\u001b[35m25\u001b[0m\n",
      "\t\u001b[35m0.004 0.0079 0.0044 0.0047 0.0 0.002 0.0027 0.0054 0.0038 0.0059\u001b[0m\n",
      "\t\t('0.0015 0.0023 0.0029 0.0027 0.0035 0.0035 0.0041 0.0021 0.0028 0.0', 4, 2, 0.0055)\n",
      "\t\u001b[35m0.0064 0.0073 0.0031 0.0043 0.0 0.0027 0.0026 0.0039 0.0041 0.0036\u001b[0m\n",
      "\t\t('0.0015 0.0024 0.003 0.0028 0.0036 0.0036 0.0043 0.0025 0.0031 0.0', 5, 1, 0.0056)\n",
      "\t\u001b[35m0.0036 0.0042 0.0024 0.0031 0.0 0.0015 0.0024 0.0031 0.0028 0.0036\u001b[0m\n",
      "\t\t('0.0015 0.0024 0.0031 0.0028 0.0036 0.0036 0.0042 0.0024 0.0031 0.0', 6, 0, 0.0056)\n",
      "\u001b[35m30\u001b[0m\n",
      "\t\u001b[35m0.0015 0.0024 0.0031 0.0028 0.0036 0.0036 0.0042 0.0024 0.0031 0.0\u001b[0m\n",
      "\t\t('0.0036 0.0042 0.0024 0.0031 0.0 0.0015 0.0024 0.0031 0.0028 0.0036', 7, 0, 0.0056)\n",
      "\t\u001b[35m0.0022 0.0037 0.0048 0.0049 0.006 0.0043 0.0042 0.0031 0.0035 0.0\u001b[0m\n",
      "\t\t('0.0034 0.0041 0.0019 0.0026 0.0 0.0015 0.0022 0.0028 0.0026 0.0034', 5, 2, 0.0054)\n",
      "\t\u001b[35m0.0017 0.0038 0.005 0.0047 0.0042 0.0053 0.0075 0.0037 0.0039 0.0\u001b[0m\n",
      "\t\t('0.0035 0.0041 0.0021 0.0028 0.0 0.0015 0.0023 0.003 0.0027 0.0035', 6, 1, 0.0056)\n",
      "\u001b[35m35\u001b[0m\n",
      "\t\u001b[35m0.0069 0.0078 0.0024 0.0047 0.0 0.0019 0.0037 0.0036 0.0039 0.0047\u001b[0m\n",
      "\t\t('0.0014 0.0021 0.0028 0.0028 0.0036 0.0036 0.0043 0.0024 0.003 0.0', 7, 1, 0.0053)\n",
      "\t\u001b[35m0.0059 0.0062 0.003 0.003 0.0 0.0017 0.0039 0.0047 0.0044 0.0054\u001b[0m\n",
      "\t\t('0.0014 0.002 0.0026 0.0025 0.0033 0.0033 0.0039 0.0018 0.0024 0.0', 6, 2, 0.0054)\n",
      "\u001b[35m40\u001b[0m\n",
      "\t\u001b[35m0.0022 0.0031 0.0042 0.0028 0.0048 0.0044 0.0055 0.0034 0.003 0.0\u001b[0m\n",
      "\t\t('0.0035 0.0041 0.002 0.0026 0.0 0.0015 0.0022 0.0028 0.0026 0.0035', 7, 2, 0.0054)\n",
      "\u001b[1m\u001b[33mT_curr : \u001b[0m 35\n",
      "\u001b[1m\u001b[33mD_curr : \u001b[0m 0.0036 0.0042 0.0024 0.0031 0.0 0.0015 0.0024 0.0031 0.0028 0.0036\n",
      "\u001b[1m\u001b[33mDprime : \u001b[0m 0.0035 0.0041 0.002 0.0026 0.0 0.0015 0.0022 0.0028 0.0026 0.0035\n",
      "\u001b[1m\u001b[31mtotal execution time : \u001b[0m 0.039\n",
      "\n",
      "\u001b[5m\u001b[7m\u001b[35m  || ANALYSIS || \n",
      "\u001b[0m\n",
      "[45] Generated RAND_INF Dprime : 0.006 0.0041 0.0026 0.0043 0.0 0.0024 0.0032 0.0043 0.0034 0.0039\n",
      "[40] Generated RAND_INF Dprime : 0.0027 0.0023 0.0052 0.0052 0.0064 0.0066 0.0081 0.0024 0.0043 0.0\n",
      "\u001b[34mTO EXPLORE : \u001b[0m\n",
      "\u001b[32m35\u001b[0m -> 0.0036 0.0042 0.0024 0.0031 0.0 0.0015 0.0024 0.0031 0.0028 0.0036\n",
      "\u001b[32m40\u001b[0m -> 0.0027 0.0023 0.0052 0.0052 0.0064 0.0066 0.0081 0.0024 0.0043 0.0\n",
      "\u001b[32m45\u001b[0m -> 0.006 0.0041 0.0026 0.0043 0.0 0.0024 0.0032 0.0043 0.0034 0.0039\n",
      "\u001b[32m40\u001b[0m -> 0.0 0.0 0.0 0.0 0.0 0.0 0.0 0.0 0.0 0.0\n",
      "\u001b[32m45\u001b[0m -> 0.0 0.0 0.0 0.0 0.0 0.0 0.0 0.0 0.0 0.0\n",
      "\u001b[32m50\u001b[0m -> 0.0 0.0 0.0 0.0 0.0 0.0 0.0 0.0 0.0 0.0\n",
      "\u001b[32m55\u001b[0m -> 0.0 0.0 0.0 0.0 0.0 0.0 0.0 0.0 0.0 0.0\n",
      "\u001b[32m60\u001b[0m -> 0.0 0.0 0.0 0.0 0.0 0.0 0.0 0.0 0.0 0.0\n",
      "\u001b[32m65\u001b[0m -> 0.0 0.0 0.0 0.0 0.0 0.0 0.0 0.0 0.0 0.0\n",
      "\u001b[32m70\u001b[0m -> 0.0 0.0 0.0 0.0 0.0 0.0 0.0 0.0 0.0 0.0\n",
      "\u001b[32m75\u001b[0m -> 0.0 0.0 0.0 0.0 0.0 0.0 0.0 0.0 0.0 0.0\n",
      "\u001b[32m80\u001b[0m -> 0.0 0.0 0.0 0.0 0.0 0.0 0.0 0.0 0.0 0.0\n",
      "\u001b[32m85\u001b[0m -> 0.0 0.0 0.0 0.0 0.0 0.0 0.0 0.0 0.0 0.0\n",
      "\u001b[32m90\u001b[0m -> 0.0 0.0 0.0 0.0 0.0 0.0 0.0 0.0 0.0 0.0\n",
      "\u001b[32m95\u001b[0m -> 0.0 0.0 0.0 0.0 0.0 0.0 0.0 0.0 0.0 0.0\n",
      "\u001b[5m\u001b[7m\u001b[31m--------------------------------------------  ROUND :  8   --------------------------------------------\n",
      "\u001b[0m\n",
      "\u001b[5m\u001b[7m\u001b[32m  || LAUNCHING || \n",
      "\u001b[0m\n",
      "\u001b[34mTO EXPLORE : \u001b[0m\n",
      "\u001b[32m35\u001b[0m -> 0.0036 0.0042 0.0024 0.0031 0.0 0.0015 0.0024 0.0031 0.0028 0.0036\n",
      "\u001b[32m40\u001b[0m -> 0.0027 0.0023 0.0052 0.0052 0.0064 0.0066 0.0081 0.0024 0.0043 0.0\n",
      "\u001b[32m45\u001b[0m -> 0.006 0.0041 0.0026 0.0043 0.0 0.0024 0.0032 0.0043 0.0034 0.0039\n",
      "\u001b[32m40\u001b[0m -> 0.0 0.0 0.0 0.0 0.0 0.0 0.0 0.0 0.0 0.0\n",
      "\u001b[32m45\u001b[0m -> 0.0 0.0 0.0 0.0 0.0 0.0 0.0 0.0 0.0 0.0\n",
      "\u001b[32m50\u001b[0m -> 0.0 0.0 0.0 0.0 0.0 0.0 0.0 0.0 0.0 0.0\n",
      "\u001b[32m55\u001b[0m -> 0.0 0.0 0.0 0.0 0.0 0.0 0.0 0.0 0.0 0.0\n",
      "\u001b[32m60\u001b[0m -> 0.0 0.0 0.0 0.0 0.0 0.0 0.0 0.0 0.0 0.0\n",
      "\u001b[32m65\u001b[0m -> 0.0 0.0 0.0 0.0 0.0 0.0 0.0 0.0 0.0 0.0\n",
      "\u001b[32m70\u001b[0m -> 0.0 0.0 0.0 0.0 0.0 0.0 0.0 0.0 0.0 0.0\n",
      "\u001b[32m75\u001b[0m -> 0.0 0.0 0.0 0.0 0.0 0.0 0.0 0.0 0.0 0.0\n",
      "\u001b[32m80\u001b[0m -> 0.0 0.0 0.0 0.0 0.0 0.0 0.0 0.0 0.0 0.0\n",
      "\u001b[32m85\u001b[0m -> 0.0 0.0 0.0 0.0 0.0 0.0 0.0 0.0 0.0 0.0\n",
      "\u001b[32m90\u001b[0m -> 0.0 0.0 0.0 0.0 0.0 0.0 0.0 0.0 0.0 0.0\n",
      "\u001b[32m95\u001b[0m -> 0.0 0.0 0.0 0.0 0.0 0.0 0.0 0.0 0.0 0.0\n",
      "grisou-47 => 0 NPROCS = 10 MIN = 35 MAX = 40 N = 100 DELAY = '0.0036 0.0042 0.0024 0.0031 0.0 0.0015 0.0024 0.0031 0.0028 0.0036'\n",
      "\n",
      "grisou-48 => 1 NPROCS = 10 MIN = 40 MAX = 45 N = 100 DELAY = '0.0027 0.0023 0.0052 0.0052 0.0064 0.0066 0.0081 0.0024 0.0043 0.0'\n",
      "\n",
      "grisou-5 => 2 NPROCS = 10 MIN = 45 MAX = 50 N = 100 DELAY = '0.006 0.0041 0.0026 0.0043 0.0 0.0024 0.0032 0.0043 0.0034 0.0039'\n",
      "\n"
     ]
    },
    {
     "name": "stderr",
     "output_type": "stream",
     "text": [
      "/home/nezzine/.local/lib/python3.5/site-packages/rpy2/robjects/pandas2ri.py:191: FutureWarning: from_items is deprecated. Please use DataFrame.from_dict(dict(items), ...) instead. DataFrame.from_dict(OrderedDict(items)) may be used to preserve the key order.\n",
      "  res = PandasDataFrame.from_items(items)\n"
     ]
    },
    {
     "data": {
      "text/plain": [
       "'data.frame':\t70 obs. of  5 variables:\n",
       " $ Rank    : num  8 8 8 8 8 8 8 7 7 7 ...\n",
       " $ Start   : num  0 0.000196 0.002283 0.003331 0.003957 ...\n",
       " $ End     : num  0 0.00228 0.00333 0.00396 0.00396 ...\n",
       " $ Duration: num  0 0.002087 0.001048 0.000626 0 ...\n",
       " $ State   : Factor w/ 3 levels \"PMPI_Bcast\",\"PMPI_Finalize\",..: 3 1 1 1 1 1 2 3 1 1 ...\n"
      ]
     },
     "metadata": {},
     "output_type": "display_data"
    },
    {
     "data": {
      "image/png": "[encoded data removed]"
     },
     "metadata": {},
     "output_type": "display_data"
    },
    {
     "name": "stderr",
     "output_type": "stream",
     "text": [
      "/home/nezzine/.local/lib/python3.5/site-packages/rpy2/robjects/pandas2ri.py:191: FutureWarning: from_items is deprecated. Please use DataFrame.from_dict(dict(items), ...) instead. DataFrame.from_dict(OrderedDict(items)) may be used to preserve the key order.\n",
      "  res = PandasDataFrame.from_items(items)\n"
     ]
    },
    {
     "data": {
      "text/plain": [
       "'data.frame':\t70 obs. of  5 variables:\n",
       " $ Rank    : num  8 8 8 8 8 8 8 7 7 7 ...\n",
       " $ Start   : num  0 0.000301 0.001616 0.004917 0.005914 ...\n",
       " $ End     : num  0 0.00162 0.00492 0.00591 0.00744 ...\n",
       " $ Duration: num  0 0.001315 0.003301 0.000997 0.001523 ...\n",
       " $ State   : Factor w/ 3 levels \"PMPI_Bcast\",\"PMPI_Finalize\",..: 3 1 1 1 1 1 2 3 1 1 ...\n"
      ]
     },
     "metadata": {},
     "output_type": "display_data"
    },
    {
     "data": {
      "image/png": "[encoded data removed]"
     },
     "metadata": {},
     "output_type": "display_data"
    },
    {
     "name": "stderr",
     "output_type": "stream",
     "text": [
      "/home/nezzine/.local/lib/python3.5/site-packages/rpy2/robjects/pandas2ri.py:191: FutureWarning: from_items is deprecated. Please use DataFrame.from_dict(dict(items), ...) instead. DataFrame.from_dict(OrderedDict(items)) may be used to preserve the key order.\n",
      "  res = PandasDataFrame.from_items(items)\n"
     ]
    },
    {
     "data": {
      "text/plain": [
       "'data.frame':\t70 obs. of  5 variables:\n",
       " $ Rank    : num  8 8 8 8 8 8 8 7 7 7 ...\n",
       " $ Start   : num  0 0.000238 0.00235 0.003421 0.004047 ...\n",
       " $ End     : num  0 0.00235 0.00342 0.00405 0.00405 ...\n",
       " $ Duration: num  0 0.002112 0.001071 0.000626 0 ...\n",
       " $ State   : Factor w/ 3 levels \"PMPI_Bcast\",\"PMPI_Finalize\",..: 3 1 1 1 1 1 2 3 1 1 ...\n"
      ]
     },
     "metadata": {},
     "output_type": "display_data"
    },
    {
     "data": {
      "image/png": "[encoded data removed]"
     },
     "metadata": {},
     "output_type": "display_data"
    },
    {
     "name": "stdout",
     "output_type": "stream",
     "text": [
      "\u001b[33mT_curr : \u001b[0m 35\n",
      "\u001b[33mD_curr : \u001b[0m 0.0036 0.0042 0.0024 0.0031 0.0 0.0015 0.0024 0.0031 0.0028 0.0036\n",
      "\u001b[33mDprime : \u001b[0m 0.0015 0.0024 0.0031 0.0028 0.0036 0.0036 0.0042 0.0024 0.0031 0.0\n",
      "\u001b[31mtotal execution time : \u001b[0m 0.039\n",
      "\n",
      "returning: 0.0036 0.0042 0.0024 0.0031 0.0 0.0015 0.0024 0.0031 0.0028 0.0036\n",
      "\u001b[5m\u001b[7m\u001b[31m\n",
      "  || RESULTS || \n",
      "\u001b[0m\n",
      "\u001b[34mTO EXPLORE : \u001b[0m\n",
      "\u001b[32m40\u001b[0m -> 0.0 0.0 0.0 0.0 0.0 0.0 0.0 0.0 0.0 0.0\n",
      "\u001b[32m45\u001b[0m -> 0.0 0.0 0.0 0.0 0.0 0.0 0.0 0.0 0.0 0.0\n",
      "\u001b[32m50\u001b[0m -> 0.0 0.0 0.0 0.0 0.0 0.0 0.0 0.0 0.0 0.0\n",
      "\u001b[32m55\u001b[0m -> 0.0 0.0 0.0 0.0 0.0 0.0 0.0 0.0 0.0 0.0\n",
      "\u001b[32m60\u001b[0m -> 0.0 0.0 0.0 0.0 0.0 0.0 0.0 0.0 0.0 0.0\n",
      "\u001b[32m65\u001b[0m -> 0.0 0.0 0.0 0.0 0.0 0.0 0.0 0.0 0.0 0.0\n",
      "\u001b[32m70\u001b[0m -> 0.0 0.0 0.0 0.0 0.0 0.0 0.0 0.0 0.0 0.0\n",
      "\u001b[32m75\u001b[0m -> 0.0 0.0 0.0 0.0 0.0 0.0 0.0 0.0 0.0 0.0\n",
      "\u001b[32m80\u001b[0m -> 0.0 0.0 0.0 0.0 0.0 0.0 0.0 0.0 0.0 0.0\n",
      "\u001b[32m85\u001b[0m -> 0.0 0.0 0.0 0.0 0.0 0.0 0.0 0.0 0.0 0.0\n",
      "\u001b[32m90\u001b[0m -> 0.0 0.0 0.0 0.0 0.0 0.0 0.0 0.0 0.0 0.0\n",
      "\u001b[32m95\u001b[0m -> 0.0 0.0 0.0 0.0 0.0 0.0 0.0 0.0 0.0 0.0\n",
      "\u001b[35m0\u001b[0m\n",
      "\t\u001b[35m0.0 0.0 0.0 0.0 0.0 0.0 0.0 0.0 0.0 0.0\u001b[0m\n",
      "\t\t('0.0037 0.0043 0.0025 0.0031 0.0 0.0016 0.0025 0.0031 0.0028 0.0037', 1, 0, 0.0054)\n",
      "\u001b[35m5\u001b[0m\n",
      "\t\u001b[35m0.0037 0.0043 0.0025 0.0031 0.0 0.0016 0.0025 0.0031 0.0028 0.0037\u001b[0m\n",
      "\t\t('0.0015 0.0024 0.0031 0.0028 0.0036 0.0036 0.0042 0.0024 0.0031 0.0', 2, 0, 0.0056)\n",
      "\t\u001b[35m0.0 0.0 0.0 0.0 0.0 0.0 0.0 0.0 0.0 0.0\u001b[0m\n",
      "\t\t('0.0016 0.0025 0.0031 0.0028 0.0037 0.0037 0.0043 0.0025 0.0031 0.0', 1, 1, 0.0054)\n",
      "\u001b[35m10\u001b[0m\n",
      "\t\u001b[35m0.0028 0.003 0.0035 0.0043 0.005 0.0043 0.0057 0.0028 0.0047 0.0\u001b[0m\n",
      "\t\t('0.0036 0.0042 0.0023 0.003 0.0 0.0014 0.0021 0.0027 0.0028 0.0036', 2, 1, 0.0053)\n",
      "\t\u001b[35m0.0015 0.0024 0.0031 0.0028 0.0036 0.0036 0.0042 0.0024 0.0031 0.0\u001b[0m\n",
      "\t\t('0.0036 0.0042 0.0024 0.0031 0.0 0.0015 0.0024 0.0031 0.0028 0.0036', 3, 0, 0.0056)\n",
      "\t\u001b[35m0.0 0.0 0.0 0.0 0.0 0.0 0.0 0.0 0.0 0.0\u001b[0m\n",
      "\t\t('0.0037 0.0043 0.0025 0.0031 0.0 0.0016 0.0025 0.0031 0.0028 0.0037', 1, 2, 0.0054)\n",
      "\u001b[35m15\u001b[0m\n",
      "\t\u001b[35m0.0036 0.0042 0.0024 0.0031 0.0 0.0015 0.0024 0.0031 0.0028 0.0036\u001b[0m\n",
      "\t\t('0.0015 0.0024 0.0031 0.0028 0.0036 0.0036 0.0042 0.0024 0.0031 0.0', 4, 0, 0.0056)\n",
      "\t\u001b[35m0.0063 0.0078 0.0031 0.0045 0.0 0.0026 0.0023 0.0043 0.0034 0.0066\u001b[0m\n",
      "\t\t('0.0015 0.0023 0.0029 0.0027 0.0036 0.0036 0.0042 0.0024 0.003 0.0', 3, 1, 0.0055)\n",
      "\t\u001b[35m0.0065 0.0083 0.0044 0.0044 0.0 0.0023 0.0043 0.0033 0.0031 0.0072\u001b[0m\n",
      "\t\t('0.0014 0.0021 0.0027 0.0029 0.0038 0.0038 0.0044 0.0024 0.003 0.0', 2, 2, 0.0049)\n",
      "\u001b[35m20\u001b[0m\n",
      "\t\u001b[35m0.002 0.0034 0.0043 0.004 0.0043 0.0049 0.0069 0.0039 0.0032 0.0\u001b[0m\n",
      "\t\t('0.0034 0.004 0.0019 0.0026 0.0 0.0014 0.0022 0.0028 0.0026 0.0034', 4, 1, 0.0055)\n",
      "\t\u001b[35m0.0015 0.0024 0.0031 0.0028 0.0036 0.0036 0.0042 0.0024 0.0031 0.0\u001b[0m\n",
      "\t\t('0.0036 0.0042 0.0024 0.0031 0.0 0.0015 0.0024 0.0031 0.0028 0.0036', 5, 0, 0.0056)\n",
      "\t\u001b[35m0.0026 0.0023 0.0028 0.0049 0.0066 0.0076 0.0077 0.0029 0.0035 0.0\u001b[0m\n",
      "\t\t('0.0036 0.0043 0.0024 0.003 0.0 0.0015 0.0022 0.0029 0.0028 0.0036', 3, 2, 0.0052)\n",
      "\u001b[35m25\u001b[0m\n",
      "\t\u001b[35m0.004 0.0079 0.0044 0.0047 0.0 0.002 0.0027 0.0054 0.0038 0.0059\u001b[0m\n",
      "\t\t('0.0015 0.0023 0.0029 0.0027 0.0035 0.0035 0.0041 0.0021 0.0028 0.0', 4, 2, 0.0055)\n",
      "\t\u001b[35m0.0064 0.0073 0.0031 0.0043 0.0 0.0027 0.0026 0.0039 0.0041 0.0036\u001b[0m\n",
      "\t\t('0.0015 0.0024 0.003 0.0028 0.0036 0.0036 0.0043 0.0025 0.0031 0.0', 5, 1, 0.0056)\n",
      "\t\u001b[35m0.0036 0.0042 0.0024 0.0031 0.0 0.0015 0.0024 0.0031 0.0028 0.0036\u001b[0m\n",
      "\t\t('0.0015 0.0024 0.0031 0.0028 0.0036 0.0036 0.0042 0.0024 0.0031 0.0', 6, 0, 0.0056)\n",
      "\u001b[35m30\u001b[0m\n",
      "\t\u001b[35m0.0015 0.0024 0.0031 0.0028 0.0036 0.0036 0.0042 0.0024 0.0031 0.0\u001b[0m\n",
      "\t\t('0.0036 0.0042 0.0024 0.0031 0.0 0.0015 0.0024 0.0031 0.0028 0.0036', 7, 0, 0.0056)\n",
      "\t\u001b[35m0.0022 0.0037 0.0048 0.0049 0.006 0.0043 0.0042 0.0031 0.0035 0.0\u001b[0m\n",
      "\t\t('0.0034 0.0041 0.0019 0.0026 0.0 0.0015 0.0022 0.0028 0.0026 0.0034', 5, 2, 0.0054)\n",
      "\t\u001b[35m0.0017 0.0038 0.005 0.0047 0.0042 0.0053 0.0075 0.0037 0.0039 0.0\u001b[0m\n",
      "\t\t('0.0035 0.0041 0.0021 0.0028 0.0 0.0015 0.0023 0.003 0.0027 0.0035', 6, 1, 0.0056)\n",
      "\u001b[35m35\u001b[0m\n",
      "\t\u001b[35m0.0036 0.0042 0.0024 0.0031 0.0 0.0015 0.0024 0.0031 0.0028 0.0036\u001b[0m\n",
      "\t\t('0.0015 0.0024 0.0031 0.0028 0.0036 0.0036 0.0042 0.0024 0.0031 0.0', 8, 0, 0.0056)\n",
      "\t\u001b[35m0.0069 0.0078 0.0024 0.0047 0.0 0.0019 0.0037 0.0036 0.0039 0.0047\u001b[0m\n",
      "\t\t('0.0014 0.0021 0.0028 0.0028 0.0036 0.0036 0.0043 0.0024 0.003 0.0', 7, 1, 0.0053)\n",
      "\t\u001b[35m0.0059 0.0062 0.003 0.003 0.0 0.0017 0.0039 0.0047 0.0044 0.0054\u001b[0m\n",
      "\t\t('0.0014 0.002 0.0026 0.0025 0.0033 0.0033 0.0039 0.0018 0.0024 0.0', 6, 2, 0.0054)\n",
      "\u001b[35m40\u001b[0m\n",
      "\t\u001b[35m0.0027 0.0023 0.0052 0.0052 0.0064 0.0066 0.0081 0.0024 0.0043 0.0\u001b[0m\n",
      "\t\t('0.0034 0.004 0.002 0.0026 0.0 0.0014 0.0022 0.0028 0.0026 0.0034', 8, 1, 0.0055)\n",
      "\t\u001b[35m0.0022 0.0031 0.0042 0.0028 0.0048 0.0044 0.0055 0.0034 0.003 0.0\u001b[0m\n",
      "\t\t('0.0035 0.0041 0.002 0.0026 0.0 0.0015 0.0022 0.0028 0.0026 0.0035', 7, 2, 0.0054)\n",
      "\u001b[35m45\u001b[0m\n",
      "\t\u001b[35m0.006 0.0041 0.0026 0.0043 0.0 0.0024 0.0032 0.0043 0.0034 0.0039\u001b[0m\n",
      "\t\t('0.0015 0.0024 0.0031 0.0028 0.0036 0.0036 0.0042 0.0024 0.0031 0.0', 8, 2, 0.0057)\n",
      "\u001b[1m\u001b[33mT_curr : \u001b[0m 40\n",
      "\u001b[1m\u001b[33mD_curr : \u001b[0m 0.0015 0.0024 0.0031 0.0028 0.0036 0.0036 0.0042 0.0024 0.0031 0.0\n",
      "\u001b[1m\u001b[33mDprime : \u001b[0m 0.0015 0.0024 0.0031 0.0028 0.0036 0.0036 0.0042 0.0024 0.0031 0.0\n",
      "\u001b[1m\u001b[31mtotal execution time : \u001b[0m 0.0446\n",
      "\n",
      "\u001b[5m\u001b[7m\u001b[35m  || ANALYSIS || \n",
      "\u001b[0m\n",
      "[50] Generated RAND_INF Dprime : 0.003 0.0046 0.006 0.0044 0.0061 0.0064 0.0066 0.004 0.0041 0.0\n",
      "[45] Generated RAND_INF Dprime : 0.0041 0.0077 0.0026 0.0038 0.0 0.0023 0.0037 0.0051 0.0039 0.0034\n",
      "\u001b[34mTO EXPLORE : \u001b[0m\n",
      "\u001b[32m40\u001b[0m -> 0.0015 0.0024 0.0031 0.0028 0.0036 0.0036 0.0042 0.0024 0.0031 0.0\n",
      "\u001b[32m45\u001b[0m -> 0.0041 0.0077 0.0026 0.0038 0.0 0.0023 0.0037 0.0051 0.0039 0.0034\n",
      "\u001b[32m50\u001b[0m -> 0.003 0.0046 0.006 0.0044 0.0061 0.0064 0.0066 0.004 0.0041 0.0\n",
      "\u001b[32m45\u001b[0m -> 0.0 0.0 0.0 0.0 0.0 0.0 0.0 0.0 0.0 0.0\n",
      "\u001b[32m50\u001b[0m -> 0.0 0.0 0.0 0.0 0.0 0.0 0.0 0.0 0.0 0.0\n",
      "\u001b[32m55\u001b[0m -> 0.0 0.0 0.0 0.0 0.0 0.0 0.0 0.0 0.0 0.0\n",
      "\u001b[32m60\u001b[0m -> 0.0 0.0 0.0 0.0 0.0 0.0 0.0 0.0 0.0 0.0\n",
      "\u001b[32m65\u001b[0m -> 0.0 0.0 0.0 0.0 0.0 0.0 0.0 0.0 0.0 0.0\n",
      "\u001b[32m70\u001b[0m -> 0.0 0.0 0.0 0.0 0.0 0.0 0.0 0.0 0.0 0.0\n",
      "\u001b[32m75\u001b[0m -> 0.0 0.0 0.0 0.0 0.0 0.0 0.0 0.0 0.0 0.0\n",
      "\u001b[32m80\u001b[0m -> 0.0 0.0 0.0 0.0 0.0 0.0 0.0 0.0 0.0 0.0\n",
      "\u001b[32m85\u001b[0m -> 0.0 0.0 0.0 0.0 0.0 0.0 0.0 0.0 0.0 0.0\n",
      "\u001b[32m90\u001b[0m -> 0.0 0.0 0.0 0.0 0.0 0.0 0.0 0.0 0.0 0.0\n",
      "\u001b[32m95\u001b[0m -> 0.0 0.0 0.0 0.0 0.0 0.0 0.0 0.0 0.0 0.0\n",
      "\u001b[5m\u001b[7m\u001b[31m--------------------------------------------  ROUND :  9   --------------------------------------------\n",
      "\u001b[0m\n",
      "\u001b[5m\u001b[7m\u001b[32m  || LAUNCHING || \n",
      "\u001b[0m\n",
      "\u001b[34mTO EXPLORE : \u001b[0m\n",
      "\u001b[32m40\u001b[0m -> 0.0015 0.0024 0.0031 0.0028 0.0036 0.0036 0.0042 0.0024 0.0031 0.0\n",
      "\u001b[32m45\u001b[0m -> 0.0041 0.0077 0.0026 0.0038 0.0 0.0023 0.0037 0.0051 0.0039 0.0034\n",
      "\u001b[32m50\u001b[0m -> 0.003 0.0046 0.006 0.0044 0.0061 0.0064 0.0066 0.004 0.0041 0.0\n",
      "\u001b[32m45\u001b[0m -> 0.0 0.0 0.0 0.0 0.0 0.0 0.0 0.0 0.0 0.0\n",
      "\u001b[32m50\u001b[0m -> 0.0 0.0 0.0 0.0 0.0 0.0 0.0 0.0 0.0 0.0\n",
      "\u001b[32m55\u001b[0m -> 0.0 0.0 0.0 0.0 0.0 0.0 0.0 0.0 0.0 0.0\n",
      "\u001b[32m60\u001b[0m -> 0.0 0.0 0.0 0.0 0.0 0.0 0.0 0.0 0.0 0.0\n",
      "\u001b[32m65\u001b[0m -> 0.0 0.0 0.0 0.0 0.0 0.0 0.0 0.0 0.0 0.0\n",
      "\u001b[32m70\u001b[0m -> 0.0 0.0 0.0 0.0 0.0 0.0 0.0 0.0 0.0 0.0\n",
      "\u001b[32m75\u001b[0m -> 0.0 0.0 0.0 0.0 0.0 0.0 0.0 0.0 0.0 0.0\n",
      "\u001b[32m80\u001b[0m -> 0.0 0.0 0.0 0.0 0.0 0.0 0.0 0.0 0.0 0.0\n",
      "\u001b[32m85\u001b[0m -> 0.0 0.0 0.0 0.0 0.0 0.0 0.0 0.0 0.0 0.0\n",
      "\u001b[32m90\u001b[0m -> 0.0 0.0 0.0 0.0 0.0 0.0 0.0 0.0 0.0 0.0\n",
      "\u001b[32m95\u001b[0m -> 0.0 0.0 0.0 0.0 0.0 0.0 0.0 0.0 0.0 0.0\n",
      "grisou-47 => 0 NPROCS = 10 MIN = 40 MAX = 45 N = 100 DELAY = '0.0015 0.0024 0.0031 0.0028 0.0036 0.0036 0.0042 0.0024 0.0031 0.0'\n",
      "\n",
      "grisou-48 => 1 NPROCS = 10 MIN = 45 MAX = 50 N = 100 DELAY = '0.0041 0.0077 0.0026 0.0038 0.0 0.0023 0.0037 0.0051 0.0039 0.0034'\n",
      "\n",
      "grisou-5 => 2 NPROCS = 10 MIN = 50 MAX = 55 N = 100 DELAY = '0.003 0.0046 0.006 0.0044 0.0061 0.0064 0.0066 0.004 0.0041 0.0'\n",
      "\n"
     ]
    },
    {
     "name": "stderr",
     "output_type": "stream",
     "text": [
      "/home/nezzine/.local/lib/python3.5/site-packages/rpy2/robjects/pandas2ri.py:191: FutureWarning: from_items is deprecated. Please use DataFrame.from_dict(dict(items), ...) instead. DataFrame.from_dict(OrderedDict(items)) may be used to preserve the key order.\n",
      "  res = PandasDataFrame.from_items(items)\n"
     ]
    },
    {
     "data": {
      "text/plain": [
       "'data.frame':\t70 obs. of  5 variables:\n",
       " $ Rank    : num  8 8 8 8 8 8 8 7 7 7 ...\n",
       " $ Start   : num  0 0.000217 0.001657 0.004936 0.00601 ...\n",
       " $ End     : num  0 0.00166 0.00494 0.00601 0.00764 ...\n",
       " $ Duration: num  0 0.00144 0.00328 0.00107 0.00163 ...\n",
       " $ State   : Factor w/ 3 levels \"PMPI_Bcast\",\"PMPI_Finalize\",..: 3 1 1 1 1 1 2 3 1 1 ...\n"
      ]
     },
     "metadata": {},
     "output_type": "display_data"
    },
    {
     "data": {
      "image/png": "[encoded data removed]"
     },
     "metadata": {},
     "output_type": "display_data"
    },
    {
     "name": "stderr",
     "output_type": "stream",
     "text": [
      "/home/nezzine/.local/lib/python3.5/site-packages/rpy2/robjects/pandas2ri.py:191: FutureWarning: from_items is deprecated. Please use DataFrame.from_dict(dict(items), ...) instead. DataFrame.from_dict(OrderedDict(items)) may be used to preserve the key order.\n",
      "  res = PandasDataFrame.from_items(items)\n"
     ]
    },
    {
     "data": {
      "text/plain": [
       "'data.frame':\t70 obs. of  5 variables:\n",
       " $ Rank    : num  8 8 8 8 8 8 8 7 7 7 ...\n",
       " $ Start   : num  0 0.000273 0.002368 0.003442 0.004068 ...\n",
       " $ End     : num  0 0.00237 0.00344 0.00407 0.00407 ...\n",
       " $ Duration: num  0 0.002095 0.001074 0.000626 0 ...\n",
       " $ State   : Factor w/ 3 levels \"PMPI_Bcast\",\"PMPI_Finalize\",..: 3 1 1 1 1 1 2 3 1 1 ...\n"
      ]
     },
     "metadata": {},
     "output_type": "display_data"
    },
    {
     "data": {
      "image/png": "[encoded data removed]"
     },
     "metadata": {},
     "output_type": "display_data"
    },
    {
     "name": "stderr",
     "output_type": "stream",
     "text": [
      "/home/nezzine/.local/lib/python3.5/site-packages/rpy2/robjects/pandas2ri.py:191: FutureWarning: from_items is deprecated. Please use DataFrame.from_dict(dict(items), ...) instead. DataFrame.from_dict(OrderedDict(items)) may be used to preserve the key order.\n",
      "  res = PandasDataFrame.from_items(items)\n"
     ]
    },
    {
     "data": {
      "text/plain": [
       "'data.frame':\t70 obs. of  5 variables:\n",
       " $ Rank    : num  8 8 8 8 8 8 8 7 7 7 ...\n",
       " $ Start   : num  0 0.000287 0.001608 0.004935 0.005864 ...\n",
       " $ End     : num  0 0.00161 0.00494 0.00586 0.00737 ...\n",
       " $ Duration: num  0 0.001321 0.003327 0.000929 0.001503 ...\n",
       " $ State   : Factor w/ 3 levels \"PMPI_Bcast\",\"PMPI_Finalize\",..: 3 1 1 1 1 1 2 3 1 1 ...\n"
      ]
     },
     "metadata": {},
     "output_type": "display_data"
    },
    {
     "data": {
      "image/png": "[encoded data removed]"
     },
     "metadata": {},
     "output_type": "display_data"
    },
    {
     "name": "stdout",
     "output_type": "stream",
     "text": [
      "\u001b[33mT_curr : \u001b[0m 40\n",
      "\u001b[33mD_curr : \u001b[0m 0.0015 0.0024 0.0031 0.0028 0.0036 0.0036 0.0042 0.0024 0.0031 0.0\n",
      "\u001b[33mDprime : \u001b[0m 0.0033 0.0039 0.0018 0.0024 0.0 0.0014 0.002 0.0027 0.0025 0.0033\n",
      "\u001b[31mtotal execution time : \u001b[0m 0.0446\n",
      "\n",
      "returning: 0.0015 0.0024 0.0031 0.0028 0.0036 0.0036 0.0042 0.0024 0.0031 0.0\n",
      "\u001b[5m\u001b[7m\u001b[31m\n",
      "  || RESULTS || \n",
      "\u001b[0m\n",
      "\u001b[34mTO EXPLORE : \u001b[0m\n",
      "\u001b[32m45\u001b[0m -> 0.0 0.0 0.0 0.0 0.0 0.0 0.0 0.0 0.0 0.0\n",
      "\u001b[32m50\u001b[0m -> 0.0 0.0 0.0 0.0 0.0 0.0 0.0 0.0 0.0 0.0\n",
      "\u001b[32m55\u001b[0m -> 0.0 0.0 0.0 0.0 0.0 0.0 0.0 0.0 0.0 0.0\n",
      "\u001b[32m60\u001b[0m -> 0.0 0.0 0.0 0.0 0.0 0.0 0.0 0.0 0.0 0.0\n",
      "\u001b[32m65\u001b[0m -> 0.0 0.0 0.0 0.0 0.0 0.0 0.0 0.0 0.0 0.0\n",
      "\u001b[32m70\u001b[0m -> 0.0 0.0 0.0 0.0 0.0 0.0 0.0 0.0 0.0 0.0\n",
      "\u001b[32m75\u001b[0m -> 0.0 0.0 0.0 0.0 0.0 0.0 0.0 0.0 0.0 0.0\n",
      "\u001b[32m80\u001b[0m -> 0.0 0.0 0.0 0.0 0.0 0.0 0.0 0.0 0.0 0.0\n",
      "\u001b[32m85\u001b[0m -> 0.0 0.0 0.0 0.0 0.0 0.0 0.0 0.0 0.0 0.0\n",
      "\u001b[32m90\u001b[0m -> 0.0 0.0 0.0 0.0 0.0 0.0 0.0 0.0 0.0 0.0\n",
      "\u001b[32m95\u001b[0m -> 0.0 0.0 0.0 0.0 0.0 0.0 0.0 0.0 0.0 0.0\n",
      "\u001b[35m0\u001b[0m\n",
      "\t\u001b[35m0.0 0.0 0.0 0.0 0.0 0.0 0.0 0.0 0.0 0.0\u001b[0m\n",
      "\t\t('0.0037 0.0043 0.0025 0.0031 0.0 0.0016 0.0025 0.0031 0.0028 0.0037', 1, 0, 0.0054)\n",
      "\u001b[35m5\u001b[0m\n",
      "\t\u001b[35m0.0037 0.0043 0.0025 0.0031 0.0 0.0016 0.0025 0.0031 0.0028 0.0037\u001b[0m\n",
      "\t\t('0.0015 0.0024 0.0031 0.0028 0.0036 0.0036 0.0042 0.0024 0.0031 0.0', 2, 0, 0.0056)\n",
      "\t\u001b[35m0.0 0.0 0.0 0.0 0.0 0.0 0.0 0.0 0.0 0.0\u001b[0m\n",
      "\t\t('0.0016 0.0025 0.0031 0.0028 0.0037 0.0037 0.0043 0.0025 0.0031 0.0', 1, 1, 0.0054)\n",
      "\u001b[35m10\u001b[0m\n",
      "\t\u001b[35m0.0028 0.003 0.0035 0.0043 0.005 0.0043 0.0057 0.0028 0.0047 0.0\u001b[0m\n",
      "\t\t('0.0036 0.0042 0.0023 0.003 0.0 0.0014 0.0021 0.0027 0.0028 0.0036', 2, 1, 0.0053)\n",
      "\t\u001b[35m0.0015 0.0024 0.0031 0.0028 0.0036 0.0036 0.0042 0.0024 0.0031 0.0\u001b[0m\n",
      "\t\t('0.0036 0.0042 0.0024 0.0031 0.0 0.0015 0.0024 0.0031 0.0028 0.0036', 3, 0, 0.0056)\n",
      "\t\u001b[35m0.0 0.0 0.0 0.0 0.0 0.0 0.0 0.0 0.0 0.0\u001b[0m\n",
      "\t\t('0.0037 0.0043 0.0025 0.0031 0.0 0.0016 0.0025 0.0031 0.0028 0.0037', 1, 2, 0.0054)\n",
      "\u001b[35m15\u001b[0m\n",
      "\t\u001b[35m0.0036 0.0042 0.0024 0.0031 0.0 0.0015 0.0024 0.0031 0.0028 0.0036\u001b[0m\n",
      "\t\t('0.0015 0.0024 0.0031 0.0028 0.0036 0.0036 0.0042 0.0024 0.0031 0.0', 4, 0, 0.0056)\n",
      "\t\u001b[35m0.0063 0.0078 0.0031 0.0045 0.0 0.0026 0.0023 0.0043 0.0034 0.0066\u001b[0m\n",
      "\t\t('0.0015 0.0023 0.0029 0.0027 0.0036 0.0036 0.0042 0.0024 0.003 0.0', 3, 1, 0.0055)\n",
      "\t\u001b[35m0.0065 0.0083 0.0044 0.0044 0.0 0.0023 0.0043 0.0033 0.0031 0.0072\u001b[0m\n",
      "\t\t('0.0014 0.0021 0.0027 0.0029 0.0038 0.0038 0.0044 0.0024 0.003 0.0', 2, 2, 0.0049)\n",
      "\u001b[35m20\u001b[0m\n",
      "\t\u001b[35m0.002 0.0034 0.0043 0.004 0.0043 0.0049 0.0069 0.0039 0.0032 0.0\u001b[0m\n",
      "\t\t('0.0034 0.004 0.0019 0.0026 0.0 0.0014 0.0022 0.0028 0.0026 0.0034', 4, 1, 0.0055)\n",
      "\t\u001b[35m0.0015 0.0024 0.0031 0.0028 0.0036 0.0036 0.0042 0.0024 0.0031 0.0\u001b[0m\n",
      "\t\t('0.0036 0.0042 0.0024 0.0031 0.0 0.0015 0.0024 0.0031 0.0028 0.0036', 5, 0, 0.0056)\n",
      "\t\u001b[35m0.0026 0.0023 0.0028 0.0049 0.0066 0.0076 0.0077 0.0029 0.0035 0.0\u001b[0m\n",
      "\t\t('0.0036 0.0043 0.0024 0.003 0.0 0.0015 0.0022 0.0029 0.0028 0.0036', 3, 2, 0.0052)\n",
      "\u001b[35m25\u001b[0m\n",
      "\t\u001b[35m0.004 0.0079 0.0044 0.0047 0.0 0.002 0.0027 0.0054 0.0038 0.0059\u001b[0m\n",
      "\t\t('0.0015 0.0023 0.0029 0.0027 0.0035 0.0035 0.0041 0.0021 0.0028 0.0', 4, 2, 0.0055)\n",
      "\t\u001b[35m0.0064 0.0073 0.0031 0.0043 0.0 0.0027 0.0026 0.0039 0.0041 0.0036\u001b[0m\n",
      "\t\t('0.0015 0.0024 0.003 0.0028 0.0036 0.0036 0.0043 0.0025 0.0031 0.0', 5, 1, 0.0056)\n",
      "\t\u001b[35m0.0036 0.0042 0.0024 0.0031 0.0 0.0015 0.0024 0.0031 0.0028 0.0036\u001b[0m\n",
      "\t\t('0.0015 0.0024 0.0031 0.0028 0.0036 0.0036 0.0042 0.0024 0.0031 0.0', 6, 0, 0.0056)\n",
      "\u001b[35m30\u001b[0m\n",
      "\t\u001b[35m0.0015 0.0024 0.0031 0.0028 0.0036 0.0036 0.0042 0.0024 0.0031 0.0\u001b[0m\n",
      "\t\t('0.0036 0.0042 0.0024 0.0031 0.0 0.0015 0.0024 0.0031 0.0028 0.0036', 7, 0, 0.0056)\n",
      "\t\u001b[35m0.0022 0.0037 0.0048 0.0049 0.006 0.0043 0.0042 0.0031 0.0035 0.0\u001b[0m\n",
      "\t\t('0.0034 0.0041 0.0019 0.0026 0.0 0.0015 0.0022 0.0028 0.0026 0.0034', 5, 2, 0.0054)\n",
      "\t\u001b[35m0.0017 0.0038 0.005 0.0047 0.0042 0.0053 0.0075 0.0037 0.0039 0.0\u001b[0m\n",
      "\t\t('0.0035 0.0041 0.0021 0.0028 0.0 0.0015 0.0023 0.003 0.0027 0.0035', 6, 1, 0.0056)\n",
      "\u001b[35m35\u001b[0m\n",
      "\t\u001b[35m0.0036 0.0042 0.0024 0.0031 0.0 0.0015 0.0024 0.0031 0.0028 0.0036\u001b[0m\n",
      "\t\t('0.0015 0.0024 0.0031 0.0028 0.0036 0.0036 0.0042 0.0024 0.0031 0.0', 8, 0, 0.0056)\n",
      "\t\u001b[35m0.0069 0.0078 0.0024 0.0047 0.0 0.0019 0.0037 0.0036 0.0039 0.0047\u001b[0m\n",
      "\t\t('0.0014 0.0021 0.0028 0.0028 0.0036 0.0036 0.0043 0.0024 0.003 0.0', 7, 1, 0.0053)\n",
      "\t\u001b[35m0.0059 0.0062 0.003 0.003 0.0 0.0017 0.0039 0.0047 0.0044 0.0054\u001b[0m\n",
      "\t\t('0.0014 0.002 0.0026 0.0025 0.0033 0.0033 0.0039 0.0018 0.0024 0.0', 6, 2, 0.0054)\n",
      "\u001b[35m40\u001b[0m\n",
      "\t\u001b[35m0.0027 0.0023 0.0052 0.0052 0.0064 0.0066 0.0081 0.0024 0.0043 0.0\u001b[0m\n",
      "\t\t('0.0034 0.004 0.002 0.0026 0.0 0.0014 0.0022 0.0028 0.0026 0.0034', 8, 1, 0.0055)\n",
      "\t\u001b[35m0.0015 0.0024 0.0031 0.0028 0.0036 0.0036 0.0042 0.0024 0.0031 0.0\u001b[0m\n",
      "\t\t('0.0036 0.0042 0.0024 0.0031 0.0 0.0015 0.0024 0.0031 0.0028 0.0036', 9, 0, 0.0056)\n",
      "\t\u001b[35m0.0022 0.0031 0.0042 0.0028 0.0048 0.0044 0.0055 0.0034 0.003 0.0\u001b[0m\n",
      "\t\t('0.0035 0.0041 0.002 0.0026 0.0 0.0015 0.0022 0.0028 0.0026 0.0035', 7, 2, 0.0054)\n",
      "\u001b[35m45\u001b[0m\n",
      "\t\u001b[35m0.0041 0.0077 0.0026 0.0038 0.0 0.0023 0.0037 0.0051 0.0039 0.0034\u001b[0m\n",
      "\t\t('0.0015 0.0023 0.0029 0.0027 0.0035 0.0035 0.0041 0.0021 0.0028 0.0', 9, 1, 0.0057)\n",
      "\t\u001b[35m0.006 0.0041 0.0026 0.0043 0.0 0.0024 0.0032 0.0043 0.0034 0.0039\u001b[0m\n",
      "\t\t('0.0015 0.0024 0.0031 0.0028 0.0036 0.0036 0.0042 0.0024 0.0031 0.0', 8, 2, 0.0057)\n",
      "\u001b[35m50\u001b[0m\n",
      "\t\u001b[35m0.003 0.0046 0.006 0.0044 0.0061 0.0064 0.0066 0.004 0.0041 0.0\u001b[0m\n",
      "\t\t('0.0033 0.0039 0.0018 0.0024 0.0 0.0014 0.002 0.0027 0.0025 0.0033', 9, 2, 0.0055)\n",
      "\u001b[1m\u001b[33mT_curr : \u001b[0m 45\n",
      "\u001b[1m\u001b[33mD_curr : \u001b[0m 0.0036 0.0042 0.0024 0.0031 0.0 0.0015 0.0024 0.0031 0.0028 0.0036\n",
      "\u001b[1m\u001b[33mDprime : \u001b[0m 0.0033 0.0039 0.0018 0.0024 0.0 0.0014 0.002 0.0027 0.0025 0.0033\n",
      "\u001b[1m\u001b[31mtotal execution time : \u001b[0m 0.0502\n",
      "\n",
      "\u001b[5m\u001b[7m\u001b[35m  || ANALYSIS || \n",
      "\u001b[0m\n",
      "[55] Generated RAND_INF Dprime : 0.0044 0.0076 0.0026 0.0025 0.0 0.0025 0.0038 0.0052 0.0047 0.006\n",
      "[50] Generated RAND_INF Dprime : 0.0029 0.0023 0.0037 0.0039 0.0063 0.0059 0.0078 0.0032 0.0031 0.0\n",
      "\u001b[34mTO EXPLORE : \u001b[0m\n",
      "\u001b[32m45\u001b[0m -> 0.0036 0.0042 0.0024 0.0031 0.0 0.0015 0.0024 0.0031 0.0028 0.0036\n",
      "\u001b[32m50\u001b[0m -> 0.0029 0.0023 0.0037 0.0039 0.0063 0.0059 0.0078 0.0032 0.0031 0.0\n",
      "\u001b[32m55\u001b[0m -> 0.0044 0.0076 0.0026 0.0025 0.0 0.0025 0.0038 0.0052 0.0047 0.006\n",
      "\u001b[32m50\u001b[0m -> 0.0 0.0 0.0 0.0 0.0 0.0 0.0 0.0 0.0 0.0\n",
      "\u001b[32m55\u001b[0m -> 0.0 0.0 0.0 0.0 0.0 0.0 0.0 0.0 0.0 0.0\n",
      "\u001b[32m60\u001b[0m -> 0.0 0.0 0.0 0.0 0.0 0.0 0.0 0.0 0.0 0.0\n",
      "\u001b[32m65\u001b[0m -> 0.0 0.0 0.0 0.0 0.0 0.0 0.0 0.0 0.0 0.0\n",
      "\u001b[32m70\u001b[0m -> 0.0 0.0 0.0 0.0 0.0 0.0 0.0 0.0 0.0 0.0\n",
      "\u001b[32m75\u001b[0m -> 0.0 0.0 0.0 0.0 0.0 0.0 0.0 0.0 0.0 0.0\n",
      "\u001b[32m80\u001b[0m -> 0.0 0.0 0.0 0.0 0.0 0.0 0.0 0.0 0.0 0.0\n",
      "\u001b[32m85\u001b[0m -> 0.0 0.0 0.0 0.0 0.0 0.0 0.0 0.0 0.0 0.0\n",
      "\u001b[32m90\u001b[0m -> 0.0 0.0 0.0 0.0 0.0 0.0 0.0 0.0 0.0 0.0\n",
      "\u001b[32m95\u001b[0m -> 0.0 0.0 0.0 0.0 0.0 0.0 0.0 0.0 0.0 0.0\n",
      "\u001b[5m\u001b[7m\u001b[31m--------------------------------------------  ROUND :  10   --------------------------------------------\n",
      "\u001b[0m\n",
      "\u001b[5m\u001b[7m\u001b[32m  || LAUNCHING || \n",
      "\u001b[0m\n",
      "\u001b[34mTO EXPLORE : \u001b[0m\n",
      "\u001b[32m45\u001b[0m -> 0.0036 0.0042 0.0024 0.0031 0.0 0.0015 0.0024 0.0031 0.0028 0.0036\n",
      "\u001b[32m50\u001b[0m -> 0.0029 0.0023 0.0037 0.0039 0.0063 0.0059 0.0078 0.0032 0.0031 0.0\n",
      "\u001b[32m55\u001b[0m -> 0.0044 0.0076 0.0026 0.0025 0.0 0.0025 0.0038 0.0052 0.0047 0.006\n",
      "\u001b[32m50\u001b[0m -> 0.0 0.0 0.0 0.0 0.0 0.0 0.0 0.0 0.0 0.0\n",
      "\u001b[32m55\u001b[0m -> 0.0 0.0 0.0 0.0 0.0 0.0 0.0 0.0 0.0 0.0\n",
      "\u001b[32m60\u001b[0m -> 0.0 0.0 0.0 0.0 0.0 0.0 0.0 0.0 0.0 0.0\n",
      "\u001b[32m65\u001b[0m -> 0.0 0.0 0.0 0.0 0.0 0.0 0.0 0.0 0.0 0.0\n",
      "\u001b[32m70\u001b[0m -> 0.0 0.0 0.0 0.0 0.0 0.0 0.0 0.0 0.0 0.0\n",
      "\u001b[32m75\u001b[0m -> 0.0 0.0 0.0 0.0 0.0 0.0 0.0 0.0 0.0 0.0\n",
      "\u001b[32m80\u001b[0m -> 0.0 0.0 0.0 0.0 0.0 0.0 0.0 0.0 0.0 0.0\n",
      "\u001b[32m85\u001b[0m -> 0.0 0.0 0.0 0.0 0.0 0.0 0.0 0.0 0.0 0.0\n",
      "\u001b[32m90\u001b[0m -> 0.0 0.0 0.0 0.0 0.0 0.0 0.0 0.0 0.0 0.0\n",
      "\u001b[32m95\u001b[0m -> 0.0 0.0 0.0 0.0 0.0 0.0 0.0 0.0 0.0 0.0\n",
      "grisou-47 => 0 NPROCS = 10 MIN = 45 MAX = 50 N = 100 DELAY = '0.0036 0.0042 0.0024 0.0031 0.0 0.0015 0.0024 0.0031 0.0028 0.0036'\n",
      "\n",
      "grisou-48 => 1 NPROCS = 10 MIN = 50 MAX = 55 N = 100 DELAY = '0.0029 0.0023 0.0037 0.0039 0.0063 0.0059 0.0078 0.0032 0.0031 0.0'\n",
      "\n",
      "grisou-5 => 2 NPROCS = 10 MIN = 55 MAX = 60 N = 100 DELAY = '0.0044 0.0076 0.0026 0.0025 0.0 0.0025 0.0038 0.0052 0.0047 0.006'\n",
      "\n"
     ]
    },
    {
     "name": "stderr",
     "output_type": "stream",
     "text": [
      "/home/nezzine/.local/lib/python3.5/site-packages/rpy2/robjects/pandas2ri.py:191: FutureWarning: from_items is deprecated. Please use DataFrame.from_dict(dict(items), ...) instead. DataFrame.from_dict(OrderedDict(items)) may be used to preserve the key order.\n",
      "  res = PandasDataFrame.from_items(items)\n"
     ]
    },
    {
     "data": {
      "text/plain": [
       "'data.frame':\t70 obs. of  5 variables:\n",
       " $ Rank    : num  8 8 8 8 8 8 8 7 7 7 ...\n",
       " $ Start   : num  0 0.000196 0.002283 0.003331 0.003957 ...\n",
       " $ End     : num  0 0.00228 0.00333 0.00396 0.00396 ...\n",
       " $ Duration: num  0 0.002087 0.001048 0.000626 0 ...\n",
       " $ State   : Factor w/ 3 levels \"PMPI_Bcast\",\"PMPI_Finalize\",..: 3 1 1 1 1 1 2 3 1 1 ...\n"
      ]
     },
     "metadata": {},
     "output_type": "display_data"
    },
    {
     "data": {
      "image/png": "[encoded data removed]"
     },
     "metadata": {},
     "output_type": "display_data"
    },
    {
     "name": "stderr",
     "output_type": "stream",
     "text": [
      "/home/nezzine/.local/lib/python3.5/site-packages/rpy2/robjects/pandas2ri.py:191: FutureWarning: from_items is deprecated. Please use DataFrame.from_dict(dict(items), ...) instead. DataFrame.from_dict(OrderedDict(items)) may be used to preserve the key order.\n",
      "  res = PandasDataFrame.from_items(items)\n"
     ]
    },
    {
     "data": {
      "text/plain": [
       "'data.frame':\t70 obs. of  5 variables:\n",
       " $ Rank    : num  8 8 8 8 8 8 8 7 7 7 ...\n",
       " $ Start   : num  0 0.000217 0.001591 0.004895 0.005888 ...\n",
       " $ End     : num  0 0.00159 0.0049 0.00589 0.00742 ...\n",
       " $ Duration: num  0 0.001374 0.003304 0.000993 0.001536 ...\n",
       " $ State   : Factor w/ 3 levels \"PMPI_Bcast\",\"PMPI_Finalize\",..: 3 1 1 1 1 1 2 3 1 1 ...\n"
      ]
     },
     "metadata": {},
     "output_type": "display_data"
    },
    {
     "data": {
      "image/png": "[encoded data removed]"
     },
     "metadata": {},
     "output_type": "display_data"
    },
    {
     "name": "stderr",
     "output_type": "stream",
     "text": [
      "/home/nezzine/.local/lib/python3.5/site-packages/rpy2/robjects/pandas2ri.py:191: FutureWarning: from_items is deprecated. Please use DataFrame.from_dict(dict(items), ...) instead. DataFrame.from_dict(OrderedDict(items)) may be used to preserve the key order.\n",
      "  res = PandasDataFrame.from_items(items)\n"
     ]
    },
    {
     "data": {
      "text/plain": [
       "'data.frame':\t70 obs. of  5 variables:\n",
       " $ Rank    : num  8 8 8 8 8 8 8 7 7 7 ...\n",
       " $ Start   : num  0 0.000329 0.002295 0.003167 0.00387 ...\n",
       " $ End     : num  0 0.0023 0.00317 0.00387 0.00387 ...\n",
       " $ Duration: num  0 0.001966 0.000872 0.000703 0 ...\n",
       " $ State   : Factor w/ 3 levels \"PMPI_Bcast\",\"PMPI_Finalize\",..: 3 1 1 1 1 1 2 3 1 1 ...\n"
      ]
     },
     "metadata": {},
     "output_type": "display_data"
    },
    {
     "data": {
      "image/png": "[encoded data removed]"
     },
     "metadata": {},
     "output_type": "display_data"
    },
    {
     "name": "stdout",
     "output_type": "stream",
     "text": [
      "\u001b[33mT_curr : \u001b[0m 45\n",
      "\u001b[33mD_curr : \u001b[0m 0.0036 0.0042 0.0024 0.0031 0.0 0.0015 0.0024 0.0031 0.0028 0.0036\n",
      "\u001b[33mDprime : \u001b[0m 0.0013 0.002 0.0026 0.0025 0.0033 0.0033 0.0039 0.0018 0.0024 0.0\n",
      "\u001b[31mtotal execution time : \u001b[0m 0.0502\n",
      "\n",
      "returning: 0.0036 0.0042 0.0024 0.0031 0.0 0.0015 0.0024 0.0031 0.0028 0.0036\n",
      "\u001b[5m\u001b[7m\u001b[31m\n",
      "  || RESULTS || \n",
      "\u001b[0m\n",
      "\u001b[34mTO EXPLORE : \u001b[0m\n",
      "\u001b[32m50\u001b[0m -> 0.0 0.0 0.0 0.0 0.0 0.0 0.0 0.0 0.0 0.0\n",
      "\u001b[32m55\u001b[0m -> 0.0 0.0 0.0 0.0 0.0 0.0 0.0 0.0 0.0 0.0\n",
      "\u001b[32m60\u001b[0m -> 0.0 0.0 0.0 0.0 0.0 0.0 0.0 0.0 0.0 0.0\n",
      "\u001b[32m65\u001b[0m -> 0.0 0.0 0.0 0.0 0.0 0.0 0.0 0.0 0.0 0.0\n",
      "\u001b[32m70\u001b[0m -> 0.0 0.0 0.0 0.0 0.0 0.0 0.0 0.0 0.0 0.0\n",
      "\u001b[32m75\u001b[0m -> 0.0 0.0 0.0 0.0 0.0 0.0 0.0 0.0 0.0 0.0\n",
      "\u001b[32m80\u001b[0m -> 0.0 0.0 0.0 0.0 0.0 0.0 0.0 0.0 0.0 0.0\n",
      "\u001b[32m85\u001b[0m -> 0.0 0.0 0.0 0.0 0.0 0.0 0.0 0.0 0.0 0.0\n",
      "\u001b[32m90\u001b[0m -> 0.0 0.0 0.0 0.0 0.0 0.0 0.0 0.0 0.0 0.0\n",
      "\u001b[32m95\u001b[0m -> 0.0 0.0 0.0 0.0 0.0 0.0 0.0 0.0 0.0 0.0\n",
      "\u001b[35m0\u001b[0m\n",
      "\t\u001b[35m0.0 0.0 0.0 0.0 0.0 0.0 0.0 0.0 0.0 0.0\u001b[0m\n",
      "\t\t('0.0037 0.0043 0.0025 0.0031 0.0 0.0016 0.0025 0.0031 0.0028 0.0037', 1, 0, 0.0054)\n",
      "\u001b[35m5\u001b[0m\n",
      "\t\u001b[35m0.0037 0.0043 0.0025 0.0031 0.0 0.0016 0.0025 0.0031 0.0028 0.0037\u001b[0m\n",
      "\t\t('0.0015 0.0024 0.0031 0.0028 0.0036 0.0036 0.0042 0.0024 0.0031 0.0', 2, 0, 0.0056)\n",
      "\t\u001b[35m0.0 0.0 0.0 0.0 0.0 0.0 0.0 0.0 0.0 0.0\u001b[0m\n",
      "\t\t('0.0016 0.0025 0.0031 0.0028 0.0037 0.0037 0.0043 0.0025 0.0031 0.0', 1, 1, 0.0054)\n",
      "\u001b[35m10\u001b[0m\n",
      "\t\u001b[35m0.0028 0.003 0.0035 0.0043 0.005 0.0043 0.0057 0.0028 0.0047 0.0\u001b[0m\n",
      "\t\t('0.0036 0.0042 0.0023 0.003 0.0 0.0014 0.0021 0.0027 0.0028 0.0036', 2, 1, 0.0053)\n",
      "\t\u001b[35m0.0015 0.0024 0.0031 0.0028 0.0036 0.0036 0.0042 0.0024 0.0031 0.0\u001b[0m\n",
      "\t\t('0.0036 0.0042 0.0024 0.0031 0.0 0.0015 0.0024 0.0031 0.0028 0.0036', 3, 0, 0.0056)\n",
      "\t\u001b[35m0.0 0.0 0.0 0.0 0.0 0.0 0.0 0.0 0.0 0.0\u001b[0m\n",
      "\t\t('0.0037 0.0043 0.0025 0.0031 0.0 0.0016 0.0025 0.0031 0.0028 0.0037', 1, 2, 0.0054)\n",
      "\u001b[35m15\u001b[0m\n",
      "\t\u001b[35m0.0036 0.0042 0.0024 0.0031 0.0 0.0015 0.0024 0.0031 0.0028 0.0036\u001b[0m\n",
      "\t\t('0.0015 0.0024 0.0031 0.0028 0.0036 0.0036 0.0042 0.0024 0.0031 0.0', 4, 0, 0.0056)\n",
      "\t\u001b[35m0.0063 0.0078 0.0031 0.0045 0.0 0.0026 0.0023 0.0043 0.0034 0.0066\u001b[0m\n",
      "\t\t('0.0015 0.0023 0.0029 0.0027 0.0036 0.0036 0.0042 0.0024 0.003 0.0', 3, 1, 0.0055)\n",
      "\t\u001b[35m0.0065 0.0083 0.0044 0.0044 0.0 0.0023 0.0043 0.0033 0.0031 0.0072\u001b[0m\n",
      "\t\t('0.0014 0.0021 0.0027 0.0029 0.0038 0.0038 0.0044 0.0024 0.003 0.0', 2, 2, 0.0049)\n",
      "\u001b[35m20\u001b[0m\n",
      "\t\u001b[35m0.002 0.0034 0.0043 0.004 0.0043 0.0049 0.0069 0.0039 0.0032 0.0\u001b[0m\n",
      "\t\t('0.0034 0.004 0.0019 0.0026 0.0 0.0014 0.0022 0.0028 0.0026 0.0034', 4, 1, 0.0055)\n",
      "\t\u001b[35m0.0015 0.0024 0.0031 0.0028 0.0036 0.0036 0.0042 0.0024 0.0031 0.0\u001b[0m\n",
      "\t\t('0.0036 0.0042 0.0024 0.0031 0.0 0.0015 0.0024 0.0031 0.0028 0.0036', 5, 0, 0.0056)\n",
      "\t\u001b[35m0.0026 0.0023 0.0028 0.0049 0.0066 0.0076 0.0077 0.0029 0.0035 0.0\u001b[0m\n",
      "\t\t('0.0036 0.0043 0.0024 0.003 0.0 0.0015 0.0022 0.0029 0.0028 0.0036', 3, 2, 0.0052)\n",
      "\u001b[35m25\u001b[0m\n",
      "\t\u001b[35m0.004 0.0079 0.0044 0.0047 0.0 0.002 0.0027 0.0054 0.0038 0.0059\u001b[0m\n",
      "\t\t('0.0015 0.0023 0.0029 0.0027 0.0035 0.0035 0.0041 0.0021 0.0028 0.0', 4, 2, 0.0055)\n",
      "\t\u001b[35m0.0064 0.0073 0.0031 0.0043 0.0 0.0027 0.0026 0.0039 0.0041 0.0036\u001b[0m\n",
      "\t\t('0.0015 0.0024 0.003 0.0028 0.0036 0.0036 0.0043 0.0025 0.0031 0.0', 5, 1, 0.0056)\n",
      "\t\u001b[35m0.0036 0.0042 0.0024 0.0031 0.0 0.0015 0.0024 0.0031 0.0028 0.0036\u001b[0m\n",
      "\t\t('0.0015 0.0024 0.0031 0.0028 0.0036 0.0036 0.0042 0.0024 0.0031 0.0', 6, 0, 0.0056)\n",
      "\u001b[35m30\u001b[0m\n",
      "\t\u001b[35m0.0015 0.0024 0.0031 0.0028 0.0036 0.0036 0.0042 0.0024 0.0031 0.0\u001b[0m\n",
      "\t\t('0.0036 0.0042 0.0024 0.0031 0.0 0.0015 0.0024 0.0031 0.0028 0.0036', 7, 0, 0.0056)\n",
      "\t\u001b[35m0.0022 0.0037 0.0048 0.0049 0.006 0.0043 0.0042 0.0031 0.0035 0.0\u001b[0m\n",
      "\t\t('0.0034 0.0041 0.0019 0.0026 0.0 0.0015 0.0022 0.0028 0.0026 0.0034', 5, 2, 0.0054)\n",
      "\t\u001b[35m0.0017 0.0038 0.005 0.0047 0.0042 0.0053 0.0075 0.0037 0.0039 0.0\u001b[0m\n",
      "\t\t('0.0035 0.0041 0.0021 0.0028 0.0 0.0015 0.0023 0.003 0.0027 0.0035', 6, 1, 0.0056)\n",
      "\u001b[35m35\u001b[0m\n",
      "\t\u001b[35m0.0036 0.0042 0.0024 0.0031 0.0 0.0015 0.0024 0.0031 0.0028 0.0036\u001b[0m\n",
      "\t\t('0.0015 0.0024 0.0031 0.0028 0.0036 0.0036 0.0042 0.0024 0.0031 0.0', 8, 0, 0.0056)\n",
      "\t\u001b[35m0.0069 0.0078 0.0024 0.0047 0.0 0.0019 0.0037 0.0036 0.0039 0.0047\u001b[0m\n",
      "\t\t('0.0014 0.0021 0.0028 0.0028 0.0036 0.0036 0.0043 0.0024 0.003 0.0', 7, 1, 0.0053)\n",
      "\t\u001b[35m0.0059 0.0062 0.003 0.003 0.0 0.0017 0.0039 0.0047 0.0044 0.0054\u001b[0m\n",
      "\t\t('0.0014 0.002 0.0026 0.0025 0.0033 0.0033 0.0039 0.0018 0.0024 0.0', 6, 2, 0.0054)\n",
      "\u001b[35m40\u001b[0m\n",
      "\t\u001b[35m0.0027 0.0023 0.0052 0.0052 0.0064 0.0066 0.0081 0.0024 0.0043 0.0\u001b[0m\n",
      "\t\t('0.0034 0.004 0.002 0.0026 0.0 0.0014 0.0022 0.0028 0.0026 0.0034', 8, 1, 0.0055)\n",
      "\t\u001b[35m0.0015 0.0024 0.0031 0.0028 0.0036 0.0036 0.0042 0.0024 0.0031 0.0\u001b[0m\n",
      "\t\t('0.0036 0.0042 0.0024 0.0031 0.0 0.0015 0.0024 0.0031 0.0028 0.0036', 9, 0, 0.0056)\n",
      "\t\u001b[35m0.0022 0.0031 0.0042 0.0028 0.0048 0.0044 0.0055 0.0034 0.003 0.0\u001b[0m\n",
      "\t\t('0.0035 0.0041 0.002 0.0026 0.0 0.0015 0.0022 0.0028 0.0026 0.0035', 7, 2, 0.0054)\n",
      "\u001b[35m45\u001b[0m\n",
      "\t\u001b[35m0.0041 0.0077 0.0026 0.0038 0.0 0.0023 0.0037 0.0051 0.0039 0.0034\u001b[0m\n",
      "\t\t('0.0015 0.0023 0.0029 0.0027 0.0035 0.0035 0.0041 0.0021 0.0028 0.0', 9, 1, 0.0057)\n",
      "\t\u001b[35m0.006 0.0041 0.0026 0.0043 0.0 0.0024 0.0032 0.0043 0.0034 0.0039\u001b[0m\n",
      "\t\t('0.0015 0.0024 0.0031 0.0028 0.0036 0.0036 0.0042 0.0024 0.0031 0.0', 8, 2, 0.0057)\n",
      "\t\u001b[35m0.0036 0.0042 0.0024 0.0031 0.0 0.0015 0.0024 0.0031 0.0028 0.0036\u001b[0m\n",
      "\t\t('0.0015 0.0024 0.0031 0.0028 0.0036 0.0036 0.0042 0.0024 0.0031 0.0', 10, 0, 0.0056)\n",
      "\u001b[35m50\u001b[0m\n",
      "\t\u001b[35m0.003 0.0046 0.006 0.0044 0.0061 0.0064 0.0066 0.004 0.0041 0.0\u001b[0m\n",
      "\t\t('0.0033 0.0039 0.0018 0.0024 0.0 0.0014 0.002 0.0027 0.0025 0.0033', 9, 2, 0.0055)\n",
      "\t\u001b[35m0.0029 0.0023 0.0037 0.0039 0.0063 0.0059 0.0078 0.0032 0.0031 0.0\u001b[0m\n",
      "\t\t('0.0035 0.0041 0.0021 0.0028 0.0 0.0015 0.0023 0.0029 0.0027 0.0035', 10, 1, 0.0054)\n",
      "\u001b[35m55\u001b[0m\n",
      "\t\u001b[35m0.0044 0.0076 0.0026 0.0025 0.0 0.0025 0.0038 0.0052 0.0047 0.006\u001b[0m\n",
      "\t\t('0.0013 0.002 0.0026 0.0025 0.0033 0.0033 0.0039 0.0018 0.0024 0.0', 10, 2, 0.0053)\n",
      "\u001b[1m\u001b[33mT_curr : \u001b[0m 50\n",
      "\u001b[1m\u001b[33mD_curr : \u001b[0m 0.0015 0.0024 0.0031 0.0028 0.0036 0.0036 0.0042 0.0024 0.0031 0.0\n",
      "\u001b[1m\u001b[33mDprime : \u001b[0m 0.0013 0.002 0.0026 0.0025 0.0033 0.0033 0.0039 0.0018 0.0024 0.0\n",
      "\u001b[1m\u001b[31mtotal execution time : \u001b[0m 0.0558\n",
      "\n",
      "\u001b[5m\u001b[7m\u001b[35m  || ANALYSIS || \n",
      "\u001b[0m\n",
      "[60] Generated RAND_INF Dprime : 0.0016 0.0036 0.004 0.0034 0.0045 0.0034 0.0059 0.0022 0.0027 0.0\n",
      "[55] Generated RAND_INF Dprime : 0.0039 0.0076 0.0034 0.0034 0.0 0.0024 0.0028 0.004 0.0029 0.0043\n",
      "\u001b[34mTO EXPLORE : \u001b[0m\n",
      "\u001b[32m50\u001b[0m -> 0.0015 0.0024 0.0031 0.0028 0.0036 0.0036 0.0042 0.0024 0.0031 0.0\n",
      "\u001b[32m55\u001b[0m -> 0.0039 0.0076 0.0034 0.0034 0.0 0.0024 0.0028 0.004 0.0029 0.0043\n",
      "\u001b[32m60\u001b[0m -> 0.0016 0.0036 0.004 0.0034 0.0045 0.0034 0.0059 0.0022 0.0027 0.0\n",
      "\u001b[32m55\u001b[0m -> 0.0 0.0 0.0 0.0 0.0 0.0 0.0 0.0 0.0 0.0\n",
      "\u001b[32m60\u001b[0m -> 0.0 0.0 0.0 0.0 0.0 0.0 0.0 0.0 0.0 0.0\n",
      "\u001b[32m65\u001b[0m -> 0.0 0.0 0.0 0.0 0.0 0.0 0.0 0.0 0.0 0.0\n",
      "\u001b[32m70\u001b[0m -> 0.0 0.0 0.0 0.0 0.0 0.0 0.0 0.0 0.0 0.0\n",
      "\u001b[32m75\u001b[0m -> 0.0 0.0 0.0 0.0 0.0 0.0 0.0 0.0 0.0 0.0\n",
      "\u001b[32m80\u001b[0m -> 0.0 0.0 0.0 0.0 0.0 0.0 0.0 0.0 0.0 0.0\n",
      "\u001b[32m85\u001b[0m -> 0.0 0.0 0.0 0.0 0.0 0.0 0.0 0.0 0.0 0.0\n",
      "\u001b[32m90\u001b[0m -> 0.0 0.0 0.0 0.0 0.0 0.0 0.0 0.0 0.0 0.0\n",
      "\u001b[32m95\u001b[0m -> 0.0 0.0 0.0 0.0 0.0 0.0 0.0 0.0 0.0 0.0\n",
      "\u001b[5m\u001b[7m\u001b[31m--------------------------------------------  ROUND :  11   --------------------------------------------\n",
      "\u001b[0m\n",
      "\u001b[5m\u001b[7m\u001b[32m  || LAUNCHING || \n",
      "\u001b[0m\n",
      "\u001b[34mTO EXPLORE : \u001b[0m\n",
      "\u001b[32m50\u001b[0m -> 0.0015 0.0024 0.0031 0.0028 0.0036 0.0036 0.0042 0.0024 0.0031 0.0\n",
      "\u001b[32m55\u001b[0m -> 0.0039 0.0076 0.0034 0.0034 0.0 0.0024 0.0028 0.004 0.0029 0.0043\n",
      "\u001b[32m60\u001b[0m -> 0.0016 0.0036 0.004 0.0034 0.0045 0.0034 0.0059 0.0022 0.0027 0.0\n",
      "\u001b[32m55\u001b[0m -> 0.0 0.0 0.0 0.0 0.0 0.0 0.0 0.0 0.0 0.0\n",
      "\u001b[32m60\u001b[0m -> 0.0 0.0 0.0 0.0 0.0 0.0 0.0 0.0 0.0 0.0\n",
      "\u001b[32m65\u001b[0m -> 0.0 0.0 0.0 0.0 0.0 0.0 0.0 0.0 0.0 0.0\n",
      "\u001b[32m70\u001b[0m -> 0.0 0.0 0.0 0.0 0.0 0.0 0.0 0.0 0.0 0.0\n",
      "\u001b[32m75\u001b[0m -> 0.0 0.0 0.0 0.0 0.0 0.0 0.0 0.0 0.0 0.0\n",
      "\u001b[32m80\u001b[0m -> 0.0 0.0 0.0 0.0 0.0 0.0 0.0 0.0 0.0 0.0\n",
      "\u001b[32m85\u001b[0m -> 0.0 0.0 0.0 0.0 0.0 0.0 0.0 0.0 0.0 0.0\n",
      "\u001b[32m90\u001b[0m -> 0.0 0.0 0.0 0.0 0.0 0.0 0.0 0.0 0.0 0.0\n",
      "\u001b[32m95\u001b[0m -> 0.0 0.0 0.0 0.0 0.0 0.0 0.0 0.0 0.0 0.0\n",
      "grisou-47 => 0 NPROCS = 10 MIN = 50 MAX = 55 N = 100 DELAY = '0.0015 0.0024 0.0031 0.0028 0.0036 0.0036 0.0042 0.0024 0.0031 0.0'\n",
      "\n",
      "grisou-48 => 1 NPROCS = 10 MIN = 55 MAX = 60 N = 100 DELAY = '0.0039 0.0076 0.0034 0.0034 0.0 0.0024 0.0028 0.004 0.0029 0.0043'\n",
      "\n",
      "grisou-5 => 2 NPROCS = 10 MIN = 60 MAX = 65 N = 100 DELAY = '0.0016 0.0036 0.004 0.0034 0.0045 0.0034 0.0059 0.0022 0.0027 0.0'\n",
      "\n"
     ]
    },
    {
     "name": "stderr",
     "output_type": "stream",
     "text": [
      "/home/nezzine/.local/lib/python3.5/site-packages/rpy2/robjects/pandas2ri.py:191: FutureWarning: from_items is deprecated. Please use DataFrame.from_dict(dict(items), ...) instead. DataFrame.from_dict(OrderedDict(items)) may be used to preserve the key order.\n",
      "  res = PandasDataFrame.from_items(items)\n"
     ]
    },
    {
     "data": {
      "text/plain": [
       "'data.frame':\t70 obs. of  5 variables:\n",
       " $ Rank    : num  8 8 8 8 8 8 8 7 7 7 ...\n",
       " $ Start   : num  0 0.000217 0.001657 0.004936 0.00601 ...\n",
       " $ End     : num  0 0.00166 0.00494 0.00601 0.00764 ...\n",
       " $ Duration: num  0 0.00144 0.00328 0.00107 0.00163 ...\n",
       " $ State   : Factor w/ 3 levels \"PMPI_Bcast\",\"PMPI_Finalize\",..: 3 1 1 1 1 1 2 3 1 1 ...\n"
      ]
     },
     "metadata": {},
     "output_type": "display_data"
    },
    {
     "data": {
      "image/png": "[encoded data removed]"
     },
     "metadata": {},
     "output_type": "display_data"
    },
    {
     "name": "stderr",
     "output_type": "stream",
     "text": [
      "/home/nezzine/.local/lib/python3.5/site-packages/rpy2/robjects/pandas2ri.py:191: FutureWarning: from_items is deprecated. Please use DataFrame.from_dict(dict(items), ...) instead. DataFrame.from_dict(OrderedDict(items)) may be used to preserve the key order.\n",
      "  res = PandasDataFrame.from_items(items)\n"
     ]
    },
    {
     "data": {
      "text/plain": [
       "'data.frame':\t70 obs. of  5 variables:\n",
       " $ Rank    : num  8 8 8 8 8 8 8 7 7 7 ...\n",
       " $ Start   : num  0 0.000203 0.002314 0.003335 0.003961 ...\n",
       " $ End     : num  0 0.00231 0.00333 0.00396 0.00396 ...\n",
       " $ Duration: num  0 0.002111 0.001021 0.000626 0 ...\n",
       " $ State   : Factor w/ 3 levels \"PMPI_Bcast\",\"PMPI_Finalize\",..: 3 1 1 1 1 1 2 3 1 1 ...\n"
      ]
     },
     "metadata": {},
     "output_type": "display_data"
    },
    {
     "data": {
      "image/png": "[encoded data removed]"
     },
     "metadata": {},
     "output_type": "display_data"
    },
    {
     "name": "stderr",
     "output_type": "stream",
     "text": [
      "/home/nezzine/.local/lib/python3.5/site-packages/rpy2/robjects/pandas2ri.py:191: FutureWarning: from_items is deprecated. Please use DataFrame.from_dict(dict(items), ...) instead. DataFrame.from_dict(OrderedDict(items)) may be used to preserve the key order.\n",
      "  res = PandasDataFrame.from_items(items)\n"
     ]
    },
    {
     "data": {
      "text/plain": [
       "'data.frame':\t70 obs. of  5 variables:\n",
       " $ Rank    : num  8 8 8 8 8 8 8 7 7 7 ...\n",
       " $ Start   : num  0 0.000189 0.001518 0.004843 0.005769 ...\n",
       " $ End     : num  0 0.00152 0.00484 0.00577 0.00727 ...\n",
       " $ Duration: num  0 0.001329 0.003325 0.000926 0.001501 ...\n",
       " $ State   : Factor w/ 3 levels \"PMPI_Bcast\",\"PMPI_Finalize\",..: 3 1 1 1 1 1 2 3 1 1 ...\n"
      ]
     },
     "metadata": {},
     "output_type": "display_data"
    },
    {
     "data": {
      "image/png": "[encoded data removed]"
     },
     "metadata": {},
     "output_type": "display_data"
    },
    {
     "name": "stdout",
     "output_type": "stream",
     "text": [
      "\u001b[33mT_curr : \u001b[0m 50\n",
      "\u001b[33mD_curr : \u001b[0m 0.0015 0.0024 0.0031 0.0028 0.0036 0.0036 0.0042 0.0024 0.0031 0.0\n",
      "\u001b[33mDprime : \u001b[0m 0.0033 0.004 0.0018 0.0024 0.0 0.0014 0.002 0.0027 0.0025 0.0033\n",
      "\u001b[31mtotal execution time : \u001b[0m 0.0558\n",
      "\n",
      "returning: 0.0015 0.0024 0.0031 0.0028 0.0036 0.0036 0.0042 0.0024 0.0031 0.0\n",
      "\u001b[5m\u001b[7m\u001b[31m\n",
      "  || RESULTS || \n",
      "\u001b[0m\n",
      "\u001b[34mTO EXPLORE : \u001b[0m\n",
      "\u001b[32m55\u001b[0m -> 0.0 0.0 0.0 0.0 0.0 0.0 0.0 0.0 0.0 0.0\n",
      "\u001b[32m60\u001b[0m -> 0.0 0.0 0.0 0.0 0.0 0.0 0.0 0.0 0.0 0.0\n",
      "\u001b[32m65\u001b[0m -> 0.0 0.0 0.0 0.0 0.0 0.0 0.0 0.0 0.0 0.0\n",
      "\u001b[32m70\u001b[0m -> 0.0 0.0 0.0 0.0 0.0 0.0 0.0 0.0 0.0 0.0\n",
      "\u001b[32m75\u001b[0m -> 0.0 0.0 0.0 0.0 0.0 0.0 0.0 0.0 0.0 0.0\n",
      "\u001b[32m80\u001b[0m -> 0.0 0.0 0.0 0.0 0.0 0.0 0.0 0.0 0.0 0.0\n",
      "\u001b[32m85\u001b[0m -> 0.0 0.0 0.0 0.0 0.0 0.0 0.0 0.0 0.0 0.0\n",
      "\u001b[32m90\u001b[0m -> 0.0 0.0 0.0 0.0 0.0 0.0 0.0 0.0 0.0 0.0\n",
      "\u001b[32m95\u001b[0m -> 0.0 0.0 0.0 0.0 0.0 0.0 0.0 0.0 0.0 0.0\n",
      "\u001b[35m0\u001b[0m\n",
      "\t\u001b[35m0.0 0.0 0.0 0.0 0.0 0.0 0.0 0.0 0.0 0.0\u001b[0m\n",
      "\t\t('0.0037 0.0043 0.0025 0.0031 0.0 0.0016 0.0025 0.0031 0.0028 0.0037', 1, 0, 0.0054)\n",
      "\u001b[35m5\u001b[0m\n",
      "\t\u001b[35m0.0037 0.0043 0.0025 0.0031 0.0 0.0016 0.0025 0.0031 0.0028 0.0037\u001b[0m\n",
      "\t\t('0.0015 0.0024 0.0031 0.0028 0.0036 0.0036 0.0042 0.0024 0.0031 0.0', 2, 0, 0.0056)\n",
      "\t\u001b[35m0.0 0.0 0.0 0.0 0.0 0.0 0.0 0.0 0.0 0.0\u001b[0m\n",
      "\t\t('0.0016 0.0025 0.0031 0.0028 0.0037 0.0037 0.0043 0.0025 0.0031 0.0', 1, 1, 0.0054)\n",
      "\u001b[35m10\u001b[0m\n",
      "\t\u001b[35m0.0028 0.003 0.0035 0.0043 0.005 0.0043 0.0057 0.0028 0.0047 0.0\u001b[0m\n",
      "\t\t('0.0036 0.0042 0.0023 0.003 0.0 0.0014 0.0021 0.0027 0.0028 0.0036', 2, 1, 0.0053)\n",
      "\t\u001b[35m0.0015 0.0024 0.0031 0.0028 0.0036 0.0036 0.0042 0.0024 0.0031 0.0\u001b[0m\n",
      "\t\t('0.0036 0.0042 0.0024 0.0031 0.0 0.0015 0.0024 0.0031 0.0028 0.0036', 3, 0, 0.0056)\n",
      "\t\u001b[35m0.0 0.0 0.0 0.0 0.0 0.0 0.0 0.0 0.0 0.0\u001b[0m\n",
      "\t\t('0.0037 0.0043 0.0025 0.0031 0.0 0.0016 0.0025 0.0031 0.0028 0.0037', 1, 2, 0.0054)\n",
      "\u001b[35m15\u001b[0m\n",
      "\t\u001b[35m0.0036 0.0042 0.0024 0.0031 0.0 0.0015 0.0024 0.0031 0.0028 0.0036\u001b[0m\n",
      "\t\t('0.0015 0.0024 0.0031 0.0028 0.0036 0.0036 0.0042 0.0024 0.0031 0.0', 4, 0, 0.0056)\n",
      "\t\u001b[35m0.0063 0.0078 0.0031 0.0045 0.0 0.0026 0.0023 0.0043 0.0034 0.0066\u001b[0m\n",
      "\t\t('0.0015 0.0023 0.0029 0.0027 0.0036 0.0036 0.0042 0.0024 0.003 0.0', 3, 1, 0.0055)\n",
      "\t\u001b[35m0.0065 0.0083 0.0044 0.0044 0.0 0.0023 0.0043 0.0033 0.0031 0.0072\u001b[0m\n",
      "\t\t('0.0014 0.0021 0.0027 0.0029 0.0038 0.0038 0.0044 0.0024 0.003 0.0', 2, 2, 0.0049)\n",
      "\u001b[35m20\u001b[0m\n",
      "\t\u001b[35m0.002 0.0034 0.0043 0.004 0.0043 0.0049 0.0069 0.0039 0.0032 0.0\u001b[0m\n",
      "\t\t('0.0034 0.004 0.0019 0.0026 0.0 0.0014 0.0022 0.0028 0.0026 0.0034', 4, 1, 0.0055)\n",
      "\t\u001b[35m0.0015 0.0024 0.0031 0.0028 0.0036 0.0036 0.0042 0.0024 0.0031 0.0\u001b[0m\n",
      "\t\t('0.0036 0.0042 0.0024 0.0031 0.0 0.0015 0.0024 0.0031 0.0028 0.0036', 5, 0, 0.0056)\n",
      "\t\u001b[35m0.0026 0.0023 0.0028 0.0049 0.0066 0.0076 0.0077 0.0029 0.0035 0.0\u001b[0m\n",
      "\t\t('0.0036 0.0043 0.0024 0.003 0.0 0.0015 0.0022 0.0029 0.0028 0.0036', 3, 2, 0.0052)\n",
      "\u001b[35m25\u001b[0m\n",
      "\t\u001b[35m0.004 0.0079 0.0044 0.0047 0.0 0.002 0.0027 0.0054 0.0038 0.0059\u001b[0m\n",
      "\t\t('0.0015 0.0023 0.0029 0.0027 0.0035 0.0035 0.0041 0.0021 0.0028 0.0', 4, 2, 0.0055)\n",
      "\t\u001b[35m0.0064 0.0073 0.0031 0.0043 0.0 0.0027 0.0026 0.0039 0.0041 0.0036\u001b[0m\n",
      "\t\t('0.0015 0.0024 0.003 0.0028 0.0036 0.0036 0.0043 0.0025 0.0031 0.0', 5, 1, 0.0056)\n",
      "\t\u001b[35m0.0036 0.0042 0.0024 0.0031 0.0 0.0015 0.0024 0.0031 0.0028 0.0036\u001b[0m\n",
      "\t\t('0.0015 0.0024 0.0031 0.0028 0.0036 0.0036 0.0042 0.0024 0.0031 0.0', 6, 0, 0.0056)\n",
      "\u001b[35m30\u001b[0m\n",
      "\t\u001b[35m0.0015 0.0024 0.0031 0.0028 0.0036 0.0036 0.0042 0.0024 0.0031 0.0\u001b[0m\n",
      "\t\t('0.0036 0.0042 0.0024 0.0031 0.0 0.0015 0.0024 0.0031 0.0028 0.0036', 7, 0, 0.0056)\n",
      "\t\u001b[35m0.0022 0.0037 0.0048 0.0049 0.006 0.0043 0.0042 0.0031 0.0035 0.0\u001b[0m\n",
      "\t\t('0.0034 0.0041 0.0019 0.0026 0.0 0.0015 0.0022 0.0028 0.0026 0.0034', 5, 2, 0.0054)\n",
      "\t\u001b[35m0.0017 0.0038 0.005 0.0047 0.0042 0.0053 0.0075 0.0037 0.0039 0.0\u001b[0m\n",
      "\t\t('0.0035 0.0041 0.0021 0.0028 0.0 0.0015 0.0023 0.003 0.0027 0.0035', 6, 1, 0.0056)\n",
      "\u001b[35m35\u001b[0m\n",
      "\t\u001b[35m0.0036 0.0042 0.0024 0.0031 0.0 0.0015 0.0024 0.0031 0.0028 0.0036\u001b[0m\n",
      "\t\t('0.0015 0.0024 0.0031 0.0028 0.0036 0.0036 0.0042 0.0024 0.0031 0.0', 8, 0, 0.0056)\n",
      "\t\u001b[35m0.0069 0.0078 0.0024 0.0047 0.0 0.0019 0.0037 0.0036 0.0039 0.0047\u001b[0m\n",
      "\t\t('0.0014 0.0021 0.0028 0.0028 0.0036 0.0036 0.0043 0.0024 0.003 0.0', 7, 1, 0.0053)\n",
      "\t\u001b[35m0.0059 0.0062 0.003 0.003 0.0 0.0017 0.0039 0.0047 0.0044 0.0054\u001b[0m\n",
      "\t\t('0.0014 0.002 0.0026 0.0025 0.0033 0.0033 0.0039 0.0018 0.0024 0.0', 6, 2, 0.0054)\n",
      "\u001b[35m40\u001b[0m\n",
      "\t\u001b[35m0.0027 0.0023 0.0052 0.0052 0.0064 0.0066 0.0081 0.0024 0.0043 0.0\u001b[0m\n",
      "\t\t('0.0034 0.004 0.002 0.0026 0.0 0.0014 0.0022 0.0028 0.0026 0.0034', 8, 1, 0.0055)\n",
      "\t\u001b[35m0.0015 0.0024 0.0031 0.0028 0.0036 0.0036 0.0042 0.0024 0.0031 0.0\u001b[0m\n",
      "\t\t('0.0036 0.0042 0.0024 0.0031 0.0 0.0015 0.0024 0.0031 0.0028 0.0036', 9, 0, 0.0056)\n",
      "\t\u001b[35m0.0022 0.0031 0.0042 0.0028 0.0048 0.0044 0.0055 0.0034 0.003 0.0\u001b[0m\n",
      "\t\t('0.0035 0.0041 0.002 0.0026 0.0 0.0015 0.0022 0.0028 0.0026 0.0035', 7, 2, 0.0054)\n",
      "\u001b[35m45\u001b[0m\n",
      "\t\u001b[35m0.0041 0.0077 0.0026 0.0038 0.0 0.0023 0.0037 0.0051 0.0039 0.0034\u001b[0m\n",
      "\t\t('0.0015 0.0023 0.0029 0.0027 0.0035 0.0035 0.0041 0.0021 0.0028 0.0', 9, 1, 0.0057)\n",
      "\t\u001b[35m0.006 0.0041 0.0026 0.0043 0.0 0.0024 0.0032 0.0043 0.0034 0.0039\u001b[0m\n",
      "\t\t('0.0015 0.0024 0.0031 0.0028 0.0036 0.0036 0.0042 0.0024 0.0031 0.0', 8, 2, 0.0057)\n",
      "\t\u001b[35m0.0036 0.0042 0.0024 0.0031 0.0 0.0015 0.0024 0.0031 0.0028 0.0036\u001b[0m\n",
      "\t\t('0.0015 0.0024 0.0031 0.0028 0.0036 0.0036 0.0042 0.0024 0.0031 0.0', 10, 0, 0.0056)\n",
      "\u001b[35m50\u001b[0m\n",
      "\t\u001b[35m0.0015 0.0024 0.0031 0.0028 0.0036 0.0036 0.0042 0.0024 0.0031 0.0\u001b[0m\n",
      "\t\t('0.0036 0.0042 0.0024 0.0031 0.0 0.0015 0.0024 0.0031 0.0028 0.0036', 11, 0, 0.0056)\n",
      "\t\u001b[35m0.003 0.0046 0.006 0.0044 0.0061 0.0064 0.0066 0.004 0.0041 0.0\u001b[0m\n",
      "\t\t('0.0033 0.0039 0.0018 0.0024 0.0 0.0014 0.002 0.0027 0.0025 0.0033', 9, 2, 0.0055)\n",
      "\t\u001b[35m0.0029 0.0023 0.0037 0.0039 0.0063 0.0059 0.0078 0.0032 0.0031 0.0\u001b[0m\n",
      "\t\t('0.0035 0.0041 0.0021 0.0028 0.0 0.0015 0.0023 0.0029 0.0027 0.0035', 10, 1, 0.0054)\n",
      "\u001b[35m55\u001b[0m\n",
      "\t\u001b[35m0.0039 0.0076 0.0034 0.0034 0.0 0.0024 0.0028 0.004 0.0029 0.0043\u001b[0m\n",
      "\t\t('0.0015 0.0023 0.003 0.0027 0.0035 0.0035 0.0042 0.0022 0.0028 0.0', 11, 1, 0.0055)\n",
      "\t\u001b[35m0.0044 0.0076 0.0026 0.0025 0.0 0.0025 0.0038 0.0052 0.0047 0.006\u001b[0m\n",
      "\t\t('0.0013 0.002 0.0026 0.0025 0.0033 0.0033 0.0039 0.0018 0.0024 0.0', 10, 2, 0.0053)\n",
      "\u001b[35m60\u001b[0m\n",
      "\t\u001b[35m0.0016 0.0036 0.004 0.0034 0.0045 0.0034 0.0059 0.0022 0.0027 0.0\u001b[0m\n",
      "\t\t('0.0033 0.004 0.0018 0.0024 0.0 0.0014 0.002 0.0027 0.0025 0.0033', 11, 2, 0.0054)\n",
      "\u001b[1m\u001b[33mT_curr : \u001b[0m 55\n",
      "\u001b[1m\u001b[33mD_curr : \u001b[0m 0.0036 0.0042 0.0024 0.0031 0.0 0.0015 0.0024 0.0031 0.0028 0.0036\n",
      "\u001b[1m\u001b[33mDprime : \u001b[0m 0.0033 0.004 0.0018 0.0024 0.0 0.0014 0.002 0.0027 0.0025 0.0033\n",
      "\u001b[1m\u001b[31mtotal execution time : \u001b[0m 0.0614\n",
      "\n",
      "\u001b[5m\u001b[7m\u001b[35m  || ANALYSIS || \n",
      "\u001b[0m\n",
      "[65] Generated RAND_INF Dprime : 0.0056 0.0052 0.0032 0.0047 0.0 0.0017 0.0036 0.0035 0.0035 0.0059\n",
      "[60] Generated RAND_INF Dprime : 0.0019 0.0034 0.0058 0.0052 0.0048 0.0046 0.0063 0.0024 0.0053 0.0\n",
      "\u001b[34mTO EXPLORE : \u001b[0m\n",
      "\u001b[32m55\u001b[0m -> 0.0036 0.0042 0.0024 0.0031 0.0 0.0015 0.0024 0.0031 0.0028 0.0036\n",
      "\u001b[32m60\u001b[0m -> 0.0019 0.0034 0.0058 0.0052 0.0048 0.0046 0.0063 0.0024 0.0053 0.0\n",
      "\u001b[32m65\u001b[0m -> 0.0056 0.0052 0.0032 0.0047 0.0 0.0017 0.0036 0.0035 0.0035 0.0059\n",
      "\u001b[32m60\u001b[0m -> 0.0 0.0 0.0 0.0 0.0 0.0 0.0 0.0 0.0 0.0\n",
      "\u001b[32m65\u001b[0m -> 0.0 0.0 0.0 0.0 0.0 0.0 0.0 0.0 0.0 0.0\n",
      "\u001b[32m70\u001b[0m -> 0.0 0.0 0.0 0.0 0.0 0.0 0.0 0.0 0.0 0.0\n",
      "\u001b[32m75\u001b[0m -> 0.0 0.0 0.0 0.0 0.0 0.0 0.0 0.0 0.0 0.0\n",
      "\u001b[32m80\u001b[0m -> 0.0 0.0 0.0 0.0 0.0 0.0 0.0 0.0 0.0 0.0\n",
      "\u001b[32m85\u001b[0m -> 0.0 0.0 0.0 0.0 0.0 0.0 0.0 0.0 0.0 0.0\n",
      "\u001b[32m90\u001b[0m -> 0.0 0.0 0.0 0.0 0.0 0.0 0.0 0.0 0.0 0.0\n",
      "\u001b[32m95\u001b[0m -> 0.0 0.0 0.0 0.0 0.0 0.0 0.0 0.0 0.0 0.0\n",
      "\u001b[5m\u001b[7m\u001b[31m--------------------------------------------  ROUND :  12   --------------------------------------------\n",
      "\u001b[0m\n",
      "\u001b[5m\u001b[7m\u001b[32m  || LAUNCHING || \n",
      "\u001b[0m\n",
      "\u001b[34mTO EXPLORE : \u001b[0m\n",
      "\u001b[32m55\u001b[0m -> 0.0036 0.0042 0.0024 0.0031 0.0 0.0015 0.0024 0.0031 0.0028 0.0036\n",
      "\u001b[32m60\u001b[0m -> 0.0019 0.0034 0.0058 0.0052 0.0048 0.0046 0.0063 0.0024 0.0053 0.0\n",
      "\u001b[32m65\u001b[0m -> 0.0056 0.0052 0.0032 0.0047 0.0 0.0017 0.0036 0.0035 0.0035 0.0059\n",
      "\u001b[32m60\u001b[0m -> 0.0 0.0 0.0 0.0 0.0 0.0 0.0 0.0 0.0 0.0\n",
      "\u001b[32m65\u001b[0m -> 0.0 0.0 0.0 0.0 0.0 0.0 0.0 0.0 0.0 0.0\n",
      "\u001b[32m70\u001b[0m -> 0.0 0.0 0.0 0.0 0.0 0.0 0.0 0.0 0.0 0.0\n",
      "\u001b[32m75\u001b[0m -> 0.0 0.0 0.0 0.0 0.0 0.0 0.0 0.0 0.0 0.0\n",
      "\u001b[32m80\u001b[0m -> 0.0 0.0 0.0 0.0 0.0 0.0 0.0 0.0 0.0 0.0\n",
      "\u001b[32m85\u001b[0m -> 0.0 0.0 0.0 0.0 0.0 0.0 0.0 0.0 0.0 0.0\n",
      "\u001b[32m90\u001b[0m -> 0.0 0.0 0.0 0.0 0.0 0.0 0.0 0.0 0.0 0.0\n",
      "\u001b[32m95\u001b[0m -> 0.0 0.0 0.0 0.0 0.0 0.0 0.0 0.0 0.0 0.0\n",
      "grisou-47 => 0 NPROCS = 10 MIN = 55 MAX = 60 N = 100 DELAY = '0.0036 0.0042 0.0024 0.0031 0.0 0.0015 0.0024 0.0031 0.0028 0.0036'\n",
      "\n",
      "grisou-48 => 1 NPROCS = 10 MIN = 60 MAX = 65 N = 100 DELAY = '0.0019 0.0034 0.0058 0.0052 0.0048 0.0046 0.0063 0.0024 0.0053 0.0'\n",
      "\n",
      "grisou-5 => 2 NPROCS = 10 MIN = 65 MAX = 70 N = 100 DELAY = '0.0056 0.0052 0.0032 0.0047 0.0 0.0017 0.0036 0.0035 0.0035 0.0059'\n",
      "\n"
     ]
    },
    {
     "name": "stderr",
     "output_type": "stream",
     "text": [
      "/home/nezzine/.local/lib/python3.5/site-packages/rpy2/robjects/pandas2ri.py:191: FutureWarning: from_items is deprecated. Please use DataFrame.from_dict(dict(items), ...) instead. DataFrame.from_dict(OrderedDict(items)) may be used to preserve the key order.\n",
      "  res = PandasDataFrame.from_items(items)\n"
     ]
    },
    {
     "data": {
      "text/plain": [
       "'data.frame':\t70 obs. of  5 variables:\n",
       " $ Rank    : num  8 8 8 8 8 8 8 7 7 7 ...\n",
       " $ Start   : num  0 0.000196 0.002283 0.003331 0.003957 ...\n",
       " $ End     : num  0 0.00228 0.00333 0.00396 0.00396 ...\n",
       " $ Duration: num  0 0.002087 0.001048 0.000626 0 ...\n",
       " $ State   : Factor w/ 3 levels \"PMPI_Bcast\",\"PMPI_Finalize\",..: 3 1 1 1 1 1 2 3 1 1 ...\n"
      ]
     },
     "metadata": {},
     "output_type": "display_data"
    },
    {
     "data": {
      "image/png": "[encoded data removed]"
     },
     "metadata": {},
     "output_type": "display_data"
    },
    {
     "name": "stderr",
     "output_type": "stream",
     "text": [
      "/home/nezzine/.local/lib/python3.5/site-packages/rpy2/robjects/pandas2ri.py:191: FutureWarning: from_items is deprecated. Please use DataFrame.from_dict(dict(items), ...) instead. DataFrame.from_dict(OrderedDict(items)) may be used to preserve the key order.\n",
      "  res = PandasDataFrame.from_items(items)\n"
     ]
    },
    {
     "data": {
      "text/plain": [
       "'data.frame':\t70 obs. of  5 variables:\n",
       " $ Rank    : num  8 8 8 8 8 8 8 7 7 7 ...\n",
       " $ Start   : num  0 0.000371 0.001741 0.005011 0.006106 ...\n",
       " $ End     : num  0 0.00174 0.00501 0.00611 0.00773 ...\n",
       " $ Duration: num  0 0.00137 0.00327 0.0011 0.00163 ...\n",
       " $ State   : Factor w/ 3 levels \"PMPI_Bcast\",\"PMPI_Finalize\",..: 3 1 1 1 1 1 2 3 1 1 ...\n"
      ]
     },
     "metadata": {},
     "output_type": "display_data"
    },
    {
     "data": {
      "image/png": "[encoded data removed]"
     },
     "metadata": {},
     "output_type": "display_data"
    },
    {
     "name": "stderr",
     "output_type": "stream",
     "text": [
      "/home/nezzine/.local/lib/python3.5/site-packages/rpy2/robjects/pandas2ri.py:191: FutureWarning: from_items is deprecated. Please use DataFrame.from_dict(dict(items), ...) instead. DataFrame.from_dict(OrderedDict(items)) may be used to preserve the key order.\n",
      "  res = PandasDataFrame.from_items(items)\n"
     ]
    },
    {
     "data": {
      "text/plain": [
       "'data.frame':\t70 obs. of  5 variables:\n",
       " $ Rank    : num  8 8 8 8 8 8 8 7 7 7 ...\n",
       " $ Start   : num  0 0.000245 0.00224 0.00317 0.003796 ...\n",
       " $ End     : num  0 0.00224 0.00317 0.0038 0.0038 ...\n",
       " $ Duration: num  0 0.001995 0.00093 0.000626 0 ...\n",
       " $ State   : Factor w/ 3 levels \"PMPI_Bcast\",\"PMPI_Finalize\",..: 3 1 1 1 1 1 2 3 1 1 ...\n"
      ]
     },
     "metadata": {},
     "output_type": "display_data"
    },
    {
     "data": {
      "image/png": "[encoded data removed]"
     },
     "metadata": {},
     "output_type": "display_data"
    },
    {
     "name": "stdout",
     "output_type": "stream",
     "text": [
      "\u001b[33mT_curr : \u001b[0m 55\n",
      "\u001b[33mD_curr : \u001b[0m 0.0036 0.0042 0.0024 0.0031 0.0 0.0015 0.0024 0.0031 0.0028 0.0036\n",
      "\u001b[33mDprime : \u001b[0m 0.0014 0.0021 0.0028 0.0028 0.0037 0.0037 0.0043 0.0024 0.003 0.0\n",
      "\u001b[31mtotal execution time : \u001b[0m 0.0614\n",
      "\n",
      "returning: 0.0036 0.0042 0.0024 0.0031 0.0 0.0015 0.0024 0.0031 0.0028 0.0036\n",
      "\u001b[5m\u001b[7m\u001b[31m\n",
      "  || RESULTS || \n",
      "\u001b[0m\n",
      "\u001b[34mTO EXPLORE : \u001b[0m\n",
      "\u001b[32m60\u001b[0m -> 0.0 0.0 0.0 0.0 0.0 0.0 0.0 0.0 0.0 0.0\n",
      "\u001b[32m65\u001b[0m -> 0.0 0.0 0.0 0.0 0.0 0.0 0.0 0.0 0.0 0.0\n",
      "\u001b[32m70\u001b[0m -> 0.0 0.0 0.0 0.0 0.0 0.0 0.0 0.0 0.0 0.0\n",
      "\u001b[32m75\u001b[0m -> 0.0 0.0 0.0 0.0 0.0 0.0 0.0 0.0 0.0 0.0\n",
      "\u001b[32m80\u001b[0m -> 0.0 0.0 0.0 0.0 0.0 0.0 0.0 0.0 0.0 0.0\n",
      "\u001b[32m85\u001b[0m -> 0.0 0.0 0.0 0.0 0.0 0.0 0.0 0.0 0.0 0.0\n",
      "\u001b[32m90\u001b[0m -> 0.0 0.0 0.0 0.0 0.0 0.0 0.0 0.0 0.0 0.0\n",
      "\u001b[32m95\u001b[0m -> 0.0 0.0 0.0 0.0 0.0 0.0 0.0 0.0 0.0 0.0\n",
      "\u001b[35m0\u001b[0m\n",
      "\t\u001b[35m0.0 0.0 0.0 0.0 0.0 0.0 0.0 0.0 0.0 0.0\u001b[0m\n",
      "\t\t('0.0037 0.0043 0.0025 0.0031 0.0 0.0016 0.0025 0.0031 0.0028 0.0037', 1, 0, 0.0054)\n",
      "\u001b[35m5\u001b[0m\n",
      "\t\u001b[35m0.0037 0.0043 0.0025 0.0031 0.0 0.0016 0.0025 0.0031 0.0028 0.0037\u001b[0m\n",
      "\t\t('0.0015 0.0024 0.0031 0.0028 0.0036 0.0036 0.0042 0.0024 0.0031 0.0', 2, 0, 0.0056)\n",
      "\t\u001b[35m0.0 0.0 0.0 0.0 0.0 0.0 0.0 0.0 0.0 0.0\u001b[0m\n",
      "\t\t('0.0016 0.0025 0.0031 0.0028 0.0037 0.0037 0.0043 0.0025 0.0031 0.0', 1, 1, 0.0054)\n",
      "\u001b[35m10\u001b[0m\n",
      "\t\u001b[35m0.0028 0.003 0.0035 0.0043 0.005 0.0043 0.0057 0.0028 0.0047 0.0\u001b[0m\n",
      "\t\t('0.0036 0.0042 0.0023 0.003 0.0 0.0014 0.0021 0.0027 0.0028 0.0036', 2, 1, 0.0053)\n",
      "\t\u001b[35m0.0015 0.0024 0.0031 0.0028 0.0036 0.0036 0.0042 0.0024 0.0031 0.0\u001b[0m\n",
      "\t\t('0.0036 0.0042 0.0024 0.0031 0.0 0.0015 0.0024 0.0031 0.0028 0.0036', 3, 0, 0.0056)\n",
      "\t\u001b[35m0.0 0.0 0.0 0.0 0.0 0.0 0.0 0.0 0.0 0.0\u001b[0m\n",
      "\t\t('0.0037 0.0043 0.0025 0.0031 0.0 0.0016 0.0025 0.0031 0.0028 0.0037', 1, 2, 0.0054)\n",
      "\u001b[35m15\u001b[0m\n",
      "\t\u001b[35m0.0036 0.0042 0.0024 0.0031 0.0 0.0015 0.0024 0.0031 0.0028 0.0036\u001b[0m\n",
      "\t\t('0.0015 0.0024 0.0031 0.0028 0.0036 0.0036 0.0042 0.0024 0.0031 0.0', 4, 0, 0.0056)\n",
      "\t\u001b[35m0.0063 0.0078 0.0031 0.0045 0.0 0.0026 0.0023 0.0043 0.0034 0.0066\u001b[0m\n",
      "\t\t('0.0015 0.0023 0.0029 0.0027 0.0036 0.0036 0.0042 0.0024 0.003 0.0', 3, 1, 0.0055)\n",
      "\t\u001b[35m0.0065 0.0083 0.0044 0.0044 0.0 0.0023 0.0043 0.0033 0.0031 0.0072\u001b[0m\n",
      "\t\t('0.0014 0.0021 0.0027 0.0029 0.0038 0.0038 0.0044 0.0024 0.003 0.0', 2, 2, 0.0049)\n",
      "\u001b[35m20\u001b[0m\n",
      "\t\u001b[35m0.002 0.0034 0.0043 0.004 0.0043 0.0049 0.0069 0.0039 0.0032 0.0\u001b[0m\n",
      "\t\t('0.0034 0.004 0.0019 0.0026 0.0 0.0014 0.0022 0.0028 0.0026 0.0034', 4, 1, 0.0055)\n",
      "\t\u001b[35m0.0015 0.0024 0.0031 0.0028 0.0036 0.0036 0.0042 0.0024 0.0031 0.0\u001b[0m\n",
      "\t\t('0.0036 0.0042 0.0024 0.0031 0.0 0.0015 0.0024 0.0031 0.0028 0.0036', 5, 0, 0.0056)\n",
      "\t\u001b[35m0.0026 0.0023 0.0028 0.0049 0.0066 0.0076 0.0077 0.0029 0.0035 0.0\u001b[0m\n",
      "\t\t('0.0036 0.0043 0.0024 0.003 0.0 0.0015 0.0022 0.0029 0.0028 0.0036', 3, 2, 0.0052)\n",
      "\u001b[35m25\u001b[0m\n",
      "\t\u001b[35m0.004 0.0079 0.0044 0.0047 0.0 0.002 0.0027 0.0054 0.0038 0.0059\u001b[0m\n",
      "\t\t('0.0015 0.0023 0.0029 0.0027 0.0035 0.0035 0.0041 0.0021 0.0028 0.0', 4, 2, 0.0055)\n",
      "\t\u001b[35m0.0064 0.0073 0.0031 0.0043 0.0 0.0027 0.0026 0.0039 0.0041 0.0036\u001b[0m\n",
      "\t\t('0.0015 0.0024 0.003 0.0028 0.0036 0.0036 0.0043 0.0025 0.0031 0.0', 5, 1, 0.0056)\n",
      "\t\u001b[35m0.0036 0.0042 0.0024 0.0031 0.0 0.0015 0.0024 0.0031 0.0028 0.0036\u001b[0m\n",
      "\t\t('0.0015 0.0024 0.0031 0.0028 0.0036 0.0036 0.0042 0.0024 0.0031 0.0', 6, 0, 0.0056)\n",
      "\u001b[35m30\u001b[0m\n",
      "\t\u001b[35m0.0015 0.0024 0.0031 0.0028 0.0036 0.0036 0.0042 0.0024 0.0031 0.0\u001b[0m\n",
      "\t\t('0.0036 0.0042 0.0024 0.0031 0.0 0.0015 0.0024 0.0031 0.0028 0.0036', 7, 0, 0.0056)\n",
      "\t\u001b[35m0.0022 0.0037 0.0048 0.0049 0.006 0.0043 0.0042 0.0031 0.0035 0.0\u001b[0m\n",
      "\t\t('0.0034 0.0041 0.0019 0.0026 0.0 0.0015 0.0022 0.0028 0.0026 0.0034', 5, 2, 0.0054)\n",
      "\t\u001b[35m0.0017 0.0038 0.005 0.0047 0.0042 0.0053 0.0075 0.0037 0.0039 0.0\u001b[0m\n",
      "\t\t('0.0035 0.0041 0.0021 0.0028 0.0 0.0015 0.0023 0.003 0.0027 0.0035', 6, 1, 0.0056)\n",
      "\u001b[35m35\u001b[0m\n",
      "\t\u001b[35m0.0036 0.0042 0.0024 0.0031 0.0 0.0015 0.0024 0.0031 0.0028 0.0036\u001b[0m\n",
      "\t\t('0.0015 0.0024 0.0031 0.0028 0.0036 0.0036 0.0042 0.0024 0.0031 0.0', 8, 0, 0.0056)\n",
      "\t\u001b[35m0.0069 0.0078 0.0024 0.0047 0.0 0.0019 0.0037 0.0036 0.0039 0.0047\u001b[0m\n",
      "\t\t('0.0014 0.0021 0.0028 0.0028 0.0036 0.0036 0.0043 0.0024 0.003 0.0', 7, 1, 0.0053)\n",
      "\t\u001b[35m0.0059 0.0062 0.003 0.003 0.0 0.0017 0.0039 0.0047 0.0044 0.0054\u001b[0m\n",
      "\t\t('0.0014 0.002 0.0026 0.0025 0.0033 0.0033 0.0039 0.0018 0.0024 0.0', 6, 2, 0.0054)\n",
      "\u001b[35m40\u001b[0m\n",
      "\t\u001b[35m0.0027 0.0023 0.0052 0.0052 0.0064 0.0066 0.0081 0.0024 0.0043 0.0\u001b[0m\n",
      "\t\t('0.0034 0.004 0.002 0.0026 0.0 0.0014 0.0022 0.0028 0.0026 0.0034', 8, 1, 0.0055)\n",
      "\t\u001b[35m0.0015 0.0024 0.0031 0.0028 0.0036 0.0036 0.0042 0.0024 0.0031 0.0\u001b[0m\n",
      "\t\t('0.0036 0.0042 0.0024 0.0031 0.0 0.0015 0.0024 0.0031 0.0028 0.0036', 9, 0, 0.0056)\n",
      "\t\u001b[35m0.0022 0.0031 0.0042 0.0028 0.0048 0.0044 0.0055 0.0034 0.003 0.0\u001b[0m\n",
      "\t\t('0.0035 0.0041 0.002 0.0026 0.0 0.0015 0.0022 0.0028 0.0026 0.0035', 7, 2, 0.0054)\n",
      "\u001b[35m45\u001b[0m\n",
      "\t\u001b[35m0.0041 0.0077 0.0026 0.0038 0.0 0.0023 0.0037 0.0051 0.0039 0.0034\u001b[0m\n",
      "\t\t('0.0015 0.0023 0.0029 0.0027 0.0035 0.0035 0.0041 0.0021 0.0028 0.0', 9, 1, 0.0057)\n",
      "\t\u001b[35m0.006 0.0041 0.0026 0.0043 0.0 0.0024 0.0032 0.0043 0.0034 0.0039\u001b[0m\n",
      "\t\t('0.0015 0.0024 0.0031 0.0028 0.0036 0.0036 0.0042 0.0024 0.0031 0.0', 8, 2, 0.0057)\n",
      "\t\u001b[35m0.0036 0.0042 0.0024 0.0031 0.0 0.0015 0.0024 0.0031 0.0028 0.0036\u001b[0m\n",
      "\t\t('0.0015 0.0024 0.0031 0.0028 0.0036 0.0036 0.0042 0.0024 0.0031 0.0', 10, 0, 0.0056)\n",
      "\u001b[35m50\u001b[0m\n",
      "\t\u001b[35m0.0015 0.0024 0.0031 0.0028 0.0036 0.0036 0.0042 0.0024 0.0031 0.0\u001b[0m\n",
      "\t\t('0.0036 0.0042 0.0024 0.0031 0.0 0.0015 0.0024 0.0031 0.0028 0.0036', 11, 0, 0.0056)\n",
      "\t\u001b[35m0.003 0.0046 0.006 0.0044 0.0061 0.0064 0.0066 0.004 0.0041 0.0\u001b[0m\n",
      "\t\t('0.0033 0.0039 0.0018 0.0024 0.0 0.0014 0.002 0.0027 0.0025 0.0033', 9, 2, 0.0055)\n",
      "\t\u001b[35m0.0029 0.0023 0.0037 0.0039 0.0063 0.0059 0.0078 0.0032 0.0031 0.0\u001b[0m\n",
      "\t\t('0.0035 0.0041 0.0021 0.0028 0.0 0.0015 0.0023 0.0029 0.0027 0.0035', 10, 1, 0.0054)\n",
      "\u001b[35m55\u001b[0m\n",
      "\t\u001b[35m0.0039 0.0076 0.0034 0.0034 0.0 0.0024 0.0028 0.004 0.0029 0.0043\u001b[0m\n",
      "\t\t('0.0015 0.0023 0.003 0.0027 0.0035 0.0035 0.0042 0.0022 0.0028 0.0', 11, 1, 0.0055)\n",
      "\t\u001b[35m0.0044 0.0076 0.0026 0.0025 0.0 0.0025 0.0038 0.0052 0.0047 0.006\u001b[0m\n",
      "\t\t('0.0013 0.002 0.0026 0.0025 0.0033 0.0033 0.0039 0.0018 0.0024 0.0', 10, 2, 0.0053)\n",
      "\t\u001b[35m0.0036 0.0042 0.0024 0.0031 0.0 0.0015 0.0024 0.0031 0.0028 0.0036\u001b[0m\n",
      "\t\t('0.0015 0.0024 0.0031 0.0028 0.0036 0.0036 0.0042 0.0024 0.0031 0.0', 12, 0, 0.0056)\n",
      "\u001b[35m60\u001b[0m\n",
      "\t\u001b[35m0.0019 0.0034 0.0058 0.0052 0.0048 0.0046 0.0063 0.0024 0.0053 0.0\u001b[0m\n",
      "\t\t('0.0036 0.0042 0.0024 0.003 0.0 0.0015 0.0024 0.003 0.0028 0.0036', 12, 1, 0.0057)\n",
      "\t\u001b[35m0.0016 0.0036 0.004 0.0034 0.0045 0.0034 0.0059 0.0022 0.0027 0.0\u001b[0m\n",
      "\t\t('0.0033 0.004 0.0018 0.0024 0.0 0.0014 0.002 0.0027 0.0025 0.0033', 11, 2, 0.0054)\n",
      "\u001b[35m65\u001b[0m\n",
      "\t\u001b[35m0.0056 0.0052 0.0032 0.0047 0.0 0.0017 0.0036 0.0035 0.0035 0.0059\u001b[0m\n",
      "\t\t('0.0014 0.0021 0.0028 0.0028 0.0037 0.0037 0.0043 0.0024 0.003 0.0', 12, 2, 0.0052)\n",
      "\u001b[1m\u001b[33mT_curr : \u001b[0m 60\n",
      "\u001b[1m\u001b[33mD_curr : \u001b[0m 0.0015 0.0024 0.0031 0.0028 0.0036 0.0036 0.0042 0.0024 0.0031 0.0\n",
      "\u001b[1m\u001b[33mDprime : \u001b[0m 0.0014 0.0021 0.0028 0.0028 0.0037 0.0037 0.0043 0.0024 0.003 0.0\n",
      "\u001b[1m\u001b[31mtotal execution time : \u001b[0m 0.067\n",
      "\n",
      "\u001b[5m\u001b[7m\u001b[35m  || ANALYSIS || \n",
      "\u001b[0m\n",
      "[70] Generated RAND_INF Dprime : 0.0015 0.0042 0.0037 0.0045 0.0069 0.0047 0.0047 0.0047 0.0035 0.0\n",
      "[65] Generated RAND_INF Dprime : 0.0063 0.0059 0.003 0.0031 0.0 0.0021 0.0042 0.0031 0.0029 0.0056\n",
      "\u001b[34mTO EXPLORE : \u001b[0m\n",
      "\u001b[32m60\u001b[0m -> 0.0015 0.0024 0.0031 0.0028 0.0036 0.0036 0.0042 0.0024 0.0031 0.0\n",
      "\u001b[32m65\u001b[0m -> 0.0063 0.0059 0.003 0.0031 0.0 0.0021 0.0042 0.0031 0.0029 0.0056\n",
      "\u001b[32m70\u001b[0m -> 0.0015 0.0042 0.0037 0.0045 0.0069 0.0047 0.0047 0.0047 0.0035 0.0\n",
      "\u001b[32m65\u001b[0m -> 0.0 0.0 0.0 0.0 0.0 0.0 0.0 0.0 0.0 0.0\n",
      "\u001b[32m70\u001b[0m -> 0.0 0.0 0.0 0.0 0.0 0.0 0.0 0.0 0.0 0.0\n",
      "\u001b[32m75\u001b[0m -> 0.0 0.0 0.0 0.0 0.0 0.0 0.0 0.0 0.0 0.0\n",
      "\u001b[32m80\u001b[0m -> 0.0 0.0 0.0 0.0 0.0 0.0 0.0 0.0 0.0 0.0\n",
      "\u001b[32m85\u001b[0m -> 0.0 0.0 0.0 0.0 0.0 0.0 0.0 0.0 0.0 0.0\n",
      "\u001b[32m90\u001b[0m -> 0.0 0.0 0.0 0.0 0.0 0.0 0.0 0.0 0.0 0.0\n",
      "\u001b[32m95\u001b[0m -> 0.0 0.0 0.0 0.0 0.0 0.0 0.0 0.0 0.0 0.0\n",
      "\u001b[5m\u001b[7m\u001b[31m--------------------------------------------  ROUND :  13   --------------------------------------------\n",
      "\u001b[0m\n",
      "\u001b[5m\u001b[7m\u001b[32m  || LAUNCHING || \n",
      "\u001b[0m\n",
      "\u001b[34mTO EXPLORE : \u001b[0m\n",
      "\u001b[32m60\u001b[0m -> 0.0015 0.0024 0.0031 0.0028 0.0036 0.0036 0.0042 0.0024 0.0031 0.0\n",
      "\u001b[32m65\u001b[0m -> 0.0063 0.0059 0.003 0.0031 0.0 0.0021 0.0042 0.0031 0.0029 0.0056\n",
      "\u001b[32m70\u001b[0m -> 0.0015 0.0042 0.0037 0.0045 0.0069 0.0047 0.0047 0.0047 0.0035 0.0\n",
      "\u001b[32m65\u001b[0m -> 0.0 0.0 0.0 0.0 0.0 0.0 0.0 0.0 0.0 0.0\n",
      "\u001b[32m70\u001b[0m -> 0.0 0.0 0.0 0.0 0.0 0.0 0.0 0.0 0.0 0.0\n",
      "\u001b[32m75\u001b[0m -> 0.0 0.0 0.0 0.0 0.0 0.0 0.0 0.0 0.0 0.0\n",
      "\u001b[32m80\u001b[0m -> 0.0 0.0 0.0 0.0 0.0 0.0 0.0 0.0 0.0 0.0\n",
      "\u001b[32m85\u001b[0m -> 0.0 0.0 0.0 0.0 0.0 0.0 0.0 0.0 0.0 0.0\n",
      "\u001b[32m90\u001b[0m -> 0.0 0.0 0.0 0.0 0.0 0.0 0.0 0.0 0.0 0.0\n",
      "\u001b[32m95\u001b[0m -> 0.0 0.0 0.0 0.0 0.0 0.0 0.0 0.0 0.0 0.0\n",
      "grisou-47 => 0 NPROCS = 10 MIN = 60 MAX = 65 N = 100 DELAY = '0.0015 0.0024 0.0031 0.0028 0.0036 0.0036 0.0042 0.0024 0.0031 0.0'\n",
      "\n",
      "grisou-48 => 1 NPROCS = 10 MIN = 65 MAX = 70 N = 100 DELAY = '0.0063 0.0059 0.003 0.0031 0.0 0.0021 0.0042 0.0031 0.0029 0.0056'\n",
      "\n",
      "grisou-5 => 2 NPROCS = 10 MIN = 70 MAX = 75 N = 100 DELAY = '0.0015 0.0042 0.0037 0.0045 0.0069 0.0047 0.0047 0.0047 0.0035 0.0'\n",
      "\n"
     ]
    },
    {
     "name": "stderr",
     "output_type": "stream",
     "text": [
      "/home/nezzine/.local/lib/python3.5/site-packages/rpy2/robjects/pandas2ri.py:191: FutureWarning: from_items is deprecated. Please use DataFrame.from_dict(dict(items), ...) instead. DataFrame.from_dict(OrderedDict(items)) may be used to preserve the key order.\n",
      "  res = PandasDataFrame.from_items(items)\n"
     ]
    },
    {
     "data": {
      "text/plain": [
       "'data.frame':\t70 obs. of  5 variables:\n",
       " $ Rank    : num  8 8 8 8 8 8 8 7 7 7 ...\n",
       " $ Start   : num  0 0.000217 0.001657 0.004936 0.00601 ...\n",
       " $ End     : num  0 0.00166 0.00494 0.00601 0.00764 ...\n",
       " $ Duration: num  0 0.00144 0.00328 0.00107 0.00163 ...\n",
       " $ State   : Factor w/ 3 levels \"PMPI_Bcast\",\"PMPI_Finalize\",..: 3 1 1 1 1 1 2 3 1 1 ...\n"
      ]
     },
     "metadata": {},
     "output_type": "display_data"
    },
    {
     "data": {
      "image/png": "[encoded data removed]"
     },
     "metadata": {},
     "output_type": "display_data"
    },
    {
     "name": "stderr",
     "output_type": "stream",
     "text": [
      "/home/nezzine/.local/lib/python3.5/site-packages/rpy2/robjects/pandas2ri.py:191: FutureWarning: from_items is deprecated. Please use DataFrame.from_dict(dict(items), ...) instead. DataFrame.from_dict(OrderedDict(items)) may be used to preserve the key order.\n",
      "  res = PandasDataFrame.from_items(items)\n"
     ]
    },
    {
     "data": {
      "text/plain": [
       "'data.frame':\t70 obs. of  5 variables:\n",
       " $ Rank    : num  8 8 8 8 8 8 8 7 7 7 ...\n",
       " $ Start   : num  0 0.000203 0.00222 0.003216 0.003842 ...\n",
       " $ End     : num  0 0.00222 0.00322 0.00384 0.00384 ...\n",
       " $ Duration: num  0 0.002017 0.000996 0.000626 0 ...\n",
       " $ State   : Factor w/ 3 levels \"PMPI_Bcast\",\"PMPI_Finalize\",..: 3 1 1 1 1 1 2 3 1 1 ...\n"
      ]
     },
     "metadata": {},
     "output_type": "display_data"
    },
    {
     "data": {
      "image/png": "[encoded data removed]"
     },
     "metadata": {},
     "output_type": "display_data"
    },
    {
     "name": "stderr",
     "output_type": "stream",
     "text": [
      "/home/nezzine/.local/lib/python3.5/site-packages/rpy2/robjects/pandas2ri.py:191: FutureWarning: from_items is deprecated. Please use DataFrame.from_dict(dict(items), ...) instead. DataFrame.from_dict(OrderedDict(items)) may be used to preserve the key order.\n",
      "  res = PandasDataFrame.from_items(items)\n"
     ]
    },
    {
     "data": {
      "text/plain": [
       "'data.frame':\t70 obs. of  5 variables:\n",
       " $ Rank    : num  8 8 8 8 8 8 8 7 7 7 ...\n",
       " $ Start   : num  0 0.000245 0.001608 0.004916 0.0059 ...\n",
       " $ End     : num  0 0.00161 0.00492 0.0059 0.00744 ...\n",
       " $ Duration: num  0 0.001363 0.003308 0.000984 0.001539 ...\n",
       " $ State   : Factor w/ 3 levels \"PMPI_Bcast\",\"PMPI_Finalize\",..: 3 1 1 1 1 1 2 3 1 1 ...\n"
      ]
     },
     "metadata": {},
     "output_type": "display_data"
    },
    {
     "data": {
      "image/png": "[encoded data removed]"
     },
     "metadata": {},
     "output_type": "display_data"
    },
    {
     "name": "stdout",
     "output_type": "stream",
     "text": [
      "\u001b[33mT_curr : \u001b[0m 60\n",
      "\u001b[33mD_curr : \u001b[0m 0.0015 0.0024 0.0031 0.0028 0.0036 0.0036 0.0042 0.0024 0.0031 0.0\n",
      "\u001b[33mDprime : \u001b[0m 0.0035 0.0041 0.0022 0.0028 0.0 0.0015 0.0023 0.0029 0.0027 0.0035\n",
      "\u001b[31mtotal execution time : \u001b[0m 0.067\n",
      "\n",
      "returning: 0.0015 0.0024 0.0031 0.0028 0.0036 0.0036 0.0042 0.0024 0.0031 0.0\n",
      "\u001b[5m\u001b[7m\u001b[31m\n",
      "  || RESULTS || \n",
      "\u001b[0m\n",
      "\u001b[34mTO EXPLORE : \u001b[0m\n",
      "\u001b[32m65\u001b[0m -> 0.0 0.0 0.0 0.0 0.0 0.0 0.0 0.0 0.0 0.0\n",
      "\u001b[32m70\u001b[0m -> 0.0 0.0 0.0 0.0 0.0 0.0 0.0 0.0 0.0 0.0\n",
      "\u001b[32m75\u001b[0m -> 0.0 0.0 0.0 0.0 0.0 0.0 0.0 0.0 0.0 0.0\n",
      "\u001b[32m80\u001b[0m -> 0.0 0.0 0.0 0.0 0.0 0.0 0.0 0.0 0.0 0.0\n",
      "\u001b[32m85\u001b[0m -> 0.0 0.0 0.0 0.0 0.0 0.0 0.0 0.0 0.0 0.0\n",
      "\u001b[32m90\u001b[0m -> 0.0 0.0 0.0 0.0 0.0 0.0 0.0 0.0 0.0 0.0\n",
      "\u001b[32m95\u001b[0m -> 0.0 0.0 0.0 0.0 0.0 0.0 0.0 0.0 0.0 0.0\n",
      "\u001b[35m0\u001b[0m\n",
      "\t\u001b[35m0.0 0.0 0.0 0.0 0.0 0.0 0.0 0.0 0.0 0.0\u001b[0m\n",
      "\t\t('0.0037 0.0043 0.0025 0.0031 0.0 0.0016 0.0025 0.0031 0.0028 0.0037', 1, 0, 0.0054)\n",
      "\u001b[35m5\u001b[0m\n",
      "\t\u001b[35m0.0037 0.0043 0.0025 0.0031 0.0 0.0016 0.0025 0.0031 0.0028 0.0037\u001b[0m\n",
      "\t\t('0.0015 0.0024 0.0031 0.0028 0.0036 0.0036 0.0042 0.0024 0.0031 0.0', 2, 0, 0.0056)\n",
      "\t\u001b[35m0.0 0.0 0.0 0.0 0.0 0.0 0.0 0.0 0.0 0.0\u001b[0m\n",
      "\t\t('0.0016 0.0025 0.0031 0.0028 0.0037 0.0037 0.0043 0.0025 0.0031 0.0', 1, 1, 0.0054)\n",
      "\u001b[35m10\u001b[0m\n",
      "\t\u001b[35m0.0028 0.003 0.0035 0.0043 0.005 0.0043 0.0057 0.0028 0.0047 0.0\u001b[0m\n",
      "\t\t('0.0036 0.0042 0.0023 0.003 0.0 0.0014 0.0021 0.0027 0.0028 0.0036', 2, 1, 0.0053)\n",
      "\t\u001b[35m0.0015 0.0024 0.0031 0.0028 0.0036 0.0036 0.0042 0.0024 0.0031 0.0\u001b[0m\n",
      "\t\t('0.0036 0.0042 0.0024 0.0031 0.0 0.0015 0.0024 0.0031 0.0028 0.0036', 3, 0, 0.0056)\n",
      "\t\u001b[35m0.0 0.0 0.0 0.0 0.0 0.0 0.0 0.0 0.0 0.0\u001b[0m\n",
      "\t\t('0.0037 0.0043 0.0025 0.0031 0.0 0.0016 0.0025 0.0031 0.0028 0.0037', 1, 2, 0.0054)\n",
      "\u001b[35m15\u001b[0m\n",
      "\t\u001b[35m0.0036 0.0042 0.0024 0.0031 0.0 0.0015 0.0024 0.0031 0.0028 0.0036\u001b[0m\n",
      "\t\t('0.0015 0.0024 0.0031 0.0028 0.0036 0.0036 0.0042 0.0024 0.0031 0.0', 4, 0, 0.0056)\n",
      "\t\u001b[35m0.0063 0.0078 0.0031 0.0045 0.0 0.0026 0.0023 0.0043 0.0034 0.0066\u001b[0m\n",
      "\t\t('0.0015 0.0023 0.0029 0.0027 0.0036 0.0036 0.0042 0.0024 0.003 0.0', 3, 1, 0.0055)\n",
      "\t\u001b[35m0.0065 0.0083 0.0044 0.0044 0.0 0.0023 0.0043 0.0033 0.0031 0.0072\u001b[0m\n",
      "\t\t('0.0014 0.0021 0.0027 0.0029 0.0038 0.0038 0.0044 0.0024 0.003 0.0', 2, 2, 0.0049)\n",
      "\u001b[35m20\u001b[0m\n",
      "\t\u001b[35m0.002 0.0034 0.0043 0.004 0.0043 0.0049 0.0069 0.0039 0.0032 0.0\u001b[0m\n",
      "\t\t('0.0034 0.004 0.0019 0.0026 0.0 0.0014 0.0022 0.0028 0.0026 0.0034', 4, 1, 0.0055)\n",
      "\t\u001b[35m0.0015 0.0024 0.0031 0.0028 0.0036 0.0036 0.0042 0.0024 0.0031 0.0\u001b[0m\n",
      "\t\t('0.0036 0.0042 0.0024 0.0031 0.0 0.0015 0.0024 0.0031 0.0028 0.0036', 5, 0, 0.0056)\n",
      "\t\u001b[35m0.0026 0.0023 0.0028 0.0049 0.0066 0.0076 0.0077 0.0029 0.0035 0.0\u001b[0m\n",
      "\t\t('0.0036 0.0043 0.0024 0.003 0.0 0.0015 0.0022 0.0029 0.0028 0.0036', 3, 2, 0.0052)\n",
      "\u001b[35m25\u001b[0m\n",
      "\t\u001b[35m0.004 0.0079 0.0044 0.0047 0.0 0.002 0.0027 0.0054 0.0038 0.0059\u001b[0m\n",
      "\t\t('0.0015 0.0023 0.0029 0.0027 0.0035 0.0035 0.0041 0.0021 0.0028 0.0', 4, 2, 0.0055)\n",
      "\t\u001b[35m0.0064 0.0073 0.0031 0.0043 0.0 0.0027 0.0026 0.0039 0.0041 0.0036\u001b[0m\n",
      "\t\t('0.0015 0.0024 0.003 0.0028 0.0036 0.0036 0.0043 0.0025 0.0031 0.0', 5, 1, 0.0056)\n",
      "\t\u001b[35m0.0036 0.0042 0.0024 0.0031 0.0 0.0015 0.0024 0.0031 0.0028 0.0036\u001b[0m\n",
      "\t\t('0.0015 0.0024 0.0031 0.0028 0.0036 0.0036 0.0042 0.0024 0.0031 0.0', 6, 0, 0.0056)\n",
      "\u001b[35m30\u001b[0m\n",
      "\t\u001b[35m0.0015 0.0024 0.0031 0.0028 0.0036 0.0036 0.0042 0.0024 0.0031 0.0\u001b[0m\n",
      "\t\t('0.0036 0.0042 0.0024 0.0031 0.0 0.0015 0.0024 0.0031 0.0028 0.0036', 7, 0, 0.0056)\n",
      "\t\u001b[35m0.0022 0.0037 0.0048 0.0049 0.006 0.0043 0.0042 0.0031 0.0035 0.0\u001b[0m\n",
      "\t\t('0.0034 0.0041 0.0019 0.0026 0.0 0.0015 0.0022 0.0028 0.0026 0.0034', 5, 2, 0.0054)\n",
      "\t\u001b[35m0.0017 0.0038 0.005 0.0047 0.0042 0.0053 0.0075 0.0037 0.0039 0.0\u001b[0m\n",
      "\t\t('0.0035 0.0041 0.0021 0.0028 0.0 0.0015 0.0023 0.003 0.0027 0.0035', 6, 1, 0.0056)\n",
      "\u001b[35m35\u001b[0m\n",
      "\t\u001b[35m0.0036 0.0042 0.0024 0.0031 0.0 0.0015 0.0024 0.0031 0.0028 0.0036\u001b[0m\n",
      "\t\t('0.0015 0.0024 0.0031 0.0028 0.0036 0.0036 0.0042 0.0024 0.0031 0.0', 8, 0, 0.0056)\n",
      "\t\u001b[35m0.0069 0.0078 0.0024 0.0047 0.0 0.0019 0.0037 0.0036 0.0039 0.0047\u001b[0m\n",
      "\t\t('0.0014 0.0021 0.0028 0.0028 0.0036 0.0036 0.0043 0.0024 0.003 0.0', 7, 1, 0.0053)\n",
      "\t\u001b[35m0.0059 0.0062 0.003 0.003 0.0 0.0017 0.0039 0.0047 0.0044 0.0054\u001b[0m\n",
      "\t\t('0.0014 0.002 0.0026 0.0025 0.0033 0.0033 0.0039 0.0018 0.0024 0.0', 6, 2, 0.0054)\n",
      "\u001b[35m40\u001b[0m\n",
      "\t\u001b[35m0.0027 0.0023 0.0052 0.0052 0.0064 0.0066 0.0081 0.0024 0.0043 0.0\u001b[0m\n",
      "\t\t('0.0034 0.004 0.002 0.0026 0.0 0.0014 0.0022 0.0028 0.0026 0.0034', 8, 1, 0.0055)\n",
      "\t\u001b[35m0.0015 0.0024 0.0031 0.0028 0.0036 0.0036 0.0042 0.0024 0.0031 0.0\u001b[0m\n",
      "\t\t('0.0036 0.0042 0.0024 0.0031 0.0 0.0015 0.0024 0.0031 0.0028 0.0036', 9, 0, 0.0056)\n",
      "\t\u001b[35m0.0022 0.0031 0.0042 0.0028 0.0048 0.0044 0.0055 0.0034 0.003 0.0\u001b[0m\n",
      "\t\t('0.0035 0.0041 0.002 0.0026 0.0 0.0015 0.0022 0.0028 0.0026 0.0035', 7, 2, 0.0054)\n",
      "\u001b[35m45\u001b[0m\n",
      "\t\u001b[35m0.0041 0.0077 0.0026 0.0038 0.0 0.0023 0.0037 0.0051 0.0039 0.0034\u001b[0m\n",
      "\t\t('0.0015 0.0023 0.0029 0.0027 0.0035 0.0035 0.0041 0.0021 0.0028 0.0', 9, 1, 0.0057)\n",
      "\t\u001b[35m0.006 0.0041 0.0026 0.0043 0.0 0.0024 0.0032 0.0043 0.0034 0.0039\u001b[0m\n",
      "\t\t('0.0015 0.0024 0.0031 0.0028 0.0036 0.0036 0.0042 0.0024 0.0031 0.0', 8, 2, 0.0057)\n",
      "\t\u001b[35m0.0036 0.0042 0.0024 0.0031 0.0 0.0015 0.0024 0.0031 0.0028 0.0036\u001b[0m\n",
      "\t\t('0.0015 0.0024 0.0031 0.0028 0.0036 0.0036 0.0042 0.0024 0.0031 0.0', 10, 0, 0.0056)\n",
      "\u001b[35m50\u001b[0m\n",
      "\t\u001b[35m0.0015 0.0024 0.0031 0.0028 0.0036 0.0036 0.0042 0.0024 0.0031 0.0\u001b[0m\n",
      "\t\t('0.0036 0.0042 0.0024 0.0031 0.0 0.0015 0.0024 0.0031 0.0028 0.0036', 11, 0, 0.0056)\n",
      "\t\u001b[35m0.003 0.0046 0.006 0.0044 0.0061 0.0064 0.0066 0.004 0.0041 0.0\u001b[0m\n",
      "\t\t('0.0033 0.0039 0.0018 0.0024 0.0 0.0014 0.002 0.0027 0.0025 0.0033', 9, 2, 0.0055)\n",
      "\t\u001b[35m0.0029 0.0023 0.0037 0.0039 0.0063 0.0059 0.0078 0.0032 0.0031 0.0\u001b[0m\n",
      "\t\t('0.0035 0.0041 0.0021 0.0028 0.0 0.0015 0.0023 0.0029 0.0027 0.0035', 10, 1, 0.0054)\n",
      "\u001b[35m55\u001b[0m\n",
      "\t\u001b[35m0.0039 0.0076 0.0034 0.0034 0.0 0.0024 0.0028 0.004 0.0029 0.0043\u001b[0m\n",
      "\t\t('0.0015 0.0023 0.003 0.0027 0.0035 0.0035 0.0042 0.0022 0.0028 0.0', 11, 1, 0.0055)\n",
      "\t\u001b[35m0.0044 0.0076 0.0026 0.0025 0.0 0.0025 0.0038 0.0052 0.0047 0.006\u001b[0m\n",
      "\t\t('0.0013 0.002 0.0026 0.0025 0.0033 0.0033 0.0039 0.0018 0.0024 0.0', 10, 2, 0.0053)\n",
      "\t\u001b[35m0.0036 0.0042 0.0024 0.0031 0.0 0.0015 0.0024 0.0031 0.0028 0.0036\u001b[0m\n",
      "\t\t('0.0015 0.0024 0.0031 0.0028 0.0036 0.0036 0.0042 0.0024 0.0031 0.0', 12, 0, 0.0056)\n",
      "\u001b[35m60\u001b[0m\n",
      "\t\u001b[35m0.0019 0.0034 0.0058 0.0052 0.0048 0.0046 0.0063 0.0024 0.0053 0.0\u001b[0m\n",
      "\t\t('0.0036 0.0042 0.0024 0.003 0.0 0.0015 0.0024 0.003 0.0028 0.0036', 12, 1, 0.0057)\n",
      "\t\u001b[35m0.0015 0.0024 0.0031 0.0028 0.0036 0.0036 0.0042 0.0024 0.0031 0.0\u001b[0m\n",
      "\t\t('0.0036 0.0042 0.0024 0.0031 0.0 0.0015 0.0024 0.0031 0.0028 0.0036', 13, 0, 0.0056)\n",
      "\t\u001b[35m0.0016 0.0036 0.004 0.0034 0.0045 0.0034 0.0059 0.0022 0.0027 0.0\u001b[0m\n",
      "\t\t('0.0033 0.004 0.0018 0.0024 0.0 0.0014 0.002 0.0027 0.0025 0.0033', 11, 2, 0.0054)\n",
      "\u001b[35m65\u001b[0m\n",
      "\t\u001b[35m0.0056 0.0052 0.0032 0.0047 0.0 0.0017 0.0036 0.0035 0.0035 0.0059\u001b[0m\n",
      "\t\t('0.0014 0.0021 0.0028 0.0028 0.0037 0.0037 0.0043 0.0024 0.003 0.0', 12, 2, 0.0052)\n",
      "\t\u001b[35m0.0063 0.0059 0.003 0.0031 0.0 0.0021 0.0042 0.0031 0.0029 0.0056\u001b[0m\n",
      "\t\t('0.0015 0.0024 0.0031 0.0028 0.0036 0.0036 0.0043 0.0024 0.0031 0.0', 13, 1, 0.0054)\n",
      "\u001b[35m70\u001b[0m\n",
      "\t\u001b[35m0.0015 0.0042 0.0037 0.0045 0.0069 0.0047 0.0047 0.0047 0.0035 0.0\u001b[0m\n",
      "\t\t('0.0035 0.0041 0.0022 0.0028 0.0 0.0015 0.0023 0.0029 0.0027 0.0035', 13, 2, 0.0054)\n",
      "\u001b[1m\u001b[33mT_curr : \u001b[0m 65\n",
      "\u001b[1m\u001b[33mD_curr : \u001b[0m 0.0036 0.0042 0.0024 0.0031 0.0 0.0015 0.0024 0.0031 0.0028 0.0036\n",
      "\u001b[1m\u001b[33mDprime : \u001b[0m 0.0035 0.0041 0.0022 0.0028 0.0 0.0015 0.0023 0.0029 0.0027 0.0035\n",
      "\u001b[1m\u001b[31mtotal execution time : \u001b[0m 0.0726\n",
      "\n",
      "\u001b[5m\u001b[7m\u001b[35m  || ANALYSIS || \n",
      "\u001b[0m\n",
      "[75] Generated RAND_INF Dprime : 0.0051 0.0063 0.0037 0.0042 0.0 0.002 0.0041 0.0037 0.0035 0.0053\n",
      "[70] Generated RAND_INF Dprime : 0.0022 0.0035 0.0054 0.0044 0.0067 0.006 0.005 0.0042 0.0052 0.0\n",
      "\u001b[34mTO EXPLORE : \u001b[0m\n",
      "\u001b[32m65\u001b[0m -> 0.0036 0.0042 0.0024 0.0031 0.0 0.0015 0.0024 0.0031 0.0028 0.0036\n",
      "\u001b[32m70\u001b[0m -> 0.0022 0.0035 0.0054 0.0044 0.0067 0.006 0.005 0.0042 0.0052 0.0\n",
      "\u001b[32m75\u001b[0m -> 0.0051 0.0063 0.0037 0.0042 0.0 0.002 0.0041 0.0037 0.0035 0.0053\n",
      "\u001b[32m70\u001b[0m -> 0.0 0.0 0.0 0.0 0.0 0.0 0.0 0.0 0.0 0.0\n",
      "\u001b[32m75\u001b[0m -> 0.0 0.0 0.0 0.0 0.0 0.0 0.0 0.0 0.0 0.0\n",
      "\u001b[32m80\u001b[0m -> 0.0 0.0 0.0 0.0 0.0 0.0 0.0 0.0 0.0 0.0\n",
      "\u001b[32m85\u001b[0m -> 0.0 0.0 0.0 0.0 0.0 0.0 0.0 0.0 0.0 0.0\n",
      "\u001b[32m90\u001b[0m -> 0.0 0.0 0.0 0.0 0.0 0.0 0.0 0.0 0.0 0.0\n",
      "\u001b[32m95\u001b[0m -> 0.0 0.0 0.0 0.0 0.0 0.0 0.0 0.0 0.0 0.0\n",
      "\u001b[5m\u001b[7m\u001b[31m--------------------------------------------  ROUND :  14   --------------------------------------------\n",
      "\u001b[0m\n",
      "\u001b[5m\u001b[7m\u001b[32m  || LAUNCHING || \n",
      "\u001b[0m\n",
      "\u001b[34mTO EXPLORE : \u001b[0m\n",
      "\u001b[32m65\u001b[0m -> 0.0036 0.0042 0.0024 0.0031 0.0 0.0015 0.0024 0.0031 0.0028 0.0036\n",
      "\u001b[32m70\u001b[0m -> 0.0022 0.0035 0.0054 0.0044 0.0067 0.006 0.005 0.0042 0.0052 0.0\n",
      "\u001b[32m75\u001b[0m -> 0.0051 0.0063 0.0037 0.0042 0.0 0.002 0.0041 0.0037 0.0035 0.0053\n",
      "\u001b[32m70\u001b[0m -> 0.0 0.0 0.0 0.0 0.0 0.0 0.0 0.0 0.0 0.0\n",
      "\u001b[32m75\u001b[0m -> 0.0 0.0 0.0 0.0 0.0 0.0 0.0 0.0 0.0 0.0\n",
      "\u001b[32m80\u001b[0m -> 0.0 0.0 0.0 0.0 0.0 0.0 0.0 0.0 0.0 0.0\n",
      "\u001b[32m85\u001b[0m -> 0.0 0.0 0.0 0.0 0.0 0.0 0.0 0.0 0.0 0.0\n",
      "\u001b[32m90\u001b[0m -> 0.0 0.0 0.0 0.0 0.0 0.0 0.0 0.0 0.0 0.0\n",
      "\u001b[32m95\u001b[0m -> 0.0 0.0 0.0 0.0 0.0 0.0 0.0 0.0 0.0 0.0\n",
      "grisou-47 => 0 NPROCS = 10 MIN = 65 MAX = 70 N = 100 DELAY = '0.0036 0.0042 0.0024 0.0031 0.0 0.0015 0.0024 0.0031 0.0028 0.0036'\n",
      "\n",
      "grisou-48 => 1 NPROCS = 10 MIN = 70 MAX = 75 N = 100 DELAY = '0.0022 0.0035 0.0054 0.0044 0.0067 0.006 0.005 0.0042 0.0052 0.0'\n",
      "\n",
      "grisou-5 => 2 NPROCS = 10 MIN = 75 MAX = 80 N = 100 DELAY = '0.0051 0.0063 0.0037 0.0042 0.0 0.002 0.0041 0.0037 0.0035 0.0053'\n",
      "\n"
     ]
    },
    {
     "name": "stderr",
     "output_type": "stream",
     "text": [
      "/home/nezzine/.local/lib/python3.5/site-packages/rpy2/robjects/pandas2ri.py:191: FutureWarning: from_items is deprecated. Please use DataFrame.from_dict(dict(items), ...) instead. DataFrame.from_dict(OrderedDict(items)) may be used to preserve the key order.\n",
      "  res = PandasDataFrame.from_items(items)\n"
     ]
    },
    {
     "data": {
      "text/plain": [
       "'data.frame':\t70 obs. of  5 variables:\n",
       " $ Rank    : num  8 8 8 8 8 8 8 7 7 7 ...\n",
       " $ Start   : num  0 0.000196 0.002283 0.003331 0.003957 ...\n",
       " $ End     : num  0 0.00228 0.00333 0.00396 0.00396 ...\n",
       " $ Duration: num  0 0.002087 0.001048 0.000626 0 ...\n",
       " $ State   : Factor w/ 3 levels \"PMPI_Bcast\",\"PMPI_Finalize\",..: 3 1 1 1 1 1 2 3 1 1 ...\n"
      ]
     },
     "metadata": {},
     "output_type": "display_data"
    },
    {
     "data": {
      "image/png": "[encoded data removed]"
     },
     "metadata": {},
     "output_type": "display_data"
    },
    {
     "name": "stderr",
     "output_type": "stream",
     "text": [
      "/home/nezzine/.local/lib/python3.5/site-packages/rpy2/robjects/pandas2ri.py:191: FutureWarning: from_items is deprecated. Please use DataFrame.from_dict(dict(items), ...) instead. DataFrame.from_dict(OrderedDict(items)) may be used to preserve the key order.\n",
      "  res = PandasDataFrame.from_items(items)\n"
     ]
    },
    {
     "data": {
      "text/plain": [
       "'data.frame':\t70 obs. of  5 variables:\n",
       " $ Rank    : num  8 8 8 8 8 8 8 7 7 7 ...\n",
       " $ Start   : num  0 0.000364 0.001721 0.005009 0.006054 ...\n",
       " $ End     : num  0 0.00172 0.00501 0.00605 0.00765 ...\n",
       " $ Duration: num  0 0.00136 0.00329 0.00104 0.0016 ...\n",
       " $ State   : Factor w/ 3 levels \"PMPI_Bcast\",\"PMPI_Finalize\",..: 3 1 1 1 1 1 2 3 1 1 ...\n"
      ]
     },
     "metadata": {},
     "output_type": "display_data"
    },
    {
     "data": {
      "image/png": "[encoded data removed]"
     },
     "metadata": {},
     "output_type": "display_data"
    },
    {
     "name": "stderr",
     "output_type": "stream",
     "text": [
      "/home/nezzine/.local/lib/python3.5/site-packages/rpy2/robjects/pandas2ri.py:191: FutureWarning: from_items is deprecated. Please use DataFrame.from_dict(dict(items), ...) instead. DataFrame.from_dict(OrderedDict(items)) may be used to preserve the key order.\n",
      "  res = PandasDataFrame.from_items(items)\n"
     ]
    },
    {
     "data": {
      "text/plain": [
       "'data.frame':\t70 obs. of  5 variables:\n",
       " $ Rank    : num  8 8 8 8 8 8 8 7 7 7 ...\n",
       " $ Start   : num  0 0.000245 0.002287 0.003247 0.003873 ...\n",
       " $ End     : num  0 0.00229 0.00325 0.00387 0.00387 ...\n",
       " $ Duration: num  0 0.002042 0.00096 0.000626 0 ...\n",
       " $ State   : Factor w/ 3 levels \"PMPI_Bcast\",\"PMPI_Finalize\",..: 3 1 1 1 1 1 2 3 1 1 ...\n"
      ]
     },
     "metadata": {},
     "output_type": "display_data"
    },
    {
     "data": {
      "image/png": "[encoded data removed]"
     },
     "metadata": {},
     "output_type": "display_data"
    },
    {
     "name": "stdout",
     "output_type": "stream",
     "text": [
      "\u001b[33mT_curr : \u001b[0m 65\n",
      "\u001b[33mD_curr : \u001b[0m 0.0036 0.0042 0.0024 0.0031 0.0 0.0015 0.0024 0.0031 0.0028 0.0036\n",
      "\u001b[33mDprime : \u001b[0m 0.0014 0.0021 0.0027 0.0027 0.0036 0.0036 0.0042 0.0023 0.0029 0.0\n",
      "\u001b[31mtotal execution time : \u001b[0m 0.0726\n",
      "\n",
      "returning: 0.0036 0.0042 0.0024 0.0031 0.0 0.0015 0.0024 0.0031 0.0028 0.0036\n",
      "\u001b[5m\u001b[7m\u001b[31m\n",
      "  || RESULTS || \n",
      "\u001b[0m\n",
      "\u001b[34mTO EXPLORE : \u001b[0m\n",
      "\u001b[32m70\u001b[0m -> 0.0 0.0 0.0 0.0 0.0 0.0 0.0 0.0 0.0 0.0\n",
      "\u001b[32m75\u001b[0m -> 0.0 0.0 0.0 0.0 0.0 0.0 0.0 0.0 0.0 0.0\n",
      "\u001b[32m80\u001b[0m -> 0.0 0.0 0.0 0.0 0.0 0.0 0.0 0.0 0.0 0.0\n",
      "\u001b[32m85\u001b[0m -> 0.0 0.0 0.0 0.0 0.0 0.0 0.0 0.0 0.0 0.0\n",
      "\u001b[32m90\u001b[0m -> 0.0 0.0 0.0 0.0 0.0 0.0 0.0 0.0 0.0 0.0\n",
      "\u001b[32m95\u001b[0m -> 0.0 0.0 0.0 0.0 0.0 0.0 0.0 0.0 0.0 0.0\n",
      "\u001b[35m0\u001b[0m\n",
      "\t\u001b[35m0.0 0.0 0.0 0.0 0.0 0.0 0.0 0.0 0.0 0.0\u001b[0m\n",
      "\t\t('0.0037 0.0043 0.0025 0.0031 0.0 0.0016 0.0025 0.0031 0.0028 0.0037', 1, 0, 0.0054)\n",
      "\u001b[35m5\u001b[0m\n",
      "\t\u001b[35m0.0037 0.0043 0.0025 0.0031 0.0 0.0016 0.0025 0.0031 0.0028 0.0037\u001b[0m\n",
      "\t\t('0.0015 0.0024 0.0031 0.0028 0.0036 0.0036 0.0042 0.0024 0.0031 0.0', 2, 0, 0.0056)\n",
      "\t\u001b[35m0.0 0.0 0.0 0.0 0.0 0.0 0.0 0.0 0.0 0.0\u001b[0m\n",
      "\t\t('0.0016 0.0025 0.0031 0.0028 0.0037 0.0037 0.0043 0.0025 0.0031 0.0', 1, 1, 0.0054)\n",
      "\u001b[35m10\u001b[0m\n",
      "\t\u001b[35m0.0028 0.003 0.0035 0.0043 0.005 0.0043 0.0057 0.0028 0.0047 0.0\u001b[0m\n",
      "\t\t('0.0036 0.0042 0.0023 0.003 0.0 0.0014 0.0021 0.0027 0.0028 0.0036', 2, 1, 0.0053)\n",
      "\t\u001b[35m0.0015 0.0024 0.0031 0.0028 0.0036 0.0036 0.0042 0.0024 0.0031 0.0\u001b[0m\n",
      "\t\t('0.0036 0.0042 0.0024 0.0031 0.0 0.0015 0.0024 0.0031 0.0028 0.0036', 3, 0, 0.0056)\n",
      "\t\u001b[35m0.0 0.0 0.0 0.0 0.0 0.0 0.0 0.0 0.0 0.0\u001b[0m\n",
      "\t\t('0.0037 0.0043 0.0025 0.0031 0.0 0.0016 0.0025 0.0031 0.0028 0.0037', 1, 2, 0.0054)\n",
      "\u001b[35m15\u001b[0m\n",
      "\t\u001b[35m0.0036 0.0042 0.0024 0.0031 0.0 0.0015 0.0024 0.0031 0.0028 0.0036\u001b[0m\n",
      "\t\t('0.0015 0.0024 0.0031 0.0028 0.0036 0.0036 0.0042 0.0024 0.0031 0.0', 4, 0, 0.0056)\n",
      "\t\u001b[35m0.0063 0.0078 0.0031 0.0045 0.0 0.0026 0.0023 0.0043 0.0034 0.0066\u001b[0m\n",
      "\t\t('0.0015 0.0023 0.0029 0.0027 0.0036 0.0036 0.0042 0.0024 0.003 0.0', 3, 1, 0.0055)\n",
      "\t\u001b[35m0.0065 0.0083 0.0044 0.0044 0.0 0.0023 0.0043 0.0033 0.0031 0.0072\u001b[0m\n",
      "\t\t('0.0014 0.0021 0.0027 0.0029 0.0038 0.0038 0.0044 0.0024 0.003 0.0', 2, 2, 0.0049)\n",
      "\u001b[35m20\u001b[0m\n",
      "\t\u001b[35m0.002 0.0034 0.0043 0.004 0.0043 0.0049 0.0069 0.0039 0.0032 0.0\u001b[0m\n",
      "\t\t('0.0034 0.004 0.0019 0.0026 0.0 0.0014 0.0022 0.0028 0.0026 0.0034', 4, 1, 0.0055)\n",
      "\t\u001b[35m0.0015 0.0024 0.0031 0.0028 0.0036 0.0036 0.0042 0.0024 0.0031 0.0\u001b[0m\n",
      "\t\t('0.0036 0.0042 0.0024 0.0031 0.0 0.0015 0.0024 0.0031 0.0028 0.0036', 5, 0, 0.0056)\n",
      "\t\u001b[35m0.0026 0.0023 0.0028 0.0049 0.0066 0.0076 0.0077 0.0029 0.0035 0.0\u001b[0m\n",
      "\t\t('0.0036 0.0043 0.0024 0.003 0.0 0.0015 0.0022 0.0029 0.0028 0.0036', 3, 2, 0.0052)\n",
      "\u001b[35m25\u001b[0m\n",
      "\t\u001b[35m0.004 0.0079 0.0044 0.0047 0.0 0.002 0.0027 0.0054 0.0038 0.0059\u001b[0m\n",
      "\t\t('0.0015 0.0023 0.0029 0.0027 0.0035 0.0035 0.0041 0.0021 0.0028 0.0', 4, 2, 0.0055)\n",
      "\t\u001b[35m0.0064 0.0073 0.0031 0.0043 0.0 0.0027 0.0026 0.0039 0.0041 0.0036\u001b[0m\n",
      "\t\t('0.0015 0.0024 0.003 0.0028 0.0036 0.0036 0.0043 0.0025 0.0031 0.0', 5, 1, 0.0056)\n",
      "\t\u001b[35m0.0036 0.0042 0.0024 0.0031 0.0 0.0015 0.0024 0.0031 0.0028 0.0036\u001b[0m\n",
      "\t\t('0.0015 0.0024 0.0031 0.0028 0.0036 0.0036 0.0042 0.0024 0.0031 0.0', 6, 0, 0.0056)\n",
      "\u001b[35m30\u001b[0m\n",
      "\t\u001b[35m0.0015 0.0024 0.0031 0.0028 0.0036 0.0036 0.0042 0.0024 0.0031 0.0\u001b[0m\n",
      "\t\t('0.0036 0.0042 0.0024 0.0031 0.0 0.0015 0.0024 0.0031 0.0028 0.0036', 7, 0, 0.0056)\n",
      "\t\u001b[35m0.0022 0.0037 0.0048 0.0049 0.006 0.0043 0.0042 0.0031 0.0035 0.0\u001b[0m\n",
      "\t\t('0.0034 0.0041 0.0019 0.0026 0.0 0.0015 0.0022 0.0028 0.0026 0.0034', 5, 2, 0.0054)\n",
      "\t\u001b[35m0.0017 0.0038 0.005 0.0047 0.0042 0.0053 0.0075 0.0037 0.0039 0.0\u001b[0m\n",
      "\t\t('0.0035 0.0041 0.0021 0.0028 0.0 0.0015 0.0023 0.003 0.0027 0.0035', 6, 1, 0.0056)\n",
      "\u001b[35m35\u001b[0m\n",
      "\t\u001b[35m0.0036 0.0042 0.0024 0.0031 0.0 0.0015 0.0024 0.0031 0.0028 0.0036\u001b[0m\n",
      "\t\t('0.0015 0.0024 0.0031 0.0028 0.0036 0.0036 0.0042 0.0024 0.0031 0.0', 8, 0, 0.0056)\n",
      "\t\u001b[35m0.0069 0.0078 0.0024 0.0047 0.0 0.0019 0.0037 0.0036 0.0039 0.0047\u001b[0m\n",
      "\t\t('0.0014 0.0021 0.0028 0.0028 0.0036 0.0036 0.0043 0.0024 0.003 0.0', 7, 1, 0.0053)\n",
      "\t\u001b[35m0.0059 0.0062 0.003 0.003 0.0 0.0017 0.0039 0.0047 0.0044 0.0054\u001b[0m\n",
      "\t\t('0.0014 0.002 0.0026 0.0025 0.0033 0.0033 0.0039 0.0018 0.0024 0.0', 6, 2, 0.0054)\n",
      "\u001b[35m40\u001b[0m\n",
      "\t\u001b[35m0.0027 0.0023 0.0052 0.0052 0.0064 0.0066 0.0081 0.0024 0.0043 0.0\u001b[0m\n",
      "\t\t('0.0034 0.004 0.002 0.0026 0.0 0.0014 0.0022 0.0028 0.0026 0.0034', 8, 1, 0.0055)\n",
      "\t\u001b[35m0.0015 0.0024 0.0031 0.0028 0.0036 0.0036 0.0042 0.0024 0.0031 0.0\u001b[0m\n",
      "\t\t('0.0036 0.0042 0.0024 0.0031 0.0 0.0015 0.0024 0.0031 0.0028 0.0036', 9, 0, 0.0056)\n",
      "\t\u001b[35m0.0022 0.0031 0.0042 0.0028 0.0048 0.0044 0.0055 0.0034 0.003 0.0\u001b[0m\n",
      "\t\t('0.0035 0.0041 0.002 0.0026 0.0 0.0015 0.0022 0.0028 0.0026 0.0035', 7, 2, 0.0054)\n",
      "\u001b[35m45\u001b[0m\n",
      "\t\u001b[35m0.0041 0.0077 0.0026 0.0038 0.0 0.0023 0.0037 0.0051 0.0039 0.0034\u001b[0m\n",
      "\t\t('0.0015 0.0023 0.0029 0.0027 0.0035 0.0035 0.0041 0.0021 0.0028 0.0', 9, 1, 0.0057)\n",
      "\t\u001b[35m0.006 0.0041 0.0026 0.0043 0.0 0.0024 0.0032 0.0043 0.0034 0.0039\u001b[0m\n",
      "\t\t('0.0015 0.0024 0.0031 0.0028 0.0036 0.0036 0.0042 0.0024 0.0031 0.0', 8, 2, 0.0057)\n",
      "\t\u001b[35m0.0036 0.0042 0.0024 0.0031 0.0 0.0015 0.0024 0.0031 0.0028 0.0036\u001b[0m\n",
      "\t\t('0.0015 0.0024 0.0031 0.0028 0.0036 0.0036 0.0042 0.0024 0.0031 0.0', 10, 0, 0.0056)\n",
      "\u001b[35m50\u001b[0m\n",
      "\t\u001b[35m0.0015 0.0024 0.0031 0.0028 0.0036 0.0036 0.0042 0.0024 0.0031 0.0\u001b[0m\n",
      "\t\t('0.0036 0.0042 0.0024 0.0031 0.0 0.0015 0.0024 0.0031 0.0028 0.0036', 11, 0, 0.0056)\n",
      "\t\u001b[35m0.003 0.0046 0.006 0.0044 0.0061 0.0064 0.0066 0.004 0.0041 0.0\u001b[0m\n",
      "\t\t('0.0033 0.0039 0.0018 0.0024 0.0 0.0014 0.002 0.0027 0.0025 0.0033', 9, 2, 0.0055)\n",
      "\t\u001b[35m0.0029 0.0023 0.0037 0.0039 0.0063 0.0059 0.0078 0.0032 0.0031 0.0\u001b[0m\n",
      "\t\t('0.0035 0.0041 0.0021 0.0028 0.0 0.0015 0.0023 0.0029 0.0027 0.0035', 10, 1, 0.0054)\n",
      "\u001b[35m55\u001b[0m\n",
      "\t\u001b[35m0.0039 0.0076 0.0034 0.0034 0.0 0.0024 0.0028 0.004 0.0029 0.0043\u001b[0m\n",
      "\t\t('0.0015 0.0023 0.003 0.0027 0.0035 0.0035 0.0042 0.0022 0.0028 0.0', 11, 1, 0.0055)\n",
      "\t\u001b[35m0.0044 0.0076 0.0026 0.0025 0.0 0.0025 0.0038 0.0052 0.0047 0.006\u001b[0m\n",
      "\t\t('0.0013 0.002 0.0026 0.0025 0.0033 0.0033 0.0039 0.0018 0.0024 0.0', 10, 2, 0.0053)\n",
      "\t\u001b[35m0.0036 0.0042 0.0024 0.0031 0.0 0.0015 0.0024 0.0031 0.0028 0.0036\u001b[0m\n",
      "\t\t('0.0015 0.0024 0.0031 0.0028 0.0036 0.0036 0.0042 0.0024 0.0031 0.0', 12, 0, 0.0056)\n",
      "\u001b[35m60\u001b[0m\n",
      "\t\u001b[35m0.0019 0.0034 0.0058 0.0052 0.0048 0.0046 0.0063 0.0024 0.0053 0.0\u001b[0m\n",
      "\t\t('0.0036 0.0042 0.0024 0.003 0.0 0.0015 0.0024 0.003 0.0028 0.0036', 12, 1, 0.0057)\n",
      "\t\u001b[35m0.0015 0.0024 0.0031 0.0028 0.0036 0.0036 0.0042 0.0024 0.0031 0.0\u001b[0m\n",
      "\t\t('0.0036 0.0042 0.0024 0.0031 0.0 0.0015 0.0024 0.0031 0.0028 0.0036', 13, 0, 0.0056)\n",
      "\t\u001b[35m0.0016 0.0036 0.004 0.0034 0.0045 0.0034 0.0059 0.0022 0.0027 0.0\u001b[0m\n",
      "\t\t('0.0033 0.004 0.0018 0.0024 0.0 0.0014 0.002 0.0027 0.0025 0.0033', 11, 2, 0.0054)\n",
      "\u001b[35m65\u001b[0m\n",
      "\t\u001b[35m0.0056 0.0052 0.0032 0.0047 0.0 0.0017 0.0036 0.0035 0.0035 0.0059\u001b[0m\n",
      "\t\t('0.0014 0.0021 0.0028 0.0028 0.0037 0.0037 0.0043 0.0024 0.003 0.0', 12, 2, 0.0052)\n",
      "\t\u001b[35m0.0063 0.0059 0.003 0.0031 0.0 0.0021 0.0042 0.0031 0.0029 0.0056\u001b[0m\n",
      "\t\t('0.0015 0.0024 0.0031 0.0028 0.0036 0.0036 0.0043 0.0024 0.0031 0.0', 13, 1, 0.0054)\n",
      "\t\u001b[35m0.0036 0.0042 0.0024 0.0031 0.0 0.0015 0.0024 0.0031 0.0028 0.0036\u001b[0m\n",
      "\t\t('0.0015 0.0024 0.0031 0.0028 0.0036 0.0036 0.0042 0.0024 0.0031 0.0', 14, 0, 0.0056)\n",
      "\u001b[35m70\u001b[0m\n",
      "\t\u001b[35m0.0015 0.0042 0.0037 0.0045 0.0069 0.0047 0.0047 0.0047 0.0035 0.0\u001b[0m\n",
      "\t\t('0.0035 0.0041 0.0022 0.0028 0.0 0.0015 0.0023 0.0029 0.0027 0.0035', 13, 2, 0.0054)\n",
      "\t\u001b[35m0.0022 0.0035 0.0054 0.0044 0.0067 0.006 0.005 0.0042 0.0052 0.0\u001b[0m\n",
      "\t\t('0.0036 0.0042 0.0023 0.003 0.0 0.0015 0.0024 0.003 0.0028 0.0036', 14, 1, 0.0056)\n",
      "\u001b[35m75\u001b[0m\n",
      "\t\u001b[35m0.0051 0.0063 0.0037 0.0042 0.0 0.002 0.0041 0.0037 0.0035 0.0053\u001b[0m\n",
      "\t\t('0.0014 0.0021 0.0027 0.0027 0.0036 0.0036 0.0042 0.0023 0.0029 0.0', 14, 2, 0.0054)\n",
      "\u001b[1m\u001b[33mT_curr : \u001b[0m 70\n",
      "\u001b[1m\u001b[33mD_curr : \u001b[0m 0.0015 0.0024 0.0031 0.0028 0.0036 0.0036 0.0042 0.0024 0.0031 0.0\n",
      "\u001b[1m\u001b[33mDprime : \u001b[0m 0.0014 0.0021 0.0027 0.0027 0.0036 0.0036 0.0042 0.0023 0.0029 0.0\n",
      "\u001b[1m\u001b[31mtotal execution time : \u001b[0m 0.07819999999999999\n",
      "\n",
      "\u001b[5m\u001b[7m\u001b[35m  || ANALYSIS || \n",
      "\u001b[0m\n",
      "[80] Generated RAND_INF Dprime : 0.0017 0.0023 0.0049 0.0028 0.0062 0.0065 0.0059 0.0037 0.0035 0.0\n",
      "[75] Generated RAND_INF Dprime : 0.0068 0.0068 0.0032 0.0052 0.0 0.0016 0.0026 0.0046 0.0051 0.005\n",
      "\u001b[34mTO EXPLORE : \u001b[0m\n",
      "\u001b[32m70\u001b[0m -> 0.0015 0.0024 0.0031 0.0028 0.0036 0.0036 0.0042 0.0024 0.0031 0.0\n",
      "\u001b[32m75\u001b[0m -> 0.0068 0.0068 0.0032 0.0052 0.0 0.0016 0.0026 0.0046 0.0051 0.005\n",
      "\u001b[32m80\u001b[0m -> 0.0017 0.0023 0.0049 0.0028 0.0062 0.0065 0.0059 0.0037 0.0035 0.0\n",
      "\u001b[32m75\u001b[0m -> 0.0 0.0 0.0 0.0 0.0 0.0 0.0 0.0 0.0 0.0\n",
      "\u001b[32m80\u001b[0m -> 0.0 0.0 0.0 0.0 0.0 0.0 0.0 0.0 0.0 0.0\n",
      "\u001b[32m85\u001b[0m -> 0.0 0.0 0.0 0.0 0.0 0.0 0.0 0.0 0.0 0.0\n",
      "\u001b[32m90\u001b[0m -> 0.0 0.0 0.0 0.0 0.0 0.0 0.0 0.0 0.0 0.0\n",
      "\u001b[32m95\u001b[0m -> 0.0 0.0 0.0 0.0 0.0 0.0 0.0 0.0 0.0 0.0\n",
      "\u001b[5m\u001b[7m\u001b[31m--------------------------------------------  ROUND :  15   --------------------------------------------\n",
      "\u001b[0m\n",
      "\u001b[5m\u001b[7m\u001b[32m  || LAUNCHING || \n",
      "\u001b[0m\n",
      "\u001b[34mTO EXPLORE : \u001b[0m\n",
      "\u001b[32m70\u001b[0m -> 0.0015 0.0024 0.0031 0.0028 0.0036 0.0036 0.0042 0.0024 0.0031 0.0\n",
      "\u001b[32m75\u001b[0m -> 0.0068 0.0068 0.0032 0.0052 0.0 0.0016 0.0026 0.0046 0.0051 0.005\n",
      "\u001b[32m80\u001b[0m -> 0.0017 0.0023 0.0049 0.0028 0.0062 0.0065 0.0059 0.0037 0.0035 0.0\n",
      "\u001b[32m75\u001b[0m -> 0.0 0.0 0.0 0.0 0.0 0.0 0.0 0.0 0.0 0.0\n",
      "\u001b[32m80\u001b[0m -> 0.0 0.0 0.0 0.0 0.0 0.0 0.0 0.0 0.0 0.0\n",
      "\u001b[32m85\u001b[0m -> 0.0 0.0 0.0 0.0 0.0 0.0 0.0 0.0 0.0 0.0\n",
      "\u001b[32m90\u001b[0m -> 0.0 0.0 0.0 0.0 0.0 0.0 0.0 0.0 0.0 0.0\n",
      "\u001b[32m95\u001b[0m -> 0.0 0.0 0.0 0.0 0.0 0.0 0.0 0.0 0.0 0.0\n",
      "grisou-47 => 0 NPROCS = 10 MIN = 70 MAX = 75 N = 100 DELAY = '0.0015 0.0024 0.0031 0.0028 0.0036 0.0036 0.0042 0.0024 0.0031 0.0'\n",
      "\n",
      "grisou-48 => 1 NPROCS = 10 MIN = 75 MAX = 80 N = 100 DELAY = '0.0068 0.0068 0.0032 0.0052 0.0 0.0016 0.0026 0.0046 0.0051 0.005'\n",
      "\n",
      "grisou-5 => 2 NPROCS = 10 MIN = 80 MAX = 85 N = 100 DELAY = '0.0017 0.0023 0.0049 0.0028 0.0062 0.0065 0.0059 0.0037 0.0035 0.0'\n",
      "\n"
     ]
    },
    {
     "name": "stderr",
     "output_type": "stream",
     "text": [
      "/home/nezzine/.local/lib/python3.5/site-packages/rpy2/robjects/pandas2ri.py:191: FutureWarning: from_items is deprecated. Please use DataFrame.from_dict(dict(items), ...) instead. DataFrame.from_dict(OrderedDict(items)) may be used to preserve the key order.\n",
      "  res = PandasDataFrame.from_items(items)\n"
     ]
    },
    {
     "data": {
      "text/plain": [
       "'data.frame':\t70 obs. of  5 variables:\n",
       " $ Rank    : num  8 8 8 8 8 8 8 7 7 7 ...\n",
       " $ Start   : num  0 0.000217 0.001657 0.004936 0.00601 ...\n",
       " $ End     : num  0 0.00166 0.00494 0.00601 0.00764 ...\n",
       " $ Duration: num  0 0.00144 0.00328 0.00107 0.00163 ...\n",
       " $ State   : Factor w/ 3 levels \"PMPI_Bcast\",\"PMPI_Finalize\",..: 3 1 1 1 1 1 2 3 1 1 ...\n"
      ]
     },
     "metadata": {},
     "output_type": "display_data"
    },
    {
     "data": {
      "image/png": "[encoded data removed]"
     },
     "metadata": {},
     "output_type": "display_data"
    },
    {
     "name": "stderr",
     "output_type": "stream",
     "text": [
      "/home/nezzine/.local/lib/python3.5/site-packages/rpy2/robjects/pandas2ri.py:191: FutureWarning: from_items is deprecated. Please use DataFrame.from_dict(dict(items), ...) instead. DataFrame.from_dict(OrderedDict(items)) may be used to preserve the key order.\n",
      "  res = PandasDataFrame.from_items(items)\n"
     ]
    },
    {
     "data": {
      "text/plain": [
       "'data.frame':\t70 obs. of  5 variables:\n",
       " $ Rank    : num  8 8 8 8 8 8 8 7 7 7 ...\n",
       " $ Start   : num  0 0.000357 0.002301 0.003321 0.003947 ...\n",
       " $ End     : num  0 0.0023 0.00332 0.00395 0.00395 ...\n",
       " $ Duration: num  0 0.001944 0.00102 0.000626 0 ...\n",
       " $ State   : Factor w/ 3 levels \"PMPI_Bcast\",\"PMPI_Finalize\",..: 3 1 1 1 1 1 2 3 1 1 ...\n"
      ]
     },
     "metadata": {},
     "output_type": "display_data"
    },
    {
     "data": {
      "image/png": "[encoded data removed]"
     },
     "metadata": {},
     "output_type": "display_data"
    },
    {
     "name": "stderr",
     "output_type": "stream",
     "text": [
      "/home/nezzine/.local/lib/python3.5/site-packages/rpy2/robjects/pandas2ri.py:191: FutureWarning: from_items is deprecated. Please use DataFrame.from_dict(dict(items), ...) instead. DataFrame.from_dict(OrderedDict(items)) may be used to preserve the key order.\n",
      "  res = PandasDataFrame.from_items(items)\n"
     ]
    },
    {
     "data": {
      "text/plain": [
       "'data.frame':\t70 obs. of  5 variables:\n",
       " $ Rank    : num  8 8 8 8 8 8 8 7 7 7 ...\n",
       " $ Start   : num  0 0.000245 0.001543 0.004854 0.005813 ...\n",
       " $ End     : num  0 0.00154 0.00485 0.00581 0.00732 ...\n",
       " $ Duration: num  0 0.001298 0.003311 0.000959 0.001506 ...\n",
       " $ State   : Factor w/ 3 levels \"PMPI_Bcast\",\"PMPI_Finalize\",..: 3 1 1 1 1 1 2 3 1 1 ...\n"
      ]
     },
     "metadata": {},
     "output_type": "display_data"
    },
    {
     "data": {
      "image/png": "[encoded data removed]"
     },
     "metadata": {},
     "output_type": "display_data"
    },
    {
     "name": "stdout",
     "output_type": "stream",
     "text": [
      "\u001b[33mT_curr : \u001b[0m 70\n",
      "\u001b[33mD_curr : \u001b[0m 0.0015 0.0024 0.0031 0.0028 0.0036 0.0036 0.0042 0.0024 0.0031 0.0\n",
      "\u001b[33mDprime : \u001b[0m 0.0034 0.004 0.0019 0.0025 0.0 0.0014 0.0021 0.0028 0.0026 0.0034\n",
      "\u001b[31mtotal execution time : \u001b[0m 0.07819999999999999\n",
      "\n",
      "returning: 0.0015 0.0024 0.0031 0.0028 0.0036 0.0036 0.0042 0.0024 0.0031 0.0\n",
      "\u001b[5m\u001b[7m\u001b[31m\n",
      "  || RESULTS || \n",
      "\u001b[0m\n",
      "\u001b[34mTO EXPLORE : \u001b[0m\n",
      "\u001b[32m75\u001b[0m -> 0.0 0.0 0.0 0.0 0.0 0.0 0.0 0.0 0.0 0.0\n",
      "\u001b[32m80\u001b[0m -> 0.0 0.0 0.0 0.0 0.0 0.0 0.0 0.0 0.0 0.0\n",
      "\u001b[32m85\u001b[0m -> 0.0 0.0 0.0 0.0 0.0 0.0 0.0 0.0 0.0 0.0\n",
      "\u001b[32m90\u001b[0m -> 0.0 0.0 0.0 0.0 0.0 0.0 0.0 0.0 0.0 0.0\n",
      "\u001b[32m95\u001b[0m -> 0.0 0.0 0.0 0.0 0.0 0.0 0.0 0.0 0.0 0.0\n",
      "\u001b[35m0\u001b[0m\n",
      "\t\u001b[35m0.0 0.0 0.0 0.0 0.0 0.0 0.0 0.0 0.0 0.0\u001b[0m\n",
      "\t\t('0.0037 0.0043 0.0025 0.0031 0.0 0.0016 0.0025 0.0031 0.0028 0.0037', 1, 0, 0.0054)\n",
      "\u001b[35m5\u001b[0m\n",
      "\t\u001b[35m0.0037 0.0043 0.0025 0.0031 0.0 0.0016 0.0025 0.0031 0.0028 0.0037\u001b[0m\n",
      "\t\t('0.0015 0.0024 0.0031 0.0028 0.0036 0.0036 0.0042 0.0024 0.0031 0.0', 2, 0, 0.0056)\n",
      "\t\u001b[35m0.0 0.0 0.0 0.0 0.0 0.0 0.0 0.0 0.0 0.0\u001b[0m\n",
      "\t\t('0.0016 0.0025 0.0031 0.0028 0.0037 0.0037 0.0043 0.0025 0.0031 0.0', 1, 1, 0.0054)\n",
      "\u001b[35m10\u001b[0m\n",
      "\t\u001b[35m0.0028 0.003 0.0035 0.0043 0.005 0.0043 0.0057 0.0028 0.0047 0.0\u001b[0m\n",
      "\t\t('0.0036 0.0042 0.0023 0.003 0.0 0.0014 0.0021 0.0027 0.0028 0.0036', 2, 1, 0.0053)\n",
      "\t\u001b[35m0.0015 0.0024 0.0031 0.0028 0.0036 0.0036 0.0042 0.0024 0.0031 0.0\u001b[0m\n",
      "\t\t('0.0036 0.0042 0.0024 0.0031 0.0 0.0015 0.0024 0.0031 0.0028 0.0036', 3, 0, 0.0056)\n",
      "\t\u001b[35m0.0 0.0 0.0 0.0 0.0 0.0 0.0 0.0 0.0 0.0\u001b[0m\n",
      "\t\t('0.0037 0.0043 0.0025 0.0031 0.0 0.0016 0.0025 0.0031 0.0028 0.0037', 1, 2, 0.0054)\n",
      "\u001b[35m15\u001b[0m\n",
      "\t\u001b[35m0.0036 0.0042 0.0024 0.0031 0.0 0.0015 0.0024 0.0031 0.0028 0.0036\u001b[0m\n",
      "\t\t('0.0015 0.0024 0.0031 0.0028 0.0036 0.0036 0.0042 0.0024 0.0031 0.0', 4, 0, 0.0056)\n",
      "\t\u001b[35m0.0063 0.0078 0.0031 0.0045 0.0 0.0026 0.0023 0.0043 0.0034 0.0066\u001b[0m\n",
      "\t\t('0.0015 0.0023 0.0029 0.0027 0.0036 0.0036 0.0042 0.0024 0.003 0.0', 3, 1, 0.0055)\n",
      "\t\u001b[35m0.0065 0.0083 0.0044 0.0044 0.0 0.0023 0.0043 0.0033 0.0031 0.0072\u001b[0m\n",
      "\t\t('0.0014 0.0021 0.0027 0.0029 0.0038 0.0038 0.0044 0.0024 0.003 0.0', 2, 2, 0.0049)\n",
      "\u001b[35m20\u001b[0m\n",
      "\t\u001b[35m0.002 0.0034 0.0043 0.004 0.0043 0.0049 0.0069 0.0039 0.0032 0.0\u001b[0m\n",
      "\t\t('0.0034 0.004 0.0019 0.0026 0.0 0.0014 0.0022 0.0028 0.0026 0.0034', 4, 1, 0.0055)\n",
      "\t\u001b[35m0.0015 0.0024 0.0031 0.0028 0.0036 0.0036 0.0042 0.0024 0.0031 0.0\u001b[0m\n",
      "\t\t('0.0036 0.0042 0.0024 0.0031 0.0 0.0015 0.0024 0.0031 0.0028 0.0036', 5, 0, 0.0056)\n",
      "\t\u001b[35m0.0026 0.0023 0.0028 0.0049 0.0066 0.0076 0.0077 0.0029 0.0035 0.0\u001b[0m\n",
      "\t\t('0.0036 0.0043 0.0024 0.003 0.0 0.0015 0.0022 0.0029 0.0028 0.0036', 3, 2, 0.0052)\n",
      "\u001b[35m25\u001b[0m\n",
      "\t\u001b[35m0.004 0.0079 0.0044 0.0047 0.0 0.002 0.0027 0.0054 0.0038 0.0059\u001b[0m\n",
      "\t\t('0.0015 0.0023 0.0029 0.0027 0.0035 0.0035 0.0041 0.0021 0.0028 0.0', 4, 2, 0.0055)\n",
      "\t\u001b[35m0.0064 0.0073 0.0031 0.0043 0.0 0.0027 0.0026 0.0039 0.0041 0.0036\u001b[0m\n",
      "\t\t('0.0015 0.0024 0.003 0.0028 0.0036 0.0036 0.0043 0.0025 0.0031 0.0', 5, 1, 0.0056)\n",
      "\t\u001b[35m0.0036 0.0042 0.0024 0.0031 0.0 0.0015 0.0024 0.0031 0.0028 0.0036\u001b[0m\n",
      "\t\t('0.0015 0.0024 0.0031 0.0028 0.0036 0.0036 0.0042 0.0024 0.0031 0.0', 6, 0, 0.0056)\n",
      "\u001b[35m30\u001b[0m\n",
      "\t\u001b[35m0.0015 0.0024 0.0031 0.0028 0.0036 0.0036 0.0042 0.0024 0.0031 0.0\u001b[0m\n",
      "\t\t('0.0036 0.0042 0.0024 0.0031 0.0 0.0015 0.0024 0.0031 0.0028 0.0036', 7, 0, 0.0056)\n",
      "\t\u001b[35m0.0022 0.0037 0.0048 0.0049 0.006 0.0043 0.0042 0.0031 0.0035 0.0\u001b[0m\n",
      "\t\t('0.0034 0.0041 0.0019 0.0026 0.0 0.0015 0.0022 0.0028 0.0026 0.0034', 5, 2, 0.0054)\n",
      "\t\u001b[35m0.0017 0.0038 0.005 0.0047 0.0042 0.0053 0.0075 0.0037 0.0039 0.0\u001b[0m\n",
      "\t\t('0.0035 0.0041 0.0021 0.0028 0.0 0.0015 0.0023 0.003 0.0027 0.0035', 6, 1, 0.0056)\n",
      "\u001b[35m35\u001b[0m\n",
      "\t\u001b[35m0.0036 0.0042 0.0024 0.0031 0.0 0.0015 0.0024 0.0031 0.0028 0.0036\u001b[0m\n",
      "\t\t('0.0015 0.0024 0.0031 0.0028 0.0036 0.0036 0.0042 0.0024 0.0031 0.0', 8, 0, 0.0056)\n",
      "\t\u001b[35m0.0069 0.0078 0.0024 0.0047 0.0 0.0019 0.0037 0.0036 0.0039 0.0047\u001b[0m\n",
      "\t\t('0.0014 0.0021 0.0028 0.0028 0.0036 0.0036 0.0043 0.0024 0.003 0.0', 7, 1, 0.0053)\n",
      "\t\u001b[35m0.0059 0.0062 0.003 0.003 0.0 0.0017 0.0039 0.0047 0.0044 0.0054\u001b[0m\n",
      "\t\t('0.0014 0.002 0.0026 0.0025 0.0033 0.0033 0.0039 0.0018 0.0024 0.0', 6, 2, 0.0054)\n",
      "\u001b[35m40\u001b[0m\n",
      "\t\u001b[35m0.0027 0.0023 0.0052 0.0052 0.0064 0.0066 0.0081 0.0024 0.0043 0.0\u001b[0m\n",
      "\t\t('0.0034 0.004 0.002 0.0026 0.0 0.0014 0.0022 0.0028 0.0026 0.0034', 8, 1, 0.0055)\n",
      "\t\u001b[35m0.0015 0.0024 0.0031 0.0028 0.0036 0.0036 0.0042 0.0024 0.0031 0.0\u001b[0m\n",
      "\t\t('0.0036 0.0042 0.0024 0.0031 0.0 0.0015 0.0024 0.0031 0.0028 0.0036', 9, 0, 0.0056)\n",
      "\t\u001b[35m0.0022 0.0031 0.0042 0.0028 0.0048 0.0044 0.0055 0.0034 0.003 0.0\u001b[0m\n",
      "\t\t('0.0035 0.0041 0.002 0.0026 0.0 0.0015 0.0022 0.0028 0.0026 0.0035', 7, 2, 0.0054)\n",
      "\u001b[35m45\u001b[0m\n",
      "\t\u001b[35m0.0041 0.0077 0.0026 0.0038 0.0 0.0023 0.0037 0.0051 0.0039 0.0034\u001b[0m\n",
      "\t\t('0.0015 0.0023 0.0029 0.0027 0.0035 0.0035 0.0041 0.0021 0.0028 0.0', 9, 1, 0.0057)\n",
      "\t\u001b[35m0.006 0.0041 0.0026 0.0043 0.0 0.0024 0.0032 0.0043 0.0034 0.0039\u001b[0m\n",
      "\t\t('0.0015 0.0024 0.0031 0.0028 0.0036 0.0036 0.0042 0.0024 0.0031 0.0', 8, 2, 0.0057)\n",
      "\t\u001b[35m0.0036 0.0042 0.0024 0.0031 0.0 0.0015 0.0024 0.0031 0.0028 0.0036\u001b[0m\n",
      "\t\t('0.0015 0.0024 0.0031 0.0028 0.0036 0.0036 0.0042 0.0024 0.0031 0.0', 10, 0, 0.0056)\n",
      "\u001b[35m50\u001b[0m\n",
      "\t\u001b[35m0.0015 0.0024 0.0031 0.0028 0.0036 0.0036 0.0042 0.0024 0.0031 0.0\u001b[0m\n",
      "\t\t('0.0036 0.0042 0.0024 0.0031 0.0 0.0015 0.0024 0.0031 0.0028 0.0036', 11, 0, 0.0056)\n",
      "\t\u001b[35m0.003 0.0046 0.006 0.0044 0.0061 0.0064 0.0066 0.004 0.0041 0.0\u001b[0m\n",
      "\t\t('0.0033 0.0039 0.0018 0.0024 0.0 0.0014 0.002 0.0027 0.0025 0.0033', 9, 2, 0.0055)\n",
      "\t\u001b[35m0.0029 0.0023 0.0037 0.0039 0.0063 0.0059 0.0078 0.0032 0.0031 0.0\u001b[0m\n",
      "\t\t('0.0035 0.0041 0.0021 0.0028 0.0 0.0015 0.0023 0.0029 0.0027 0.0035', 10, 1, 0.0054)\n",
      "\u001b[35m55\u001b[0m\n",
      "\t\u001b[35m0.0039 0.0076 0.0034 0.0034 0.0 0.0024 0.0028 0.004 0.0029 0.0043\u001b[0m\n",
      "\t\t('0.0015 0.0023 0.003 0.0027 0.0035 0.0035 0.0042 0.0022 0.0028 0.0', 11, 1, 0.0055)\n",
      "\t\u001b[35m0.0044 0.0076 0.0026 0.0025 0.0 0.0025 0.0038 0.0052 0.0047 0.006\u001b[0m\n",
      "\t\t('0.0013 0.002 0.0026 0.0025 0.0033 0.0033 0.0039 0.0018 0.0024 0.0', 10, 2, 0.0053)\n",
      "\t\u001b[35m0.0036 0.0042 0.0024 0.0031 0.0 0.0015 0.0024 0.0031 0.0028 0.0036\u001b[0m\n",
      "\t\t('0.0015 0.0024 0.0031 0.0028 0.0036 0.0036 0.0042 0.0024 0.0031 0.0', 12, 0, 0.0056)\n",
      "\u001b[35m60\u001b[0m\n",
      "\t\u001b[35m0.0019 0.0034 0.0058 0.0052 0.0048 0.0046 0.0063 0.0024 0.0053 0.0\u001b[0m\n",
      "\t\t('0.0036 0.0042 0.0024 0.003 0.0 0.0015 0.0024 0.003 0.0028 0.0036', 12, 1, 0.0057)\n",
      "\t\u001b[35m0.0015 0.0024 0.0031 0.0028 0.0036 0.0036 0.0042 0.0024 0.0031 0.0\u001b[0m\n",
      "\t\t('0.0036 0.0042 0.0024 0.0031 0.0 0.0015 0.0024 0.0031 0.0028 0.0036', 13, 0, 0.0056)\n",
      "\t\u001b[35m0.0016 0.0036 0.004 0.0034 0.0045 0.0034 0.0059 0.0022 0.0027 0.0\u001b[0m\n",
      "\t\t('0.0033 0.004 0.0018 0.0024 0.0 0.0014 0.002 0.0027 0.0025 0.0033', 11, 2, 0.0054)\n",
      "\u001b[35m65\u001b[0m\n",
      "\t\u001b[35m0.0056 0.0052 0.0032 0.0047 0.0 0.0017 0.0036 0.0035 0.0035 0.0059\u001b[0m\n",
      "\t\t('0.0014 0.0021 0.0028 0.0028 0.0037 0.0037 0.0043 0.0024 0.003 0.0', 12, 2, 0.0052)\n",
      "\t\u001b[35m0.0063 0.0059 0.003 0.0031 0.0 0.0021 0.0042 0.0031 0.0029 0.0056\u001b[0m\n",
      "\t\t('0.0015 0.0024 0.0031 0.0028 0.0036 0.0036 0.0043 0.0024 0.0031 0.0', 13, 1, 0.0054)\n",
      "\t\u001b[35m0.0036 0.0042 0.0024 0.0031 0.0 0.0015 0.0024 0.0031 0.0028 0.0036\u001b[0m\n",
      "\t\t('0.0015 0.0024 0.0031 0.0028 0.0036 0.0036 0.0042 0.0024 0.0031 0.0', 14, 0, 0.0056)\n",
      "\u001b[35m70\u001b[0m\n",
      "\t\u001b[35m0.0015 0.0042 0.0037 0.0045 0.0069 0.0047 0.0047 0.0047 0.0035 0.0\u001b[0m\n",
      "\t\t('0.0035 0.0041 0.0022 0.0028 0.0 0.0015 0.0023 0.0029 0.0027 0.0035', 13, 2, 0.0054)\n",
      "\t\u001b[35m0.0015 0.0024 0.0031 0.0028 0.0036 0.0036 0.0042 0.0024 0.0031 0.0\u001b[0m\n",
      "\t\t('0.0036 0.0042 0.0024 0.0031 0.0 0.0015 0.0024 0.0031 0.0028 0.0036', 15, 0, 0.0056)\n",
      "\t\u001b[35m0.0022 0.0035 0.0054 0.0044 0.0067 0.006 0.005 0.0042 0.0052 0.0\u001b[0m\n",
      "\t\t('0.0036 0.0042 0.0023 0.003 0.0 0.0015 0.0024 0.003 0.0028 0.0036', 14, 1, 0.0056)\n",
      "\u001b[35m75\u001b[0m\n",
      "\t\u001b[35m0.0051 0.0063 0.0037 0.0042 0.0 0.002 0.0041 0.0037 0.0035 0.0053\u001b[0m\n",
      "\t\t('0.0014 0.0021 0.0027 0.0027 0.0036 0.0036 0.0042 0.0023 0.0029 0.0', 14, 2, 0.0054)\n",
      "\t\u001b[35m0.0068 0.0068 0.0032 0.0052 0.0 0.0016 0.0026 0.0046 0.0051 0.005\u001b[0m\n",
      "\t\t('0.0015 0.0023 0.0029 0.0028 0.0036 0.0036 0.0042 0.0024 0.003 0.0', 15, 1, 0.0055)\n",
      "\u001b[35m80\u001b[0m\n",
      "\t\u001b[35m0.0017 0.0023 0.0049 0.0028 0.0062 0.0065 0.0059 0.0037 0.0035 0.0\u001b[0m\n",
      "\t\t('0.0034 0.004 0.0019 0.0025 0.0 0.0014 0.0021 0.0028 0.0026 0.0034', 15, 2, 0.0054)\n",
      "\u001b[1m\u001b[33mT_curr : \u001b[0m 75\n",
      "\u001b[1m\u001b[33mD_curr : \u001b[0m 0.0036 0.0042 0.0024 0.0031 0.0 0.0015 0.0024 0.0031 0.0028 0.0036\n",
      "\u001b[1m\u001b[33mDprime : \u001b[0m 0.0034 0.004 0.0019 0.0025 0.0 0.0014 0.0021 0.0028 0.0026 0.0034\n",
      "\u001b[1m\u001b[31mtotal execution time : \u001b[0m 0.08379999999999999\n",
      "\n",
      "\u001b[5m\u001b[7m\u001b[35m  || ANALYSIS || \n",
      "\u001b[0m\n",
      "[85] Generated RAND_INF Dprime : 0.0057 0.0064 0.002 0.0047 0.0 0.0024 0.003 0.0038 0.003 0.0037\n",
      "[80] Generated RAND_INF Dprime : 0.0028 0.0034 0.0034 0.0029 0.007 0.007 0.0072 0.0046 0.0039 0.0\n",
      "\u001b[34mTO EXPLORE : \u001b[0m\n",
      "\u001b[32m75\u001b[0m -> 0.0036 0.0042 0.0024 0.0031 0.0 0.0015 0.0024 0.0031 0.0028 0.0036\n",
      "\u001b[32m80\u001b[0m -> 0.0028 0.0034 0.0034 0.0029 0.007 0.007 0.0072 0.0046 0.0039 0.0\n",
      "\u001b[32m85\u001b[0m -> 0.0057 0.0064 0.002 0.0047 0.0 0.0024 0.003 0.0038 0.003 0.0037\n",
      "\u001b[32m80\u001b[0m -> 0.0 0.0 0.0 0.0 0.0 0.0 0.0 0.0 0.0 0.0\n",
      "\u001b[32m85\u001b[0m -> 0.0 0.0 0.0 0.0 0.0 0.0 0.0 0.0 0.0 0.0\n",
      "\u001b[32m90\u001b[0m -> 0.0 0.0 0.0 0.0 0.0 0.0 0.0 0.0 0.0 0.0\n",
      "\u001b[32m95\u001b[0m -> 0.0 0.0 0.0 0.0 0.0 0.0 0.0 0.0 0.0 0.0\n",
      "\u001b[5m\u001b[7m\u001b[31m--------------------------------------------  ROUND :  16   --------------------------------------------\n",
      "\u001b[0m\n",
      "\u001b[5m\u001b[7m\u001b[32m  || LAUNCHING || \n",
      "\u001b[0m\n",
      "\u001b[34mTO EXPLORE : \u001b[0m\n",
      "\u001b[32m75\u001b[0m -> 0.0036 0.0042 0.0024 0.0031 0.0 0.0015 0.0024 0.0031 0.0028 0.0036\n",
      "\u001b[32m80\u001b[0m -> 0.0028 0.0034 0.0034 0.0029 0.007 0.007 0.0072 0.0046 0.0039 0.0\n",
      "\u001b[32m85\u001b[0m -> 0.0057 0.0064 0.002 0.0047 0.0 0.0024 0.003 0.0038 0.003 0.0037\n",
      "\u001b[32m80\u001b[0m -> 0.0 0.0 0.0 0.0 0.0 0.0 0.0 0.0 0.0 0.0\n",
      "\u001b[32m85\u001b[0m -> 0.0 0.0 0.0 0.0 0.0 0.0 0.0 0.0 0.0 0.0\n",
      "\u001b[32m90\u001b[0m -> 0.0 0.0 0.0 0.0 0.0 0.0 0.0 0.0 0.0 0.0\n",
      "\u001b[32m95\u001b[0m -> 0.0 0.0 0.0 0.0 0.0 0.0 0.0 0.0 0.0 0.0\n",
      "grisou-47 => 0 NPROCS = 10 MIN = 75 MAX = 80 N = 100 DELAY = '0.0036 0.0042 0.0024 0.0031 0.0 0.0015 0.0024 0.0031 0.0028 0.0036'\n",
      "\n",
      "grisou-48 => 1 NPROCS = 10 MIN = 80 MAX = 85 N = 100 DELAY = '0.0028 0.0034 0.0034 0.0029 0.007 0.007 0.0072 0.0046 0.0039 0.0'\n",
      "\n",
      "grisou-5 => 2 NPROCS = 10 MIN = 85 MAX = 90 N = 100 DELAY = '0.0057 0.0064 0.002 0.0047 0.0 0.0024 0.003 0.0038 0.003 0.0037'\n",
      "\n"
     ]
    },
    {
     "name": "stderr",
     "output_type": "stream",
     "text": [
      "/home/nezzine/.local/lib/python3.5/site-packages/rpy2/robjects/pandas2ri.py:191: FutureWarning: from_items is deprecated. Please use DataFrame.from_dict(dict(items), ...) instead. DataFrame.from_dict(OrderedDict(items)) may be used to preserve the key order.\n",
      "  res = PandasDataFrame.from_items(items)\n"
     ]
    },
    {
     "data": {
      "text/plain": [
       "'data.frame':\t70 obs. of  5 variables:\n",
       " $ Rank    : num  8 8 8 8 8 8 8 7 7 7 ...\n",
       " $ Start   : num  0 0.000196 0.002283 0.003331 0.003957 ...\n",
       " $ End     : num  0 0.00228 0.00333 0.00396 0.00396 ...\n",
       " $ Duration: num  0 0.002087 0.001048 0.000626 0 ...\n",
       " $ State   : Factor w/ 3 levels \"PMPI_Bcast\",\"PMPI_Finalize\",..: 3 1 1 1 1 1 2 3 1 1 ...\n"
      ]
     },
     "metadata": {},
     "output_type": "display_data"
    },
    {
     "data": {
      "image/png": "[encoded data removed]"
     },
     "metadata": {},
     "output_type": "display_data"
    },
    {
     "name": "stderr",
     "output_type": "stream",
     "text": [
      "/home/nezzine/.local/lib/python3.5/site-packages/rpy2/robjects/pandas2ri.py:191: FutureWarning: from_items is deprecated. Please use DataFrame.from_dict(dict(items), ...) instead. DataFrame.from_dict(OrderedDict(items)) may be used to preserve the key order.\n",
      "  res = PandasDataFrame.from_items(items)\n"
     ]
    },
    {
     "data": {
      "text/plain": [
       "'data.frame':\t70 obs. of  5 variables:\n",
       " $ Rank    : num  8 8 8 8 8 8 8 7 7 7 ...\n",
       " $ Start   : num  0 0.000273 0.001652 0.004923 0.005914 ...\n",
       " $ End     : num  0 0.00165 0.00492 0.00591 0.00745 ...\n",
       " $ Duration: num  0 0.001379 0.003271 0.000991 0.00154 ...\n",
       " $ State   : Factor w/ 3 levels \"PMPI_Bcast\",\"PMPI_Finalize\",..: 3 1 1 1 1 1 2 3 1 1 ...\n"
      ]
     },
     "metadata": {},
     "output_type": "display_data"
    },
    {
     "data": {
      "image/png": "[encoded data removed]"
     },
     "metadata": {},
     "output_type": "display_data"
    },
    {
     "name": "stderr",
     "output_type": "stream",
     "text": [
      "/home/nezzine/.local/lib/python3.5/site-packages/rpy2/robjects/pandas2ri.py:191: FutureWarning: from_items is deprecated. Please use DataFrame.from_dict(dict(items), ...) instead. DataFrame.from_dict(OrderedDict(items)) may be used to preserve the key order.\n",
      "  res = PandasDataFrame.from_items(items)\n"
     ]
    },
    {
     "data": {
      "text/plain": [
       "'data.frame':\t70 obs. of  5 variables:\n",
       " $ Rank    : num  8 8 8 8 8 8 8 7 7 7 ...\n",
       " $ Start   : num  0 0.00021 0.00232 0.00336 0.00398 ...\n",
       " $ End     : num  0 0.00232 0.00336 0.00398 0.00398 ...\n",
       " $ Duration: num  0 0.002106 0.00104 0.000626 0 ...\n",
       " $ State   : Factor w/ 3 levels \"PMPI_Bcast\",\"PMPI_Finalize\",..: 3 1 1 1 1 1 2 3 1 1 ...\n"
      ]
     },
     "metadata": {},
     "output_type": "display_data"
    },
    {
     "data": {
      "image/png": "[encoded data removed]"
     },
     "metadata": {},
     "output_type": "display_data"
    },
    {
     "name": "stdout",
     "output_type": "stream",
     "text": [
      "\u001b[33mT_curr : \u001b[0m 75\n",
      "\u001b[33mD_curr : \u001b[0m 0.0036 0.0042 0.0024 0.0031 0.0 0.0015 0.0024 0.0031 0.0028 0.0036\n",
      "\u001b[33mDprime : \u001b[0m 0.0015 0.0023 0.0029 0.0027 0.0036 0.0036 0.0042 0.0024 0.003 0.0\n",
      "\u001b[31mtotal execution time : \u001b[0m 0.08379999999999999\n",
      "\n",
      "returning: 0.0036 0.0042 0.0024 0.0031 0.0 0.0015 0.0024 0.0031 0.0028 0.0036\n",
      "\u001b[5m\u001b[7m\u001b[31m\n",
      "  || RESULTS || \n",
      "\u001b[0m\n",
      "\u001b[34mTO EXPLORE : \u001b[0m\n",
      "\u001b[32m80\u001b[0m -> 0.0 0.0 0.0 0.0 0.0 0.0 0.0 0.0 0.0 0.0\n",
      "\u001b[32m85\u001b[0m -> 0.0 0.0 0.0 0.0 0.0 0.0 0.0 0.0 0.0 0.0\n",
      "\u001b[32m90\u001b[0m -> 0.0 0.0 0.0 0.0 0.0 0.0 0.0 0.0 0.0 0.0\n",
      "\u001b[32m95\u001b[0m -> 0.0 0.0 0.0 0.0 0.0 0.0 0.0 0.0 0.0 0.0\n",
      "\u001b[35m0\u001b[0m\n",
      "\t\u001b[35m0.0 0.0 0.0 0.0 0.0 0.0 0.0 0.0 0.0 0.0\u001b[0m\n",
      "\t\t('0.0037 0.0043 0.0025 0.0031 0.0 0.0016 0.0025 0.0031 0.0028 0.0037', 1, 0, 0.0054)\n",
      "\u001b[35m5\u001b[0m\n",
      "\t\u001b[35m0.0037 0.0043 0.0025 0.0031 0.0 0.0016 0.0025 0.0031 0.0028 0.0037\u001b[0m\n",
      "\t\t('0.0015 0.0024 0.0031 0.0028 0.0036 0.0036 0.0042 0.0024 0.0031 0.0', 2, 0, 0.0056)\n",
      "\t\u001b[35m0.0 0.0 0.0 0.0 0.0 0.0 0.0 0.0 0.0 0.0\u001b[0m\n",
      "\t\t('0.0016 0.0025 0.0031 0.0028 0.0037 0.0037 0.0043 0.0025 0.0031 0.0', 1, 1, 0.0054)\n",
      "\u001b[35m10\u001b[0m\n",
      "\t\u001b[35m0.0028 0.003 0.0035 0.0043 0.005 0.0043 0.0057 0.0028 0.0047 0.0\u001b[0m\n",
      "\t\t('0.0036 0.0042 0.0023 0.003 0.0 0.0014 0.0021 0.0027 0.0028 0.0036', 2, 1, 0.0053)\n",
      "\t\u001b[35m0.0015 0.0024 0.0031 0.0028 0.0036 0.0036 0.0042 0.0024 0.0031 0.0\u001b[0m\n",
      "\t\t('0.0036 0.0042 0.0024 0.0031 0.0 0.0015 0.0024 0.0031 0.0028 0.0036', 3, 0, 0.0056)\n",
      "\t\u001b[35m0.0 0.0 0.0 0.0 0.0 0.0 0.0 0.0 0.0 0.0\u001b[0m\n",
      "\t\t('0.0037 0.0043 0.0025 0.0031 0.0 0.0016 0.0025 0.0031 0.0028 0.0037', 1, 2, 0.0054)\n",
      "\u001b[35m15\u001b[0m\n",
      "\t\u001b[35m0.0036 0.0042 0.0024 0.0031 0.0 0.0015 0.0024 0.0031 0.0028 0.0036\u001b[0m\n",
      "\t\t('0.0015 0.0024 0.0031 0.0028 0.0036 0.0036 0.0042 0.0024 0.0031 0.0', 4, 0, 0.0056)\n",
      "\t\u001b[35m0.0063 0.0078 0.0031 0.0045 0.0 0.0026 0.0023 0.0043 0.0034 0.0066\u001b[0m\n",
      "\t\t('0.0015 0.0023 0.0029 0.0027 0.0036 0.0036 0.0042 0.0024 0.003 0.0', 3, 1, 0.0055)\n",
      "\t\u001b[35m0.0065 0.0083 0.0044 0.0044 0.0 0.0023 0.0043 0.0033 0.0031 0.0072\u001b[0m\n",
      "\t\t('0.0014 0.0021 0.0027 0.0029 0.0038 0.0038 0.0044 0.0024 0.003 0.0', 2, 2, 0.0049)\n",
      "\u001b[35m20\u001b[0m\n",
      "\t\u001b[35m0.002 0.0034 0.0043 0.004 0.0043 0.0049 0.0069 0.0039 0.0032 0.0\u001b[0m\n",
      "\t\t('0.0034 0.004 0.0019 0.0026 0.0 0.0014 0.0022 0.0028 0.0026 0.0034', 4, 1, 0.0055)\n",
      "\t\u001b[35m0.0015 0.0024 0.0031 0.0028 0.0036 0.0036 0.0042 0.0024 0.0031 0.0\u001b[0m\n",
      "\t\t('0.0036 0.0042 0.0024 0.0031 0.0 0.0015 0.0024 0.0031 0.0028 0.0036', 5, 0, 0.0056)\n",
      "\t\u001b[35m0.0026 0.0023 0.0028 0.0049 0.0066 0.0076 0.0077 0.0029 0.0035 0.0\u001b[0m\n",
      "\t\t('0.0036 0.0043 0.0024 0.003 0.0 0.0015 0.0022 0.0029 0.0028 0.0036', 3, 2, 0.0052)\n",
      "\u001b[35m25\u001b[0m\n",
      "\t\u001b[35m0.004 0.0079 0.0044 0.0047 0.0 0.002 0.0027 0.0054 0.0038 0.0059\u001b[0m\n",
      "\t\t('0.0015 0.0023 0.0029 0.0027 0.0035 0.0035 0.0041 0.0021 0.0028 0.0', 4, 2, 0.0055)\n",
      "\t\u001b[35m0.0064 0.0073 0.0031 0.0043 0.0 0.0027 0.0026 0.0039 0.0041 0.0036\u001b[0m\n",
      "\t\t('0.0015 0.0024 0.003 0.0028 0.0036 0.0036 0.0043 0.0025 0.0031 0.0', 5, 1, 0.0056)\n",
      "\t\u001b[35m0.0036 0.0042 0.0024 0.0031 0.0 0.0015 0.0024 0.0031 0.0028 0.0036\u001b[0m\n",
      "\t\t('0.0015 0.0024 0.0031 0.0028 0.0036 0.0036 0.0042 0.0024 0.0031 0.0', 6, 0, 0.0056)\n",
      "\u001b[35m30\u001b[0m\n",
      "\t\u001b[35m0.0015 0.0024 0.0031 0.0028 0.0036 0.0036 0.0042 0.0024 0.0031 0.0\u001b[0m\n",
      "\t\t('0.0036 0.0042 0.0024 0.0031 0.0 0.0015 0.0024 0.0031 0.0028 0.0036', 7, 0, 0.0056)\n",
      "\t\u001b[35m0.0022 0.0037 0.0048 0.0049 0.006 0.0043 0.0042 0.0031 0.0035 0.0\u001b[0m\n",
      "\t\t('0.0034 0.0041 0.0019 0.0026 0.0 0.0015 0.0022 0.0028 0.0026 0.0034', 5, 2, 0.0054)\n",
      "\t\u001b[35m0.0017 0.0038 0.005 0.0047 0.0042 0.0053 0.0075 0.0037 0.0039 0.0\u001b[0m\n",
      "\t\t('0.0035 0.0041 0.0021 0.0028 0.0 0.0015 0.0023 0.003 0.0027 0.0035', 6, 1, 0.0056)\n",
      "\u001b[35m35\u001b[0m\n",
      "\t\u001b[35m0.0036 0.0042 0.0024 0.0031 0.0 0.0015 0.0024 0.0031 0.0028 0.0036\u001b[0m\n",
      "\t\t('0.0015 0.0024 0.0031 0.0028 0.0036 0.0036 0.0042 0.0024 0.0031 0.0', 8, 0, 0.0056)\n",
      "\t\u001b[35m0.0069 0.0078 0.0024 0.0047 0.0 0.0019 0.0037 0.0036 0.0039 0.0047\u001b[0m\n",
      "\t\t('0.0014 0.0021 0.0028 0.0028 0.0036 0.0036 0.0043 0.0024 0.003 0.0', 7, 1, 0.0053)\n",
      "\t\u001b[35m0.0059 0.0062 0.003 0.003 0.0 0.0017 0.0039 0.0047 0.0044 0.0054\u001b[0m\n",
      "\t\t('0.0014 0.002 0.0026 0.0025 0.0033 0.0033 0.0039 0.0018 0.0024 0.0', 6, 2, 0.0054)\n",
      "\u001b[35m40\u001b[0m\n",
      "\t\u001b[35m0.0027 0.0023 0.0052 0.0052 0.0064 0.0066 0.0081 0.0024 0.0043 0.0\u001b[0m\n",
      "\t\t('0.0034 0.004 0.002 0.0026 0.0 0.0014 0.0022 0.0028 0.0026 0.0034', 8, 1, 0.0055)\n",
      "\t\u001b[35m0.0015 0.0024 0.0031 0.0028 0.0036 0.0036 0.0042 0.0024 0.0031 0.0\u001b[0m\n",
      "\t\t('0.0036 0.0042 0.0024 0.0031 0.0 0.0015 0.0024 0.0031 0.0028 0.0036', 9, 0, 0.0056)\n",
      "\t\u001b[35m0.0022 0.0031 0.0042 0.0028 0.0048 0.0044 0.0055 0.0034 0.003 0.0\u001b[0m\n",
      "\t\t('0.0035 0.0041 0.002 0.0026 0.0 0.0015 0.0022 0.0028 0.0026 0.0035', 7, 2, 0.0054)\n",
      "\u001b[35m45\u001b[0m\n",
      "\t\u001b[35m0.0041 0.0077 0.0026 0.0038 0.0 0.0023 0.0037 0.0051 0.0039 0.0034\u001b[0m\n",
      "\t\t('0.0015 0.0023 0.0029 0.0027 0.0035 0.0035 0.0041 0.0021 0.0028 0.0', 9, 1, 0.0057)\n",
      "\t\u001b[35m0.006 0.0041 0.0026 0.0043 0.0 0.0024 0.0032 0.0043 0.0034 0.0039\u001b[0m\n",
      "\t\t('0.0015 0.0024 0.0031 0.0028 0.0036 0.0036 0.0042 0.0024 0.0031 0.0', 8, 2, 0.0057)\n",
      "\t\u001b[35m0.0036 0.0042 0.0024 0.0031 0.0 0.0015 0.0024 0.0031 0.0028 0.0036\u001b[0m\n",
      "\t\t('0.0015 0.0024 0.0031 0.0028 0.0036 0.0036 0.0042 0.0024 0.0031 0.0', 10, 0, 0.0056)\n",
      "\u001b[35m50\u001b[0m\n",
      "\t\u001b[35m0.0015 0.0024 0.0031 0.0028 0.0036 0.0036 0.0042 0.0024 0.0031 0.0\u001b[0m\n",
      "\t\t('0.0036 0.0042 0.0024 0.0031 0.0 0.0015 0.0024 0.0031 0.0028 0.0036', 11, 0, 0.0056)\n",
      "\t\u001b[35m0.003 0.0046 0.006 0.0044 0.0061 0.0064 0.0066 0.004 0.0041 0.0\u001b[0m\n",
      "\t\t('0.0033 0.0039 0.0018 0.0024 0.0 0.0014 0.002 0.0027 0.0025 0.0033', 9, 2, 0.0055)\n",
      "\t\u001b[35m0.0029 0.0023 0.0037 0.0039 0.0063 0.0059 0.0078 0.0032 0.0031 0.0\u001b[0m\n",
      "\t\t('0.0035 0.0041 0.0021 0.0028 0.0 0.0015 0.0023 0.0029 0.0027 0.0035', 10, 1, 0.0054)\n",
      "\u001b[35m55\u001b[0m\n",
      "\t\u001b[35m0.0039 0.0076 0.0034 0.0034 0.0 0.0024 0.0028 0.004 0.0029 0.0043\u001b[0m\n",
      "\t\t('0.0015 0.0023 0.003 0.0027 0.0035 0.0035 0.0042 0.0022 0.0028 0.0', 11, 1, 0.0055)\n",
      "\t\u001b[35m0.0044 0.0076 0.0026 0.0025 0.0 0.0025 0.0038 0.0052 0.0047 0.006\u001b[0m\n",
      "\t\t('0.0013 0.002 0.0026 0.0025 0.0033 0.0033 0.0039 0.0018 0.0024 0.0', 10, 2, 0.0053)\n",
      "\t\u001b[35m0.0036 0.0042 0.0024 0.0031 0.0 0.0015 0.0024 0.0031 0.0028 0.0036\u001b[0m\n",
      "\t\t('0.0015 0.0024 0.0031 0.0028 0.0036 0.0036 0.0042 0.0024 0.0031 0.0', 12, 0, 0.0056)\n",
      "\u001b[35m60\u001b[0m\n",
      "\t\u001b[35m0.0019 0.0034 0.0058 0.0052 0.0048 0.0046 0.0063 0.0024 0.0053 0.0\u001b[0m\n",
      "\t\t('0.0036 0.0042 0.0024 0.003 0.0 0.0015 0.0024 0.003 0.0028 0.0036', 12, 1, 0.0057)\n",
      "\t\u001b[35m0.0015 0.0024 0.0031 0.0028 0.0036 0.0036 0.0042 0.0024 0.0031 0.0\u001b[0m\n",
      "\t\t('0.0036 0.0042 0.0024 0.0031 0.0 0.0015 0.0024 0.0031 0.0028 0.0036', 13, 0, 0.0056)\n",
      "\t\u001b[35m0.0016 0.0036 0.004 0.0034 0.0045 0.0034 0.0059 0.0022 0.0027 0.0\u001b[0m\n",
      "\t\t('0.0033 0.004 0.0018 0.0024 0.0 0.0014 0.002 0.0027 0.0025 0.0033', 11, 2, 0.0054)\n",
      "\u001b[35m65\u001b[0m\n",
      "\t\u001b[35m0.0056 0.0052 0.0032 0.0047 0.0 0.0017 0.0036 0.0035 0.0035 0.0059\u001b[0m\n",
      "\t\t('0.0014 0.0021 0.0028 0.0028 0.0037 0.0037 0.0043 0.0024 0.003 0.0', 12, 2, 0.0052)\n",
      "\t\u001b[35m0.0063 0.0059 0.003 0.0031 0.0 0.0021 0.0042 0.0031 0.0029 0.0056\u001b[0m\n",
      "\t\t('0.0015 0.0024 0.0031 0.0028 0.0036 0.0036 0.0043 0.0024 0.0031 0.0', 13, 1, 0.0054)\n",
      "\t\u001b[35m0.0036 0.0042 0.0024 0.0031 0.0 0.0015 0.0024 0.0031 0.0028 0.0036\u001b[0m\n",
      "\t\t('0.0015 0.0024 0.0031 0.0028 0.0036 0.0036 0.0042 0.0024 0.0031 0.0', 14, 0, 0.0056)\n",
      "\u001b[35m70\u001b[0m\n",
      "\t\u001b[35m0.0015 0.0042 0.0037 0.0045 0.0069 0.0047 0.0047 0.0047 0.0035 0.0\u001b[0m\n",
      "\t\t('0.0035 0.0041 0.0022 0.0028 0.0 0.0015 0.0023 0.0029 0.0027 0.0035', 13, 2, 0.0054)\n",
      "\t\u001b[35m0.0015 0.0024 0.0031 0.0028 0.0036 0.0036 0.0042 0.0024 0.0031 0.0\u001b[0m\n",
      "\t\t('0.0036 0.0042 0.0024 0.0031 0.0 0.0015 0.0024 0.0031 0.0028 0.0036', 15, 0, 0.0056)\n",
      "\t\u001b[35m0.0022 0.0035 0.0054 0.0044 0.0067 0.006 0.005 0.0042 0.0052 0.0\u001b[0m\n",
      "\t\t('0.0036 0.0042 0.0023 0.003 0.0 0.0015 0.0024 0.003 0.0028 0.0036', 14, 1, 0.0056)\n",
      "\u001b[35m75\u001b[0m\n",
      "\t\u001b[35m0.0051 0.0063 0.0037 0.0042 0.0 0.002 0.0041 0.0037 0.0035 0.0053\u001b[0m\n",
      "\t\t('0.0014 0.0021 0.0027 0.0027 0.0036 0.0036 0.0042 0.0023 0.0029 0.0', 14, 2, 0.0054)\n",
      "\t\u001b[35m0.0068 0.0068 0.0032 0.0052 0.0 0.0016 0.0026 0.0046 0.0051 0.005\u001b[0m\n",
      "\t\t('0.0015 0.0023 0.0029 0.0028 0.0036 0.0036 0.0042 0.0024 0.003 0.0', 15, 1, 0.0055)\n",
      "\t\u001b[35m0.0036 0.0042 0.0024 0.0031 0.0 0.0015 0.0024 0.0031 0.0028 0.0036\u001b[0m\n",
      "\t\t('0.0015 0.0024 0.0031 0.0028 0.0036 0.0036 0.0042 0.0024 0.0031 0.0', 16, 0, 0.0056)\n",
      "\u001b[35m80\u001b[0m\n",
      "\t\u001b[35m0.0028 0.0034 0.0034 0.0029 0.007 0.007 0.0072 0.0046 0.0039 0.0\u001b[0m\n",
      "\t\t('0.0035 0.0042 0.0023 0.003 0.0 0.0014 0.0022 0.0028 0.0027 0.0035', 16, 1, 0.0054)\n",
      "\t\u001b[35m0.0017 0.0023 0.0049 0.0028 0.0062 0.0065 0.0059 0.0037 0.0035 0.0\u001b[0m\n",
      "\t\t('0.0034 0.004 0.0019 0.0025 0.0 0.0014 0.0021 0.0028 0.0026 0.0034', 15, 2, 0.0054)\n",
      "\u001b[35m85\u001b[0m\n",
      "\t\u001b[35m0.0057 0.0064 0.002 0.0047 0.0 0.0024 0.003 0.0038 0.003 0.0037\u001b[0m\n",
      "\t\t('0.0015 0.0023 0.0029 0.0027 0.0036 0.0036 0.0042 0.0024 0.003 0.0', 16, 2, 0.0056)\n",
      "\u001b[1m\u001b[33mT_curr : \u001b[0m 80\n",
      "\u001b[1m\u001b[33mD_curr : \u001b[0m 0.0015 0.0024 0.0031 0.0028 0.0036 0.0036 0.0042 0.0024 0.0031 0.0\n",
      "\u001b[1m\u001b[33mDprime : \u001b[0m 0.0015 0.0023 0.0029 0.0027 0.0036 0.0036 0.0042 0.0024 0.003 0.0\n",
      "\u001b[1m\u001b[31mtotal execution time : \u001b[0m 0.08939999999999998\n",
      "\n",
      "\u001b[5m\u001b[7m\u001b[35m  || ANALYSIS || \n",
      "\u001b[0m\n",
      "[90] Generated RAND_INF Dprime : 0.0026 0.0045 0.0045 0.0053 0.0039 0.004 0.0071 0.0032 0.0052 0.0\n",
      "[85] Generated RAND_INF Dprime : 0.0069 0.0046 0.0034 0.0059 0.0 0.0025 0.0039 0.0056 0.004 0.0059\n",
      "\u001b[34mTO EXPLORE : \u001b[0m\n",
      "\u001b[32m80\u001b[0m -> 0.0015 0.0024 0.0031 0.0028 0.0036 0.0036 0.0042 0.0024 0.0031 0.0\n",
      "\u001b[32m85\u001b[0m -> 0.0069 0.0046 0.0034 0.0059 0.0 0.0025 0.0039 0.0056 0.004 0.0059\n",
      "\u001b[32m90\u001b[0m -> 0.0026 0.0045 0.0045 0.0053 0.0039 0.004 0.0071 0.0032 0.0052 0.0\n",
      "\u001b[32m85\u001b[0m -> 0.0 0.0 0.0 0.0 0.0 0.0 0.0 0.0 0.0 0.0\n",
      "\u001b[32m90\u001b[0m -> 0.0 0.0 0.0 0.0 0.0 0.0 0.0 0.0 0.0 0.0\n",
      "\u001b[32m95\u001b[0m -> 0.0 0.0 0.0 0.0 0.0 0.0 0.0 0.0 0.0 0.0\n",
      "\u001b[5m\u001b[7m\u001b[31m--------------------------------------------  ROUND :  17   --------------------------------------------\n",
      "\u001b[0m\n",
      "\u001b[5m\u001b[7m\u001b[32m  || LAUNCHING || \n",
      "\u001b[0m\n",
      "\u001b[34mTO EXPLORE : \u001b[0m\n",
      "\u001b[32m80\u001b[0m -> 0.0015 0.0024 0.0031 0.0028 0.0036 0.0036 0.0042 0.0024 0.0031 0.0\n",
      "\u001b[32m85\u001b[0m -> 0.0069 0.0046 0.0034 0.0059 0.0 0.0025 0.0039 0.0056 0.004 0.0059\n",
      "\u001b[32m90\u001b[0m -> 0.0026 0.0045 0.0045 0.0053 0.0039 0.004 0.0071 0.0032 0.0052 0.0\n",
      "\u001b[32m85\u001b[0m -> 0.0 0.0 0.0 0.0 0.0 0.0 0.0 0.0 0.0 0.0\n",
      "\u001b[32m90\u001b[0m -> 0.0 0.0 0.0 0.0 0.0 0.0 0.0 0.0 0.0 0.0\n",
      "\u001b[32m95\u001b[0m -> 0.0 0.0 0.0 0.0 0.0 0.0 0.0 0.0 0.0 0.0\n",
      "grisou-47 => 0 NPROCS = 10 MIN = 80 MAX = 85 N = 100 DELAY = '0.0015 0.0024 0.0031 0.0028 0.0036 0.0036 0.0042 0.0024 0.0031 0.0'\n",
      "\n",
      "grisou-48 => 1 NPROCS = 10 MIN = 85 MAX = 90 N = 100 DELAY = '0.0069 0.0046 0.0034 0.0059 0.0 0.0025 0.0039 0.0056 0.004 0.0059'\n",
      "\n",
      "grisou-5 => 2 NPROCS = 10 MIN = 90 MAX = 95 N = 100 DELAY = '0.0026 0.0045 0.0045 0.0053 0.0039 0.004 0.0071 0.0032 0.0052 0.0'\n",
      "\n"
     ]
    },
    {
     "name": "stderr",
     "output_type": "stream",
     "text": [
      "/home/nezzine/.local/lib/python3.5/site-packages/rpy2/robjects/pandas2ri.py:191: FutureWarning: from_items is deprecated. Please use DataFrame.from_dict(dict(items), ...) instead. DataFrame.from_dict(OrderedDict(items)) may be used to preserve the key order.\n",
      "  res = PandasDataFrame.from_items(items)\n"
     ]
    },
    {
     "data": {
      "text/plain": [
       "'data.frame':\t70 obs. of  5 variables:\n",
       " $ Rank    : num  8 8 8 8 8 8 8 7 7 7 ...\n",
       " $ Start   : num  0 0.000217 0.001657 0.004936 0.00601 ...\n",
       " $ End     : num  0 0.00166 0.00494 0.00601 0.00764 ...\n",
       " $ Duration: num  0 0.00144 0.00328 0.00107 0.00163 ...\n",
       " $ State   : Factor w/ 3 levels \"PMPI_Bcast\",\"PMPI_Finalize\",..: 3 1 1 1 1 1 2 3 1 1 ...\n"
      ]
     },
     "metadata": {},
     "output_type": "display_data"
    },
    {
     "data": {
      "image/png": "[encoded data removed]"
     },
     "metadata": {},
     "output_type": "display_data"
    },
    {
     "name": "stderr",
     "output_type": "stream",
     "text": [
      "/home/nezzine/.local/lib/python3.5/site-packages/rpy2/robjects/pandas2ri.py:191: FutureWarning: from_items is deprecated. Please use DataFrame.from_dict(dict(items), ...) instead. DataFrame.from_dict(OrderedDict(items)) may be used to preserve the key order.\n",
      "  res = PandasDataFrame.from_items(items)\n"
     ]
    },
    {
     "data": {
      "text/plain": [
       "'data.frame':\t70 obs. of  5 variables:\n",
       " $ Rank    : num  8 8 8 8 8 8 8 7 7 7 ...\n",
       " $ Start   : num  0 0.00028 0.0024 0.00343 0.00406 ...\n",
       " $ End     : num  0 0.0024 0.00343 0.00406 0.00406 ...\n",
       " $ Duration: num  0 0.002118 0.001032 0.000626 0 ...\n",
       " $ State   : Factor w/ 3 levels \"PMPI_Bcast\",\"PMPI_Finalize\",..: 3 1 1 1 1 1 2 3 1 1 ...\n"
      ]
     },
     "metadata": {},
     "output_type": "display_data"
    },
    {
     "data": {
      "image/png": "[encoded data removed]"
     },
     "metadata": {},
     "output_type": "display_data"
    },
    {
     "name": "stderr",
     "output_type": "stream",
     "text": [
      "/home/nezzine/.local/lib/python3.5/site-packages/rpy2/robjects/pandas2ri.py:191: FutureWarning: from_items is deprecated. Please use DataFrame.from_dict(dict(items), ...) instead. DataFrame.from_dict(OrderedDict(items)) may be used to preserve the key order.\n",
      "  res = PandasDataFrame.from_items(items)\n"
     ]
    },
    {
     "data": {
      "text/plain": [
       "'data.frame':\t70 obs. of  5 variables:\n",
       " $ Rank    : num  8 8 8 8 8 8 8 7 7 7 ...\n",
       " $ Start   : num  0 0.000364 0.001778 0.005015 0.006139 ...\n",
       " $ End     : num  0 0.00178 0.00502 0.00614 0.00778 ...\n",
       " $ Duration: num  0 0.00141 0.00324 0.00112 0.00164 ...\n",
       " $ State   : Factor w/ 3 levels \"PMPI_Bcast\",\"PMPI_Finalize\",..: 3 1 1 1 1 1 2 3 1 1 ...\n"
      ]
     },
     "metadata": {},
     "output_type": "display_data"
    },
    {
     "data": {
      "image/png": "[encoded data removed]"
     },
     "metadata": {},
     "output_type": "display_data"
    },
    {
     "name": "stdout",
     "output_type": "stream",
     "text": [
      "\u001b[33mT_curr : \u001b[0m 80\n",
      "\u001b[33mD_curr : \u001b[0m 0.0015 0.0024 0.0031 0.0028 0.0036 0.0036 0.0042 0.0024 0.0031 0.0\n",
      "\u001b[33mDprime : \u001b[0m 0.0036 0.0043 0.0025 0.0031 0.0 0.0015 0.0024 0.003 0.0028 0.0036\n",
      "\u001b[31mtotal execution time : \u001b[0m 0.08939999999999998\n",
      "\n",
      "returning: 0.0015 0.0024 0.0031 0.0028 0.0036 0.0036 0.0042 0.0024 0.0031 0.0\n",
      "\u001b[5m\u001b[7m\u001b[31m\n",
      "  || RESULTS || \n",
      "\u001b[0m\n",
      "\u001b[34mTO EXPLORE : \u001b[0m\n",
      "\u001b[32m85\u001b[0m -> 0.0 0.0 0.0 0.0 0.0 0.0 0.0 0.0 0.0 0.0\n",
      "\u001b[32m90\u001b[0m -> 0.0 0.0 0.0 0.0 0.0 0.0 0.0 0.0 0.0 0.0\n",
      "\u001b[32m95\u001b[0m -> 0.0 0.0 0.0 0.0 0.0 0.0 0.0 0.0 0.0 0.0\n",
      "\u001b[35m0\u001b[0m\n",
      "\t\u001b[35m0.0 0.0 0.0 0.0 0.0 0.0 0.0 0.0 0.0 0.0\u001b[0m\n",
      "\t\t('0.0037 0.0043 0.0025 0.0031 0.0 0.0016 0.0025 0.0031 0.0028 0.0037', 1, 0, 0.0054)\n",
      "\u001b[35m5\u001b[0m\n",
      "\t\u001b[35m0.0037 0.0043 0.0025 0.0031 0.0 0.0016 0.0025 0.0031 0.0028 0.0037\u001b[0m\n",
      "\t\t('0.0015 0.0024 0.0031 0.0028 0.0036 0.0036 0.0042 0.0024 0.0031 0.0', 2, 0, 0.0056)\n",
      "\t\u001b[35m0.0 0.0 0.0 0.0 0.0 0.0 0.0 0.0 0.0 0.0\u001b[0m\n",
      "\t\t('0.0016 0.0025 0.0031 0.0028 0.0037 0.0037 0.0043 0.0025 0.0031 0.0', 1, 1, 0.0054)\n",
      "\u001b[35m10\u001b[0m\n",
      "\t\u001b[35m0.0028 0.003 0.0035 0.0043 0.005 0.0043 0.0057 0.0028 0.0047 0.0\u001b[0m\n",
      "\t\t('0.0036 0.0042 0.0023 0.003 0.0 0.0014 0.0021 0.0027 0.0028 0.0036', 2, 1, 0.0053)\n",
      "\t\u001b[35m0.0015 0.0024 0.0031 0.0028 0.0036 0.0036 0.0042 0.0024 0.0031 0.0\u001b[0m\n",
      "\t\t('0.0036 0.0042 0.0024 0.0031 0.0 0.0015 0.0024 0.0031 0.0028 0.0036', 3, 0, 0.0056)\n",
      "\t\u001b[35m0.0 0.0 0.0 0.0 0.0 0.0 0.0 0.0 0.0 0.0\u001b[0m\n",
      "\t\t('0.0037 0.0043 0.0025 0.0031 0.0 0.0016 0.0025 0.0031 0.0028 0.0037', 1, 2, 0.0054)\n",
      "\u001b[35m15\u001b[0m\n",
      "\t\u001b[35m0.0036 0.0042 0.0024 0.0031 0.0 0.0015 0.0024 0.0031 0.0028 0.0036\u001b[0m\n",
      "\t\t('0.0015 0.0024 0.0031 0.0028 0.0036 0.0036 0.0042 0.0024 0.0031 0.0', 4, 0, 0.0056)\n",
      "\t\u001b[35m0.0063 0.0078 0.0031 0.0045 0.0 0.0026 0.0023 0.0043 0.0034 0.0066\u001b[0m\n",
      "\t\t('0.0015 0.0023 0.0029 0.0027 0.0036 0.0036 0.0042 0.0024 0.003 0.0', 3, 1, 0.0055)\n",
      "\t\u001b[35m0.0065 0.0083 0.0044 0.0044 0.0 0.0023 0.0043 0.0033 0.0031 0.0072\u001b[0m\n",
      "\t\t('0.0014 0.0021 0.0027 0.0029 0.0038 0.0038 0.0044 0.0024 0.003 0.0', 2, 2, 0.0049)\n",
      "\u001b[35m20\u001b[0m\n",
      "\t\u001b[35m0.002 0.0034 0.0043 0.004 0.0043 0.0049 0.0069 0.0039 0.0032 0.0\u001b[0m\n",
      "\t\t('0.0034 0.004 0.0019 0.0026 0.0 0.0014 0.0022 0.0028 0.0026 0.0034', 4, 1, 0.0055)\n",
      "\t\u001b[35m0.0015 0.0024 0.0031 0.0028 0.0036 0.0036 0.0042 0.0024 0.0031 0.0\u001b[0m\n",
      "\t\t('0.0036 0.0042 0.0024 0.0031 0.0 0.0015 0.0024 0.0031 0.0028 0.0036', 5, 0, 0.0056)\n",
      "\t\u001b[35m0.0026 0.0023 0.0028 0.0049 0.0066 0.0076 0.0077 0.0029 0.0035 0.0\u001b[0m\n",
      "\t\t('0.0036 0.0043 0.0024 0.003 0.0 0.0015 0.0022 0.0029 0.0028 0.0036', 3, 2, 0.0052)\n",
      "\u001b[35m25\u001b[0m\n",
      "\t\u001b[35m0.004 0.0079 0.0044 0.0047 0.0 0.002 0.0027 0.0054 0.0038 0.0059\u001b[0m\n",
      "\t\t('0.0015 0.0023 0.0029 0.0027 0.0035 0.0035 0.0041 0.0021 0.0028 0.0', 4, 2, 0.0055)\n",
      "\t\u001b[35m0.0064 0.0073 0.0031 0.0043 0.0 0.0027 0.0026 0.0039 0.0041 0.0036\u001b[0m\n",
      "\t\t('0.0015 0.0024 0.003 0.0028 0.0036 0.0036 0.0043 0.0025 0.0031 0.0', 5, 1, 0.0056)\n",
      "\t\u001b[35m0.0036 0.0042 0.0024 0.0031 0.0 0.0015 0.0024 0.0031 0.0028 0.0036\u001b[0m\n",
      "\t\t('0.0015 0.0024 0.0031 0.0028 0.0036 0.0036 0.0042 0.0024 0.0031 0.0', 6, 0, 0.0056)\n",
      "\u001b[35m30\u001b[0m\n",
      "\t\u001b[35m0.0015 0.0024 0.0031 0.0028 0.0036 0.0036 0.0042 0.0024 0.0031 0.0\u001b[0m\n",
      "\t\t('0.0036 0.0042 0.0024 0.0031 0.0 0.0015 0.0024 0.0031 0.0028 0.0036', 7, 0, 0.0056)\n",
      "\t\u001b[35m0.0022 0.0037 0.0048 0.0049 0.006 0.0043 0.0042 0.0031 0.0035 0.0\u001b[0m\n",
      "\t\t('0.0034 0.0041 0.0019 0.0026 0.0 0.0015 0.0022 0.0028 0.0026 0.0034', 5, 2, 0.0054)\n",
      "\t\u001b[35m0.0017 0.0038 0.005 0.0047 0.0042 0.0053 0.0075 0.0037 0.0039 0.0\u001b[0m\n",
      "\t\t('0.0035 0.0041 0.0021 0.0028 0.0 0.0015 0.0023 0.003 0.0027 0.0035', 6, 1, 0.0056)\n",
      "\u001b[35m35\u001b[0m\n",
      "\t\u001b[35m0.0036 0.0042 0.0024 0.0031 0.0 0.0015 0.0024 0.0031 0.0028 0.0036\u001b[0m\n",
      "\t\t('0.0015 0.0024 0.0031 0.0028 0.0036 0.0036 0.0042 0.0024 0.0031 0.0', 8, 0, 0.0056)\n",
      "\t\u001b[35m0.0069 0.0078 0.0024 0.0047 0.0 0.0019 0.0037 0.0036 0.0039 0.0047\u001b[0m\n",
      "\t\t('0.0014 0.0021 0.0028 0.0028 0.0036 0.0036 0.0043 0.0024 0.003 0.0', 7, 1, 0.0053)\n",
      "\t\u001b[35m0.0059 0.0062 0.003 0.003 0.0 0.0017 0.0039 0.0047 0.0044 0.0054\u001b[0m\n",
      "\t\t('0.0014 0.002 0.0026 0.0025 0.0033 0.0033 0.0039 0.0018 0.0024 0.0', 6, 2, 0.0054)\n",
      "\u001b[35m40\u001b[0m\n",
      "\t\u001b[35m0.0027 0.0023 0.0052 0.0052 0.0064 0.0066 0.0081 0.0024 0.0043 0.0\u001b[0m\n",
      "\t\t('0.0034 0.004 0.002 0.0026 0.0 0.0014 0.0022 0.0028 0.0026 0.0034', 8, 1, 0.0055)\n",
      "\t\u001b[35m0.0015 0.0024 0.0031 0.0028 0.0036 0.0036 0.0042 0.0024 0.0031 0.0\u001b[0m\n",
      "\t\t('0.0036 0.0042 0.0024 0.0031 0.0 0.0015 0.0024 0.0031 0.0028 0.0036', 9, 0, 0.0056)\n",
      "\t\u001b[35m0.0022 0.0031 0.0042 0.0028 0.0048 0.0044 0.0055 0.0034 0.003 0.0\u001b[0m\n",
      "\t\t('0.0035 0.0041 0.002 0.0026 0.0 0.0015 0.0022 0.0028 0.0026 0.0035', 7, 2, 0.0054)\n",
      "\u001b[35m45\u001b[0m\n",
      "\t\u001b[35m0.0041 0.0077 0.0026 0.0038 0.0 0.0023 0.0037 0.0051 0.0039 0.0034\u001b[0m\n",
      "\t\t('0.0015 0.0023 0.0029 0.0027 0.0035 0.0035 0.0041 0.0021 0.0028 0.0', 9, 1, 0.0057)\n",
      "\t\u001b[35m0.006 0.0041 0.0026 0.0043 0.0 0.0024 0.0032 0.0043 0.0034 0.0039\u001b[0m\n",
      "\t\t('0.0015 0.0024 0.0031 0.0028 0.0036 0.0036 0.0042 0.0024 0.0031 0.0', 8, 2, 0.0057)\n",
      "\t\u001b[35m0.0036 0.0042 0.0024 0.0031 0.0 0.0015 0.0024 0.0031 0.0028 0.0036\u001b[0m\n",
      "\t\t('0.0015 0.0024 0.0031 0.0028 0.0036 0.0036 0.0042 0.0024 0.0031 0.0', 10, 0, 0.0056)\n",
      "\u001b[35m50\u001b[0m\n",
      "\t\u001b[35m0.0015 0.0024 0.0031 0.0028 0.0036 0.0036 0.0042 0.0024 0.0031 0.0\u001b[0m\n",
      "\t\t('0.0036 0.0042 0.0024 0.0031 0.0 0.0015 0.0024 0.0031 0.0028 0.0036', 11, 0, 0.0056)\n",
      "\t\u001b[35m0.003 0.0046 0.006 0.0044 0.0061 0.0064 0.0066 0.004 0.0041 0.0\u001b[0m\n",
      "\t\t('0.0033 0.0039 0.0018 0.0024 0.0 0.0014 0.002 0.0027 0.0025 0.0033', 9, 2, 0.0055)\n",
      "\t\u001b[35m0.0029 0.0023 0.0037 0.0039 0.0063 0.0059 0.0078 0.0032 0.0031 0.0\u001b[0m\n",
      "\t\t('0.0035 0.0041 0.0021 0.0028 0.0 0.0015 0.0023 0.0029 0.0027 0.0035', 10, 1, 0.0054)\n",
      "\u001b[35m55\u001b[0m\n",
      "\t\u001b[35m0.0039 0.0076 0.0034 0.0034 0.0 0.0024 0.0028 0.004 0.0029 0.0043\u001b[0m\n",
      "\t\t('0.0015 0.0023 0.003 0.0027 0.0035 0.0035 0.0042 0.0022 0.0028 0.0', 11, 1, 0.0055)\n",
      "\t\u001b[35m0.0044 0.0076 0.0026 0.0025 0.0 0.0025 0.0038 0.0052 0.0047 0.006\u001b[0m\n",
      "\t\t('0.0013 0.002 0.0026 0.0025 0.0033 0.0033 0.0039 0.0018 0.0024 0.0', 10, 2, 0.0053)\n",
      "\t\u001b[35m0.0036 0.0042 0.0024 0.0031 0.0 0.0015 0.0024 0.0031 0.0028 0.0036\u001b[0m\n",
      "\t\t('0.0015 0.0024 0.0031 0.0028 0.0036 0.0036 0.0042 0.0024 0.0031 0.0', 12, 0, 0.0056)\n",
      "\u001b[35m60\u001b[0m\n",
      "\t\u001b[35m0.0019 0.0034 0.0058 0.0052 0.0048 0.0046 0.0063 0.0024 0.0053 0.0\u001b[0m\n",
      "\t\t('0.0036 0.0042 0.0024 0.003 0.0 0.0015 0.0024 0.003 0.0028 0.0036', 12, 1, 0.0057)\n",
      "\t\u001b[35m0.0015 0.0024 0.0031 0.0028 0.0036 0.0036 0.0042 0.0024 0.0031 0.0\u001b[0m\n",
      "\t\t('0.0036 0.0042 0.0024 0.0031 0.0 0.0015 0.0024 0.0031 0.0028 0.0036', 13, 0, 0.0056)\n",
      "\t\u001b[35m0.0016 0.0036 0.004 0.0034 0.0045 0.0034 0.0059 0.0022 0.0027 0.0\u001b[0m\n",
      "\t\t('0.0033 0.004 0.0018 0.0024 0.0 0.0014 0.002 0.0027 0.0025 0.0033', 11, 2, 0.0054)\n",
      "\u001b[35m65\u001b[0m\n",
      "\t\u001b[35m0.0056 0.0052 0.0032 0.0047 0.0 0.0017 0.0036 0.0035 0.0035 0.0059\u001b[0m\n",
      "\t\t('0.0014 0.0021 0.0028 0.0028 0.0037 0.0037 0.0043 0.0024 0.003 0.0', 12, 2, 0.0052)\n",
      "\t\u001b[35m0.0063 0.0059 0.003 0.0031 0.0 0.0021 0.0042 0.0031 0.0029 0.0056\u001b[0m\n",
      "\t\t('0.0015 0.0024 0.0031 0.0028 0.0036 0.0036 0.0043 0.0024 0.0031 0.0', 13, 1, 0.0054)\n",
      "\t\u001b[35m0.0036 0.0042 0.0024 0.0031 0.0 0.0015 0.0024 0.0031 0.0028 0.0036\u001b[0m\n",
      "\t\t('0.0015 0.0024 0.0031 0.0028 0.0036 0.0036 0.0042 0.0024 0.0031 0.0', 14, 0, 0.0056)\n",
      "\u001b[35m70\u001b[0m\n",
      "\t\u001b[35m0.0015 0.0042 0.0037 0.0045 0.0069 0.0047 0.0047 0.0047 0.0035 0.0\u001b[0m\n",
      "\t\t('0.0035 0.0041 0.0022 0.0028 0.0 0.0015 0.0023 0.0029 0.0027 0.0035', 13, 2, 0.0054)\n",
      "\t\u001b[35m0.0015 0.0024 0.0031 0.0028 0.0036 0.0036 0.0042 0.0024 0.0031 0.0\u001b[0m\n",
      "\t\t('0.0036 0.0042 0.0024 0.0031 0.0 0.0015 0.0024 0.0031 0.0028 0.0036', 15, 0, 0.0056)\n",
      "\t\u001b[35m0.0022 0.0035 0.0054 0.0044 0.0067 0.006 0.005 0.0042 0.0052 0.0\u001b[0m\n",
      "\t\t('0.0036 0.0042 0.0023 0.003 0.0 0.0015 0.0024 0.003 0.0028 0.0036', 14, 1, 0.0056)\n",
      "\u001b[35m75\u001b[0m\n",
      "\t\u001b[35m0.0051 0.0063 0.0037 0.0042 0.0 0.002 0.0041 0.0037 0.0035 0.0053\u001b[0m\n",
      "\t\t('0.0014 0.0021 0.0027 0.0027 0.0036 0.0036 0.0042 0.0023 0.0029 0.0', 14, 2, 0.0054)\n",
      "\t\u001b[35m0.0068 0.0068 0.0032 0.0052 0.0 0.0016 0.0026 0.0046 0.0051 0.005\u001b[0m\n",
      "\t\t('0.0015 0.0023 0.0029 0.0028 0.0036 0.0036 0.0042 0.0024 0.003 0.0', 15, 1, 0.0055)\n",
      "\t\u001b[35m0.0036 0.0042 0.0024 0.0031 0.0 0.0015 0.0024 0.0031 0.0028 0.0036\u001b[0m\n",
      "\t\t('0.0015 0.0024 0.0031 0.0028 0.0036 0.0036 0.0042 0.0024 0.0031 0.0', 16, 0, 0.0056)\n",
      "\u001b[35m80\u001b[0m\n",
      "\t\u001b[35m0.0015 0.0024 0.0031 0.0028 0.0036 0.0036 0.0042 0.0024 0.0031 0.0\u001b[0m\n",
      "\t\t('0.0036 0.0042 0.0024 0.0031 0.0 0.0015 0.0024 0.0031 0.0028 0.0036', 17, 0, 0.0056)\n",
      "\t\u001b[35m0.0028 0.0034 0.0034 0.0029 0.007 0.007 0.0072 0.0046 0.0039 0.0\u001b[0m\n",
      "\t\t('0.0035 0.0042 0.0023 0.003 0.0 0.0014 0.0022 0.0028 0.0027 0.0035', 16, 1, 0.0054)\n",
      "\t\u001b[35m0.0017 0.0023 0.0049 0.0028 0.0062 0.0065 0.0059 0.0037 0.0035 0.0\u001b[0m\n",
      "\t\t('0.0034 0.004 0.0019 0.0025 0.0 0.0014 0.0021 0.0028 0.0026 0.0034', 15, 2, 0.0054)\n",
      "\u001b[35m85\u001b[0m\n",
      "\t\u001b[35m0.0057 0.0064 0.002 0.0047 0.0 0.0024 0.003 0.0038 0.003 0.0037\u001b[0m\n",
      "\t\t('0.0015 0.0023 0.0029 0.0027 0.0036 0.0036 0.0042 0.0024 0.003 0.0', 16, 2, 0.0056)\n",
      "\t\u001b[35m0.0069 0.0046 0.0034 0.0059 0.0 0.0025 0.0039 0.0056 0.004 0.0059\u001b[0m\n",
      "\t\t('0.0015 0.0024 0.003 0.0028 0.0036 0.0036 0.0043 0.0025 0.0031 0.0', 17, 1, 0.0056)\n",
      "\u001b[35m90\u001b[0m\n",
      "\t\u001b[35m0.0026 0.0045 0.0045 0.0053 0.0039 0.004 0.0071 0.0032 0.0052 0.0\u001b[0m\n",
      "\t\t('0.0036 0.0043 0.0025 0.0031 0.0 0.0015 0.0024 0.003 0.0028 0.0036', 17, 2, 0.0057)\n",
      "\u001b[1m\u001b[33mT_curr : \u001b[0m 85\n",
      "\u001b[1m\u001b[33mD_curr : \u001b[0m 0.0036 0.0042 0.0024 0.0031 0.0 0.0015 0.0024 0.0031 0.0028 0.0036\n",
      "\u001b[1m\u001b[33mDprime : \u001b[0m 0.0036 0.0043 0.0025 0.0031 0.0 0.0015 0.0024 0.003 0.0028 0.0036\n",
      "\u001b[1m\u001b[31mtotal execution time : \u001b[0m 0.09499999999999997\n",
      "\n",
      "\u001b[5m\u001b[7m\u001b[35m  || ANALYSIS || \n",
      "\u001b[0m\n",
      "[95] Generated RAND_INF Dprime : 0.0066 0.0056 0.0045 0.005 0.0 0.0017 0.0027 0.0043 0.0028 0.006\n",
      "[90] Generated RAND_INF Dprime : 0.0017 0.003 0.0058 0.0047 0.0057 0.0065 0.0063 0.0048 0.0034 0.0\n",
      "\u001b[34mTO EXPLORE : \u001b[0m\n",
      "\u001b[32m85\u001b[0m -> 0.0036 0.0042 0.0024 0.0031 0.0 0.0015 0.0024 0.0031 0.0028 0.0036\n",
      "\u001b[32m90\u001b[0m -> 0.0017 0.003 0.0058 0.0047 0.0057 0.0065 0.0063 0.0048 0.0034 0.0\n",
      "\u001b[32m95\u001b[0m -> 0.0066 0.0056 0.0045 0.005 0.0 0.0017 0.0027 0.0043 0.0028 0.006\n",
      "\u001b[32m90\u001b[0m -> 0.0 0.0 0.0 0.0 0.0 0.0 0.0 0.0 0.0 0.0\n",
      "\u001b[32m95\u001b[0m -> 0.0 0.0 0.0 0.0 0.0 0.0 0.0 0.0 0.0 0.0\n",
      "\u001b[5m\u001b[7m\u001b[31m--------------------------------------------  ROUND :  18   --------------------------------------------\n",
      "\u001b[0m\n",
      "\u001b[5m\u001b[7m\u001b[32m  || LAUNCHING || \n",
      "\u001b[0m\n",
      "\u001b[34mTO EXPLORE : \u001b[0m\n",
      "\u001b[32m85\u001b[0m -> 0.0036 0.0042 0.0024 0.0031 0.0 0.0015 0.0024 0.0031 0.0028 0.0036\n",
      "\u001b[32m90\u001b[0m -> 0.0017 0.003 0.0058 0.0047 0.0057 0.0065 0.0063 0.0048 0.0034 0.0\n",
      "\u001b[32m95\u001b[0m -> 0.0066 0.0056 0.0045 0.005 0.0 0.0017 0.0027 0.0043 0.0028 0.006\n",
      "\u001b[32m90\u001b[0m -> 0.0 0.0 0.0 0.0 0.0 0.0 0.0 0.0 0.0 0.0\n",
      "\u001b[32m95\u001b[0m -> 0.0 0.0 0.0 0.0 0.0 0.0 0.0 0.0 0.0 0.0\n",
      "grisou-47 => 0 NPROCS = 10 MIN = 85 MAX = 90 N = 100 DELAY = '0.0036 0.0042 0.0024 0.0031 0.0 0.0015 0.0024 0.0031 0.0028 0.0036'\n",
      "\n",
      "grisou-48 => 1 NPROCS = 10 MIN = 90 MAX = 95 N = 100 DELAY = '0.0017 0.003 0.0058 0.0047 0.0057 0.0065 0.0063 0.0048 0.0034 0.0'\n",
      "\n",
      "grisou-5 => 2 NPROCS = 10 MIN = 95 MAX = 100 N = 100 DELAY = '0.0066 0.0056 0.0045 0.005 0.0 0.0017 0.0027 0.0043 0.0028 0.006'\n",
      "\n"
     ]
    },
    {
     "name": "stderr",
     "output_type": "stream",
     "text": [
      "/home/nezzine/.local/lib/python3.5/site-packages/rpy2/robjects/pandas2ri.py:191: FutureWarning: from_items is deprecated. Please use DataFrame.from_dict(dict(items), ...) instead. DataFrame.from_dict(OrderedDict(items)) may be used to preserve the key order.\n",
      "  res = PandasDataFrame.from_items(items)\n"
     ]
    },
    {
     "data": {
      "text/plain": [
       "'data.frame':\t70 obs. of  5 variables:\n",
       " $ Rank    : num  8 8 8 8 8 8 8 7 7 7 ...\n",
       " $ Start   : num  0 0.000196 0.002283 0.003331 0.003957 ...\n",
       " $ End     : num  0 0.00228 0.00333 0.00396 0.00396 ...\n",
       " $ Duration: num  0 0.002087 0.001048 0.000626 0 ...\n",
       " $ State   : Factor w/ 3 levels \"PMPI_Bcast\",\"PMPI_Finalize\",..: 3 1 1 1 1 1 2 3 1 1 ...\n"
      ]
     },
     "metadata": {},
     "output_type": "display_data"
    },
    {
     "data": {
      "image/png": "[encoded data removed]"
     },
     "metadata": {},
     "output_type": "display_data"
    },
    {
     "name": "stderr",
     "output_type": "stream",
     "text": [
      "/home/nezzine/.local/lib/python3.5/site-packages/rpy2/robjects/pandas2ri.py:191: FutureWarning: from_items is deprecated. Please use DataFrame.from_dict(dict(items), ...) instead. DataFrame.from_dict(OrderedDict(items)) may be used to preserve the key order.\n",
      "  res = PandasDataFrame.from_items(items)\n"
     ]
    },
    {
     "data": {
      "text/plain": [
       "'data.frame':\t70 obs. of  5 variables:\n",
       " $ Rank    : num  8 8 8 8 8 8 8 7 7 7 ...\n",
       " $ Start   : num  0 0.000238 0.001541 0.004862 0.0058 ...\n",
       " $ End     : num  0 0.00154 0.00486 0.0058 0.0073 ...\n",
       " $ Duration: num  0 0.001303 0.003321 0.000938 0.001505 ...\n",
       " $ State   : Factor w/ 3 levels \"PMPI_Bcast\",\"PMPI_Finalize\",..: 3 1 1 1 1 1 2 3 1 1 ...\n"
      ]
     },
     "metadata": {},
     "output_type": "display_data"
    },
    {
     "data": {
      "image/png": "[encoded data removed]"
     },
     "metadata": {},
     "output_type": "display_data"
    },
    {
     "name": "stderr",
     "output_type": "stream",
     "text": [
      "/home/nezzine/.local/lib/python3.5/site-packages/rpy2/robjects/pandas2ri.py:191: FutureWarning: from_items is deprecated. Please use DataFrame.from_dict(dict(items), ...) instead. DataFrame.from_dict(OrderedDict(items)) may be used to preserve the key order.\n",
      "  res = PandasDataFrame.from_items(items)\n"
     ]
    },
    {
     "data": {
      "text/plain": [
       "'data.frame':\t70 obs. of  5 variables:\n",
       " $ Rank    : num  8 8 8 8 8 8 8 7 7 7 ...\n",
       " $ Start   : num  0 0.000196 0.002261 0.003245 0.003871 ...\n",
       " $ End     : num  0 0.00226 0.00325 0.00387 0.00387 ...\n",
       " $ Duration: num  0 0.002065 0.000984 0.000626 0 ...\n",
       " $ State   : Factor w/ 3 levels \"PMPI_Bcast\",\"PMPI_Finalize\",..: 3 1 1 1 1 1 2 3 1 1 ...\n"
      ]
     },
     "metadata": {},
     "output_type": "display_data"
    },
    {
     "data": {
      "image/png": "[encoded data removed]"
     },
     "metadata": {},
     "output_type": "display_data"
    },
    {
     "name": "stdout",
     "output_type": "stream",
     "text": [
      "\u001b[33mT_curr : \u001b[0m 85\n",
      "\u001b[33mD_curr : \u001b[0m 0.0036 0.0042 0.0024 0.0031 0.0 0.0015 0.0024 0.0031 0.0028 0.0036\n",
      "\u001b[33mDprime : \u001b[0m 0.0014 0.0022 0.0028 0.0028 0.0036 0.0036 0.0042 0.0024 0.003 0.0\n",
      "\u001b[31mtotal execution time : \u001b[0m 0.09499999999999997\n",
      "\n",
      "returning: 0.0036 0.0042 0.0024 0.0031 0.0 0.0015 0.0024 0.0031 0.0028 0.0036\n",
      "\u001b[5m\u001b[7m\u001b[31m\n",
      "  || RESULTS || \n",
      "\u001b[0m\n",
      "\u001b[34mTO EXPLORE : \u001b[0m\n",
      "\u001b[32m90\u001b[0m -> 0.0 0.0 0.0 0.0 0.0 0.0 0.0 0.0 0.0 0.0\n",
      "\u001b[32m95\u001b[0m -> 0.0 0.0 0.0 0.0 0.0 0.0 0.0 0.0 0.0 0.0\n",
      "\u001b[35m0\u001b[0m\n",
      "\t\u001b[35m0.0 0.0 0.0 0.0 0.0 0.0 0.0 0.0 0.0 0.0\u001b[0m\n",
      "\t\t('0.0037 0.0043 0.0025 0.0031 0.0 0.0016 0.0025 0.0031 0.0028 0.0037', 1, 0, 0.0054)\n",
      "\u001b[35m5\u001b[0m\n",
      "\t\u001b[35m0.0037 0.0043 0.0025 0.0031 0.0 0.0016 0.0025 0.0031 0.0028 0.0037\u001b[0m\n",
      "\t\t('0.0015 0.0024 0.0031 0.0028 0.0036 0.0036 0.0042 0.0024 0.0031 0.0', 2, 0, 0.0056)\n",
      "\t\u001b[35m0.0 0.0 0.0 0.0 0.0 0.0 0.0 0.0 0.0 0.0\u001b[0m\n",
      "\t\t('0.0016 0.0025 0.0031 0.0028 0.0037 0.0037 0.0043 0.0025 0.0031 0.0', 1, 1, 0.0054)\n",
      "\u001b[35m10\u001b[0m\n",
      "\t\u001b[35m0.0028 0.003 0.0035 0.0043 0.005 0.0043 0.0057 0.0028 0.0047 0.0\u001b[0m\n",
      "\t\t('0.0036 0.0042 0.0023 0.003 0.0 0.0014 0.0021 0.0027 0.0028 0.0036', 2, 1, 0.0053)\n",
      "\t\u001b[35m0.0015 0.0024 0.0031 0.0028 0.0036 0.0036 0.0042 0.0024 0.0031 0.0\u001b[0m\n",
      "\t\t('0.0036 0.0042 0.0024 0.0031 0.0 0.0015 0.0024 0.0031 0.0028 0.0036', 3, 0, 0.0056)\n",
      "\t\u001b[35m0.0 0.0 0.0 0.0 0.0 0.0 0.0 0.0 0.0 0.0\u001b[0m\n",
      "\t\t('0.0037 0.0043 0.0025 0.0031 0.0 0.0016 0.0025 0.0031 0.0028 0.0037', 1, 2, 0.0054)\n",
      "\u001b[35m15\u001b[0m\n",
      "\t\u001b[35m0.0036 0.0042 0.0024 0.0031 0.0 0.0015 0.0024 0.0031 0.0028 0.0036\u001b[0m\n",
      "\t\t('0.0015 0.0024 0.0031 0.0028 0.0036 0.0036 0.0042 0.0024 0.0031 0.0', 4, 0, 0.0056)\n",
      "\t\u001b[35m0.0063 0.0078 0.0031 0.0045 0.0 0.0026 0.0023 0.0043 0.0034 0.0066\u001b[0m\n",
      "\t\t('0.0015 0.0023 0.0029 0.0027 0.0036 0.0036 0.0042 0.0024 0.003 0.0', 3, 1, 0.0055)\n",
      "\t\u001b[35m0.0065 0.0083 0.0044 0.0044 0.0 0.0023 0.0043 0.0033 0.0031 0.0072\u001b[0m\n",
      "\t\t('0.0014 0.0021 0.0027 0.0029 0.0038 0.0038 0.0044 0.0024 0.003 0.0', 2, 2, 0.0049)\n",
      "\u001b[35m20\u001b[0m\n",
      "\t\u001b[35m0.002 0.0034 0.0043 0.004 0.0043 0.0049 0.0069 0.0039 0.0032 0.0\u001b[0m\n",
      "\t\t('0.0034 0.004 0.0019 0.0026 0.0 0.0014 0.0022 0.0028 0.0026 0.0034', 4, 1, 0.0055)\n",
      "\t\u001b[35m0.0015 0.0024 0.0031 0.0028 0.0036 0.0036 0.0042 0.0024 0.0031 0.0\u001b[0m\n",
      "\t\t('0.0036 0.0042 0.0024 0.0031 0.0 0.0015 0.0024 0.0031 0.0028 0.0036', 5, 0, 0.0056)\n",
      "\t\u001b[35m0.0026 0.0023 0.0028 0.0049 0.0066 0.0076 0.0077 0.0029 0.0035 0.0\u001b[0m\n",
      "\t\t('0.0036 0.0043 0.0024 0.003 0.0 0.0015 0.0022 0.0029 0.0028 0.0036', 3, 2, 0.0052)\n",
      "\u001b[35m25\u001b[0m\n",
      "\t\u001b[35m0.004 0.0079 0.0044 0.0047 0.0 0.002 0.0027 0.0054 0.0038 0.0059\u001b[0m\n",
      "\t\t('0.0015 0.0023 0.0029 0.0027 0.0035 0.0035 0.0041 0.0021 0.0028 0.0', 4, 2, 0.0055)\n",
      "\t\u001b[35m0.0064 0.0073 0.0031 0.0043 0.0 0.0027 0.0026 0.0039 0.0041 0.0036\u001b[0m\n",
      "\t\t('0.0015 0.0024 0.003 0.0028 0.0036 0.0036 0.0043 0.0025 0.0031 0.0', 5, 1, 0.0056)\n",
      "\t\u001b[35m0.0036 0.0042 0.0024 0.0031 0.0 0.0015 0.0024 0.0031 0.0028 0.0036\u001b[0m\n",
      "\t\t('0.0015 0.0024 0.0031 0.0028 0.0036 0.0036 0.0042 0.0024 0.0031 0.0', 6, 0, 0.0056)\n",
      "\u001b[35m30\u001b[0m\n",
      "\t\u001b[35m0.0015 0.0024 0.0031 0.0028 0.0036 0.0036 0.0042 0.0024 0.0031 0.0\u001b[0m\n",
      "\t\t('0.0036 0.0042 0.0024 0.0031 0.0 0.0015 0.0024 0.0031 0.0028 0.0036', 7, 0, 0.0056)\n",
      "\t\u001b[35m0.0022 0.0037 0.0048 0.0049 0.006 0.0043 0.0042 0.0031 0.0035 0.0\u001b[0m\n",
      "\t\t('0.0034 0.0041 0.0019 0.0026 0.0 0.0015 0.0022 0.0028 0.0026 0.0034', 5, 2, 0.0054)\n",
      "\t\u001b[35m0.0017 0.0038 0.005 0.0047 0.0042 0.0053 0.0075 0.0037 0.0039 0.0\u001b[0m\n",
      "\t\t('0.0035 0.0041 0.0021 0.0028 0.0 0.0015 0.0023 0.003 0.0027 0.0035', 6, 1, 0.0056)\n",
      "\u001b[35m35\u001b[0m\n",
      "\t\u001b[35m0.0036 0.0042 0.0024 0.0031 0.0 0.0015 0.0024 0.0031 0.0028 0.0036\u001b[0m\n",
      "\t\t('0.0015 0.0024 0.0031 0.0028 0.0036 0.0036 0.0042 0.0024 0.0031 0.0', 8, 0, 0.0056)\n",
      "\t\u001b[35m0.0069 0.0078 0.0024 0.0047 0.0 0.0019 0.0037 0.0036 0.0039 0.0047\u001b[0m\n",
      "\t\t('0.0014 0.0021 0.0028 0.0028 0.0036 0.0036 0.0043 0.0024 0.003 0.0', 7, 1, 0.0053)\n",
      "\t\u001b[35m0.0059 0.0062 0.003 0.003 0.0 0.0017 0.0039 0.0047 0.0044 0.0054\u001b[0m\n",
      "\t\t('0.0014 0.002 0.0026 0.0025 0.0033 0.0033 0.0039 0.0018 0.0024 0.0', 6, 2, 0.0054)\n",
      "\u001b[35m40\u001b[0m\n",
      "\t\u001b[35m0.0027 0.0023 0.0052 0.0052 0.0064 0.0066 0.0081 0.0024 0.0043 0.0\u001b[0m\n",
      "\t\t('0.0034 0.004 0.002 0.0026 0.0 0.0014 0.0022 0.0028 0.0026 0.0034', 8, 1, 0.0055)\n",
      "\t\u001b[35m0.0015 0.0024 0.0031 0.0028 0.0036 0.0036 0.0042 0.0024 0.0031 0.0\u001b[0m\n",
      "\t\t('0.0036 0.0042 0.0024 0.0031 0.0 0.0015 0.0024 0.0031 0.0028 0.0036', 9, 0, 0.0056)\n",
      "\t\u001b[35m0.0022 0.0031 0.0042 0.0028 0.0048 0.0044 0.0055 0.0034 0.003 0.0\u001b[0m\n",
      "\t\t('0.0035 0.0041 0.002 0.0026 0.0 0.0015 0.0022 0.0028 0.0026 0.0035', 7, 2, 0.0054)\n",
      "\u001b[35m45\u001b[0m\n",
      "\t\u001b[35m0.0041 0.0077 0.0026 0.0038 0.0 0.0023 0.0037 0.0051 0.0039 0.0034\u001b[0m\n",
      "\t\t('0.0015 0.0023 0.0029 0.0027 0.0035 0.0035 0.0041 0.0021 0.0028 0.0', 9, 1, 0.0057)\n",
      "\t\u001b[35m0.006 0.0041 0.0026 0.0043 0.0 0.0024 0.0032 0.0043 0.0034 0.0039\u001b[0m\n",
      "\t\t('0.0015 0.0024 0.0031 0.0028 0.0036 0.0036 0.0042 0.0024 0.0031 0.0', 8, 2, 0.0057)\n",
      "\t\u001b[35m0.0036 0.0042 0.0024 0.0031 0.0 0.0015 0.0024 0.0031 0.0028 0.0036\u001b[0m\n",
      "\t\t('0.0015 0.0024 0.0031 0.0028 0.0036 0.0036 0.0042 0.0024 0.0031 0.0', 10, 0, 0.0056)\n",
      "\u001b[35m50\u001b[0m\n",
      "\t\u001b[35m0.0015 0.0024 0.0031 0.0028 0.0036 0.0036 0.0042 0.0024 0.0031 0.0\u001b[0m\n",
      "\t\t('0.0036 0.0042 0.0024 0.0031 0.0 0.0015 0.0024 0.0031 0.0028 0.0036', 11, 0, 0.0056)\n",
      "\t\u001b[35m0.003 0.0046 0.006 0.0044 0.0061 0.0064 0.0066 0.004 0.0041 0.0\u001b[0m\n",
      "\t\t('0.0033 0.0039 0.0018 0.0024 0.0 0.0014 0.002 0.0027 0.0025 0.0033', 9, 2, 0.0055)\n",
      "\t\u001b[35m0.0029 0.0023 0.0037 0.0039 0.0063 0.0059 0.0078 0.0032 0.0031 0.0\u001b[0m\n",
      "\t\t('0.0035 0.0041 0.0021 0.0028 0.0 0.0015 0.0023 0.0029 0.0027 0.0035', 10, 1, 0.0054)\n",
      "\u001b[35m55\u001b[0m\n",
      "\t\u001b[35m0.0039 0.0076 0.0034 0.0034 0.0 0.0024 0.0028 0.004 0.0029 0.0043\u001b[0m\n",
      "\t\t('0.0015 0.0023 0.003 0.0027 0.0035 0.0035 0.0042 0.0022 0.0028 0.0', 11, 1, 0.0055)\n",
      "\t\u001b[35m0.0044 0.0076 0.0026 0.0025 0.0 0.0025 0.0038 0.0052 0.0047 0.006\u001b[0m\n",
      "\t\t('0.0013 0.002 0.0026 0.0025 0.0033 0.0033 0.0039 0.0018 0.0024 0.0', 10, 2, 0.0053)\n",
      "\t\u001b[35m0.0036 0.0042 0.0024 0.0031 0.0 0.0015 0.0024 0.0031 0.0028 0.0036\u001b[0m\n",
      "\t\t('0.0015 0.0024 0.0031 0.0028 0.0036 0.0036 0.0042 0.0024 0.0031 0.0', 12, 0, 0.0056)\n",
      "\u001b[35m60\u001b[0m\n",
      "\t\u001b[35m0.0019 0.0034 0.0058 0.0052 0.0048 0.0046 0.0063 0.0024 0.0053 0.0\u001b[0m\n",
      "\t\t('0.0036 0.0042 0.0024 0.003 0.0 0.0015 0.0024 0.003 0.0028 0.0036', 12, 1, 0.0057)\n",
      "\t\u001b[35m0.0015 0.0024 0.0031 0.0028 0.0036 0.0036 0.0042 0.0024 0.0031 0.0\u001b[0m\n",
      "\t\t('0.0036 0.0042 0.0024 0.0031 0.0 0.0015 0.0024 0.0031 0.0028 0.0036', 13, 0, 0.0056)\n",
      "\t\u001b[35m0.0016 0.0036 0.004 0.0034 0.0045 0.0034 0.0059 0.0022 0.0027 0.0\u001b[0m\n",
      "\t\t('0.0033 0.004 0.0018 0.0024 0.0 0.0014 0.002 0.0027 0.0025 0.0033', 11, 2, 0.0054)\n",
      "\u001b[35m65\u001b[0m\n",
      "\t\u001b[35m0.0056 0.0052 0.0032 0.0047 0.0 0.0017 0.0036 0.0035 0.0035 0.0059\u001b[0m\n",
      "\t\t('0.0014 0.0021 0.0028 0.0028 0.0037 0.0037 0.0043 0.0024 0.003 0.0', 12, 2, 0.0052)\n",
      "\t\u001b[35m0.0063 0.0059 0.003 0.0031 0.0 0.0021 0.0042 0.0031 0.0029 0.0056\u001b[0m\n",
      "\t\t('0.0015 0.0024 0.0031 0.0028 0.0036 0.0036 0.0043 0.0024 0.0031 0.0', 13, 1, 0.0054)\n",
      "\t\u001b[35m0.0036 0.0042 0.0024 0.0031 0.0 0.0015 0.0024 0.0031 0.0028 0.0036\u001b[0m\n",
      "\t\t('0.0015 0.0024 0.0031 0.0028 0.0036 0.0036 0.0042 0.0024 0.0031 0.0', 14, 0, 0.0056)\n",
      "\u001b[35m70\u001b[0m\n",
      "\t\u001b[35m0.0015 0.0042 0.0037 0.0045 0.0069 0.0047 0.0047 0.0047 0.0035 0.0\u001b[0m\n",
      "\t\t('0.0035 0.0041 0.0022 0.0028 0.0 0.0015 0.0023 0.0029 0.0027 0.0035', 13, 2, 0.0054)\n",
      "\t\u001b[35m0.0015 0.0024 0.0031 0.0028 0.0036 0.0036 0.0042 0.0024 0.0031 0.0\u001b[0m\n",
      "\t\t('0.0036 0.0042 0.0024 0.0031 0.0 0.0015 0.0024 0.0031 0.0028 0.0036', 15, 0, 0.0056)\n",
      "\t\u001b[35m0.0022 0.0035 0.0054 0.0044 0.0067 0.006 0.005 0.0042 0.0052 0.0\u001b[0m\n",
      "\t\t('0.0036 0.0042 0.0023 0.003 0.0 0.0015 0.0024 0.003 0.0028 0.0036', 14, 1, 0.0056)\n",
      "\u001b[35m75\u001b[0m\n",
      "\t\u001b[35m0.0051 0.0063 0.0037 0.0042 0.0 0.002 0.0041 0.0037 0.0035 0.0053\u001b[0m\n",
      "\t\t('0.0014 0.0021 0.0027 0.0027 0.0036 0.0036 0.0042 0.0023 0.0029 0.0', 14, 2, 0.0054)\n",
      "\t\u001b[35m0.0068 0.0068 0.0032 0.0052 0.0 0.0016 0.0026 0.0046 0.0051 0.005\u001b[0m\n",
      "\t\t('0.0015 0.0023 0.0029 0.0028 0.0036 0.0036 0.0042 0.0024 0.003 0.0', 15, 1, 0.0055)\n",
      "\t\u001b[35m0.0036 0.0042 0.0024 0.0031 0.0 0.0015 0.0024 0.0031 0.0028 0.0036\u001b[0m\n",
      "\t\t('0.0015 0.0024 0.0031 0.0028 0.0036 0.0036 0.0042 0.0024 0.0031 0.0', 16, 0, 0.0056)\n",
      "\u001b[35m80\u001b[0m\n",
      "\t\u001b[35m0.0015 0.0024 0.0031 0.0028 0.0036 0.0036 0.0042 0.0024 0.0031 0.0\u001b[0m\n",
      "\t\t('0.0036 0.0042 0.0024 0.0031 0.0 0.0015 0.0024 0.0031 0.0028 0.0036', 17, 0, 0.0056)\n",
      "\t\u001b[35m0.0028 0.0034 0.0034 0.0029 0.007 0.007 0.0072 0.0046 0.0039 0.0\u001b[0m\n",
      "\t\t('0.0035 0.0042 0.0023 0.003 0.0 0.0014 0.0022 0.0028 0.0027 0.0035', 16, 1, 0.0054)\n",
      "\t\u001b[35m0.0017 0.0023 0.0049 0.0028 0.0062 0.0065 0.0059 0.0037 0.0035 0.0\u001b[0m\n",
      "\t\t('0.0034 0.004 0.0019 0.0025 0.0 0.0014 0.0021 0.0028 0.0026 0.0034', 15, 2, 0.0054)\n",
      "\u001b[35m85\u001b[0m\n",
      "\t\u001b[35m0.0057 0.0064 0.002 0.0047 0.0 0.0024 0.003 0.0038 0.003 0.0037\u001b[0m\n",
      "\t\t('0.0015 0.0023 0.0029 0.0027 0.0036 0.0036 0.0042 0.0024 0.003 0.0', 16, 2, 0.0056)\n",
      "\t\u001b[35m0.0069 0.0046 0.0034 0.0059 0.0 0.0025 0.0039 0.0056 0.004 0.0059\u001b[0m\n",
      "\t\t('0.0015 0.0024 0.003 0.0028 0.0036 0.0036 0.0043 0.0025 0.0031 0.0', 17, 1, 0.0056)\n",
      "\t\u001b[35m0.0036 0.0042 0.0024 0.0031 0.0 0.0015 0.0024 0.0031 0.0028 0.0036\u001b[0m\n",
      "\t\t('0.0015 0.0024 0.0031 0.0028 0.0036 0.0036 0.0042 0.0024 0.0031 0.0', 18, 0, 0.0056)\n",
      "\u001b[35m90\u001b[0m\n",
      "\t\u001b[35m0.0017 0.003 0.0058 0.0047 0.0057 0.0065 0.0063 0.0048 0.0034 0.0\u001b[0m\n",
      "\t\t('0.0034 0.004 0.0018 0.0025 0.0 0.0014 0.0021 0.0027 0.0025 0.0034', 18, 1, 0.0054)\n",
      "\t\u001b[35m0.0026 0.0045 0.0045 0.0053 0.0039 0.004 0.0071 0.0032 0.0052 0.0\u001b[0m\n",
      "\t\t('0.0036 0.0043 0.0025 0.0031 0.0 0.0015 0.0024 0.003 0.0028 0.0036', 17, 2, 0.0057)\n",
      "\u001b[35m95\u001b[0m\n",
      "\t\u001b[35m0.0066 0.0056 0.0045 0.005 0.0 0.0017 0.0027 0.0043 0.0028 0.006\u001b[0m\n",
      "\t\t('0.0014 0.0022 0.0028 0.0028 0.0036 0.0036 0.0042 0.0024 0.003 0.0', 18, 2, 0.0054)\n",
      "\u001b[1m\u001b[33mT_curr : \u001b[0m 90\n",
      "\u001b[1m\u001b[33mD_curr : \u001b[0m 0.0015 0.0024 0.0031 0.0028 0.0036 0.0036 0.0042 0.0024 0.0031 0.0\n",
      "\u001b[1m\u001b[33mDprime : \u001b[0m 0.0014 0.0022 0.0028 0.0028 0.0036 0.0036 0.0042 0.0024 0.003 0.0\n",
      "\u001b[1m\u001b[31mtotal execution time : \u001b[0m 0.10059999999999997\n",
      "\n",
      "\u001b[5m\u001b[7m\u001b[35m  || ANALYSIS || \n",
      "\u001b[0m\n",
      "[95] Generated RAND_INF Dprime : 0.0056 0.0074 0.0031 0.0035 0.0 0.0026 0.0027 0.0052 0.0035 0.0058\n",
      "\u001b[34mTO EXPLORE : \u001b[0m\n",
      "\u001b[32m90\u001b[0m -> 0.0015 0.0024 0.0031 0.0028 0.0036 0.0036 0.0042 0.0024 0.0031 0.0\n",
      "\u001b[32m95\u001b[0m -> 0.0056 0.0074 0.0031 0.0035 0.0 0.0026 0.0027 0.0052 0.0035 0.0058\n",
      "\u001b[32m95\u001b[0m -> 0.0 0.0 0.0 0.0 0.0 0.0 0.0 0.0 0.0 0.0\n",
      "\u001b[5m\u001b[7m\u001b[31m--------------------------------------------  ROUND :  19   --------------------------------------------\n",
      "\u001b[0m\n",
      "\u001b[5m\u001b[7m\u001b[32m  || LAUNCHING || \n",
      "\u001b[0m\n",
      "\u001b[34mTO EXPLORE : \u001b[0m\n",
      "\u001b[32m90\u001b[0m -> 0.0015 0.0024 0.0031 0.0028 0.0036 0.0036 0.0042 0.0024 0.0031 0.0\n",
      "\u001b[32m95\u001b[0m -> 0.0056 0.0074 0.0031 0.0035 0.0 0.0026 0.0027 0.0052 0.0035 0.0058\n",
      "\u001b[32m95\u001b[0m -> 0.0 0.0 0.0 0.0 0.0 0.0 0.0 0.0 0.0 0.0\n",
      "grisou-47 => 0 NPROCS = 10 MIN = 90 MAX = 95 N = 100 DELAY = '0.0015 0.0024 0.0031 0.0028 0.0036 0.0036 0.0042 0.0024 0.0031 0.0'\n",
      "\n",
      "grisou-48 => 1 NPROCS = 10 MIN = 95 MAX = 100 N = 100 DELAY = '0.0056 0.0074 0.0031 0.0035 0.0 0.0026 0.0027 0.0052 0.0035 0.0058'\n",
      "\n",
      "grisou-5 => 2 NPROCS = 10 MIN = 95 MAX = 100 N = 100 DELAY = '0.0 0.0 0.0 0.0 0.0 0.0 0.0 0.0 0.0 0.0'\n",
      "\n"
     ]
    },
    {
     "name": "stderr",
     "output_type": "stream",
     "text": [
      "/home/nezzine/.local/lib/python3.5/site-packages/rpy2/robjects/pandas2ri.py:191: FutureWarning: from_items is deprecated. Please use DataFrame.from_dict(dict(items), ...) instead. DataFrame.from_dict(OrderedDict(items)) may be used to preserve the key order.\n",
      "  res = PandasDataFrame.from_items(items)\n"
     ]
    },
    {
     "data": {
      "text/plain": [
       "'data.frame':\t70 obs. of  5 variables:\n",
       " $ Rank    : num  8 8 8 8 8 8 8 7 7 7 ...\n",
       " $ Start   : num  0 0.000217 0.001657 0.004936 0.00601 ...\n",
       " $ End     : num  0 0.00166 0.00494 0.00601 0.00764 ...\n",
       " $ Duration: num  0 0.00144 0.00328 0.00107 0.00163 ...\n",
       " $ State   : Factor w/ 3 levels \"PMPI_Bcast\",\"PMPI_Finalize\",..: 3 1 1 1 1 1 2 3 1 1 ...\n"
      ]
     },
     "metadata": {},
     "output_type": "display_data"
    },
    {
     "data": {
      "image/png": "[encoded data removed]"
     },
     "metadata": {},
     "output_type": "display_data"
    },
    {
     "name": "stderr",
     "output_type": "stream",
     "text": [
      "/home/nezzine/.local/lib/python3.5/site-packages/rpy2/robjects/pandas2ri.py:191: FutureWarning: from_items is deprecated. Please use DataFrame.from_dict(dict(items), ...) instead. DataFrame.from_dict(OrderedDict(items)) may be used to preserve the key order.\n",
      "  res = PandasDataFrame.from_items(items)\n"
     ]
    },
    {
     "data": {
      "text/plain": [
       "'data.frame':\t70 obs. of  5 variables:\n",
       " $ Rank    : num  8 8 8 8 8 8 8 7 7 7 ...\n",
       " $ Start   : num  0 0.000245 0.002303 0.003265 0.003892 ...\n",
       " $ End     : num  0 0.0023 0.00327 0.00389 0.00389 ...\n",
       " $ Duration: num  0 0.002058 0.000962 0.000627 0 ...\n",
       " $ State   : Factor w/ 3 levels \"PMPI_Bcast\",\"PMPI_Finalize\",..: 3 1 1 1 1 1 2 3 1 1 ...\n"
      ]
     },
     "metadata": {},
     "output_type": "display_data"
    },
    {
     "data": {
      "image/png": "[encoded data removed]"
     },
     "metadata": {},
     "output_type": "display_data"
    },
    {
     "name": "stderr",
     "output_type": "stream",
     "text": [
      "/home/nezzine/.local/lib/python3.5/site-packages/rpy2/robjects/pandas2ri.py:191: FutureWarning: from_items is deprecated. Please use DataFrame.from_dict(dict(items), ...) instead. DataFrame.from_dict(OrderedDict(items)) may be used to preserve the key order.\n",
      "  res = PandasDataFrame.from_items(items)\n"
     ]
    },
    {
     "data": {
      "text/plain": [
       "'data.frame':\t70 obs. of  5 variables:\n",
       " $ Rank    : num  8 8 8 8 8 8 8 7 7 7 ...\n",
       " $ Start   : num  0 0 0.00211 0.00317 0.0038 ...\n",
       " $ End     : num  0 0.00211 0.00317 0.0038 0.0038 ...\n",
       " $ Duration: num  0 0.002113 0.001057 0.000626 0 ...\n",
       " $ State   : Factor w/ 3 levels \"PMPI_Bcast\",\"PMPI_Finalize\",..: 3 1 1 1 1 1 2 3 1 1 ...\n"
      ]
     },
     "metadata": {},
     "output_type": "display_data"
    },
    {
     "data": {
      "image/png": "[encoded data removed]"
     },
     "metadata": {},
     "output_type": "display_data"
    },
    {
     "name": "stdout",
     "output_type": "stream",
     "text": [
      "\u001b[33mT_curr : \u001b[0m 90\n",
      "\u001b[33mD_curr : \u001b[0m 0.0015 0.0024 0.0031 0.0028 0.0036 0.0036 0.0042 0.0024 0.0031 0.0\n",
      "\u001b[33mDprime : \u001b[0m 0.0016 0.0025 0.0031 0.0028 0.0037 0.0037 0.0043 0.0025 0.0031 0.0\n",
      "\u001b[31mtotal execution time : \u001b[0m 0.10059999999999997\n",
      "\n",
      "returning: 0.0015 0.0024 0.0031 0.0028 0.0036 0.0036 0.0042 0.0024 0.0031 0.0\n",
      "\u001b[5m\u001b[7m\u001b[31m\n",
      "  || RESULTS || \n",
      "\u001b[0m\n",
      "\u001b[34mTO EXPLORE : \u001b[0m\n",
      "\u001b[35m0\u001b[0m\n",
      "\t\u001b[35m0.0 0.0 0.0 0.0 0.0 0.0 0.0 0.0 0.0 0.0\u001b[0m\n",
      "\t\t('0.0037 0.0043 0.0025 0.0031 0.0 0.0016 0.0025 0.0031 0.0028 0.0037', 1, 0, 0.0054)\n",
      "\u001b[35m5\u001b[0m\n",
      "\t\u001b[35m0.0037 0.0043 0.0025 0.0031 0.0 0.0016 0.0025 0.0031 0.0028 0.0037\u001b[0m\n",
      "\t\t('0.0015 0.0024 0.0031 0.0028 0.0036 0.0036 0.0042 0.0024 0.0031 0.0', 2, 0, 0.0056)\n",
      "\t\u001b[35m0.0 0.0 0.0 0.0 0.0 0.0 0.0 0.0 0.0 0.0\u001b[0m\n",
      "\t\t('0.0016 0.0025 0.0031 0.0028 0.0037 0.0037 0.0043 0.0025 0.0031 0.0', 1, 1, 0.0054)\n",
      "\u001b[35m10\u001b[0m\n",
      "\t\u001b[35m0.0028 0.003 0.0035 0.0043 0.005 0.0043 0.0057 0.0028 0.0047 0.0\u001b[0m\n",
      "\t\t('0.0036 0.0042 0.0023 0.003 0.0 0.0014 0.0021 0.0027 0.0028 0.0036', 2, 1, 0.0053)\n",
      "\t\u001b[35m0.0015 0.0024 0.0031 0.0028 0.0036 0.0036 0.0042 0.0024 0.0031 0.0\u001b[0m\n",
      "\t\t('0.0036 0.0042 0.0024 0.0031 0.0 0.0015 0.0024 0.0031 0.0028 0.0036', 3, 0, 0.0056)\n",
      "\t\u001b[35m0.0 0.0 0.0 0.0 0.0 0.0 0.0 0.0 0.0 0.0\u001b[0m\n",
      "\t\t('0.0037 0.0043 0.0025 0.0031 0.0 0.0016 0.0025 0.0031 0.0028 0.0037', 1, 2, 0.0054)\n",
      "\u001b[35m15\u001b[0m\n",
      "\t\u001b[35m0.0036 0.0042 0.0024 0.0031 0.0 0.0015 0.0024 0.0031 0.0028 0.0036\u001b[0m\n",
      "\t\t('0.0015 0.0024 0.0031 0.0028 0.0036 0.0036 0.0042 0.0024 0.0031 0.0', 4, 0, 0.0056)\n",
      "\t\u001b[35m0.0063 0.0078 0.0031 0.0045 0.0 0.0026 0.0023 0.0043 0.0034 0.0066\u001b[0m\n",
      "\t\t('0.0015 0.0023 0.0029 0.0027 0.0036 0.0036 0.0042 0.0024 0.003 0.0', 3, 1, 0.0055)\n",
      "\t\u001b[35m0.0065 0.0083 0.0044 0.0044 0.0 0.0023 0.0043 0.0033 0.0031 0.0072\u001b[0m\n",
      "\t\t('0.0014 0.0021 0.0027 0.0029 0.0038 0.0038 0.0044 0.0024 0.003 0.0', 2, 2, 0.0049)\n",
      "\u001b[35m20\u001b[0m\n",
      "\t\u001b[35m0.002 0.0034 0.0043 0.004 0.0043 0.0049 0.0069 0.0039 0.0032 0.0\u001b[0m\n",
      "\t\t('0.0034 0.004 0.0019 0.0026 0.0 0.0014 0.0022 0.0028 0.0026 0.0034', 4, 1, 0.0055)\n",
      "\t\u001b[35m0.0015 0.0024 0.0031 0.0028 0.0036 0.0036 0.0042 0.0024 0.0031 0.0\u001b[0m\n",
      "\t\t('0.0036 0.0042 0.0024 0.0031 0.0 0.0015 0.0024 0.0031 0.0028 0.0036', 5, 0, 0.0056)\n",
      "\t\u001b[35m0.0026 0.0023 0.0028 0.0049 0.0066 0.0076 0.0077 0.0029 0.0035 0.0\u001b[0m\n",
      "\t\t('0.0036 0.0043 0.0024 0.003 0.0 0.0015 0.0022 0.0029 0.0028 0.0036', 3, 2, 0.0052)\n",
      "\u001b[35m25\u001b[0m\n",
      "\t\u001b[35m0.004 0.0079 0.0044 0.0047 0.0 0.002 0.0027 0.0054 0.0038 0.0059\u001b[0m\n",
      "\t\t('0.0015 0.0023 0.0029 0.0027 0.0035 0.0035 0.0041 0.0021 0.0028 0.0', 4, 2, 0.0055)\n",
      "\t\u001b[35m0.0064 0.0073 0.0031 0.0043 0.0 0.0027 0.0026 0.0039 0.0041 0.0036\u001b[0m\n",
      "\t\t('0.0015 0.0024 0.003 0.0028 0.0036 0.0036 0.0043 0.0025 0.0031 0.0', 5, 1, 0.0056)\n",
      "\t\u001b[35m0.0036 0.0042 0.0024 0.0031 0.0 0.0015 0.0024 0.0031 0.0028 0.0036\u001b[0m\n",
      "\t\t('0.0015 0.0024 0.0031 0.0028 0.0036 0.0036 0.0042 0.0024 0.0031 0.0', 6, 0, 0.0056)\n",
      "\u001b[35m30\u001b[0m\n",
      "\t\u001b[35m0.0015 0.0024 0.0031 0.0028 0.0036 0.0036 0.0042 0.0024 0.0031 0.0\u001b[0m\n",
      "\t\t('0.0036 0.0042 0.0024 0.0031 0.0 0.0015 0.0024 0.0031 0.0028 0.0036', 7, 0, 0.0056)\n",
      "\t\u001b[35m0.0022 0.0037 0.0048 0.0049 0.006 0.0043 0.0042 0.0031 0.0035 0.0\u001b[0m\n",
      "\t\t('0.0034 0.0041 0.0019 0.0026 0.0 0.0015 0.0022 0.0028 0.0026 0.0034', 5, 2, 0.0054)\n",
      "\t\u001b[35m0.0017 0.0038 0.005 0.0047 0.0042 0.0053 0.0075 0.0037 0.0039 0.0\u001b[0m\n",
      "\t\t('0.0035 0.0041 0.0021 0.0028 0.0 0.0015 0.0023 0.003 0.0027 0.0035', 6, 1, 0.0056)\n",
      "\u001b[35m35\u001b[0m\n",
      "\t\u001b[35m0.0036 0.0042 0.0024 0.0031 0.0 0.0015 0.0024 0.0031 0.0028 0.0036\u001b[0m\n",
      "\t\t('0.0015 0.0024 0.0031 0.0028 0.0036 0.0036 0.0042 0.0024 0.0031 0.0', 8, 0, 0.0056)\n",
      "\t\u001b[35m0.0069 0.0078 0.0024 0.0047 0.0 0.0019 0.0037 0.0036 0.0039 0.0047\u001b[0m\n",
      "\t\t('0.0014 0.0021 0.0028 0.0028 0.0036 0.0036 0.0043 0.0024 0.003 0.0', 7, 1, 0.0053)\n",
      "\t\u001b[35m0.0059 0.0062 0.003 0.003 0.0 0.0017 0.0039 0.0047 0.0044 0.0054\u001b[0m\n",
      "\t\t('0.0014 0.002 0.0026 0.0025 0.0033 0.0033 0.0039 0.0018 0.0024 0.0', 6, 2, 0.0054)\n",
      "\u001b[35m40\u001b[0m\n",
      "\t\u001b[35m0.0027 0.0023 0.0052 0.0052 0.0064 0.0066 0.0081 0.0024 0.0043 0.0\u001b[0m\n",
      "\t\t('0.0034 0.004 0.002 0.0026 0.0 0.0014 0.0022 0.0028 0.0026 0.0034', 8, 1, 0.0055)\n",
      "\t\u001b[35m0.0015 0.0024 0.0031 0.0028 0.0036 0.0036 0.0042 0.0024 0.0031 0.0\u001b[0m\n",
      "\t\t('0.0036 0.0042 0.0024 0.0031 0.0 0.0015 0.0024 0.0031 0.0028 0.0036', 9, 0, 0.0056)\n",
      "\t\u001b[35m0.0022 0.0031 0.0042 0.0028 0.0048 0.0044 0.0055 0.0034 0.003 0.0\u001b[0m\n",
      "\t\t('0.0035 0.0041 0.002 0.0026 0.0 0.0015 0.0022 0.0028 0.0026 0.0035', 7, 2, 0.0054)\n",
      "\u001b[35m45\u001b[0m\n",
      "\t\u001b[35m0.0041 0.0077 0.0026 0.0038 0.0 0.0023 0.0037 0.0051 0.0039 0.0034\u001b[0m\n",
      "\t\t('0.0015 0.0023 0.0029 0.0027 0.0035 0.0035 0.0041 0.0021 0.0028 0.0', 9, 1, 0.0057)\n",
      "\t\u001b[35m0.006 0.0041 0.0026 0.0043 0.0 0.0024 0.0032 0.0043 0.0034 0.0039\u001b[0m\n",
      "\t\t('0.0015 0.0024 0.0031 0.0028 0.0036 0.0036 0.0042 0.0024 0.0031 0.0', 8, 2, 0.0057)\n",
      "\t\u001b[35m0.0036 0.0042 0.0024 0.0031 0.0 0.0015 0.0024 0.0031 0.0028 0.0036\u001b[0m\n",
      "\t\t('0.0015 0.0024 0.0031 0.0028 0.0036 0.0036 0.0042 0.0024 0.0031 0.0', 10, 0, 0.0056)\n",
      "\u001b[35m50\u001b[0m\n",
      "\t\u001b[35m0.0015 0.0024 0.0031 0.0028 0.0036 0.0036 0.0042 0.0024 0.0031 0.0\u001b[0m\n",
      "\t\t('0.0036 0.0042 0.0024 0.0031 0.0 0.0015 0.0024 0.0031 0.0028 0.0036', 11, 0, 0.0056)\n",
      "\t\u001b[35m0.003 0.0046 0.006 0.0044 0.0061 0.0064 0.0066 0.004 0.0041 0.0\u001b[0m\n",
      "\t\t('0.0033 0.0039 0.0018 0.0024 0.0 0.0014 0.002 0.0027 0.0025 0.0033', 9, 2, 0.0055)\n",
      "\t\u001b[35m0.0029 0.0023 0.0037 0.0039 0.0063 0.0059 0.0078 0.0032 0.0031 0.0\u001b[0m\n",
      "\t\t('0.0035 0.0041 0.0021 0.0028 0.0 0.0015 0.0023 0.0029 0.0027 0.0035', 10, 1, 0.0054)\n",
      "\u001b[35m55\u001b[0m\n",
      "\t\u001b[35m0.0039 0.0076 0.0034 0.0034 0.0 0.0024 0.0028 0.004 0.0029 0.0043\u001b[0m\n",
      "\t\t('0.0015 0.0023 0.003 0.0027 0.0035 0.0035 0.0042 0.0022 0.0028 0.0', 11, 1, 0.0055)\n",
      "\t\u001b[35m0.0044 0.0076 0.0026 0.0025 0.0 0.0025 0.0038 0.0052 0.0047 0.006\u001b[0m\n",
      "\t\t('0.0013 0.002 0.0026 0.0025 0.0033 0.0033 0.0039 0.0018 0.0024 0.0', 10, 2, 0.0053)\n",
      "\t\u001b[35m0.0036 0.0042 0.0024 0.0031 0.0 0.0015 0.0024 0.0031 0.0028 0.0036\u001b[0m\n",
      "\t\t('0.0015 0.0024 0.0031 0.0028 0.0036 0.0036 0.0042 0.0024 0.0031 0.0', 12, 0, 0.0056)\n",
      "\u001b[35m60\u001b[0m\n",
      "\t\u001b[35m0.0019 0.0034 0.0058 0.0052 0.0048 0.0046 0.0063 0.0024 0.0053 0.0\u001b[0m\n",
      "\t\t('0.0036 0.0042 0.0024 0.003 0.0 0.0015 0.0024 0.003 0.0028 0.0036', 12, 1, 0.0057)\n",
      "\t\u001b[35m0.0015 0.0024 0.0031 0.0028 0.0036 0.0036 0.0042 0.0024 0.0031 0.0\u001b[0m\n",
      "\t\t('0.0036 0.0042 0.0024 0.0031 0.0 0.0015 0.0024 0.0031 0.0028 0.0036', 13, 0, 0.0056)\n",
      "\t\u001b[35m0.0016 0.0036 0.004 0.0034 0.0045 0.0034 0.0059 0.0022 0.0027 0.0\u001b[0m\n",
      "\t\t('0.0033 0.004 0.0018 0.0024 0.0 0.0014 0.002 0.0027 0.0025 0.0033', 11, 2, 0.0054)\n",
      "\u001b[35m65\u001b[0m\n",
      "\t\u001b[35m0.0056 0.0052 0.0032 0.0047 0.0 0.0017 0.0036 0.0035 0.0035 0.0059\u001b[0m\n",
      "\t\t('0.0014 0.0021 0.0028 0.0028 0.0037 0.0037 0.0043 0.0024 0.003 0.0', 12, 2, 0.0052)\n",
      "\t\u001b[35m0.0063 0.0059 0.003 0.0031 0.0 0.0021 0.0042 0.0031 0.0029 0.0056\u001b[0m\n",
      "\t\t('0.0015 0.0024 0.0031 0.0028 0.0036 0.0036 0.0043 0.0024 0.0031 0.0', 13, 1, 0.0054)\n",
      "\t\u001b[35m0.0036 0.0042 0.0024 0.0031 0.0 0.0015 0.0024 0.0031 0.0028 0.0036\u001b[0m\n",
      "\t\t('0.0015 0.0024 0.0031 0.0028 0.0036 0.0036 0.0042 0.0024 0.0031 0.0', 14, 0, 0.0056)\n",
      "\u001b[35m70\u001b[0m\n",
      "\t\u001b[35m0.0015 0.0042 0.0037 0.0045 0.0069 0.0047 0.0047 0.0047 0.0035 0.0\u001b[0m\n",
      "\t\t('0.0035 0.0041 0.0022 0.0028 0.0 0.0015 0.0023 0.0029 0.0027 0.0035', 13, 2, 0.0054)\n",
      "\t\u001b[35m0.0015 0.0024 0.0031 0.0028 0.0036 0.0036 0.0042 0.0024 0.0031 0.0\u001b[0m\n",
      "\t\t('0.0036 0.0042 0.0024 0.0031 0.0 0.0015 0.0024 0.0031 0.0028 0.0036', 15, 0, 0.0056)\n",
      "\t\u001b[35m0.0022 0.0035 0.0054 0.0044 0.0067 0.006 0.005 0.0042 0.0052 0.0\u001b[0m\n",
      "\t\t('0.0036 0.0042 0.0023 0.003 0.0 0.0015 0.0024 0.003 0.0028 0.0036', 14, 1, 0.0056)\n",
      "\u001b[35m75\u001b[0m\n",
      "\t\u001b[35m0.0051 0.0063 0.0037 0.0042 0.0 0.002 0.0041 0.0037 0.0035 0.0053\u001b[0m\n",
      "\t\t('0.0014 0.0021 0.0027 0.0027 0.0036 0.0036 0.0042 0.0023 0.0029 0.0', 14, 2, 0.0054)\n",
      "\t\u001b[35m0.0068 0.0068 0.0032 0.0052 0.0 0.0016 0.0026 0.0046 0.0051 0.005\u001b[0m\n",
      "\t\t('0.0015 0.0023 0.0029 0.0028 0.0036 0.0036 0.0042 0.0024 0.003 0.0', 15, 1, 0.0055)\n",
      "\t\u001b[35m0.0036 0.0042 0.0024 0.0031 0.0 0.0015 0.0024 0.0031 0.0028 0.0036\u001b[0m\n",
      "\t\t('0.0015 0.0024 0.0031 0.0028 0.0036 0.0036 0.0042 0.0024 0.0031 0.0', 16, 0, 0.0056)\n",
      "\u001b[35m80\u001b[0m\n",
      "\t\u001b[35m0.0015 0.0024 0.0031 0.0028 0.0036 0.0036 0.0042 0.0024 0.0031 0.0\u001b[0m\n",
      "\t\t('0.0036 0.0042 0.0024 0.0031 0.0 0.0015 0.0024 0.0031 0.0028 0.0036', 17, 0, 0.0056)\n",
      "\t\u001b[35m0.0028 0.0034 0.0034 0.0029 0.007 0.007 0.0072 0.0046 0.0039 0.0\u001b[0m\n",
      "\t\t('0.0035 0.0042 0.0023 0.003 0.0 0.0014 0.0022 0.0028 0.0027 0.0035', 16, 1, 0.0054)\n",
      "\t\u001b[35m0.0017 0.0023 0.0049 0.0028 0.0062 0.0065 0.0059 0.0037 0.0035 0.0\u001b[0m\n",
      "\t\t('0.0034 0.004 0.0019 0.0025 0.0 0.0014 0.0021 0.0028 0.0026 0.0034', 15, 2, 0.0054)\n",
      "\u001b[35m85\u001b[0m\n",
      "\t\u001b[35m0.0057 0.0064 0.002 0.0047 0.0 0.0024 0.003 0.0038 0.003 0.0037\u001b[0m\n",
      "\t\t('0.0015 0.0023 0.0029 0.0027 0.0036 0.0036 0.0042 0.0024 0.003 0.0', 16, 2, 0.0056)\n",
      "\t\u001b[35m0.0069 0.0046 0.0034 0.0059 0.0 0.0025 0.0039 0.0056 0.004 0.0059\u001b[0m\n",
      "\t\t('0.0015 0.0024 0.003 0.0028 0.0036 0.0036 0.0043 0.0025 0.0031 0.0', 17, 1, 0.0056)\n",
      "\t\u001b[35m0.0036 0.0042 0.0024 0.0031 0.0 0.0015 0.0024 0.0031 0.0028 0.0036\u001b[0m\n",
      "\t\t('0.0015 0.0024 0.0031 0.0028 0.0036 0.0036 0.0042 0.0024 0.0031 0.0', 18, 0, 0.0056)\n",
      "\u001b[35m90\u001b[0m\n",
      "\t\u001b[35m0.0015 0.0024 0.0031 0.0028 0.0036 0.0036 0.0042 0.0024 0.0031 0.0\u001b[0m\n",
      "\t\t('0.0036 0.0042 0.0024 0.0031 0.0 0.0015 0.0024 0.0031 0.0028 0.0036', 19, 0, 0.0056)\n",
      "\t\u001b[35m0.0017 0.003 0.0058 0.0047 0.0057 0.0065 0.0063 0.0048 0.0034 0.0\u001b[0m\n",
      "\t\t('0.0034 0.004 0.0018 0.0025 0.0 0.0014 0.0021 0.0027 0.0025 0.0034', 18, 1, 0.0054)\n",
      "\t\u001b[35m0.0026 0.0045 0.0045 0.0053 0.0039 0.004 0.0071 0.0032 0.0052 0.0\u001b[0m\n",
      "\t\t('0.0036 0.0043 0.0025 0.0031 0.0 0.0015 0.0024 0.003 0.0028 0.0036', 17, 2, 0.0057)\n",
      "\u001b[35m95\u001b[0m\n",
      "\t\u001b[35m0.0066 0.0056 0.0045 0.005 0.0 0.0017 0.0027 0.0043 0.0028 0.006\u001b[0m\n",
      "\t\t('0.0014 0.0022 0.0028 0.0028 0.0036 0.0036 0.0042 0.0024 0.003 0.0', 18, 2, 0.0054)\n",
      "\t\u001b[35m0.0056 0.0074 0.0031 0.0035 0.0 0.0026 0.0027 0.0052 0.0035 0.0058\u001b[0m\n",
      "\t\t('0.0014 0.0021 0.0028 0.0026 0.0034 0.0034 0.004 0.0019 0.0025 0.0', 19, 1, 0.0054)\n",
      "\t\u001b[35m0.0 0.0 0.0 0.0 0.0 0.0 0.0 0.0 0.0 0.0\u001b[0m\n",
      "\t\t('0.0016 0.0025 0.0031 0.0028 0.0037 0.0037 0.0043 0.0025 0.0031 0.0', 19, 2, 0.0054)\n",
      "\u001b[1m\u001b[33mT_curr : \u001b[0m 95\n",
      "\u001b[1m\u001b[33mD_curr : \u001b[0m 0.0036 0.0042 0.0024 0.0031 0.0 0.0015 0.0024 0.0031 0.0028 0.0036\n",
      "\u001b[1m\u001b[33mDprime : \u001b[0m 0.0016 0.0025 0.0031 0.0028 0.0037 0.0037 0.0043 0.0025 0.0031 0.0\n",
      "\u001b[1m\u001b[31mtotal execution time : \u001b[0m 0.10619999999999996\n",
      "\n",
      "\u001b[5m\u001b[7m\u001b[35m  || ANALYSIS || \n",
      "\u001b[0m\n",
      "\u001b[34mTO EXPLORE : \u001b[0m\n",
      "\u001b[32m95\u001b[0m -> 0.0036 0.0042 0.0024 0.0031 0.0 0.0015 0.0024 0.0031 0.0028 0.0036\n",
      "\u001b[5m\u001b[7m\u001b[31m--------------------------------------------  ROUND :  20   --------------------------------------------\n",
      "\u001b[0m\n",
      "\u001b[5m\u001b[7m\u001b[32m  || LAUNCHING || \n",
      "\u001b[0m\n",
      "\u001b[34mTO EXPLORE : \u001b[0m\n",
      "\u001b[32m95\u001b[0m -> 0.0036 0.0042 0.0024 0.0031 0.0 0.0015 0.0024 0.0031 0.0028 0.0036\n",
      "grisou-47 => 0 NPROCS = 10 MIN = 95 MAX = 100 N = 100 DELAY = '0.0036 0.0042 0.0024 0.0031 0.0 0.0015 0.0024 0.0031 0.0028 0.0036'\n",
      "\n"
     ]
    },
    {
     "name": "stderr",
     "output_type": "stream",
     "text": [
      "/home/nezzine/.local/lib/python3.5/site-packages/rpy2/robjects/pandas2ri.py:191: FutureWarning: from_items is deprecated. Please use DataFrame.from_dict(dict(items), ...) instead. DataFrame.from_dict(OrderedDict(items)) may be used to preserve the key order.\n",
      "  res = PandasDataFrame.from_items(items)\n"
     ]
    },
    {
     "data": {
      "text/plain": [
       "'data.frame':\t70 obs. of  5 variables:\n",
       " $ Rank    : num  8 8 8 8 8 8 8 7 7 7 ...\n",
       " $ Start   : num  0 0.000196 0.002283 0.003331 0.003957 ...\n",
       " $ End     : num  0 0.00228 0.00333 0.00396 0.00396 ...\n",
       " $ Duration: num  0 0.002087 0.001048 0.000626 0 ...\n",
       " $ State   : Factor w/ 3 levels \"PMPI_Bcast\",\"PMPI_Finalize\",..: 3 1 1 1 1 1 2 3 1 1 ...\n"
      ]
     },
     "metadata": {},
     "output_type": "display_data"
    },
    {
     "data": {
      "image/png": "[encoded data removed]"
     },
     "metadata": {},
     "output_type": "display_data"
    },
    {
     "name": "stdout",
     "output_type": "stream",
     "text": [
      "\u001b[33mT_curr : \u001b[0m 95\n",
      "\u001b[33mD_curr : \u001b[0m 0.0036 0.0042 0.0024 0.0031 0.0 0.0015 0.0024 0.0031 0.0028 0.0036\n",
      "\u001b[33mDprime : \u001b[0m 0.0015 0.0024 0.0031 0.0028 0.0036 0.0036 0.0042 0.0024 0.0031 0.0\n",
      "\u001b[31mtotal execution time : \u001b[0m 0.10619999999999996\n",
      "\n",
      "returning: 0.0036 0.0042 0.0024 0.0031 0.0 0.0015 0.0024 0.0031 0.0028 0.0036\n",
      "\u001b[5m\u001b[7m\u001b[31m\n",
      "  || RESULTS || \n",
      "\u001b[0m\n",
      "\u001b[34mTO EXPLORE : \u001b[0m\n",
      "\u001b[35m0\u001b[0m\n",
      "\t\u001b[35m0.0 0.0 0.0 0.0 0.0 0.0 0.0 0.0 0.0 0.0\u001b[0m\n",
      "\t\t('0.0037 0.0043 0.0025 0.0031 0.0 0.0016 0.0025 0.0031 0.0028 0.0037', 1, 0, 0.0054)\n",
      "\u001b[35m5\u001b[0m\n",
      "\t\u001b[35m0.0037 0.0043 0.0025 0.0031 0.0 0.0016 0.0025 0.0031 0.0028 0.0037\u001b[0m\n",
      "\t\t('0.0015 0.0024 0.0031 0.0028 0.0036 0.0036 0.0042 0.0024 0.0031 0.0', 2, 0, 0.0056)\n",
      "\t\u001b[35m0.0 0.0 0.0 0.0 0.0 0.0 0.0 0.0 0.0 0.0\u001b[0m\n",
      "\t\t('0.0016 0.0025 0.0031 0.0028 0.0037 0.0037 0.0043 0.0025 0.0031 0.0', 1, 1, 0.0054)\n",
      "\u001b[35m10\u001b[0m\n",
      "\t\u001b[35m0.0028 0.003 0.0035 0.0043 0.005 0.0043 0.0057 0.0028 0.0047 0.0\u001b[0m\n",
      "\t\t('0.0036 0.0042 0.0023 0.003 0.0 0.0014 0.0021 0.0027 0.0028 0.0036', 2, 1, 0.0053)\n",
      "\t\u001b[35m0.0015 0.0024 0.0031 0.0028 0.0036 0.0036 0.0042 0.0024 0.0031 0.0\u001b[0m\n",
      "\t\t('0.0036 0.0042 0.0024 0.0031 0.0 0.0015 0.0024 0.0031 0.0028 0.0036', 3, 0, 0.0056)\n",
      "\t\u001b[35m0.0 0.0 0.0 0.0 0.0 0.0 0.0 0.0 0.0 0.0\u001b[0m\n",
      "\t\t('0.0037 0.0043 0.0025 0.0031 0.0 0.0016 0.0025 0.0031 0.0028 0.0037', 1, 2, 0.0054)\n",
      "\u001b[35m15\u001b[0m\n",
      "\t\u001b[35m0.0036 0.0042 0.0024 0.0031 0.0 0.0015 0.0024 0.0031 0.0028 0.0036\u001b[0m\n",
      "\t\t('0.0015 0.0024 0.0031 0.0028 0.0036 0.0036 0.0042 0.0024 0.0031 0.0', 4, 0, 0.0056)\n",
      "\t\u001b[35m0.0063 0.0078 0.0031 0.0045 0.0 0.0026 0.0023 0.0043 0.0034 0.0066\u001b[0m\n",
      "\t\t('0.0015 0.0023 0.0029 0.0027 0.0036 0.0036 0.0042 0.0024 0.003 0.0', 3, 1, 0.0055)\n",
      "\t\u001b[35m0.0065 0.0083 0.0044 0.0044 0.0 0.0023 0.0043 0.0033 0.0031 0.0072\u001b[0m\n",
      "\t\t('0.0014 0.0021 0.0027 0.0029 0.0038 0.0038 0.0044 0.0024 0.003 0.0', 2, 2, 0.0049)\n",
      "\u001b[35m20\u001b[0m\n",
      "\t\u001b[35m0.002 0.0034 0.0043 0.004 0.0043 0.0049 0.0069 0.0039 0.0032 0.0\u001b[0m\n",
      "\t\t('0.0034 0.004 0.0019 0.0026 0.0 0.0014 0.0022 0.0028 0.0026 0.0034', 4, 1, 0.0055)\n",
      "\t\u001b[35m0.0015 0.0024 0.0031 0.0028 0.0036 0.0036 0.0042 0.0024 0.0031 0.0\u001b[0m\n",
      "\t\t('0.0036 0.0042 0.0024 0.0031 0.0 0.0015 0.0024 0.0031 0.0028 0.0036', 5, 0, 0.0056)\n",
      "\t\u001b[35m0.0026 0.0023 0.0028 0.0049 0.0066 0.0076 0.0077 0.0029 0.0035 0.0\u001b[0m\n",
      "\t\t('0.0036 0.0043 0.0024 0.003 0.0 0.0015 0.0022 0.0029 0.0028 0.0036', 3, 2, 0.0052)\n",
      "\u001b[35m25\u001b[0m\n",
      "\t\u001b[35m0.004 0.0079 0.0044 0.0047 0.0 0.002 0.0027 0.0054 0.0038 0.0059\u001b[0m\n",
      "\t\t('0.0015 0.0023 0.0029 0.0027 0.0035 0.0035 0.0041 0.0021 0.0028 0.0', 4, 2, 0.0055)\n",
      "\t\u001b[35m0.0064 0.0073 0.0031 0.0043 0.0 0.0027 0.0026 0.0039 0.0041 0.0036\u001b[0m\n",
      "\t\t('0.0015 0.0024 0.003 0.0028 0.0036 0.0036 0.0043 0.0025 0.0031 0.0', 5, 1, 0.0056)\n",
      "\t\u001b[35m0.0036 0.0042 0.0024 0.0031 0.0 0.0015 0.0024 0.0031 0.0028 0.0036\u001b[0m\n",
      "\t\t('0.0015 0.0024 0.0031 0.0028 0.0036 0.0036 0.0042 0.0024 0.0031 0.0', 6, 0, 0.0056)\n",
      "\u001b[35m30\u001b[0m\n",
      "\t\u001b[35m0.0015 0.0024 0.0031 0.0028 0.0036 0.0036 0.0042 0.0024 0.0031 0.0\u001b[0m\n",
      "\t\t('0.0036 0.0042 0.0024 0.0031 0.0 0.0015 0.0024 0.0031 0.0028 0.0036', 7, 0, 0.0056)\n",
      "\t\u001b[35m0.0022 0.0037 0.0048 0.0049 0.006 0.0043 0.0042 0.0031 0.0035 0.0\u001b[0m\n",
      "\t\t('0.0034 0.0041 0.0019 0.0026 0.0 0.0015 0.0022 0.0028 0.0026 0.0034', 5, 2, 0.0054)\n",
      "\t\u001b[35m0.0017 0.0038 0.005 0.0047 0.0042 0.0053 0.0075 0.0037 0.0039 0.0\u001b[0m\n",
      "\t\t('0.0035 0.0041 0.0021 0.0028 0.0 0.0015 0.0023 0.003 0.0027 0.0035', 6, 1, 0.0056)\n",
      "\u001b[35m35\u001b[0m\n",
      "\t\u001b[35m0.0036 0.0042 0.0024 0.0031 0.0 0.0015 0.0024 0.0031 0.0028 0.0036\u001b[0m\n",
      "\t\t('0.0015 0.0024 0.0031 0.0028 0.0036 0.0036 0.0042 0.0024 0.0031 0.0', 8, 0, 0.0056)\n",
      "\t\u001b[35m0.0069 0.0078 0.0024 0.0047 0.0 0.0019 0.0037 0.0036 0.0039 0.0047\u001b[0m\n",
      "\t\t('0.0014 0.0021 0.0028 0.0028 0.0036 0.0036 0.0043 0.0024 0.003 0.0', 7, 1, 0.0053)\n",
      "\t\u001b[35m0.0059 0.0062 0.003 0.003 0.0 0.0017 0.0039 0.0047 0.0044 0.0054\u001b[0m\n",
      "\t\t('0.0014 0.002 0.0026 0.0025 0.0033 0.0033 0.0039 0.0018 0.0024 0.0', 6, 2, 0.0054)\n",
      "\u001b[35m40\u001b[0m\n",
      "\t\u001b[35m0.0027 0.0023 0.0052 0.0052 0.0064 0.0066 0.0081 0.0024 0.0043 0.0\u001b[0m\n",
      "\t\t('0.0034 0.004 0.002 0.0026 0.0 0.0014 0.0022 0.0028 0.0026 0.0034', 8, 1, 0.0055)\n",
      "\t\u001b[35m0.0015 0.0024 0.0031 0.0028 0.0036 0.0036 0.0042 0.0024 0.0031 0.0\u001b[0m\n",
      "\t\t('0.0036 0.0042 0.0024 0.0031 0.0 0.0015 0.0024 0.0031 0.0028 0.0036', 9, 0, 0.0056)\n",
      "\t\u001b[35m0.0022 0.0031 0.0042 0.0028 0.0048 0.0044 0.0055 0.0034 0.003 0.0\u001b[0m\n",
      "\t\t('0.0035 0.0041 0.002 0.0026 0.0 0.0015 0.0022 0.0028 0.0026 0.0035', 7, 2, 0.0054)\n",
      "\u001b[35m45\u001b[0m\n",
      "\t\u001b[35m0.0041 0.0077 0.0026 0.0038 0.0 0.0023 0.0037 0.0051 0.0039 0.0034\u001b[0m\n",
      "\t\t('0.0015 0.0023 0.0029 0.0027 0.0035 0.0035 0.0041 0.0021 0.0028 0.0', 9, 1, 0.0057)\n",
      "\t\u001b[35m0.006 0.0041 0.0026 0.0043 0.0 0.0024 0.0032 0.0043 0.0034 0.0039\u001b[0m\n",
      "\t\t('0.0015 0.0024 0.0031 0.0028 0.0036 0.0036 0.0042 0.0024 0.0031 0.0', 8, 2, 0.0057)\n",
      "\t\u001b[35m0.0036 0.0042 0.0024 0.0031 0.0 0.0015 0.0024 0.0031 0.0028 0.0036\u001b[0m\n",
      "\t\t('0.0015 0.0024 0.0031 0.0028 0.0036 0.0036 0.0042 0.0024 0.0031 0.0', 10, 0, 0.0056)\n",
      "\u001b[35m50\u001b[0m\n",
      "\t\u001b[35m0.0015 0.0024 0.0031 0.0028 0.0036 0.0036 0.0042 0.0024 0.0031 0.0\u001b[0m\n",
      "\t\t('0.0036 0.0042 0.0024 0.0031 0.0 0.0015 0.0024 0.0031 0.0028 0.0036', 11, 0, 0.0056)\n",
      "\t\u001b[35m0.003 0.0046 0.006 0.0044 0.0061 0.0064 0.0066 0.004 0.0041 0.0\u001b[0m\n",
      "\t\t('0.0033 0.0039 0.0018 0.0024 0.0 0.0014 0.002 0.0027 0.0025 0.0033', 9, 2, 0.0055)\n",
      "\t\u001b[35m0.0029 0.0023 0.0037 0.0039 0.0063 0.0059 0.0078 0.0032 0.0031 0.0\u001b[0m\n",
      "\t\t('0.0035 0.0041 0.0021 0.0028 0.0 0.0015 0.0023 0.0029 0.0027 0.0035', 10, 1, 0.0054)\n",
      "\u001b[35m55\u001b[0m\n",
      "\t\u001b[35m0.0039 0.0076 0.0034 0.0034 0.0 0.0024 0.0028 0.004 0.0029 0.0043\u001b[0m\n",
      "\t\t('0.0015 0.0023 0.003 0.0027 0.0035 0.0035 0.0042 0.0022 0.0028 0.0', 11, 1, 0.0055)\n",
      "\t\u001b[35m0.0044 0.0076 0.0026 0.0025 0.0 0.0025 0.0038 0.0052 0.0047 0.006\u001b[0m\n",
      "\t\t('0.0013 0.002 0.0026 0.0025 0.0033 0.0033 0.0039 0.0018 0.0024 0.0', 10, 2, 0.0053)\n",
      "\t\u001b[35m0.0036 0.0042 0.0024 0.0031 0.0 0.0015 0.0024 0.0031 0.0028 0.0036\u001b[0m\n",
      "\t\t('0.0015 0.0024 0.0031 0.0028 0.0036 0.0036 0.0042 0.0024 0.0031 0.0', 12, 0, 0.0056)\n",
      "\u001b[35m60\u001b[0m\n",
      "\t\u001b[35m0.0019 0.0034 0.0058 0.0052 0.0048 0.0046 0.0063 0.0024 0.0053 0.0\u001b[0m\n",
      "\t\t('0.0036 0.0042 0.0024 0.003 0.0 0.0015 0.0024 0.003 0.0028 0.0036', 12, 1, 0.0057)\n",
      "\t\u001b[35m0.0015 0.0024 0.0031 0.0028 0.0036 0.0036 0.0042 0.0024 0.0031 0.0\u001b[0m\n",
      "\t\t('0.0036 0.0042 0.0024 0.0031 0.0 0.0015 0.0024 0.0031 0.0028 0.0036', 13, 0, 0.0056)\n",
      "\t\u001b[35m0.0016 0.0036 0.004 0.0034 0.0045 0.0034 0.0059 0.0022 0.0027 0.0\u001b[0m\n",
      "\t\t('0.0033 0.004 0.0018 0.0024 0.0 0.0014 0.002 0.0027 0.0025 0.0033', 11, 2, 0.0054)\n",
      "\u001b[35m65\u001b[0m\n",
      "\t\u001b[35m0.0056 0.0052 0.0032 0.0047 0.0 0.0017 0.0036 0.0035 0.0035 0.0059\u001b[0m\n",
      "\t\t('0.0014 0.0021 0.0028 0.0028 0.0037 0.0037 0.0043 0.0024 0.003 0.0', 12, 2, 0.0052)\n",
      "\t\u001b[35m0.0063 0.0059 0.003 0.0031 0.0 0.0021 0.0042 0.0031 0.0029 0.0056\u001b[0m\n",
      "\t\t('0.0015 0.0024 0.0031 0.0028 0.0036 0.0036 0.0043 0.0024 0.0031 0.0', 13, 1, 0.0054)\n",
      "\t\u001b[35m0.0036 0.0042 0.0024 0.0031 0.0 0.0015 0.0024 0.0031 0.0028 0.0036\u001b[0m\n",
      "\t\t('0.0015 0.0024 0.0031 0.0028 0.0036 0.0036 0.0042 0.0024 0.0031 0.0', 14, 0, 0.0056)\n",
      "\u001b[35m70\u001b[0m\n",
      "\t\u001b[35m0.0015 0.0042 0.0037 0.0045 0.0069 0.0047 0.0047 0.0047 0.0035 0.0\u001b[0m\n",
      "\t\t('0.0035 0.0041 0.0022 0.0028 0.0 0.0015 0.0023 0.0029 0.0027 0.0035', 13, 2, 0.0054)\n",
      "\t\u001b[35m0.0015 0.0024 0.0031 0.0028 0.0036 0.0036 0.0042 0.0024 0.0031 0.0\u001b[0m\n",
      "\t\t('0.0036 0.0042 0.0024 0.0031 0.0 0.0015 0.0024 0.0031 0.0028 0.0036', 15, 0, 0.0056)\n",
      "\t\u001b[35m0.0022 0.0035 0.0054 0.0044 0.0067 0.006 0.005 0.0042 0.0052 0.0\u001b[0m\n",
      "\t\t('0.0036 0.0042 0.0023 0.003 0.0 0.0015 0.0024 0.003 0.0028 0.0036', 14, 1, 0.0056)\n",
      "\u001b[35m75\u001b[0m\n",
      "\t\u001b[35m0.0051 0.0063 0.0037 0.0042 0.0 0.002 0.0041 0.0037 0.0035 0.0053\u001b[0m\n",
      "\t\t('0.0014 0.0021 0.0027 0.0027 0.0036 0.0036 0.0042 0.0023 0.0029 0.0', 14, 2, 0.0054)\n",
      "\t\u001b[35m0.0068 0.0068 0.0032 0.0052 0.0 0.0016 0.0026 0.0046 0.0051 0.005\u001b[0m\n",
      "\t\t('0.0015 0.0023 0.0029 0.0028 0.0036 0.0036 0.0042 0.0024 0.003 0.0', 15, 1, 0.0055)\n",
      "\t\u001b[35m0.0036 0.0042 0.0024 0.0031 0.0 0.0015 0.0024 0.0031 0.0028 0.0036\u001b[0m\n",
      "\t\t('0.0015 0.0024 0.0031 0.0028 0.0036 0.0036 0.0042 0.0024 0.0031 0.0', 16, 0, 0.0056)\n",
      "\u001b[35m80\u001b[0m\n",
      "\t\u001b[35m0.0015 0.0024 0.0031 0.0028 0.0036 0.0036 0.0042 0.0024 0.0031 0.0\u001b[0m\n",
      "\t\t('0.0036 0.0042 0.0024 0.0031 0.0 0.0015 0.0024 0.0031 0.0028 0.0036', 17, 0, 0.0056)\n",
      "\t\u001b[35m0.0028 0.0034 0.0034 0.0029 0.007 0.007 0.0072 0.0046 0.0039 0.0\u001b[0m\n",
      "\t\t('0.0035 0.0042 0.0023 0.003 0.0 0.0014 0.0022 0.0028 0.0027 0.0035', 16, 1, 0.0054)\n",
      "\t\u001b[35m0.0017 0.0023 0.0049 0.0028 0.0062 0.0065 0.0059 0.0037 0.0035 0.0\u001b[0m\n",
      "\t\t('0.0034 0.004 0.0019 0.0025 0.0 0.0014 0.0021 0.0028 0.0026 0.0034', 15, 2, 0.0054)\n",
      "\u001b[35m85\u001b[0m\n",
      "\t\u001b[35m0.0057 0.0064 0.002 0.0047 0.0 0.0024 0.003 0.0038 0.003 0.0037\u001b[0m\n",
      "\t\t('0.0015 0.0023 0.0029 0.0027 0.0036 0.0036 0.0042 0.0024 0.003 0.0', 16, 2, 0.0056)\n",
      "\t\u001b[35m0.0069 0.0046 0.0034 0.0059 0.0 0.0025 0.0039 0.0056 0.004 0.0059\u001b[0m\n",
      "\t\t('0.0015 0.0024 0.003 0.0028 0.0036 0.0036 0.0043 0.0025 0.0031 0.0', 17, 1, 0.0056)\n",
      "\t\u001b[35m0.0036 0.0042 0.0024 0.0031 0.0 0.0015 0.0024 0.0031 0.0028 0.0036\u001b[0m\n",
      "\t\t('0.0015 0.0024 0.0031 0.0028 0.0036 0.0036 0.0042 0.0024 0.0031 0.0', 18, 0, 0.0056)\n",
      "\u001b[35m90\u001b[0m\n",
      "\t\u001b[35m0.0015 0.0024 0.0031 0.0028 0.0036 0.0036 0.0042 0.0024 0.0031 0.0\u001b[0m\n",
      "\t\t('0.0036 0.0042 0.0024 0.0031 0.0 0.0015 0.0024 0.0031 0.0028 0.0036', 19, 0, 0.0056)\n",
      "\t\u001b[35m0.0017 0.003 0.0058 0.0047 0.0057 0.0065 0.0063 0.0048 0.0034 0.0\u001b[0m\n",
      "\t\t('0.0034 0.004 0.0018 0.0025 0.0 0.0014 0.0021 0.0027 0.0025 0.0034', 18, 1, 0.0054)\n",
      "\t\u001b[35m0.0026 0.0045 0.0045 0.0053 0.0039 0.004 0.0071 0.0032 0.0052 0.0\u001b[0m\n",
      "\t\t('0.0036 0.0043 0.0025 0.0031 0.0 0.0015 0.0024 0.003 0.0028 0.0036', 17, 2, 0.0057)\n",
      "\u001b[35m95\u001b[0m\n",
      "\t\u001b[35m0.0066 0.0056 0.0045 0.005 0.0 0.0017 0.0027 0.0043 0.0028 0.006\u001b[0m\n",
      "\t\t('0.0014 0.0022 0.0028 0.0028 0.0036 0.0036 0.0042 0.0024 0.003 0.0', 18, 2, 0.0054)\n",
      "\t\u001b[35m0.0036 0.0042 0.0024 0.0031 0.0 0.0015 0.0024 0.0031 0.0028 0.0036\u001b[0m\n",
      "\t\t('0.0015 0.0024 0.0031 0.0028 0.0036 0.0036 0.0042 0.0024 0.0031 0.0', 20, 0, 0.0056)\n",
      "\t\u001b[35m0.0056 0.0074 0.0031 0.0035 0.0 0.0026 0.0027 0.0052 0.0035 0.0058\u001b[0m\n",
      "\t\t('0.0014 0.0021 0.0028 0.0026 0.0034 0.0034 0.004 0.0019 0.0025 0.0', 19, 1, 0.0054)\n",
      "\t\u001b[35m0.0 0.0 0.0 0.0 0.0 0.0 0.0 0.0 0.0 0.0\u001b[0m\n",
      "\t\t('0.0016 0.0025 0.0031 0.0028 0.0037 0.0037 0.0043 0.0025 0.0031 0.0', 19, 2, 0.0054)\n",
      "\u001b[1m\u001b[33mT_curr : \u001b[0m 100\n",
      "\u001b[1m\u001b[33mD_curr : \u001b[0m 0.0015 0.0024 0.0031 0.0028 0.0036 0.0036 0.0042 0.0024 0.0031 0.0\n",
      "\u001b[1m\u001b[33mDprime : \u001b[0m 0.0015 0.0024 0.0031 0.0028 0.0036 0.0036 0.0042 0.0024 0.0031 0.0\n",
      "\u001b[1m\u001b[31mtotal execution time : \u001b[0m 0.11599999999999995\n",
      "\n",
      "\u001b[5m\u001b[7m\u001b[35m  || ANALYSIS || \n",
      "\u001b[0m\n",
      "\u001b[34mTO EXPLORE : \u001b[0m\n",
      "\u001b[43m\u001b[30mTotal time : 0.11599999999999995\u001b[0m\n",
      "\u001b[42m\u001b[30mSuccess : False\u001b[0m\n"
     ]
    }
   ],
   "source": [
    "DEBUG = True\n",
    "# Nbr pcs\n",
    "NPROCS = 10\n",
    "    \n",
    "# Nbr itérations\n",
    "N = 100\n",
    "\n",
    "# taille paquet d'itérations\n",
    "fragment_size = 5\n",
    "\n",
    "# Precision désirée pour le recollement des trajectoires\n",
    "precision = 4\n",
    "\n",
    "gap = 0.0005\n",
    "\n",
    "# mode de génération de l'état initial à chaque round\n",
    "mode_opt = [\"FIX\", \"RAND\", \"RAND_INF\", \"RAND_SUP\"]\n",
    "mode = mode_opt[2]\n",
    "\n",
    "catch_me = True\n",
    "\n",
    "# Lancement de la simulation\n",
    "simulation(N, NPROCS, fragment_size, precision, mode, gap, catch_me)"
   ]
  },
  {
   "cell_type": "markdown",
   "metadata": {},
   "source": [
    "#### Publication des résultats sur GitHub : https://github.com/HooBaeBoo/Stage-POLARIS"
   ]
  },
  {
   "cell_type": "code",
   "execution_count": 39,
   "metadata": {},
   "outputs": [
    {
     "name": "stdout",
     "output_type": "stream",
     "text": [
      "On branch master\n",
      "Your branch is ahead of 'origin/master' by 1 commit.\n",
      "  (use \"git push\" to publish your local commits)\n",
      "Changes not staged for commit:\n",
      "\tmodified:   ../../../../journal.org\n",
      "\n",
      "no changes added to commit\n"
     ]
    }
   ],
   "source": [
    "%%bash -s $experiment_name $site\n",
    "git add .\n",
    "git commit -m 'Automatic results update : '\"$1\"' --- '\"$2 \"'Fix : GAP'"
   ]
  },
  {
   "cell_type": "markdown",
   "metadata": {},
   "source": [
    "#### Fin d'expérience : suppression du job"
   ]
  },
  {
   "cell_type": "code",
   "execution_count": null,
   "metadata": {},
   "outputs": [],
   "source": [
    "#oardel([(jobid,site)])"
   ]
  },
  {
   "cell_type": "markdown",
   "metadata": {},
   "source": [
    "### Zone Test (à ignorer)"
   ]
  },
  {
   "cell_type": "code",
   "execution_count": null,
   "metadata": {},
   "outputs": [],
   "source": [
    "a = [1, 2 ,3]\n",
    "b = [2, 3, 4]\n",
    "math.isclose(a, b, abs_tol = 2)"
   ]
  },
  {
   "cell_type": "code",
   "execution_count": null,
   "metadata": {},
   "outputs": [],
   "source": [
    "tue = 6"
   ]
  },
  {
   "cell_type": "code",
   "execution_count": null,
   "metadata": {},
   "outputs": [],
   "source": [
    "def play(tue):\n",
    "    tue = tue -1\n",
    "    return tue\n",
    "\n",
    "\n",
    "a = play(tue)\n",
    "\n",
    "while (a > 2):\n",
    "    print(a)\n",
    "    a = play(a)"
   ]
  }
 ],
 "metadata": {
  "kernelspec": {
   "display_name": "Python 3",
   "language": "python",
   "name": "python3"
  },
  "language_info": {
   "codemirror_mode": {
    "name": "ipython",
    "version": 3
   },
   "file_extension": ".py",
   "mimetype": "text/x-python",
   "name": "python",
   "nbconvert_exporter": "python",
   "pygments_lexer": "ipython3",
   "version": "3.5.3"
  }
 },
 "nbformat": 4,
 "nbformat_minor": 2
}
