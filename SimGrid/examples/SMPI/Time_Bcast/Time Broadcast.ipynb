{
 "cells": [
  {
   "cell_type": "markdown",
   "metadata": {},
   "source": [
    "# Broadcast"
   ]
  },
  {
   "cell_type": "markdown",
   "metadata": {},
   "source": [
    "### But : Faire un broadcast, départ décalé \n"
   ]
  },
  {
   "cell_type": "markdown",
   "metadata": {},
   "source": [
    "#### Informations générales"
   ]
  },
  {
   "cell_type": "code",
   "execution_count": 1,
   "metadata": {},
   "outputs": [],
   "source": [
    "experiment_name = \"Time_Bcast\""
   ]
  },
  {
   "cell_type": "code",
   "execution_count": 2,
   "metadata": {},
   "outputs": [
    {
     "name": "stdout",
     "output_type": "stream",
     "text": [
      "commit 20dbcd20516269f15905cee3336a9034b1e6e722\n",
      "Author: Najwa Ez Zine <nezzine@fnantes-stretch>\n",
      "Date:   Wed May 30 15:53:55 2018 +0200\n",
      "\n",
      "    Cleaning\n"
     ]
    },
    {
     "name": "stderr",
     "output_type": "stream",
     "text": [
      "Python 2.7.13\n"
     ]
    }
   ],
   "source": [
    "%%bash -s\n",
    "git log -n 1\n",
    "python --version"
   ]
  },
  {
   "cell_type": "markdown",
   "metadata": {},
   "source": [
    "#### Préparation de l'environnement"
   ]
  },
  {
   "cell_type": "code",
   "execution_count": 3,
   "metadata": {},
   "outputs": [
    {
     "name": "stdout",
     "output_type": "stream",
     "text": [
      "Collecting execo\n",
      "Installing collected packages: execo\n",
      "Successfully installed execo-2.6.3\n",
      "Collecting requests\n",
      "  Using cached https://files.pythonhosted.org/packages/49/df/50aa1999ab9bde74656c2919d9c0c085fd2b3775fd3eca826012bef76d8c/requests-2.18.4-py2.py3-none-any.whl\n",
      "Collecting certifi>=2017.4.17 (from requests)\n",
      "  Using cached https://files.pythonhosted.org/packages/7c/e6/92ad559b7192d846975fc916b65f667c7b8c3a32bea7372340bfe9a15fa5/certifi-2018.4.16-py2.py3-none-any.whl\n",
      "Collecting chardet<3.1.0,>=3.0.2 (from requests)\n",
      "  Using cached https://files.pythonhosted.org/packages/bc/a9/01ffebfb562e4274b6487b4bb1ddec7ca55ec7510b22e4c51f14098443b8/chardet-3.0.4-py2.py3-none-any.whl\n",
      "Collecting urllib3<1.23,>=1.21.1 (from requests)\n",
      "  Using cached https://files.pythonhosted.org/packages/63/cb/6965947c13a94236f6d4b8223e21beb4d576dc72e8130bd7880f600839b8/urllib3-1.22-py2.py3-none-any.whl\n",
      "Collecting idna<2.7,>=2.5 (from requests)\n",
      "  Using cached https://files.pythonhosted.org/packages/27/cc/6dd9a3869f15c2edfab863b992838277279ce92663d334df9ecf5106f5c6/idna-2.6-py2.py3-none-any.whl\n",
      "Installing collected packages: certifi, chardet, urllib3, idna, requests\n",
      "Successfully installed certifi-2018.4.16 chardet-3.0.4 idna-2.6 requests-2.18.4 urllib3-1.22\n"
     ]
    }
   ],
   "source": [
    "%%bash -s\n",
    "pip3 install --user execo\n",
    "pip3 install --user requests"
   ]
  },
  {
   "cell_type": "code",
   "execution_count": 4,
   "metadata": {},
   "outputs": [],
   "source": [
    "import execo\n",
    "from execo import *\n",
    "from execo_g5k import *\n",
    "from execo_engine import *\n",
    "import os\n",
    "import sys\n",
    "import json\n",
    "import time\n",
    "import datetime\n",
    "import re\n",
    "from shutil import copy\n",
    "from subprocess import check_output"
   ]
  },
  {
   "cell_type": "markdown",
   "metadata": {},
   "source": [
    "##### Réservation noeuds"
   ]
  },
  {
   "cell_type": "code",
   "execution_count": 5,
   "metadata": {},
   "outputs": [],
   "source": [
    "# Nom du job\n",
    "jobname = ' '\n",
    "# Nombre de noeuds\n",
    "nodecount = 4\n",
    "# Temps réservation\n",
    "walltime = \"3:0:0\" \n",
    "\n",
    "# filters out Nantes's econome cluster\n",
    "resources_selection = \"-p \\\"cluster != 'econome'\\\"\" \n",
    "\n",
    "# Nancy\n",
    "site = \"nantes\""
   ]
  },
  {
   "cell_type": "code",
   "execution_count": 37,
   "metadata": {},
   "outputs": [
    {
     "name": "stdout",
     "output_type": "stream",
     "text": [
      "New job submitted, jobid is 91609\n"
     ]
    }
   ],
   "source": [
    "jobs = get_current_oar_jobs()\n",
    "jobid = None\n",
    "waiting_jobs = []\n",
    "while jobs:\n",
    "    j, site = jobs.pop()\n",
    "    info = get_oar_job_info(j, site)\n",
    "    if info['name'] == jobname:\n",
    "        if info['state'] == 'Running':\n",
    "            jobid = j\n",
    "            print(\"A {} job is already running, using it. jobid is {}\".format(jobname, jobid))\n",
    "            break\n",
    "        else:\n",
    "            waiting_jobs.append(j)\n",
    "if not jobid and not waiting_jobs:\n",
    "    jobspec = OarSubmission(resources=\"/cluster=1/nodes={}\".format(nodecount), walltime=walltime,\n",
    "                            additional_options=resources_selection, job_type=\"deploy\", name=jobname)\n",
    "    jobid, _ = oarsub([(jobspec, site)]).pop()\n",
    "    print(\"New job submitted, jobid is {}\".format(jobid))\n",
    "elif not jobid:\n",
    "    print(\"One or more {} jobs exist ({}) but are not running.\\n\"\n",
    "          \" Connect to the frontend to see what is happening, and/or run the cell again.\".format(\n",
    "          jobname, \", \".join([str(j) for j in waiting_jobs])))"
   ]
  },
  {
   "cell_type": "markdown",
   "metadata": {},
   "source": [
    "On les range"
   ]
  },
  {
   "cell_type": "code",
   "execution_count": 38,
   "metadata": {},
   "outputs": [
    {
     "data": {
      "text/plain": [
       "[]"
      ]
     },
     "execution_count": 38,
     "metadata": {},
     "output_type": "execute_result"
    }
   ],
   "source": [
    "nodes = get_oar_job_nodes(jobid)\n",
    "nodes.sort(key=lambda n: n.address)\n",
    "nodes"
   ]
  },
  {
   "cell_type": "markdown",
   "metadata": {},
   "source": [
    "##### Déploiement de l'environnement"
   ]
  },
  {
   "cell_type": "code",
   "execution_count": 8,
   "metadata": {},
   "outputs": [],
   "source": [
    "force_redeploy = False # set to True to force redeploying the OS on the nodes in the deployment section\n",
    "environment_dsc_file = 'src/debian9-x64-bigdata-tutorial.yaml' # filename of the kadeploy environment file (YAML)"
   ]
  },
  {
   "cell_type": "code",
   "execution_count": 9,
   "metadata": {
    "scrolled": true
   },
   "outputs": [
    {
     "name": "stdout",
     "output_type": "stream",
     "text": [
      "nantes: Deployment #D-1cc1afe0-fd8b-48ab-aefd-91d2ad42cc44 started\n",
      "nantes: Grab the key file /home/nezzine/.ssh/authorized_keys\n",
      "nantes: Grab the tarball file http://public.nancy.grid5000.fr/~pneyron/debian9-x64-bigdata-tutorial.tar.gz\n",
      "nantes: Grab the postinstall file server:///grid5000/postinstalls/g5k-postinstall.tgz\n",
      "nantes: Launching a deployment on ecotype-[7,9,44,47].nantes.grid5000.fr\n",
      "nantes: Performing a Deploy[SetDeploymentEnvUntrusted] step\n",
      "nantes:   switch_pxe\n",
      "nantes:   reboot\n",
      "nantes:    * Performing a soft reboot on ecotype-[7,9,44,47].nantes.grid5000.fr\n",
      "nantes:   wait_reboot\n",
      "nantes:   send_key_in_deploy_env\n",
      "nantes:   create_partition_table\n",
      "nantes:   format_deploy_part\n",
      "nantes:   mount_deploy_part\n",
      "nantes:   format_tmp_part\n",
      "nantes:   format_swap_part\n",
      "nantes: End of step Deploy[SetDeploymentEnvUntrusted] after 184s\n",
      "nantes: Performing a Deploy[BroadcastEnvKascade] step\n",
      "nantes:   send_environment\n",
      "nantes:    * Broadcast time: 104s\n",
      "nantes:   manage_admin_post_install\n",
      "nantes:   manage_user_post_install\n",
      "nantes:   check_kernel_files\n",
      "nantes:   send_key\n",
      "nantes:   install_bootloader\n",
      "nantes:   sync\n",
      "nantes: End of step Deploy[BroadcastEnvKascade] after 114s\n",
      "nantes: Performing a Deploy[BootNewEnvKexec] step\n",
      "nantes:   switch_pxe\n",
      "nantes:   umount_deploy_part\n",
      "nantes:   mount_deploy_part\n",
      "nantes:   kexec\n",
      "nantes:   wait_reboot\n",
      "nantes: End of step Deploy[BootNewEnvKexec] after 37s\n",
      "nantes: End of deployment for ecotype-[7,9,44,47].nantes.grid5000.fr after 335s\n",
      "nantes: End of deployment on cluster ecotype after 335s\n",
      "nantes: Deployment #D-1cc1afe0-fd8b-48ab-aefd-91d2ad42cc44 done\n",
      "nantes: \n",
      "nantes: The deployment is successful on nodes\n",
      "nantes: ecotype-7.nantes.grid5000.fr\n",
      "nantes: ecotype-9.nantes.grid5000.fr\n",
      "nantes: ecotype-44.nantes.grid5000.fr\n",
      "nantes: ecotype-47.nantes.grid5000.fr\n"
     ]
    },
    {
     "name": "stderr",
     "output_type": "stream",
     "text": [
      "nantes: Warning: Permanently added 'nantes.grid5000.fr,172.16.207.100' (ECDSA) to the list of known hosts.\r\n",
      "nantes: Connection to nantes.grid5000.fr closed.\r\n"
     ]
    }
   ],
   "source": [
    "deployment = Deployment(hosts=nodes, env_file = os.path.abspath(environment_dsc_file),\n",
    "                        other_options=\"-r ext4 --no-debug-mode\")\n",
    "\n",
    "deploy_ok, deploy_failed = deploy(deployment, check_deployed_command=not force_redeploy,\n",
    "                              stdout_handlers=[sys.stdout],\n",
    "                              stderr_handlers=[sys.stderr])"
   ]
  },
  {
   "cell_type": "markdown",
   "metadata": {},
   "source": [
    "#### Test : commande simple 'ls'"
   ]
  },
  {
   "cell_type": "code",
   "execution_count": null,
   "metadata": {},
   "outputs": [],
   "source": [
    "# execo.action.Remote(cmd,hosts,connection_params,process_args)\n",
    "Remote_test = execo.action.Remote(cmd='ls',hosts=nodes,connection_params=None, process_args=None)\n",
    "Remote_test.run().ok"
   ]
  },
  {
   "cell_type": "markdown",
   "metadata": {},
   "source": [
    "#### Installation environnement sur noeud"
   ]
  },
  {
   "cell_type": "code",
   "execution_count": 10,
   "metadata": {},
   "outputs": [],
   "source": [
    "Remote_install = execo.action.Remote(cmd='apt-get install g++ libboost-all-dev && wget http://gforge.inria.fr/frs/download.php/latestfile/8/SimGrid-3.18.tar.gz && tar -xvf SimGrid-3.18.tar.gz && cd SimGrid-3.18 && cmake -DCMAKE_INSTALL_PREFIX=/usr/local -Denable_smpi=on -Denable_documentation=off && make -j && make check && make install -j',hosts=nodes,connection_params={'user':'root'})"
   ]
  },
  {
   "cell_type": "code",
   "execution_count": 11,
   "metadata": {},
   "outputs": [
    {
     "data": {
      "text/plain": [
       "True"
      ]
     },
     "execution_count": 11,
     "metadata": {},
     "output_type": "execute_result"
    }
   ],
   "source": [
    "Remote_install.run().ok"
   ]
  },
  {
   "cell_type": "markdown",
   "metadata": {},
   "source": [
    "#### Version Simgrid"
   ]
  },
  {
   "cell_type": "code",
   "execution_count": 12,
   "metadata": {},
   "outputs": [
    {
     "data": {
      "text/plain": [
       "'SimGrid version 3.18  SimGrid version 3.18  SimGrid version 3.18  SimGrid version 3.18  '"
      ]
     },
     "execution_count": 12,
     "metadata": {},
     "output_type": "execute_result"
    }
   ],
   "source": [
    "execo.action.Remote(cmd='touch smpi_version.txt && smpicc --version > smpi_version.txt'\n",
    "                    , hosts=nodes, connection_params={'user': 'root'\n",
    "                    }).run()\n",
    "version = ''\n",
    "for i in range(0, nodecount):\n",
    "    execo.action.Get(hosts=nodes[i], remote_files=['~/smpi_version.txt'\n",
    "                     ], local_location='./smpicc_version-'\n",
    "                     + get_host_shortname(nodes[i]) + '.txt',\n",
    "                     connection_params={'user': 'root'}).run()\n",
    "    version = version + execo.Process(cmd='head -n 1 ./smpicc_version-'\n",
    "            + get_host_shortname(nodes[i]) + '.txt'\n",
    "            ).run().stdout.replace('\\n', '  ')\n",
    "    execo.Process(cmd='rm ./smpicc_version-'\n",
    "                  + get_host_shortname(nodes[i]) + '.txt').run()\n",
    "version\n"
   ]
  },
  {
   "cell_type": "code",
   "execution_count": 13,
   "metadata": {},
   "outputs": [],
   "source": [
    "path_base = \"~/Stage-POLARIS/SimGrid/examples/SMPI/\"+experiment_name\n",
    "path_src = path_base + '/src/'\n",
    "path_rslt = path_base + '/results/'"
   ]
  },
  {
   "cell_type": "markdown",
   "metadata": {},
   "source": [
    "#### Récupération fichiers sources"
   ]
  },
  {
   "cell_type": "code",
   "execution_count": null,
   "metadata": {},
   "outputs": [],
   "source": [
    "Src_get = execo.action.Remote(cmd='mkdir -p experiments_src',hosts=nodes,connection_params={'user':'root'})\n",
    "Src_get.run().ok"
   ]
  },
  {
   "cell_type": "code",
   "execution_count": null,
   "metadata": {},
   "outputs": [],
   "source": [
    "Remote_smpi_env = execo.action.Put(hosts=nodes,local_files=[path_src+\"griffon.xml\",path_src+\"griffon_hostfile.txt\",path_src+\"broadcast.c\",path_src+\"Makefile\"],remote_location='~/experiments_src',connection_params={'user':'root'})\n",
    "Remote_smpi_env.run().ok"
   ]
  },
  {
   "cell_type": "markdown",
   "metadata": {},
   "source": [
    "#### Execution de l'expérience"
   ]
  },
  {
   "cell_type": "code",
   "execution_count": null,
   "metadata": {},
   "outputs": [],
   "source": [
    "Remote_smpi = execo.action.Remote(cmd ='cd ~/experiments_src && make && make run NPROCS=2 MIN=0 MAX=10 N=2 DELAY=\\\"0 0\\\"',hosts=nodes,connection_params={'user':'root'})\n",
    "Remote_smpi.run().ok"
   ]
  },
  {
   "cell_type": "markdown",
   "metadata": {},
   "source": [
    "#### Récupération des résultats"
   ]
  },
  {
   "cell_type": "code",
   "execution_count": null,
   "metadata": {},
   "outputs": [],
   "source": [
    "Result_get = \\\n",
    "    execo.Process(cmd='mkdir -p /home/nezzine/Stage-POLARIS/SimGrid/examples/SMPI/'\n",
    "                   + experiment_name + '/results/'\n",
    "                  + datetime.datetime.now().strftime('%Y-%m-%d'))\n",
    "Result_get.run().ok"
   ]
  },
  {
   "cell_type": "code",
   "execution_count": null,
   "metadata": {
    "scrolled": true
   },
   "outputs": [],
   "source": [
    "for i in range(0, nodecount):\n",
    "    execo.action.Get(hosts = nodes[i],\n",
    "                     remote_files=['~/experiments_src/bcast_results.txt'\n",
    "                     ],\n",
    "                     local_location = path_rslt\n",
    "                     + datetime.datetime.now().strftime('%Y-%m-%d')\n",
    "                     + '/' + get_host_shortname(nodes[i]) + '_'\n",
    "                     + datetime.datetime.now().strftime('%Y-%m-%d_%H:%M'\n",
    "                     ) + '.txt', connection_params={'user': 'root'\n",
    "                     }).run().ok"
   ]
  },
  {
   "cell_type": "markdown",
   "metadata": {},
   "source": [
    "#### Delayer"
   ]
  },
  {
   "cell_type": "code",
   "execution_count": 14,
   "metadata": {},
   "outputs": [],
   "source": [
    "# Parsing the results\n",
    "def parser(num_node,date_precise):\n",
    "    with open('/home/nezzine/Stage-POLARIS/SimGrid/examples/SMPI/Time_Bcast/results/'\n",
    "               + date_precise.split('_')[0] + '/'\n",
    "              + get_host_shortname(nodes[num_node]) + '_'\n",
    "              + date_precise\n",
    "              + '.txt') as f:\n",
    "        return f.readlines()"
   ]
  },
  {
   "cell_type": "code",
   "execution_count": 15,
   "metadata": {},
   "outputs": [],
   "source": [
    "# Converting and organizing data\n",
    "def tab_conv(l,NPROCS) :\n",
    "    S = init_tab(NPROCS, None)\n",
    "        \n",
    "    # Taking useful data    \n",
    "    for i in range(0,NPROCS) :\n",
    "        S[int(l[i].split()[1])] = int(float(l[i].split()[5]))\n",
    "    return S"
   ]
  },
  {
   "cell_type": "code",
   "execution_count": 16,
   "metadata": {},
   "outputs": [],
   "source": [
    "def delayer(num_node,NPROCS,date):\n",
    "    D = init_tab(NPROCS,0)\n",
    "    \n",
    "    raw_data = parser(num_node,date)\n",
    "    \n",
    "    S = tab_conv(raw_data,NPROCS)\n",
    "    \n",
    "    for p in range(0, NPROCS):\n",
    "        D[p] = S[p] - min(S)\n",
    "    return D"
   ]
  },
  {
   "cell_type": "code",
   "execution_count": null,
   "metadata": {},
   "outputs": [],
   "source": [
    "delayer(1,2,'2018-05-30_12:19')"
   ]
  },
  {
   "cell_type": "code",
   "execution_count": 17,
   "metadata": {},
   "outputs": [],
   "source": [
    "def init_tab(num, elt) :\n",
    "    D = [elt] * num\n",
    "    return D"
   ]
  },
  {
   "cell_type": "markdown",
   "metadata": {},
   "source": [
    "##### Shortcut"
   ]
  },
  {
   "cell_type": "code",
   "execution_count": 23,
   "metadata": {},
   "outputs": [
    {
     "name": "stdout",
     "output_type": "stream",
     "text": [
      "2018-05-31_11:01\n",
      "ecotype-44 => 0 NPROCS = 10 MIN = 0 MAX = 25 N = 100 DELAY = '0 0 0 0 0 0 0 0 0 0'\n",
      "True\n",
      "[6, 6, 9, 3, 0, 11, 7, 2, 7, 10]\n",
      "ecotype-47 => 1 NPROCS = 10 MIN = 25 MAX = 50 N = 100 DELAY = '0 0 0 0 0 0 0 0 0 0'\n",
      "True\n",
      "[8, 0, 6, 6, 6, 6, 6, 8, 9, 5]\n",
      "ecotype-7 => 2 NPROCS = 10 MIN = 50 MAX = 75 N = 100 DELAY = '0 0 0 0 0 0 0 0 0 0'\n",
      "True\n",
      "[6, 0, 6, 6, 6, 8, 9, 7, 8, 4]\n",
      "ecotype-9 => 3 NPROCS = 10 MIN = 75 MAX = 100 N = 100 DELAY = '0 0 0 0 0 0 0 0 0 0'\n",
      "True\n",
      "[0, 0, 0, 0, 0, 0, 0, 0, 0, 0]\n"
     ]
    }
   ],
   "source": [
    "Src_get = execo.action.Remote(cmd='mkdir -p experiments_src',\n",
    "                              hosts=nodes,\n",
    "                              connection_params={'user': 'root'})\n",
    "Remote_smpi_env = execo.action.Put(hosts=nodes, local_files=[path_src\n",
    "                                   + 'griffon.xml', path_src\n",
    "                                   + 'griffon_hostfile.txt', path_src\n",
    "                                   + 'broadcast.c', path_src + 'Makefile'],\n",
    "                                   remote_location='~/experiments_src',\n",
    "                                   connection_params={'user': 'root'})\n",
    "Result_get = \\\n",
    "    execo.Process(cmd='mkdir -p /home/nezzine/Stage-POLARIS/SimGrid/examples/SMPI/'\n",
    "                   + experiment_name + '/results/'\n",
    "                  + datetime.datetime.now().strftime('%Y-%m-%d'))\n",
    "def parl_exec () :\n",
    "    Result_get.run().ok\n",
    "    # Nbr pcs\n",
    "    NPROCS = 10\n",
    "    \n",
    "    # Nbr itérations\n",
    "    N = 100\n",
    "    \n",
    "    D = init_tab(NPROCS,0)\n",
    "    delay = ' '.join(str(e) for e in D)\n",
    "    date = datetime.datetime.now().strftime('%Y-%m-%d');\n",
    "    date_precise = datetime.datetime.now().strftime('%Y-%m-%d_%H:%M')\n",
    "    print(date_precise)\n",
    "    \n",
    "    # TODO //\n",
    "    for i in range (0,nodecount) :\n",
    "        MIN = (int)((i*N)/len(nodes))\n",
    "        MAX = (int)(((i+1)*N)/len(nodes))\n",
    "        print(get_host_shortname(nodes[i])+\" => \"+str(i)+\" NPROCS = \"+str(NPROCS)\n",
    "             +\" MIN = \"+str(MIN)\n",
    "             +\" MAX = \"+str(MAX)\n",
    "             +\" N = \"+str(N)\n",
    "             +\" DELAY = '\"+ delay +\"'\"\n",
    "            )\n",
    "        bool = execo.action.Remote(cmd ='cd ~/experiments_src && make && make run NPROCS='\n",
    "                                  +str(NPROCS)+' MIN='+str(MIN) \n",
    "                                  +' MAX='+str(MAX)+' N='+str(N)\n",
    "                                  +\" DELAY='\"+delay\n",
    "                                  +\"'\",hosts=nodes[i],connection_params={'user':'root'}).run().ok\n",
    "        print(bool)\n",
    "        execo.action.Get(hosts=nodes[i],\n",
    "                     remote_files=['~/experiments_src/bcast_results.txt'\n",
    "                     ],\n",
    "                     local_location= path_rslt\n",
    "                     + date\n",
    "                     + '/' + get_host_shortname(nodes[i]) + '_'\n",
    "                     + date_precise + '.txt', connection_params={'user': 'root'\n",
    "                     }).run().ok\n",
    "        print(delayer(i,NPROCS,date_precise))\n",
    "    return;\n",
    "\n",
    "# Remote_smpi = execo.action.Remote(cmd ='cd ~/experiments_src && make && make run NPROCS=2 MIN=0 MAX=10',hosts=nodes,connection_params={'user':'root'})\n",
    "\n",
    "\n",
    "\n",
    "Src_get.run().ok\n",
    "Remote_smpi_env.run().ok\n",
    "\n",
    "# Remote_smpi.run().ok\n",
    "\n",
    "parl_exec()\n",
    "\n",
    "for i in range(0, nodecount):\n",
    "    execo.action.Get(hosts=nodes[i],\n",
    "                     remote_files=['~/experiments_src/bcast_results.txt'\n",
    "                     ],\n",
    "                     local_location=path_rslt\n",
    "                     + datetime.datetime.now().strftime('%Y-%m-%d')\n",
    "                     + '/' + get_host_shortname(nodes[i]) + '_'\n",
    "                     + datetime.datetime.now().strftime('%Y-%m-%d_%H:%M'\n",
    "                     ) + '.txt', connection_params={'user': 'root'\n",
    "                     }).run().ok"
   ]
  },
  {
   "cell_type": "markdown",
   "metadata": {},
   "source": [
    "#### //"
   ]
  },
  {
   "cell_type": "code",
   "execution_count": 36,
   "metadata": {},
   "outputs": [
    {
     "name": "stdout",
     "output_type": "stream",
     "text": [
      "2018-05-31 11:57:25,336 \u001b[36mWARNING:\u001b[m terminated: <SshProcess('mkdir -p experiments_src', Host('ecotype-47.nantes.grid5000.fr'), connection_params={'user': 'root'}, name=mkdir -p experiments_src, started=True, start_date=2018-05-31 11:57:06+02:00, ended=True, end_date=2018-05-31 11:57:25+02:00, killed=False, error=False, error_reason=None, timeouted=False, expect_fail=False, write_error=False, exit_code=65280, ok=False, pid=2915, real cmd=('ssh', '-tt', '-o', 'BatchMode=yes', '-o', 'PasswordAuthentication=no', '-o', 'StrictHostKeyChecking=no', '-o', 'UserKnownHostsFile=/dev/null', '-o', 'ConnectTimeout=20', '-o', 'User=root', 'ecotype-47.nantes.grid5000.fr', 'mkdir -p experiments_src'))>\n",
      "stdout:\n",
      "\n",
      "stderr:\n",
      "ssh: connect to host ecotype-47.nantes.grid5000.fr port 22: No route to host\n",
      "\n",
      "2018-05-31 11:57:25,339 \u001b[36mWARNING:\u001b[m terminated: <SshProcess('mkdir -p experiments_src', Host('ecotype-44.nantes.grid5000.fr'), connection_params={'user': 'root'}, name=mkdir -p experiments_src, started=True, start_date=2018-05-31 11:57:06+02:00, ended=True, end_date=2018-05-31 11:57:25+02:00, killed=False, error=False, error_reason=None, timeouted=False, expect_fail=False, write_error=False, exit_code=65280, ok=False, pid=2914, real cmd=('ssh', '-tt', '-o', 'BatchMode=yes', '-o', 'PasswordAuthentication=no', '-o', 'StrictHostKeyChecking=no', '-o', 'UserKnownHostsFile=/dev/null', '-o', 'ConnectTimeout=20', '-o', 'User=root', 'ecotype-44.nantes.grid5000.fr', 'mkdir -p experiments_src'))>\n",
      "stdout:\n",
      "\n",
      "stderr:\n",
      "ssh: connect to host ecotype-44.nantes.grid5000.fr port 22: No route to host\n",
      "\n",
      "2018-05-31 11:57:25,592 \u001b[36mWARNING:\u001b[m terminated: <SshProcess('mkdir -p experiments_src', Host('ecotype-9.nantes.grid5000.fr'), connection_params={'user': 'root'}, name=mkdir -p experiments_src, started=True, start_date=2018-05-31 11:57:07+02:00, ended=True, end_date=2018-05-31 11:57:25+02:00, killed=False, error=False, error_reason=None, timeouted=False, expect_fail=False, write_error=False, exit_code=65280, ok=False, pid=2917, real cmd=('ssh', '-tt', '-o', 'BatchMode=yes', '-o', 'PasswordAuthentication=no', '-o', 'StrictHostKeyChecking=no', '-o', 'UserKnownHostsFile=/dev/null', '-o', 'ConnectTimeout=20', '-o', 'User=root', 'ecotype-9.nantes.grid5000.fr', 'mkdir -p experiments_src'))>\n",
      "stdout:\n",
      "\n",
      "stderr:\n",
      "ssh: connect to host ecotype-9.nantes.grid5000.fr port 22: No route to host\n",
      "\n",
      "2018-05-31 11:57:27,166 \u001b[36mWARNING:\u001b[m terminated: <SshProcess('mkdir -p experiments_src', Host('ecotype-7.nantes.grid5000.fr'), connection_params={'user': 'root'}, name=mkdir -p experiments_src, started=True, start_date=2018-05-31 11:57:06+02:00, ended=True, end_date=2018-05-31 11:57:27+02:00, killed=False, error=False, error_reason=None, timeouted=False, expect_fail=False, write_error=False, exit_code=65280, ok=False, pid=2916, real cmd=('ssh', '-tt', '-o', 'BatchMode=yes', '-o', 'PasswordAuthentication=no', '-o', 'StrictHostKeyChecking=no', '-o', 'UserKnownHostsFile=/dev/null', '-o', 'ConnectTimeout=20', '-o', 'User=root', 'ecotype-7.nantes.grid5000.fr', 'mkdir -p experiments_src'))>\n",
      "stdout:\n",
      "\n",
      "stderr:\n",
      "ssh: connect to host ecotype-7.nantes.grid5000.fr port 22: Connection timed out\n",
      "\n",
      "2018-05-31 11:57:30,296 \u001b[36mWARNING:\u001b[m terminated: <Process('scp -o BatchMode=yes -o PasswordAuthentication=no -o StrictHostKeyChecking=no -o UserKnownHostsFile=/dev/null -o ConnectTimeout=20 -rp -o User=root ~/Stage-POLARIS/SimGrid/examples/SMPI/Time_Bcast/src/griffon.xml ~/Stage-POLARIS/SimGrid/examples/SMPI/Time_Bcast/src/griffon_hostfile.txt ~/Stage-POLARIS/SimGrid/examples/SMPI/Time_Bcast/src/broadcast.c ~/Stage-POLARIS/SimGrid/examples/SMPI/Time_Bcast/src/Makefile ecotype-44.nantes.grid5000.fr:~/experiments_src', shell=True, name=scp -o BatchMode=yes -o PasswordAuth..., started=True, start_date=2018-05-31 11:57:27+02:00, ended=True, end_date=2018-05-31 11:57:30+02:00, killed=False, error=False, error_reason=None, timeouted=False, expect_fail=False, write_error=False, exit_code=256, ok=False, pid=3264)>\n",
      "stdout:\n",
      "\n",
      "stderr:\n",
      "ssh: connect to host ecotype-44.nantes.grid5000.fr port 22: No route to host\n",
      "lost connection\n",
      "\n",
      "2018-05-31 11:57:30,299 \u001b[36mWARNING:\u001b[m terminated: <Process('scp -o BatchMode=yes -o PasswordAuthentication=no -o StrictHostKeyChecking=no -o UserKnownHostsFile=/dev/null -o ConnectTimeout=20 -rp -o User=root ~/Stage-POLARIS/SimGrid/examples/SMPI/Time_Bcast/src/griffon.xml ~/Stage-POLARIS/SimGrid/examples/SMPI/Time_Bcast/src/griffon_hostfile.txt ~/Stage-POLARIS/SimGrid/examples/SMPI/Time_Bcast/src/broadcast.c ~/Stage-POLARIS/SimGrid/examples/SMPI/Time_Bcast/src/Makefile ecotype-47.nantes.grid5000.fr:~/experiments_src', shell=True, name=scp -o BatchMode=yes -o PasswordAuth..., started=True, start_date=2018-05-31 11:57:27+02:00, ended=True, end_date=2018-05-31 11:57:30+02:00, killed=False, error=False, error_reason=None, timeouted=False, expect_fail=False, write_error=False, exit_code=256, ok=False, pid=3266)>\n",
      "stdout:\n",
      "\n",
      "stderr:\n",
      "ssh: connect to host ecotype-47.nantes.grid5000.fr port 22: No route to host\n",
      "lost connection\n",
      "\n",
      "2018-05-31 11:57:30,389 \u001b[36mWARNING:\u001b[m terminated: <Process('scp -o BatchMode=yes -o PasswordAuthentication=no -o StrictHostKeyChecking=no -o UserKnownHostsFile=/dev/null -o ConnectTimeout=20 -rp -o User=root ~/Stage-POLARIS/SimGrid/examples/SMPI/Time_Bcast/src/griffon.xml ~/Stage-POLARIS/SimGrid/examples/SMPI/Time_Bcast/src/griffon_hostfile.txt ~/Stage-POLARIS/SimGrid/examples/SMPI/Time_Bcast/src/broadcast.c ~/Stage-POLARIS/SimGrid/examples/SMPI/Time_Bcast/src/Makefile ecotype-9.nantes.grid5000.fr:~/experiments_src', shell=True, name=scp -o BatchMode=yes -o PasswordAuth..., started=True, start_date=2018-05-31 11:57:27+02:00, ended=True, end_date=2018-05-31 11:57:30+02:00, killed=False, error=False, error_reason=None, timeouted=False, expect_fail=False, write_error=False, exit_code=256, ok=False, pid=3270)>\n",
      "stdout:\n",
      "\n",
      "stderr:\n",
      "ssh: connect to host ecotype-9.nantes.grid5000.fr port 22: No route to host\n",
      "lost connection\n",
      "\n",
      "2018-05-31 11:57:45,882 \u001b[36mWARNING:\u001b[m terminated: <Process('scp -o BatchMode=yes -o PasswordAuthentication=no -o StrictHostKeyChecking=no -o UserKnownHostsFile=/dev/null -o ConnectTimeout=20 -rp -o User=root ~/Stage-POLARIS/SimGrid/examples/SMPI/Time_Bcast/src/griffon.xml ~/Stage-POLARIS/SimGrid/examples/SMPI/Time_Bcast/src/griffon_hostfile.txt ~/Stage-POLARIS/SimGrid/examples/SMPI/Time_Bcast/src/broadcast.c ~/Stage-POLARIS/SimGrid/examples/SMPI/Time_Bcast/src/Makefile ecotype-7.nantes.grid5000.fr:~/experiments_src', shell=True, name=scp -o BatchMode=yes -o PasswordAuth..., started=True, start_date=2018-05-31 11:57:27+02:00, ended=True, end_date=2018-05-31 11:57:45+02:00, killed=False, error=False, error_reason=None, timeouted=False, expect_fail=False, write_error=False, exit_code=256, ok=False, pid=3268)>\n",
      "stdout:\n",
      "\n",
      "stderr:\n",
      "ssh: connect to host ecotype-7.nantes.grid5000.fr port 22: No route to host\n",
      "lost connection\n",
      "\n",
      "ecotype-44 => 0 NPROCS = 10 MIN = 0 MAX = 25 N = 100 DELAY = '0 0 0 0 0 0 0 0 0 0'\n",
      "ecotype-47 => 1 NPROCS = 10 MIN = 25 MAX = 50 N = 100 DELAY = '0 0 0 0 0 0 0 0 0 0'\n",
      "ecotype-7 => 2 NPROCS = 10 MIN = 50 MAX = 75 N = 100 DELAY = '0 0 0 0 0 0 0 0 0 0'\n",
      "ecotype-9 => 3 NPROCS = 10 MIN = 75 MAX = 100 N = 100 DELAY = '0 0 0 0 0 0 0 0 0 0'\n",
      "2018-05-31 11:57:49,048 \u001b[36mWARNING:\u001b[m terminated: <SshProcess(\"cd ~/experiments_src && make && make run NPROCS=10 MIN=75 MAX=100 N=100 DELAY='0 0 0 0 0 0 0 0 0 0'\", Host('ecotype-44.nantes.grid5000.fr'), connection_params={'user': 'root'}, name=cd ~/experiments_src && make && make..., started=True, start_date=2018-05-31 11:57:46+02:00, ended=True, end_date=2018-05-31 11:57:49+02:00, killed=False, error=False, error_reason=None, timeouted=False, expect_fail=False, write_error=False, exit_code=65280, ok=False, pid=3774, real cmd=('ssh', '-tt', '-o', 'BatchMode=yes', '-o', 'PasswordAuthentication=no', '-o', 'StrictHostKeyChecking=no', '-o', 'UserKnownHostsFile=/dev/null', '-o', 'ConnectTimeout=20', '-o', 'User=root', 'ecotype-44.nantes.grid5000.fr', \"cd ~/experiments_src && make && make run NPROCS=10 MIN=75 MAX=100 N=100 DELAY='0 0 0 0 0 0 0 0 0 0'\"))>\n",
      "stdout:\n",
      "\n",
      "stderr:\n",
      "ssh: connect to host ecotype-44.nantes.grid5000.fr port 22: No route to host\n",
      "\n"
     ]
    },
    {
     "name": "stdout",
     "output_type": "stream",
     "text": [
      "False\n",
      "2018-05-31 11:57:49,052 \u001b[36mWARNING:\u001b[m terminated: <SshProcess(\"cd ~/experiments_src && make && make run NPROCS=10 MIN=0 MAX=25 N=100 DELAY='0 0 0 0 0 0 0 0 0 0'\", Host('ecotype-44.nantes.grid5000.fr'), connection_params={'user': 'root'}, name=cd ~/experiments_src && make && make..., started=True, start_date=2018-05-31 11:57:45+02:00, ended=True, end_date=2018-05-31 11:57:49+02:00, killed=False, error=False, error_reason=None, timeouted=False, expect_fail=False, write_error=False, exit_code=65280, ok=False, pid=3771, real cmd=('ssh', '-tt', '-o', 'BatchMode=yes', '-o', 'PasswordAuthentication=no', '-o', 'StrictHostKeyChecking=no', '-o', 'UserKnownHostsFile=/dev/null', '-o', 'ConnectTimeout=20', '-o', 'User=root', 'ecotype-44.nantes.grid5000.fr', \"cd ~/experiments_src && make && make run NPROCS=10 MIN=0 MAX=25 N=100 DELAY='0 0 0 0 0 0 0 0 0 0'\"))>\n",
      "stdout:\n",
      "\n",
      "stderr:\n",
      "ssh: connect to host ecotype-44.nantes.grid5000.fr port 22: No route to host\n",
      "\n",
      "False\n",
      "2018-05-31 11:57:49,096 \u001b[36mWARNING:\u001b[m terminated: <SshProcess(\"cd ~/experiments_src && make && make run NPROCS=10 MIN=25 MAX=50 N=100 DELAY='0 0 0 0 0 0 0 0 0 0'\", Host('ecotype-47.nantes.grid5000.fr'), connection_params={'user': 'root'}, name=cd ~/experiments_src && make && make..., started=True, start_date=2018-05-31 11:57:45+02:00, ended=True, end_date=2018-05-31 11:57:49+02:00, killed=False, error=False, error_reason=None, timeouted=False, expect_fail=False, write_error=False, exit_code=65280, ok=False, pid=3773, real cmd=('ssh', '-tt', '-o', 'BatchMode=yes', '-o', 'PasswordAuthentication=no', '-o', 'StrictHostKeyChecking=no', '-o', 'UserKnownHostsFile=/dev/null', '-o', 'ConnectTimeout=20', '-o', 'User=root', 'ecotype-47.nantes.grid5000.fr', \"cd ~/experiments_src && make && make run NPROCS=10 MIN=25 MAX=50 N=100 DELAY='0 0 0 0 0 0 0 0 0 0'\"))>\n",
      "stdout:\n",
      "\n",
      "stderr:\n",
      "ssh: connect to host ecotype-47.nantes.grid5000.fr port 22: No route to host\n",
      "\n",
      "False\n",
      "2018-05-31 11:57:49,148 \u001b[36mWARNING:\u001b[m terminated: <SshProcess(\"cd ~/experiments_src && make && make run NPROCS=10 MIN=50 MAX=75 N=100 DELAY='0 0 0 0 0 0 0 0 0 0'\", Host('ecotype-9.nantes.grid5000.fr'), connection_params={'user': 'root'}, name=cd ~/experiments_src && make && make..., started=True, start_date=2018-05-31 11:57:46+02:00, ended=True, end_date=2018-05-31 11:57:49+02:00, killed=False, error=False, error_reason=None, timeouted=False, expect_fail=False, write_error=False, exit_code=65280, ok=False, pid=3775, real cmd=('ssh', '-tt', '-o', 'BatchMode=yes', '-o', 'PasswordAuthentication=no', '-o', 'StrictHostKeyChecking=no', '-o', 'UserKnownHostsFile=/dev/null', '-o', 'ConnectTimeout=20', '-o', 'User=root', 'ecotype-9.nantes.grid5000.fr', \"cd ~/experiments_src && make && make run NPROCS=10 MIN=50 MAX=75 N=100 DELAY='0 0 0 0 0 0 0 0 0 0'\"))>\n",
      "stdout:\n",
      "\n",
      "stderr:\n",
      "ssh: connect to host ecotype-9.nantes.grid5000.fr port 22: No route to host\n",
      "\n",
      "False\n"
     ]
    },
    {
     "name": "stderr",
     "output_type": "stream",
     "text": [
      "Exception in thread Thread-51:\n",
      "Traceback (most recent call last):\n",
      "  File \"/usr/lib/python3.5/threading.py\", line 914, in _bootstrap_inner\n",
      "    self.run()\n",
      "  File \"<ipython-input-36-02753e9833c2>\", line 53, in run\n",
      "    print(delayer(i,NPROCS,date_precise))\n",
      "  File \"<ipython-input-16-2434d7dba9f7>\", line 4, in delayer\n",
      "    raw_data = parser(num_node,date)\n",
      "  File \"<ipython-input-14-99b22b4490ea>\", line 7, in parser\n",
      "    + '.txt') as f:\n",
      "FileNotFoundError: [Errno 2] No such file or directory: '/home/nezzine/Stage-POLARIS/SimGrid/examples/SMPI/Time_Bcast/results/2018-05-31/ecotype-44_2018-05-31_11:57.txt'\n",
      "\n",
      "Exception in thread Thread-48:\n",
      "Traceback (most recent call last):\n",
      "  File \"/usr/lib/python3.5/threading.py\", line 914, in _bootstrap_inner\n",
      "    self.run()\n",
      "  File \"<ipython-input-36-02753e9833c2>\", line 53, in run\n",
      "    print(delayer(i,NPROCS,date_precise))\n",
      "  File \"<ipython-input-16-2434d7dba9f7>\", line 4, in delayer\n",
      "    raw_data = parser(num_node,date)\n",
      "  File \"<ipython-input-14-99b22b4490ea>\", line 7, in parser\n",
      "    + '.txt') as f:\n",
      "FileNotFoundError: [Errno 2] No such file or directory: '/home/nezzine/Stage-POLARIS/SimGrid/examples/SMPI/Time_Bcast/results/2018-05-31/ecotype-44_2018-05-31_11:57.txt'\n",
      "\n",
      "Exception in thread Thread-49:\n",
      "Traceback (most recent call last):\n",
      "  File \"/usr/lib/python3.5/threading.py\", line 914, in _bootstrap_inner\n",
      "    self.run()\n",
      "  File \"<ipython-input-36-02753e9833c2>\", line 53, in run\n",
      "    print(delayer(i,NPROCS,date_precise))\n",
      "  File \"<ipython-input-16-2434d7dba9f7>\", line 4, in delayer\n",
      "    raw_data = parser(num_node,date)\n",
      "  File \"<ipython-input-14-99b22b4490ea>\", line 7, in parser\n",
      "    + '.txt') as f:\n",
      "FileNotFoundError: [Errno 2] No such file or directory: '/home/nezzine/Stage-POLARIS/SimGrid/examples/SMPI/Time_Bcast/results/2018-05-31/ecotype-44_2018-05-31_11:57.txt'\n",
      "\n",
      "Exception in thread Thread-50:\n",
      "Traceback (most recent call last):\n",
      "  File \"/usr/lib/python3.5/threading.py\", line 914, in _bootstrap_inner\n",
      "    self.run()\n",
      "  File \"<ipython-input-36-02753e9833c2>\", line 53, in run\n",
      "    print(delayer(i,NPROCS,date_precise))\n",
      "  File \"<ipython-input-16-2434d7dba9f7>\", line 4, in delayer\n",
      "    raw_data = parser(num_node,date)\n",
      "  File \"<ipython-input-14-99b22b4490ea>\", line 7, in parser\n",
      "    + '.txt') as f:\n",
      "FileNotFoundError: [Errno 2] No such file or directory: '/home/nezzine/Stage-POLARIS/SimGrid/examples/SMPI/Time_Bcast/results/2018-05-31/ecotype-44_2018-05-31_11:57.txt'\n",
      "\n"
     ]
    },
    {
     "name": "stdout",
     "output_type": "stream",
     "text": [
      "2018-05-31 11:57:52,177 \u001b[36mWARNING:\u001b[m terminated: <Process('scp -o BatchMode=yes -o PasswordAuthentication=no -o StrictHostKeyChecking=no -o UserKnownHostsFile=/dev/null -o ConnectTimeout=20 -rp -o User=root ecotype-44.nantes.grid5000.fr:~/experiments_src/bcast_results.txt ~/Stage-POLARIS/SimGrid/examples/SMPI/Time_Bcast/results/2018-05-31/ecotype-44_2018-05-31_11:57.txt', shell=True, name=scp -o BatchMode=yes -o PasswordAuth..., started=True, start_date=2018-05-31 11:57:49+02:00, ended=True, end_date=2018-05-31 11:57:52+02:00, killed=False, error=False, error_reason=None, timeouted=False, expect_fail=False, write_error=False, exit_code=256, ok=False, pid=3829)>\n",
      "stdout:\n",
      "\n",
      "stderr:\n",
      "ssh: connect to host ecotype-44.nantes.grid5000.fr port 22: No route to host\n",
      "\n",
      "2018-05-31 11:57:55,303 \u001b[36mWARNING:\u001b[m terminated: <Process('scp -o BatchMode=yes -o PasswordAuthentication=no -o StrictHostKeyChecking=no -o UserKnownHostsFile=/dev/null -o ConnectTimeout=20 -rp -o User=root ecotype-47.nantes.grid5000.fr:~/experiments_src/bcast_results.txt ~/Stage-POLARIS/SimGrid/examples/SMPI/Time_Bcast/results/2018-05-31/ecotype-47_2018-05-31_11:57.txt', shell=True, name=scp -o BatchMode=yes -o PasswordAuth..., started=True, start_date=2018-05-31 11:57:52+02:00, ended=True, end_date=2018-05-31 11:57:55+02:00, killed=False, error=False, error_reason=None, timeouted=False, expect_fail=False, write_error=False, exit_code=256, ok=False, pid=3898)>\n",
      "stdout:\n",
      "\n",
      "stderr:\n",
      "ssh: connect to host ecotype-47.nantes.grid5000.fr port 22: No route to host\n",
      "\n",
      "2018-05-31 11:57:58,427 \u001b[36mWARNING:\u001b[m terminated: <Process('scp -o BatchMode=yes -o PasswordAuthentication=no -o StrictHostKeyChecking=no -o UserKnownHostsFile=/dev/null -o ConnectTimeout=20 -rp -o User=root ecotype-7.nantes.grid5000.fr:~/experiments_src/bcast_results.txt ~/Stage-POLARIS/SimGrid/examples/SMPI/Time_Bcast/results/2018-05-31/ecotype-7_2018-05-31_11:57.txt', shell=True, name=scp -o BatchMode=yes -o PasswordAuth..., started=True, start_date=2018-05-31 11:57:55+02:00, ended=True, end_date=2018-05-31 11:57:58+02:00, killed=False, error=False, error_reason=None, timeouted=False, expect_fail=False, write_error=False, exit_code=256, ok=False, pid=3925)>\n",
      "stdout:\n",
      "\n",
      "stderr:\n",
      "ssh: connect to host ecotype-7.nantes.grid5000.fr port 22: No route to host\n",
      "\n",
      "2018-05-31 11:58:01,561 \u001b[36mWARNING:\u001b[m terminated: <Process('scp -o BatchMode=yes -o PasswordAuthentication=no -o StrictHostKeyChecking=no -o UserKnownHostsFile=/dev/null -o ConnectTimeout=20 -rp -o User=root ecotype-9.nantes.grid5000.fr:~/experiments_src/bcast_results.txt ~/Stage-POLARIS/SimGrid/examples/SMPI/Time_Bcast/results/2018-05-31/ecotype-9_2018-05-31_11:57.txt', shell=True, name=scp -o BatchMode=yes -o PasswordAuth..., started=True, start_date=2018-05-31 11:57:58+02:00, ended=True, end_date=2018-05-31 11:58:01+02:00, killed=False, error=False, error_reason=None, timeouted=False, expect_fail=False, write_error=False, exit_code=256, ok=False, pid=4005)>\n",
      "stdout:\n",
      "\n",
      "stderr:\n",
      "ssh: connect to host ecotype-9.nantes.grid5000.fr port 22: No route to host\n",
      "\n"
     ]
    }
   ],
   "source": [
    "import random\n",
    "import sys\n",
    "from threading import Thread\n",
    "import time\n",
    "\n",
    "\n",
    "Src_get = execo.action.Remote(cmd='mkdir -p experiments_src',\n",
    "                              hosts=nodes,\n",
    "                              connection_params={'user': 'root'})\n",
    "Remote_smpi_env = execo.action.Put(hosts=nodes, local_files=[path_src\n",
    "                                   + 'griffon.xml', path_src\n",
    "                                   + 'griffon_hostfile.txt', path_src\n",
    "                                   + 'broadcast.c', path_src + 'Makefile'],\n",
    "                                   remote_location='~/experiments_src',\n",
    "                                   connection_params={'user': 'root'})\n",
    "Result_get = \\\n",
    "    execo.Process(cmd='mkdir -p /home/nezzine/Stage-POLARIS/SimGrid/examples/SMPI/'\n",
    "                   + experiment_name + '/results/'\n",
    "                  + datetime.datetime.now().strftime('%Y-%m-%d'))\n",
    "\n",
    "\n",
    "\n",
    "Src_get.run().ok\n",
    "Remote_smpi_env.run().ok\n",
    "\n",
    "\n",
    "machines = init_tab(len(nodes),None)\n",
    "\n",
    "class ParSimer(Thread):\n",
    "\n",
    "    \"\"\"Thread chargé simplement d'afficher une lettre dans la console.\"\"\"\n",
    "\n",
    "    def __init__(self, MIN,MAX,N,DELAY):\n",
    "        Thread.__init__(self)\n",
    "        self.MIN = MIN\n",
    "        self.MAX = MAX\n",
    "        self.N = N\n",
    "        self.DELAY = DELAY\n",
    "        \n",
    "    def run(self):\n",
    "        \"\"\"Code à exécuter pendant l'exécution du thread.\"\"\"\n",
    "        print(get_host_shortname(nodes[i])+\" => \"+str(i)+\" NPROCS = \"+str(NPROCS)\n",
    "             +\" MIN = \"+str(self.MIN)\n",
    "             +\" MAX = \"+str(self.MAX)\n",
    "             +\" N = \"+str(self.N)\n",
    "             +\" DELAY = '\"+ self.DELAY +\"'\"\n",
    "            )\n",
    "        bool = execo.action.Remote(cmd ='cd ~/experiments_src && make && make run NPROCS='\n",
    "                                  +str(NPROCS)+' MIN='+str(self.MIN) \n",
    "                                  +' MAX='+str(self.MAX)+' N='+str(self.N)\n",
    "                                  +\" DELAY='\"+self.DELAY\n",
    "                                  +\"'\",hosts=nodes[i],connection_params={'user':'root'}).run().ok\n",
    "        print(bool)\n",
    "       \n",
    "                      \n",
    "            \n",
    "# Création des threads\n",
    "Result_get.run().ok\n",
    "# Nbr pcs\n",
    "NPROCS = 10\n",
    "    \n",
    "# Nbr itérations\n",
    "N = 100\n",
    "    \n",
    "D = init_tab(NPROCS,0)\n",
    "delay = ' '.join(str(e) for e in D)\n",
    "date = datetime.datetime.now().strftime('%Y-%m-%d');\n",
    "date_precise = datetime.datetime.now().strftime('%Y-%m-%d_%H:%M')\n",
    "\n",
    "\n",
    "\n",
    "for i in range (0,nodecount) :\n",
    "    MIN = (int)((i*N)/len(nodes))\n",
    "    MAX = (int)(((i+1)*N)/len(nodes)) \n",
    "    machines[i] = ParSimer(MIN,MAX,N,delay)\n",
    "\n",
    "# Lancement des threads\n",
    "for i in range (0,nodecount) :\n",
    "    machines[i].start()\n",
    "\n",
    "for i in range (0,nodecount) :\n",
    "    machines[i].join()\n",
    "    execo.action.Get(hosts=nodes[i],\n",
    "                     remote_files=['~/experiments_src/bcast_results.txt'\n",
    "                     ],\n",
    "                     local_location= path_rslt\n",
    "                     + date\n",
    "                     + '/' + get_host_shortname(nodes[i]) + '_'\n",
    "                     + date_precise + '.txt', connection_params={'user': 'root'\n",
    "                     }).run().ok     \n",
    "     print(delayer(i,NPROCS,date_precise))"
   ]
  },
  {
   "cell_type": "markdown",
   "metadata": {},
   "source": [
    "#### Publication des résultats"
   ]
  },
  {
   "cell_type": "code",
   "execution_count": null,
   "metadata": {},
   "outputs": [],
   "source": [
    "%%bash -s $experiment_name $site\n",
    "git add .\n",
    "git commit -m 'Automatic results update : '\"$1\"'---'\"$2\"' Delayer'"
   ]
  },
  {
   "cell_type": "markdown",
   "metadata": {},
   "source": [
    "#### Fin d'expérience : suppression du job"
   ]
  },
  {
   "cell_type": "code",
   "execution_count": null,
   "metadata": {},
   "outputs": [],
   "source": [
    "oardel(jobid)"
   ]
  }
 ],
 "metadata": {
  "kernelspec": {
   "display_name": "Python 3",
   "language": "python",
   "name": "python3"
  },
  "language_info": {
   "codemirror_mode": {
    "name": "ipython",
    "version": 3
   },
   "file_extension": ".py",
   "mimetype": "text/x-python",
   "name": "python",
   "nbconvert_exporter": "python",
   "pygments_lexer": "ipython3",
   "version": "3.5.3"
  }
 },
 "nbformat": 4,
 "nbformat_minor": 2
}
