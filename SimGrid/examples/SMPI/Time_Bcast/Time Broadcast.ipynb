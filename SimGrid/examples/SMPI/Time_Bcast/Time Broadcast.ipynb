{
 "cells": [
  {
   "cell_type": "markdown",
   "metadata": {},
   "source": [
    "# Broadcast"
   ]
  },
  {
   "cell_type": "markdown",
   "metadata": {},
   "source": [
    "### But : Faire un broadcast, départ décalé \n"
   ]
  },
  {
   "cell_type": "markdown",
   "metadata": {},
   "source": [
    "#### Informations générales"
   ]
  },
  {
   "cell_type": "code",
   "execution_count": 1,
   "metadata": {},
   "outputs": [],
   "source": [
    "experiment_name = \"Time_Bcast\""
   ]
  },
  {
   "cell_type": "code",
   "execution_count": 2,
   "metadata": {},
   "outputs": [
    {
     "name": "stdout",
     "output_type": "stream",
     "text": [
      "commit 66f8d3bb1b6268e8694b09d7cc5502aaa54f9a5a\n",
      "Author: Najwa Ez Zine <nezzine@frennes>\n",
      "Date:   Wed Jun 27 11:10:28 2018 +0200\n",
      "\n",
      "    Journal update\n"
     ]
    },
    {
     "name": "stderr",
     "output_type": "stream",
     "text": [
      "Python 2.7.13\n"
     ]
    }
   ],
   "source": [
    "%%bash -s\n",
    "git log -n 1\n",
    "python --version"
   ]
  },
  {
   "cell_type": "markdown",
   "metadata": {},
   "source": [
    "#### Préparation de l'environnement"
   ]
  },
  {
   "cell_type": "code",
   "execution_count": 3,
   "metadata": {},
   "outputs": [
    {
     "name": "stdout",
     "output_type": "stream",
     "text": [
      "Collecting execo\n",
      "Installing collected packages: execo\n",
      "Successfully installed execo-2.6.3\n",
      "Collecting requests\n",
      "  Downloading https://files.pythonhosted.org/packages/65/47/7e02164a2a3db50ed6d8a6ab1d6d60b69c4c3fdf57a284257925dfc12bda/requests-2.19.1-py2.py3-none-any.whl (91kB)\n",
      "Collecting idna<2.8,>=2.5 (from requests)\n",
      "  Downloading https://files.pythonhosted.org/packages/4b/2a/0276479a4b3caeb8a8c1af2f8e4355746a97fab05a372e4a2c6a6b876165/idna-2.7-py2.py3-none-any.whl (58kB)\n",
      "Collecting chardet<3.1.0,>=3.0.2 (from requests)\n",
      "  Using cached https://files.pythonhosted.org/packages/bc/a9/01ffebfb562e4274b6487b4bb1ddec7ca55ec7510b22e4c51f14098443b8/chardet-3.0.4-py2.py3-none-any.whl\n",
      "Collecting urllib3<1.24,>=1.21.1 (from requests)\n",
      "  Downloading https://files.pythonhosted.org/packages/bd/c9/6fdd990019071a4a32a5e7cb78a1d92c53851ef4f56f62a3486e6a7d8ffb/urllib3-1.23-py2.py3-none-any.whl (133kB)\n",
      "Collecting certifi>=2017.4.17 (from requests)\n",
      "  Using cached https://files.pythonhosted.org/packages/7c/e6/92ad559b7192d846975fc916b65f667c7b8c3a32bea7372340bfe9a15fa5/certifi-2018.4.16-py2.py3-none-any.whl\n",
      "Installing collected packages: idna, chardet, urllib3, certifi, requests\n",
      "Successfully installed certifi-2018.4.16 chardet-3.0.4 idna-2.7 requests-2.19.1 urllib3-1.23\n",
      "Collecting termcolor\n",
      "  Downloading https://files.pythonhosted.org/packages/8a/48/a76be51647d0eb9f10e2a4511bf3ffb8cc1e6b14e9e4fab46173aa79f981/termcolor-1.1.0.tar.gz\n",
      "Building wheels for collected packages: termcolor\n",
      "  Running setup.py bdist_wheel for termcolor: started\n",
      "  Running setup.py bdist_wheel for termcolor: finished with status 'done'\n",
      "  Stored in directory: /home/nezzine/.cache/pip/wheels/7c/06/54/bc84598ba1daf8f970247f550b175aaaee85f68b4b0c5ab2c6\n",
      "Successfully built termcolor\n",
      "Installing collected packages: termcolor\n",
      "Successfully installed termcolor-1.1.0\n"
     ]
    }
   ],
   "source": [
    "%%bash -s\n",
    "pip3 install --user execo\n",
    "pip3 install --user requests\n",
    "pip3 install --user termcolor"
   ]
  },
  {
   "cell_type": "code",
   "execution_count": 4,
   "metadata": {},
   "outputs": [],
   "source": [
    "import execo\n",
    "from execo import *\n",
    "from execo_g5k import *\n",
    "from execo_engine import *\n",
    "import os\n",
    "import sys\n",
    "import json\n",
    "import time\n",
    "import datetime\n",
    "import re\n",
    "from shutil import copy\n",
    "from subprocess import check_output\n",
    "import random\n",
    "from threading import Thread\n",
    "import math\n",
    "import collections\n",
    "from collections import deque\n",
    "from termcolor import *\n",
    "from collections import OrderedDict"
   ]
  },
  {
   "cell_type": "markdown",
   "metadata": {},
   "source": [
    "##### Réservation noeuds"
   ]
  },
  {
   "cell_type": "code",
   "execution_count": 5,
   "metadata": {},
   "outputs": [],
   "source": [
    "# Nom du job\n",
    "jobname = ' '\n",
    "# Nombre de noeuds\n",
    "nodecount = 3\n",
    "# Temps réservation\n",
    "walltime = \"3:0:0\" \n",
    "\n",
    "# filters out Nantes's econome cluster\n",
    "resources_selection = \"-p \\\"cluster in ('ecotype','parasilo','grisou','uvb','paravance')\\\"\" \n",
    "\n",
    "# Nancy\n",
    "site = \"nancy\""
   ]
  },
  {
   "cell_type": "code",
   "execution_count": 6,
   "metadata": {},
   "outputs": [
    {
     "name": "stdout",
     "output_type": "stream",
     "text": [
      "New job submitted, jobid is 1591530\n"
     ]
    }
   ],
   "source": [
    "jobs = get_current_oar_jobs()\n",
    "jobid = None\n",
    "waiting_jobs = []\n",
    "while jobs:\n",
    "    j, site = jobs.pop()\n",
    "    info = get_oar_job_info(j, site)\n",
    "    if info['name'] == jobname:\n",
    "        if info['state'] == 'Running':\n",
    "            jobid = j\n",
    "            print(\"A {} job is already running, using it. jobid is {}\".format(jobname, jobid))\n",
    "            break\n",
    "        else:\n",
    "            waiting_jobs.append(j)\n",
    "if not jobid and not waiting_jobs:\n",
    "    jobspec = OarSubmission(resources=\"/cluster=1/nodes={}\".format(nodecount), walltime=walltime,\n",
    "                            additional_options=resources_selection, job_type=\"deploy\", name=jobname)\n",
    "    jobid, _ = oarsub([(jobspec, site)]).pop()\n",
    "    print(\"New job submitted, jobid is {}\".format(jobid))\n",
    "elif not jobid:\n",
    "    print(\"One or more {} jobs exist ({}) but are not running.\\n\"\n",
    "          \" Connect to the frontend to see what is happening, and/or run the cell again.\".format(\n",
    "          jobname, \", \".join([str(j) for j in waiting_jobs])))"
   ]
  },
  {
   "cell_type": "markdown",
   "metadata": {},
   "source": [
    "On les range"
   ]
  },
  {
   "cell_type": "code",
   "execution_count": 8,
   "metadata": {},
   "outputs": [
    {
     "data": {
      "text/plain": [
       "[Host('grisou-7.nancy.grid5000.fr'),\n",
       " Host('grisou-8.nancy.grid5000.fr'),\n",
       " Host('grisou-9.nancy.grid5000.fr')]"
      ]
     },
     "execution_count": 8,
     "metadata": {},
     "output_type": "execute_result"
    }
   ],
   "source": [
    "nodes = get_oar_job_nodes(jobid)\n",
    "nodes.sort(key=lambda n: n.address)\n",
    "nodes"
   ]
  },
  {
   "cell_type": "markdown",
   "metadata": {},
   "source": [
    "##### Déploiement de l'environnement"
   ]
  },
  {
   "cell_type": "markdown",
   "metadata": {},
   "source": [
    "###### Via fichier "
   ]
  },
  {
   "cell_type": "code",
   "execution_count": 9,
   "metadata": {},
   "outputs": [],
   "source": [
    "force_redeploy = True # set to True to force redeploying the OS on the nodes in the deployment section\n",
    "environment_dsc_file = 'src/debian9-x64-bigdata-tutorial.yaml' # filename of the kadeploy environment file (YAML)"
   ]
  },
  {
   "cell_type": "code",
   "execution_count": 10,
   "metadata": {
    "scrolled": true
   },
   "outputs": [
    {
     "name": "stdout",
     "output_type": "stream",
     "text": [
      "nancy: Deployment #D-4e5d75ec-bedb-4dfa-b43f-7b5ff63909c4 started\n",
      "nancy: Grab the key file /home/nezzine/.ssh/authorized_keys\n",
      "nancy: Grab the tarball file http://public.nancy.grid5000.fr/~pneyron/debian9-x64-bigdata-tutorial.tar.gz\n",
      "nancy: Grab the postinstall file server:///grid5000/postinstalls/g5k-postinstall.tgz\n",
      "nancy: Launching a deployment on grisou-[7-9].nancy.grid5000.fr\n",
      "nancy: Performing a Deploy[SetDeploymentEnvUntrusted] step\n",
      "nancy:   switch_pxe\n",
      "nancy:   reboot\n",
      "nancy:    * Performing a soft reboot on grisou-[7-9].nancy.grid5000.fr\n",
      "nancy:   wait_reboot\n",
      "nancy:   send_key_in_deploy_env\n",
      "nancy:   create_partition_table\n",
      "nancy:   format_deploy_part\n",
      "nancy:   mount_deploy_part\n",
      "nancy:   format_tmp_part\n",
      "nancy:   format_swap_part\n",
      "nancy: End of step Deploy[SetDeploymentEnvUntrusted] after 140s\n",
      "nancy: Performing a Deploy[BroadcastEnvKascade] step\n",
      "nancy:   send_environment\n",
      "nancy:    * Broadcast time: 70s\n",
      "nancy:   manage_admin_post_install\n",
      "nancy:   manage_user_post_install\n",
      "nancy:   check_kernel_files\n",
      "nancy:   send_key\n",
      "nancy:   install_bootloader\n",
      "nancy:   sync\n",
      "nancy: End of step Deploy[BroadcastEnvKascade] after 115s\n",
      "nancy: Performing a Deploy[BootNewEnvKexec] step\n",
      "nancy:   switch_pxe\n",
      "nancy:   umount_deploy_part\n",
      "nancy:   mount_deploy_part\n",
      "nancy:   kexec\n",
      "nancy:   wait_reboot\n",
      "nancy: End of step Deploy[BootNewEnvKexec] after 37s\n",
      "nancy: End of deployment for grisou-[7-9].nancy.grid5000.fr after 292s\n",
      "nancy: End of deployment on cluster grisou after 293s\n",
      "nancy: Deployment #D-4e5d75ec-bedb-4dfa-b43f-7b5ff63909c4 done\n",
      "nancy: \n",
      "nancy: The deployment is successful on nodes\n",
      "nancy: grisou-7.nancy.grid5000.fr\n",
      "nancy: grisou-8.nancy.grid5000.fr\n",
      "nancy: grisou-9.nancy.grid5000.fr\n"
     ]
    },
    {
     "name": "stderr",
     "output_type": "stream",
     "text": [
      "nancy: Warning: Permanently added 'nancy.grid5000.fr,172.16.79.101' (ECDSA) to the list of known hosts.\r\n",
      "nancy: Connection to nancy.grid5000.fr closed.\r\n"
     ]
    }
   ],
   "source": [
    "deployment = Deployment(hosts=nodes, env_file = os.path.abspath(environment_dsc_file),\n",
    "                        other_options=\"-r ext4 --no-debug-mode\")\n",
    "\n",
    "deploy_ok, deploy_failed = deploy(deployment, check_deployed_command=not force_redeploy,\n",
    "                              stdout_handlers=[sys.stdout],\n",
    "                              stderr_handlers=[sys.stderr])"
   ]
  },
  {
   "cell_type": "code",
   "execution_count": 11,
   "metadata": {},
   "outputs": [
    {
     "name": "stdout",
     "output_type": "stream",
     "text": [
      "Deployement status:\n",
      "* ok: {'grisou-7.nancy.grid5000.fr', 'grisou-9.nancy.grid5000.fr', 'grisou-8.nancy.grid5000.fr'}\n",
      "* failed: set()\n"
     ]
    }
   ],
   "source": [
    "print(\"Deployement status:\\n* ok: {}\\n* failed: {}\".format(deploy_ok, deploy_failed))"
   ]
  },
  {
   "cell_type": "markdown",
   "metadata": {},
   "source": [
    "##### Avec nom"
   ]
  },
  {
   "cell_type": "code",
   "execution_count": null,
   "metadata": {},
   "outputs": [],
   "source": [
    "deployed, undeployed = deploy(Deployment(nodes, env_name = \"debian9-x64-base\",other_options=\"-r ext4 --no-debug-mode\"),stdout_handlers=[sys.stdout],\n",
    "                              stderr_handlers=[sys.stderr])"
   ]
  },
  {
   "cell_type": "code",
   "execution_count": null,
   "metadata": {},
   "outputs": [],
   "source": [
    "print(\"Deployement status:\\n* ok: {}\\n* failed: {}\".format(deployed, undeployed))"
   ]
  },
  {
   "cell_type": "markdown",
   "metadata": {},
   "source": [
    "#### Test : commande simple 'ls'"
   ]
  },
  {
   "cell_type": "code",
   "execution_count": null,
   "metadata": {},
   "outputs": [],
   "source": [
    "Remote_test = execo.action.Remote(cmd='ls',hosts=nodes,connection_params=None, process_args=None)\n",
    "Remote_test.run().ok"
   ]
  },
  {
   "cell_type": "markdown",
   "metadata": {},
   "source": [
    "#### Installation environnement/tools sur noeuds"
   ]
  },
  {
   "cell_type": "code",
   "execution_count": 12,
   "metadata": {},
   "outputs": [],
   "source": [
    "Remote_install = execo.action.Remote(cmd='apt-get install g++ libboost-all-dev && wget http://gforge.inria.fr/frs/download.php/latestfile/8/SimGrid-3.18.tar.gz && tar -xvf SimGrid-3.18.tar.gz && cd SimGrid-3.18 && cmake -DCMAKE_INSTALL_PREFIX=/usr/local -Denable_smpi=on -Denable_documentation=off && make -j && make check && make install -j',hosts=nodes,connection_params={'user':'root'})"
   ]
  },
  {
   "cell_type": "code",
   "execution_count": 13,
   "metadata": {},
   "outputs": [
    {
     "data": {
      "text/plain": [
       "True"
      ]
     },
     "execution_count": 13,
     "metadata": {},
     "output_type": "execute_result"
    }
   ],
   "source": [
    "Remote_install.run().ok"
   ]
  },
  {
   "cell_type": "markdown",
   "metadata": {},
   "source": [
    "#### Version Simgrid"
   ]
  },
  {
   "cell_type": "code",
   "execution_count": 14,
   "metadata": {},
   "outputs": [
    {
     "data": {
      "text/plain": [
       "'SimGrid version 3.18  SimGrid version 3.18  SimGrid version 3.18  '"
      ]
     },
     "execution_count": 14,
     "metadata": {},
     "output_type": "execute_result"
    }
   ],
   "source": [
    "execo.action.Remote(cmd='touch smpi_version.txt && smpicc --version > smpi_version.txt'\n",
    "                    , hosts=nodes, connection_params={'user': 'root'\n",
    "                    }).run()\n",
    "version = ''\n",
    "for i in range(0, nodecount):\n",
    "    execo.action.Get(hosts=nodes[i], remote_files=['~/smpi_version.txt'\n",
    "                     ], local_location='./smpicc_version-'\n",
    "                     + get_host_shortname(nodes[i]) + '.txt',\n",
    "                     connection_params={'user': 'root'}).run()\n",
    "    version = version + execo.Process(cmd='head -n 1 ./smpicc_version-'\n",
    "            + get_host_shortname(nodes[i]) + '.txt'\n",
    "            ).run().stdout.replace('\\n', '  ')\n",
    "    execo.Process(cmd='rm ./smpicc_version-'\n",
    "                  + get_host_shortname(nodes[i]) + '.txt').run()\n",
    "version\n"
   ]
  },
  {
   "cell_type": "code",
   "execution_count": 15,
   "metadata": {},
   "outputs": [],
   "source": [
    "path_base = \"~/Stage-POLARIS/SimGrid/examples/SMPI/\"+experiment_name\n",
    "path_src = path_base + '/src/'\n",
    "path_rslt = path_base + '/results/'"
   ]
  },
  {
   "cell_type": "markdown",
   "metadata": {},
   "source": [
    "#### Récupération fichiers sources"
   ]
  },
  {
   "cell_type": "code",
   "execution_count": null,
   "metadata": {},
   "outputs": [],
   "source": [
    "Src_get = execo.action.Remote(cmd='mkdir -p experiments_src',hosts=nodes,connection_params={'user':'root'})\n",
    "Src_get.run().ok"
   ]
  },
  {
   "cell_type": "code",
   "execution_count": null,
   "metadata": {},
   "outputs": [],
   "source": [
    "Remote_smpi_env = execo.action.Put(hosts=nodes,local_files=[path_src+\"griffon.xml\",path_src+\"griffon_hostfile.txt\",path_src+\"broadcast.c\",path_src+\"Makefile\"],remote_location='~/experiments_src',connection_params={'user':'root'})\n",
    "Remote_smpi_env.run().ok"
   ]
  },
  {
   "cell_type": "markdown",
   "metadata": {},
   "source": [
    "#### Execution de l'expérience"
   ]
  },
  {
   "cell_type": "code",
   "execution_count": null,
   "metadata": {},
   "outputs": [],
   "source": [
    "Remote_smpi = execo.action.Remote(cmd ='cd ~/experiments_src && make && make run NPROCS=2 MIN=0 MAX=10 N=2 DELAY=\\\"0 0\\\"',hosts=nodes,connection_params={'user':'root'})\n",
    "Remote_smpi.run().ok"
   ]
  },
  {
   "cell_type": "markdown",
   "metadata": {},
   "source": [
    "#### Récupération des résultats"
   ]
  },
  {
   "cell_type": "code",
   "execution_count": null,
   "metadata": {},
   "outputs": [],
   "source": [
    "Result_get = \\\n",
    "    execo.Process(cmd='mkdir -p /home/nezzine/Stage-POLARIS/SimGrid/examples/SMPI/'\n",
    "                   + experiment_name + '/results/'\n",
    "                  + datetime.datetime.now().strftime('%Y-%m-%d'))\n",
    "Result_get.run().ok"
   ]
  },
  {
   "cell_type": "code",
   "execution_count": null,
   "metadata": {
    "scrolled": true
   },
   "outputs": [],
   "source": [
    "for i in range(0, nodecount):\n",
    "    execo.action.Get(hosts = nodes[i],\n",
    "                     remote_files=['~/experiments_src/bcast_results.txt'\n",
    "                     ],\n",
    "                     local_location = path_rslt\n",
    "                     + datetime.datetime.now().strftime('%Y-%m-%d')\n",
    "                     + '/' + get_host_shortname(nodes[i]) + '_'\n",
    "                     + datetime.datetime.now().strftime('%Y-%m-%d_%H:%M'\n",
    "                     ) + '.txt', connection_params={'user': 'root'\n",
    "                     }).run().ok"
   ]
  },
  {
   "cell_type": "markdown",
   "metadata": {},
   "source": [
    "#### Delayer"
   ]
  },
  {
   "cell_type": "code",
   "execution_count": 64,
   "metadata": {},
   "outputs": [],
   "source": [
    "def init_tab(num, elt) :\n",
    "    D = [elt] * num\n",
    "    return D"
   ]
  },
  {
   "cell_type": "code",
   "execution_count": 65,
   "metadata": {},
   "outputs": [],
   "source": [
    "# Parsing the results\n",
    "def parser(num_node,date_precise):\n",
    "    with open('/home/nezzine/Stage-POLARIS/SimGrid/examples/SMPI/Time_Bcast/results/'\n",
    "               + date_precise.split('_')[0] + '/'\n",
    "              + get_host_shortname(nodes[num_node]) + '_'\n",
    "              + date_precise\n",
    "              + '.txt') as f:\n",
    "        return f.readlines()"
   ]
  },
  {
   "cell_type": "code",
   "execution_count": 66,
   "metadata": {},
   "outputs": [],
   "source": [
    "# Converting and organizing data\n",
    "def tab_conv(l,NPROCS,precision) :\n",
    "    S = init_tab(NPROCS, None)\n",
    "        \n",
    "    # Taking useful data    \n",
    "    for i in range(0,NPROCS) :\n",
    "        line = l[i].split()\n",
    "        S[int(line[1])] = round(float(line[5]),precision)\n",
    "    return S"
   ]
  },
  {
   "cell_type": "code",
   "execution_count": 67,
   "metadata": {},
   "outputs": [],
   "source": [
    "def delayer(num_node,NPROCS,date,precision):\n",
    "    D = init_tab(NPROCS,0.0)\n",
    "    \n",
    "    raw_data = parser(num_node,date)\n",
    "    \n",
    "    S = tab_conv(raw_data,NPROCS,precision)\n",
    "    \n",
    "    for p in range(0, NPROCS):\n",
    "        D[p] = round(S[p] - min(S),precision)\n",
    "    return [D,min(S)]"
   ]
  },
  {
   "cell_type": "code",
   "execution_count": 55,
   "metadata": {},
   "outputs": [
    {
     "data": {
      "text/plain": [
       "48.147"
      ]
     },
     "execution_count": 55,
     "metadata": {},
     "output_type": "execute_result"
    }
   ],
   "source": [
    "a = round(13.6958585,2)\n",
    "b = round(48.1465614,3)\n"
   ]
  },
  {
   "cell_type": "code",
   "execution_count": null,
   "metadata": {},
   "outputs": [],
   "source": [
    "# Example\n",
    "delayer(0,10,'2018-06-04_12:38')"
   ]
  },
  {
   "cell_type": "markdown",
   "metadata": {},
   "source": [
    "##### Shortcut : séquentiel"
   ]
  },
  {
   "cell_type": "code",
   "execution_count": 20,
   "metadata": {},
   "outputs": [],
   "source": [
    "def setup() :\n",
    "    Src_dir = execo.action.Remote(cmd='mkdir -p experiments_src',\n",
    "                              hosts=nodes,\n",
    "                              connection_params={'user': 'root'})\n",
    "    Src_get = execo.action.Put(hosts=nodes, local_files=[path_src\n",
    "                                   + 'griffon.xml', path_src\n",
    "                                   + 'griffon_hostfile.txt', path_src\n",
    "                                   + 'broadcast.c', path_src + 'Makefile'],\n",
    "                                   remote_location='~/experiments_src',\n",
    "                                   connection_params={'user': 'root'})\n",
    "    Rslt_dir = \\\n",
    "        execo.Process(cmd='mkdir -p /home/nezzine/Stage-POLARIS/SimGrid/examples/SMPI/'\n",
    "                   + experiment_name + '/results/'\n",
    "                  + datetime.datetime.now().strftime('%Y-%m-%d'))\n",
    "\n",
    "# On récup les src\n",
    "    Src_dir.run().ok\n",
    "    Src_get.run().ok\n",
    "    Rslt_dir.run().ok\n"
   ]
  },
  {
   "cell_type": "code",
   "execution_count": null,
   "metadata": {},
   "outputs": [],
   "source": [
    "# Test : trajectoire jusqu'à la ième machine raccrochée à la trajectoire initiale\n",
    "def coherence(tab,i):\n",
    "     return all(x == True for x in tab[0:i])"
   ]
  },
  {
   "cell_type": "code",
   "execution_count": null,
   "metadata": {},
   "outputs": [],
   "source": [
    "\n",
    "def parl_exec () :\n",
    "    setup()\n",
    "    # Nbr pcs\n",
    "    NPROCS = 10\n",
    "    \n",
    "    # Nbr itérations\n",
    "    N = 100\n",
    "    \n",
    "    D = init_tab(NPROCS,0.0)\n",
    "    delay = ' '.join(str(e) for e in D)\n",
    "    date = datetime.datetime.now().strftime('%Y-%m-%d');\n",
    "    date_precise = datetime.datetime.now().strftime('%Y-%m-%d_%H:%M')\n",
    "    print(date_precise)\n",
    "    \n",
    "    # TODO //\n",
    "    for i in range (0,nodecount) :\n",
    "        MIN = (int)((i*N)/len(nodes))\n",
    "        MAX = (int)(((i+1)*N)/len(nodes))\n",
    "        print(get_host_shortname(nodes[i])+\" => \"+str(i)+\" NPROCS = \"+str(NPROCS)\n",
    "             +\" MIN = \"+str(MIN)\n",
    "             +\" MAX = \"+str(MAX)\n",
    "             +\" N = \"+str(N)\n",
    "             +\" DELAY = '\"+ delay +\"'\"\n",
    "            )\n",
    "        bool = execo.action.Remote(cmd ='cd ~/experiments_src && make && make run NPROCS='\n",
    "                                  +str(NPROCS)+' MIN='+str(MIN) \n",
    "                                  +' MAX='+str(MAX)+' N='+str(N)\n",
    "                                  +\" DELAY='\"+delay\n",
    "                                  +\"'\",hosts=nodes[i],connection_params={'user':'root'}).run().ok\n",
    "        print(bool)\n",
    "        execo.action.Get(hosts=nodes[i],\n",
    "                     remote_files=['~/experiments_src/bcast_results.txt'\n",
    "                     ],\n",
    "                     local_location= path_rslt\n",
    "                     + date\n",
    "                     + '/' + get_host_shortname(nodes[i]) + '_'\n",
    "                     + date_precise + '.txt', connection_params={'user': 'root'\n",
    "                     }).run().ok\n",
    "        print(delayer(i,NPROCS,date_precise))\n",
    "    return;\n",
    "\n",
    "parl_exec()\n",
    "\n",
    "for i in range(0, nodecount):\n",
    "    execo.action.Get(hosts=nodes[i],\n",
    "                     remote_files=['~/experiments_src/bcast_results.txt'\n",
    "                     ],\n",
    "                     local_location=path_rslt\n",
    "                     + datetime.datetime.now().strftime('%Y-%m-%d')\n",
    "                     + '/' + get_host_shortname(nodes[i]) + '_'\n",
    "                     + datetime.datetime.now().strftime('%Y-%m-%d_%H:%M'\n",
    "                     ) + '.txt', connection_params={'user': 'root'\n",
    "                     }).run().ok"
   ]
  },
  {
   "cell_type": "markdown",
   "metadata": {},
   "source": [
    "#### Parallel simulation"
   ]
  },
  {
   "cell_type": "code",
   "execution_count": 21,
   "metadata": {},
   "outputs": [],
   "source": [
    "# Thread pour la simulation // opt.\n",
    "class ParSimer(Thread):\n",
    "\n",
    "    \"\"\"Thread chargé simplement d'afficher une lettre dans la console.\"\"\"\n",
    "    \n",
    "    # Paramètrage du thread\n",
    "    def __init__(self,i,MIN,MAX,N,DELAY):\n",
    "        Thread.__init__(self)\n",
    "        self.MIN = MIN\n",
    "        self.MAX = MAX\n",
    "        self.N = N\n",
    "        self.DELAY = DELAY\n",
    "        self.i = i\n",
    "    \n",
    "    # Set la valeur du délai\n",
    "    def set_delay(self,delay):\n",
    "        self.DELAY = delay\n",
    "    \n",
    "    def get_delay(self):\n",
    "        return self.DELAY\n",
    "    def get_MIN(self):\n",
    "        return self.MIN\n",
    "    def run(self):\n",
    "        \"\"\"Code à exécuter pendant l'exécution du thread.\"\"\"\n",
    "        \"\"\"print(get_host_shortname(nodes[self.i])+\" => \"+str(self.i)+\" NPROCS = \"+str(NPROCS)\n",
    "             +\" MIN = \"+str(self.MIN)\n",
    "             +\" MAX = \"+str(self.MAX)\n",
    "             +\" N = \"+str(self.N)\n",
    "             +\" DELAY = '\"+ self.DELAY +\"'\\n\"\n",
    "            )\n",
    "        \"\"\"\n",
    "        # make run sur toutes la machine dont le thread s'occupe avec ses paramètres\n",
    "        execo.action.Remote(cmd ='cd ~/experiments_src && make && make run NPROCS='\n",
    "                                  +str(NPROCS)+' MIN='+str(self.MIN) \n",
    "                                  +' MAX='+str(self.MAX)+' N='+str(self.N)\n",
    "                                  +\" DELAY='\"+self.DELAY\n",
    "                                  +\"'\",hosts=nodes[self.i],connection_params={'user':'root'}).run().ok\n"
   ]
  },
  {
   "cell_type": "code",
   "execution_count": 22,
   "metadata": {},
   "outputs": [],
   "source": [
    "# Formate le tableau en string pour pouvoir etre passé en ligne de commande\n",
    "def format_cmd(data):\n",
    "    return (' '.join(str(e) for e in data))"
   ]
  },
  {
   "cell_type": "code",
   "execution_count": 23,
   "metadata": {},
   "outputs": [],
   "source": [
    "# Formate le string en tableau d'int pour être manipulé \n",
    "def unformat_cmd(data):\n",
    "    return list(map(float,data.split()))"
   ]
  },
  {
   "cell_type": "code",
   "execution_count": 69,
   "metadata": {},
   "outputs": [],
   "source": [
    "# SOURCE : https://stackoverflow.com/questions/3229419/how-to-pretty-print-nested-dictionaries\n",
    "def pretty(d, indent=0):\n",
    "    for key, value in d.items():\n",
    "        print('\\t' * indent + colored (str(key), \"magenta\"))\n",
    "        if isinstance(value, type({})):\n",
    "            pretty(value, indent+1)\n",
    "        else:\n",
    "            print('\\t' * (indent+1) + str(value))"
   ]
  },
  {
   "cell_type": "code",
   "execution_count": 58,
   "metadata": {},
   "outputs": [],
   "source": [
    "def generate_Dprime(NPROCS,border_inf,border_sup,precision):\n",
    "    new_Dprime = []\n",
    "    if (border_inf == 0):\n",
    "        for p in range(NPROCS):\n",
    "            new_Dprime.append(round(random.uniform(border_inf,border_sup[p]+1),precision))\n",
    "    else : \n",
    "        for p in range(NPROCS):\n",
    "            new_Dprime.append(round(random.choice(range(border_inf[p]+1,border_sup[p]+1)),precision))\n",
    "    return format_cmd(new_Dprime)"
   ]
  },
  {
   "cell_type": "code",
   "execution_count": null,
   "metadata": {},
   "outputs": [],
   "source": [
    "bold\n",
    "dark\n",
    "underline\n",
    "blink\n",
    "reverse\n",
    "concealed"
   ]
  },
  {
   "cell_type": "code",
   "execution_count": 26,
   "metadata": {},
   "outputs": [
    {
     "name": "stdout",
     "output_type": "stream",
     "text": [
      "\u001b[5m\u001b[31mHello, World!\u001b[0m\n",
      "\u001b[2m\u001b[31mHello, World!\u001b[0m\n",
      "\u001b[4m\u001b[31mHello, World!\u001b[0m\n",
      "\u001b[1m\u001b[31mHello, World!\u001b[0m\n",
      "\u001b[8m\u001b[31mHello, World!\u001b[0m\n",
      "\u001b[7m\u001b[41m\u001b[32mHello, World!\u001b[0m\n"
     ]
    }
   ],
   "source": [
    "import sys\n",
    "from termcolor import colored, cprint\n",
    "\n",
    "text = colored('Hello, World!', 'red', attrs=[ 'blink'])\n",
    "print(text)\n",
    "text = colored('Hello, World!', 'red', attrs=['dark'])\n",
    "print(text)\n",
    "text = colored('Hello, World!', 'red', attrs=[ 'underline'])\n",
    "print(text)\n",
    "text = colored('Hello, World!', 'red', attrs=[ 'bold'])\n",
    "print(text)\n",
    "text = colored('Hello, World!', 'red', attrs=[ 'concealed'])\n",
    "print(text)\n",
    "cprint('Hello, World!', 'green', 'on_red',attrs=[ 'reverse'])"
   ]
  },
  {
   "cell_type": "code",
   "execution_count": 61,
   "metadata": {},
   "outputs": [],
   "source": [
    "# SIMULATION\n",
    "def simulation(N, NPROCS, fragment_size, precision, mode, catch_me):\n",
    "    \"\"\"Contrôle de la validité des paramètres\"\"\"\n",
    "    # Taille du fragment ne peut être supérieure à la zone d'itération\n",
    "    if (fragment_size > N): \n",
    "        raise ValueError(\"Fragment size cannot be superior to N\")\n",
    "        \n",
    "    \"\"\"Mise en place de l'environnement et des variables\"\"\"\n",
    "    # Environnement\n",
    "    setup() \n",
    "    \n",
    "    # Dates: pour la gestion de fichiers (IMPORTANT pour lecture/écriture)\n",
    "    date_precise = datetime.datetime.now().strftime('%Y-%m-%d_%H:%M')\n",
    "    date = date_precise.split('_')[0]\n",
    "    \n",
    "    # Total execution time\n",
    "    total_execution_time = 0\n",
    "    \n",
    "    # Tableau de threads\n",
    "    machines = init_tab(nodecount, None)\n",
    "      \n",
    "    # position trajectoire cohérente courante\n",
    "    t_curr = 0\n",
    "    \n",
    "    # D de la trajectorie cohérente courante\n",
    "    D_curr = format_cmd(init_tab(NPROCS, 0))\n",
    "    \n",
    "    # Taille du dernier slot\n",
    "    last_fragment_size = N % fragment_size\n",
    "    \n",
    "    # Nombre de fragments\n",
    "    fragment_number = int((math.ceil(N / fragment_size)))\n",
    "    \n",
    "    # Nombre de rounds\n",
    "    rounds_taken = 0\n",
    "    \n",
    "    # zone d'itérations à explorer\n",
    "    To_explore = collections.deque()\n",
    "    \n",
    "    # Initialisation des zones à explorer D = '0...0' pour chaque zone T -> (Min d'itération , D initial)\n",
    "    for i in range(fragment_number):\n",
    "        To_explore.append((i * fragment_size, format_cmd(init_tab(NPROCS, 0))))\n",
    "\n",
    "    # Round actuel\n",
    "    curr_round = 0\n",
    "    \n",
    "    # Liste des trajectoires pour un temps t et un D donnée\n",
    "    sim = OrderedDict()\n",
    "    \n",
    "\n",
    "\n",
    "\n",
    "    success = False \n",
    "    \n",
    "    catch_me_ind = 0\n",
    "    \n",
    "    while(True):\n",
    "        curr_round = curr_round + 1\n",
    "        \n",
    "        # Trajectoire cohérente complète trouvé : FIN DE SIMULATION\n",
    "        if (t_curr >= N) :\n",
    "            cprint (\"Total time : \" + str(total_execution_time) , \"grey\" , \"on_yellow\")\n",
    "            cprint (\"Success : \" + str(success) , \"grey\" , \"on_green\")\n",
    "            break;        \n",
    "        if (len(To_explore) == 0):\n",
    "            raise \n",
    "        # Il n'existe pas encore de trajectoire cohérente -> Nouveau round\n",
    "        cprint(\"--------------------------------------------  ROUND :  \" + str(curr_round) + \"   --------------------------------------------\\n\",\"red\")\n",
    "        \n",
    "        # Zones restantes à explorer\n",
    "        number_paths_To_explore = len(To_explore)\n",
    "        \n",
    "        # Nombre de tâches parallèles lançables\n",
    "        number_launchable_tasks = min(nodecount, number_paths_To_explore)\n",
    "        \n",
    "        # Affichage des paramètres\n",
    "        cprint (\"  || LAUNCHING || \\n\",\"green\")\n",
    "        print ( colored(\"TO EXPLORE : \" , \"blue\"), str(To_explore)) \n",
    "        \n",
    "        \"\"\" Paramètrage des machines \"\"\"\n",
    "        \n",
    "        # Soit j'ai plus de zone à explorer que de machines disponibles soit l'inverse\n",
    "        for q in range(number_launchable_tasks):\n",
    "            \n",
    "            # On récupère la première zone à explorer\n",
    "            parameters = To_explore.popleft()\n",
    "            \n",
    "            # MIN est le champ de gauche\n",
    "            MIN = parameters[0]\n",
    "            \n",
    "            # MAX de la zone à explorer vaut le min + la taille du slot\n",
    "            MAX = min (MIN + fragment_size, N)\n",
    "            \n",
    "            # D est le champ de droite\n",
    "            delay = parameters[1]\n",
    "            \n",
    "            # Paramètrage des machines\n",
    "            machines[q] = ParSimer(q, MIN, MAX, N, delay)\n",
    "            #print(\"Machine \" + str(q) + \" -> MIN :\" + str(MIN) + \" MAX : \" + str(MAX) + \" D : \"+ delay)   \n",
    "                \n",
    "        \"\"\" Simulation \"\"\"  \n",
    "        # Lancement de la simulation\n",
    "        for q in range(number_launchable_tasks):\n",
    "            machines[q].start()\n",
    "            \n",
    "        # Fin de simulation\n",
    "        for q in range(number_launchable_tasks) :\n",
    "            machines[q].join()\n",
    "            # Récupération des résultats\n",
    "            execo.action.Get(hosts=nodes[q],\n",
    "                     remote_files=['~/experiments_src/bcast_results.txt'\n",
    "                     ],\n",
    "                     local_location= path_rslt\n",
    "                     + date\n",
    "                     + '/' + get_host_shortname(nodes[q]) + '_'\n",
    "                     + date_precise + '.txt', connection_params={'user': 'root'\n",
    "                     }).run().ok    \n",
    "            \n",
    "        \"\"\" Analyse des résultats\"\"\"    \n",
    "        # Traitement des données\n",
    "        for q in range(number_launchable_tasks):\n",
    "            # On récupère les paramètres des machines\n",
    "            t = machines[q].get_MIN()\n",
    "            D = machines[q].get_delay()\n",
    "            \n",
    "            # Calcul du délai\n",
    "            # On récupère D et S\n",
    "            raw_data = delayer(q, NPROCS, date_precise,precision)\n",
    "            \n",
    "            # Filtre D : Calcul du délai\n",
    "            Dprime = format_cmd(raw_data[0])\n",
    "            \n",
    "            #Filte S : Calcul du temps d'éxécution total \n",
    "            T = raw_data[1]\n",
    "            \n",
    "            # Ajout dans ma table (Dprime, round, machine qui l'a calculé, temps)\n",
    "            sim.setdefault(t,{}).update({D:(Dprime,curr_round,q,T)})\n",
    "            MAX = min (t + fragment_size, N)\n",
    "        \n",
    "        # Affichage des paramètres\n",
    "        print ( colored (\"T_curr : \" , \"yellow\") , str(t_curr))\n",
    "        print ( colored (\"D_curr : \" , \"yellow\") , str(D_curr))\n",
    "        print ( colored (\"Dprime : \", \"yellow\") , str(Dprime))\n",
    "        print ( colored (\"total execution time : \", \"red\") , str(total_execution_time) + \"\\n\") \n",
    "        \n",
    "        merged_paths = 0\n",
    "        # Calcul de la trajectoire cohérente\n",
    "        while (t_curr < N and t_curr in sim and D_curr in sim[t_curr]):\n",
    "            merged_paths += 1\n",
    "            # Update le temps d'exécution\n",
    "            total_execution_time += sim[t_curr][D_curr][3]\n",
    "            \n",
    "            # Update du temps d'exécution dans le dernier fragment\n",
    "            if (t_curr + fragment_size >= N) : total_execution_time += max(unformat_cmd(sim[t_curr][D_curr][0]))\n",
    "            \n",
    "            # Update des t_curr et D_curr\n",
    "            D_curr = sim[t_curr][D_curr][0]\n",
    "            t_curr = min(t_curr + fragment_size, N)\n",
    "        if (merged_paths > 1) : \n",
    "            cprint(\"****** SUCCESS : \" + str(merged_paths), attrs=['reverse', 'bold'])\n",
    "            success = True \n",
    "        \n",
    "        # Affichage des résultats\n",
    "        cprint (\"\\n  || RESULTS || \\n\",\"red\")\n",
    "        print ( colored ( \"TO EXPLORE : \" , \"blue\"), str(To_explore)) \n",
    "        pretty (sim) \n",
    "        print ( colored (\"T_curr : \" , \"yellow\"), str(t_curr))\n",
    "        print ( colored (\"D_curr : \" , \"yellow\") , str(D_curr))\n",
    "        print ( colored (\"Dprime : \", \"yellow\") , str(Dprime))\n",
    "        print ( colored (\"total execution time : \", \"red\") , str(total_execution_time) + \"\\n\") \n",
    "        \n",
    "        \n",
    "        \"\"\" Nouveau paramètrages \"\"\"\n",
    "        cprint(\"  || ANALYSIS || \\n\",\"magenta\")\n",
    "        \n",
    "        for q in range(number_launchable_tasks):\n",
    "            t = machines[q].get_MIN()\n",
    "            D = machines[q].get_delay()\n",
    "            \n",
    "            MAX = min(t + fragment_size, N)\n",
    "            Dprime = sim[t][D][0]\n",
    "           \n",
    "            # Zone valide\n",
    "            if(MAX < N):\n",
    "                # Zone pas encore relié à la trajectoire initiale\n",
    "                if (MAX > t_curr):\n",
    "                    caught = False\n",
    "                # Ajout dans les zones à explorer du nouveau point de départ à exploiter en fonction du mode\n",
    "                    # Test catch me sur 2^catch_me_ind round\n",
    "                    if (catch_me and 1 << catch_me_ind == curr_round):\n",
    "                        catch_me_ind += 1\n",
    "                        try :\n",
    "                            caught = Dprime in sim[MAX]\n",
    "                        except KeyError:\n",
    "                            pass \n",
    "                       \n",
    "                    if (not catch_me or not caught):\n",
    "                        borders = unformat_cmd(Dprime)\n",
    "                        double_Dprime = [(2*(x+1)) for x in borders]\n",
    "                      \n",
    "                        # Bornes pour le random \n",
    "                        border_inf = 0\n",
    "                        border_sup = double_Dprime\n",
    "                        if (mode == \"RAND_SUP\") : \n",
    "                            border_sup = borders\n",
    "                            Dprime =  generate_Dprime(NPROCS, border_inf, border_sup,precision)\n",
    "                        elif (mode == \"RAND_INF\") : \n",
    "                            border_inf = borders\n",
    "                            Dprime = generate_Dprime(NPROCS, border_inf, border_sup,precision)\n",
    "                        elif (mode == \"RAND\") : \n",
    "                            Dprime =  generate_Dprime(NPROCS, border_inf, border_sup,precision)\n",
    "                        print(\"[\"+str(MAX) +\"] Generated \" + str(mode) + \" Dprime : \" + str(Dprime))\n",
    "                To_explore.appendleft((MAX, Dprime))\n",
    "        print(colored ( \"TO EXPLORE : \" , \"blue\") , str(To_explore) + \"\\n\")\n",
    "        "
   ]
  },
  {
   "cell_type": "code",
   "execution_count": 83,
   "metadata": {
    "scrolled": false
   },
   "outputs": [
    {
     "name": "stdout",
     "output_type": "stream",
     "text": [
      "\u001b[31m--------------------------------------------  ROUND :  1   --------------------------------------------\n",
      "\u001b[0m\n",
      "\u001b[32m  || LAUNCHING || \n",
      "\u001b[0m\n",
      "\u001b[34mTO EXPLORE : \u001b[0m deque([(0, '0 0 0 0 0'), (2500, '0 0 0 0 0'), (5000, '0 0 0 0 0'), (7500, '0 0 0 0 0')])\n",
      "\u001b[33mT_curr : \u001b[0m 0\n",
      "\u001b[33mD_curr : \u001b[0m 0 0 0 0 0\n",
      "\u001b[33mDprime : \u001b[0m 0.001 0.001 0.001 0.0 0.0\n",
      "\u001b[31mtotal execution time : \u001b[0m 0\n",
      "\n",
      "\u001b[31m\n",
      "  || RESULTS || \n",
      "\u001b[0m\n",
      "\u001b[34mTO EXPLORE : \u001b[0m deque([(7500, '0 0 0 0 0')])\n",
      "\u001b[35m0\u001b[0m\n",
      "\t\u001b[35m0 0 0 0 0\u001b[0m\n",
      "\t\t('0.001 0.001 0.001 0.0 0.0', 1, 0, 0.483)\n",
      "\u001b[35m2500\u001b[0m\n",
      "\t\u001b[35m0 0 0 0 0\u001b[0m\n",
      "\t\t('0.001 0.001 0.001 0.0 0.0', 1, 1, 0.483)\n",
      "\u001b[35m5000\u001b[0m\n",
      "\t\u001b[35m0 0 0 0 0\u001b[0m\n",
      "\t\t('0.001 0.001 0.001 0.0 0.0', 1, 2, 0.483)\n",
      "\u001b[33mT_curr : \u001b[0m 2500\n",
      "\u001b[33mD_curr : \u001b[0m 0.001 0.001 0.001 0.0 0.0\n",
      "\u001b[33mDprime : \u001b[0m 0.001 0.001 0.001 0.0 0.0\n",
      "\u001b[31mtotal execution time : \u001b[0m 0.483\n",
      "\n",
      "\u001b[35m  || ANALYSIS || \n",
      "\u001b[0m\n",
      "[5000] Generated RAND Dprime : 1.164 2.545 1.39 0.055 2.039\n",
      "[7500] Generated RAND Dprime : 2.755 1.103 2.274 1.839 0.654\n",
      "\u001b[34mTO EXPLORE : \u001b[0m deque([(7500, '2.755 1.103 2.274 1.839 0.654'), (5000, '1.164 2.545 1.39 0.055 2.039'), (2500, '0.001 0.001 0.001 0.0 0.0'), (7500, '0 0 0 0 0')])\n",
      "\n",
      "\u001b[31m--------------------------------------------  ROUND :  2   --------------------------------------------\n",
      "\u001b[0m\n",
      "\u001b[32m  || LAUNCHING || \n",
      "\u001b[0m\n",
      "\u001b[34mTO EXPLORE : \u001b[0m deque([(7500, '2.755 1.103 2.274 1.839 0.654'), (5000, '1.164 2.545 1.39 0.055 2.039'), (2500, '0.001 0.001 0.001 0.0 0.0'), (7500, '0 0 0 0 0')])\n",
      "\u001b[33mT_curr : \u001b[0m 2500\n",
      "\u001b[33mD_curr : \u001b[0m 0.001 0.001 0.001 0.0 0.0\n",
      "\u001b[33mDprime : \u001b[0m 0.001 0.001 0.001 0.0 0.0\n",
      "\u001b[31mtotal execution time : \u001b[0m 0.483\n",
      "\n",
      "\u001b[31m\n",
      "  || RESULTS || \n",
      "\u001b[0m\n",
      "\u001b[34mTO EXPLORE : \u001b[0m deque([(7500, '0 0 0 0 0')])\n",
      "\u001b[35m0\u001b[0m\n",
      "\t\u001b[35m0 0 0 0 0\u001b[0m\n",
      "\t\t('0.001 0.001 0.001 0.0 0.0', 1, 0, 0.483)\n",
      "\u001b[35m2500\u001b[0m\n",
      "\t\u001b[35m0 0 0 0 0\u001b[0m\n",
      "\t\t('0.001 0.001 0.001 0.0 0.0', 1, 1, 0.483)\n",
      "\t\u001b[35m0.001 0.001 0.001 0.0 0.0\u001b[0m\n",
      "\t\t('0.001 0.001 0.001 0.0 0.0', 2, 2, 1.483)\n",
      "\u001b[35m5000\u001b[0m\n",
      "\t\u001b[35m0 0 0 0 0\u001b[0m\n",
      "\t\t('0.001 0.001 0.001 0.0 0.0', 1, 2, 0.483)\n",
      "\t\u001b[35m1.164 2.545 1.39 0.055 2.039\u001b[0m\n",
      "\t\t('0.0 0.001 0.001 0.0 0.0', 2, 1, 3.483)\n",
      "\u001b[35m7500\u001b[0m\n",
      "\t\u001b[35m2.755 1.103 2.274 1.839 0.654\u001b[0m\n",
      "\t\t('0.001 0.001 0.001 0.0 0.0', 2, 0, 3.483)\n",
      "\u001b[33mT_curr : \u001b[0m 5000\n",
      "\u001b[33mD_curr : \u001b[0m 0.001 0.001 0.001 0.0 0.0\n",
      "\u001b[33mDprime : \u001b[0m 0.001 0.001 0.001 0.0 0.0\n",
      "\u001b[31mtotal execution time : \u001b[0m 1.9660000000000002\n",
      "\n",
      "\u001b[35m  || ANALYSIS || \n",
      "\u001b[0m\n",
      "[7500] Generated RAND Dprime : 2.732 0.19 0.421 1.051 0.19\n",
      "\u001b[34mTO EXPLORE : \u001b[0m deque([(5000, '0.001 0.001 0.001 0.0 0.0'), (7500, '2.732 0.19 0.421 1.051 0.19'), (7500, '0 0 0 0 0')])\n",
      "\n",
      "\u001b[31m--------------------------------------------  ROUND :  3   --------------------------------------------\n",
      "\u001b[0m\n",
      "\u001b[32m  || LAUNCHING || \n",
      "\u001b[0m\n",
      "\u001b[34mTO EXPLORE : \u001b[0m deque([(5000, '0.001 0.001 0.001 0.0 0.0'), (7500, '2.732 0.19 0.421 1.051 0.19'), (7500, '0 0 0 0 0')])\n",
      "\u001b[33mT_curr : \u001b[0m 5000\n",
      "\u001b[33mD_curr : \u001b[0m 0.001 0.001 0.001 0.0 0.0\n",
      "\u001b[33mDprime : \u001b[0m 0.001 0.001 0.001 0.0 0.0\n",
      "\u001b[31mtotal execution time : \u001b[0m 1.9660000000000002\n",
      "\n",
      "\u001b[31m\n",
      "  || RESULTS || \n",
      "\u001b[0m\n",
      "\u001b[34mTO EXPLORE : \u001b[0m deque([])\n",
      "\u001b[35m0\u001b[0m\n",
      "\t\u001b[35m0 0 0 0 0\u001b[0m\n",
      "\t\t('0.001 0.001 0.001 0.0 0.0', 1, 0, 0.483)\n",
      "\u001b[35m2500\u001b[0m\n",
      "\t\u001b[35m0 0 0 0 0\u001b[0m\n",
      "\t\t('0.001 0.001 0.001 0.0 0.0', 1, 1, 0.483)\n",
      "\t\u001b[35m0.001 0.001 0.001 0.0 0.0\u001b[0m\n",
      "\t\t('0.001 0.001 0.001 0.0 0.0', 2, 2, 1.483)\n",
      "\u001b[35m5000\u001b[0m\n",
      "\t\u001b[35m0 0 0 0 0\u001b[0m\n",
      "\t\t('0.001 0.001 0.001 0.0 0.0', 1, 2, 0.483)\n",
      "\t\u001b[35m1.164 2.545 1.39 0.055 2.039\u001b[0m\n",
      "\t\t('0.0 0.001 0.001 0.0 0.0', 2, 1, 3.483)\n",
      "\t\u001b[35m0.001 0.001 0.001 0.0 0.0\u001b[0m\n",
      "\t\t('0.001 0.001 0.001 0.0 0.0', 3, 0, 1.483)\n",
      "\u001b[35m7500\u001b[0m\n",
      "\t\u001b[35m2.755 1.103 2.274 1.839 0.654\u001b[0m\n",
      "\t\t('0.001 0.001 0.001 0.0 0.0', 2, 0, 3.483)\n",
      "\t\u001b[35m0 0 0 0 0\u001b[0m\n",
      "\t\t('0.001 0.001 0.001 0.0 0.0', 3, 2, 0.483)\n",
      "\t\u001b[35m2.732 0.19 0.421 1.051 0.19\u001b[0m\n",
      "\t\t('0.001 0.001 0.001 0.0 0.0', 3, 1, 3.483)\n",
      "\u001b[33mT_curr : \u001b[0m 7500\n",
      "\u001b[33mD_curr : \u001b[0m 0.001 0.001 0.001 0.0 0.0\n",
      "\u001b[33mDprime : \u001b[0m 0.001 0.001 0.001 0.0 0.0\n",
      "\u001b[31mtotal execution time : \u001b[0m 3.4490000000000003\n",
      "\n",
      "\u001b[35m  || ANALYSIS || \n",
      "\u001b[0m\n",
      "\u001b[34mTO EXPLORE : \u001b[0m deque([(7500, '0.001 0.001 0.001 0.0 0.0')])\n",
      "\n",
      "\u001b[31m--------------------------------------------  ROUND :  4   --------------------------------------------\n",
      "\u001b[0m\n",
      "\u001b[32m  || LAUNCHING || \n",
      "\u001b[0m\n",
      "\u001b[34mTO EXPLORE : \u001b[0m deque([(7500, '0.001 0.001 0.001 0.0 0.0')])\n",
      "\u001b[33mT_curr : \u001b[0m 7500\n",
      "\u001b[33mD_curr : \u001b[0m 0.001 0.001 0.001 0.0 0.0\n",
      "\u001b[33mDprime : \u001b[0m 0.001 0.001 0.001 0.0 0.0\n",
      "\u001b[31mtotal execution time : \u001b[0m 3.4490000000000003\n",
      "\n",
      "\u001b[31m\n",
      "  || RESULTS || \n",
      "\u001b[0m\n",
      "\u001b[34mTO EXPLORE : \u001b[0m deque([])\n",
      "\u001b[35m0\u001b[0m\n",
      "\t\u001b[35m0 0 0 0 0\u001b[0m\n",
      "\t\t('0.001 0.001 0.001 0.0 0.0', 1, 0, 0.483)\n",
      "\u001b[35m2500\u001b[0m\n",
      "\t\u001b[35m0 0 0 0 0\u001b[0m\n",
      "\t\t('0.001 0.001 0.001 0.0 0.0', 1, 1, 0.483)\n",
      "\t\u001b[35m0.001 0.001 0.001 0.0 0.0\u001b[0m\n",
      "\t\t('0.001 0.001 0.001 0.0 0.0', 2, 2, 1.483)\n",
      "\u001b[35m5000\u001b[0m\n",
      "\t\u001b[35m0 0 0 0 0\u001b[0m\n",
      "\t\t('0.001 0.001 0.001 0.0 0.0', 1, 2, 0.483)\n",
      "\t\u001b[35m1.164 2.545 1.39 0.055 2.039\u001b[0m\n",
      "\t\t('0.0 0.001 0.001 0.0 0.0', 2, 1, 3.483)\n",
      "\t\u001b[35m0.001 0.001 0.001 0.0 0.0\u001b[0m\n",
      "\t\t('0.001 0.001 0.001 0.0 0.0', 3, 0, 1.483)\n",
      "\u001b[35m7500\u001b[0m\n",
      "\t\u001b[35m2.755 1.103 2.274 1.839 0.654\u001b[0m\n",
      "\t\t('0.001 0.001 0.001 0.0 0.0', 2, 0, 3.483)\n",
      "\t\u001b[35m0 0 0 0 0\u001b[0m\n",
      "\t\t('0.001 0.001 0.001 0.0 0.0', 3, 2, 0.483)\n",
      "\t\u001b[35m0.001 0.001 0.001 0.0 0.0\u001b[0m\n",
      "\t\t('0.001 0.001 0.001 0.0 0.0', 4, 0, 1.483)\n",
      "\t\u001b[35m2.732 0.19 0.421 1.051 0.19\u001b[0m\n",
      "\t\t('0.001 0.001 0.001 0.0 0.0', 3, 1, 3.483)\n",
      "\u001b[33mT_curr : \u001b[0m 10000\n",
      "\u001b[33mD_curr : \u001b[0m 0.001 0.001 0.001 0.0 0.0\n",
      "\u001b[33mDprime : \u001b[0m 0.001 0.001 0.001 0.0 0.0\n",
      "\u001b[31mtotal execution time : \u001b[0m 4.933000000000001\n",
      "\n",
      "\u001b[35m  || ANALYSIS || \n",
      "\u001b[0m\n",
      "\u001b[34mTO EXPLORE : \u001b[0m deque([])\n",
      "\n",
      "\u001b[43m\u001b[30mTotal time : 4.933000000000001\u001b[0m\n",
      "\u001b[42m\u001b[30mSuccess : False\u001b[0m\n"
     ]
    }
   ],
   "source": [
    "# Nbr pcs\n",
    "NPROCS = 5\n",
    "    \n",
    "# Nbr itérations\n",
    "N = 10000\n",
    "\n",
    "# taille paquet d'itérations\n",
    "fragment_size = 2500\n",
    "    \n",
    "# precision\n",
    "precision = 3\n",
    "\n",
    "# mode de génération de l'état initial à chaque round\n",
    "mode_opt = [\"FIX\",\"RAND\",\"RAND_INF\",\"RAND_SUP\"]\n",
    "mode = mode_opt[1]\n",
    "\n",
    "catch_me = False\n",
    "\n",
    "# Lancement de la simulation\n",
    "simulation(N,NPROCS,fragment_size,precision,mode,catch_me)"
   ]
  },
  {
   "cell_type": "markdown",
   "metadata": {},
   "source": [
    "#### Publication des résultats"
   ]
  },
  {
   "cell_type": "code",
   "execution_count": null,
   "metadata": {},
   "outputs": [],
   "source": [
    "%%bash -s $experiment_name $site\n",
    "git add .\n",
    "git commit -m 'Automatic results update : '\"$1\"'---'\"$2\"\" Float\""
   ]
  },
  {
   "cell_type": "markdown",
   "metadata": {},
   "source": [
    "#### Fin d'expérience : suppression du job"
   ]
  },
  {
   "cell_type": "code",
   "execution_count": null,
   "metadata": {},
   "outputs": [],
   "source": [
    "oardel(jobid)"
   ]
  }
 ],
 "metadata": {
  "kernelspec": {
   "display_name": "Python 3",
   "language": "python",
   "name": "python3"
  },
  "language_info": {
   "codemirror_mode": {
    "name": "ipython",
    "version": 3
   },
   "file_extension": ".py",
   "mimetype": "text/x-python",
   "name": "python",
   "nbconvert_exporter": "python",
   "pygments_lexer": "ipython3",
   "version": "3.5.3"
  }
 },
 "nbformat": 4,
 "nbformat_minor": 2
}
