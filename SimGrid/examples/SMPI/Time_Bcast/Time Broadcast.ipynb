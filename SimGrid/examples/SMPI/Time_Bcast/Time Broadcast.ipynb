{
 "cells": [
  {
   "cell_type": "markdown",
   "metadata": {},
   "source": [
    "# Broadcast"
   ]
  },
  {
   "cell_type": "markdown",
   "metadata": {},
   "source": [
    "### But : Faire un broadcast, départ décalé \n"
   ]
  },
  {
   "cell_type": "markdown",
   "metadata": {},
   "source": [
    "#### Informations générales"
   ]
  },
  {
   "cell_type": "code",
   "execution_count": 1,
   "metadata": {},
   "outputs": [],
   "source": [
    "experiment_name = \"Time_Bcast\""
   ]
  },
  {
   "cell_type": "code",
   "execution_count": 2,
   "metadata": {},
   "outputs": [
    {
     "name": "stdout",
     "output_type": "stream",
     "text": [
      "commit 8c4809674eb7197f2589a99e3def6282ca769f40\n",
      "Merge: d9c55a6 359473e\n",
      "Author: Martin Router Queen <jaiunpetitcerveau@gmail.com>\n",
      "Date:   Thu May 31 15:39:25 2018 +0200\n",
      "\n",
      "    Merge branch 'master' of github.com:hoobaeboo/Stage-POLARIS\n"
     ]
    },
    {
     "name": "stderr",
     "output_type": "stream",
     "text": [
      "Python 2.7.13\n"
     ]
    }
   ],
   "source": [
    "%%bash -s\n",
    "git log -n 1\n",
    "python --version"
   ]
  },
  {
   "cell_type": "markdown",
   "metadata": {},
   "source": [
    "#### Préparation de l'environnement"
   ]
  },
  {
   "cell_type": "code",
   "execution_count": 3,
   "metadata": {},
   "outputs": [
    {
     "name": "stdout",
     "output_type": "stream",
     "text": [
      "Collecting execo\n",
      "Installing collected packages: execo\n",
      "Successfully installed execo-2.6.3\n",
      "Collecting requests\n",
      "  Using cached https://files.pythonhosted.org/packages/49/df/50aa1999ab9bde74656c2919d9c0c085fd2b3775fd3eca826012bef76d8c/requests-2.18.4-py2.py3-none-any.whl\n",
      "Collecting idna<2.7,>=2.5 (from requests)\n",
      "  Using cached https://files.pythonhosted.org/packages/27/cc/6dd9a3869f15c2edfab863b992838277279ce92663d334df9ecf5106f5c6/idna-2.6-py2.py3-none-any.whl\n",
      "Collecting certifi>=2017.4.17 (from requests)\n",
      "  Using cached https://files.pythonhosted.org/packages/7c/e6/92ad559b7192d846975fc916b65f667c7b8c3a32bea7372340bfe9a15fa5/certifi-2018.4.16-py2.py3-none-any.whl\n",
      "Collecting chardet<3.1.0,>=3.0.2 (from requests)\n",
      "  Using cached https://files.pythonhosted.org/packages/bc/a9/01ffebfb562e4274b6487b4bb1ddec7ca55ec7510b22e4c51f14098443b8/chardet-3.0.4-py2.py3-none-any.whl\n",
      "Collecting urllib3<1.23,>=1.21.1 (from requests)\n",
      "  Using cached https://files.pythonhosted.org/packages/63/cb/6965947c13a94236f6d4b8223e21beb4d576dc72e8130bd7880f600839b8/urllib3-1.22-py2.py3-none-any.whl\n",
      "Installing collected packages: idna, certifi, chardet, urllib3, requests\n",
      "Successfully installed certifi-2018.4.16 chardet-3.0.4 idna-2.6 requests-2.18.4 urllib3-1.22\n"
     ]
    }
   ],
   "source": [
    "%%bash -s\n",
    "pip3 install --user execo\n",
    "pip3 install --user requests"
   ]
  },
  {
   "cell_type": "code",
   "execution_count": 4,
   "metadata": {},
   "outputs": [],
   "source": [
    "import execo\n",
    "from execo import *\n",
    "from execo_g5k import *\n",
    "from execo_engine import *\n",
    "import os\n",
    "import sys\n",
    "import json\n",
    "import time\n",
    "import datetime\n",
    "import re\n",
    "from shutil import copy\n",
    "from subprocess import check_output\n",
    "import random\n",
    "from threading import Thread"
   ]
  },
  {
   "cell_type": "markdown",
   "metadata": {},
   "source": [
    "##### Réservation noeuds"
   ]
  },
  {
   "cell_type": "code",
   "execution_count": 5,
   "metadata": {},
   "outputs": [],
   "source": [
    "# Nom du job\n",
    "jobname = ' '\n",
    "# Nombre de noeuds\n",
    "nodecount = 4\n",
    "# Temps réservation\n",
    "walltime = \"3:0:0\" \n",
    "\n",
    "# filters out Nantes's econome cluster\n",
    "resources_selection = \"-p \\\"cluster in ('ecotype','parasilo','grisou')\\\"\" \n",
    "\n",
    "# Nancy\n",
    "site = \"rennes\""
   ]
  },
  {
   "cell_type": "code",
   "execution_count": 69,
   "metadata": {},
   "outputs": [
    {
     "name": "stdout",
     "output_type": "stream",
     "text": [
      "New job submitted, jobid is 1014900\n"
     ]
    }
   ],
   "source": [
    "jobs = get_current_oar_jobs()\n",
    "jobid = None\n",
    "waiting_jobs = []\n",
    "while jobs:\n",
    "    j, site = jobs.pop()\n",
    "    info = get_oar_job_info(j, site)\n",
    "    if info['name'] == jobname:\n",
    "        if info['state'] == 'Running':\n",
    "            jobid = j\n",
    "            print(\"A {} job is already running, using it. jobid is {}\".format(jobname, jobid))\n",
    "            break\n",
    "        else:\n",
    "            waiting_jobs.append(j)\n",
    "if not jobid and not waiting_jobs:\n",
    "    jobspec = OarSubmission(resources=\"/cluster=1/nodes={}\".format(nodecount), walltime=walltime,\n",
    "                            additional_options=resources_selection, job_type=\"deploy\", name=jobname)\n",
    "    jobid, _ = oarsub([(jobspec, site)]).pop()\n",
    "    print(\"New job submitted, jobid is {}\".format(jobid))\n",
    "elif not jobid:\n",
    "    print(\"One or more {} jobs exist ({}) but are not running.\\n\"\n",
    "          \" Connect to the frontend to see what is happening, and/or run the cell again.\".format(\n",
    "          jobname, \", \".join([str(j) for j in waiting_jobs])))"
   ]
  },
  {
   "cell_type": "markdown",
   "metadata": {},
   "source": [
    "On les range"
   ]
  },
  {
   "cell_type": "code",
   "execution_count": 70,
   "metadata": {},
   "outputs": [
    {
     "data": {
      "text/plain": [
       "[Host('parasilo-5.rennes.grid5000.fr'),\n",
       " Host('parasilo-6.rennes.grid5000.fr'),\n",
       " Host('parasilo-7.rennes.grid5000.fr'),\n",
       " Host('parasilo-8.rennes.grid5000.fr')]"
      ]
     },
     "execution_count": 70,
     "metadata": {},
     "output_type": "execute_result"
    }
   ],
   "source": [
    "nodes = get_oar_job_nodes(jobid)\n",
    "nodes.sort(key=lambda n: n.address)\n",
    "nodes"
   ]
  },
  {
   "cell_type": "markdown",
   "metadata": {},
   "source": [
    "##### Déploiement de l'environnement"
   ]
  },
  {
   "cell_type": "code",
   "execution_count": 71,
   "metadata": {},
   "outputs": [],
   "source": [
    "force_redeploy = False # set to True to force redeploying the OS on the nodes in the deployment section\n",
    "environment_dsc_file = 'src/debian9-x64-bigdata-tutorial.yaml' # filename of the kadeploy environment file (YAML)"
   ]
  },
  {
   "cell_type": "code",
   "execution_count": 72,
   "metadata": {
    "scrolled": true
   },
   "outputs": [
    {
     "name": "stdout",
     "output_type": "stream",
     "text": [
      "rennes: Deployment #D-474dbfd5-0b01-452a-9e5b-8b45dcba2cdd started\n",
      "rennes: Grab the key file /home/nezzine/.ssh/authorized_keys\n",
      "rennes: Grab the tarball file http://public.nancy.grid5000.fr/~pneyron/debian9-x64-bigdata-tutorial.tar.gz\n",
      "rennes: Grab the postinstall file server:///grid5000/postinstalls/g5k-postinstall.tgz\n",
      "rennes: Launching a deployment on parasilo-[5-8].rennes.grid5000.fr\n",
      "rennes: Performing a Deploy[SetDeploymentEnvUntrusted] step\n",
      "rennes:   switch_pxe\n",
      "rennes:   reboot\n",
      "rennes:    * Performing a soft reboot on parasilo-[5-8].rennes.grid5000.fr\n",
      "rennes:   wait_reboot\n",
      "rennes:   send_key_in_deploy_env\n",
      "rennes:   create_partition_table\n",
      "rennes:   format_deploy_part\n",
      "rennes:   mount_deploy_part\n",
      "rennes:   format_tmp_part\n",
      "rennes:   format_swap_part\n",
      "rennes: End of step Deploy[SetDeploymentEnvUntrusted] after 205s\n",
      "rennes: Performing a Deploy[BroadcastEnvKascade] step\n",
      "rennes:   send_environment\n",
      "rennes:    * Broadcast time: 70s\n",
      "rennes:   manage_admin_post_install\n",
      "rennes:   manage_user_post_install\n",
      "rennes:   check_kernel_files\n",
      "rennes:   send_key\n",
      "rennes:   install_bootloader\n",
      "rennes:   sync\n",
      "rennes: End of step Deploy[BroadcastEnvKascade] after 132s\n",
      "rennes: Performing a Deploy[BootNewEnvKexec] step\n",
      "rennes:   switch_pxe\n",
      "rennes:   umount_deploy_part\n",
      "rennes:   mount_deploy_part\n",
      "rennes:   kexec\n",
      "rennes:   wait_reboot\n",
      "rennes: End of step Deploy[BootNewEnvKexec] after 78s\n",
      "rennes: End of deployment for parasilo-[5-8].rennes.grid5000.fr after 415s\n",
      "rennes: End of deployment on cluster parasilo after 416s\n",
      "rennes: Deployment #D-474dbfd5-0b01-452a-9e5b-8b45dcba2cdd done\n",
      "rennes: \n",
      "rennes: The deployment is successful on nodes\n",
      "rennes: parasilo-5.rennes.grid5000.fr\n",
      "rennes: parasilo-6.rennes.grid5000.fr\n",
      "rennes: parasilo-7.rennes.grid5000.fr\n",
      "rennes: parasilo-8.rennes.grid5000.fr\n"
     ]
    },
    {
     "name": "stderr",
     "output_type": "stream",
     "text": [
      "rennes: Warning: Permanently added 'rennes.grid5000.fr,172.16.111.106' (ECDSA) to the list of known hosts.\r\n",
      "rennes: Connection to rennes.grid5000.fr closed.\r\n"
     ]
    }
   ],
   "source": [
    "deployment = Deployment(hosts=nodes, env_file = os.path.abspath(environment_dsc_file),\n",
    "                        other_options=\"-r ext4 --no-debug-mode\")\n",
    "\n",
    "deploy_ok, deploy_failed = deploy(deployment, check_deployed_command=not force_redeploy,\n",
    "                              stdout_handlers=[sys.stdout],\n",
    "                              stderr_handlers=[sys.stderr])"
   ]
  },
  {
   "cell_type": "markdown",
   "metadata": {},
   "source": [
    "#### Test : commande simple 'ls'"
   ]
  },
  {
   "cell_type": "code",
   "execution_count": null,
   "metadata": {},
   "outputs": [],
   "source": [
    "# execo.action.Remote(cmd,hosts,connection_params,process_args)\n",
    "Remote_test = execo.action.Remote(cmd='ls',hosts=nodes,connection_params=None, process_args=None)\n",
    "Remote_test.run().ok"
   ]
  },
  {
   "cell_type": "markdown",
   "metadata": {},
   "source": [
    "#### Installation environnement sur noeud"
   ]
  },
  {
   "cell_type": "code",
   "execution_count": 73,
   "metadata": {},
   "outputs": [],
   "source": [
    "Remote_install = execo.action.Remote(cmd='apt-get install g++ libboost-all-dev && wget http://gforge.inria.fr/frs/download.php/latestfile/8/SimGrid-3.18.tar.gz && tar -xvf SimGrid-3.18.tar.gz && cd SimGrid-3.18 && cmake -DCMAKE_INSTALL_PREFIX=/usr/local -Denable_smpi=on -Denable_documentation=off && make -j && make check && make install -j',hosts=nodes,connection_params={'user':'root'})"
   ]
  },
  {
   "cell_type": "code",
   "execution_count": 74,
   "metadata": {},
   "outputs": [
    {
     "data": {
      "text/plain": [
       "True"
      ]
     },
     "execution_count": 74,
     "metadata": {},
     "output_type": "execute_result"
    }
   ],
   "source": [
    "Remote_install.run().ok"
   ]
  },
  {
   "cell_type": "markdown",
   "metadata": {},
   "source": [
    "#### Version Simgrid"
   ]
  },
  {
   "cell_type": "code",
   "execution_count": 21,
   "metadata": {},
   "outputs": [
    {
     "data": {
      "text/plain": [
       "'SimGrid version 3.18  SimGrid version 3.18  SimGrid version 3.18  SimGrid version 3.18  '"
      ]
     },
     "execution_count": 21,
     "metadata": {},
     "output_type": "execute_result"
    }
   ],
   "source": [
    "execo.action.Remote(cmd='touch smpi_version.txt && smpicc --version > smpi_version.txt'\n",
    "                    , hosts=nodes, connection_params={'user': 'root'\n",
    "                    }).run()\n",
    "version = ''\n",
    "for i in range(0, nodecount):\n",
    "    execo.action.Get(hosts=nodes[i], remote_files=['~/smpi_version.txt'\n",
    "                     ], local_location='./smpicc_version-'\n",
    "                     + get_host_shortname(nodes[i]) + '.txt',\n",
    "                     connection_params={'user': 'root'}).run()\n",
    "    version = version + execo.Process(cmd='head -n 1 ./smpicc_version-'\n",
    "            + get_host_shortname(nodes[i]) + '.txt'\n",
    "            ).run().stdout.replace('\\n', '  ')\n",
    "    execo.Process(cmd='rm ./smpicc_version-'\n",
    "                  + get_host_shortname(nodes[i]) + '.txt').run()\n",
    "version\n"
   ]
  },
  {
   "cell_type": "code",
   "execution_count": 75,
   "metadata": {},
   "outputs": [],
   "source": [
    "path_base = \"~/Stage-POLARIS/SimGrid/examples/SMPI/\"+experiment_name\n",
    "path_src = path_base + '/src/'\n",
    "path_rslt = path_base + '/results/'"
   ]
  },
  {
   "cell_type": "markdown",
   "metadata": {},
   "source": [
    "#### Récupération fichiers sources"
   ]
  },
  {
   "cell_type": "code",
   "execution_count": null,
   "metadata": {},
   "outputs": [],
   "source": [
    "Src_get = execo.action.Remote(cmd='mkdir -p experiments_src',hosts=nodes,connection_params={'user':'root'})\n",
    "Src_get.run().ok"
   ]
  },
  {
   "cell_type": "code",
   "execution_count": null,
   "metadata": {},
   "outputs": [],
   "source": [
    "Remote_smpi_env = execo.action.Put(hosts=nodes,local_files=[path_src+\"griffon.xml\",path_src+\"griffon_hostfile.txt\",path_src+\"broadcast.c\",path_src+\"Makefile\"],remote_location='~/experiments_src',connection_params={'user':'root'})\n",
    "Remote_smpi_env.run().ok"
   ]
  },
  {
   "cell_type": "markdown",
   "metadata": {},
   "source": [
    "#### Execution de l'expérience"
   ]
  },
  {
   "cell_type": "code",
   "execution_count": null,
   "metadata": {},
   "outputs": [],
   "source": [
    "Remote_smpi = execo.action.Remote(cmd ='cd ~/experiments_src && make && make run NPROCS=2 MIN=0 MAX=10 N=2 DELAY=\\\"0 0\\\"',hosts=nodes,connection_params={'user':'root'})\n",
    "Remote_smpi.run().ok"
   ]
  },
  {
   "cell_type": "markdown",
   "metadata": {},
   "source": [
    "#### Récupération des résultats"
   ]
  },
  {
   "cell_type": "code",
   "execution_count": null,
   "metadata": {},
   "outputs": [],
   "source": [
    "Result_get = \\\n",
    "    execo.Process(cmd='mkdir -p /home/nezzine/Stage-POLARIS/SimGrid/examples/SMPI/'\n",
    "                   + experiment_name + '/results/'\n",
    "                  + datetime.datetime.now().strftime('%Y-%m-%d'))\n",
    "Result_get.run().ok"
   ]
  },
  {
   "cell_type": "code",
   "execution_count": null,
   "metadata": {
    "scrolled": true
   },
   "outputs": [],
   "source": [
    "for i in range(0, nodecount):\n",
    "    execo.action.Get(hosts = nodes[i],\n",
    "                     remote_files=['~/experiments_src/bcast_results.txt'\n",
    "                     ],\n",
    "                     local_location = path_rslt\n",
    "                     + datetime.datetime.now().strftime('%Y-%m-%d')\n",
    "                     + '/' + get_host_shortname(nodes[i]) + '_'\n",
    "                     + datetime.datetime.now().strftime('%Y-%m-%d_%H:%M'\n",
    "                     ) + '.txt', connection_params={'user': 'root'\n",
    "                     }).run().ok"
   ]
  },
  {
   "cell_type": "markdown",
   "metadata": {},
   "source": [
    "#### Delayer"
   ]
  },
  {
   "cell_type": "code",
   "execution_count": 76,
   "metadata": {},
   "outputs": [],
   "source": [
    "# Parsing the results\n",
    "def parser(num_node,date_precise):\n",
    "    with open('/home/nezzine/Stage-POLARIS/SimGrid/examples/SMPI/Time_Bcast/results/'\n",
    "               + date_precise.split('_')[0] + '/'\n",
    "              + get_host_shortname(nodes[num_node]) + '_'\n",
    "              + date_precise\n",
    "              + '.txt') as f:\n",
    "        return f.readlines()"
   ]
  },
  {
   "cell_type": "code",
   "execution_count": 77,
   "metadata": {},
   "outputs": [],
   "source": [
    "# Converting and organizing data\n",
    "def tab_conv(l,NPROCS) :\n",
    "    S = init_tab(NPROCS, None)\n",
    "        \n",
    "    # Taking useful data    \n",
    "    for i in range(0,NPROCS) :\n",
    "        S[int(l[i].split()[1])] = int(float(l[i].split()[5]))\n",
    "    return S"
   ]
  },
  {
   "cell_type": "code",
   "execution_count": 78,
   "metadata": {},
   "outputs": [],
   "source": [
    "def delayer(num_node,NPROCS,date):\n",
    "    D = init_tab(NPROCS,0)\n",
    "    \n",
    "    raw_data = parser(num_node,date)\n",
    "    \n",
    "    S = tab_conv(raw_data,NPROCS)\n",
    "    \n",
    "    for p in range(0, NPROCS):\n",
    "        D[p] = S[p] - min(S)\n",
    "    return D"
   ]
  },
  {
   "cell_type": "code",
   "execution_count": 55,
   "metadata": {},
   "outputs": [
    {
     "data": {
      "text/plain": [
       "[9, 4, 4, 4, 8, 0, 6, 2, 7, 7]"
      ]
     },
     "execution_count": 55,
     "metadata": {},
     "output_type": "execute_result"
    }
   ],
   "source": [
    "# Example\n",
    "delayer(0,10,'2018-06-04_12:38')"
   ]
  },
  {
   "cell_type": "code",
   "execution_count": 79,
   "metadata": {},
   "outputs": [],
   "source": [
    "def init_tab(num, elt) :\n",
    "    D = [elt] * num\n",
    "    return D"
   ]
  },
  {
   "cell_type": "markdown",
   "metadata": {},
   "source": [
    "##### Shortcut"
   ]
  },
  {
   "cell_type": "code",
   "execution_count": 17,
   "metadata": {},
   "outputs": [
    {
     "name": "stdout",
     "output_type": "stream",
     "text": [
      "2018-06-04 11:09:39,347 \u001b[36mWARNING:\u001b[m terminated: <SshProcess('mkdir -p experiments_src', Host('parasilo-3.rennes.grid5000.fr'), connection_params={'user': 'root'}, name=mkdir -p experiments_src, started=True, start_date=2018-06-04 11:09:39+02:00, ended=True, end_date=2018-06-04 11:09:39+02:00, killed=False, error=False, error_reason=None, timeouted=False, expect_fail=False, write_error=False, exit_code=65280, ok=False, pid=17327, real cmd=('ssh', '-tt', '-o', 'BatchMode=yes', '-o', 'PasswordAuthentication=no', '-o', 'StrictHostKeyChecking=no', '-o', 'UserKnownHostsFile=/dev/null', '-o', 'ConnectTimeout=20', '-o', 'User=root', 'parasilo-3.rennes.grid5000.fr', 'mkdir -p experiments_src'))>\n",
      "stdout:\n",
      "\n",
      "stderr:\n",
      "Warning: Permanently added 'parasilo-3.rennes.grid5000.fr,172.16.97.3' (RSA) to the list of known hosts.\n",
      "Permission denied (publickey,password).\n",
      "\n",
      "2018-06-04 11:09:39,355 \u001b[36mWARNING:\u001b[m terminated: <SshProcess('mkdir -p experiments_src', Host('parasilo-28.rennes.grid5000.fr'), connection_params={'user': 'root'}, name=mkdir -p experiments_src, started=True, start_date=2018-06-04 11:09:39+02:00, ended=True, end_date=2018-06-04 11:09:39+02:00, killed=False, error=False, error_reason=None, timeouted=False, expect_fail=False, write_error=False, exit_code=65280, ok=False, pid=17326, real cmd=('ssh', '-tt', '-o', 'BatchMode=yes', '-o', 'PasswordAuthentication=no', '-o', 'StrictHostKeyChecking=no', '-o', 'UserKnownHostsFile=/dev/null', '-o', 'ConnectTimeout=20', '-o', 'User=root', 'parasilo-28.rennes.grid5000.fr', 'mkdir -p experiments_src'))>\n",
      "stdout:\n",
      "\n",
      "stderr:\n",
      "Warning: Permanently added 'parasilo-28.rennes.grid5000.fr,172.16.97.28' (RSA) to the list of known hosts.\n",
      "Permission denied (publickey,password).\n",
      "\n",
      "2018-06-04 11:09:39,417 \u001b[36mWARNING:\u001b[m terminated: <SshProcess('mkdir -p experiments_src', Host('parasilo-4.rennes.grid5000.fr'), connection_params={'user': 'root'}, name=mkdir -p experiments_src, started=True, start_date=2018-06-04 11:09:39+02:00, ended=True, end_date=2018-06-04 11:09:39+02:00, killed=False, error=False, error_reason=None, timeouted=False, expect_fail=False, write_error=False, exit_code=65280, ok=False, pid=17329, real cmd=('ssh', '-tt', '-o', 'BatchMode=yes', '-o', 'PasswordAuthentication=no', '-o', 'StrictHostKeyChecking=no', '-o', 'UserKnownHostsFile=/dev/null', '-o', 'ConnectTimeout=20', '-o', 'User=root', 'parasilo-4.rennes.grid5000.fr', 'mkdir -p experiments_src'))>\n",
      "stdout:\n",
      "\n",
      "stderr:\n",
      "Warning: Permanently added 'parasilo-4.rennes.grid5000.fr,172.16.97.4' (RSA) to the list of known hosts.\n",
      "Permission denied (publickey,password).\n",
      "\n",
      "2018-06-04 11:09:39,494 \u001b[36mWARNING:\u001b[m terminated: <SshProcess('mkdir -p experiments_src', Host('parasilo-5.rennes.grid5000.fr'), connection_params={'user': 'root'}, name=mkdir -p experiments_src, started=True, start_date=2018-06-04 11:09:39+02:00, ended=True, end_date=2018-06-04 11:09:39+02:00, killed=False, error=False, error_reason=None, timeouted=False, expect_fail=False, write_error=False, exit_code=65280, ok=False, pid=17349, real cmd=('ssh', '-tt', '-o', 'BatchMode=yes', '-o', 'PasswordAuthentication=no', '-o', 'StrictHostKeyChecking=no', '-o', 'UserKnownHostsFile=/dev/null', '-o', 'ConnectTimeout=20', '-o', 'User=root', 'parasilo-5.rennes.grid5000.fr', 'mkdir -p experiments_src'))>\n",
      "stdout:\n",
      "\n",
      "stderr:\n",
      "Warning: Permanently added 'parasilo-5.rennes.grid5000.fr,172.16.97.5' (RSA) to the list of known hosts.\n",
      "Permission denied (publickey,password).\n",
      "\n",
      "2018-06-04 11:09:39,709 \u001b[36mWARNING:\u001b[m terminated: <Process('scp -o BatchMode=yes -o PasswordAuthentication=no -o StrictHostKeyChecking=no -o UserKnownHostsFile=/dev/null -o ConnectTimeout=20 -rp -o User=root ~/Stage-POLARIS/SimGrid/examples/SMPI/Time_Bcast/src/griffon.xml ~/Stage-POLARIS/SimGrid/examples/SMPI/Time_Bcast/src/griffon_hostfile.txt ~/Stage-POLARIS/SimGrid/examples/SMPI/Time_Bcast/src/broadcast.c ~/Stage-POLARIS/SimGrid/examples/SMPI/Time_Bcast/src/Makefile parasilo-28.rennes.grid5000.fr:~/experiments_src', shell=True, name=scp -o BatchMode=yes -o PasswordAuth..., started=True, start_date=2018-06-04 11:09:39+02:00, ended=True, end_date=2018-06-04 11:09:39+02:00, killed=False, error=False, error_reason=None, timeouted=False, expect_fail=False, write_error=False, exit_code=256, ok=False, pid=17350)>\n",
      "stdout:\n",
      "\n",
      "stderr:\n",
      "Warning: Permanently added 'parasilo-28.rennes.grid5000.fr,172.16.97.28' (RSA) to the list of known hosts.\n",
      "Permission denied (publickey,password).\n",
      "lost connection\n",
      "\n",
      "2018-06-04 11:09:39,732 \u001b[36mWARNING:\u001b[m terminated: <Process('scp -o BatchMode=yes -o PasswordAuthentication=no -o StrictHostKeyChecking=no -o UserKnownHostsFile=/dev/null -o ConnectTimeout=20 -rp -o User=root ~/Stage-POLARIS/SimGrid/examples/SMPI/Time_Bcast/src/griffon.xml ~/Stage-POLARIS/SimGrid/examples/SMPI/Time_Bcast/src/griffon_hostfile.txt ~/Stage-POLARIS/SimGrid/examples/SMPI/Time_Bcast/src/broadcast.c ~/Stage-POLARIS/SimGrid/examples/SMPI/Time_Bcast/src/Makefile parasilo-3.rennes.grid5000.fr:~/experiments_src', shell=True, name=scp -o BatchMode=yes -o PasswordAuth..., started=True, start_date=2018-06-04 11:09:39+02:00, ended=True, end_date=2018-06-04 11:09:39+02:00, killed=False, error=False, error_reason=None, timeouted=False, expect_fail=False, write_error=False, exit_code=256, ok=False, pid=17352)>\n",
      "stdout:\n",
      "\n",
      "stderr:\n",
      "Warning: Permanently added 'parasilo-3.rennes.grid5000.fr,172.16.97.3' (RSA) to the list of known hosts.\n",
      "Permission denied (publickey,password).\n",
      "lost connection\n",
      "\n",
      "2018-06-04 11:09:39,782 \u001b[36mWARNING:\u001b[m terminated: <Process('scp -o BatchMode=yes -o PasswordAuthentication=no -o StrictHostKeyChecking=no -o UserKnownHostsFile=/dev/null -o ConnectTimeout=20 -rp -o User=root ~/Stage-POLARIS/SimGrid/examples/SMPI/Time_Bcast/src/griffon.xml ~/Stage-POLARIS/SimGrid/examples/SMPI/Time_Bcast/src/griffon_hostfile.txt ~/Stage-POLARIS/SimGrid/examples/SMPI/Time_Bcast/src/broadcast.c ~/Stage-POLARIS/SimGrid/examples/SMPI/Time_Bcast/src/Makefile parasilo-4.rennes.grid5000.fr:~/experiments_src', shell=True, name=scp -o BatchMode=yes -o PasswordAuth..., started=True, start_date=2018-06-04 11:09:39+02:00, ended=True, end_date=2018-06-04 11:09:39+02:00, killed=False, error=False, error_reason=None, timeouted=False, expect_fail=False, write_error=False, exit_code=256, ok=False, pid=17354)>\n",
      "stdout:\n",
      "\n",
      "stderr:\n",
      "Warning: Permanently added 'parasilo-4.rennes.grid5000.fr,172.16.97.4' (RSA) to the list of known hosts.\n",
      "Permission denied (publickey,password).\n",
      "lost connection\n",
      "\n",
      "2018-06-04 11:09:39,834 \u001b[36mWARNING:\u001b[m terminated: <Process('scp -o BatchMode=yes -o PasswordAuthentication=no -o StrictHostKeyChecking=no -o UserKnownHostsFile=/dev/null -o ConnectTimeout=20 -rp -o User=root ~/Stage-POLARIS/SimGrid/examples/SMPI/Time_Bcast/src/griffon.xml ~/Stage-POLARIS/SimGrid/examples/SMPI/Time_Bcast/src/griffon_hostfile.txt ~/Stage-POLARIS/SimGrid/examples/SMPI/Time_Bcast/src/broadcast.c ~/Stage-POLARIS/SimGrid/examples/SMPI/Time_Bcast/src/Makefile parasilo-5.rennes.grid5000.fr:~/experiments_src', shell=True, name=scp -o BatchMode=yes -o PasswordAuth..., started=True, start_date=2018-06-04 11:09:39+02:00, ended=True, end_date=2018-06-04 11:09:39+02:00, killed=False, error=False, error_reason=None, timeouted=False, expect_fail=False, write_error=False, exit_code=256, ok=False, pid=17356)>\n",
      "stdout:\n",
      "\n",
      "stderr:\n",
      "Warning: Permanently added 'parasilo-5.rennes.grid5000.fr,172.16.97.5' (RSA) to the list of known hosts.\n",
      "Permission denied (publickey,password).\n",
      "lost connection\n",
      "\n",
      "2018-06-04_11:09\n",
      "parasilo-28 => 0 NPROCS = 10 MIN = 0 MAX = 25 N = 100 DELAY = '0 0 0 0 0 0 0 0 0 0'\n",
      "2018-06-04 11:09:40,126 \u001b[36mWARNING:\u001b[m terminated: <SshProcess(\"cd ~/experiments_src && make && make run NPROCS=10 MIN=0 MAX=25 N=100 DELAY='0 0 0 0 0 0 0 0 0 0'\", Host('parasilo-28.rennes.grid5000.fr'), connection_params={'user': 'root'}, name=cd ~/experiments_src && make && make..., started=True, start_date=2018-06-04 11:09:39+02:00, ended=True, end_date=2018-06-04 11:09:40+02:00, killed=False, error=False, error_reason=None, timeouted=False, expect_fail=False, write_error=False, exit_code=65280, ok=False, pid=17359, real cmd=('ssh', '-tt', '-o', 'BatchMode=yes', '-o', 'PasswordAuthentication=no', '-o', 'StrictHostKeyChecking=no', '-o', 'UserKnownHostsFile=/dev/null', '-o', 'ConnectTimeout=20', '-o', 'User=root', 'parasilo-28.rennes.grid5000.fr', \"cd ~/experiments_src && make && make run NPROCS=10 MIN=0 MAX=25 N=100 DELAY='0 0 0 0 0 0 0 0 0 0'\"))>\n",
      "stdout:\n",
      "\n",
      "stderr:\n",
      "Warning: Permanently added 'parasilo-28.rennes.grid5000.fr,172.16.97.28' (RSA) to the list of known hosts.\n",
      "Permission denied (publickey,password).\n",
      "\n"
     ]
    },
    {
     "name": "stdout",
     "output_type": "stream",
     "text": [
      "False\n",
      "2018-06-04 11:09:40,404 \u001b[36mWARNING:\u001b[m terminated: <Process('scp -o BatchMode=yes -o PasswordAuthentication=no -o StrictHostKeyChecking=no -o UserKnownHostsFile=/dev/null -o ConnectTimeout=20 -rp -o User=root parasilo-28.rennes.grid5000.fr:~/experiments_src/bcast_results.txt ~/Stage-POLARIS/SimGrid/examples/SMPI/Time_Bcast/results/2018-06-04/parasilo-28_2018-06-04_11:09.txt', shell=True, name=scp -o BatchMode=yes -o PasswordAuth..., started=True, start_date=2018-06-04 11:09:40+02:00, ended=True, end_date=2018-06-04 11:09:40+02:00, killed=False, error=False, error_reason=None, timeouted=False, expect_fail=False, write_error=False, exit_code=256, ok=False, pid=17360)>\n",
      "stdout:\n",
      "\n",
      "stderr:\n",
      "Warning: Permanently added 'parasilo-28.rennes.grid5000.fr,172.16.97.28' (RSA) to the list of known hosts.\n",
      "Permission denied (publickey,password).\n",
      "\n"
     ]
    },
    {
     "ename": "FileNotFoundError",
     "evalue": "[Errno 2] No such file or directory: '/home/nezzine/Stage-POLARIS/SimGrid/examples/SMPI/Time_Bcast/results/2018-06-04/parasilo-28_2018-06-04_11:09.txt'",
     "output_type": "error",
     "traceback": [
      "\u001b[0;31m---------------------------------------------------------------------------\u001b[0m",
      "\u001b[0;31mFileNotFoundError\u001b[0m                         Traceback (most recent call last)",
      "\u001b[0;32m<ipython-input-17-374993392633>\u001b[0m in \u001b[0;36m<module>\u001b[0;34m()\u001b[0m\n\u001b[1;32m     61\u001b[0m \u001b[0;31m# Remote_smpi.run().ok\u001b[0m\u001b[0;34m\u001b[0m\u001b[0;34m\u001b[0m\u001b[0m\n\u001b[1;32m     62\u001b[0m \u001b[0;34m\u001b[0m\u001b[0m\n\u001b[0;32m---> 63\u001b[0;31m \u001b[0mparl_exec\u001b[0m\u001b[0;34m(\u001b[0m\u001b[0;34m)\u001b[0m\u001b[0;34m\u001b[0m\u001b[0m\n\u001b[0m\u001b[1;32m     64\u001b[0m \u001b[0;34m\u001b[0m\u001b[0m\n\u001b[1;32m     65\u001b[0m \u001b[0;32mfor\u001b[0m \u001b[0mi\u001b[0m \u001b[0;32min\u001b[0m \u001b[0mrange\u001b[0m\u001b[0;34m(\u001b[0m\u001b[0;36m0\u001b[0m\u001b[0;34m,\u001b[0m \u001b[0mnodecount\u001b[0m\u001b[0;34m)\u001b[0m\u001b[0;34m:\u001b[0m\u001b[0;34m\u001b[0m\u001b[0m\n",
      "\u001b[0;32m<ipython-input-17-374993392633>\u001b[0m in \u001b[0;36mparl_exec\u001b[0;34m()\u001b[0m\n\u001b[1;32m     49\u001b[0m                      + date_precise + '.txt', connection_params={'user': 'root'\n\u001b[1;32m     50\u001b[0m                      }).run().ok\n\u001b[0;32m---> 51\u001b[0;31m         \u001b[0mprint\u001b[0m\u001b[0;34m(\u001b[0m\u001b[0mdelayer\u001b[0m\u001b[0;34m(\u001b[0m\u001b[0mi\u001b[0m\u001b[0;34m,\u001b[0m\u001b[0mNPROCS\u001b[0m\u001b[0;34m,\u001b[0m\u001b[0mdate_precise\u001b[0m\u001b[0;34m)\u001b[0m\u001b[0;34m)\u001b[0m\u001b[0;34m\u001b[0m\u001b[0m\n\u001b[0m\u001b[1;32m     52\u001b[0m     \u001b[0;32mreturn\u001b[0m\u001b[0;34m;\u001b[0m\u001b[0;34m\u001b[0m\u001b[0m\n\u001b[1;32m     53\u001b[0m \u001b[0;34m\u001b[0m\u001b[0m\n",
      "\u001b[0;32m<ipython-input-15-2434d7dba9f7>\u001b[0m in \u001b[0;36mdelayer\u001b[0;34m(num_node, NPROCS, date)\u001b[0m\n\u001b[1;32m      2\u001b[0m     \u001b[0mD\u001b[0m \u001b[0;34m=\u001b[0m \u001b[0minit_tab\u001b[0m\u001b[0;34m(\u001b[0m\u001b[0mNPROCS\u001b[0m\u001b[0;34m,\u001b[0m\u001b[0;36m0\u001b[0m\u001b[0;34m)\u001b[0m\u001b[0;34m\u001b[0m\u001b[0m\n\u001b[1;32m      3\u001b[0m \u001b[0;34m\u001b[0m\u001b[0m\n\u001b[0;32m----> 4\u001b[0;31m     \u001b[0mraw_data\u001b[0m \u001b[0;34m=\u001b[0m \u001b[0mparser\u001b[0m\u001b[0;34m(\u001b[0m\u001b[0mnum_node\u001b[0m\u001b[0;34m,\u001b[0m\u001b[0mdate\u001b[0m\u001b[0;34m)\u001b[0m\u001b[0;34m\u001b[0m\u001b[0m\n\u001b[0m\u001b[1;32m      5\u001b[0m \u001b[0;34m\u001b[0m\u001b[0m\n\u001b[1;32m      6\u001b[0m     \u001b[0mS\u001b[0m \u001b[0;34m=\u001b[0m \u001b[0mtab_conv\u001b[0m\u001b[0;34m(\u001b[0m\u001b[0mraw_data\u001b[0m\u001b[0;34m,\u001b[0m\u001b[0mNPROCS\u001b[0m\u001b[0;34m)\u001b[0m\u001b[0;34m\u001b[0m\u001b[0m\n",
      "\u001b[0;32m<ipython-input-13-99b22b4490ea>\u001b[0m in \u001b[0;36mparser\u001b[0;34m(num_node, date_precise)\u001b[0m\n\u001b[1;32m      5\u001b[0m               \u001b[0;34m+\u001b[0m \u001b[0mget_host_shortname\u001b[0m\u001b[0;34m(\u001b[0m\u001b[0mnodes\u001b[0m\u001b[0;34m[\u001b[0m\u001b[0mnum_node\u001b[0m\u001b[0;34m]\u001b[0m\u001b[0;34m)\u001b[0m \u001b[0;34m+\u001b[0m \u001b[0;34m'_'\u001b[0m\u001b[0;34m\u001b[0m\u001b[0m\n\u001b[1;32m      6\u001b[0m               \u001b[0;34m+\u001b[0m \u001b[0mdate_precise\u001b[0m\u001b[0;34m\u001b[0m\u001b[0m\n\u001b[0;32m----> 7\u001b[0;31m               + '.txt') as f:\n\u001b[0m\u001b[1;32m      8\u001b[0m         \u001b[0;32mreturn\u001b[0m \u001b[0mf\u001b[0m\u001b[0;34m.\u001b[0m\u001b[0mreadlines\u001b[0m\u001b[0;34m(\u001b[0m\u001b[0;34m)\u001b[0m\u001b[0;34m\u001b[0m\u001b[0m\n",
      "\u001b[0;31mFileNotFoundError\u001b[0m: [Errno 2] No such file or directory: '/home/nezzine/Stage-POLARIS/SimGrid/examples/SMPI/Time_Bcast/results/2018-06-04/parasilo-28_2018-06-04_11:09.txt'"
     ]
    }
   ],
   "source": [
    "Src_get = execo.action.Remote(cmd='mkdir -p experiments_src',\n",
    "                              hosts=nodes,\n",
    "                              connection_params={'user': 'root'})\n",
    "Remote_smpi_env = execo.action.Put(hosts=nodes, local_files=[path_src\n",
    "                                   + 'griffon.xml', path_src\n",
    "                                   + 'griffon_hostfile.txt', path_src\n",
    "                                   + 'broadcast.c', path_src + 'Makefile'],\n",
    "                                   remote_location='~/experiments_src',\n",
    "                                   connection_params={'user': 'root'})\n",
    "Result_get = \\\n",
    "    execo.Process(cmd='mkdir -p /home/nezzine/Stage-POLARIS/SimGrid/examples/SMPI/'\n",
    "                   + experiment_name + '/results/'\n",
    "                  + datetime.datetime.now().strftime('%Y-%m-%d'))\n",
    "def parl_exec () :\n",
    "    Result_get.run().ok\n",
    "    # Nbr pcs\n",
    "    NPROCS = 10\n",
    "    \n",
    "    # Nbr itérations\n",
    "    N = 100\n",
    "    \n",
    "    D = init_tab(NPROCS,0)\n",
    "    delay = ' '.join(str(e) for e in D)\n",
    "    date = datetime.datetime.now().strftime('%Y-%m-%d');\n",
    "    date_precise = datetime.datetime.now().strftime('%Y-%m-%d_%H:%M')\n",
    "    print(date_precise)\n",
    "    \n",
    "    # TODO //\n",
    "    for i in range (0,nodecount) :\n",
    "        MIN = (int)((i*N)/len(nodes))\n",
    "        MAX = (int)(((i+1)*N)/len(nodes))\n",
    "        print(get_host_shortname(nodes[i])+\" => \"+str(i)+\" NPROCS = \"+str(NPROCS)\n",
    "             +\" MIN = \"+str(MIN)\n",
    "             +\" MAX = \"+str(MAX)\n",
    "             +\" N = \"+str(N)\n",
    "             +\" DELAY = '\"+ delay +\"'\"\n",
    "            )\n",
    "        bool = execo.action.Remote(cmd ='cd ~/experiments_src && make && make run NPROCS='\n",
    "                                  +str(NPROCS)+' MIN='+str(MIN) \n",
    "                                  +' MAX='+str(MAX)+' N='+str(N)\n",
    "                                  +\" DELAY='\"+delay\n",
    "                                  +\"'\",hosts=nodes[i],connection_params={'user':'root'}).run().ok\n",
    "        print(bool)\n",
    "        execo.action.Get(hosts=nodes[i],\n",
    "                     remote_files=['~/experiments_src/bcast_results.txt'\n",
    "                     ],\n",
    "                     local_location= path_rslt\n",
    "                     + date\n",
    "                     + '/' + get_host_shortname(nodes[i]) + '_'\n",
    "                     + date_precise + '.txt', connection_params={'user': 'root'\n",
    "                     }).run().ok\n",
    "        print(delayer(i,NPROCS,date_precise))\n",
    "    return;\n",
    "\n",
    "# Remote_smpi = execo.action.Remote(cmd ='cd ~/experiments_src && make && make run NPROCS=2 MIN=0 MAX=10',hosts=nodes,connection_params={'user':'root'})\n",
    "\n",
    "\n",
    "\n",
    "Src_get.run().ok\n",
    "Remote_smpi_env.run().ok\n",
    "\n",
    "# Remote_smpi.run().ok\n",
    "\n",
    "parl_exec()\n",
    "\n",
    "for i in range(0, nodecount):\n",
    "    execo.action.Get(hosts=nodes[i],\n",
    "                     remote_files=['~/experiments_src/bcast_results.txt'\n",
    "                     ],\n",
    "                     local_location=path_rslt\n",
    "                     + datetime.datetime.now().strftime('%Y-%m-%d')\n",
    "                     + '/' + get_host_shortname(nodes[i]) + '_'\n",
    "                     + datetime.datetime.now().strftime('%Y-%m-%d_%H:%M'\n",
    "                     ) + '.txt', connection_params={'user': 'root'\n",
    "                     }).run().ok"
   ]
  },
  {
   "cell_type": "markdown",
   "metadata": {},
   "source": [
    "#### //"
   ]
  },
  {
   "cell_type": "code",
   "execution_count": 107,
   "metadata": {},
   "outputs": [
    {
     "data": {
      "text/plain": [
       "True"
      ]
     },
     "execution_count": 107,
     "metadata": {},
     "output_type": "execute_result"
    }
   ],
   "source": [
    "Src_get = execo.action.Remote(cmd='mkdir -p experiments_src',\n",
    "                              hosts=nodes,\n",
    "                              connection_params={'user': 'root'})\n",
    "Remote_smpi_env = execo.action.Put(hosts=nodes, local_files=[path_src\n",
    "                                   + 'griffon.xml', path_src\n",
    "                                   + 'griffon_hostfile.txt', path_src\n",
    "                                   + 'broadcast.c', path_src + 'Makefile'],\n",
    "                                   remote_location='~/experiments_src',\n",
    "                                   connection_params={'user': 'root'})\n",
    "Result_get = \\\n",
    "    execo.Process(cmd='mkdir -p /home/nezzine/Stage-POLARIS/SimGrid/examples/SMPI/'\n",
    "                   + experiment_name + '/results/'\n",
    "                  + datetime.datetime.now().strftime('%Y-%m-%d'))\n",
    "\n",
    "# On récup les src\n",
    "Src_get.run().ok\n",
    "Remote_smpi_env.run().ok\n"
   ]
  },
  {
   "cell_type": "code",
   "execution_count": 108,
   "metadata": {},
   "outputs": [],
   "source": [
    "class ParSimer(Thread):\n",
    "\n",
    "    \"\"\"Thread chargé simplement d'afficher une lettre dans la console.\"\"\"\n",
    "\n",
    "    def __init__(self,i,MIN,MAX,N,DELAY):\n",
    "        Thread.__init__(self)\n",
    "        self.MIN = MIN\n",
    "        self.MAX = MAX\n",
    "        self.N = N\n",
    "        self.DELAY = DELAY\n",
    "        self.i = i\n",
    "        \n",
    "    def set_delay(self,delay):\n",
    "        self.DELAY = delay\n",
    "    \n",
    "    def get_delay(self):\n",
    "        return self.DELAY\n",
    "    \n",
    "    def run(self):\n",
    "        \"\"\"Code à exécuter pendant l'exécution du thread.\"\"\"\n",
    "        print(get_host_shortname(nodes[self.i])+\" => \"+str(self.i)+\" NPROCS = \"+str(NPROCS)\n",
    "             +\" MIN = \"+str(self.MIN)\n",
    "             +\" MAX = \"+str(self.MAX)\n",
    "             +\" N = \"+str(self.N)\n",
    "             +\" DELAY = '\"+ self.DELAY +\"'\\n\"\n",
    "            )\n",
    "        bool = execo.action.Remote(cmd ='cd ~/experiments_src && make && make run NPROCS='\n",
    "                                  +str(NPROCS)+' MIN='+str(self.MIN) \n",
    "                                  +' MAX='+str(self.MAX)+' N='+str(self.N)\n",
    "                                  +\" DELAY='\"+self.DELAY\n",
    "                                  +\"'\",hosts=nodes[self.i],connection_params={'user':'root'}).run().ok\n"
   ]
  },
  {
   "cell_type": "code",
   "execution_count": 109,
   "metadata": {},
   "outputs": [],
   "source": [
    "# Test trajectoire raccrochée à la trajectoire initiale\n",
    "def coherence(tab):\n",
    "     return any(x == True for x in tab)"
   ]
  },
  {
   "cell_type": "code",
   "execution_count": 110,
   "metadata": {},
   "outputs": [],
   "source": [
    "# SIMULATION\n",
    "## Simulation simple en diminuant le nbr de machines \n",
    "def simulation(N,NPROCS):\n",
    "    # Tableau de threads\n",
    "    machines = init_tab(nodecount,None)\n",
    "    \n",
    "    # D initial\n",
    "    D = init_tab(NPROCS,0)\n",
    "    delay = ' '.join(str(e) for e in D)\n",
    "    \n",
    "    # Dates\n",
    "    date = datetime.datetime.now().strftime('%Y-%m-%d');\n",
    "    date_precise = datetime.datetime.now().strftime('%Y-%m-%d_%H:%M')\n",
    "\n",
    "    # Test interprocessus\n",
    "    join = init_tab(nodecount-1,None)\n",
    "    \n",
    "    Result_get.run().ok\n",
    "    \n",
    "    for j in range(0,nodecount) :\n",
    "        print(\"Round \"+str(j) +\"\\n\")\n",
    "        # Paramètrage des machines\n",
    "        for i in range (0,nodecount) :           \n",
    "            MIN = (int)((i*N)/nodecount)\n",
    "            MAX = (int)(((i+1)*N)/nodecount)\n",
    "            machines[i] = ParSimer(i,MIN,MAX,N,delay)\n",
    "            # Vérification cohérence & calcul des new D.\n",
    "            if (i != 0 and j!=0 ):\n",
    "                S = delayer(i-1,NPROCS,date_precise)\n",
    "                join[i-1] = all(x1 == x2 for x1, x2 in zip(S, machines[i].get_delay()))\n",
    "                machines[i].set_delay(' '.join(str(e) for e in S))  \n",
    "            # Affichage de cohérence    \n",
    "            if(i == nodecount-1):\n",
    "                print(str(join)+\"\\n\")\n",
    "            if(coherence(join)):\n",
    "                break;\n",
    "                          \n",
    "        # Lancement de la simulation\n",
    "        for i in range(j,nodecount):\n",
    "            machines[i].start()\n",
    "        # Fin de simulation\n",
    "        for i in range(j,nodecount) :\n",
    "            machines[i].join()\n",
    "            # Récupération des résultats\n",
    "            execo.action.Get(hosts=nodes[i],\n",
    "                     remote_files=['~/experiments_src/bcast_results.txt'\n",
    "                     ],\n",
    "                     local_location= path_rslt\n",
    "                     + date\n",
    "                     + '/' + get_host_shortname(nodes[i]) + '_'\n",
    "                     + date_precise + '.txt', connection_params={'user': 'root'\n",
    "                     }).run().ok  "
   ]
  },
  {
   "cell_type": "code",
   "execution_count": 111,
   "metadata": {},
   "outputs": [
    {
     "name": "stdout",
     "output_type": "stream",
     "text": [
      "Round 0\n",
      "\n",
      "[None, None, None]\n",
      "\n",
      "parasilo-5 => 0 NPROCS = 10 MIN = 0 MAX = 25 N = 100 DELAY = '0 0 0 0 0 0 0 0 0 0'\n",
      "\n",
      "parasilo-6 => 1 NPROCS = 10 MIN = 25 MAX = 50 N = 100 DELAY = '0 0 0 0 0 0 0 0 0 0'\n",
      "\n",
      "parasilo-7 => 2 NPROCS = 10 MIN = 50 MAX = 75 N = 100 DELAY = '0 0 0 0 0 0 0 0 0 0'\n",
      "\n",
      "parasilo-8 => 3 NPROCS = 10 MIN = 75 MAX = 100 N = 100 DELAY = '0 0 0 0 0 0 0 0 0 0'\n",
      "\n",
      "Round 1\n",
      "\n",
      "[False, False, False]\n",
      "\n",
      "parasilo-6 => 1 NPROCS = 10 MIN = 25 MAX = 50 N = 100 DELAY = '4 5 4 4 7 10 7 1 7 0'\n",
      "\n",
      "parasilo-7 => 2 NPROCS = 10 MIN = 50 MAX = 75 N = 100 DELAY = '2 6 6 3 7 0 1 0 2 1'\n",
      "\n",
      "parasilo-8 => 3 NPROCS = 10 MIN = 75 MAX = 100 N = 100 DELAY = '7 3 3 7 0 6 7 9 2 5'\n",
      "\n",
      "Round 2\n",
      "\n",
      "[False, False, False]\n",
      "\n",
      "parasilo-7 => 2 NPROCS = 10 MIN = 50 MAX = 75 N = 100 DELAY = '4000 5003 4002 4002 6999 10006 7006 998 7000 0'\n",
      "\n",
      "parasilo-8 => 3 NPROCS = 10 MIN = 75 MAX = 100 N = 100 DELAY = '2004 7008 6003 3003 7003 0 1002 2 3006 1005'\n",
      "\n",
      "Round 3\n",
      "\n",
      "[False, False, False]\n",
      "\n",
      "parasilo-8 => 3 NPROCS = 10 MIN = 75 MAX = 100 N = 100 DELAY = '4000999 5003000 4001999 4001993 6998999 10006003 7006000 998000 6999996 0'\n",
      "\n"
     ]
    },
    {
     "ename": "KeyboardInterrupt",
     "evalue": "",
     "output_type": "error",
     "traceback": [
      "\u001b[0;31m---------------------------------------------------------------------------\u001b[0m",
      "\u001b[0;31mKeyboardInterrupt\u001b[0m                         Traceback (most recent call last)",
      "\u001b[0;32m<ipython-input-111-495f30ad9b68>\u001b[0m in \u001b[0;36m<module>\u001b[0;34m()\u001b[0m\n\u001b[1;32m      5\u001b[0m \u001b[0mN\u001b[0m \u001b[0;34m=\u001b[0m \u001b[0;36m100\u001b[0m\u001b[0;34m\u001b[0m\u001b[0m\n\u001b[1;32m      6\u001b[0m \u001b[0;34m\u001b[0m\u001b[0m\n\u001b[0;32m----> 7\u001b[0;31m \u001b[0msimulation\u001b[0m\u001b[0;34m(\u001b[0m\u001b[0mN\u001b[0m\u001b[0;34m,\u001b[0m\u001b[0mNPROCS\u001b[0m\u001b[0;34m)\u001b[0m\u001b[0;34m\u001b[0m\u001b[0m\n\u001b[0m",
      "\u001b[0;32m<ipython-input-110-3385e6af99f9>\u001b[0m in \u001b[0;36msimulation\u001b[0;34m(N, NPROCS)\u001b[0m\n\u001b[1;32m     41\u001b[0m         \u001b[0;31m# Fin de simulation\u001b[0m\u001b[0;34m\u001b[0m\u001b[0;34m\u001b[0m\u001b[0m\n\u001b[1;32m     42\u001b[0m         \u001b[0;32mfor\u001b[0m \u001b[0mi\u001b[0m \u001b[0;32min\u001b[0m \u001b[0mrange\u001b[0m\u001b[0;34m(\u001b[0m\u001b[0mj\u001b[0m\u001b[0;34m,\u001b[0m\u001b[0mnodecount\u001b[0m\u001b[0;34m)\u001b[0m \u001b[0;34m:\u001b[0m\u001b[0;34m\u001b[0m\u001b[0m\n\u001b[0;32m---> 43\u001b[0;31m             \u001b[0mmachines\u001b[0m\u001b[0;34m[\u001b[0m\u001b[0mi\u001b[0m\u001b[0;34m]\u001b[0m\u001b[0;34m.\u001b[0m\u001b[0mjoin\u001b[0m\u001b[0;34m(\u001b[0m\u001b[0;34m)\u001b[0m\u001b[0;34m\u001b[0m\u001b[0m\n\u001b[0m\u001b[1;32m     44\u001b[0m             \u001b[0;31m# Récupération des résultats\u001b[0m\u001b[0;34m\u001b[0m\u001b[0;34m\u001b[0m\u001b[0m\n\u001b[1;32m     45\u001b[0m             execo.action.Get(hosts=nodes[i],\n",
      "\u001b[0;32m/usr/lib/python3.5/threading.py\u001b[0m in \u001b[0;36mjoin\u001b[0;34m(self, timeout)\u001b[0m\n\u001b[1;32m   1052\u001b[0m \u001b[0;34m\u001b[0m\u001b[0m\n\u001b[1;32m   1053\u001b[0m         \u001b[0;32mif\u001b[0m \u001b[0mtimeout\u001b[0m \u001b[0;32mis\u001b[0m \u001b[0;32mNone\u001b[0m\u001b[0;34m:\u001b[0m\u001b[0;34m\u001b[0m\u001b[0m\n\u001b[0;32m-> 1054\u001b[0;31m             \u001b[0mself\u001b[0m\u001b[0;34m.\u001b[0m\u001b[0m_wait_for_tstate_lock\u001b[0m\u001b[0;34m(\u001b[0m\u001b[0;34m)\u001b[0m\u001b[0;34m\u001b[0m\u001b[0m\n\u001b[0m\u001b[1;32m   1055\u001b[0m         \u001b[0;32melse\u001b[0m\u001b[0;34m:\u001b[0m\u001b[0;34m\u001b[0m\u001b[0m\n\u001b[1;32m   1056\u001b[0m             \u001b[0;31m# the behavior of a negative timeout isn't documented, but\u001b[0m\u001b[0;34m\u001b[0m\u001b[0;34m\u001b[0m\u001b[0m\n",
      "\u001b[0;32m/usr/lib/python3.5/threading.py\u001b[0m in \u001b[0;36m_wait_for_tstate_lock\u001b[0;34m(self, block, timeout)\u001b[0m\n\u001b[1;32m   1068\u001b[0m         \u001b[0;32mif\u001b[0m \u001b[0mlock\u001b[0m \u001b[0;32mis\u001b[0m \u001b[0;32mNone\u001b[0m\u001b[0;34m:\u001b[0m  \u001b[0;31m# already determined that the C code is done\u001b[0m\u001b[0;34m\u001b[0m\u001b[0m\n\u001b[1;32m   1069\u001b[0m             \u001b[0;32massert\u001b[0m \u001b[0mself\u001b[0m\u001b[0;34m.\u001b[0m\u001b[0m_is_stopped\u001b[0m\u001b[0;34m\u001b[0m\u001b[0m\n\u001b[0;32m-> 1070\u001b[0;31m         \u001b[0;32melif\u001b[0m \u001b[0mlock\u001b[0m\u001b[0;34m.\u001b[0m\u001b[0macquire\u001b[0m\u001b[0;34m(\u001b[0m\u001b[0mblock\u001b[0m\u001b[0;34m,\u001b[0m \u001b[0mtimeout\u001b[0m\u001b[0;34m)\u001b[0m\u001b[0;34m:\u001b[0m\u001b[0;34m\u001b[0m\u001b[0m\n\u001b[0m\u001b[1;32m   1071\u001b[0m             \u001b[0mlock\u001b[0m\u001b[0;34m.\u001b[0m\u001b[0mrelease\u001b[0m\u001b[0;34m(\u001b[0m\u001b[0;34m)\u001b[0m\u001b[0;34m\u001b[0m\u001b[0m\n\u001b[1;32m   1072\u001b[0m             \u001b[0mself\u001b[0m\u001b[0;34m.\u001b[0m\u001b[0m_stop\u001b[0m\u001b[0;34m(\u001b[0m\u001b[0;34m)\u001b[0m\u001b[0;34m\u001b[0m\u001b[0m\n",
      "\u001b[0;31mKeyboardInterrupt\u001b[0m: "
     ]
    }
   ],
   "source": [
    "# Nbr pcs\n",
    "NPROCS = 10\n",
    "    \n",
    "# Nbr itérations\n",
    "N = 100\n",
    "\n",
    "simulation(N,NPROCS)"
   ]
  },
  {
   "cell_type": "markdown",
   "metadata": {},
   "source": [
    "#### Publication des résultats"
   ]
  },
  {
   "cell_type": "code",
   "execution_count": 112,
   "metadata": {},
   "outputs": [
    {
     "name": "stdout",
     "output_type": "stream",
     "text": [
      "[master 477c2d8] Automatic results update : Time_Bcast---rennes Format\n",
      " Committer: Najwa Ez Zine <nezzine@frennes>\n",
      "Your name and email address were configured automatically based\n",
      "on your username and hostname. Please check that they are accurate.\n",
      "You can suppress this message by setting them explicitly. Run the\n",
      "following command and follow the instructions in your editor to edit\n",
      "your configuration file:\n",
      "\n",
      "    git config --global --edit\n",
      "\n",
      "After doing this, you may fix the identity used for this commit with:\n",
      "\n",
      "    git commit --amend --reset-author\n",
      "\n",
      " 33 files changed, 531 insertions(+), 221 deletions(-)\n",
      " create mode 100644 SimGrid/examples/SMPI/Time_Bcast/results/2018-06-04/parasilo-5_2018-06-04_15:28.txt\n",
      " create mode 100644 SimGrid/examples/SMPI/Time_Bcast/results/2018-06-04/parasilo-5_2018-06-04_15:32.txt\n",
      " create mode 100644 SimGrid/examples/SMPI/Time_Bcast/results/2018-06-04/parasilo-5_2018-06-04_15:41.txt\n",
      " create mode 100644 SimGrid/examples/SMPI/Time_Bcast/results/2018-06-04/parasilo-5_2018-06-04_15:46.txt\n",
      " create mode 100644 SimGrid/examples/SMPI/Time_Bcast/results/2018-06-04/parasilo-5_2018-06-04_15:47.txt\n",
      " create mode 100644 SimGrid/examples/SMPI/Time_Bcast/results/2018-06-04/parasilo-5_2018-06-04_15:49.txt\n",
      " create mode 100644 SimGrid/examples/SMPI/Time_Bcast/results/2018-06-04/parasilo-5_2018-06-04_15:51.txt\n",
      " create mode 100644 SimGrid/examples/SMPI/Time_Bcast/results/2018-06-04/parasilo-5_2018-06-04_15:56.txt\n",
      " create mode 100644 SimGrid/examples/SMPI/Time_Bcast/results/2018-06-04/parasilo-6_2018-06-04_15:28.txt\n",
      " create mode 100644 SimGrid/examples/SMPI/Time_Bcast/results/2018-06-04/parasilo-6_2018-06-04_15:32.txt\n",
      " create mode 100644 SimGrid/examples/SMPI/Time_Bcast/results/2018-06-04/parasilo-6_2018-06-04_15:41.txt\n",
      " create mode 100644 SimGrid/examples/SMPI/Time_Bcast/results/2018-06-04/parasilo-6_2018-06-04_15:46.txt\n",
      " create mode 100644 SimGrid/examples/SMPI/Time_Bcast/results/2018-06-04/parasilo-6_2018-06-04_15:47.txt\n",
      " create mode 100644 SimGrid/examples/SMPI/Time_Bcast/results/2018-06-04/parasilo-6_2018-06-04_15:49.txt\n",
      " create mode 100644 SimGrid/examples/SMPI/Time_Bcast/results/2018-06-04/parasilo-6_2018-06-04_15:51.txt\n",
      " create mode 100644 SimGrid/examples/SMPI/Time_Bcast/results/2018-06-04/parasilo-6_2018-06-04_15:56.txt\n",
      " create mode 100644 SimGrid/examples/SMPI/Time_Bcast/results/2018-06-04/parasilo-7_2018-06-04_15:28.txt\n",
      " create mode 100644 SimGrid/examples/SMPI/Time_Bcast/results/2018-06-04/parasilo-7_2018-06-04_15:32.txt\n",
      " create mode 100644 SimGrid/examples/SMPI/Time_Bcast/results/2018-06-04/parasilo-7_2018-06-04_15:41.txt\n",
      " create mode 100644 SimGrid/examples/SMPI/Time_Bcast/results/2018-06-04/parasilo-7_2018-06-04_15:46.txt\n",
      " create mode 100644 SimGrid/examples/SMPI/Time_Bcast/results/2018-06-04/parasilo-7_2018-06-04_15:47.txt\n",
      " create mode 100644 SimGrid/examples/SMPI/Time_Bcast/results/2018-06-04/parasilo-7_2018-06-04_15:49.txt\n",
      " create mode 100644 SimGrid/examples/SMPI/Time_Bcast/results/2018-06-04/parasilo-7_2018-06-04_15:51.txt\n",
      " create mode 100644 SimGrid/examples/SMPI/Time_Bcast/results/2018-06-04/parasilo-7_2018-06-04_15:56.txt\n",
      " create mode 100644 SimGrid/examples/SMPI/Time_Bcast/results/2018-06-04/parasilo-8_2018-06-04_15:28.txt\n",
      " create mode 100644 SimGrid/examples/SMPI/Time_Bcast/results/2018-06-04/parasilo-8_2018-06-04_15:32.txt\n",
      " create mode 100644 SimGrid/examples/SMPI/Time_Bcast/results/2018-06-04/parasilo-8_2018-06-04_15:41.txt\n",
      " create mode 100644 SimGrid/examples/SMPI/Time_Bcast/results/2018-06-04/parasilo-8_2018-06-04_15:46.txt\n",
      " create mode 100644 SimGrid/examples/SMPI/Time_Bcast/results/2018-06-04/parasilo-8_2018-06-04_15:47.txt\n",
      " create mode 100644 SimGrid/examples/SMPI/Time_Bcast/results/2018-06-04/parasilo-8_2018-06-04_15:49.txt\n",
      " create mode 100644 SimGrid/examples/SMPI/Time_Bcast/results/2018-06-04/parasilo-8_2018-06-04_15:51.txt\n",
      " create mode 100644 SimGrid/examples/SMPI/Time_Bcast/results/2018-06-04/parasilo-8_2018-06-04_15:56.txt\n"
     ]
    }
   ],
   "source": [
    "%%bash -s $experiment_name $site\n",
    "git add .\n",
    "git commit -m 'Automatic results update : '\"$1\"'---'\"$2\"' Format'"
   ]
  },
  {
   "cell_type": "markdown",
   "metadata": {},
   "source": [
    "#### Fin d'expérience : suppression du job"
   ]
  },
  {
   "cell_type": "code",
   "execution_count": 10,
   "metadata": {},
   "outputs": [
    {
     "ename": "TypeError",
     "evalue": "'int' object is not iterable",
     "output_type": "error",
     "traceback": [
      "\u001b[0;31m---------------------------------------------------------------------------\u001b[0m",
      "\u001b[0;31mTypeError\u001b[0m                                 Traceback (most recent call last)",
      "\u001b[0;32m<ipython-input-10-4958d4a52834>\u001b[0m in \u001b[0;36m<module>\u001b[0;34m()\u001b[0m\n\u001b[0;32m----> 1\u001b[0;31m \u001b[0moardel\u001b[0m\u001b[0;34m(\u001b[0m\u001b[0mjobid\u001b[0m\u001b[0;34m)\u001b[0m\u001b[0;34m\u001b[0m\u001b[0m\n\u001b[0m",
      "\u001b[0;32m~/.local/lib/python3.5/site-packages/execo_g5k/oar.py\u001b[0m in \u001b[0;36moardel\u001b[0;34m(job_specs, frontend_connection_params, timeout)\u001b[0m\n\u001b[1;32m    311\u001b[0m         \u001b[0mtimeout\u001b[0m \u001b[0;34m=\u001b[0m \u001b[0mg5k_configuration\u001b[0m\u001b[0;34m.\u001b[0m\u001b[0mget\u001b[0m\u001b[0;34m(\u001b[0m\u001b[0;34m'default_timeout'\u001b[0m\u001b[0;34m)\u001b[0m\u001b[0;34m\u001b[0m\u001b[0m\n\u001b[1;32m    312\u001b[0m     \u001b[0mprocesses\u001b[0m \u001b[0;34m=\u001b[0m \u001b[0;34m[\u001b[0m\u001b[0;34m]\u001b[0m\u001b[0;34m\u001b[0m\u001b[0m\n\u001b[0;32m--> 313\u001b[0;31m     \u001b[0;32mfor\u001b[0m \u001b[0;34m(\u001b[0m\u001b[0mjob_id\u001b[0m\u001b[0;34m,\u001b[0m \u001b[0mfrontend\u001b[0m\u001b[0;34m)\u001b[0m \u001b[0;32min\u001b[0m \u001b[0mjob_specs\u001b[0m\u001b[0;34m:\u001b[0m\u001b[0;34m\u001b[0m\u001b[0m\n\u001b[0m\u001b[1;32m    314\u001b[0m         p = get_process(\"oardel %i\" % (job_id,),\n\u001b[1;32m    315\u001b[0m                         \u001b[0mhost\u001b[0m \u001b[0;34m=\u001b[0m \u001b[0mget_frontend_host\u001b[0m\u001b[0;34m(\u001b[0m\u001b[0mfrontend\u001b[0m\u001b[0;34m)\u001b[0m\u001b[0;34m,\u001b[0m\u001b[0;34m\u001b[0m\u001b[0m\n",
      "\u001b[0;31mTypeError\u001b[0m: 'int' object is not iterable"
     ]
    }
   ],
   "source": [
    "oardel(jobid)"
   ]
  }
 ],
 "metadata": {
  "kernelspec": {
   "display_name": "Python 3",
   "language": "python",
   "name": "python3"
  },
  "language_info": {
   "codemirror_mode": {
    "name": "ipython",
    "version": 3
   },
   "file_extension": ".py",
   "mimetype": "text/x-python",
   "name": "python",
   "nbconvert_exporter": "python",
   "pygments_lexer": "ipython3",
   "version": "3.5.3"
  }
 },
 "nbformat": 4,
 "nbformat_minor": 2
}
