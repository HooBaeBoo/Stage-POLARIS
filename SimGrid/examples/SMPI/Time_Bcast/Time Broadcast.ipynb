{
 "cells": [
  {
   "cell_type": "markdown",
   "metadata": {},
   "source": [
    "# Broadcast"
   ]
  },
  {
   "cell_type": "markdown",
   "metadata": {},
   "source": [
    "### But : Faire un broadcast, départ décalé \n"
   ]
  },
  {
   "cell_type": "markdown",
   "metadata": {},
   "source": [
    "#### Informations générales"
   ]
  },
  {
   "cell_type": "code",
   "execution_count": 1,
   "metadata": {},
   "outputs": [],
   "source": [
    "experiment_name = \"Time_Bcast\""
   ]
  },
  {
   "cell_type": "code",
   "execution_count": 2,
   "metadata": {},
   "outputs": [
    {
     "name": "stdout",
     "output_type": "stream",
     "text": [
      "commit e209e243b41e8e97388d05d394ba40248e6f2115\n",
      "Author: Najwa Ez Zine <nezzine@fnancy>\n",
      "Date:   Mon May 28 15:55:00 2018 +0200\n",
      "\n",
      "    Working on S[]\n"
     ]
    },
    {
     "name": "stderr",
     "output_type": "stream",
     "text": [
      "Python 2.7.13\n"
     ]
    }
   ],
   "source": [
    "%%bash -s\n",
    "git log -n 1\n",
    "python --version"
   ]
  },
  {
   "cell_type": "markdown",
   "metadata": {},
   "source": [
    "#### Préparation de l'environnement"
   ]
  },
  {
   "cell_type": "code",
   "execution_count": 10,
   "metadata": {},
   "outputs": [
    {
     "name": "stdout",
     "output_type": "stream",
     "text": [
      "Collecting execo\n",
      "Installing collected packages: execo\n",
      "Successfully installed execo-2.6.3\n",
      "Collecting requests\n",
      "  Using cached https://files.pythonhosted.org/packages/49/df/50aa1999ab9bde74656c2919d9c0c085fd2b3775fd3eca826012bef76d8c/requests-2.18.4-py2.py3-none-any.whl\n",
      "Collecting idna<2.7,>=2.5 (from requests)\n",
      "  Using cached https://files.pythonhosted.org/packages/27/cc/6dd9a3869f15c2edfab863b992838277279ce92663d334df9ecf5106f5c6/idna-2.6-py2.py3-none-any.whl\n",
      "Collecting urllib3<1.23,>=1.21.1 (from requests)\n",
      "  Using cached https://files.pythonhosted.org/packages/63/cb/6965947c13a94236f6d4b8223e21beb4d576dc72e8130bd7880f600839b8/urllib3-1.22-py2.py3-none-any.whl\n",
      "Collecting certifi>=2017.4.17 (from requests)\n",
      "  Using cached https://files.pythonhosted.org/packages/7c/e6/92ad559b7192d846975fc916b65f667c7b8c3a32bea7372340bfe9a15fa5/certifi-2018.4.16-py2.py3-none-any.whl\n",
      "Collecting chardet<3.1.0,>=3.0.2 (from requests)\n",
      "  Using cached https://files.pythonhosted.org/packages/bc/a9/01ffebfb562e4274b6487b4bb1ddec7ca55ec7510b22e4c51f14098443b8/chardet-3.0.4-py2.py3-none-any.whl\n",
      "Installing collected packages: idna, urllib3, certifi, chardet, requests\n",
      "Successfully installed certifi-2018.4.16 chardet-3.0.4 idna-2.6 requests-2.18.4 urllib3-1.22\n"
     ]
    }
   ],
   "source": [
    "%%bash -s\n",
    "pip3 install --user execo\n",
    "pip3 install --user requests"
   ]
  },
  {
   "cell_type": "code",
   "execution_count": 11,
   "metadata": {},
   "outputs": [],
   "source": [
    "import execo\n",
    "from execo import *\n",
    "from execo_g5k import *\n",
    "from execo_engine import *\n",
    "import os\n",
    "import sys\n",
    "import json\n",
    "import time\n",
    "import datetime\n",
    "import re\n",
    "from shutil import copy\n",
    "from subprocess import check_output"
   ]
  },
  {
   "cell_type": "markdown",
   "metadata": {},
   "source": [
    "##### Réservation noeuds"
   ]
  },
  {
   "cell_type": "code",
   "execution_count": 16,
   "metadata": {},
   "outputs": [],
   "source": [
    "# Nom du job\n",
    "jobname = ' '\n",
    "# Nombre de noeuds\n",
    "nodecount = 5\n",
    "# Temps réservation\n",
    "walltime = \"5:0:0\" \n",
    "\n",
    "# filters out Nancy's graphene cluster (buggy)\n",
    "resources_selection = \"-p \\\"cluster != 'econome'\\\"\" \n",
    "\n",
    "# Nancy\n",
    "site = \"nantes\""
   ]
  },
  {
   "cell_type": "code",
   "execution_count": 17,
   "metadata": {},
   "outputs": [
    {
     "name": "stdout",
     "output_type": "stream",
     "text": [
      "New job submitted, jobid is 91346\n"
     ]
    }
   ],
   "source": [
    "jobs = get_current_oar_jobs()\n",
    "jobid = None\n",
    "waiting_jobs = []\n",
    "while jobs:\n",
    "    j, site = jobs.pop()\n",
    "    info = get_oar_job_info(j, site)\n",
    "    if info['name'] == jobname:\n",
    "        if info['state'] == 'Running':\n",
    "            jobid = j\n",
    "            print(\"A {} job is already running, using it. jobid is {}\".format(jobname, jobid))\n",
    "            break\n",
    "        else:\n",
    "            waiting_jobs.append(j)\n",
    "if not jobid and not waiting_jobs:\n",
    "    jobspec = OarSubmission(resources=\"/cluster=1/nodes={}\".format(nodecount), walltime=walltime,\n",
    "                            additional_options=resources_selection, job_type=\"deploy\", name=jobname)\n",
    "    jobid, _ = oarsub([(jobspec, site)]).pop()\n",
    "    print(\"New job submitted, jobid is {}\".format(jobid))\n",
    "elif not jobid:\n",
    "    print(\"One or more {} jobs exist ({}) but are not running.\\n\"\n",
    "          \" Connect to the frontend to see what is happening, and/or run the cell again.\".format(\n",
    "          jobname, \", \".join([str(j) for j in waiting_jobs])))"
   ]
  },
  {
   "cell_type": "markdown",
   "metadata": {},
   "source": [
    "On les range"
   ]
  },
  {
   "cell_type": "code",
   "execution_count": 19,
   "metadata": {},
   "outputs": [
    {
     "data": {
      "text/plain": [
       "[Host('ecotype-22.nantes.grid5000.fr'),\n",
       " Host('ecotype-25.nantes.grid5000.fr'),\n",
       " Host('ecotype-27.nantes.grid5000.fr'),\n",
       " Host('ecotype-3.nantes.grid5000.fr'),\n",
       " Host('ecotype-32.nantes.grid5000.fr')]"
      ]
     },
     "execution_count": 19,
     "metadata": {},
     "output_type": "execute_result"
    }
   ],
   "source": [
    "nodes = get_oar_job_nodes(jobid)\n",
    "nodes.sort(key=lambda n: n.address)\n",
    "nodes"
   ]
  },
  {
   "cell_type": "markdown",
   "metadata": {},
   "source": [
    "##### Déploiement de l'environnement"
   ]
  },
  {
   "cell_type": "code",
   "execution_count": 28,
   "metadata": {},
   "outputs": [],
   "source": [
    "force_redeploy = False # set to True to force redeploying the OS on the nodes in the deployment section\n",
    "environment_dsc_file = 'src/debian9-x64-bigdata-tutorial.yaml' # filename of the kadeploy environment file (YAML)"
   ]
  },
  {
   "cell_type": "code",
   "execution_count": 29,
   "metadata": {
    "scrolled": true
   },
   "outputs": [
    {
     "name": "stdout",
     "output_type": "stream",
     "text": [
      "nantes: Deployment #D-fc8ab057-2428-4c5e-9ce3-914af330d095 started\n",
      "nantes: Grab the key file /home/nezzine/.ssh/authorized_keys\n",
      "nantes: Grab the tarball file http://public.nancy.grid5000.fr/~pneyron/debian9-x64-bigdata-tutorial.tar.gz\n",
      "nantes: Grab the postinstall file server:///grid5000/postinstalls/g5k-postinstall.tgz\n",
      "nantes: Launching a deployment on ecotype-[3,22,25,27,32].nantes.grid5000.fr\n",
      "nantes: Performing a Deploy[SetDeploymentEnvUntrusted] step\n",
      "nantes:   switch_pxe\n",
      "nantes:   reboot\n",
      "nantes:    * Performing a soft reboot on ecotype-[3,22,25,27,32].nantes.grid5000.fr\n",
      "nantes:   wait_reboot\n",
      "nantes:   send_key_in_deploy_env\n",
      "nantes:   create_partition_table\n",
      "nantes:   format_deploy_part\n",
      "nantes:   mount_deploy_part\n",
      "nantes:   format_tmp_part\n",
      "nantes:   format_swap_part\n",
      "nantes: End of step Deploy[SetDeploymentEnvUntrusted] after 184s\n",
      "nantes: Performing a Deploy[BroadcastEnvKascade] step\n",
      "nantes:   send_environment\n",
      "nantes:    * Broadcast time: 75s\n",
      "nantes:   manage_admin_post_install\n",
      "nantes:   manage_user_post_install\n",
      "nantes:   check_kernel_files\n",
      "nantes:   send_key\n",
      "nantes:   install_bootloader\n",
      "nantes:   sync\n",
      "nantes: End of step Deploy[BroadcastEnvKascade] after 85s\n",
      "nantes: Performing a Deploy[BootNewEnvKexec] step\n",
      "nantes:   switch_pxe\n",
      "nantes:   umount_deploy_part\n",
      "nantes:   mount_deploy_part\n",
      "nantes:   kexec\n",
      "nantes:   wait_reboot\n",
      "nantes: End of step Deploy[BootNewEnvKexec] after 37s\n",
      "nantes: End of deployment for ecotype-[3,22,25,27,32].nantes.grid5000.fr after 306s\n",
      "nantes: End of deployment on cluster ecotype after 306s\n",
      "nantes: Deployment #D-fc8ab057-2428-4c5e-9ce3-914af330d095 done\n",
      "nantes: \n",
      "nantes: The deployment is successful on nodes\n",
      "nantes: ecotype-3.nantes.grid5000.fr\n",
      "nantes: ecotype-22.nantes.grid5000.fr\n",
      "nantes: ecotype-25.nantes.grid5000.fr\n",
      "nantes: ecotype-27.nantes.grid5000.fr\n",
      "nantes: ecotype-32.nantes.grid5000.fr\n"
     ]
    },
    {
     "name": "stderr",
     "output_type": "stream",
     "text": [
      "nantes: Warning: Permanently added 'nantes.grid5000.fr,172.16.207.100' (ECDSA) to the list of known hosts.\r\n",
      "nantes: Connection to nantes.grid5000.fr closed.\r\n"
     ]
    }
   ],
   "source": [
    "deployment = Deployment(hosts=nodes, env_file = os.path.abspath(environment_dsc_file),\n",
    "                        other_options=\"-r ext4 --no-debug-mode\")\n",
    "\n",
    "deploy_ok, deploy_failed = deploy(deployment, check_deployed_command=not force_redeploy,\n",
    "                              stdout_handlers=[sys.stdout],\n",
    "                              stderr_handlers=[sys.stderr])"
   ]
  },
  {
   "cell_type": "markdown",
   "metadata": {},
   "source": [
    "#### Test : commande simple 'ls'"
   ]
  },
  {
   "cell_type": "code",
   "execution_count": null,
   "metadata": {},
   "outputs": [],
   "source": [
    "# execo.action.Remote(cmd,hosts,connection_params,process_args)\n",
    "Remote_test = execo.action.Remote(cmd='ls',hosts=nodes,connection_params=None, process_args=None)\n",
    "Remote_test.run().ok"
   ]
  },
  {
   "cell_type": "markdown",
   "metadata": {},
   "source": [
    "#### Installation environnement sur noeud"
   ]
  },
  {
   "cell_type": "code",
   "execution_count": 30,
   "metadata": {},
   "outputs": [],
   "source": [
    "Remote_install = execo.action.Remote(cmd='apt-get install g++ libboost-all-dev && wget http://gforge.inria.fr/frs/download.php/latestfile/8/SimGrid-3.18.tar.gz && tar -xvf SimGrid-3.18.tar.gz && cd SimGrid-3.18 && cmake -DCMAKE_INSTALL_PREFIX=/usr/local -Denable_smpi=on -Denable_documentation=off && make -j && make check && make install -j',hosts=nodes,connection_params={'user':'root'})"
   ]
  },
  {
   "cell_type": "code",
   "execution_count": 31,
   "metadata": {},
   "outputs": [
    {
     "data": {
      "text/plain": [
       "True"
      ]
     },
     "execution_count": 31,
     "metadata": {},
     "output_type": "execute_result"
    }
   ],
   "source": [
    "Remote_install.run().ok"
   ]
  },
  {
   "cell_type": "markdown",
   "metadata": {},
   "source": [
    "#### Version Simgrid"
   ]
  },
  {
   "cell_type": "code",
   "execution_count": 32,
   "metadata": {},
   "outputs": [
    {
     "data": {
      "text/plain": [
       "'SimGrid version 3.18  SimGrid version 3.18  SimGrid version 3.18  SimGrid version 3.18  SimGrid version 3.18  '"
      ]
     },
     "execution_count": 32,
     "metadata": {},
     "output_type": "execute_result"
    }
   ],
   "source": [
    "execo.action.Remote(cmd='touch smpi_version.txt && smpicc --version > smpi_version.txt'\n",
    "                    , hosts=nodes, connection_params={'user': 'root'\n",
    "                    }).run()\n",
    "version = ''\n",
    "for i in range(0, nodecount):\n",
    "    execo.action.Get(hosts=nodes[i], remote_files=['~/smpi_version.txt'\n",
    "                     ], local_location='./smpicc_version-'\n",
    "                     + get_host_shortname(nodes[i]) + '.txt',\n",
    "                     connection_params={'user': 'root'}).run()\n",
    "    version = version + execo.Process(cmd='head -n 1 ./smpicc_version-'\n",
    "            + get_host_shortname(nodes[i]) + '.txt'\n",
    "            ).run().stdout.replace('\\n', '  ')\n",
    "    execo.Process(cmd='rm ./smpicc_version-'\n",
    "                  + get_host_shortname(nodes[i]) + '.txt').run()\n",
    "version\n"
   ]
  },
  {
   "cell_type": "code",
   "execution_count": 33,
   "metadata": {},
   "outputs": [],
   "source": [
    "path = \"~/Stage-POLARIS/SimGrid/examples/SMPI/\"+experiment_name+'/src/'"
   ]
  },
  {
   "cell_type": "markdown",
   "metadata": {},
   "source": [
    "#### Récupération fichiers sources"
   ]
  },
  {
   "cell_type": "code",
   "execution_count": 34,
   "metadata": {},
   "outputs": [
    {
     "data": {
      "text/plain": [
       "True"
      ]
     },
     "execution_count": 34,
     "metadata": {},
     "output_type": "execute_result"
    }
   ],
   "source": [
    "Src_get = execo.action.Remote(cmd='mkdir -p experiments_src',hosts=nodes,connection_params={'user':'root'})\n",
    "Src_get.run().ok"
   ]
  },
  {
   "cell_type": "code",
   "execution_count": 35,
   "metadata": {},
   "outputs": [
    {
     "data": {
      "text/plain": [
       "True"
      ]
     },
     "execution_count": 35,
     "metadata": {},
     "output_type": "execute_result"
    }
   ],
   "source": [
    "Remote_smpi_env = execo.action.Put(hosts=nodes,local_files=[path+\"griffon.xml\",path+\"griffon_hostfile.txt\",path+\"broadcast.c\",path+\"Makefile\"],remote_location='~/experiments_src',connection_params={'user':'root'})\n",
    "Remote_smpi_env.run().ok"
   ]
  },
  {
   "cell_type": "markdown",
   "metadata": {},
   "source": [
    "#### Execution de l'expérience"
   ]
  },
  {
   "cell_type": "code",
   "execution_count": null,
   "metadata": {},
   "outputs": [],
   "source": [
    "Remote_smpi = execo.action.Remote(cmd ='cd ~/experiments_src && make && make run NPROCS=2 MIN=0 MAX=10 N=2 DELAY=\\\"0 0\\\"',hosts=nodes,connection_params={'user':'root'})\n",
    "Remote_smpi.run().ok"
   ]
  },
  {
   "cell_type": "markdown",
   "metadata": {},
   "source": [
    "#### Récupération des résultats"
   ]
  },
  {
   "cell_type": "code",
   "execution_count": null,
   "metadata": {},
   "outputs": [],
   "source": [
    "Result_get = execo.Process(cmd='mkdir -p /home/nezzine/Stage-POLARIS/SimGrid/examples/SMPI/'+experiment_name+'/results/'+datetime.datetime.now().strftime(\"%Y-%m-%d\"))\n",
    "Result_get.run().ok"
   ]
  },
  {
   "cell_type": "code",
   "execution_count": null,
   "metadata": {
    "scrolled": true
   },
   "outputs": [],
   "source": [
    "for i in range(0,nodecount) :\n",
    "    execo.action.Get(hosts=nodes[i],remote_files=[\"~/experiments_src/bcast_results.txt\"], local_location='~/Stage-POLARIS/SimGrid/examples/SMPI/'+experiment_name+'/results/'+datetime.datetime.now().strftime(\"%Y-%m-%d\")+'/'+get_host_shortname(nodes[i])+'_'+datetime.datetime.now().strftime(\"%Y-%m-%d_%H:%M\")+'.txt',connection_params={'user':'root'}).run().ok"
   ]
  },
  {
   "cell_type": "markdown",
   "metadata": {},
   "source": [
    "##### Shortcut"
   ]
  },
  {
   "cell_type": "code",
   "execution_count": 43,
   "metadata": {},
   "outputs": [
    {
     "name": "stdout",
     "output_type": "stream",
     "text": [
      "i = 0 NPROCS = 2 MIN = 0 MAX = 2 N=10 DELAY='1 3'\n",
      "True\n",
      "i = 1 NPROCS = 2 MIN = 2 MAX = 4 N=10 DELAY='1 3'\n",
      "True\n",
      "i = 2 NPROCS = 2 MIN = 4 MAX = 6 N=10 DELAY='1 3'\n",
      "True\n",
      "i = 3 NPROCS = 2 MIN = 6 MAX = 8 N=10 DELAY='1 3'\n",
      "True\n",
      "i = 4 NPROCS = 2 MIN = 8 MAX = 10 N=10 DELAY='1 3'\n",
      "True\n"
     ]
    }
   ],
   "source": [
    "Src_get = execo.action.Remote(cmd='mkdir -p experiments_src',\n",
    "                              hosts=nodes,\n",
    "                              connection_params={'user': 'root'})\n",
    "Remote_smpi_env = execo.action.Put(hosts=nodes, local_files=[path\n",
    "                                   + 'griffon.xml', path\n",
    "                                   + 'griffon_hostfile.txt', path\n",
    "                                   + 'broadcast.c', path + 'Makefile'],\n",
    "                                   remote_location='~/experiments_src',\n",
    "                                   connection_params={'user': 'root'})\n",
    "\n",
    "def parl_exec () :\n",
    "    # Nbr pcs\n",
    "    NPROCS = 2\n",
    "    # Nbr itérations\n",
    "    N = 10\n",
    "    D = [1,3]\n",
    "    for i in range (0,nodecount) :\n",
    "       print(\"i = \"+str(i)+\" NPROCS = \"+str(NPROCS)\n",
    "             +\" MIN = \"+str((int)((i*N)/len(nodes)))\n",
    "             +\" MAX = \"+str((int)(((i+1)*N)/len(nodes)))\n",
    "             +\" N=\"+str(N)+\" DELAY='\"+str(D[0])+\" \"+str(D[1])+\"'\")\n",
    "       bool = execo.action.Remote(cmd ='cd ~/experiments_src && make && make run NPROCS='\n",
    "                                  +str(NPROCS)+' MIN='+str((int)((i*N)/len(nodes))) \n",
    "                                  +' MAX='+str((((i+1)*N)/len(nodes)))+' N='+str(N)\n",
    "                                  +\" DELAY='\"+str(D[0])+\" \"+str(D[1])\n",
    "                                  +\"'\",hosts=nodes[i],connection_params={'user':'root'}).run().ok\n",
    "       print(bool)\n",
    "    return;\n",
    "\n",
    "# Remote_smpi = execo.action.Remote(cmd ='cd ~/experiments_src && make && make run NPROCS=2 MIN=0 MAX=10',hosts=nodes,connection_params={'user':'root'})\n",
    "\n",
    "Result_get = \\\n",
    "    execo.Process(cmd='mkdir -p /home/nezzine/Stage-POLARIS/SimGrid/examples/SMPI/'\n",
    "                   + experiment_name + '/results/'\n",
    "                  + datetime.datetime.now().strftime('%Y-%m-%d'))\n",
    "\n",
    "Src_get.run().ok\n",
    "Remote_smpi_env.run().ok\n",
    "\n",
    "# Remote_smpi.run().ok\n",
    "\n",
    "parl_exec()\n",
    "Result_get.run().ok\n",
    "for i in range(0, nodecount):\n",
    "    execo.action.Get(hosts=nodes[i],\n",
    "                     remote_files=['~/experiments_src/bcast_results.txt'\n",
    "                     ],\n",
    "                     local_location='~/Stage-POLARIS/SimGrid/examples/SMPI/'\n",
    "                      + experiment_name + '/results/'\n",
    "                     + datetime.datetime.now().strftime('%Y-%m-%d')\n",
    "                     + '/' + get_host_shortname(nodes[i]) + '_'\n",
    "                     + datetime.datetime.now().strftime('%Y-%m-%d_%H:%M'\n",
    "                     ) + '.txt', connection_params={'user': 'root'\n",
    "                     }).run().ok"
   ]
  },
  {
   "cell_type": "markdown",
   "metadata": {},
   "source": [
    "#### Publication des résultats"
   ]
  },
  {
   "cell_type": "code",
   "execution_count": 40,
   "metadata": {},
   "outputs": [
    {
     "name": "stdout",
     "output_type": "stream",
     "text": [
      "[master 7ce6aa8] Automatic results update : Time_Bcast-nantes\n",
      " Committer: Najwa Ez Zine <nezzine@fnantes-stretch>\n",
      "Your name and email address were configured automatically based\n",
      "on your username and hostname. Please check that they are accurate.\n",
      "You can suppress this message by setting them explicitly. Run the\n",
      "following command and follow the instructions in your editor to edit\n",
      "your configuration file:\n",
      "\n",
      "    git config --global --edit\n",
      "\n",
      "After doing this, you may fix the identity used for this commit with:\n",
      "\n",
      "    git commit --amend --reset-author\n",
      "\n",
      " 7 files changed, 661 insertions(+), 905 deletions(-)\n",
      " rewrite SimGrid/examples/SMPI/Time_Bcast/Time Broadcast.ipynb (75%)\n",
      " create mode 100644 SimGrid/examples/SMPI/Time_Bcast/results/2018-05-29/ecotype-22_2018-05-29_12:54.txt\n",
      " create mode 100644 SimGrid/examples/SMPI/Time_Bcast/results/2018-05-29/ecotype-25_2018-05-29_12:54.txt\n",
      " create mode 100644 SimGrid/examples/SMPI/Time_Bcast/results/2018-05-29/ecotype-27_2018-05-29_12:54.txt\n",
      " create mode 100644 SimGrid/examples/SMPI/Time_Bcast/results/2018-05-29/ecotype-32_2018-05-29_12:54.txt\n",
      " create mode 100644 SimGrid/examples/SMPI/Time_Bcast/results/2018-05-29/ecotype-3_2018-05-29_12:54.txt\n",
      " create mode 100644 SimGrid/examples/SMPI/Time_Bcast/src/debian9-x64-bigdata-tutorial.yaml\n"
     ]
    }
   ],
   "source": [
    "%%bash -s $experiment_name $site\n",
    "git add .\n",
    "git commit -m 'Automatic results update : '\"$1\"'-'\"$2\""
   ]
  },
  {
   "cell_type": "markdown",
   "metadata": {},
   "source": [
    "#### Fin d'expérience : suppression du job"
   ]
  },
  {
   "cell_type": "code",
   "execution_count": null,
   "metadata": {},
   "outputs": [],
   "source": [
    "oardel(jobid)"
   ]
  }
 ],
 "metadata": {
  "kernelspec": {
   "display_name": "Python 3",
   "language": "python",
   "name": "python3"
  },
  "language_info": {
   "codemirror_mode": {
    "name": "ipython",
    "version": 3
   },
   "file_extension": ".py",
   "mimetype": "text/x-python",
   "name": "python",
   "nbconvert_exporter": "python",
   "pygments_lexer": "ipython3",
   "version": "3.5.3"
  }
 },
 "nbformat": 4,
 "nbformat_minor": 2
}
