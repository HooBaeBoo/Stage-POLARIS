{
 "cells": [
  {
   "cell_type": "markdown",
   "metadata": {},
   "source": [
    "# Broadcast"
   ]
  },
  {
   "cell_type": "markdown",
   "metadata": {},
   "source": [
    "## But : Faire un broadcast, départ décalé \n"
   ]
  },
  {
   "cell_type": "markdown",
   "metadata": {},
   "source": [
    "### Informations générales"
   ]
  },
  {
   "cell_type": "markdown",
   "metadata": {},
   "source": [
    "#### Le nom de l'expérience : Nom du folder contenant les fichiers sources et résultats"
   ]
  },
  {
   "cell_type": "code",
   "execution_count": 1,
   "metadata": {},
   "outputs": [],
   "source": [
    "experiment_name = \"Time_Bcast\"\n",
    "crashed = False"
   ]
  },
  {
   "cell_type": "markdown",
   "metadata": {},
   "source": [
    "#### Versions"
   ]
  },
  {
   "cell_type": "code",
   "execution_count": 2,
   "metadata": {},
   "outputs": [
    {
     "name": "stdout",
     "output_type": "stream",
     "text": [
      "commit 7d487537e9f2fd27cdb834e3726bdec73dd4f39f\n",
      "Author: Najwa Ez Zine <nezzine@fnancy>\n",
      "Date:   Mon Jul 9 16:07:26 2018 +0200\n",
      "\n",
      "    Automatic results update : Time_Bcast --- None Fix : Add functions -> clearer\n",
      "Python 3.5.3\n",
      "R version 3.3.3 (2017-03-06) -- \"Another Canoe\"\n",
      "Copyright (C) 2017 The R Foundation for Statistical Computing\n",
      "Platform: x86_64-pc-linux-gnu (64-bit)\n",
      "\n",
      "R is free software and comes with ABSOLUTELY NO WARRANTY.\n",
      "You are welcome to redistribute it under the terms of the\n",
      "GNU General Public License versions 2 or 3.\n",
      "For more information about these matters see\n",
      "http://www.gnu.org/licenses/.\n",
      "\n"
     ]
    }
   ],
   "source": [
    "%%bash -s\n",
    "git log -n 1\n",
    "python3 --version\n",
    "R --version"
   ]
  },
  {
   "cell_type": "markdown",
   "metadata": {},
   "source": [
    "### Préparation de l'environnement (FRONTEND)"
   ]
  },
  {
   "cell_type": "markdown",
   "metadata": {},
   "source": [
    "#### Installation des modules"
   ]
  },
  {
   "cell_type": "code",
   "execution_count": 3,
   "metadata": {},
   "outputs": [
    {
     "name": "stdout",
     "output_type": "stream",
     "text": [
      "Collecting execo\n",
      "Installing collected packages: execo\n",
      "Successfully installed execo-2.6.3\n",
      "Collecting requests\n",
      "  Using cached https://files.pythonhosted.org/packages/65/47/7e02164a2a3db50ed6d8a6ab1d6d60b69c4c3fdf57a284257925dfc12bda/requests-2.19.1-py2.py3-none-any.whl\n",
      "Collecting urllib3<1.24,>=1.21.1 (from requests)\n",
      "  Using cached https://files.pythonhosted.org/packages/bd/c9/6fdd990019071a4a32a5e7cb78a1d92c53851ef4f56f62a3486e6a7d8ffb/urllib3-1.23-py2.py3-none-any.whl\n",
      "Collecting idna<2.8,>=2.5 (from requests)\n",
      "  Using cached https://files.pythonhosted.org/packages/4b/2a/0276479a4b3caeb8a8c1af2f8e4355746a97fab05a372e4a2c6a6b876165/idna-2.7-py2.py3-none-any.whl\n",
      "Collecting certifi>=2017.4.17 (from requests)\n",
      "  Using cached https://files.pythonhosted.org/packages/7c/e6/92ad559b7192d846975fc916b65f667c7b8c3a32bea7372340bfe9a15fa5/certifi-2018.4.16-py2.py3-none-any.whl\n",
      "Collecting chardet<3.1.0,>=3.0.2 (from requests)\n",
      "  Using cached https://files.pythonhosted.org/packages/bc/a9/01ffebfb562e4274b6487b4bb1ddec7ca55ec7510b22e4c51f14098443b8/chardet-3.0.4-py2.py3-none-any.whl\n",
      "Installing collected packages: urllib3, idna, certifi, chardet, requests\n",
      "Successfully installed certifi-2018.4.16 chardet-3.0.4 idna-2.7 requests-2.19.1 urllib3-1.23\n",
      "Collecting termcolor\n",
      "Installing collected packages: termcolor\n",
      "Successfully installed termcolor-1.1.0\n",
      "Collecting rpy2\n",
      "Collecting jinja2 (from rpy2)\n",
      "  Using cached https://files.pythonhosted.org/packages/7f/ff/ae64bacdfc95f27a016a7bed8e8686763ba4d277a78ca76f32659220a731/Jinja2-2.10-py2.py3-none-any.whl\n",
      "Collecting six (from rpy2)\n",
      "  Using cached https://files.pythonhosted.org/packages/67/4b/141a581104b1f6397bfa78ac9d43d8ad29a7ca43ea90a2d863fe3056e86a/six-1.11.0-py2.py3-none-any.whl\n",
      "Collecting MarkupSafe>=0.23 (from jinja2->rpy2)\n",
      "Installing collected packages: MarkupSafe, jinja2, six, rpy2\n",
      "Successfully installed MarkupSafe-1.0 jinja2-2.10 rpy2-2.9.4 six-1.11.0\n",
      "Collecting tzlocal\n",
      "Collecting pytz (from tzlocal)\n",
      "  Using cached https://files.pythonhosted.org/packages/30/4e/27c34b62430286c6d59177a0842ed90dc789ce5d1ed740887653b898779a/pytz-2018.5-py2.py3-none-any.whl\n",
      "Installing collected packages: pytz, tzlocal\n",
      "Successfully installed pytz-2018.5 tzlocal-1.5.1\n"
     ]
    }
   ],
   "source": [
    "%%bash -s\n",
    "pip3 install --user execo\n",
    "pip3 install --user requests\n",
    "\n",
    "# Permet affichage pllus lisible avec couleurs\n",
    "pip3 install --user termcolor\n",
    "\n",
    "# Permettent d'utiliser R :\n",
    "pip3 install --user rpy2\n",
    "pip3 install --user tzlocal"
   ]
  },
  {
   "cell_type": "markdown",
   "metadata": {},
   "source": [
    "#### Chargement des modules dans l'environnement"
   ]
  },
  {
   "cell_type": "code",
   "execution_count": 4,
   "metadata": {},
   "outputs": [],
   "source": [
    "import execo\n",
    "import math\n",
    "import collections\n",
    "import os\n",
    "import sys\n",
    "import json\n",
    "import time\n",
    "import random\n",
    "import datetime\n",
    "import re\n",
    "import tzlocal\n",
    "\n",
    "from execo import *\n",
    "from execo_g5k import *\n",
    "from execo_engine import *\n",
    "\n",
    "from shutil import copy\n",
    "from subprocess import check_output\n",
    "\n",
    "from threading import Thread\n",
    "\n",
    "from collections import deque, OrderedDict\n",
    "from termcolor import *\n",
    "from subprocess import *"
   ]
  },
  {
   "cell_type": "markdown",
   "metadata": {},
   "source": [
    "#### Chargement de l'outil permettant l'utilisation de R"
   ]
  },
  {
   "cell_type": "code",
   "execution_count": 5,
   "metadata": {},
   "outputs": [],
   "source": [
    "%load_ext rpy2.ipython"
   ]
  },
  {
   "cell_type": "code",
   "execution_count": 6,
   "metadata": {},
   "outputs": [
    {
     "data": {
      "text/plain": [
       "NULL\n"
      ]
     },
     "metadata": {},
     "output_type": "display_data"
    }
   ],
   "source": [
    "%%R\n",
    "#install.packages('ggplot2')\n",
    "#install.packages('dplyr')\n",
    "#install.packages('tidyr')"
   ]
  },
  {
   "cell_type": "code",
   "execution_count": 7,
   "metadata": {
    "scrolled": true
   },
   "outputs": [
    {
     "data": {
      "text/plain": [
       "[1] ‘2.2.1’\n"
      ]
     },
     "metadata": {},
     "output_type": "display_data"
    }
   ],
   "source": [
    "%%R\n",
    "packageVersion('ggplot2')"
   ]
  },
  {
   "cell_type": "code",
   "execution_count": 8,
   "metadata": {},
   "outputs": [
    {
     "data": {
      "text/plain": [
       "[1] ‘0.7.6’\n"
      ]
     },
     "metadata": {},
     "output_type": "display_data"
    }
   ],
   "source": [
    "%%R\n",
    "packageVersion('dplyr')"
   ]
  },
  {
   "cell_type": "code",
   "execution_count": 9,
   "metadata": {},
   "outputs": [
    {
     "data": {
      "text/plain": [
       "[1] ‘0.8.1’\n"
      ]
     },
     "metadata": {},
     "output_type": "display_data"
    }
   ],
   "source": [
    "%%R\n",
    "packageVersion('tidyr')"
   ]
  },
  {
   "cell_type": "markdown",
   "metadata": {},
   "source": [
    "### Tools"
   ]
  },
  {
   "cell_type": "markdown",
   "metadata": {},
   "source": [
    "#### Affichage coloré"
   ]
  },
  {
   "cell_type": "code",
   "execution_count": 10,
   "metadata": {},
   "outputs": [
    {
     "name": "stdout",
     "output_type": "stream",
     "text": [
      "\u001b[5m\u001b[31mHello, World!\u001b[0m\n",
      "\u001b[2m\u001b[31mHello, World!\u001b[0m\n",
      "\u001b[4m\u001b[31mHello, World!\u001b[0m\n",
      "\u001b[1m\u001b[31mHello, World!\u001b[0m\n",
      "\u001b[8m\u001b[31mHello, World!\u001b[0m\n",
      "\u001b[7m\u001b[41m\u001b[32mHello, World!\u001b[0m\n"
     ]
    }
   ],
   "source": [
    "# Termcolor\n",
    "# OPTIONS  : bold, dark, underline, blink, reverse, concealed\n",
    "\n",
    "text = colored('Hello, World!', 'red', attrs = ['blink'])\n",
    "print(text)\n",
    "\n",
    "text = colored('Hello, World!', 'red', attrs = ['dark'])\n",
    "print(text)\n",
    "\n",
    "text = colored('Hello, World!', 'red', attrs = ['underline'])\n",
    "print(text)\n",
    "\n",
    "text = colored('Hello, World!', 'red', attrs = ['bold'])\n",
    "print(text)\n",
    "\n",
    "text = colored('Hello, World!', 'red', attrs = ['concealed'])\n",
    "print(text)\n",
    "\n",
    "cprint('Hello, World!', 'green', 'on_red',attrs = ['reverse'])"
   ]
  },
  {
   "cell_type": "markdown",
   "metadata": {},
   "source": [
    "#### Affichage lisible d'un dictionnaire complexe"
   ]
  },
  {
   "cell_type": "code",
   "execution_count": 11,
   "metadata": {},
   "outputs": [],
   "source": [
    "# Display more readable dict\n",
    "# SOURCE : https://stackoverflow.com/questions/3229419/how-to-pretty-print-nested-dictionaries\n",
    "def pretty(d, indent=0):\n",
    "    for key, value in d.items():\n",
    "        print('\\t' * indent + colored (str(key), \"magenta\"))\n",
    "        if isinstance(value, type({})):\n",
    "            pretty(value, indent+1)\n",
    "        else:\n",
    "            print('\\t' * (indent+1) + str(value))"
   ]
  },
  {
   "cell_type": "markdown",
   "metadata": {},
   "source": [
    "### Préparation de l'environnement pour l'expérience"
   ]
  },
  {
   "cell_type": "markdown",
   "metadata": {},
   "source": [
    "#### Paramètres réservation"
   ]
  },
  {
   "cell_type": "code",
   "execution_count": 12,
   "metadata": {},
   "outputs": [],
   "source": [
    "# Nom du job\n",
    "jobname = ' '\n",
    "# Nombre de noeuds\n",
    "nodecount = 3\n",
    "# Temps réservation\n",
    "walltime = \"3:0:0\" \n",
    "\n",
    "# filters out Nantes's econome cluster\n",
    "resources_selection = \"-p \\\"cluster in ('ecotype','parasilo','grisou','uvb','paravance','genepi')\\\"\" \n",
    "\n",
    "# Nancy\n",
    "site = \"nancy\"\n",
    "\n",
    "#Type de deploiement \n",
    "FILE_DEPLOY = True"
   ]
  },
  {
   "cell_type": "markdown",
   "metadata": {},
   "source": [
    "#### Réservation"
   ]
  },
  {
   "cell_type": "code",
   "execution_count": 13,
   "metadata": {},
   "outputs": [
    {
     "name": "stdout",
     "output_type": "stream",
     "text": [
      "New job submitted, jobid is 1607458\n"
     ]
    }
   ],
   "source": [
    "jobs = get_current_oar_jobs()\n",
    "jobid = None\n",
    "waiting_jobs = []\n",
    "while jobs:\n",
    "    j, site = jobs.pop()\n",
    "    info = get_oar_job_info(j, site)\n",
    "    if info['name'] == jobname:\n",
    "        if info['state'] == 'Running':\n",
    "            jobid = j\n",
    "            print(\"A {} job is already running, using it. jobid is {}\".format(jobname, jobid))\n",
    "            break\n",
    "        else:\n",
    "            waiting_jobs.append(j)\n",
    "if not jobid and not waiting_jobs:\n",
    "    jobspec = OarSubmission(resources=\"/cluster=1/nodes={}\".format(nodecount), walltime = walltime,\n",
    "                            additional_options = resources_selection, job_type = \"deploy\", name = jobname)\n",
    "    jobid, _ = oarsub([(jobspec, site)]).pop()\n",
    "    print(\"New job submitted, jobid is {}\".format(jobid))\n",
    "elif not jobid:\n",
    "    print(\"One or more {} jobs exist ({}) but are not running.\\n\"\n",
    "          \" Connect to the frontend to see what is happening, and/or run the cell again.\".format(\n",
    "          jobname, \", \".join([str(j) for j in waiting_jobs])))"
   ]
  },
  {
   "cell_type": "markdown",
   "metadata": {},
   "source": [
    "#### Récupération des infos sur les noeuds obtenus"
   ]
  },
  {
   "cell_type": "markdown",
   "metadata": {},
   "source": [
    "###### Note : Si cette cellule met du temps à répondre, vérifier l'état de la réservation sur la frontale **oartstat -u username** ou via https://www.grid5000.fr/mediawiki/index.php/Status"
   ]
  },
  {
   "cell_type": "code",
   "execution_count": 14,
   "metadata": {},
   "outputs": [
    {
     "data": {
      "text/plain": [
       "[Host('grisou-47.nancy.grid5000.fr'),\n",
       " Host('grisou-48.nancy.grid5000.fr'),\n",
       " Host('grisou-5.nancy.grid5000.fr')]"
      ]
     },
     "execution_count": 14,
     "metadata": {},
     "output_type": "execute_result"
    }
   ],
   "source": [
    "nodes = get_oar_job_nodes(jobid)\n",
    "nodes.sort(key = lambda n: n.address)\n",
    "nodes"
   ]
  },
  {
   "cell_type": "markdown",
   "metadata": {},
   "source": [
    "##### Déploiement de l'environnement : 2 options"
   ]
  },
  {
   "cell_type": "markdown",
   "metadata": {},
   "source": [
    "###### Via fichier "
   ]
  },
  {
   "cell_type": "code",
   "execution_count": 15,
   "metadata": {},
   "outputs": [],
   "source": [
    "force_redeploy = False # set to True to force redeploying the OS on the nodes in the deployment section\n",
    "environment_dsc_file = 'src/debian9-x64-bigdata-tutorial.yaml' # filename of the kadeploy environment file (YAML)"
   ]
  },
  {
   "cell_type": "code",
   "execution_count": 16,
   "metadata": {
    "scrolled": true
   },
   "outputs": [
    {
     "name": "stdout",
     "output_type": "stream",
     "text": [
      "nancy: Deployment #D-850a8eb4-d287-4f87-bc9c-af86bf4142aa started\n",
      "nancy: Grab the key file /home/nezzine/.ssh/authorized_keys\n",
      "nancy: Grab the tarball file http://public.nancy.grid5000.fr/~pneyron/debian9-x64-bigdata-tutorial.tar.gz\n",
      "nancy: Grab the postinstall file server:///grid5000/postinstalls/g5k-postinstall.tgz\n",
      "nancy: Launching a deployment on grisou-[5,47-48].nancy.grid5000.fr\n",
      "nancy: Performing a Deploy[SetDeploymentEnvUntrusted] step\n",
      "nancy:   switch_pxe\n",
      "nancy:   reboot\n",
      "nancy:    * Performing a soft reboot on grisou-[5,47-48].nancy.grid5000.fr\n",
      "nancy:   wait_reboot\n",
      "nancy:   send_key_in_deploy_env\n",
      "nancy:   create_partition_table\n",
      "nancy:   format_deploy_part\n",
      "nancy:   mount_deploy_part\n",
      "nancy:   format_tmp_part\n",
      "nancy:   format_swap_part\n",
      "nancy: End of step Deploy[SetDeploymentEnvUntrusted] after 150s\n",
      "nancy: Performing a Deploy[BroadcastEnvKascade] step\n",
      "nancy:   send_environment\n",
      "nancy:    * Broadcast time: 72s\n",
      "nancy:   manage_admin_post_install\n",
      "nancy:   manage_user_post_install\n",
      "nancy:   check_kernel_files\n",
      "nancy:   send_key\n",
      "nancy:   install_bootloader\n",
      "nancy:   sync\n",
      "nancy: End of step Deploy[BroadcastEnvKascade] after 131s\n",
      "nancy: Performing a Deploy[BootNewEnvKexec] step\n",
      "nancy:   switch_pxe\n",
      "nancy:   umount_deploy_part\n",
      "nancy:   mount_deploy_part\n",
      "nancy:   kexec\n",
      "nancy:   wait_reboot\n",
      "nancy: End of step Deploy[BootNewEnvKexec] after 42s\n",
      "nancy: End of deployment for grisou-[5,47-48].nancy.grid5000.fr after 323s\n",
      "nancy: End of deployment on cluster grisou after 324s\n",
      "nancy: Deployment #D-850a8eb4-d287-4f87-bc9c-af86bf4142aa done\n",
      "nancy: \n",
      "nancy: The deployment is successful on nodes\n",
      "nancy: grisou-5.nancy.grid5000.fr\n",
      "nancy: grisou-47.nancy.grid5000.fr\n",
      "nancy: grisou-48.nancy.grid5000.fr\n"
     ]
    },
    {
     "name": "stderr",
     "output_type": "stream",
     "text": [
      "nancy: Warning: Permanently added 'nancy.grid5000.fr,172.16.79.101' (ECDSA) to the list of known hosts.\r\n",
      "nancy: Connection to nancy.grid5000.fr closed.\r\n"
     ]
    }
   ],
   "source": [
    "if (FILE_DEPLOY):\n",
    "    deployment = Deployment(hosts = nodes, env_file = os.path.abspath(environment_dsc_file),\n",
    "                        other_options = \"-r ext4 --no-debug-mode\")\n",
    "\n",
    "    deploy_ok, deploy_failed = deploy(deployment, check_deployed_command = not force_redeploy,\n",
    "                              stdout_handlers = [sys.stdout],\n",
    "                              stderr_handlers = [sys.stderr])\n",
    "else :\n",
    "    deploy_ok, deploy_failed = deploy(Deployment(nodes, env_name = \"debian9-x64-base\",\n",
    "                              other_options = \"-r ext4 --no-debug-mode\"),\n",
    "                              stdout_handlers = [sys.stdout],\n",
    "                              stderr_handlers = [sys.stderr])"
   ]
  },
  {
   "cell_type": "code",
   "execution_count": 19,
   "metadata": {},
   "outputs": [
    {
     "name": "stdout",
     "output_type": "stream",
     "text": [
      "Deployement status:\n",
      "* ok: {'grisou-48.nancy.grid5000.fr', 'grisou-5.nancy.grid5000.fr', 'grisou-47.nancy.grid5000.fr'}\n",
      "* failed: set()\n"
     ]
    }
   ],
   "source": [
    "print(\"Deployement status:\\n* ok: {}\\n* failed: {}\".format(deploy_ok, deploy_failed))"
   ]
  },
  {
   "cell_type": "markdown",
   "metadata": {},
   "source": [
    "#### Test : commande simple 'ls'"
   ]
  },
  {
   "cell_type": "code",
   "execution_count": 20,
   "metadata": {},
   "outputs": [
    {
     "data": {
      "text/plain": [
       "True"
      ]
     },
     "execution_count": 20,
     "metadata": {},
     "output_type": "execute_result"
    }
   ],
   "source": [
    "Remote_test = execo.action.Remote(cmd = 'ls',hosts = nodes, connection_params = None, process_args = None)\n",
    "Remote_test.run().ok"
   ]
  },
  {
   "cell_type": "markdown",
   "metadata": {},
   "source": [
    "#### Installation environnement/tools sur noeuds"
   ]
  },
  {
   "cell_type": "code",
   "execution_count": 21,
   "metadata": {},
   "outputs": [],
   "source": [
    "if (not crashed):\n",
    "    Remote_install = execo.action.Remote(cmd = 'apt-get install g++ libboost-all-dev && wget http://gforge.inria.fr/frs/download.php/latestfile/8/SimGrid-3.18.tar.gz && tar -xvf SimGrid-3.18.tar.gz && cd SimGrid-3.18 && cmake -DCMAKE_INSTALL_PREFIX=/usr/local -Denable_smpi=on -Denable_documentation=off && make -j && make check && make install -j',\n",
    "                                     hosts = nodes,connection_params = {'user':'root'})\n",
    "    Remote_install.run().ok"
   ]
  },
  {
   "cell_type": "code",
   "execution_count": 22,
   "metadata": {},
   "outputs": [],
   "source": [
    "if (not crashed):\n",
    "    Pajeng_install = execo.action.Remote(cmd='git clone git://github.com/schnorr/pajeng.git ; mkdir -p pajeng/build ; cd pajeng/build ; cmake .. ; make ; make install',hosts=nodes,connection_params={'user':'root'}).run().ok\n",
    "    Pajeng_install"
   ]
  },
  {
   "cell_type": "markdown",
   "metadata": {},
   "source": [
    "#### Version Simgrid"
   ]
  },
  {
   "cell_type": "code",
   "execution_count": 23,
   "metadata": {},
   "outputs": [
    {
     "name": "stdout",
     "output_type": "stream",
     "text": [
      "\u001b[34mVERSION : smpicc\u001b[0m \n",
      "SimGrid version 3.18\n",
      "SimGrid version 3.18\n",
      "SimGrid version 3.18\n",
      "\n",
      "\n",
      "\u001b[34mVERSION : g++\u001b[0m \n",
      "g++ (Debian 6.3.0-18) 6.3.0 20170516\n",
      "Copyright (C) 2016 Free Software Foundation, Inc.\n",
      "This is free software; see the source for copying conditions.  There is NO\n",
      "warranty; not even for MERCHANTABILITY or FITNESS FOR A PARTICULAR PURPOSE.\n",
      "\n",
      "g++ (Debian 6.3.0-18) 6.3.0 20170516\n",
      "Copyright (C) 2016 Free Software Foundation, Inc.\n",
      "This is free software; see the source for copying conditions.  There is NO\n",
      "warranty; not even for MERCHANTABILITY or FITNESS FOR A PARTICULAR PURPOSE.\n",
      "\n",
      "g++ (Debian 6.3.0-18) 6.3.0 20170516\n",
      "Copyright (C) 2016 Free Software Foundation, Inc.\n",
      "This is free software; see the source for copying conditions.  There is NO\n",
      "warranty; not even for MERCHANTABILITY or FITNESS FOR A PARTICULAR PURPOSE.\n",
      "\n",
      "\n",
      "\n",
      "\u001b[34mVERSION : pj_dump\u001b[0m \n",
      "\n",
      "Development build at commit b9780a1 (2017-08-03 15:05:05 -0300)\n",
      "\n",
      "Development build at commit b9780a1 (2017-08-03 15:05:05 -0300)\n",
      "\n",
      "Development build at commit b9780a1 (2017-08-03 15:05:05 -0300)\n",
      "\n",
      "\n"
     ]
    }
   ],
   "source": [
    "def remote_version(software):\n",
    "    execo.action.Remote(cmd = 'touch version.txt &&' + str(software) + ' --version > version.txt'\n",
    "                    , hosts = nodes, connection_params = {'user': 'root'}).run()\n",
    "\n",
    "    version = ''\n",
    "\n",
    "    for i in range(0, nodecount):\n",
    "        execo.action.Get(hosts = nodes[i], remote_files = ['~/version.txt'],\n",
    "                         local_location = './version-'\n",
    "                                            + get_host_shortname(nodes[i]) + '.txt',\n",
    "                         connection_params = {'user': 'root'}).run()\n",
    "    \n",
    "        version = version + execo.Process(cmd = 'cat ./version-'\n",
    "                                                + get_host_shortname(nodes[i]) \n",
    "                                                + '.txt').run().stdout\n",
    "        execo.Process(cmd = 'rm ./version-'\n",
    "                            + get_host_shortname(nodes[i]) + '.txt').run()\n",
    "\n",
    "    print(colored('VERSION : ' + str(software),\"blue\"), '\\n' + version + '\\n')\n",
    "    return\n",
    "\n",
    "remote_version('smpicc')\n",
    "remote_version('g++')\n",
    "remote_version('pj_dump')"
   ]
  },
  {
   "cell_type": "markdown",
   "metadata": {},
   "source": [
    "#### Chemins (à configurer)"
   ]
  },
  {
   "cell_type": "code",
   "execution_count": 24,
   "metadata": {},
   "outputs": [],
   "source": [
    "path_base = \"/home/nezzine/Stage-POLARIS/SimGrid/examples/SMPI/\" + experiment_name\n",
    "path_src = path_base + '/src/'\n",
    "path_rslt = path_base + '/results/'"
   ]
  },
  {
   "cell_type": "markdown",
   "metadata": {},
   "source": [
    "#### Traitement des données pour les calculs de D et S"
   ]
  },
  {
   "cell_type": "code",
   "execution_count": 25,
   "metadata": {},
   "outputs": [],
   "source": [
    "# Intialise tableau\n",
    "def init_tab(num, elt) :\n",
    "    D = [elt] * num\n",
    "    return D\n",
    "\n",
    "# Parsing the results\n",
    "def parser(num_node,date_precise):\n",
    "    with open( '/home/nezzine/Stage-POLARIS/SimGrid/examples/SMPI/Time_Bcast/results/'\n",
    "               + date_precise.split('_')[0] + '/'\n",
    "               + get_host_shortname(nodes[num_node]) + '_'\n",
    "               + date_precise\n",
    "               + '.txt') as f:\n",
    "        return f.readlines()\n",
    "    \n",
    "# Converting and organizing data\n",
    "def tab_conv(l, NPROCS, precision) :\n",
    "    S = init_tab(NPROCS, None)\n",
    "        \n",
    "    # On récupère les données des fichiers\n",
    "    # Un fichier contient des lignes telles que : From 0 -> S[0] : 0.0819526    \n",
    "    for i in range(0, NPROCS) :\n",
    "        line = l[i].split()\n",
    "        S[int(line[1])] = round(float(line[5]), precision)\n",
    "    return S\n",
    "\n",
    "def delayer(num_node, NPROCS, date, precision):\n",
    "    D = init_tab(NPROCS, 0.0)\n",
    "    \n",
    "    raw_data = parser(num_node, date)\n",
    "    \n",
    "    S = tab_conv(raw_data, NPROCS, precision)\n",
    "    \n",
    "    for p in range(0, NPROCS):\n",
    "        D[p] = round(S[p] - min(S), precision)\n",
    "    return [D, min(S)]"
   ]
  },
  {
   "cell_type": "code",
   "execution_count": null,
   "metadata": {},
   "outputs": [],
   "source": [
    "# Example\n",
    "# delayer(0,10,'2018-06-04_12:38',2)"
   ]
  },
  {
   "cell_type": "markdown",
   "metadata": {},
   "source": [
    "## SIMULATION"
   ]
  },
  {
   "cell_type": "markdown",
   "metadata": {},
   "source": [
    "#### Mise en place de l'environnement (fichiers src simulation...) sur noeuds"
   ]
  },
  {
   "cell_type": "code",
   "execution_count": 35,
   "metadata": {},
   "outputs": [],
   "source": [
    "def env_setup() :\n",
    "    Src_dir = execo.action.Remote(cmd = 'mkdir -p experiments_src',\n",
    "                                  hosts = nodes,\n",
    "                                  connection_params = {'user': 'root'})\n",
    "    Src_get = execo.action.Put(hosts = nodes,\n",
    "                               local_files = [path_src\n",
    "                                   + 'griffon.xml', path_src\n",
    "                                   + 'griffon_hostfile.txt', path_src\n",
    "                                   + 'broadcast.c', path_src \n",
    "                                   + 'Makefile'],\n",
    "                                remote_location = '~/experiments_src',\n",
    "                                connection_params = {'user': 'root'})\n",
    "    Rslt_dir = execo.Process(cmd = 'mkdir -p '\n",
    "                                  + path_rslt\n",
    "                                  + datetime.datetime.now().strftime('%Y-%m-%d'))\n",
    "\n",
    "# On récup les src\n",
    "    if not (Src_dir.run().ok \n",
    "            and Src_get.run().ok \n",
    "            and Rslt_dir.run().ok):\n",
    "        raise Error(\"Environnement could not be set : Check files\")\n"
   ]
  },
  {
   "cell_type": "code",
   "execution_count": 36,
   "metadata": {},
   "outputs": [],
   "source": [
    "env_setup()"
   ]
  },
  {
   "cell_type": "markdown",
   "metadata": {},
   "source": [
    "#### Défintion du thread pour parallélisation de la simulation"
   ]
  },
  {
   "cell_type": "code",
   "execution_count": 27,
   "metadata": {},
   "outputs": [],
   "source": [
    "# Thread pour la simulation // opt.\n",
    "class ParSimer(Thread):\n",
    "\n",
    "    \"\"\"Thread chargé simplement d'afficher une lettre dans la console.\"\"\"\n",
    "    \n",
    "    # Paramètrage du thread\n",
    "    def __init__(self,i,MIN,MAX,N,DELAY):\n",
    "        Thread.__init__(self)\n",
    "        self.MIN = MIN\n",
    "        self.MAX = MAX\n",
    "        self.N = N\n",
    "        self.DELAY = DELAY\n",
    "        self.i = i\n",
    "    \n",
    "    # Set la valeur du délai\n",
    "    def set_delay(self,delay):\n",
    "        self.DELAY = delay\n",
    "    \n",
    "    def get_delay(self):\n",
    "        return self.DELAY\n",
    "    \n",
    "    def get_MIN(self):\n",
    "        return self.MIN\n",
    "    \n",
    "    def run(self):\n",
    "        \"\"\"Code à exécuter pendant l'exécution du thread.\"\"\"\n",
    "        if (DEBUG): \n",
    "            print(\n",
    "                get_host_shortname(nodes[self.i]) + \" => \" + str(self.i) + \" NPROCS = \" + str(NPROCS)\n",
    "             + \" MIN = \" + str(self.MIN)\n",
    "             + \" MAX = \" + str(self.MAX)\n",
    "             + \" N = \" + str(self.N)\n",
    "             + \" DELAY = '\" + self.DELAY + \"'\\n\"\n",
    "            )\n",
    "       \n",
    "        # make run sur toutes la machine dont le thread s'occupe avec ses paramètres\n",
    "        execo.action.Remote(cmd ='cd ~/experiments_src && make && make run NPROCS='\n",
    "                                  + str(NPROCS) + ' MIN='+ str(self.MIN) \n",
    "                                  + ' MAX=' + str(self.MAX) + ' N=' + str(self.N)\n",
    "                                  + \" DELAY='\" + self.DELAY\n",
    "                                  + \"'\" , \n",
    "                            hosts = nodes[self.i], \n",
    "                            connection_params = {'user':'root'}).run().ok\n"
   ]
  },
  {
   "cell_type": "markdown",
   "metadata": {},
   "source": [
    "#### Conversion string < = > int pour manipulation de D & S"
   ]
  },
  {
   "cell_type": "code",
   "execution_count": 28,
   "metadata": {},
   "outputs": [],
   "source": [
    "# Formate le tableau en string pour pouvoir etre passé en ligne de commande\n",
    "def format_cmd(data):\n",
    "    return (' '.join(str(e) for e in data))\n",
    "\n",
    "# Formate le string en tableau d'int pour être manipulé \n",
    "def unformat_cmd(data):\n",
    "    return list(map(float,data.split()))"
   ]
  },
  {
   "cell_type": "markdown",
   "metadata": {},
   "source": [
    "#### Génération du nouvel état initial"
   ]
  },
  {
   "cell_type": "code",
   "execution_count": 29,
   "metadata": {},
   "outputs": [],
   "source": [
    "def generate_Dprime(NPROCS, border_inf, border_sup, precision):\n",
    "    # Variable pour le stockage du nouveau D\n",
    "    new_Dprime = []\n",
    "\n",
    "    for p in range(NPROCS):\n",
    "        random_value = random.uniform(border_inf[p], border_sup[p])\n",
    "        round_value = round(random_value, precision)\n",
    "        new_Dprime.append(round_value)\n",
    "    return format_cmd(new_Dprime)\n",
    "\n",
    "def generate_initial_state(mode, final_state):\n",
    "    borders = unformat_cmd(final_state)\n",
    "    # S'il n'y a pas de limite supérieure, on limite au double de l'état final obtenu\n",
    "    double_Dprime = [(2 * (x)) for x in borders]\n",
    "                      \n",
    "    # Bornes pour le random \n",
    "    border_inf = init_tab(NPROCS, 0.0)\n",
    "    border_sup = double_Dprime\n",
    "    if (mode == \"RAND_SUP\") : \n",
    "        border_sup = borders\n",
    "        new_initial_state =  generate_Dprime(NPROCS, border_inf, border_sup, precision)\n",
    "    elif (mode == \"RAND_INF\") : \n",
    "        border_inf = borders\n",
    "        new_initial_state = generate_Dprime(NPROCS, border_inf, border_sup, precision)\n",
    "    elif (mode == \"RAND\") : \n",
    "        new_initial_state =  generate_Dprime(NPROCS, border_inf, border_sup, precision)\n",
    "    return new_initial_state"
   ]
  },
  {
   "cell_type": "markdown",
   "metadata": {},
   "source": [
    "#### Fonctions pour la simulation"
   ]
  },
  {
   "cell_type": "code",
   "execution_count": 95,
   "metadata": {},
   "outputs": [],
   "source": [
    "def date_setup():\n",
    "    date_precise = datetime.datetime.now().strftime('%Y-%m-%d_%H:%M')\n",
    "    date = date_precise.split('_')[0]\n",
    "    return date_precise, date\n",
    "\n",
    "def get_results(date_precise, q):\n",
    "    date = date_precise.split('_')[0]\n",
    "    execo.action.Get(\n",
    "            hosts = nodes[q],\n",
    "            remote_files = ['~/experiments_src/bcast_results.txt'],\n",
    "            local_location = path_rslt\n",
    "                            + date + '/' \n",
    "                            + get_host_shortname(nodes[q]) + '_'\n",
    "                            + date_precise + '.txt', \n",
    "            connection_params = {'user': 'root'}\n",
    "                       ).run().ok\n",
    "\n",
    "\n",
    "def pj_dump(date, filename, q):\n",
    "        execo.action.Remote(\n",
    "            cmd = 'pj_dump --ignore-incomplete-links ./experiments_src/Time_Bcast.trace > ./experiments_src/Time_Bcast.csv',\n",
    "            hosts = nodes[q],\n",
    "            connection_params = {'user':'root'}\n",
    "        ).run()\n",
    "\n",
    "        execo.action.Remote(\n",
    "            cmd = 'grep State '+ str(filename) + '.csv > ~/experiments_src/Time_Bcast.state.csv',\n",
    "            hosts = nodes[q],\n",
    "            connection_params = {'user': 'root'}\n",
    "        ).run()\n",
    "        return\n",
    "        \n",
    "def get_csv(date, q):\n",
    "        execo.action.Get(\n",
    "            hosts = nodes[q],\n",
    "            remote_files = ['~/experiments_src/*.csv'],\n",
    "            local_location = path_base, \n",
    "            connection_params = {'user': 'root'}\n",
    "        ).run()\n",
    "\n",
    "def draw_ggplot():\n",
    "            %R library(ggplot2)\n",
    "            %R df_state = read.csv(\"/home/nezzine/Stage-POLARIS/SimGrid/examples/SMPI/Time_Bcast/Time_Bcast.csv\", header = F, strip.white=T)\n",
    "            %R names(df_state) = c(\"Type\", \"Rank\", \"Container\", \"Start\", \"End\", \"Duration\", \"Level\", \"State\"); \n",
    "            %R df_state = df_state[!(names(df_state) %in% c(\"Type\",\"Container\",\"Level\"))]\n",
    "            %R df_state$Rank = as.numeric(gsub(\"rank-\",\"\",df_state$Rank))\n",
    "            %R head(df_state)\n",
    "            %R str(df_state)\n",
    "            %R gc = ggplot(data=df_state) + geom_rect(aes(xmin=Start, xmax=End, ymin=Rank, ymax=Rank+1,fill=State)) + scale_fill_brewer(palette=\"Set1\")\n",
    "            %R print(gc)"
   ]
  },
  {
   "cell_type": "code",
   "execution_count": null,
   "metadata": {},
   "outputs": [],
   "source": [
    "def state_match(gap):\n",
    "    "
   ]
  },
  {
   "cell_type": "markdown",
   "metadata": {},
   "source": [
    "#### Code de la simulation"
   ]
  },
  {
   "cell_type": "code",
   "execution_count": 92,
   "metadata": {},
   "outputs": [],
   "source": [
    "# SIMULATION\n",
    "DEBUG = True\n",
    "def simulation(N, NPROCS, fragment_size, precision, mode, catch_me):\n",
    "    \n",
    "    \"\"\"Contrôle de la validité des paramètres\"\"\"\n",
    "    # Taille du fragment ne peut être supérieure à la zone d'itération\n",
    "    if (fragment_size > N): \n",
    "        raise ValueError(\"Fragment size cannot be superior to N\")\n",
    "        \n",
    "    \"\"\"Mise en place de l'environnement et des variables\"\"\"\n",
    "    # Environnement\n",
    "    env_setup() \n",
    "    \n",
    "    # Dates: pour la gestion de fichiers (IMPORTANT pour lecture/écriture)\n",
    "    date_precise, date = date_setup()   \n",
    "    \n",
    "    # Temps d'exécution total\n",
    "    total_execution_time = 0\n",
    "    \n",
    "    # Tableau de threads\n",
    "    machines = init_tab(nodecount, None)\n",
    "      \n",
    "    # position trajectoire cohérente courante\n",
    "    t_curr = 0\n",
    "    \n",
    "    # D de la trajectorie cohérente courante\n",
    "    D_curr = format_cmd( init_tab( NPROCS, 0.0))\n",
    "\n",
    "    fragment_number = int((math.ceil(N / fragment_size)))\n",
    "    \n",
    "    # zone d'itérations à explorer\n",
    "    To_explore = collections.deque()\n",
    "    \n",
    "    # Initialisation des zones à explorer D = '0...0' pour chaque zone T -> (Min d'itération , D initial)\n",
    "    for i in range(fragment_number):\n",
    "        To_explore.append((i * fragment_size, format_cmd(init_tab(NPROCS, 0.0))))\n",
    "\n",
    "    # Round actuel\n",
    "    curr_round = 0\n",
    "    \n",
    "    # Liste des trajectoires pour un temps t et un D donnée\n",
    "    sim = OrderedDict()\n",
    "    \n",
    "    # Vrai si un état final a fusionné avec un état initial au moins une fois\n",
    "    success = False \n",
    "    \n",
    "    catch_me_ind = 0\n",
    "    \n",
    "    while(True):\n",
    "        curr_round = curr_round + 1\n",
    "        \n",
    "        # Zones restantes à explorer\n",
    "        number_paths_To_explore = len(To_explore)\n",
    "        # Trajectoire cohérente complète trouvé : FIN DE SIMULATION\n",
    "        if (t_curr >= N) :\n",
    "            cprint (\"Total time : \" + str(total_execution_time) , \"grey\" , \"on_yellow\")\n",
    "            cprint (\"Success : \" + str(success) , \"grey\" , \"on_green\")\n",
    "            break;        \n",
    "        if (number_paths_To_explore  == 0):\n",
    "            raise \"No path to explore left !\"\n",
    "        # Il n'existe pas encore de trajectoire cohérente -> Nouveau round\n",
    "        cprint(\"--------------------------------------------  ROUND :  \" + str(curr_round) + \"   --------------------------------------------\\n\",\"red\", attrs=['reverse', 'blink'])\n",
    "        \n",
    "\n",
    "        \n",
    "        # Nombre de tâches parallèles lançables\n",
    "        number_launchable_tasks = min(nodecount, number_paths_To_explore)\n",
    "        \n",
    "        # Affichage des paramètres\n",
    "        cprint (\"  || LAUNCHING || \\n\",\"green\", attrs=[ 'reverse', 'blink'])\n",
    "        if (DEBUG): \n",
    "            cprint ( \"TO EXPLORE : \" , \"blue\")\n",
    "            for key, value in (To_explore):\n",
    "                print( colored( str(key), \"green\") + ' -> ' + str(value))\n",
    "        \n",
    "        \"\"\" Paramètrage des machines \"\"\"\n",
    "        \n",
    "        # Soit j'ai plus de zone à explorer que de machines disponibles soit l'inverse\n",
    "        for q in range(number_launchable_tasks):\n",
    "            \n",
    "            # On récupère la première zone à explorer\n",
    "            parameters = To_explore.popleft()\n",
    "            \n",
    "            # MIN est le champ de gauche\n",
    "            MIN = parameters[0]\n",
    "            \n",
    "            # MAX de la zone à explorer vaut le min + la taille du slot\n",
    "            MAX = min (MIN + fragment_size, N)\n",
    "            \n",
    "            # D est le champ de droite\n",
    "            delay = parameters[1]\n",
    "            \n",
    "            # Paramètrage des machines\n",
    "            machines[q] = ParSimer(q, MIN, MAX, N, delay)\n",
    "            #print(\"Machine \" + str(q) + \" -> MIN :\" + str(MIN) + \" MAX : \" + str(MAX) + \" D : \"+ delay)   \n",
    "                \n",
    "        \"\"\" Simulation \"\"\"  \n",
    "        # Lancement de la simulation\n",
    "        for q in range(number_launchable_tasks):\n",
    "            machines[q].start()\n",
    "            \n",
    "        # Fin de simulation\n",
    "        for q in range(number_launchable_tasks) :\n",
    "\n",
    "            machines[q].join()\n",
    "            \n",
    "            filename = '~/experiments_src/Time_Bcast'\n",
    "            #path_rslt + date + '/' + get_host_shortname(nodes[q]) + '_'+ date_precise\n",
    "            get_results(date_precise, q)\n",
    "            pj_dump(date, filename, q)\n",
    "            get_csv(date, q)\n",
    "            draw_ggplot()\n",
    "            \n",
    "          \n",
    "        \"\"\" Analyse des résultats\"\"\"    \n",
    "        # Traitement des données\n",
    "        for q in range(number_launchable_tasks):\n",
    "            # On récupère les paramètres des machines\n",
    "            t = machines[q].get_MIN()\n",
    "            D = machines[q].get_delay()\n",
    "            \n",
    "            # Calcul du délai\n",
    "            # On récupère D et S\n",
    "            raw_data = delayer(q, NPROCS, date_precise,precision)\n",
    "            \n",
    "            # Filtre D : Calcul du délai\n",
    "            Dprime = format_cmd(raw_data[0])\n",
    "            \n",
    "            #Filte S : Calcul du temps d'éxécution total \n",
    "            T = raw_data[1]\n",
    "            \n",
    "            # Ajout dans ma table (Dprime, round, machine qui l'a calculé, temps)\n",
    "            sim.setdefault(t,{}).update({D:(Dprime,curr_round,q,T)})\n",
    "            MAX = min (t + fragment_size, N)\n",
    "        \n",
    "        # Affichage des paramètres\n",
    "        print ( colored (\"T_curr : \" , \"yellow\") , str(t_curr))\n",
    "        if (DEBUG) :\n",
    "            print ( colored (\"D_curr : \" , \"yellow\") , str(D_curr))\n",
    "            print ( colored (\"Dprime : \", \"yellow\") , str(Dprime))\n",
    "        print ( colored (\"total execution time : \", \"red\") , str(total_execution_time) + \"\\n\") \n",
    "        \n",
    "        merged_paths = 0\n",
    "        # Calcul de la trajectoire cohérente\n",
    "        while (t_curr < N and t_curr in sim and D_curr in sim[t_curr]):\n",
    "            merged_paths += 1\n",
    "            # Update le temps d'exécution\n",
    "            total_execution_time += sim[t_curr][D_curr][3]\n",
    "            \n",
    "            # Update du temps d'exécution dans le dernier fragment\n",
    "            if (t_curr + fragment_size >= N) : total_execution_time += max(unformat_cmd(sim[t_curr][D_curr][0]))\n",
    "            \n",
    "            # Update des t_curr et D_curr\n",
    "            D_curr = sim[t_curr][D_curr][0]\n",
    "            t_curr = min(t_curr + fragment_size, N)\n",
    "        if (merged_paths > 1) : \n",
    "            cprint(\"****** SUCCESS : \" + str(merged_paths), attrs=['reverse', 'bold'])\n",
    "            success = True \n",
    "        \n",
    "        # Affichage des résultats\n",
    "        cprint (\"\\n  || RESULTS || \\n\",\"red\", attrs=[ 'reverse', 'blink'])\n",
    "        if (DEBUG):\n",
    "            cprint ( \"TO EXPLORE : \" , \"blue\")\n",
    "            for key, value in (To_explore):\n",
    "                print( colored( str(key), \"green\") + ' -> ' + str(value)) \n",
    "            pretty (sim) \n",
    "        print ( colored (\"T_curr : \" , \"yellow\", attrs=[ 'bold']), str(t_curr))\n",
    "        \n",
    "        if (DEBUG):\n",
    "            print ( colored (\"D_curr : \" , \"yellow\", attrs=[ 'bold']), str(D_curr))\n",
    "            print ( colored (\"Dprime : \", \"yellow\", attrs=[ 'bold']) , str(Dprime))\n",
    "            \n",
    "        print ( colored (\"total execution time : \", \"red\", attrs=[ 'bold']) , str(total_execution_time) + \"\\n\") \n",
    "        \n",
    "        \n",
    "        \"\"\" Nouveau paramètres \"\"\"\n",
    "        cprint(\"  || ANALYSIS || \\n\",\"magenta\", attrs=[ 'reverse', 'blink'])\n",
    "        while (To_explore and To_explore[0][0] <= t_curr):\n",
    "            To_explore.popleft()\n",
    "        \n",
    "        for q in reversed(range(number_launchable_tasks)):\n",
    "            t = machines[q].get_MIN()\n",
    "            D = machines[q].get_delay()\n",
    "            \n",
    "            MAX = min(t + fragment_size, N)\n",
    "            Dprime = sim[t][D][0]\n",
    "           \n",
    "            # Zone valide\n",
    "            if(MAX < N):\n",
    "                # Zone pas encore relié à la trajectoire initiale\n",
    "                if (MAX > t_curr):\n",
    "                    caught = False\n",
    "                # Ajout dans les zones à explorer du nouveau point de départ à exploiter en fonction du mode\n",
    "                    # Test catch me sur 2^catch_me_ind round\n",
    "                    if (catch_me and 1 << catch_me_ind == curr_round):\n",
    "                        catch_me_ind += 1\n",
    "                        try :\n",
    "                            caught = Dprime in sim[MAX]\n",
    "                        except KeyError:\n",
    "                            pass \n",
    "                       \n",
    "                    if (not catch_me or not caught and mode != 'FIX'):\n",
    "                        Dprime = generate_initial_state(mode, Dprime)\n",
    "                        if (DEBUG) : print(\"[\"+str(MAX) +\"] Generated \" + str(mode) + \" Dprime : \" + str(Dprime))\n",
    "                    # Mode fix implicite : append sans modification des valeurs MAX et Dprime    \n",
    "                    To_explore.appendleft((MAX, Dprime))\n",
    "        \n",
    "        if (t_curr != N):\n",
    "            To_explore.appendleft((t_curr, D_curr))\n",
    "        if (DEBUG):\n",
    "            cprint ( \"TO EXPLORE : \" , \"blue\")\n",
    "            for key, value in (To_explore):\n",
    "                print( colored( str(key), \"green\") + ' -> ' + str(value))\n",
    "        "
   ]
  },
  {
   "cell_type": "markdown",
   "metadata": {},
   "source": [
    "## SIMULATION"
   ]
  },
  {
   "cell_type": "code",
   "execution_count": null,
   "metadata": {
    "scrolled": true
   },
   "outputs": [
    {
     "name": "stdout",
     "output_type": "stream",
     "text": [
      "\u001b[5m\u001b[7m\u001b[31m--------------------------------------------  ROUND :  1   --------------------------------------------\n",
      "\u001b[0m\n",
      "\u001b[5m\u001b[7m\u001b[32m  || LAUNCHING || \n",
      "\u001b[0m\n",
      "\u001b[34mTO EXPLORE : \u001b[0m\n",
      "\u001b[32m0\u001b[0m -> 0.0 0.0 0.0 0.0 0.0 0.0 0.0 0.0 0.0 0.0\n",
      "\u001b[32m5\u001b[0m -> 0.0 0.0 0.0 0.0 0.0 0.0 0.0 0.0 0.0 0.0\n",
      "\u001b[32m10\u001b[0m -> 0.0 0.0 0.0 0.0 0.0 0.0 0.0 0.0 0.0 0.0\n",
      "\u001b[32m15\u001b[0m -> 0.0 0.0 0.0 0.0 0.0 0.0 0.0 0.0 0.0 0.0\n",
      "\u001b[32m20\u001b[0m -> 0.0 0.0 0.0 0.0 0.0 0.0 0.0 0.0 0.0 0.0\n",
      "\u001b[32m25\u001b[0m -> 0.0 0.0 0.0 0.0 0.0 0.0 0.0 0.0 0.0 0.0\n",
      "\u001b[32m30\u001b[0m -> 0.0 0.0 0.0 0.0 0.0 0.0 0.0 0.0 0.0 0.0\n",
      "\u001b[32m35\u001b[0m -> 0.0 0.0 0.0 0.0 0.0 0.0 0.0 0.0 0.0 0.0\n",
      "\u001b[32m40\u001b[0m -> 0.0 0.0 0.0 0.0 0.0 0.0 0.0 0.0 0.0 0.0\n",
      "\u001b[32m45\u001b[0m -> 0.0 0.0 0.0 0.0 0.0 0.0 0.0 0.0 0.0 0.0\n",
      "\u001b[32m50\u001b[0m -> 0.0 0.0 0.0 0.0 0.0 0.0 0.0 0.0 0.0 0.0\n",
      "\u001b[32m55\u001b[0m -> 0.0 0.0 0.0 0.0 0.0 0.0 0.0 0.0 0.0 0.0\n",
      "\u001b[32m60\u001b[0m -> 0.0 0.0 0.0 0.0 0.0 0.0 0.0 0.0 0.0 0.0\n",
      "\u001b[32m65\u001b[0m -> 0.0 0.0 0.0 0.0 0.0 0.0 0.0 0.0 0.0 0.0\n",
      "\u001b[32m70\u001b[0m -> 0.0 0.0 0.0 0.0 0.0 0.0 0.0 0.0 0.0 0.0\n",
      "\u001b[32m75\u001b[0m -> 0.0 0.0 0.0 0.0 0.0 0.0 0.0 0.0 0.0 0.0\n",
      "\u001b[32m80\u001b[0m -> 0.0 0.0 0.0 0.0 0.0 0.0 0.0 0.0 0.0 0.0\n",
      "\u001b[32m85\u001b[0m -> 0.0 0.0 0.0 0.0 0.0 0.0 0.0 0.0 0.0 0.0\n",
      "\u001b[32m90\u001b[0m -> 0.0 0.0 0.0 0.0 0.0 0.0 0.0 0.0 0.0 0.0\n",
      "\u001b[32m95\u001b[0m -> 0.0 0.0 0.0 0.0 0.0 0.0 0.0 0.0 0.0 0.0\n",
      "grisou-47 => 0 NPROCS = 10 MIN = 0 MAX = 5 N = 100 DELAY = '0.0 0.0 0.0 0.0 0.0 0.0 0.0 0.0 0.0 0.0'\n",
      "\n",
      "grisou-48 => 1 NPROCS = 10 MIN = 5 MAX = 10 N = 100 DELAY = '0.0 0.0 0.0 0.0 0.0 0.0 0.0 0.0 0.0 0.0'\n",
      "\n",
      "grisou-5 => 2 NPROCS = 10 MIN = 10 MAX = 15 N = 100 DELAY = '0.0 0.0 0.0 0.0 0.0 0.0 0.0 0.0 0.0 0.0'\n",
      "\n",
      "pj_dump DONE\n"
     ]
    },
    {
     "name": "stderr",
     "output_type": "stream",
     "text": [
      "/home/nezzine/.local/lib/python3.5/site-packages/rpy2/robjects/pandas2ri.py:191: FutureWarning: from_items is deprecated. Please use DataFrame.from_dict(dict(items), ...) instead. DataFrame.from_dict(OrderedDict(items)) may be used to preserve the key order.\n",
      "  res = PandasDataFrame.from_items(items)\n"
     ]
    },
    {
     "data": {
      "text/plain": [
       "'data.frame':\t126 obs. of  7 variables:\n",
       " $ Rank    : num  0 0 0 0 0 0 0 0 0 0 ...\n",
       " $ Start   : num  0 0 0 0 0 ...\n",
       " $ End     : num  0.00968 0.00149 0.00149 0.00149 0.00149 ...\n",
       " $ Duration: num  0.00968 0.00149 0.00149 0.00149 0.00149 ...\n",
       " $ State   : Factor w/ 14 levels \"\",\"PMPI_Bcast\",..: 1 5 5 5 5 6 7 13 9 9 ...\n",
       " $ NA      : Factor w/ 11 levels \"\",\"rank-0\",\"rank-1\",..: 1 3 4 6 10 4 5 11 7 8 ...\n",
       " $ NA.1    : Factor w/ 46 levels \"\",\"0_1_-3334_27\",..: 1 3 5 6 7 8 16 44 25 29 ...\n"
      ]
     },
     "metadata": {},
     "output_type": "display_data"
    },
    {
     "data": {
      "image/png": "[encoded data removed]"
     },
     "metadata": {},
     "output_type": "display_data"
    },
    {
     "name": "stdout",
     "output_type": "stream",
     "text": [
      "pj_dump DONE\n"
     ]
    },
    {
     "name": "stderr",
     "output_type": "stream",
     "text": [
      "/home/nezzine/.local/lib/python3.5/site-packages/rpy2/robjects/pandas2ri.py:191: FutureWarning: from_items is deprecated. Please use DataFrame.from_dict(dict(items), ...) instead. DataFrame.from_dict(OrderedDict(items)) may be used to preserve the key order.\n",
      "  res = PandasDataFrame.from_items(items)\n"
     ]
    },
    {
     "data": {
      "text/plain": [
       "'data.frame':\t126 obs. of  7 variables:\n",
       " $ Rank    : num  0 0 0 0 0 0 0 0 0 0 ...\n",
       " $ Start   : num  0 0 0 0 0 ...\n",
       " $ End     : num  0.00968 0.00149 0.00149 0.00149 0.00149 ...\n",
       " $ Duration: num  0.00968 0.00149 0.00149 0.00149 0.00149 ...\n",
       " $ State   : Factor w/ 14 levels \"\",\"PMPI_Bcast\",..: 1 10 10 10 10 11 12 8 14 14 ...\n",
       " $ NA      : Factor w/ 11 levels \"\",\"rank-0\",\"rank-1\",..: 1 8 9 11 5 9 10 6 2 3 ...\n",
       " $ NA.1    : Factor w/ 46 levels \"\",\"0_1_-3334_21\",..: 1 20 22 23 18 26 33 14 40 44 ...\n"
      ]
     },
     "metadata": {},
     "output_type": "display_data"
    },
    {
     "data": {
      "image/png": "[encoded data removed]"
     },
     "metadata": {},
     "output_type": "display_data"
    },
    {
     "name": "stdout",
     "output_type": "stream",
     "text": [
      "pj_dump DONE\n"
     ]
    },
    {
     "name": "stderr",
     "output_type": "stream",
     "text": [
      "/home/nezzine/.local/lib/python3.5/site-packages/rpy2/robjects/pandas2ri.py:191: FutureWarning: from_items is deprecated. Please use DataFrame.from_dict(dict(items), ...) instead. DataFrame.from_dict(OrderedDict(items)) may be used to preserve the key order.\n",
      "  res = PandasDataFrame.from_items(items)\n"
     ]
    },
    {
     "data": {
      "text/plain": [
       "'data.frame':\t126 obs. of  7 variables:\n",
       " $ Rank    : num  0 0 0 0 0 0 0 0 0 0 ...\n",
       " $ Start   : num  0 0 0 0 0 ...\n",
       " $ End     : num  0.00968 0.00149 0.00149 0.00149 0.00149 ...\n",
       " $ Duration: num  0.00968 0.00149 0.00149 0.00149 0.00149 ...\n",
       " $ State   : Factor w/ 14 levels \"\",\"PMPI_Bcast\",..: 1 5 5 5 5 6 7 13 9 9 ...\n",
       " $ NA      : Factor w/ 11 levels \"\",\"rank-0\",\"rank-1\",..: 1 3 4 6 10 4 5 11 7 8 ...\n",
       " $ NA.1    : Factor w/ 46 levels \"\",\"0_1_-3334_27\",..: 1 3 5 6 7 8 16 44 25 29 ...\n"
      ]
     },
     "metadata": {},
     "output_type": "display_data"
    },
    {
     "data": {
      "image/png": "[encoded data removed]"
     },
     "metadata": {},
     "output_type": "display_data"
    },
    {
     "name": "stdout",
     "output_type": "stream",
     "text": [
      "\u001b[33mT_curr : \u001b[0m 0\n",
      "\u001b[33mD_curr : \u001b[0m 0.0 0.0 0.0 0.0 0.0 0.0 0.0 0.0 0.0 0.0\n",
      "\u001b[33mDprime : \u001b[0m 0.0037 0.0043 0.0025 0.0031 0.0 0.0016 0.0025 0.0031 0.0028 0.0037\n",
      "\u001b[31mtotal execution time : \u001b[0m 0\n",
      "\n",
      "\u001b[5m\u001b[7m\u001b[31m\n",
      "  || RESULTS || \n",
      "\u001b[0m\n",
      "\u001b[34mTO EXPLORE : \u001b[0m\n",
      "\u001b[32m15\u001b[0m -> 0.0 0.0 0.0 0.0 0.0 0.0 0.0 0.0 0.0 0.0\n",
      "\u001b[32m20\u001b[0m -> 0.0 0.0 0.0 0.0 0.0 0.0 0.0 0.0 0.0 0.0\n",
      "\u001b[32m25\u001b[0m -> 0.0 0.0 0.0 0.0 0.0 0.0 0.0 0.0 0.0 0.0\n",
      "\u001b[32m30\u001b[0m -> 0.0 0.0 0.0 0.0 0.0 0.0 0.0 0.0 0.0 0.0\n",
      "\u001b[32m35\u001b[0m -> 0.0 0.0 0.0 0.0 0.0 0.0 0.0 0.0 0.0 0.0\n",
      "\u001b[32m40\u001b[0m -> 0.0 0.0 0.0 0.0 0.0 0.0 0.0 0.0 0.0 0.0\n",
      "\u001b[32m45\u001b[0m -> 0.0 0.0 0.0 0.0 0.0 0.0 0.0 0.0 0.0 0.0\n",
      "\u001b[32m50\u001b[0m -> 0.0 0.0 0.0 0.0 0.0 0.0 0.0 0.0 0.0 0.0\n",
      "\u001b[32m55\u001b[0m -> 0.0 0.0 0.0 0.0 0.0 0.0 0.0 0.0 0.0 0.0\n",
      "\u001b[32m60\u001b[0m -> 0.0 0.0 0.0 0.0 0.0 0.0 0.0 0.0 0.0 0.0\n",
      "\u001b[32m65\u001b[0m -> 0.0 0.0 0.0 0.0 0.0 0.0 0.0 0.0 0.0 0.0\n",
      "\u001b[32m70\u001b[0m -> 0.0 0.0 0.0 0.0 0.0 0.0 0.0 0.0 0.0 0.0\n",
      "\u001b[32m75\u001b[0m -> 0.0 0.0 0.0 0.0 0.0 0.0 0.0 0.0 0.0 0.0\n",
      "\u001b[32m80\u001b[0m -> 0.0 0.0 0.0 0.0 0.0 0.0 0.0 0.0 0.0 0.0\n",
      "\u001b[32m85\u001b[0m -> 0.0 0.0 0.0 0.0 0.0 0.0 0.0 0.0 0.0 0.0\n",
      "\u001b[32m90\u001b[0m -> 0.0 0.0 0.0 0.0 0.0 0.0 0.0 0.0 0.0 0.0\n",
      "\u001b[32m95\u001b[0m -> 0.0 0.0 0.0 0.0 0.0 0.0 0.0 0.0 0.0 0.0\n",
      "\u001b[35m0\u001b[0m\n",
      "\t\u001b[35m0.0 0.0 0.0 0.0 0.0 0.0 0.0 0.0 0.0 0.0\u001b[0m\n",
      "\t\t('0.0037 0.0043 0.0025 0.0031 0.0 0.0016 0.0025 0.0031 0.0028 0.0037', 1, 0, 0.0054)\n",
      "\u001b[35m5\u001b[0m\n",
      "\t\u001b[35m0.0 0.0 0.0 0.0 0.0 0.0 0.0 0.0 0.0 0.0\u001b[0m\n",
      "\t\t('0.0016 0.0025 0.0031 0.0028 0.0037 0.0037 0.0043 0.0025 0.0031 0.0', 1, 1, 0.0054)\n",
      "\u001b[35m10\u001b[0m\n",
      "\t\u001b[35m0.0 0.0 0.0 0.0 0.0 0.0 0.0 0.0 0.0 0.0\u001b[0m\n",
      "\t\t('0.0037 0.0043 0.0025 0.0031 0.0 0.0016 0.0025 0.0031 0.0028 0.0037', 1, 2, 0.0054)\n",
      "\u001b[1m\u001b[33mT_curr : \u001b[0m 5\n",
      "\u001b[1m\u001b[33mD_curr : \u001b[0m 0.0037 0.0043 0.0025 0.0031 0.0 0.0016 0.0025 0.0031 0.0028 0.0037\n",
      "\u001b[1m\u001b[33mDprime : \u001b[0m 0.0037 0.0043 0.0025 0.0031 0.0 0.0016 0.0025 0.0031 0.0028 0.0037\n",
      "\u001b[1m\u001b[31mtotal execution time : \u001b[0m 0.0054\n",
      "\n",
      "\u001b[5m\u001b[7m\u001b[35m  || ANALYSIS || \n",
      "\u001b[0m\n",
      "[15] Generated RAND Dprime : 0.0026 0.0053 0.0023 0.0053 0.0 0.0021 0.0023 0.0048 0.0032 0.0018\n",
      "[10] Generated RAND Dprime : 0.0008 0.0043 0.0059 0.0042 0.0034 0.0052 0.0065 0.0008 0.0056 0.0\n",
      "\u001b[34mTO EXPLORE : \u001b[0m\n",
      "\u001b[32m5\u001b[0m -> 0.0037 0.0043 0.0025 0.0031 0.0 0.0016 0.0025 0.0031 0.0028 0.0037\n",
      "\u001b[32m10\u001b[0m -> 0.0008 0.0043 0.0059 0.0042 0.0034 0.0052 0.0065 0.0008 0.0056 0.0\n",
      "\u001b[32m15\u001b[0m -> 0.0026 0.0053 0.0023 0.0053 0.0 0.0021 0.0023 0.0048 0.0032 0.0018\n",
      "\u001b[32m15\u001b[0m -> 0.0 0.0 0.0 0.0 0.0 0.0 0.0 0.0 0.0 0.0\n",
      "\u001b[32m20\u001b[0m -> 0.0 0.0 0.0 0.0 0.0 0.0 0.0 0.0 0.0 0.0\n",
      "\u001b[32m25\u001b[0m -> 0.0 0.0 0.0 0.0 0.0 0.0 0.0 0.0 0.0 0.0\n",
      "\u001b[32m30\u001b[0m -> 0.0 0.0 0.0 0.0 0.0 0.0 0.0 0.0 0.0 0.0\n",
      "\u001b[32m35\u001b[0m -> 0.0 0.0 0.0 0.0 0.0 0.0 0.0 0.0 0.0 0.0\n",
      "\u001b[32m40\u001b[0m -> 0.0 0.0 0.0 0.0 0.0 0.0 0.0 0.0 0.0 0.0\n",
      "\u001b[32m45\u001b[0m -> 0.0 0.0 0.0 0.0 0.0 0.0 0.0 0.0 0.0 0.0\n",
      "\u001b[32m50\u001b[0m -> 0.0 0.0 0.0 0.0 0.0 0.0 0.0 0.0 0.0 0.0\n",
      "\u001b[32m55\u001b[0m -> 0.0 0.0 0.0 0.0 0.0 0.0 0.0 0.0 0.0 0.0\n",
      "\u001b[32m60\u001b[0m -> 0.0 0.0 0.0 0.0 0.0 0.0 0.0 0.0 0.0 0.0\n",
      "\u001b[32m65\u001b[0m -> 0.0 0.0 0.0 0.0 0.0 0.0 0.0 0.0 0.0 0.0\n",
      "\u001b[32m70\u001b[0m -> 0.0 0.0 0.0 0.0 0.0 0.0 0.0 0.0 0.0 0.0\n",
      "\u001b[32m75\u001b[0m -> 0.0 0.0 0.0 0.0 0.0 0.0 0.0 0.0 0.0 0.0\n",
      "\u001b[32m80\u001b[0m -> 0.0 0.0 0.0 0.0 0.0 0.0 0.0 0.0 0.0 0.0\n",
      "\u001b[32m85\u001b[0m -> 0.0 0.0 0.0 0.0 0.0 0.0 0.0 0.0 0.0 0.0\n",
      "\u001b[32m90\u001b[0m -> 0.0 0.0 0.0 0.0 0.0 0.0 0.0 0.0 0.0 0.0\n",
      "\u001b[32m95\u001b[0m -> 0.0 0.0 0.0 0.0 0.0 0.0 0.0 0.0 0.0 0.0\n",
      "\u001b[5m\u001b[7m\u001b[31m--------------------------------------------  ROUND :  2   --------------------------------------------\n",
      "\u001b[0m\n",
      "\u001b[5m\u001b[7m\u001b[32m  || LAUNCHING || \n",
      "\u001b[0m\n",
      "\u001b[34mTO EXPLORE : \u001b[0m\n",
      "\u001b[32m5\u001b[0m -> 0.0037 0.0043 0.0025 0.0031 0.0 0.0016 0.0025 0.0031 0.0028 0.0037\n",
      "\u001b[32m10\u001b[0m -> 0.0008 0.0043 0.0059 0.0042 0.0034 0.0052 0.0065 0.0008 0.0056 0.0\n",
      "\u001b[32m15\u001b[0m -> 0.0026 0.0053 0.0023 0.0053 0.0 0.0021 0.0023 0.0048 0.0032 0.0018\n",
      "\u001b[32m15\u001b[0m -> 0.0 0.0 0.0 0.0 0.0 0.0 0.0 0.0 0.0 0.0\n",
      "\u001b[32m20\u001b[0m -> 0.0 0.0 0.0 0.0 0.0 0.0 0.0 0.0 0.0 0.0\n",
      "\u001b[32m25\u001b[0m -> 0.0 0.0 0.0 0.0 0.0 0.0 0.0 0.0 0.0 0.0\n",
      "\u001b[32m30\u001b[0m -> 0.0 0.0 0.0 0.0 0.0 0.0 0.0 0.0 0.0 0.0\n",
      "\u001b[32m35\u001b[0m -> 0.0 0.0 0.0 0.0 0.0 0.0 0.0 0.0 0.0 0.0\n",
      "\u001b[32m40\u001b[0m -> 0.0 0.0 0.0 0.0 0.0 0.0 0.0 0.0 0.0 0.0\n",
      "\u001b[32m45\u001b[0m -> 0.0 0.0 0.0 0.0 0.0 0.0 0.0 0.0 0.0 0.0\n",
      "\u001b[32m50\u001b[0m -> 0.0 0.0 0.0 0.0 0.0 0.0 0.0 0.0 0.0 0.0\n",
      "\u001b[32m55\u001b[0m -> 0.0 0.0 0.0 0.0 0.0 0.0 0.0 0.0 0.0 0.0\n",
      "\u001b[32m60\u001b[0m -> 0.0 0.0 0.0 0.0 0.0 0.0 0.0 0.0 0.0 0.0\n",
      "\u001b[32m65\u001b[0m -> 0.0 0.0 0.0 0.0 0.0 0.0 0.0 0.0 0.0 0.0\n",
      "\u001b[32m70\u001b[0m -> 0.0 0.0 0.0 0.0 0.0 0.0 0.0 0.0 0.0 0.0\n",
      "\u001b[32m75\u001b[0m -> 0.0 0.0 0.0 0.0 0.0 0.0 0.0 0.0 0.0 0.0\n",
      "\u001b[32m80\u001b[0m -> 0.0 0.0 0.0 0.0 0.0 0.0 0.0 0.0 0.0 0.0\n",
      "\u001b[32m85\u001b[0m -> 0.0 0.0 0.0 0.0 0.0 0.0 0.0 0.0 0.0 0.0\n",
      "\u001b[32m90\u001b[0m -> 0.0 0.0 0.0 0.0 0.0 0.0 0.0 0.0 0.0 0.0\n",
      "\u001b[32m95\u001b[0m -> 0.0 0.0 0.0 0.0 0.0 0.0 0.0 0.0 0.0 0.0\n",
      "grisou-47 => 0 NPROCS = 10 MIN = 5 MAX = 10 N = 100 DELAY = '0.0037 0.0043 0.0025 0.0031 0.0 0.0016 0.0025 0.0031 0.0028 0.0037'\n",
      "\n",
      "grisou-48 => 1 NPROCS = 10 MIN = 10 MAX = 15 N = 100 DELAY = '0.0008 0.0043 0.0059 0.0042 0.0034 0.0052 0.0065 0.0008 0.0056 0.0'\n",
      "\n",
      "grisou-5 => 2 NPROCS = 10 MIN = 15 MAX = 20 N = 100 DELAY = '0.0026 0.0053 0.0023 0.0053 0.0 0.0021 0.0023 0.0048 0.0032 0.0018'\n",
      "\n",
      "pj_dump DONE\n"
     ]
    },
    {
     "name": "stderr",
     "output_type": "stream",
     "text": [
      "/home/nezzine/.local/lib/python3.5/site-packages/rpy2/robjects/pandas2ri.py:191: FutureWarning: from_items is deprecated. Please use DataFrame.from_dict(dict(items), ...) instead. DataFrame.from_dict(OrderedDict(items)) may be used to preserve the key order.\n",
      "  res = PandasDataFrame.from_items(items)\n"
     ]
    },
    {
     "data": {
      "text/plain": [
       "'data.frame':\t126 obs. of  7 variables:\n",
       " $ Rank    : num  0 0 0 0 0 0 0 0 0 0 ...\n",
       " $ Start   : num  0 0.000112 0.000112 0.000112 0.000112 ...\n",
       " $ End     : num  0.00983 0.00157 0.00166 0.00166 0.00168 ...\n",
       " $ Duration: num  0.00983 0.00146 0.00155 0.00155 0.00157 ...\n",
       " $ State   : Factor w/ 14 levels \"\",\"PMPI_Bcast\",..: 1 10 10 10 10 11 8 12 14 14 ...\n",
       " $ NA      : Factor w/ 11 levels \"\",\"rank-0\",\"rank-1\",..: 1 8 9 5 11 9 6 10 2 3 ...\n",
       " $ NA.1    : Factor w/ 46 levels \"\",\"0_1_-3334_21\",..: 1 20 22 18 23 27 12 33 40 43 ...\n"
      ]
     },
     "metadata": {},
     "output_type": "display_data"
    },
    {
     "data": {
      "image/png": "[encoded data removed]"
     },
     "metadata": {},
     "output_type": "display_data"
    },
    {
     "name": "stdout",
     "output_type": "stream",
     "text": [
      "pj_dump DONE\n"
     ]
    },
    {
     "name": "stderr",
     "output_type": "stream",
     "text": [
      "/home/nezzine/.local/lib/python3.5/site-packages/rpy2/robjects/pandas2ri.py:191: FutureWarning: from_items is deprecated. Please use DataFrame.from_dict(dict(items), ...) instead. DataFrame.from_dict(OrderedDict(items)) may be used to preserve the key order.\n",
      "  res = PandasDataFrame.from_items(items)\n"
     ]
    },
    {
     "data": {
      "text/plain": [
       "'data.frame':\t126 obs. of  7 variables:\n",
       " $ Rank    : num  0 0 0 0 0 0 0 0 0 0 ...\n",
       " $ Start   : num  0.0 5.6e-05 5.6e-05 5.6e-05 5.6e-05 ...\n",
       " $ End     : num  0.01013 0.00151 0.00164 0.00173 0.00175 ...\n",
       " $ Duration: num  0.01013 0.00145 0.00159 0.00168 0.00169 ...\n",
       " $ State   : Factor w/ 14 levels \"\",\"PMPI_Bcast\",..: 1 5 5 5 5 9 9 13 6 7 ...\n",
       " $ NA      : Factor w/ 11 levels \"\",\"rank-0\",\"rank-1\",..: 1 6 3 10 4 7 8 11 4 5 ...\n",
       " $ NA.1    : Factor w/ 46 levels \"\",\"0_1_-3334_27\",..: 1 6 3 7 5 27 29 42 8 14 ...\n"
      ]
     },
     "metadata": {},
     "output_type": "display_data"
    },
    {
     "data": {
      "image/png": "[encoded data removed]"
     },
     "metadata": {},
     "output_type": "display_data"
    },
    {
     "name": "stdout",
     "output_type": "stream",
     "text": [
      "pj_dump DONE\n"
     ]
    },
    {
     "name": "stderr",
     "output_type": "stream",
     "text": [
      "/home/nezzine/.local/lib/python3.5/site-packages/rpy2/robjects/pandas2ri.py:191: FutureWarning: from_items is deprecated. Please use DataFrame.from_dict(dict(items), ...) instead. DataFrame.from_dict(OrderedDict(items)) may be used to preserve the key order.\n",
      "  res = PandasDataFrame.from_items(items)\n"
     ]
    },
    {
     "data": {
      "text/plain": [
       "'data.frame':\t126 obs. of  7 variables:\n",
       " $ Rank    : num  0 0 0 0 0 0 0 0 0 0 ...\n",
       " $ Start   : num  0 0.000147 0.000147 0.000147 0.000147 ...\n",
       " $ End     : num  0.01 0.00142 0.00145 0.00163 0.00164 ...\n",
       " $ Duration: num  0.01 0.00127 0.0013 0.00148 0.0015 ...\n",
       " $ State   : Factor w/ 14 levels \"\",\"PMPI_Bcast\",..: 1 10 10 10 10 14 14 11 12 8 ...\n",
       " $ NA      : Factor w/ 11 levels \"\",\"rank-0\",\"rank-1\",..: 1 11 8 9 5 2 3 9 10 6 ...\n",
       " $ NA.1    : Factor w/ 46 levels \"\",\"0_1_-3334_19\",..: 1 23 20 22 18 42 44 26 31 12 ...\n"
      ]
     },
     "metadata": {},
     "output_type": "display_data"
    },
    {
     "data": {
      "image/png": "[encoded data removed]"
     },
     "metadata": {},
     "output_type": "display_data"
    },
    {
     "name": "stdout",
     "output_type": "stream",
     "text": [
      "\u001b[33mT_curr : \u001b[0m 5\n",
      "\u001b[33mD_curr : \u001b[0m 0.0037 0.0043 0.0025 0.0031 0.0 0.0016 0.0025 0.0031 0.0028 0.0037\n",
      "\u001b[33mDprime : \u001b[0m 0.0016 0.0025 0.0031 0.0028 0.0037 0.0037 0.0043 0.0026 0.0032 0.0\n",
      "\u001b[31mtotal execution time : \u001b[0m 0.0054\n",
      "\n",
      "\u001b[5m\u001b[7m\u001b[31m\n",
      "  || RESULTS || \n",
      "\u001b[0m\n",
      "\u001b[34mTO EXPLORE : \u001b[0m\n",
      "\u001b[32m15\u001b[0m -> 0.0 0.0 0.0 0.0 0.0 0.0 0.0 0.0 0.0 0.0\n",
      "\u001b[32m20\u001b[0m -> 0.0 0.0 0.0 0.0 0.0 0.0 0.0 0.0 0.0 0.0\n",
      "\u001b[32m25\u001b[0m -> 0.0 0.0 0.0 0.0 0.0 0.0 0.0 0.0 0.0 0.0\n",
      "\u001b[32m30\u001b[0m -> 0.0 0.0 0.0 0.0 0.0 0.0 0.0 0.0 0.0 0.0\n",
      "\u001b[32m35\u001b[0m -> 0.0 0.0 0.0 0.0 0.0 0.0 0.0 0.0 0.0 0.0\n",
      "\u001b[32m40\u001b[0m -> 0.0 0.0 0.0 0.0 0.0 0.0 0.0 0.0 0.0 0.0\n",
      "\u001b[32m45\u001b[0m -> 0.0 0.0 0.0 0.0 0.0 0.0 0.0 0.0 0.0 0.0\n",
      "\u001b[32m50\u001b[0m -> 0.0 0.0 0.0 0.0 0.0 0.0 0.0 0.0 0.0 0.0\n",
      "\u001b[32m55\u001b[0m -> 0.0 0.0 0.0 0.0 0.0 0.0 0.0 0.0 0.0 0.0\n",
      "\u001b[32m60\u001b[0m -> 0.0 0.0 0.0 0.0 0.0 0.0 0.0 0.0 0.0 0.0\n",
      "\u001b[32m65\u001b[0m -> 0.0 0.0 0.0 0.0 0.0 0.0 0.0 0.0 0.0 0.0\n",
      "\u001b[32m70\u001b[0m -> 0.0 0.0 0.0 0.0 0.0 0.0 0.0 0.0 0.0 0.0\n",
      "\u001b[32m75\u001b[0m -> 0.0 0.0 0.0 0.0 0.0 0.0 0.0 0.0 0.0 0.0\n",
      "\u001b[32m80\u001b[0m -> 0.0 0.0 0.0 0.0 0.0 0.0 0.0 0.0 0.0 0.0\n",
      "\u001b[32m85\u001b[0m -> 0.0 0.0 0.0 0.0 0.0 0.0 0.0 0.0 0.0 0.0\n",
      "\u001b[32m90\u001b[0m -> 0.0 0.0 0.0 0.0 0.0 0.0 0.0 0.0 0.0 0.0\n",
      "\u001b[32m95\u001b[0m -> 0.0 0.0 0.0 0.0 0.0 0.0 0.0 0.0 0.0 0.0\n",
      "\u001b[35m0\u001b[0m\n",
      "\t\u001b[35m0.0 0.0 0.0 0.0 0.0 0.0 0.0 0.0 0.0 0.0\u001b[0m\n",
      "\t\t('0.0037 0.0043 0.0025 0.0031 0.0 0.0016 0.0025 0.0031 0.0028 0.0037', 1, 0, 0.0054)\n",
      "\u001b[35m5\u001b[0m\n",
      "\t\u001b[35m0.0 0.0 0.0 0.0 0.0 0.0 0.0 0.0 0.0 0.0\u001b[0m\n",
      "\t\t('0.0016 0.0025 0.0031 0.0028 0.0037 0.0037 0.0043 0.0025 0.0031 0.0', 1, 1, 0.0054)\n",
      "\t\u001b[35m0.0037 0.0043 0.0025 0.0031 0.0 0.0016 0.0025 0.0031 0.0028 0.0037\u001b[0m\n",
      "\t\t('0.0015 0.0024 0.0031 0.0028 0.0036 0.0036 0.0042 0.0024 0.0031 0.0', 2, 0, 0.0056)\n",
      "\u001b[35m10\u001b[0m\n",
      "\t\u001b[35m0.0 0.0 0.0 0.0 0.0 0.0 0.0 0.0 0.0 0.0\u001b[0m\n",
      "\t\t('0.0037 0.0043 0.0025 0.0031 0.0 0.0016 0.0025 0.0031 0.0028 0.0037', 1, 2, 0.0054)\n",
      "\t\u001b[35m0.0008 0.0043 0.0059 0.0042 0.0034 0.0052 0.0065 0.0008 0.0056 0.0\u001b[0m\n",
      "\t\t('0.0037 0.0043 0.0026 0.0032 0.0 0.0016 0.0026 0.0032 0.0029 0.0037', 2, 1, 0.0058)\n",
      "\u001b[35m15\u001b[0m\n",
      "\t\u001b[35m0.0026 0.0053 0.0023 0.0053 0.0 0.0021 0.0023 0.0048 0.0032 0.0018\u001b[0m\n",
      "\t\t('0.0016 0.0025 0.0031 0.0028 0.0037 0.0037 0.0043 0.0026 0.0032 0.0', 2, 2, 0.0057)\n",
      "\u001b[1m\u001b[33mT_curr : \u001b[0m 10\n",
      "\u001b[1m\u001b[33mD_curr : \u001b[0m 0.0015 0.0024 0.0031 0.0028 0.0036 0.0036 0.0042 0.0024 0.0031 0.0\n",
      "\u001b[1m\u001b[33mDprime : \u001b[0m 0.0016 0.0025 0.0031 0.0028 0.0037 0.0037 0.0043 0.0026 0.0032 0.0\n",
      "\u001b[1m\u001b[31mtotal execution time : \u001b[0m 0.011\n",
      "\n",
      "\u001b[5m\u001b[7m\u001b[35m  || ANALYSIS || \n",
      "\u001b[0m\n",
      "[20] Generated RAND Dprime : 0.0021 0.0015 0.0021 0.0021 0.0027 0.0062 0.0036 0.0039 0.005 0.0\n",
      "[15] Generated RAND Dprime : 0.0069 0.0085 0.0007 0.0034 0.0 0.0001 0.0005 0.005 0.0023 0.0025\n",
      "\u001b[34mTO EXPLORE : \u001b[0m\n",
      "\u001b[32m10\u001b[0m -> 0.0015 0.0024 0.0031 0.0028 0.0036 0.0036 0.0042 0.0024 0.0031 0.0\n",
      "\u001b[32m15\u001b[0m -> 0.0069 0.0085 0.0007 0.0034 0.0 0.0001 0.0005 0.005 0.0023 0.0025\n",
      "\u001b[32m20\u001b[0m -> 0.0021 0.0015 0.0021 0.0021 0.0027 0.0062 0.0036 0.0039 0.005 0.0\n",
      "\u001b[32m15\u001b[0m -> 0.0 0.0 0.0 0.0 0.0 0.0 0.0 0.0 0.0 0.0\n",
      "\u001b[32m20\u001b[0m -> 0.0 0.0 0.0 0.0 0.0 0.0 0.0 0.0 0.0 0.0\n",
      "\u001b[32m25\u001b[0m -> 0.0 0.0 0.0 0.0 0.0 0.0 0.0 0.0 0.0 0.0\n",
      "\u001b[32m30\u001b[0m -> 0.0 0.0 0.0 0.0 0.0 0.0 0.0 0.0 0.0 0.0\n",
      "\u001b[32m35\u001b[0m -> 0.0 0.0 0.0 0.0 0.0 0.0 0.0 0.0 0.0 0.0\n",
      "\u001b[32m40\u001b[0m -> 0.0 0.0 0.0 0.0 0.0 0.0 0.0 0.0 0.0 0.0\n",
      "\u001b[32m45\u001b[0m -> 0.0 0.0 0.0 0.0 0.0 0.0 0.0 0.0 0.0 0.0\n",
      "\u001b[32m50\u001b[0m -> 0.0 0.0 0.0 0.0 0.0 0.0 0.0 0.0 0.0 0.0\n",
      "\u001b[32m55\u001b[0m -> 0.0 0.0 0.0 0.0 0.0 0.0 0.0 0.0 0.0 0.0\n",
      "\u001b[32m60\u001b[0m -> 0.0 0.0 0.0 0.0 0.0 0.0 0.0 0.0 0.0 0.0\n",
      "\u001b[32m65\u001b[0m -> 0.0 0.0 0.0 0.0 0.0 0.0 0.0 0.0 0.0 0.0\n",
      "\u001b[32m70\u001b[0m -> 0.0 0.0 0.0 0.0 0.0 0.0 0.0 0.0 0.0 0.0\n",
      "\u001b[32m75\u001b[0m -> 0.0 0.0 0.0 0.0 0.0 0.0 0.0 0.0 0.0 0.0\n",
      "\u001b[32m80\u001b[0m -> 0.0 0.0 0.0 0.0 0.0 0.0 0.0 0.0 0.0 0.0\n",
      "\u001b[32m85\u001b[0m -> 0.0 0.0 0.0 0.0 0.0 0.0 0.0 0.0 0.0 0.0\n",
      "\u001b[32m90\u001b[0m -> 0.0 0.0 0.0 0.0 0.0 0.0 0.0 0.0 0.0 0.0\n",
      "\u001b[32m95\u001b[0m -> 0.0 0.0 0.0 0.0 0.0 0.0 0.0 0.0 0.0 0.0\n",
      "\u001b[5m\u001b[7m\u001b[31m--------------------------------------------  ROUND :  3   --------------------------------------------\n",
      "\u001b[0m\n",
      "\u001b[5m\u001b[7m\u001b[32m  || LAUNCHING || \n",
      "\u001b[0m\n",
      "\u001b[34mTO EXPLORE : \u001b[0m\n",
      "\u001b[32m10\u001b[0m -> 0.0015 0.0024 0.0031 0.0028 0.0036 0.0036 0.0042 0.0024 0.0031 0.0\n",
      "\u001b[32m15\u001b[0m -> 0.0069 0.0085 0.0007 0.0034 0.0 0.0001 0.0005 0.005 0.0023 0.0025\n",
      "\u001b[32m20\u001b[0m -> 0.0021 0.0015 0.0021 0.0021 0.0027 0.0062 0.0036 0.0039 0.005 0.0\n",
      "\u001b[32m15\u001b[0m -> 0.0 0.0 0.0 0.0 0.0 0.0 0.0 0.0 0.0 0.0\n",
      "\u001b[32m20\u001b[0m -> 0.0 0.0 0.0 0.0 0.0 0.0 0.0 0.0 0.0 0.0\n",
      "\u001b[32m25\u001b[0m -> 0.0 0.0 0.0 0.0 0.0 0.0 0.0 0.0 0.0 0.0\n",
      "\u001b[32m30\u001b[0m -> 0.0 0.0 0.0 0.0 0.0 0.0 0.0 0.0 0.0 0.0\n",
      "\u001b[32m35\u001b[0m -> 0.0 0.0 0.0 0.0 0.0 0.0 0.0 0.0 0.0 0.0\n",
      "\u001b[32m40\u001b[0m -> 0.0 0.0 0.0 0.0 0.0 0.0 0.0 0.0 0.0 0.0\n",
      "\u001b[32m45\u001b[0m -> 0.0 0.0 0.0 0.0 0.0 0.0 0.0 0.0 0.0 0.0\n",
      "\u001b[32m50\u001b[0m -> 0.0 0.0 0.0 0.0 0.0 0.0 0.0 0.0 0.0 0.0\n",
      "\u001b[32m55\u001b[0m -> 0.0 0.0 0.0 0.0 0.0 0.0 0.0 0.0 0.0 0.0\n",
      "\u001b[32m60\u001b[0m -> 0.0 0.0 0.0 0.0 0.0 0.0 0.0 0.0 0.0 0.0\n",
      "\u001b[32m65\u001b[0m -> 0.0 0.0 0.0 0.0 0.0 0.0 0.0 0.0 0.0 0.0\n",
      "\u001b[32m70\u001b[0m -> 0.0 0.0 0.0 0.0 0.0 0.0 0.0 0.0 0.0 0.0\n",
      "\u001b[32m75\u001b[0m -> 0.0 0.0 0.0 0.0 0.0 0.0 0.0 0.0 0.0 0.0\n",
      "\u001b[32m80\u001b[0m -> 0.0 0.0 0.0 0.0 0.0 0.0 0.0 0.0 0.0 0.0\n",
      "\u001b[32m85\u001b[0m -> 0.0 0.0 0.0 0.0 0.0 0.0 0.0 0.0 0.0 0.0\n",
      "\u001b[32m90\u001b[0m -> 0.0 0.0 0.0 0.0 0.0 0.0 0.0 0.0 0.0 0.0\n",
      "\u001b[32m95\u001b[0m -> 0.0 0.0 0.0 0.0 0.0 0.0 0.0 0.0 0.0 0.0\n",
      "grisou-47 => 0 NPROCS = 10 MIN = 10 MAX = 15 N = 100 DELAY = '0.0015 0.0024 0.0031 0.0028 0.0036 0.0036 0.0042 0.0024 0.0031 0.0'\n",
      "\n",
      "grisou-48 => 1 NPROCS = 10 MIN = 15 MAX = 20 N = 100 DELAY = '0.0069 0.0085 0.0007 0.0034 0.0 0.0001 0.0005 0.005 0.0023 0.0025'\n",
      "\n",
      "grisou-5 => 2 NPROCS = 10 MIN = 20 MAX = 25 N = 100 DELAY = '0.0021 0.0015 0.0021 0.0021 0.0027 0.0062 0.0036 0.0039 0.005 0.0'\n",
      "\n",
      "pj_dump DONE\n"
     ]
    },
    {
     "name": "stderr",
     "output_type": "stream",
     "text": [
      "/home/nezzine/.local/lib/python3.5/site-packages/rpy2/robjects/pandas2ri.py:191: FutureWarning: from_items is deprecated. Please use DataFrame.from_dict(dict(items), ...) instead. DataFrame.from_dict(OrderedDict(items)) may be used to preserve the key order.\n",
      "  res = PandasDataFrame.from_items(items)\n"
     ]
    },
    {
     "data": {
      "text/plain": [
       "'data.frame':\t126 obs. of  7 variables:\n",
       " $ Rank    : num  0 0 0 0 0 0 0 0 0 0 ...\n",
       " $ Start   : num  0 0.000105 0.000105 0.000105 0.000105 ...\n",
       " $ End     : num  0.00983 0.00155 0.00166 0.00166 0.00167 ...\n",
       " $ Duration: num  0.00983 0.00145 0.00155 0.00155 0.00157 ...\n",
       " $ State   : Factor w/ 14 levels \"\",\"PMPI_Bcast\",..: 1 5 5 5 5 6 7 13 9 9 ...\n",
       " $ NA      : Factor w/ 11 levels \"\",\"rank-0\",\"rank-1\",..: 1 3 10 4 6 4 5 11 7 8 ...\n",
       " $ NA.1    : Factor w/ 46 levels \"\",\"0_1_-3334_27\",..: 1 3 7 5 6 9 14 44 25 28 ...\n"
      ]
     },
     "metadata": {},
     "output_type": "display_data"
    },
    {
     "data": {
      "image/png": "[encoded data removed]"
     },
     "metadata": {},
     "output_type": "display_data"
    },
    {
     "name": "stdout",
     "output_type": "stream",
     "text": [
      "pj_dump DONE\n"
     ]
    },
    {
     "name": "stderr",
     "output_type": "stream",
     "text": [
      "/home/nezzine/.local/lib/python3.5/site-packages/rpy2/robjects/pandas2ri.py:191: FutureWarning: from_items is deprecated. Please use DataFrame.from_dict(dict(items), ...) instead. DataFrame.from_dict(OrderedDict(items)) may be used to preserve the key order.\n",
      "  res = PandasDataFrame.from_items(items)\n"
     ]
    },
    {
     "data": {
      "text/plain": [
       "'data.frame':\t126 obs. of  7 variables:\n",
       " $ Rank    : num  0 0 0 0 0 0 0 0 0 0 ...\n",
       " $ Start   : num  0e+00 7e-06 7e-06 7e-06 7e-06 ...\n",
       " $ End     : num  0.00962 0.00116 0.00146 0.00152 0.00158 ...\n",
       " $ Duration: num  0.00962 0.00115 0.00145 0.00152 0.00157 ...\n",
       " $ State   : Factor w/ 14 levels \"\",\"PMPI_Bcast\",..: 1 10 10 10 10 8 11 12 14 14 ...\n",
       " $ NA      : Factor w/ 11 levels \"\",\"rank-0\",\"rank-1\",..: 1 8 11 5 9 6 9 10 2 3 ...\n",
       " $ NA.1    : Factor w/ 46 levels \"\",\"0_1_-3334_21\",..: 1 20 23 18 22 12 27 31 40 44 ...\n"
      ]
     },
     "metadata": {},
     "output_type": "display_data"
    },
    {
     "data": {
      "image/png": "[encoded data removed]"
     },
     "metadata": {},
     "output_type": "display_data"
    },
    {
     "name": "stdout",
     "output_type": "stream",
     "text": [
      "pj_dump DONE\n"
     ]
    },
    {
     "name": "stderr",
     "output_type": "stream",
     "text": [
      "/home/nezzine/.local/lib/python3.5/site-packages/rpy2/robjects/pandas2ri.py:191: FutureWarning: from_items is deprecated. Please use DataFrame.from_dict(dict(items), ...) instead. DataFrame.from_dict(OrderedDict(items)) may be used to preserve the key order.\n",
      "  res = PandasDataFrame.from_items(items)\n"
     ]
    },
    {
     "data": {
      "text/plain": [
       "'data.frame':\t126 obs. of  7 variables:\n",
       " $ Rank    : num  0 0 0 0 0 0 0 0 0 0 ...\n",
       " $ Start   : num  0 0.000147 0.000147 0.000147 0.000147 ...\n",
       " $ End     : num  0.00944 0.00154 0.00154 0.00158 0.00166 ...\n",
       " $ Duration: num  0.00944 0.00139 0.00139 0.00143 0.00151 ...\n",
       " $ State   : Factor w/ 14 levels \"\",\"PMPI_Bcast\",..: 1 5 5 5 5 6 7 13 9 9 ...\n",
       " $ NA      : Factor w/ 11 levels \"\",\"rank-0\",\"rank-1\",..: 1 3 4 6 10 4 5 11 7 8 ...\n",
       " $ NA.1    : Factor w/ 46 levels \"\",\"0_1_-3334_28\",..: 1 3 5 6 7 9 16 42 25 28 ...\n"
      ]
     },
     "metadata": {},
     "output_type": "display_data"
    },
    {
     "data": {
      "image/png": "[encoded data removed]"
     },
     "metadata": {},
     "output_type": "display_data"
    },
    {
     "name": "stdout",
     "output_type": "stream",
     "text": [
      "\u001b[33mT_curr : \u001b[0m 10\n",
      "\u001b[33mD_curr : \u001b[0m 0.0015 0.0024 0.0031 0.0028 0.0036 0.0036 0.0042 0.0024 0.0031 0.0\n",
      "\u001b[33mDprime : \u001b[0m 0.0036 0.0042 0.0023 0.003 0.0 0.0013 0.002 0.0027 0.0028 0.0036\n",
      "\u001b[31mtotal execution time : \u001b[0m 0.011\n",
      "\n",
      "\u001b[5m\u001b[7m\u001b[31m\n",
      "  || RESULTS || \n",
      "\u001b[0m\n",
      "\u001b[34mTO EXPLORE : \u001b[0m\n",
      "\u001b[32m15\u001b[0m -> 0.0 0.0 0.0 0.0 0.0 0.0 0.0 0.0 0.0 0.0\n",
      "\u001b[32m20\u001b[0m -> 0.0 0.0 0.0 0.0 0.0 0.0 0.0 0.0 0.0 0.0\n",
      "\u001b[32m25\u001b[0m -> 0.0 0.0 0.0 0.0 0.0 0.0 0.0 0.0 0.0 0.0\n",
      "\u001b[32m30\u001b[0m -> 0.0 0.0 0.0 0.0 0.0 0.0 0.0 0.0 0.0 0.0\n",
      "\u001b[32m35\u001b[0m -> 0.0 0.0 0.0 0.0 0.0 0.0 0.0 0.0 0.0 0.0\n",
      "\u001b[32m40\u001b[0m -> 0.0 0.0 0.0 0.0 0.0 0.0 0.0 0.0 0.0 0.0\n",
      "\u001b[32m45\u001b[0m -> 0.0 0.0 0.0 0.0 0.0 0.0 0.0 0.0 0.0 0.0\n",
      "\u001b[32m50\u001b[0m -> 0.0 0.0 0.0 0.0 0.0 0.0 0.0 0.0 0.0 0.0\n",
      "\u001b[32m55\u001b[0m -> 0.0 0.0 0.0 0.0 0.0 0.0 0.0 0.0 0.0 0.0\n",
      "\u001b[32m60\u001b[0m -> 0.0 0.0 0.0 0.0 0.0 0.0 0.0 0.0 0.0 0.0\n",
      "\u001b[32m65\u001b[0m -> 0.0 0.0 0.0 0.0 0.0 0.0 0.0 0.0 0.0 0.0\n",
      "\u001b[32m70\u001b[0m -> 0.0 0.0 0.0 0.0 0.0 0.0 0.0 0.0 0.0 0.0\n",
      "\u001b[32m75\u001b[0m -> 0.0 0.0 0.0 0.0 0.0 0.0 0.0 0.0 0.0 0.0\n",
      "\u001b[32m80\u001b[0m -> 0.0 0.0 0.0 0.0 0.0 0.0 0.0 0.0 0.0 0.0\n",
      "\u001b[32m85\u001b[0m -> 0.0 0.0 0.0 0.0 0.0 0.0 0.0 0.0 0.0 0.0\n",
      "\u001b[32m90\u001b[0m -> 0.0 0.0 0.0 0.0 0.0 0.0 0.0 0.0 0.0 0.0\n",
      "\u001b[32m95\u001b[0m -> 0.0 0.0 0.0 0.0 0.0 0.0 0.0 0.0 0.0 0.0\n",
      "\u001b[35m0\u001b[0m\n",
      "\t\u001b[35m0.0 0.0 0.0 0.0 0.0 0.0 0.0 0.0 0.0 0.0\u001b[0m\n",
      "\t\t('0.0037 0.0043 0.0025 0.0031 0.0 0.0016 0.0025 0.0031 0.0028 0.0037', 1, 0, 0.0054)\n",
      "\u001b[35m5\u001b[0m\n",
      "\t\u001b[35m0.0 0.0 0.0 0.0 0.0 0.0 0.0 0.0 0.0 0.0\u001b[0m\n",
      "\t\t('0.0016 0.0025 0.0031 0.0028 0.0037 0.0037 0.0043 0.0025 0.0031 0.0', 1, 1, 0.0054)\n",
      "\t\u001b[35m0.0037 0.0043 0.0025 0.0031 0.0 0.0016 0.0025 0.0031 0.0028 0.0037\u001b[0m\n",
      "\t\t('0.0015 0.0024 0.0031 0.0028 0.0036 0.0036 0.0042 0.0024 0.0031 0.0', 2, 0, 0.0056)\n",
      "\u001b[35m10\u001b[0m\n",
      "\t\u001b[35m0.0 0.0 0.0 0.0 0.0 0.0 0.0 0.0 0.0 0.0\u001b[0m\n",
      "\t\t('0.0037 0.0043 0.0025 0.0031 0.0 0.0016 0.0025 0.0031 0.0028 0.0037', 1, 2, 0.0054)\n",
      "\t\u001b[35m0.0008 0.0043 0.0059 0.0042 0.0034 0.0052 0.0065 0.0008 0.0056 0.0\u001b[0m\n",
      "\t\t('0.0037 0.0043 0.0026 0.0032 0.0 0.0016 0.0026 0.0032 0.0029 0.0037', 2, 1, 0.0058)\n",
      "\t\u001b[35m0.0015 0.0024 0.0031 0.0028 0.0036 0.0036 0.0042 0.0024 0.0031 0.0\u001b[0m\n",
      "\t\t('0.0036 0.0042 0.0024 0.0031 0.0 0.0015 0.0024 0.0031 0.0028 0.0036', 3, 0, 0.0056)\n",
      "\u001b[35m15\u001b[0m\n",
      "\t\u001b[35m0.0069 0.0085 0.0007 0.0034 0.0 0.0001 0.0005 0.005 0.0023 0.0025\u001b[0m\n",
      "\t\t('0.0015 0.0023 0.003 0.0027 0.0035 0.0035 0.0041 0.0021 0.0027 0.0', 3, 1, 0.0055)\n",
      "\t\u001b[35m0.0026 0.0053 0.0023 0.0053 0.0 0.0021 0.0023 0.0048 0.0032 0.0018\u001b[0m\n",
      "\t\t('0.0016 0.0025 0.0031 0.0028 0.0037 0.0037 0.0043 0.0026 0.0032 0.0', 2, 2, 0.0057)\n",
      "\u001b[35m20\u001b[0m\n",
      "\t\u001b[35m0.0021 0.0015 0.0021 0.0021 0.0027 0.0062 0.0036 0.0039 0.005 0.0\u001b[0m\n",
      "\t\t('0.0036 0.0042 0.0023 0.003 0.0 0.0013 0.002 0.0027 0.0028 0.0036', 3, 2, 0.0052)\n",
      "\u001b[1m\u001b[33mT_curr : \u001b[0m 15\n",
      "\u001b[1m\u001b[33mD_curr : \u001b[0m 0.0036 0.0042 0.0024 0.0031 0.0 0.0015 0.0024 0.0031 0.0028 0.0036\n",
      "\u001b[1m\u001b[33mDprime : \u001b[0m 0.0036 0.0042 0.0023 0.003 0.0 0.0013 0.002 0.0027 0.0028 0.0036\n",
      "\u001b[1m\u001b[31mtotal execution time : \u001b[0m 0.0166\n",
      "\n",
      "\u001b[5m\u001b[7m\u001b[35m  || ANALYSIS || \n",
      "\u001b[0m\n",
      "[25] Generated RAND Dprime : 0.0061 0.0006 0.0017 0.0037 0.0 0.0002 0.0006 0.0024 0.0049 0.0047\n",
      "[20] Generated RAND Dprime : 0.0027 0.001 0.0019 0.001 0.0003 0.0012 0.0056 0.0019 0.0031 0.0\n",
      "\u001b[34mTO EXPLORE : \u001b[0m\n",
      "\u001b[32m15\u001b[0m -> 0.0036 0.0042 0.0024 0.0031 0.0 0.0015 0.0024 0.0031 0.0028 0.0036\n",
      "\u001b[32m20\u001b[0m -> 0.0027 0.001 0.0019 0.001 0.0003 0.0012 0.0056 0.0019 0.0031 0.0\n",
      "\u001b[32m25\u001b[0m -> 0.0061 0.0006 0.0017 0.0037 0.0 0.0002 0.0006 0.0024 0.0049 0.0047\n",
      "\u001b[32m20\u001b[0m -> 0.0 0.0 0.0 0.0 0.0 0.0 0.0 0.0 0.0 0.0\n",
      "\u001b[32m25\u001b[0m -> 0.0 0.0 0.0 0.0 0.0 0.0 0.0 0.0 0.0 0.0\n",
      "\u001b[32m30\u001b[0m -> 0.0 0.0 0.0 0.0 0.0 0.0 0.0 0.0 0.0 0.0\n",
      "\u001b[32m35\u001b[0m -> 0.0 0.0 0.0 0.0 0.0 0.0 0.0 0.0 0.0 0.0\n",
      "\u001b[32m40\u001b[0m -> 0.0 0.0 0.0 0.0 0.0 0.0 0.0 0.0 0.0 0.0\n",
      "\u001b[32m45\u001b[0m -> 0.0 0.0 0.0 0.0 0.0 0.0 0.0 0.0 0.0 0.0\n",
      "\u001b[32m50\u001b[0m -> 0.0 0.0 0.0 0.0 0.0 0.0 0.0 0.0 0.0 0.0\n",
      "\u001b[32m55\u001b[0m -> 0.0 0.0 0.0 0.0 0.0 0.0 0.0 0.0 0.0 0.0\n",
      "\u001b[32m60\u001b[0m -> 0.0 0.0 0.0 0.0 0.0 0.0 0.0 0.0 0.0 0.0\n",
      "\u001b[32m65\u001b[0m -> 0.0 0.0 0.0 0.0 0.0 0.0 0.0 0.0 0.0 0.0\n",
      "\u001b[32m70\u001b[0m -> 0.0 0.0 0.0 0.0 0.0 0.0 0.0 0.0 0.0 0.0\n",
      "\u001b[32m75\u001b[0m -> 0.0 0.0 0.0 0.0 0.0 0.0 0.0 0.0 0.0 0.0\n",
      "\u001b[32m80\u001b[0m -> 0.0 0.0 0.0 0.0 0.0 0.0 0.0 0.0 0.0 0.0\n",
      "\u001b[32m85\u001b[0m -> 0.0 0.0 0.0 0.0 0.0 0.0 0.0 0.0 0.0 0.0\n",
      "\u001b[32m90\u001b[0m -> 0.0 0.0 0.0 0.0 0.0 0.0 0.0 0.0 0.0 0.0\n",
      "\u001b[32m95\u001b[0m -> 0.0 0.0 0.0 0.0 0.0 0.0 0.0 0.0 0.0 0.0\n",
      "\u001b[5m\u001b[7m\u001b[31m--------------------------------------------  ROUND :  4   --------------------------------------------\n",
      "\u001b[0m\n",
      "\u001b[5m\u001b[7m\u001b[32m  || LAUNCHING || \n",
      "\u001b[0m\n",
      "\u001b[34mTO EXPLORE : \u001b[0m\n",
      "\u001b[32m15\u001b[0m -> 0.0036 0.0042 0.0024 0.0031 0.0 0.0015 0.0024 0.0031 0.0028 0.0036\n",
      "\u001b[32m20\u001b[0m -> 0.0027 0.001 0.0019 0.001 0.0003 0.0012 0.0056 0.0019 0.0031 0.0\n",
      "\u001b[32m25\u001b[0m -> 0.0061 0.0006 0.0017 0.0037 0.0 0.0002 0.0006 0.0024 0.0049 0.0047\n",
      "\u001b[32m20\u001b[0m -> 0.0 0.0 0.0 0.0 0.0 0.0 0.0 0.0 0.0 0.0\n",
      "\u001b[32m25\u001b[0m -> 0.0 0.0 0.0 0.0 0.0 0.0 0.0 0.0 0.0 0.0\n",
      "\u001b[32m30\u001b[0m -> 0.0 0.0 0.0 0.0 0.0 0.0 0.0 0.0 0.0 0.0\n",
      "\u001b[32m35\u001b[0m -> 0.0 0.0 0.0 0.0 0.0 0.0 0.0 0.0 0.0 0.0\n",
      "\u001b[32m40\u001b[0m -> 0.0 0.0 0.0 0.0 0.0 0.0 0.0 0.0 0.0 0.0\n",
      "\u001b[32m45\u001b[0m -> 0.0 0.0 0.0 0.0 0.0 0.0 0.0 0.0 0.0 0.0\n",
      "\u001b[32m50\u001b[0m -> 0.0 0.0 0.0 0.0 0.0 0.0 0.0 0.0 0.0 0.0\n",
      "\u001b[32m55\u001b[0m -> 0.0 0.0 0.0 0.0 0.0 0.0 0.0 0.0 0.0 0.0\n",
      "\u001b[32m60\u001b[0m -> 0.0 0.0 0.0 0.0 0.0 0.0 0.0 0.0 0.0 0.0\n",
      "\u001b[32m65\u001b[0m -> 0.0 0.0 0.0 0.0 0.0 0.0 0.0 0.0 0.0 0.0\n",
      "\u001b[32m70\u001b[0m -> 0.0 0.0 0.0 0.0 0.0 0.0 0.0 0.0 0.0 0.0\n",
      "\u001b[32m75\u001b[0m -> 0.0 0.0 0.0 0.0 0.0 0.0 0.0 0.0 0.0 0.0\n",
      "\u001b[32m80\u001b[0m -> 0.0 0.0 0.0 0.0 0.0 0.0 0.0 0.0 0.0 0.0\n",
      "\u001b[32m85\u001b[0m -> 0.0 0.0 0.0 0.0 0.0 0.0 0.0 0.0 0.0 0.0\n",
      "\u001b[32m90\u001b[0m -> 0.0 0.0 0.0 0.0 0.0 0.0 0.0 0.0 0.0 0.0\n",
      "\u001b[32m95\u001b[0m -> 0.0 0.0 0.0 0.0 0.0 0.0 0.0 0.0 0.0 0.0\n",
      "grisou-47 => 0 NPROCS = 10 MIN = 15 MAX = 20 N = 100 DELAY = '0.0036 0.0042 0.0024 0.0031 0.0 0.0015 0.0024 0.0031 0.0028 0.0036'\n",
      "\n",
      "grisou-48 => 1 NPROCS = 10 MIN = 20 MAX = 25 N = 100 DELAY = '0.0027 0.001 0.0019 0.001 0.0003 0.0012 0.0056 0.0019 0.0031 0.0'\n",
      "\n",
      "grisou-5 => 2 NPROCS = 10 MIN = 25 MAX = 30 N = 100 DELAY = '0.0061 0.0006 0.0017 0.0037 0.0 0.0002 0.0006 0.0024 0.0049 0.0047'\n",
      "\n",
      "pj_dump DONE\n"
     ]
    },
    {
     "name": "stderr",
     "output_type": "stream",
     "text": [
      "/home/nezzine/.local/lib/python3.5/site-packages/rpy2/robjects/pandas2ri.py:191: FutureWarning: from_items is deprecated. Please use DataFrame.from_dict(dict(items), ...) instead. DataFrame.from_dict(OrderedDict(items)) may be used to preserve the key order.\n",
      "  res = PandasDataFrame.from_items(items)\n"
     ]
    },
    {
     "data": {
      "text/plain": [
       "'data.frame':\t126 obs. of  7 variables:\n",
       " $ Rank    : num  0 0 0 0 0 0 0 0 0 0 ...\n",
       " $ Start   : num  0 0.000105 0.000105 0.000105 0.000105 ...\n",
       " $ End     : num  0.00983 0.00155 0.00166 0.00166 0.00167 ...\n",
       " $ Duration: num  0.00983 0.00145 0.00155 0.00155 0.00157 ...\n",
       " $ State   : Factor w/ 14 levels \"\",\"PMPI_Bcast\",..: 1 10 10 10 10 11 8 12 14 14 ...\n",
       " $ NA      : Factor w/ 11 levels \"\",\"rank-0\",\"rank-1\",..: 1 8 9 5 11 9 6 10 2 3 ...\n",
       " $ NA.1    : Factor w/ 46 levels \"\",\"0_1_-3334_21\",..: 1 20 22 18 23 27 12 33 40 43 ...\n"
      ]
     },
     "metadata": {},
     "output_type": "display_data"
    },
    {
     "data": {
      "image/png": "[encoded data removed]"
     },
     "metadata": {},
     "output_type": "display_data"
    },
    {
     "name": "stdout",
     "output_type": "stream",
     "text": [
      "pj_dump DONE\n"
     ]
    },
    {
     "name": "stderr",
     "output_type": "stream",
     "text": [
      "/home/nezzine/.local/lib/python3.5/site-packages/rpy2/robjects/pandas2ri.py:191: FutureWarning: from_items is deprecated. Please use DataFrame.from_dict(dict(items), ...) instead. DataFrame.from_dict(OrderedDict(items)) may be used to preserve the key order.\n",
      "  res = PandasDataFrame.from_items(items)\n"
     ]
    },
    {
     "data": {
      "text/plain": [
       "'data.frame':\t126 obs. of  7 variables:\n",
       " $ Rank    : num  0 0 0 0 0 0 0 0 0 0 ...\n",
       " $ Start   : num  0 0.000189 0.000189 0.000189 0.000189 ...\n",
       " $ End     : num  0.00982 0.00167 0.00167 0.00167 0.00168 ...\n",
       " $ Duration: num  0.00982 0.00148 0.00148 0.00148 0.00149 ...\n",
       " $ State   : Factor w/ 14 levels \"\",\"PMPI_Bcast\",..: 1 5 5 5 5 6 7 13 9 9 ...\n",
       " $ NA      : Factor w/ 11 levels \"\",\"rank-0\",\"rank-1\",..: 1 3 4 6 10 4 5 11 7 8 ...\n",
       " $ NA.1    : Factor w/ 46 levels \"\",\"0_1_-3334_28\",..: 1 3 5 6 7 8 16 42 27 29 ...\n"
      ]
     },
     "metadata": {},
     "output_type": "display_data"
    },
    {
     "data": {
      "image/png": "[encoded data removed]"
     },
     "metadata": {},
     "output_type": "display_data"
    },
    {
     "name": "stdout",
     "output_type": "stream",
     "text": [
      "pj_dump DONE\n"
     ]
    },
    {
     "name": "stderr",
     "output_type": "stream",
     "text": [
      "/home/nezzine/.local/lib/python3.5/site-packages/rpy2/robjects/pandas2ri.py:191: FutureWarning: from_items is deprecated. Please use DataFrame.from_dict(dict(items), ...) instead. DataFrame.from_dict(OrderedDict(items)) may be used to preserve the key order.\n",
      "  res = PandasDataFrame.from_items(items)\n"
     ]
    },
    {
     "data": {
      "text/plain": [
       "'data.frame':\t126 obs. of  7 variables:\n",
       " $ Rank    : num  0 0 0 0 0 0 0 0 0 0 ...\n",
       " $ Start   : num  0.0 1.4e-05 1.4e-05 1.4e-05 1.4e-05 ...\n",
       " $ End     : num  0.00932 0.00118 0.00145 0.00154 0.00157 ...\n",
       " $ Duration: num  0.00932 0.00116 0.00144 0.00153 0.00156 ...\n",
       " $ State   : Factor w/ 14 levels \"\",\"PMPI_Bcast\",..: 1 10 10 10 10 11 12 8 14 14 ...\n",
       " $ NA      : Factor w/ 11 levels \"\",\"rank-0\",\"rank-1\",..: 1 8 9 5 11 9 10 6 2 3 ...\n",
       " $ NA.1    : Factor w/ 46 levels \"\",\"0_1_-3334_21\",..: 1 20 22 18 23 27 33 12 40 43 ...\n"
      ]
     },
     "metadata": {},
     "output_type": "display_data"
    },
    {
     "data": {
      "image/png": "[encoded data removed]"
     },
     "metadata": {},
     "output_type": "display_data"
    },
    {
     "name": "stdout",
     "output_type": "stream",
     "text": [
      "\u001b[33mT_curr : \u001b[0m 15\n",
      "\u001b[33mD_curr : \u001b[0m 0.0036 0.0042 0.0024 0.0031 0.0 0.0015 0.0024 0.0031 0.0028 0.0036\n",
      "\u001b[33mDprime : \u001b[0m 0.0014 0.0021 0.0027 0.0028 0.0036 0.0036 0.0042 0.0023 0.003 0.0\n",
      "\u001b[31mtotal execution time : \u001b[0m 0.0166\n",
      "\n",
      "\u001b[5m\u001b[7m\u001b[31m\n",
      "  || RESULTS || \n",
      "\u001b[0m\n",
      "\u001b[34mTO EXPLORE : \u001b[0m\n",
      "\u001b[32m20\u001b[0m -> 0.0 0.0 0.0 0.0 0.0 0.0 0.0 0.0 0.0 0.0\n",
      "\u001b[32m25\u001b[0m -> 0.0 0.0 0.0 0.0 0.0 0.0 0.0 0.0 0.0 0.0\n",
      "\u001b[32m30\u001b[0m -> 0.0 0.0 0.0 0.0 0.0 0.0 0.0 0.0 0.0 0.0\n",
      "\u001b[32m35\u001b[0m -> 0.0 0.0 0.0 0.0 0.0 0.0 0.0 0.0 0.0 0.0\n",
      "\u001b[32m40\u001b[0m -> 0.0 0.0 0.0 0.0 0.0 0.0 0.0 0.0 0.0 0.0\n",
      "\u001b[32m45\u001b[0m -> 0.0 0.0 0.0 0.0 0.0 0.0 0.0 0.0 0.0 0.0\n",
      "\u001b[32m50\u001b[0m -> 0.0 0.0 0.0 0.0 0.0 0.0 0.0 0.0 0.0 0.0\n",
      "\u001b[32m55\u001b[0m -> 0.0 0.0 0.0 0.0 0.0 0.0 0.0 0.0 0.0 0.0\n",
      "\u001b[32m60\u001b[0m -> 0.0 0.0 0.0 0.0 0.0 0.0 0.0 0.0 0.0 0.0\n",
      "\u001b[32m65\u001b[0m -> 0.0 0.0 0.0 0.0 0.0 0.0 0.0 0.0 0.0 0.0\n",
      "\u001b[32m70\u001b[0m -> 0.0 0.0 0.0 0.0 0.0 0.0 0.0 0.0 0.0 0.0\n",
      "\u001b[32m75\u001b[0m -> 0.0 0.0 0.0 0.0 0.0 0.0 0.0 0.0 0.0 0.0\n",
      "\u001b[32m80\u001b[0m -> 0.0 0.0 0.0 0.0 0.0 0.0 0.0 0.0 0.0 0.0\n",
      "\u001b[32m85\u001b[0m -> 0.0 0.0 0.0 0.0 0.0 0.0 0.0 0.0 0.0 0.0\n",
      "\u001b[32m90\u001b[0m -> 0.0 0.0 0.0 0.0 0.0 0.0 0.0 0.0 0.0 0.0\n",
      "\u001b[32m95\u001b[0m -> 0.0 0.0 0.0 0.0 0.0 0.0 0.0 0.0 0.0 0.0\n",
      "\u001b[35m0\u001b[0m\n",
      "\t\u001b[35m0.0 0.0 0.0 0.0 0.0 0.0 0.0 0.0 0.0 0.0\u001b[0m\n",
      "\t\t('0.0037 0.0043 0.0025 0.0031 0.0 0.0016 0.0025 0.0031 0.0028 0.0037', 1, 0, 0.0054)\n",
      "\u001b[35m5\u001b[0m\n",
      "\t\u001b[35m0.0 0.0 0.0 0.0 0.0 0.0 0.0 0.0 0.0 0.0\u001b[0m\n",
      "\t\t('0.0016 0.0025 0.0031 0.0028 0.0037 0.0037 0.0043 0.0025 0.0031 0.0', 1, 1, 0.0054)\n",
      "\t\u001b[35m0.0037 0.0043 0.0025 0.0031 0.0 0.0016 0.0025 0.0031 0.0028 0.0037\u001b[0m\n",
      "\t\t('0.0015 0.0024 0.0031 0.0028 0.0036 0.0036 0.0042 0.0024 0.0031 0.0', 2, 0, 0.0056)\n",
      "\u001b[35m10\u001b[0m\n",
      "\t\u001b[35m0.0 0.0 0.0 0.0 0.0 0.0 0.0 0.0 0.0 0.0\u001b[0m\n",
      "\t\t('0.0037 0.0043 0.0025 0.0031 0.0 0.0016 0.0025 0.0031 0.0028 0.0037', 1, 2, 0.0054)\n",
      "\t\u001b[35m0.0008 0.0043 0.0059 0.0042 0.0034 0.0052 0.0065 0.0008 0.0056 0.0\u001b[0m\n",
      "\t\t('0.0037 0.0043 0.0026 0.0032 0.0 0.0016 0.0026 0.0032 0.0029 0.0037', 2, 1, 0.0058)\n",
      "\t\u001b[35m0.0015 0.0024 0.0031 0.0028 0.0036 0.0036 0.0042 0.0024 0.0031 0.0\u001b[0m\n",
      "\t\t('0.0036 0.0042 0.0024 0.0031 0.0 0.0015 0.0024 0.0031 0.0028 0.0036', 3, 0, 0.0056)\n",
      "\u001b[35m15\u001b[0m\n",
      "\t\u001b[35m0.0069 0.0085 0.0007 0.0034 0.0 0.0001 0.0005 0.005 0.0023 0.0025\u001b[0m\n",
      "\t\t('0.0015 0.0023 0.003 0.0027 0.0035 0.0035 0.0041 0.0021 0.0027 0.0', 3, 1, 0.0055)\n",
      "\t\u001b[35m0.0026 0.0053 0.0023 0.0053 0.0 0.0021 0.0023 0.0048 0.0032 0.0018\u001b[0m\n",
      "\t\t('0.0016 0.0025 0.0031 0.0028 0.0037 0.0037 0.0043 0.0026 0.0032 0.0', 2, 2, 0.0057)\n",
      "\t\u001b[35m0.0036 0.0042 0.0024 0.0031 0.0 0.0015 0.0024 0.0031 0.0028 0.0036\u001b[0m\n",
      "\t\t('0.0015 0.0024 0.0031 0.0028 0.0036 0.0036 0.0042 0.0024 0.0031 0.0', 4, 0, 0.0056)\n",
      "\u001b[35m20\u001b[0m\n",
      "\t\u001b[35m0.0027 0.001 0.0019 0.001 0.0003 0.0012 0.0056 0.0019 0.0031 0.0\u001b[0m\n",
      "\t\t('0.0036 0.0042 0.0024 0.003 0.0 0.0015 0.0024 0.003 0.0028 0.0036', 4, 1, 0.0056)\n",
      "\t\u001b[35m0.0021 0.0015 0.0021 0.0021 0.0027 0.0062 0.0036 0.0039 0.005 0.0\u001b[0m\n",
      "\t\t('0.0036 0.0042 0.0023 0.003 0.0 0.0013 0.002 0.0027 0.0028 0.0036', 3, 2, 0.0052)\n",
      "\u001b[35m25\u001b[0m\n",
      "\t\u001b[35m0.0061 0.0006 0.0017 0.0037 0.0 0.0002 0.0006 0.0024 0.0049 0.0047\u001b[0m\n",
      "\t\t('0.0014 0.0021 0.0027 0.0028 0.0036 0.0036 0.0042 0.0023 0.003 0.0', 4, 2, 0.0051)\n",
      "\u001b[1m\u001b[33mT_curr : \u001b[0m 20\n",
      "\u001b[1m\u001b[33mD_curr : \u001b[0m 0.0015 0.0024 0.0031 0.0028 0.0036 0.0036 0.0042 0.0024 0.0031 0.0\n",
      "\u001b[1m\u001b[33mDprime : \u001b[0m 0.0014 0.0021 0.0027 0.0028 0.0036 0.0036 0.0042 0.0023 0.003 0.0\n",
      "\u001b[1m\u001b[31mtotal execution time : \u001b[0m 0.0222\n",
      "\n",
      "\u001b[5m\u001b[7m\u001b[35m  || ANALYSIS || \n",
      "\u001b[0m\n",
      "[30] Generated RAND Dprime : 0.0027 0.0035 0.005 0.0031 0.0038 0.0045 0.0075 0.0001 0.0004 0.0\n",
      "[25] Generated RAND Dprime : 0.0038 0.0061 0.0002 0.0012 0.0 0.0004 0.0004 0.0022 0.0007 0.0047\n",
      "\u001b[34mTO EXPLORE : \u001b[0m\n",
      "\u001b[32m20\u001b[0m -> 0.0015 0.0024 0.0031 0.0028 0.0036 0.0036 0.0042 0.0024 0.0031 0.0\n",
      "\u001b[32m25\u001b[0m -> 0.0038 0.0061 0.0002 0.0012 0.0 0.0004 0.0004 0.0022 0.0007 0.0047\n",
      "\u001b[32m30\u001b[0m -> 0.0027 0.0035 0.005 0.0031 0.0038 0.0045 0.0075 0.0001 0.0004 0.0\n",
      "\u001b[32m25\u001b[0m -> 0.0 0.0 0.0 0.0 0.0 0.0 0.0 0.0 0.0 0.0\n",
      "\u001b[32m30\u001b[0m -> 0.0 0.0 0.0 0.0 0.0 0.0 0.0 0.0 0.0 0.0\n",
      "\u001b[32m35\u001b[0m -> 0.0 0.0 0.0 0.0 0.0 0.0 0.0 0.0 0.0 0.0\n",
      "\u001b[32m40\u001b[0m -> 0.0 0.0 0.0 0.0 0.0 0.0 0.0 0.0 0.0 0.0\n",
      "\u001b[32m45\u001b[0m -> 0.0 0.0 0.0 0.0 0.0 0.0 0.0 0.0 0.0 0.0\n",
      "\u001b[32m50\u001b[0m -> 0.0 0.0 0.0 0.0 0.0 0.0 0.0 0.0 0.0 0.0\n",
      "\u001b[32m55\u001b[0m -> 0.0 0.0 0.0 0.0 0.0 0.0 0.0 0.0 0.0 0.0\n",
      "\u001b[32m60\u001b[0m -> 0.0 0.0 0.0 0.0 0.0 0.0 0.0 0.0 0.0 0.0\n",
      "\u001b[32m65\u001b[0m -> 0.0 0.0 0.0 0.0 0.0 0.0 0.0 0.0 0.0 0.0\n",
      "\u001b[32m70\u001b[0m -> 0.0 0.0 0.0 0.0 0.0 0.0 0.0 0.0 0.0 0.0\n",
      "\u001b[32m75\u001b[0m -> 0.0 0.0 0.0 0.0 0.0 0.0 0.0 0.0 0.0 0.0\n",
      "\u001b[32m80\u001b[0m -> 0.0 0.0 0.0 0.0 0.0 0.0 0.0 0.0 0.0 0.0\n",
      "\u001b[32m85\u001b[0m -> 0.0 0.0 0.0 0.0 0.0 0.0 0.0 0.0 0.0 0.0\n",
      "\u001b[32m90\u001b[0m -> 0.0 0.0 0.0 0.0 0.0 0.0 0.0 0.0 0.0 0.0\n",
      "\u001b[32m95\u001b[0m -> 0.0 0.0 0.0 0.0 0.0 0.0 0.0 0.0 0.0 0.0\n",
      "\u001b[5m\u001b[7m\u001b[31m--------------------------------------------  ROUND :  5   --------------------------------------------\n",
      "\u001b[0m\n",
      "\u001b[5m\u001b[7m\u001b[32m  || LAUNCHING || \n",
      "\u001b[0m\n",
      "\u001b[34mTO EXPLORE : \u001b[0m\n",
      "\u001b[32m20\u001b[0m -> 0.0015 0.0024 0.0031 0.0028 0.0036 0.0036 0.0042 0.0024 0.0031 0.0\n",
      "\u001b[32m25\u001b[0m -> 0.0038 0.0061 0.0002 0.0012 0.0 0.0004 0.0004 0.0022 0.0007 0.0047\n",
      "\u001b[32m30\u001b[0m -> 0.0027 0.0035 0.005 0.0031 0.0038 0.0045 0.0075 0.0001 0.0004 0.0\n",
      "\u001b[32m25\u001b[0m -> 0.0 0.0 0.0 0.0 0.0 0.0 0.0 0.0 0.0 0.0\n",
      "\u001b[32m30\u001b[0m -> 0.0 0.0 0.0 0.0 0.0 0.0 0.0 0.0 0.0 0.0\n",
      "\u001b[32m35\u001b[0m -> 0.0 0.0 0.0 0.0 0.0 0.0 0.0 0.0 0.0 0.0\n",
      "\u001b[32m40\u001b[0m -> 0.0 0.0 0.0 0.0 0.0 0.0 0.0 0.0 0.0 0.0\n",
      "\u001b[32m45\u001b[0m -> 0.0 0.0 0.0 0.0 0.0 0.0 0.0 0.0 0.0 0.0\n",
      "\u001b[32m50\u001b[0m -> 0.0 0.0 0.0 0.0 0.0 0.0 0.0 0.0 0.0 0.0\n",
      "\u001b[32m55\u001b[0m -> 0.0 0.0 0.0 0.0 0.0 0.0 0.0 0.0 0.0 0.0\n",
      "\u001b[32m60\u001b[0m -> 0.0 0.0 0.0 0.0 0.0 0.0 0.0 0.0 0.0 0.0\n",
      "\u001b[32m65\u001b[0m -> 0.0 0.0 0.0 0.0 0.0 0.0 0.0 0.0 0.0 0.0\n",
      "\u001b[32m70\u001b[0m -> 0.0 0.0 0.0 0.0 0.0 0.0 0.0 0.0 0.0 0.0\n",
      "\u001b[32m75\u001b[0m -> 0.0 0.0 0.0 0.0 0.0 0.0 0.0 0.0 0.0 0.0\n",
      "\u001b[32m80\u001b[0m -> 0.0 0.0 0.0 0.0 0.0 0.0 0.0 0.0 0.0 0.0\n",
      "\u001b[32m85\u001b[0m -> 0.0 0.0 0.0 0.0 0.0 0.0 0.0 0.0 0.0 0.0\n",
      "\u001b[32m90\u001b[0m -> 0.0 0.0 0.0 0.0 0.0 0.0 0.0 0.0 0.0 0.0\n",
      "\u001b[32m95\u001b[0m -> 0.0 0.0 0.0 0.0 0.0 0.0 0.0 0.0 0.0 0.0\n",
      "grisou-47 => 0 NPROCS = 10 MIN = 20 MAX = 25 N = 100 DELAY = '0.0015 0.0024 0.0031 0.0028 0.0036 0.0036 0.0042 0.0024 0.0031 0.0'\n",
      "\n",
      "grisou-48 => 1 NPROCS = 10 MIN = 25 MAX = 30 N = 100 DELAY = '0.0038 0.0061 0.0002 0.0012 0.0 0.0004 0.0004 0.0022 0.0007 0.0047'\n",
      "\n",
      "grisou-5 => 2 NPROCS = 10 MIN = 30 MAX = 35 N = 100 DELAY = '0.0027 0.0035 0.005 0.0031 0.0038 0.0045 0.0075 0.0001 0.0004 0.0'\n",
      "\n",
      "pj_dump DONE\n"
     ]
    },
    {
     "name": "stderr",
     "output_type": "stream",
     "text": [
      "/home/nezzine/.local/lib/python3.5/site-packages/rpy2/robjects/pandas2ri.py:191: FutureWarning: from_items is deprecated. Please use DataFrame.from_dict(dict(items), ...) instead. DataFrame.from_dict(OrderedDict(items)) may be used to preserve the key order.\n",
      "  res = PandasDataFrame.from_items(items)\n"
     ]
    },
    {
     "data": {
      "text/plain": [
       "'data.frame':\t126 obs. of  7 variables:\n",
       " $ Rank    : num  0 0 0 0 0 0 0 0 0 0 ...\n",
       " $ Start   : num  0 0.000105 0.000105 0.000105 0.000105 ...\n",
       " $ End     : num  0.00983 0.00155 0.00166 0.00166 0.00167 ...\n",
       " $ Duration: num  0.00983 0.00145 0.00155 0.00155 0.00157 ...\n",
       " $ State   : Factor w/ 14 levels \"\",\"PMPI_Bcast\",..: 1 5 5 5 5 6 7 13 9 9 ...\n",
       " $ NA      : Factor w/ 11 levels \"\",\"rank-0\",\"rank-1\",..: 1 3 10 4 6 4 5 11 7 8 ...\n",
       " $ NA.1    : Factor w/ 46 levels \"\",\"0_1_-3334_27\",..: 1 3 7 5 6 9 14 44 25 28 ...\n"
      ]
     },
     "metadata": {},
     "output_type": "display_data"
    },
    {
     "data": {
      "image/png": "[encoded data removed]"
     },
     "metadata": {},
     "output_type": "display_data"
    },
    {
     "name": "stdout",
     "output_type": "stream",
     "text": [
      "pj_dump DONE\n"
     ]
    },
    {
     "name": "stderr",
     "output_type": "stream",
     "text": [
      "/home/nezzine/.local/lib/python3.5/site-packages/rpy2/robjects/pandas2ri.py:191: FutureWarning: from_items is deprecated. Please use DataFrame.from_dict(dict(items), ...) instead. DataFrame.from_dict(OrderedDict(items)) may be used to preserve the key order.\n",
      "  res = PandasDataFrame.from_items(items)\n"
     ]
    },
    {
     "data": {
      "text/plain": [
       "'data.frame':\t126 obs. of  7 variables:\n",
       " $ Rank    : num  0 0 0 0 0 0 0 0 0 0 ...\n",
       " $ Start   : num  0.0 2.8e-05 2.8e-05 2.8e-05 2.8e-05 ...\n",
       " $ End     : num  0.00928 0.00128 0.0014 0.00147 0.00155 ...\n",
       " $ Duration: num  0.00928 0.00125 0.00137 0.00144 0.00153 ...\n",
       " $ State   : Factor w/ 14 levels \"\",\"PMPI_Bcast\",..: 1 10 10 10 10 8 11 12 14 14 ...\n",
       " $ NA      : Factor w/ 11 levels \"\",\"rank-0\",\"rank-1\",..: 1 8 5 9 11 6 9 10 2 3 ...\n",
       " $ NA.1    : Factor w/ 46 levels \"\",\"0_1_-3334_21\",..: 1 20 18 22 23 14 27 31 40 43 ...\n"
      ]
     },
     "metadata": {},
     "output_type": "display_data"
    },
    {
     "data": {
      "image/png": "[encoded data removed]"
     },
     "metadata": {},
     "output_type": "display_data"
    },
    {
     "name": "stdout",
     "output_type": "stream",
     "text": [
      "pj_dump DONE\n"
     ]
    },
    {
     "name": "stderr",
     "output_type": "stream",
     "text": [
      "/home/nezzine/.local/lib/python3.5/site-packages/rpy2/robjects/pandas2ri.py:191: FutureWarning: from_items is deprecated. Please use DataFrame.from_dict(dict(items), ...) instead. DataFrame.from_dict(OrderedDict(items)) may be used to preserve the key order.\n",
      "  res = PandasDataFrame.from_items(items)\n"
     ]
    },
    {
     "data": {
      "text/plain": [
       "'data.frame':\t126 obs. of  7 variables:\n",
       " $ Rank    : num  0 0 0 0 0 0 0 0 0 0 ...\n",
       " $ Start   : num  0 0.000189 0.000189 0.000189 0.000189 ...\n",
       " $ End     : num  0.0094 0.00152 0.00164 0.00166 0.0017 ...\n",
       " $ Duration: num  0.0094 0.00133 0.00145 0.00147 0.00151 ...\n",
       " $ State   : Factor w/ 14 levels \"\",\"PMPI_Bcast\",..: 1 5 5 5 5 13 7 6 9 9 ...\n",
       " $ NA      : Factor w/ 11 levels \"\",\"rank-0\",\"rank-1\",..: 1 10 3 6 4 11 5 4 7 8 ...\n",
       " $ NA.1    : Factor w/ 46 levels \"\",\"0_1_-3334_27\",..: 1 7 3 6 5 44 14 9 25 28 ...\n"
      ]
     },
     "metadata": {},
     "output_type": "display_data"
    },
    {
     "data": {
      "image/png": "[encoded data removed]"
     },
     "metadata": {},
     "output_type": "display_data"
    },
    {
     "name": "stdout",
     "output_type": "stream",
     "text": [
      "\u001b[33mT_curr : \u001b[0m 20\n",
      "\u001b[33mD_curr : \u001b[0m 0.0015 0.0024 0.0031 0.0028 0.0036 0.0036 0.0042 0.0024 0.0031 0.0\n",
      "\u001b[33mDprime : \u001b[0m 0.0034 0.004 0.0019 0.0025 0.0 0.0014 0.0021 0.0027 0.0025 0.0034\n",
      "\u001b[31mtotal execution time : \u001b[0m 0.0222\n",
      "\n",
      "\u001b[5m\u001b[7m\u001b[31m\n",
      "  || RESULTS || \n",
      "\u001b[0m\n",
      "\u001b[34mTO EXPLORE : \u001b[0m\n",
      "\u001b[32m25\u001b[0m -> 0.0 0.0 0.0 0.0 0.0 0.0 0.0 0.0 0.0 0.0\n",
      "\u001b[32m30\u001b[0m -> 0.0 0.0 0.0 0.0 0.0 0.0 0.0 0.0 0.0 0.0\n",
      "\u001b[32m35\u001b[0m -> 0.0 0.0 0.0 0.0 0.0 0.0 0.0 0.0 0.0 0.0\n",
      "\u001b[32m40\u001b[0m -> 0.0 0.0 0.0 0.0 0.0 0.0 0.0 0.0 0.0 0.0\n",
      "\u001b[32m45\u001b[0m -> 0.0 0.0 0.0 0.0 0.0 0.0 0.0 0.0 0.0 0.0\n",
      "\u001b[32m50\u001b[0m -> 0.0 0.0 0.0 0.0 0.0 0.0 0.0 0.0 0.0 0.0\n",
      "\u001b[32m55\u001b[0m -> 0.0 0.0 0.0 0.0 0.0 0.0 0.0 0.0 0.0 0.0\n",
      "\u001b[32m60\u001b[0m -> 0.0 0.0 0.0 0.0 0.0 0.0 0.0 0.0 0.0 0.0\n",
      "\u001b[32m65\u001b[0m -> 0.0 0.0 0.0 0.0 0.0 0.0 0.0 0.0 0.0 0.0\n",
      "\u001b[32m70\u001b[0m -> 0.0 0.0 0.0 0.0 0.0 0.0 0.0 0.0 0.0 0.0\n",
      "\u001b[32m75\u001b[0m -> 0.0 0.0 0.0 0.0 0.0 0.0 0.0 0.0 0.0 0.0\n",
      "\u001b[32m80\u001b[0m -> 0.0 0.0 0.0 0.0 0.0 0.0 0.0 0.0 0.0 0.0\n",
      "\u001b[32m85\u001b[0m -> 0.0 0.0 0.0 0.0 0.0 0.0 0.0 0.0 0.0 0.0\n",
      "\u001b[32m90\u001b[0m -> 0.0 0.0 0.0 0.0 0.0 0.0 0.0 0.0 0.0 0.0\n",
      "\u001b[32m95\u001b[0m -> 0.0 0.0 0.0 0.0 0.0 0.0 0.0 0.0 0.0 0.0\n",
      "\u001b[35m0\u001b[0m\n",
      "\t\u001b[35m0.0 0.0 0.0 0.0 0.0 0.0 0.0 0.0 0.0 0.0\u001b[0m\n",
      "\t\t('0.0037 0.0043 0.0025 0.0031 0.0 0.0016 0.0025 0.0031 0.0028 0.0037', 1, 0, 0.0054)\n",
      "\u001b[35m5\u001b[0m\n",
      "\t\u001b[35m0.0 0.0 0.0 0.0 0.0 0.0 0.0 0.0 0.0 0.0\u001b[0m\n",
      "\t\t('0.0016 0.0025 0.0031 0.0028 0.0037 0.0037 0.0043 0.0025 0.0031 0.0', 1, 1, 0.0054)\n",
      "\t\u001b[35m0.0037 0.0043 0.0025 0.0031 0.0 0.0016 0.0025 0.0031 0.0028 0.0037\u001b[0m\n",
      "\t\t('0.0015 0.0024 0.0031 0.0028 0.0036 0.0036 0.0042 0.0024 0.0031 0.0', 2, 0, 0.0056)\n",
      "\u001b[35m10\u001b[0m\n",
      "\t\u001b[35m0.0 0.0 0.0 0.0 0.0 0.0 0.0 0.0 0.0 0.0\u001b[0m\n",
      "\t\t('0.0037 0.0043 0.0025 0.0031 0.0 0.0016 0.0025 0.0031 0.0028 0.0037', 1, 2, 0.0054)\n",
      "\t\u001b[35m0.0008 0.0043 0.0059 0.0042 0.0034 0.0052 0.0065 0.0008 0.0056 0.0\u001b[0m\n",
      "\t\t('0.0037 0.0043 0.0026 0.0032 0.0 0.0016 0.0026 0.0032 0.0029 0.0037', 2, 1, 0.0058)\n",
      "\t\u001b[35m0.0015 0.0024 0.0031 0.0028 0.0036 0.0036 0.0042 0.0024 0.0031 0.0\u001b[0m\n",
      "\t\t('0.0036 0.0042 0.0024 0.0031 0.0 0.0015 0.0024 0.0031 0.0028 0.0036', 3, 0, 0.0056)\n",
      "\u001b[35m15\u001b[0m\n",
      "\t\u001b[35m0.0069 0.0085 0.0007 0.0034 0.0 0.0001 0.0005 0.005 0.0023 0.0025\u001b[0m\n",
      "\t\t('0.0015 0.0023 0.003 0.0027 0.0035 0.0035 0.0041 0.0021 0.0027 0.0', 3, 1, 0.0055)\n",
      "\t\u001b[35m0.0026 0.0053 0.0023 0.0053 0.0 0.0021 0.0023 0.0048 0.0032 0.0018\u001b[0m\n",
      "\t\t('0.0016 0.0025 0.0031 0.0028 0.0037 0.0037 0.0043 0.0026 0.0032 0.0', 2, 2, 0.0057)\n",
      "\t\u001b[35m0.0036 0.0042 0.0024 0.0031 0.0 0.0015 0.0024 0.0031 0.0028 0.0036\u001b[0m\n",
      "\t\t('0.0015 0.0024 0.0031 0.0028 0.0036 0.0036 0.0042 0.0024 0.0031 0.0', 4, 0, 0.0056)\n",
      "\u001b[35m20\u001b[0m\n",
      "\t\u001b[35m0.0015 0.0024 0.0031 0.0028 0.0036 0.0036 0.0042 0.0024 0.0031 0.0\u001b[0m\n",
      "\t\t('0.0036 0.0042 0.0024 0.0031 0.0 0.0015 0.0024 0.0031 0.0028 0.0036', 5, 0, 0.0056)\n",
      "\t\u001b[35m0.0027 0.001 0.0019 0.001 0.0003 0.0012 0.0056 0.0019 0.0031 0.0\u001b[0m\n",
      "\t\t('0.0036 0.0042 0.0024 0.003 0.0 0.0015 0.0024 0.003 0.0028 0.0036', 4, 1, 0.0056)\n",
      "\t\u001b[35m0.0021 0.0015 0.0021 0.0021 0.0027 0.0062 0.0036 0.0039 0.005 0.0\u001b[0m\n",
      "\t\t('0.0036 0.0042 0.0023 0.003 0.0 0.0013 0.002 0.0027 0.0028 0.0036', 3, 2, 0.0052)\n",
      "\u001b[35m25\u001b[0m\n",
      "\t\u001b[35m0.0038 0.0061 0.0002 0.0012 0.0 0.0004 0.0004 0.0022 0.0007 0.0047\u001b[0m\n",
      "\t\t('0.0015 0.0022 0.0028 0.0026 0.0035 0.0035 0.0041 0.002 0.0026 0.0', 5, 1, 0.0052)\n",
      "\t\u001b[35m0.0061 0.0006 0.0017 0.0037 0.0 0.0002 0.0006 0.0024 0.0049 0.0047\u001b[0m\n",
      "\t\t('0.0014 0.0021 0.0027 0.0028 0.0036 0.0036 0.0042 0.0023 0.003 0.0', 4, 2, 0.0051)\n",
      "\u001b[35m30\u001b[0m\n",
      "\t\u001b[35m0.0027 0.0035 0.005 0.0031 0.0038 0.0045 0.0075 0.0001 0.0004 0.0\u001b[0m\n",
      "\t\t('0.0034 0.004 0.0019 0.0025 0.0 0.0014 0.0021 0.0027 0.0025 0.0034', 5, 2, 0.0054)\n",
      "\u001b[1m\u001b[33mT_curr : \u001b[0m 25\n",
      "\u001b[1m\u001b[33mD_curr : \u001b[0m 0.0036 0.0042 0.0024 0.0031 0.0 0.0015 0.0024 0.0031 0.0028 0.0036\n",
      "\u001b[1m\u001b[33mDprime : \u001b[0m 0.0034 0.004 0.0019 0.0025 0.0 0.0014 0.0021 0.0027 0.0025 0.0034\n",
      "\u001b[1m\u001b[31mtotal execution time : \u001b[0m 0.027800000000000002\n",
      "\n",
      "\u001b[5m\u001b[7m\u001b[35m  || ANALYSIS || \n",
      "\u001b[0m\n",
      "[35] Generated RAND Dprime : 0.0051 0.0036 0.0005 0.0049 0.0 0.0023 0.0015 0.0028 0.0007 0.001\n",
      "[30] Generated RAND Dprime : 0.0024 0.0014 0.0028 0.0005 0.0065 0.0025 0.0073 0.0038 0.0012 0.0\n",
      "\u001b[34mTO EXPLORE : \u001b[0m\n",
      "\u001b[32m25\u001b[0m -> 0.0036 0.0042 0.0024 0.0031 0.0 0.0015 0.0024 0.0031 0.0028 0.0036\n",
      "\u001b[32m30\u001b[0m -> 0.0024 0.0014 0.0028 0.0005 0.0065 0.0025 0.0073 0.0038 0.0012 0.0\n",
      "\u001b[32m35\u001b[0m -> 0.0051 0.0036 0.0005 0.0049 0.0 0.0023 0.0015 0.0028 0.0007 0.001\n",
      "\u001b[32m30\u001b[0m -> 0.0 0.0 0.0 0.0 0.0 0.0 0.0 0.0 0.0 0.0\n",
      "\u001b[32m35\u001b[0m -> 0.0 0.0 0.0 0.0 0.0 0.0 0.0 0.0 0.0 0.0\n",
      "\u001b[32m40\u001b[0m -> 0.0 0.0 0.0 0.0 0.0 0.0 0.0 0.0 0.0 0.0\n",
      "\u001b[32m45\u001b[0m -> 0.0 0.0 0.0 0.0 0.0 0.0 0.0 0.0 0.0 0.0\n",
      "\u001b[32m50\u001b[0m -> 0.0 0.0 0.0 0.0 0.0 0.0 0.0 0.0 0.0 0.0\n",
      "\u001b[32m55\u001b[0m -> 0.0 0.0 0.0 0.0 0.0 0.0 0.0 0.0 0.0 0.0\n",
      "\u001b[32m60\u001b[0m -> 0.0 0.0 0.0 0.0 0.0 0.0 0.0 0.0 0.0 0.0\n",
      "\u001b[32m65\u001b[0m -> 0.0 0.0 0.0 0.0 0.0 0.0 0.0 0.0 0.0 0.0\n",
      "\u001b[32m70\u001b[0m -> 0.0 0.0 0.0 0.0 0.0 0.0 0.0 0.0 0.0 0.0\n",
      "\u001b[32m75\u001b[0m -> 0.0 0.0 0.0 0.0 0.0 0.0 0.0 0.0 0.0 0.0\n",
      "\u001b[32m80\u001b[0m -> 0.0 0.0 0.0 0.0 0.0 0.0 0.0 0.0 0.0 0.0\n",
      "\u001b[32m85\u001b[0m -> 0.0 0.0 0.0 0.0 0.0 0.0 0.0 0.0 0.0 0.0\n",
      "\u001b[32m90\u001b[0m -> 0.0 0.0 0.0 0.0 0.0 0.0 0.0 0.0 0.0 0.0\n",
      "\u001b[32m95\u001b[0m -> 0.0 0.0 0.0 0.0 0.0 0.0 0.0 0.0 0.0 0.0\n",
      "\u001b[5m\u001b[7m\u001b[31m--------------------------------------------  ROUND :  6   --------------------------------------------\n",
      "\u001b[0m\n",
      "\u001b[5m\u001b[7m\u001b[32m  || LAUNCHING || \n",
      "\u001b[0m\n",
      "\u001b[34mTO EXPLORE : \u001b[0m\n",
      "\u001b[32m25\u001b[0m -> 0.0036 0.0042 0.0024 0.0031 0.0 0.0015 0.0024 0.0031 0.0028 0.0036\n",
      "\u001b[32m30\u001b[0m -> 0.0024 0.0014 0.0028 0.0005 0.0065 0.0025 0.0073 0.0038 0.0012 0.0\n",
      "\u001b[32m35\u001b[0m -> 0.0051 0.0036 0.0005 0.0049 0.0 0.0023 0.0015 0.0028 0.0007 0.001\n",
      "\u001b[32m30\u001b[0m -> 0.0 0.0 0.0 0.0 0.0 0.0 0.0 0.0 0.0 0.0\n",
      "\u001b[32m35\u001b[0m -> 0.0 0.0 0.0 0.0 0.0 0.0 0.0 0.0 0.0 0.0\n",
      "\u001b[32m40\u001b[0m -> 0.0 0.0 0.0 0.0 0.0 0.0 0.0 0.0 0.0 0.0\n",
      "\u001b[32m45\u001b[0m -> 0.0 0.0 0.0 0.0 0.0 0.0 0.0 0.0 0.0 0.0\n",
      "\u001b[32m50\u001b[0m -> 0.0 0.0 0.0 0.0 0.0 0.0 0.0 0.0 0.0 0.0\n",
      "\u001b[32m55\u001b[0m -> 0.0 0.0 0.0 0.0 0.0 0.0 0.0 0.0 0.0 0.0\n",
      "\u001b[32m60\u001b[0m -> 0.0 0.0 0.0 0.0 0.0 0.0 0.0 0.0 0.0 0.0\n",
      "\u001b[32m65\u001b[0m -> 0.0 0.0 0.0 0.0 0.0 0.0 0.0 0.0 0.0 0.0\n",
      "\u001b[32m70\u001b[0m -> 0.0 0.0 0.0 0.0 0.0 0.0 0.0 0.0 0.0 0.0\n",
      "\u001b[32m75\u001b[0m -> 0.0 0.0 0.0 0.0 0.0 0.0 0.0 0.0 0.0 0.0\n",
      "\u001b[32m80\u001b[0m -> 0.0 0.0 0.0 0.0 0.0 0.0 0.0 0.0 0.0 0.0\n",
      "\u001b[32m85\u001b[0m -> 0.0 0.0 0.0 0.0 0.0 0.0 0.0 0.0 0.0 0.0\n",
      "\u001b[32m90\u001b[0m -> 0.0 0.0 0.0 0.0 0.0 0.0 0.0 0.0 0.0 0.0\n",
      "\u001b[32m95\u001b[0m -> 0.0 0.0 0.0 0.0 0.0 0.0 0.0 0.0 0.0 0.0\n",
      "grisou-47 => 0 NPROCS = 10 MIN = 25 MAX = 30 N = 100 DELAY = '0.0036 0.0042 0.0024 0.0031 0.0 0.0015 0.0024 0.0031 0.0028 0.0036'\n",
      "\n",
      "grisou-48 => 1 NPROCS = 10 MIN = 30 MAX = 35 N = 100 DELAY = '0.0024 0.0014 0.0028 0.0005 0.0065 0.0025 0.0073 0.0038 0.0012 0.0'\n",
      "\n",
      "grisou-5 => 2 NPROCS = 10 MIN = 35 MAX = 40 N = 100 DELAY = '0.0051 0.0036 0.0005 0.0049 0.0 0.0023 0.0015 0.0028 0.0007 0.001'\n",
      "\n",
      "pj_dump DONE\n"
     ]
    },
    {
     "name": "stderr",
     "output_type": "stream",
     "text": [
      "/home/nezzine/.local/lib/python3.5/site-packages/rpy2/robjects/pandas2ri.py:191: FutureWarning: from_items is deprecated. Please use DataFrame.from_dict(dict(items), ...) instead. DataFrame.from_dict(OrderedDict(items)) may be used to preserve the key order.\n",
      "  res = PandasDataFrame.from_items(items)\n"
     ]
    },
    {
     "data": {
      "text/plain": [
       "'data.frame':\t126 obs. of  7 variables:\n",
       " $ Rank    : num  0 0 0 0 0 0 0 0 0 0 ...\n",
       " $ Start   : num  0 0.000105 0.000105 0.000105 0.000105 ...\n",
       " $ End     : num  0.00983 0.00155 0.00166 0.00166 0.00167 ...\n",
       " $ Duration: num  0.00983 0.00145 0.00155 0.00155 0.00157 ...\n",
       " $ State   : Factor w/ 14 levels \"\",\"PMPI_Bcast\",..: 1 10 10 10 10 11 8 12 14 14 ...\n",
       " $ NA      : Factor w/ 11 levels \"\",\"rank-0\",\"rank-1\",..: 1 8 9 5 11 9 6 10 2 3 ...\n",
       " $ NA.1    : Factor w/ 46 levels \"\",\"0_1_-3334_21\",..: 1 20 22 18 23 27 12 33 40 43 ...\n"
      ]
     },
     "metadata": {},
     "output_type": "display_data"
    },
    {
     "data": {
      "image/png": "[encoded data removed]"
     },
     "metadata": {},
     "output_type": "display_data"
    },
    {
     "name": "stdout",
     "output_type": "stream",
     "text": [
      "pj_dump DONE\n"
     ]
    },
    {
     "name": "stderr",
     "output_type": "stream",
     "text": [
      "/home/nezzine/.local/lib/python3.5/site-packages/rpy2/robjects/pandas2ri.py:191: FutureWarning: from_items is deprecated. Please use DataFrame.from_dict(dict(items), ...) instead. DataFrame.from_dict(OrderedDict(items)) may be used to preserve the key order.\n",
      "  res = PandasDataFrame.from_items(items)\n"
     ]
    },
    {
     "data": {
      "text/plain": [
       "'data.frame':\t126 obs. of  7 variables:\n",
       " $ Rank    : num  0 0 0 0 0 0 0 0 0 0 ...\n",
       " $ Start   : num  0 0.000168 0.000168 0.000168 0.000168 ...\n",
       " $ End     : num  0.00949 0.00154 0.00154 0.00157 0.00169 ...\n",
       " $ Duration: num  0.00949 0.00137 0.00137 0.0014 0.00152 ...\n",
       " $ State   : Factor w/ 14 levels \"\",\"PMPI_Bcast\",..: 1 5 5 5 5 13 6 7 9 9 ...\n",
       " $ NA      : Factor w/ 11 levels \"\",\"rank-0\",\"rank-1\",..: 1 3 10 4 6 11 4 5 7 8 ...\n",
       " $ NA.1    : Factor w/ 46 levels \"\",\"0_1_-3334_27\",..: 1 3 7 5 6 44 9 14 25 28 ...\n"
      ]
     },
     "metadata": {},
     "output_type": "display_data"
    },
    {
     "data": {
      "image/png": "[encoded data removed]"
     },
     "metadata": {},
     "output_type": "display_data"
    },
    {
     "name": "stdout",
     "output_type": "stream",
     "text": [
      "pj_dump DONE\n"
     ]
    },
    {
     "name": "stderr",
     "output_type": "stream",
     "text": [
      "/home/nezzine/.local/lib/python3.5/site-packages/rpy2/robjects/pandas2ri.py:191: FutureWarning: from_items is deprecated. Please use DataFrame.from_dict(dict(items), ...) instead. DataFrame.from_dict(OrderedDict(items)) may be used to preserve the key order.\n",
      "  res = PandasDataFrame.from_items(items)\n"
     ]
    },
    {
     "data": {
      "text/plain": [
       "'data.frame':\t126 obs. of  7 variables:\n",
       " $ Rank    : num  0 0 0 0 0 0 0 0 0 0 ...\n",
       " $ Start   : num  0 0.000161 0.000161 0.000161 0.000161 ...\n",
       " $ End     : num  0.00964 0.00156 0.00156 0.0016 0.00167 ...\n",
       " $ Duration: num  0.00964 0.0014 0.0014 0.00144 0.00151 ...\n",
       " $ State   : Factor w/ 14 levels \"\",\"PMPI_Bcast\",..: 1 10 10 10 10 11 12 8 14 14 ...\n",
       " $ NA      : Factor w/ 11 levels \"\",\"rank-0\",\"rank-1\",..: 1 8 11 9 5 9 10 6 2 3 ...\n",
       " $ NA.1    : Factor w/ 46 levels \"\",\"0_1_-3334_21\",..: 1 20 23 22 18 26 31 12 42 44 ...\n"
      ]
     },
     "metadata": {},
     "output_type": "display_data"
    },
    {
     "data": {
      "image/png": "[encoded data removed]"
     },
     "metadata": {},
     "output_type": "display_data"
    },
    {
     "name": "stdout",
     "output_type": "stream",
     "text": [
      "\u001b[33mT_curr : \u001b[0m 25\n",
      "\u001b[33mD_curr : \u001b[0m 0.0036 0.0042 0.0024 0.0031 0.0 0.0015 0.0024 0.0031 0.0028 0.0036\n",
      "\u001b[33mDprime : \u001b[0m 0.0014 0.0022 0.0028 0.0028 0.0036 0.0036 0.0042 0.0024 0.0031 0.0\n",
      "\u001b[31mtotal execution time : \u001b[0m 0.027800000000000002\n",
      "\n",
      "\u001b[5m\u001b[7m\u001b[31m\n",
      "  || RESULTS || \n",
      "\u001b[0m\n",
      "\u001b[34mTO EXPLORE : \u001b[0m\n",
      "\u001b[32m30\u001b[0m -> 0.0 0.0 0.0 0.0 0.0 0.0 0.0 0.0 0.0 0.0\n",
      "\u001b[32m35\u001b[0m -> 0.0 0.0 0.0 0.0 0.0 0.0 0.0 0.0 0.0 0.0\n",
      "\u001b[32m40\u001b[0m -> 0.0 0.0 0.0 0.0 0.0 0.0 0.0 0.0 0.0 0.0\n",
      "\u001b[32m45\u001b[0m -> 0.0 0.0 0.0 0.0 0.0 0.0 0.0 0.0 0.0 0.0\n",
      "\u001b[32m50\u001b[0m -> 0.0 0.0 0.0 0.0 0.0 0.0 0.0 0.0 0.0 0.0\n",
      "\u001b[32m55\u001b[0m -> 0.0 0.0 0.0 0.0 0.0 0.0 0.0 0.0 0.0 0.0\n",
      "\u001b[32m60\u001b[0m -> 0.0 0.0 0.0 0.0 0.0 0.0 0.0 0.0 0.0 0.0\n",
      "\u001b[32m65\u001b[0m -> 0.0 0.0 0.0 0.0 0.0 0.0 0.0 0.0 0.0 0.0\n",
      "\u001b[32m70\u001b[0m -> 0.0 0.0 0.0 0.0 0.0 0.0 0.0 0.0 0.0 0.0\n",
      "\u001b[32m75\u001b[0m -> 0.0 0.0 0.0 0.0 0.0 0.0 0.0 0.0 0.0 0.0\n",
      "\u001b[32m80\u001b[0m -> 0.0 0.0 0.0 0.0 0.0 0.0 0.0 0.0 0.0 0.0\n",
      "\u001b[32m85\u001b[0m -> 0.0 0.0 0.0 0.0 0.0 0.0 0.0 0.0 0.0 0.0\n",
      "\u001b[32m90\u001b[0m -> 0.0 0.0 0.0 0.0 0.0 0.0 0.0 0.0 0.0 0.0\n",
      "\u001b[32m95\u001b[0m -> 0.0 0.0 0.0 0.0 0.0 0.0 0.0 0.0 0.0 0.0\n",
      "\u001b[35m0\u001b[0m\n",
      "\t\u001b[35m0.0 0.0 0.0 0.0 0.0 0.0 0.0 0.0 0.0 0.0\u001b[0m\n",
      "\t\t('0.0037 0.0043 0.0025 0.0031 0.0 0.0016 0.0025 0.0031 0.0028 0.0037', 1, 0, 0.0054)\n",
      "\u001b[35m5\u001b[0m\n",
      "\t\u001b[35m0.0 0.0 0.0 0.0 0.0 0.0 0.0 0.0 0.0 0.0\u001b[0m\n",
      "\t\t('0.0016 0.0025 0.0031 0.0028 0.0037 0.0037 0.0043 0.0025 0.0031 0.0', 1, 1, 0.0054)\n",
      "\t\u001b[35m0.0037 0.0043 0.0025 0.0031 0.0 0.0016 0.0025 0.0031 0.0028 0.0037\u001b[0m\n",
      "\t\t('0.0015 0.0024 0.0031 0.0028 0.0036 0.0036 0.0042 0.0024 0.0031 0.0', 2, 0, 0.0056)\n",
      "\u001b[35m10\u001b[0m\n",
      "\t\u001b[35m0.0 0.0 0.0 0.0 0.0 0.0 0.0 0.0 0.0 0.0\u001b[0m\n",
      "\t\t('0.0037 0.0043 0.0025 0.0031 0.0 0.0016 0.0025 0.0031 0.0028 0.0037', 1, 2, 0.0054)\n",
      "\t\u001b[35m0.0008 0.0043 0.0059 0.0042 0.0034 0.0052 0.0065 0.0008 0.0056 0.0\u001b[0m\n",
      "\t\t('0.0037 0.0043 0.0026 0.0032 0.0 0.0016 0.0026 0.0032 0.0029 0.0037', 2, 1, 0.0058)\n",
      "\t\u001b[35m0.0015 0.0024 0.0031 0.0028 0.0036 0.0036 0.0042 0.0024 0.0031 0.0\u001b[0m\n",
      "\t\t('0.0036 0.0042 0.0024 0.0031 0.0 0.0015 0.0024 0.0031 0.0028 0.0036', 3, 0, 0.0056)\n",
      "\u001b[35m15\u001b[0m\n",
      "\t\u001b[35m0.0069 0.0085 0.0007 0.0034 0.0 0.0001 0.0005 0.005 0.0023 0.0025\u001b[0m\n",
      "\t\t('0.0015 0.0023 0.003 0.0027 0.0035 0.0035 0.0041 0.0021 0.0027 0.0', 3, 1, 0.0055)\n",
      "\t\u001b[35m0.0026 0.0053 0.0023 0.0053 0.0 0.0021 0.0023 0.0048 0.0032 0.0018\u001b[0m\n",
      "\t\t('0.0016 0.0025 0.0031 0.0028 0.0037 0.0037 0.0043 0.0026 0.0032 0.0', 2, 2, 0.0057)\n",
      "\t\u001b[35m0.0036 0.0042 0.0024 0.0031 0.0 0.0015 0.0024 0.0031 0.0028 0.0036\u001b[0m\n",
      "\t\t('0.0015 0.0024 0.0031 0.0028 0.0036 0.0036 0.0042 0.0024 0.0031 0.0', 4, 0, 0.0056)\n",
      "\u001b[35m20\u001b[0m\n",
      "\t\u001b[35m0.0015 0.0024 0.0031 0.0028 0.0036 0.0036 0.0042 0.0024 0.0031 0.0\u001b[0m\n",
      "\t\t('0.0036 0.0042 0.0024 0.0031 0.0 0.0015 0.0024 0.0031 0.0028 0.0036', 5, 0, 0.0056)\n",
      "\t\u001b[35m0.0027 0.001 0.0019 0.001 0.0003 0.0012 0.0056 0.0019 0.0031 0.0\u001b[0m\n",
      "\t\t('0.0036 0.0042 0.0024 0.003 0.0 0.0015 0.0024 0.003 0.0028 0.0036', 4, 1, 0.0056)\n",
      "\t\u001b[35m0.0021 0.0015 0.0021 0.0021 0.0027 0.0062 0.0036 0.0039 0.005 0.0\u001b[0m\n",
      "\t\t('0.0036 0.0042 0.0023 0.003 0.0 0.0013 0.002 0.0027 0.0028 0.0036', 3, 2, 0.0052)\n",
      "\u001b[35m25\u001b[0m\n",
      "\t\u001b[35m0.0036 0.0042 0.0024 0.0031 0.0 0.0015 0.0024 0.0031 0.0028 0.0036\u001b[0m\n",
      "\t\t('0.0015 0.0024 0.0031 0.0028 0.0036 0.0036 0.0042 0.0024 0.0031 0.0', 6, 0, 0.0056)\n",
      "\t\u001b[35m0.0038 0.0061 0.0002 0.0012 0.0 0.0004 0.0004 0.0022 0.0007 0.0047\u001b[0m\n",
      "\t\t('0.0015 0.0022 0.0028 0.0026 0.0035 0.0035 0.0041 0.002 0.0026 0.0', 5, 1, 0.0052)\n",
      "\t\u001b[35m0.0061 0.0006 0.0017 0.0037 0.0 0.0002 0.0006 0.0024 0.0049 0.0047\u001b[0m\n",
      "\t\t('0.0014 0.0021 0.0027 0.0028 0.0036 0.0036 0.0042 0.0023 0.003 0.0', 4, 2, 0.0051)\n",
      "\u001b[35m30\u001b[0m\n",
      "\t\u001b[35m0.0027 0.0035 0.005 0.0031 0.0038 0.0045 0.0075 0.0001 0.0004 0.0\u001b[0m\n",
      "\t\t('0.0034 0.004 0.0019 0.0025 0.0 0.0014 0.0021 0.0027 0.0025 0.0034', 5, 2, 0.0054)\n",
      "\t\u001b[35m0.0024 0.0014 0.0028 0.0005 0.0065 0.0025 0.0073 0.0038 0.0012 0.0\u001b[0m\n",
      "\t\t('0.0036 0.0042 0.0022 0.0029 0.0 0.0015 0.0024 0.003 0.0027 0.0036', 6, 1, 0.0053)\n",
      "\u001b[35m35\u001b[0m\n",
      "\t\u001b[35m0.0051 0.0036 0.0005 0.0049 0.0 0.0023 0.0015 0.0028 0.0007 0.001\u001b[0m\n",
      "\t\t('0.0014 0.0022 0.0028 0.0028 0.0036 0.0036 0.0042 0.0024 0.0031 0.0', 6, 2, 0.0054)\n",
      "\u001b[1m\u001b[33mT_curr : \u001b[0m 30\n",
      "\u001b[1m\u001b[33mD_curr : \u001b[0m 0.0015 0.0024 0.0031 0.0028 0.0036 0.0036 0.0042 0.0024 0.0031 0.0\n",
      "\u001b[1m\u001b[33mDprime : \u001b[0m 0.0014 0.0022 0.0028 0.0028 0.0036 0.0036 0.0042 0.0024 0.0031 0.0\n",
      "\u001b[1m\u001b[31mtotal execution time : \u001b[0m 0.0334\n",
      "\n",
      "\u001b[5m\u001b[7m\u001b[35m  || ANALYSIS || \n",
      "\u001b[0m\n",
      "[40] Generated RAND Dprime : 0.0008 0.0037 0.0055 0.003 0.0023 0.0062 0.0078 0.0039 0.0032 0.0\n",
      "[35] Generated RAND Dprime : 0.0068 0.006 0.0015 0.0038 0.0 0.0022 0.0014 0.0057 0.0017 0.0066\n",
      "\u001b[34mTO EXPLORE : \u001b[0m\n",
      "\u001b[32m30\u001b[0m -> 0.0015 0.0024 0.0031 0.0028 0.0036 0.0036 0.0042 0.0024 0.0031 0.0\n",
      "\u001b[32m35\u001b[0m -> 0.0068 0.006 0.0015 0.0038 0.0 0.0022 0.0014 0.0057 0.0017 0.0066\n",
      "\u001b[32m40\u001b[0m -> 0.0008 0.0037 0.0055 0.003 0.0023 0.0062 0.0078 0.0039 0.0032 0.0\n",
      "\u001b[32m35\u001b[0m -> 0.0 0.0 0.0 0.0 0.0 0.0 0.0 0.0 0.0 0.0\n",
      "\u001b[32m40\u001b[0m -> 0.0 0.0 0.0 0.0 0.0 0.0 0.0 0.0 0.0 0.0\n",
      "\u001b[32m45\u001b[0m -> 0.0 0.0 0.0 0.0 0.0 0.0 0.0 0.0 0.0 0.0\n",
      "\u001b[32m50\u001b[0m -> 0.0 0.0 0.0 0.0 0.0 0.0 0.0 0.0 0.0 0.0\n",
      "\u001b[32m55\u001b[0m -> 0.0 0.0 0.0 0.0 0.0 0.0 0.0 0.0 0.0 0.0\n",
      "\u001b[32m60\u001b[0m -> 0.0 0.0 0.0 0.0 0.0 0.0 0.0 0.0 0.0 0.0\n",
      "\u001b[32m65\u001b[0m -> 0.0 0.0 0.0 0.0 0.0 0.0 0.0 0.0 0.0 0.0\n",
      "\u001b[32m70\u001b[0m -> 0.0 0.0 0.0 0.0 0.0 0.0 0.0 0.0 0.0 0.0\n",
      "\u001b[32m75\u001b[0m -> 0.0 0.0 0.0 0.0 0.0 0.0 0.0 0.0 0.0 0.0\n",
      "\u001b[32m80\u001b[0m -> 0.0 0.0 0.0 0.0 0.0 0.0 0.0 0.0 0.0 0.0\n",
      "\u001b[32m85\u001b[0m -> 0.0 0.0 0.0 0.0 0.0 0.0 0.0 0.0 0.0 0.0\n",
      "\u001b[32m90\u001b[0m -> 0.0 0.0 0.0 0.0 0.0 0.0 0.0 0.0 0.0 0.0\n",
      "\u001b[32m95\u001b[0m -> 0.0 0.0 0.0 0.0 0.0 0.0 0.0 0.0 0.0 0.0\n",
      "\u001b[5m\u001b[7m\u001b[31m--------------------------------------------  ROUND :  7   --------------------------------------------\n",
      "\u001b[0m\n",
      "\u001b[5m\u001b[7m\u001b[32m  || LAUNCHING || \n",
      "\u001b[0m\n",
      "\u001b[34mTO EXPLORE : \u001b[0m\n",
      "\u001b[32m30\u001b[0m -> 0.0015 0.0024 0.0031 0.0028 0.0036 0.0036 0.0042 0.0024 0.0031 0.0\n",
      "\u001b[32m35\u001b[0m -> 0.0068 0.006 0.0015 0.0038 0.0 0.0022 0.0014 0.0057 0.0017 0.0066\n",
      "\u001b[32m40\u001b[0m -> 0.0008 0.0037 0.0055 0.003 0.0023 0.0062 0.0078 0.0039 0.0032 0.0\n",
      "\u001b[32m35\u001b[0m -> 0.0 0.0 0.0 0.0 0.0 0.0 0.0 0.0 0.0 0.0\n",
      "\u001b[32m40\u001b[0m -> 0.0 0.0 0.0 0.0 0.0 0.0 0.0 0.0 0.0 0.0\n",
      "\u001b[32m45\u001b[0m -> 0.0 0.0 0.0 0.0 0.0 0.0 0.0 0.0 0.0 0.0\n",
      "\u001b[32m50\u001b[0m -> 0.0 0.0 0.0 0.0 0.0 0.0 0.0 0.0 0.0 0.0\n",
      "\u001b[32m55\u001b[0m -> 0.0 0.0 0.0 0.0 0.0 0.0 0.0 0.0 0.0 0.0\n",
      "\u001b[32m60\u001b[0m -> 0.0 0.0 0.0 0.0 0.0 0.0 0.0 0.0 0.0 0.0\n",
      "\u001b[32m65\u001b[0m -> 0.0 0.0 0.0 0.0 0.0 0.0 0.0 0.0 0.0 0.0\n",
      "\u001b[32m70\u001b[0m -> 0.0 0.0 0.0 0.0 0.0 0.0 0.0 0.0 0.0 0.0\n",
      "\u001b[32m75\u001b[0m -> 0.0 0.0 0.0 0.0 0.0 0.0 0.0 0.0 0.0 0.0\n",
      "\u001b[32m80\u001b[0m -> 0.0 0.0 0.0 0.0 0.0 0.0 0.0 0.0 0.0 0.0\n",
      "\u001b[32m85\u001b[0m -> 0.0 0.0 0.0 0.0 0.0 0.0 0.0 0.0 0.0 0.0\n",
      "\u001b[32m90\u001b[0m -> 0.0 0.0 0.0 0.0 0.0 0.0 0.0 0.0 0.0 0.0\n",
      "\u001b[32m95\u001b[0m -> 0.0 0.0 0.0 0.0 0.0 0.0 0.0 0.0 0.0 0.0\n",
      "grisou-47 => 0 NPROCS = 10 MIN = 30 MAX = 35 N = 100 DELAY = '0.0015 0.0024 0.0031 0.0028 0.0036 0.0036 0.0042 0.0024 0.0031 0.0'\n",
      "\n",
      "grisou-48 => 1 NPROCS = 10 MIN = 35 MAX = 40 N = 100 DELAY = '0.0068 0.006 0.0015 0.0038 0.0 0.0022 0.0014 0.0057 0.0017 0.0066'\n",
      "\n",
      "grisou-5 => 2 NPROCS = 10 MIN = 40 MAX = 45 N = 100 DELAY = '0.0008 0.0037 0.0055 0.003 0.0023 0.0062 0.0078 0.0039 0.0032 0.0'\n",
      "\n",
      "pj_dump DONE\n"
     ]
    },
    {
     "name": "stderr",
     "output_type": "stream",
     "text": [
      "/home/nezzine/.local/lib/python3.5/site-packages/rpy2/robjects/pandas2ri.py:191: FutureWarning: from_items is deprecated. Please use DataFrame.from_dict(dict(items), ...) instead. DataFrame.from_dict(OrderedDict(items)) may be used to preserve the key order.\n",
      "  res = PandasDataFrame.from_items(items)\n"
     ]
    },
    {
     "data": {
      "text/plain": [
       "'data.frame':\t126 obs. of  7 variables:\n",
       " $ Rank    : num  0 0 0 0 0 0 0 0 0 0 ...\n",
       " $ Start   : num  0 0.000105 0.000105 0.000105 0.000105 ...\n",
       " $ End     : num  0.00983 0.00155 0.00166 0.00166 0.00167 ...\n",
       " $ Duration: num  0.00983 0.00145 0.00155 0.00155 0.00157 ...\n",
       " $ State   : Factor w/ 14 levels \"\",\"PMPI_Bcast\",..: 1 5 5 5 5 6 7 13 9 9 ...\n",
       " $ NA      : Factor w/ 11 levels \"\",\"rank-0\",\"rank-1\",..: 1 3 10 4 6 4 5 11 7 8 ...\n",
       " $ NA.1    : Factor w/ 46 levels \"\",\"0_1_-3334_27\",..: 1 3 7 5 6 9 14 44 25 28 ...\n"
      ]
     },
     "metadata": {},
     "output_type": "display_data"
    },
    {
     "data": {
      "image/png": "[encoded data removed]"
     },
     "metadata": {},
     "output_type": "display_data"
    },
    {
     "name": "stdout",
     "output_type": "stream",
     "text": [
      "pj_dump DONE\n"
     ]
    },
    {
     "name": "stderr",
     "output_type": "stream",
     "text": [
      "/home/nezzine/.local/lib/python3.5/site-packages/rpy2/robjects/pandas2ri.py:191: FutureWarning: from_items is deprecated. Please use DataFrame.from_dict(dict(items), ...) instead. DataFrame.from_dict(OrderedDict(items)) may be used to preserve the key order.\n",
      "  res = PandasDataFrame.from_items(items)\n"
     ]
    },
    {
     "data": {
      "text/plain": [
       "'data.frame':\t126 obs. of  7 variables:\n",
       " $ Rank    : num  0 0 0 0 0 0 0 0 0 0 ...\n",
       " $ Start   : num  0 0.000154 0.000154 0.000154 0.000154 ...\n",
       " $ End     : num  0.00936 0.00128 0.00152 0.00165 0.00168 ...\n",
       " $ Duration: num  0.00936 0.00112 0.00136 0.0015 0.00153 ...\n",
       " $ State   : Factor w/ 14 levels \"\",\"PMPI_Bcast\",..: 1 10 10 10 10 8 11 12 14 14 ...\n",
       " $ NA      : Factor w/ 11 levels \"\",\"rank-0\",\"rank-1\",..: 1 8 5 9 11 6 9 10 2 3 ...\n",
       " $ NA.1    : Factor w/ 46 levels \"\",\"0_1_-3334_21\",..: 1 20 18 22 23 14 27 31 40 43 ...\n"
      ]
     },
     "metadata": {},
     "output_type": "display_data"
    },
    {
     "data": {
      "image/png": "[encoded data removed]"
     },
     "metadata": {},
     "output_type": "display_data"
    },
    {
     "name": "stdout",
     "output_type": "stream",
     "text": [
      "pj_dump DONE\n"
     ]
    },
    {
     "name": "stderr",
     "output_type": "stream",
     "text": [
      "/home/nezzine/.local/lib/python3.5/site-packages/rpy2/robjects/pandas2ri.py:191: FutureWarning: from_items is deprecated. Please use DataFrame.from_dict(dict(items), ...) instead. DataFrame.from_dict(OrderedDict(items)) may be used to preserve the key order.\n",
      "  res = PandasDataFrame.from_items(items)\n"
     ]
    },
    {
     "data": {
      "text/plain": [
       "'data.frame':\t126 obs. of  7 variables:\n",
       " $ Rank    : num  0 0 0 0 0 0 0 0 0 0 ...\n",
       " $ Start   : num  0.0 5.6e-05 5.6e-05 5.6e-05 5.6e-05 ...\n",
       " $ End     : num  0.0097 0.00145 0.00159 0.00162 0.00168 ...\n",
       " $ Duration: num  0.0097 0.0014 0.00153 0.00157 0.00163 ...\n",
       " $ State   : Factor w/ 14 levels \"\",\"PMPI_Bcast\",..: 1 5 5 5 5 13 9 9 6 7 ...\n",
       " $ NA      : Factor w/ 11 levels \"\",\"rank-0\",\"rank-1\",..: 1 6 10 3 4 11 7 8 4 5 ...\n",
       " $ NA.1    : Factor w/ 46 levels \"\",\"0_1_-3334_27\",..: 1 6 7 3 5 44 27 29 8 14 ...\n"
      ]
     },
     "metadata": {},
     "output_type": "display_data"
    },
    {
     "data": {
      "image/png": "[encoded data removed]"
     },
     "metadata": {},
     "output_type": "display_data"
    },
    {
     "name": "stdout",
     "output_type": "stream",
     "text": [
      "\u001b[33mT_curr : \u001b[0m 30\n",
      "\u001b[33mD_curr : \u001b[0m 0.0015 0.0024 0.0031 0.0028 0.0036 0.0036 0.0042 0.0024 0.0031 0.0\n",
      "\u001b[33mDprime : \u001b[0m 0.0035 0.0041 0.0021 0.0027 0.0 0.0016 0.0023 0.003 0.0027 0.0035\n",
      "\u001b[31mtotal execution time : \u001b[0m 0.0334\n",
      "\n",
      "\u001b[5m\u001b[7m\u001b[31m\n",
      "  || RESULTS || \n",
      "\u001b[0m\n",
      "\u001b[34mTO EXPLORE : \u001b[0m\n",
      "\u001b[32m35\u001b[0m -> 0.0 0.0 0.0 0.0 0.0 0.0 0.0 0.0 0.0 0.0\n",
      "\u001b[32m40\u001b[0m -> 0.0 0.0 0.0 0.0 0.0 0.0 0.0 0.0 0.0 0.0\n",
      "\u001b[32m45\u001b[0m -> 0.0 0.0 0.0 0.0 0.0 0.0 0.0 0.0 0.0 0.0\n",
      "\u001b[32m50\u001b[0m -> 0.0 0.0 0.0 0.0 0.0 0.0 0.0 0.0 0.0 0.0\n",
      "\u001b[32m55\u001b[0m -> 0.0 0.0 0.0 0.0 0.0 0.0 0.0 0.0 0.0 0.0\n",
      "\u001b[32m60\u001b[0m -> 0.0 0.0 0.0 0.0 0.0 0.0 0.0 0.0 0.0 0.0\n",
      "\u001b[32m65\u001b[0m -> 0.0 0.0 0.0 0.0 0.0 0.0 0.0 0.0 0.0 0.0\n",
      "\u001b[32m70\u001b[0m -> 0.0 0.0 0.0 0.0 0.0 0.0 0.0 0.0 0.0 0.0\n",
      "\u001b[32m75\u001b[0m -> 0.0 0.0 0.0 0.0 0.0 0.0 0.0 0.0 0.0 0.0\n",
      "\u001b[32m80\u001b[0m -> 0.0 0.0 0.0 0.0 0.0 0.0 0.0 0.0 0.0 0.0\n",
      "\u001b[32m85\u001b[0m -> 0.0 0.0 0.0 0.0 0.0 0.0 0.0 0.0 0.0 0.0\n",
      "\u001b[32m90\u001b[0m -> 0.0 0.0 0.0 0.0 0.0 0.0 0.0 0.0 0.0 0.0\n",
      "\u001b[32m95\u001b[0m -> 0.0 0.0 0.0 0.0 0.0 0.0 0.0 0.0 0.0 0.0\n",
      "\u001b[35m0\u001b[0m\n",
      "\t\u001b[35m0.0 0.0 0.0 0.0 0.0 0.0 0.0 0.0 0.0 0.0\u001b[0m\n",
      "\t\t('0.0037 0.0043 0.0025 0.0031 0.0 0.0016 0.0025 0.0031 0.0028 0.0037', 1, 0, 0.0054)\n",
      "\u001b[35m5\u001b[0m\n",
      "\t\u001b[35m0.0 0.0 0.0 0.0 0.0 0.0 0.0 0.0 0.0 0.0\u001b[0m\n",
      "\t\t('0.0016 0.0025 0.0031 0.0028 0.0037 0.0037 0.0043 0.0025 0.0031 0.0', 1, 1, 0.0054)\n",
      "\t\u001b[35m0.0037 0.0043 0.0025 0.0031 0.0 0.0016 0.0025 0.0031 0.0028 0.0037\u001b[0m\n",
      "\t\t('0.0015 0.0024 0.0031 0.0028 0.0036 0.0036 0.0042 0.0024 0.0031 0.0', 2, 0, 0.0056)\n",
      "\u001b[35m10\u001b[0m\n",
      "\t\u001b[35m0.0 0.0 0.0 0.0 0.0 0.0 0.0 0.0 0.0 0.0\u001b[0m\n",
      "\t\t('0.0037 0.0043 0.0025 0.0031 0.0 0.0016 0.0025 0.0031 0.0028 0.0037', 1, 2, 0.0054)\n",
      "\t\u001b[35m0.0008 0.0043 0.0059 0.0042 0.0034 0.0052 0.0065 0.0008 0.0056 0.0\u001b[0m\n",
      "\t\t('0.0037 0.0043 0.0026 0.0032 0.0 0.0016 0.0026 0.0032 0.0029 0.0037', 2, 1, 0.0058)\n",
      "\t\u001b[35m0.0015 0.0024 0.0031 0.0028 0.0036 0.0036 0.0042 0.0024 0.0031 0.0\u001b[0m\n",
      "\t\t('0.0036 0.0042 0.0024 0.0031 0.0 0.0015 0.0024 0.0031 0.0028 0.0036', 3, 0, 0.0056)\n",
      "\u001b[35m15\u001b[0m\n",
      "\t\u001b[35m0.0069 0.0085 0.0007 0.0034 0.0 0.0001 0.0005 0.005 0.0023 0.0025\u001b[0m\n",
      "\t\t('0.0015 0.0023 0.003 0.0027 0.0035 0.0035 0.0041 0.0021 0.0027 0.0', 3, 1, 0.0055)\n",
      "\t\u001b[35m0.0026 0.0053 0.0023 0.0053 0.0 0.0021 0.0023 0.0048 0.0032 0.0018\u001b[0m\n",
      "\t\t('0.0016 0.0025 0.0031 0.0028 0.0037 0.0037 0.0043 0.0026 0.0032 0.0', 2, 2, 0.0057)\n",
      "\t\u001b[35m0.0036 0.0042 0.0024 0.0031 0.0 0.0015 0.0024 0.0031 0.0028 0.0036\u001b[0m\n",
      "\t\t('0.0015 0.0024 0.0031 0.0028 0.0036 0.0036 0.0042 0.0024 0.0031 0.0', 4, 0, 0.0056)\n",
      "\u001b[35m20\u001b[0m\n",
      "\t\u001b[35m0.0015 0.0024 0.0031 0.0028 0.0036 0.0036 0.0042 0.0024 0.0031 0.0\u001b[0m\n",
      "\t\t('0.0036 0.0042 0.0024 0.0031 0.0 0.0015 0.0024 0.0031 0.0028 0.0036', 5, 0, 0.0056)\n",
      "\t\u001b[35m0.0027 0.001 0.0019 0.001 0.0003 0.0012 0.0056 0.0019 0.0031 0.0\u001b[0m\n",
      "\t\t('0.0036 0.0042 0.0024 0.003 0.0 0.0015 0.0024 0.003 0.0028 0.0036', 4, 1, 0.0056)\n",
      "\t\u001b[35m0.0021 0.0015 0.0021 0.0021 0.0027 0.0062 0.0036 0.0039 0.005 0.0\u001b[0m\n",
      "\t\t('0.0036 0.0042 0.0023 0.003 0.0 0.0013 0.002 0.0027 0.0028 0.0036', 3, 2, 0.0052)\n",
      "\u001b[35m25\u001b[0m\n",
      "\t\u001b[35m0.0036 0.0042 0.0024 0.0031 0.0 0.0015 0.0024 0.0031 0.0028 0.0036\u001b[0m\n",
      "\t\t('0.0015 0.0024 0.0031 0.0028 0.0036 0.0036 0.0042 0.0024 0.0031 0.0', 6, 0, 0.0056)\n",
      "\t\u001b[35m0.0038 0.0061 0.0002 0.0012 0.0 0.0004 0.0004 0.0022 0.0007 0.0047\u001b[0m\n",
      "\t\t('0.0015 0.0022 0.0028 0.0026 0.0035 0.0035 0.0041 0.002 0.0026 0.0', 5, 1, 0.0052)\n",
      "\t\u001b[35m0.0061 0.0006 0.0017 0.0037 0.0 0.0002 0.0006 0.0024 0.0049 0.0047\u001b[0m\n",
      "\t\t('0.0014 0.0021 0.0027 0.0028 0.0036 0.0036 0.0042 0.0023 0.003 0.0', 4, 2, 0.0051)\n",
      "\u001b[35m30\u001b[0m\n",
      "\t\u001b[35m0.0015 0.0024 0.0031 0.0028 0.0036 0.0036 0.0042 0.0024 0.0031 0.0\u001b[0m\n",
      "\t\t('0.0036 0.0042 0.0024 0.0031 0.0 0.0015 0.0024 0.0031 0.0028 0.0036', 7, 0, 0.0056)\n",
      "\t\u001b[35m0.0027 0.0035 0.005 0.0031 0.0038 0.0045 0.0075 0.0001 0.0004 0.0\u001b[0m\n",
      "\t\t('0.0034 0.004 0.0019 0.0025 0.0 0.0014 0.0021 0.0027 0.0025 0.0034', 5, 2, 0.0054)\n",
      "\t\u001b[35m0.0024 0.0014 0.0028 0.0005 0.0065 0.0025 0.0073 0.0038 0.0012 0.0\u001b[0m\n",
      "\t\t('0.0036 0.0042 0.0022 0.0029 0.0 0.0015 0.0024 0.003 0.0027 0.0036', 6, 1, 0.0053)\n",
      "\u001b[35m35\u001b[0m\n",
      "\t\u001b[35m0.0068 0.006 0.0015 0.0038 0.0 0.0022 0.0014 0.0057 0.0017 0.0066\u001b[0m\n",
      "\t\t('0.0014 0.0021 0.0027 0.0025 0.0033 0.0033 0.004 0.0018 0.0025 0.0', 7, 1, 0.0054)\n",
      "\t\u001b[35m0.0051 0.0036 0.0005 0.0049 0.0 0.0023 0.0015 0.0028 0.0007 0.001\u001b[0m\n",
      "\t\t('0.0014 0.0022 0.0028 0.0028 0.0036 0.0036 0.0042 0.0024 0.0031 0.0', 6, 2, 0.0054)\n",
      "\u001b[35m40\u001b[0m\n",
      "\t\u001b[35m0.0008 0.0037 0.0055 0.003 0.0023 0.0062 0.0078 0.0039 0.0032 0.0\u001b[0m\n",
      "\t\t('0.0035 0.0041 0.0021 0.0027 0.0 0.0016 0.0023 0.003 0.0027 0.0035', 7, 2, 0.0056)\n",
      "\u001b[1m\u001b[33mT_curr : \u001b[0m 35\n",
      "\u001b[1m\u001b[33mD_curr : \u001b[0m 0.0036 0.0042 0.0024 0.0031 0.0 0.0015 0.0024 0.0031 0.0028 0.0036\n",
      "\u001b[1m\u001b[33mDprime : \u001b[0m 0.0035 0.0041 0.0021 0.0027 0.0 0.0016 0.0023 0.003 0.0027 0.0035\n",
      "\u001b[1m\u001b[31mtotal execution time : \u001b[0m 0.039\n",
      "\n",
      "\u001b[5m\u001b[7m\u001b[35m  || ANALYSIS || \n",
      "\u001b[0m\n",
      "[45] Generated RAND Dprime : 0.0055 0.0041 0.0002 0.0023 0.0 0.0004 0.0025 0.0016 0.0031 0.0063\n",
      "[40] Generated RAND Dprime : 0.0011 0.0026 0.0007 0.0017 0.0055 0.0024 0.0062 0.0014 0.0048 0.0\n",
      "\u001b[34mTO EXPLORE : \u001b[0m\n",
      "\u001b[32m35\u001b[0m -> 0.0036 0.0042 0.0024 0.0031 0.0 0.0015 0.0024 0.0031 0.0028 0.0036\n",
      "\u001b[32m40\u001b[0m -> 0.0011 0.0026 0.0007 0.0017 0.0055 0.0024 0.0062 0.0014 0.0048 0.0\n",
      "\u001b[32m45\u001b[0m -> 0.0055 0.0041 0.0002 0.0023 0.0 0.0004 0.0025 0.0016 0.0031 0.0063\n",
      "\u001b[32m40\u001b[0m -> 0.0 0.0 0.0 0.0 0.0 0.0 0.0 0.0 0.0 0.0\n",
      "\u001b[32m45\u001b[0m -> 0.0 0.0 0.0 0.0 0.0 0.0 0.0 0.0 0.0 0.0\n",
      "\u001b[32m50\u001b[0m -> 0.0 0.0 0.0 0.0 0.0 0.0 0.0 0.0 0.0 0.0\n",
      "\u001b[32m55\u001b[0m -> 0.0 0.0 0.0 0.0 0.0 0.0 0.0 0.0 0.0 0.0\n",
      "\u001b[32m60\u001b[0m -> 0.0 0.0 0.0 0.0 0.0 0.0 0.0 0.0 0.0 0.0\n",
      "\u001b[32m65\u001b[0m -> 0.0 0.0 0.0 0.0 0.0 0.0 0.0 0.0 0.0 0.0\n",
      "\u001b[32m70\u001b[0m -> 0.0 0.0 0.0 0.0 0.0 0.0 0.0 0.0 0.0 0.0\n",
      "\u001b[32m75\u001b[0m -> 0.0 0.0 0.0 0.0 0.0 0.0 0.0 0.0 0.0 0.0\n",
      "\u001b[32m80\u001b[0m -> 0.0 0.0 0.0 0.0 0.0 0.0 0.0 0.0 0.0 0.0\n",
      "\u001b[32m85\u001b[0m -> 0.0 0.0 0.0 0.0 0.0 0.0 0.0 0.0 0.0 0.0\n",
      "\u001b[32m90\u001b[0m -> 0.0 0.0 0.0 0.0 0.0 0.0 0.0 0.0 0.0 0.0\n",
      "\u001b[32m95\u001b[0m -> 0.0 0.0 0.0 0.0 0.0 0.0 0.0 0.0 0.0 0.0\n",
      "\u001b[5m\u001b[7m\u001b[31m--------------------------------------------  ROUND :  8   --------------------------------------------\n",
      "\u001b[0m\n",
      "\u001b[5m\u001b[7m\u001b[32m  || LAUNCHING || \n",
      "\u001b[0m\n",
      "\u001b[34mTO EXPLORE : \u001b[0m\n",
      "\u001b[32m35\u001b[0m -> 0.0036 0.0042 0.0024 0.0031 0.0 0.0015 0.0024 0.0031 0.0028 0.0036\n",
      "\u001b[32m40\u001b[0m -> 0.0011 0.0026 0.0007 0.0017 0.0055 0.0024 0.0062 0.0014 0.0048 0.0\n",
      "\u001b[32m45\u001b[0m -> 0.0055 0.0041 0.0002 0.0023 0.0 0.0004 0.0025 0.0016 0.0031 0.0063\n",
      "\u001b[32m40\u001b[0m -> 0.0 0.0 0.0 0.0 0.0 0.0 0.0 0.0 0.0 0.0\n",
      "\u001b[32m45\u001b[0m -> 0.0 0.0 0.0 0.0 0.0 0.0 0.0 0.0 0.0 0.0\n",
      "\u001b[32m50\u001b[0m -> 0.0 0.0 0.0 0.0 0.0 0.0 0.0 0.0 0.0 0.0\n",
      "\u001b[32m55\u001b[0m -> 0.0 0.0 0.0 0.0 0.0 0.0 0.0 0.0 0.0 0.0\n",
      "\u001b[32m60\u001b[0m -> 0.0 0.0 0.0 0.0 0.0 0.0 0.0 0.0 0.0 0.0\n",
      "\u001b[32m65\u001b[0m -> 0.0 0.0 0.0 0.0 0.0 0.0 0.0 0.0 0.0 0.0\n",
      "\u001b[32m70\u001b[0m -> 0.0 0.0 0.0 0.0 0.0 0.0 0.0 0.0 0.0 0.0\n",
      "\u001b[32m75\u001b[0m -> 0.0 0.0 0.0 0.0 0.0 0.0 0.0 0.0 0.0 0.0\n",
      "\u001b[32m80\u001b[0m -> 0.0 0.0 0.0 0.0 0.0 0.0 0.0 0.0 0.0 0.0\n",
      "\u001b[32m85\u001b[0m -> 0.0 0.0 0.0 0.0 0.0 0.0 0.0 0.0 0.0 0.0\n",
      "\u001b[32m90\u001b[0m -> 0.0 0.0 0.0 0.0 0.0 0.0 0.0 0.0 0.0 0.0\n",
      "\u001b[32m95\u001b[0m -> 0.0 0.0 0.0 0.0 0.0 0.0 0.0 0.0 0.0 0.0\n",
      "grisou-47 => 0 NPROCS = 10 MIN = 35 MAX = 40 N = 100 DELAY = '0.0036 0.0042 0.0024 0.0031 0.0 0.0015 0.0024 0.0031 0.0028 0.0036'\n",
      "\n",
      "grisou-48 => 1 NPROCS = 10 MIN = 40 MAX = 45 N = 100 DELAY = '0.0011 0.0026 0.0007 0.0017 0.0055 0.0024 0.0062 0.0014 0.0048 0.0'\n",
      "\n",
      "grisou-5 => 2 NPROCS = 10 MIN = 45 MAX = 50 N = 100 DELAY = '0.0055 0.0041 0.0002 0.0023 0.0 0.0004 0.0025 0.0016 0.0031 0.0063'\n",
      "\n",
      "pj_dump DONE\n"
     ]
    },
    {
     "name": "stderr",
     "output_type": "stream",
     "text": [
      "/home/nezzine/.local/lib/python3.5/site-packages/rpy2/robjects/pandas2ri.py:191: FutureWarning: from_items is deprecated. Please use DataFrame.from_dict(dict(items), ...) instead. DataFrame.from_dict(OrderedDict(items)) may be used to preserve the key order.\n",
      "  res = PandasDataFrame.from_items(items)\n"
     ]
    },
    {
     "data": {
      "text/plain": [
       "'data.frame':\t126 obs. of  7 variables:\n",
       " $ Rank    : num  0 0 0 0 0 0 0 0 0 0 ...\n",
       " $ Start   : num  0 0.000105 0.000105 0.000105 0.000105 ...\n",
       " $ End     : num  0.00983 0.00155 0.00166 0.00166 0.00167 ...\n",
       " $ Duration: num  0.00983 0.00145 0.00155 0.00155 0.00157 ...\n",
       " $ State   : Factor w/ 14 levels \"\",\"PMPI_Bcast\",..: 1 10 10 10 10 11 8 12 14 14 ...\n",
       " $ NA      : Factor w/ 11 levels \"\",\"rank-0\",\"rank-1\",..: 1 8 9 5 11 9 6 10 2 3 ...\n",
       " $ NA.1    : Factor w/ 46 levels \"\",\"0_1_-3334_21\",..: 1 20 22 18 23 27 12 33 40 43 ...\n"
      ]
     },
     "metadata": {},
     "output_type": "display_data"
    },
    {
     "data": {
      "image/png": "[encoded data removed]"
     },
     "metadata": {},
     "output_type": "display_data"
    },
    {
     "name": "stdout",
     "output_type": "stream",
     "text": [
      "pj_dump DONE\n"
     ]
    },
    {
     "name": "stderr",
     "output_type": "stream",
     "text": [
      "/home/nezzine/.local/lib/python3.5/site-packages/rpy2/robjects/pandas2ri.py:191: FutureWarning: from_items is deprecated. Please use DataFrame.from_dict(dict(items), ...) instead. DataFrame.from_dict(OrderedDict(items)) may be used to preserve the key order.\n",
      "  res = PandasDataFrame.from_items(items)\n"
     ]
    },
    {
     "data": {
      "text/plain": [
       "'data.frame':\t126 obs. of  7 variables:\n",
       " $ Rank    : num  0 0 0 0 0 0 0 0 0 0 ...\n",
       " $ Start   : num  0.0 7.7e-05 7.7e-05 7.7e-05 7.7e-05 ...\n",
       " $ End     : num  0.00904 0.0012 0.00142 0.00158 0.0016 ...\n",
       " $ Duration: num  0.00904 0.00112 0.00135 0.0015 0.00152 ...\n",
       " $ State   : Factor w/ 14 levels \"\",\"PMPI_Bcast\",..: 1 5 5 5 5 7 6 13 9 9 ...\n",
       " $ NA      : Factor w/ 11 levels \"\",\"rank-0\",\"rank-1\",..: 1 4 3 10 6 5 4 11 7 8 ...\n",
       " $ NA.1    : Factor w/ 46 levels \"\",\"0_1_-3334_28\",..: 1 5 3 7 6 16 9 42 25 28 ...\n"
      ]
     },
     "metadata": {},
     "output_type": "display_data"
    },
    {
     "data": {
      "image/png": "[encoded data removed]"
     },
     "metadata": {},
     "output_type": "display_data"
    },
    {
     "name": "stdout",
     "output_type": "stream",
     "text": [
      "pj_dump DONE\n"
     ]
    },
    {
     "name": "stderr",
     "output_type": "stream",
     "text": [
      "/home/nezzine/.local/lib/python3.5/site-packages/rpy2/robjects/pandas2ri.py:191: FutureWarning: from_items is deprecated. Please use DataFrame.from_dict(dict(items), ...) instead. DataFrame.from_dict(OrderedDict(items)) may be used to preserve the key order.\n",
      "  res = PandasDataFrame.from_items(items)\n"
     ]
    },
    {
     "data": {
      "text/plain": [
       "'data.frame':\t126 obs. of  7 variables:\n",
       " $ Rank    : num  0 0 0 0 0 0 0 0 0 0 ...\n",
       " $ Start   : num  0.0 2.8e-05 2.8e-05 2.8e-05 2.8e-05 ...\n",
       " $ End     : num  0.00919 0.0014 0.00151 0.00152 0.00165 ...\n",
       " $ Duration: num  0.00919 0.00138 0.00148 0.0015 0.00162 ...\n",
       " $ State   : Factor w/ 14 levels \"\",\"PMPI_Bcast\",..: 1 10 10 10 10 12 8 11 14 14 ...\n",
       " $ NA      : Factor w/ 11 levels \"\",\"rank-0\",\"rank-1\",..: 1 9 5 8 11 10 6 9 2 3 ...\n",
       " $ NA.1    : Factor w/ 46 levels \"\",\"0_1_-3334_21\",..: 1 22 18 20 23 33 14 26 40 43 ...\n"
      ]
     },
     "metadata": {},
     "output_type": "display_data"
    }
   ],
   "source": [
    "DEBUG = True\n",
    "# Nbr pcs\n",
    "NPROCS = 10\n",
    "    \n",
    "# Nbr itérations\n",
    "N = 100\n",
    "\n",
    "# taille paquet d'itérations\n",
    "fragment_size = 5\n",
    "\n",
    "# Precision désirée pour le recollement des trajectoires\n",
    "precision = 4\n",
    "\n",
    "# mode de génération de l'état initial à chaque round\n",
    "mode_opt = [\"FIX\", \"RAND\", \"RAND_INF\", \"RAND_SUP\"]\n",
    "mode = mode_opt[1]\n",
    "\n",
    "catch_me = False\n",
    "\n",
    "\n",
    "\n",
    "# Lancement de la simulation\n",
    "simulation(N, NPROCS, fragment_size, precision, mode, catch_me)"
   ]
  },
  {
   "cell_type": "code",
   "execution_count": null,
   "metadata": {
    "scrolled": true
   },
   "outputs": [],
   "source": [
    "# Nbr pcs\n",
    "NPROCS = 1000\n",
    "    \n",
    "# Nbr itérations\n",
    "N = 100\n",
    "\n",
    "# taille paquet d'itérations\n",
    "fragment_size = 10\n",
    "\n",
    "precision = 4\n",
    "\n",
    "# mode de génération de l'état initial à chaque round\n",
    "mode_opt = [\"FIX\",\"RAND\",\"RAND_INF\",\"RAND_SUP\"]\n",
    "mode = mode_opt[1]\n",
    "\n",
    "catch_me = False\n",
    "\n",
    "# Lancement de la simulation\n",
    "simulation(N,NPROCS,fragment_size,precision,mode,catch_me)"
   ]
  },
  {
   "cell_type": "markdown",
   "metadata": {},
   "source": [
    "#### Publication des résultats sur GitHub : https://github.com/HooBaeBoo/Stage-POLARIS"
   ]
  },
  {
   "cell_type": "code",
   "execution_count": 97,
   "metadata": {},
   "outputs": [
    {
     "name": "stdout",
     "output_type": "stream",
     "text": [
      "[master 31c3f34] Automatic results update : Time_Bcast --- nancy Fix : ggplot2\n",
      " Committer: Najwa Ez Zine <nezzine@fnancy>\n",
      "Your name and email address were configured automatically based\n",
      "on your username and hostname. Please check that they are accurate.\n",
      "You can suppress this message by setting them explicitly. Run the\n",
      "following command and follow the instructions in your editor to edit\n",
      "your configuration file:\n",
      "\n",
      "    git config --global --edit\n",
      "\n",
      "After doing this, you may fix the identity used for this commit with:\n",
      "\n",
      "    git commit --amend --reset-author\n",
      "\n",
      " 45 files changed, 2047 insertions(+), 195 deletions(-)\n",
      " delete mode 100644 SimGrid/examples/SMPI/Time_Bcast/Time Broadcast.ipynb.invalid\n",
      " rewrite SimGrid/examples/SMPI/Time_Bcast/Time_Bcast.csv (74%)\n",
      " create mode 100644 SimGrid/examples/SMPI/Time_Bcast/Time_Bcast.state.csv\n",
      " create mode 100644 SimGrid/examples/SMPI/Time_Bcast/results/2018-07-09/grisou-44_2018-07-09_16:16.txt\n",
      " create mode 100644 SimGrid/examples/SMPI/Time_Bcast/results/2018-07-09/grisou-45_2018-07-09_16:16.txt\n",
      " create mode 100644 SimGrid/examples/SMPI/Time_Bcast/results/2018-07-09/grisou-46_2018-07-09_16:16.txt\n",
      " create mode 100644 SimGrid/examples/SMPI/Time_Bcast/results/2018-07-09/grisou-47_2018-07-09_16:16.txt\n",
      " create mode 100644 SimGrid/examples/SMPI/Time_Bcast/results/2018-07-10/grisou-47_2018-07-10_10:53.txt\n",
      " create mode 100644 SimGrid/examples/SMPI/Time_Bcast/results/2018-07-10/grisou-47_2018-07-10_10:54.txt\n",
      " create mode 100644 SimGrid/examples/SMPI/Time_Bcast/results/2018-07-10/grisou-47_2018-07-10_10:55.txt\n",
      " create mode 100644 SimGrid/examples/SMPI/Time_Bcast/results/2018-07-10/grisou-47_2018-07-10_10:57.txt\n",
      " create mode 100644 SimGrid/examples/SMPI/Time_Bcast/results/2018-07-10/grisou-47_2018-07-10_10:58.txt\n",
      " create mode 100644 SimGrid/examples/SMPI/Time_Bcast/results/2018-07-10/grisou-47_2018-07-10_11:03.txt\n",
      " create mode 100644 SimGrid/examples/SMPI/Time_Bcast/results/2018-07-10/grisou-47_2018-07-10_11:05.txt\n",
      " create mode 100644 SimGrid/examples/SMPI/Time_Bcast/results/2018-07-10/grisou-47_2018-07-10_11:06.txt\n",
      " create mode 100644 SimGrid/examples/SMPI/Time_Bcast/results/2018-07-10/grisou-47_2018-07-10_11:07.txt\n",
      " create mode 100644 SimGrid/examples/SMPI/Time_Bcast/results/2018-07-10/grisou-47_2018-07-10_11:10.txt\n",
      " create mode 100644 SimGrid/examples/SMPI/Time_Bcast/results/2018-07-10/grisou-47_2018-07-10_11:11.txt\n",
      " create mode 100644 SimGrid/examples/SMPI/Time_Bcast/results/2018-07-10/grisou-47_2018-07-10_11:13.txt\n",
      " create mode 100644 SimGrid/examples/SMPI/Time_Bcast/results/2018-07-10/grisou-47_2018-07-10_11:14.txt\n",
      " create mode 100644 SimGrid/examples/SMPI/Time_Bcast/results/2018-07-10/grisou-47_2018-07-10_11:15.txt\n",
      " create mode 100644 SimGrid/examples/SMPI/Time_Bcast/results/2018-07-10/grisou-47_2018-07-10_11:16.txt\n",
      " create mode 100644 SimGrid/examples/SMPI/Time_Bcast/results/2018-07-10/grisou-47_2018-07-10_11:17.txt\n",
      " create mode 100644 SimGrid/examples/SMPI/Time_Bcast/results/2018-07-10/grisou-47_2018-07-10_11:18.txt\n",
      " create mode 100644 SimGrid/examples/SMPI/Time_Bcast/results/2018-07-10/grisou-47_2018-07-10_11:19.txt\n",
      " create mode 100644 SimGrid/examples/SMPI/Time_Bcast/results/2018-07-10/grisou-47_2018-07-10_11:23.txt\n",
      " create mode 100644 SimGrid/examples/SMPI/Time_Bcast/results/2018-07-10/grisou-48_2018-07-10_10:53.txt\n",
      " create mode 100644 SimGrid/examples/SMPI/Time_Bcast/results/2018-07-10/grisou-48_2018-07-10_11:13.txt\n",
      " create mode 100644 SimGrid/examples/SMPI/Time_Bcast/results/2018-07-10/grisou-48_2018-07-10_11:14.txt\n",
      " create mode 100644 SimGrid/examples/SMPI/Time_Bcast/results/2018-07-10/grisou-48_2018-07-10_11:15.txt\n",
      " create mode 100644 SimGrid/examples/SMPI/Time_Bcast/results/2018-07-10/grisou-48_2018-07-10_11:16.txt\n",
      " create mode 100644 SimGrid/examples/SMPI/Time_Bcast/results/2018-07-10/grisou-48_2018-07-10_11:17.txt\n",
      " create mode 100644 SimGrid/examples/SMPI/Time_Bcast/results/2018-07-10/grisou-48_2018-07-10_11:18.txt\n",
      " create mode 100644 SimGrid/examples/SMPI/Time_Bcast/results/2018-07-10/grisou-48_2018-07-10_11:19.txt\n",
      " create mode 100644 SimGrid/examples/SMPI/Time_Bcast/results/2018-07-10/grisou-48_2018-07-10_11:23.txt\n",
      " create mode 100644 SimGrid/examples/SMPI/Time_Bcast/results/2018-07-10/grisou-5_2018-07-10_10:53.txt\n",
      " create mode 100644 SimGrid/examples/SMPI/Time_Bcast/results/2018-07-10/grisou-5_2018-07-10_11:13.txt\n",
      " create mode 100644 SimGrid/examples/SMPI/Time_Bcast/results/2018-07-10/grisou-5_2018-07-10_11:14.txt\n",
      " create mode 100644 SimGrid/examples/SMPI/Time_Bcast/results/2018-07-10/grisou-5_2018-07-10_11:15.txt\n",
      " create mode 100644 SimGrid/examples/SMPI/Time_Bcast/results/2018-07-10/grisou-5_2018-07-10_11:16.txt\n",
      " create mode 100644 SimGrid/examples/SMPI/Time_Bcast/results/2018-07-10/grisou-5_2018-07-10_11:17.txt\n",
      " create mode 100644 SimGrid/examples/SMPI/Time_Bcast/results/2018-07-10/grisou-5_2018-07-10_11:18.txt\n",
      " create mode 100644 SimGrid/examples/SMPI/Time_Bcast/results/2018-07-10/grisou-5_2018-07-10_11:19.txt\n",
      " create mode 100644 SimGrid/examples/SMPI/Time_Bcast/results/2018-07-10/grisou-5_2018-07-10_11:23.txt\n"
     ]
    }
   ],
   "source": [
    "%%bash -s $experiment_name $site\n",
    "git add .\n",
    "git commit -m 'Automatic results update : '\"$1\"' --- '\"$2 \"\"Fix : ggplot2\""
   ]
  },
  {
   "cell_type": "markdown",
   "metadata": {},
   "source": [
    "#### Fin d'expérience : suppression du job"
   ]
  },
  {
   "cell_type": "code",
   "execution_count": null,
   "metadata": {},
   "outputs": [],
   "source": [
    "oardel([(jobid,site)])"
   ]
  },
  {
   "cell_type": "markdown",
   "metadata": {},
   "source": [
    "### Zone Test (à ignorer)"
   ]
  },
  {
   "cell_type": "code",
   "execution_count": null,
   "metadata": {},
   "outputs": [],
   "source": [
    "sortie = execo.Process(cmd='ls').run().stdout\n",
    "execo.Process(cmd = 'echo '+str(sortie)+' >> test10').run()"
   ]
  },
  {
   "cell_type": "code",
   "execution_count": null,
   "metadata": {},
   "outputs": [],
   "source": [
    "execo.action.Remote(cmd = 'touch helllllllllllllllllllo', hosts = 'localhost').run()"
   ]
  }
 ],
 "metadata": {
  "kernelspec": {
   "display_name": "Python 3",
   "language": "python",
   "name": "python3"
  },
  "language_info": {
   "codemirror_mode": {
    "name": "ipython",
    "version": 3
   },
   "file_extension": ".py",
   "mimetype": "text/x-python",
   "name": "python",
   "nbconvert_exporter": "python",
   "pygments_lexer": "ipython3",
   "version": "3.5.3"
  }
 },
 "nbformat": 4,
 "nbformat_minor": 2
}
